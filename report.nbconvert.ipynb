{
 "cells": [
  {
   "cell_type": "code",
   "execution_count": 1,
   "metadata": {
    "execution": {
     "iopub.execute_input": "2022-06-27T08:36:15.724642Z",
     "iopub.status.busy": "2022-06-27T08:36:15.722090Z",
     "iopub.status.idle": "2022-06-27T08:36:16.405257Z",
     "shell.execute_reply": "2022-06-27T08:36:16.403890Z"
    }
   },
   "outputs": [],
   "source": [
    "import os\n",
    "import datetime\n",
    "from dotenv import load_dotenv\n",
    "import pandas as pd\n",
    "import altair as alt"
   ]
  },
  {
   "cell_type": "code",
   "execution_count": 2,
   "metadata": {
    "execution": {
     "iopub.execute_input": "2022-06-27T08:36:16.409746Z",
     "iopub.status.busy": "2022-06-27T08:36:16.409126Z",
     "iopub.status.idle": "2022-06-27T08:36:16.413318Z",
     "shell.execute_reply": "2022-06-27T08:36:16.412719Z"
    }
   },
   "outputs": [],
   "source": [
    "pd.options.display.max_rows = 50"
   ]
  },
  {
   "cell_type": "code",
   "execution_count": 3,
   "metadata": {
    "execution": {
     "iopub.execute_input": "2022-06-27T08:36:16.417385Z",
     "iopub.status.busy": "2022-06-27T08:36:16.416730Z",
     "iopub.status.idle": "2022-06-27T08:36:16.420889Z",
     "shell.execute_reply": "2022-06-27T08:36:16.420354Z"
    }
   },
   "outputs": [],
   "source": [
    "WIDTH = 650"
   ]
  },
  {
   "cell_type": "code",
   "execution_count": 4,
   "metadata": {
    "execution": {
     "iopub.execute_input": "2022-06-27T08:36:16.426998Z",
     "iopub.status.busy": "2022-06-27T08:36:16.425286Z",
     "iopub.status.idle": "2022-06-27T08:36:16.427774Z",
     "shell.execute_reply": "2022-06-27T08:36:16.428283Z"
    }
   },
   "outputs": [],
   "source": [
    "from IPython.display import Markdown\n",
    "from IPython.core.magic import register_cell_magic\n",
    "\n",
    "@register_cell_magic\n",
    "def markdown(line, cell):\n",
    "    return Markdown(cell.format(**globals()))"
   ]
  },
  {
   "cell_type": "code",
   "execution_count": 5,
   "metadata": {
    "execution": {
     "iopub.execute_input": "2022-06-27T08:36:16.433688Z",
     "iopub.status.busy": "2022-06-27T08:36:16.432122Z",
     "iopub.status.idle": "2022-06-27T08:36:16.434411Z",
     "shell.execute_reply": "2022-06-27T08:36:16.434920Z"
    }
   },
   "outputs": [],
   "source": [
    "load_dotenv()\n",
    "GH_TOKEN = os.getenv(\"GH_TOKEN\")"
   ]
  },
  {
   "cell_type": "markdown",
   "metadata": {},
   "source": [
    "# Living with Machines GitHub Statistics report\n",
    "This report provides some high level statistics about GitHub repositories contained under the [Living with Machines Organization](https://github.com/Living-with-machines). The report is mainly intended to provide some stats to aid in reporting to our funder."
   ]
  },
  {
   "cell_type": "markdown",
   "metadata": {},
   "source": [
    "### Contents\n",
    "* [Report details](#report-details)\n",
    "* [Report statistics](#repo-stats)\n",
    "    * [Overview of repositories](#repo-overview)\n",
    "    * [Repository file content](#repo-content)\n",
    "    * [Stars and Forks](#repo-stars)\n",
    "    * [Views](#repo-views)\n",
    "    * [Clones](#repo-clones)"
   ]
  },
  {
   "cell_type": "markdown",
   "metadata": {},
   "source": [
    "## Report details <a class=\"anchor\" id=\"report-details\"></a>"
   ]
  },
  {
   "cell_type": "code",
   "execution_count": 6,
   "metadata": {
    "execution": {
     "iopub.execute_input": "2022-06-27T08:36:16.446200Z",
     "iopub.status.busy": "2022-06-27T08:36:16.438171Z",
     "iopub.status.idle": "2022-06-27T08:36:16.451886Z",
     "shell.execute_reply": "2022-06-27T08:36:16.452427Z"
    }
   },
   "outputs": [
    {
     "data": {
      "text/markdown": [
       "This report is updated automatically every week, last generated on: **2022-06-27**"
      ],
      "text/plain": [
       "<IPython.core.display.Markdown object>"
      ]
     },
     "execution_count": 1,
     "metadata": {},
     "output_type": "execute_result"
    }
   ],
   "source": [
    "Markdown(f\"This report is updated automatically every week, last generated on: **{datetime.date.today()}**\")"
   ]
  },
  {
   "cell_type": "code",
   "execution_count": 7,
   "metadata": {
    "execution": {
     "iopub.execute_input": "2022-06-27T08:36:16.456870Z",
     "iopub.status.busy": "2022-06-27T08:36:16.456207Z",
     "iopub.status.idle": "2022-06-27T08:36:16.629712Z",
     "shell.execute_reply": "2022-06-27T08:36:16.629115Z"
    }
   },
   "outputs": [],
   "source": [
    "from gh_orgstats.stats import *"
   ]
  },
  {
   "cell_type": "code",
   "execution_count": 8,
   "metadata": {
    "execution": {
     "iopub.execute_input": "2022-06-27T08:36:16.634558Z",
     "iopub.status.busy": "2022-06-27T08:36:16.633892Z",
     "iopub.status.idle": "2022-06-27T08:36:16.878983Z",
     "shell.execute_reply": "2022-06-27T08:36:16.878234Z"
    }
   },
   "outputs": [],
   "source": [
    "lwm_stats = OrgStats(GH_TOKEN, \"Living-with-machines\")"
   ]
  },
  {
   "cell_type": "code",
   "execution_count": 9,
   "metadata": {
    "execution": {
     "iopub.execute_input": "2022-06-27T08:36:16.885751Z",
     "iopub.status.busy": "2022-06-27T08:36:16.885080Z",
     "iopub.status.idle": "2022-06-27T08:36:18.190872Z",
     "shell.execute_reply": "2022-06-27T08:36:18.190209Z"
    }
   },
   "outputs": [],
   "source": [
    "public_names = [repo.name for repo in lwm_stats.public_repos]"
   ]
  },
  {
   "cell_type": "markdown",
   "metadata": {},
   "source": [
    "# Repository Statistics <a class=\"anchor\" id=\"repo-stats\"></a>\n",
    "\n",
    "The rest of this document outlines some high level stats for GitHub repositories under the Living with Machines [GitHub Organization](github.com/living-with-machines)."
   ]
  },
  {
   "cell_type": "markdown",
   "metadata": {},
   "source": [
    "## Overview of repositories <a class=\"anchor\" id=\"repo-overview\"></a>\n",
    "\n",
    "Currently Living with Machines has the following public repositories: "
   ]
  },
  {
   "cell_type": "code",
   "execution_count": 10,
   "metadata": {
    "execution": {
     "iopub.execute_input": "2022-06-27T08:36:18.196417Z",
     "iopub.status.busy": "2022-06-27T08:36:18.195725Z",
     "iopub.status.idle": "2022-06-27T08:36:18.214367Z",
     "shell.execute_reply": "2022-06-27T08:36:18.214909Z"
    }
   },
   "outputs": [
    {
     "data": {
      "text/html": [
       "<div>\n",
       "<style scoped>\n",
       "    .dataframe tbody tr th:only-of-type {\n",
       "        vertical-align: middle;\n",
       "    }\n",
       "\n",
       "    .dataframe tbody tr th {\n",
       "        vertical-align: top;\n",
       "    }\n",
       "\n",
       "    .dataframe thead th {\n",
       "        text-align: right;\n",
       "    }\n",
       "</style>\n",
       "<table border=\"1\" class=\"dataframe\">\n",
       "  <thead>\n",
       "    <tr style=\"text-align: right;\">\n",
       "      <th></th>\n",
       "      <th>Repositories</th>\n",
       "    </tr>\n",
       "  </thead>\n",
       "  <tbody>\n",
       "    <tr>\n",
       "      <th>1</th>\n",
       "      <td>lwm_ARTIDIGH_2020_OCR_impact_downstream_NLP_tasks</td>\n",
       "    </tr>\n",
       "    <tr>\n",
       "      <th>2</th>\n",
       "      <td>lwm_GIR19_resolving_places</td>\n",
       "    </tr>\n",
       "    <tr>\n",
       "      <th>3</th>\n",
       "      <td>D3_JS_viz_in_a_Python_Jupyter_notebook</td>\n",
       "    </tr>\n",
       "    <tr>\n",
       "      <th>4</th>\n",
       "      <td>DeezyMatch</td>\n",
       "    </tr>\n",
       "    <tr>\n",
       "      <th>5</th>\n",
       "      <td>LwM_SIGSPATIAL2020_ToponymMatching</td>\n",
       "    </tr>\n",
       "    <tr>\n",
       "      <th>6</th>\n",
       "      <td>histLM</td>\n",
       "    </tr>\n",
       "    <tr>\n",
       "      <th>7</th>\n",
       "      <td>AzureAudit</td>\n",
       "    </tr>\n",
       "    <tr>\n",
       "      <th>8</th>\n",
       "      <td>maps-at-scale-hack-day-notebooks</td>\n",
       "    </tr>\n",
       "    <tr>\n",
       "      <th>9</th>\n",
       "      <td>deduplify</td>\n",
       "    </tr>\n",
       "    <tr>\n",
       "      <th>10</th>\n",
       "      <td>station-to-station</td>\n",
       "    </tr>\n",
       "    <tr>\n",
       "      <th>11</th>\n",
       "      <td>TargetedSenseDisambiguation</td>\n",
       "    </tr>\n",
       "    <tr>\n",
       "      <th>12</th>\n",
       "      <td>AtypicalAnimacy</td>\n",
       "    </tr>\n",
       "    <tr>\n",
       "      <th>13</th>\n",
       "      <td>nnanno</td>\n",
       "    </tr>\n",
       "    <tr>\n",
       "      <th>14</th>\n",
       "      <td>computer-vision-DHNordic-2020-workshop</td>\n",
       "    </tr>\n",
       "    <tr>\n",
       "      <th>15</th>\n",
       "      <td>maps-at-scale-using-computer-vision-and-jupyte...</td>\n",
       "    </tr>\n",
       "    <tr>\n",
       "      <th>16</th>\n",
       "      <td>gh_orgstats</td>\n",
       "    </tr>\n",
       "    <tr>\n",
       "      <th>17</th>\n",
       "      <td>GazFuse</td>\n",
       "    </tr>\n",
       "    <tr>\n",
       "      <th>18</th>\n",
       "      <td>github_stats_report</td>\n",
       "    </tr>\n",
       "    <tr>\n",
       "      <th>19</th>\n",
       "      <td>nnanno_example_data</td>\n",
       "    </tr>\n",
       "    <tr>\n",
       "      <th>20</th>\n",
       "      <td>hmd_newspaper_dl</td>\n",
       "    </tr>\n",
       "    <tr>\n",
       "      <th>21</th>\n",
       "      <td>PressPicker_public</td>\n",
       "    </tr>\n",
       "    <tr>\n",
       "      <th>22</th>\n",
       "      <td>Computer-Vision-for-the-Humanities-workshop</td>\n",
       "    </tr>\n",
       "    <tr>\n",
       "      <th>23</th>\n",
       "      <td>Jupyter-Notebooks-The-Weird-and-Wonderful</td>\n",
       "    </tr>\n",
       "    <tr>\n",
       "      <th>24</th>\n",
       "      <td>PressDirectories</td>\n",
       "    </tr>\n",
       "    <tr>\n",
       "      <th>25</th>\n",
       "      <td>MapReader</td>\n",
       "    </tr>\n",
       "    <tr>\n",
       "      <th>26</th>\n",
       "      <td>.github</td>\n",
       "    </tr>\n",
       "    <tr>\n",
       "      <th>27</th>\n",
       "      <td>genre-classification</td>\n",
       "    </tr>\n",
       "    <tr>\n",
       "      <th>28</th>\n",
       "      <td>subsamplr</td>\n",
       "    </tr>\n",
       "    <tr>\n",
       "      <th>29</th>\n",
       "      <td>image-search</td>\n",
       "    </tr>\n",
       "    <tr>\n",
       "      <th>30</th>\n",
       "      <td>zooniverse-analysis-workshop</td>\n",
       "    </tr>\n",
       "    <tr>\n",
       "      <th>31</th>\n",
       "      <td>hmd_url_generator</td>\n",
       "    </tr>\n",
       "  </tbody>\n",
       "</table>\n",
       "</div>"
      ],
      "text/plain": [
       "                                         Repositories\n",
       "1   lwm_ARTIDIGH_2020_OCR_impact_downstream_NLP_tasks\n",
       "2                          lwm_GIR19_resolving_places\n",
       "3              D3_JS_viz_in_a_Python_Jupyter_notebook\n",
       "4                                          DeezyMatch\n",
       "5                  LwM_SIGSPATIAL2020_ToponymMatching\n",
       "6                                              histLM\n",
       "7                                          AzureAudit\n",
       "8                    maps-at-scale-hack-day-notebooks\n",
       "9                                           deduplify\n",
       "10                                 station-to-station\n",
       "11                        TargetedSenseDisambiguation\n",
       "12                                    AtypicalAnimacy\n",
       "13                                             nnanno\n",
       "14             computer-vision-DHNordic-2020-workshop\n",
       "15  maps-at-scale-using-computer-vision-and-jupyte...\n",
       "16                                        gh_orgstats\n",
       "17                                            GazFuse\n",
       "18                                github_stats_report\n",
       "19                                nnanno_example_data\n",
       "20                                   hmd_newspaper_dl\n",
       "21                                 PressPicker_public\n",
       "22        Computer-Vision-for-the-Humanities-workshop\n",
       "23          Jupyter-Notebooks-The-Weird-and-Wonderful\n",
       "24                                   PressDirectories\n",
       "25                                          MapReader\n",
       "26                                            .github\n",
       "27                               genre-classification\n",
       "28                                          subsamplr\n",
       "29                                       image-search\n",
       "30                       zooniverse-analysis-workshop\n",
       "31                                  hmd_url_generator"
      ]
     },
     "execution_count": 1,
     "metadata": {},
     "output_type": "execute_result"
    }
   ],
   "source": [
    "df = pd.DataFrame(public_names,columns=['Repositories']); df.index +=1 \n",
    "df"
   ]
  },
  {
   "cell_type": "code",
   "execution_count": 11,
   "metadata": {
    "execution": {
     "iopub.execute_input": "2022-06-27T08:36:18.221590Z",
     "iopub.status.busy": "2022-06-27T08:36:18.220906Z",
     "iopub.status.idle": "2022-06-27T08:36:19.111163Z",
     "shell.execute_reply": "2022-06-27T08:36:19.110569Z"
    }
   },
   "outputs": [
    {
     "data": {
      "text/markdown": [
       "Additionaly Living with Machines has 29 private repositories which have not yet been published\n"
      ],
      "text/plain": [
       "<IPython.core.display.Markdown object>"
      ]
     },
     "execution_count": 1,
     "metadata": {},
     "output_type": "execute_result"
    }
   ],
   "source": [
    "%%markdown\n",
    "Additionaly Living with Machines has {lwm_stats.private_repo_count} private repositories which have not yet been published"
   ]
  },
  {
   "cell_type": "markdown",
   "metadata": {},
   "source": [
    "## Repository file content <a class=\"anchor\" id=\"repo-content\"></a>\n",
    "This section provides an overview of what type of content is in Living with Machines repositories by looking at the file extension counts **note that these counts are based only on default branches so will under count for private repositories**"
   ]
  },
  {
   "cell_type": "code",
   "execution_count": 12,
   "metadata": {
    "execution": {
     "iopub.execute_input": "2022-06-27T08:36:19.118047Z",
     "iopub.status.busy": "2022-06-27T08:36:19.117401Z",
     "iopub.status.idle": "2022-06-27T08:37:13.534857Z",
     "shell.execute_reply": "2022-06-27T08:37:13.533731Z"
    }
   },
   "outputs": [],
   "source": [
    "df = pd.DataFrame.from_dict(lwm_stats.get_org_file_ext_frequency(\"public\"))\n",
    "df_private = pd.DataFrame.from_dict(lwm_stats.get_org_file_ext_frequency(\"private\"))"
   ]
  },
  {
   "cell_type": "code",
   "execution_count": 13,
   "metadata": {
    "execution": {
     "iopub.execute_input": "2022-06-27T08:37:13.541019Z",
     "iopub.status.busy": "2022-06-27T08:37:13.540353Z",
     "iopub.status.idle": "2022-06-27T08:37:13.544103Z",
     "shell.execute_reply": "2022-06-27T08:37:13.544628Z"
    }
   },
   "outputs": [],
   "source": [
    "public_notebook_count = round(df.loc['.ipynb'].sum())\n",
    "private_notebook_count = round(df_private.loc['.ipynb'].sum())"
   ]
  },
  {
   "cell_type": "markdown",
   "metadata": {},
   "source": [
    "### Number of Jupyter notebooks\n",
    "Living with Machines has promised a particular focus on making methods available to other researchers, one way in which the project is aiming to this is through the production of Jupyter notebooks. "
   ]
  },
  {
   "cell_type": "code",
   "execution_count": 14,
   "metadata": {
    "execution": {
     "iopub.execute_input": "2022-06-27T08:37:13.550553Z",
     "iopub.status.busy": "2022-06-27T08:37:13.548440Z",
     "iopub.status.idle": "2022-06-27T08:37:13.553273Z",
     "shell.execute_reply": "2022-06-27T08:37:13.553803Z"
    }
   },
   "outputs": [
    {
     "data": {
      "text/markdown": [
       "Living with Machines currently has 127 Jupyter notebooks in public repositories and 36 in private repositories.\n"
      ],
      "text/plain": [
       "<IPython.core.display.Markdown object>"
      ]
     },
     "execution_count": 1,
     "metadata": {},
     "output_type": "execute_result"
    }
   ],
   "source": [
    "%%markdown\n",
    "Living with Machines currently has {public_notebook_count} Jupyter notebooks in public repositories and {private_notebook_count} in private repositories."
   ]
  },
  {
   "cell_type": "markdown",
   "metadata": {},
   "source": [
    "### File extensions counts by repository"
   ]
  },
  {
   "cell_type": "code",
   "execution_count": 15,
   "metadata": {
    "execution": {
     "iopub.execute_input": "2022-06-27T08:37:13.578287Z",
     "iopub.status.busy": "2022-06-27T08:37:13.561768Z",
     "iopub.status.idle": "2022-06-27T08:37:13.656340Z",
     "shell.execute_reply": "2022-06-27T08:37:13.656887Z"
    }
   },
   "outputs": [
    {
     "data": {
      "text/html": [
       "\n",
       "<div id=\"altair-viz-8a6f239ce0c5421680aba13bdf27119f\"></div>\n",
       "<script type=\"text/javascript\">\n",
       "  (function(spec, embedOpt){\n",
       "    let outputDiv = document.currentScript.previousElementSibling;\n",
       "    if (outputDiv.id !== \"altair-viz-8a6f239ce0c5421680aba13bdf27119f\") {\n",
       "      outputDiv = document.getElementById(\"altair-viz-8a6f239ce0c5421680aba13bdf27119f\");\n",
       "    }\n",
       "    const paths = {\n",
       "      \"vega\": \"https://cdn.jsdelivr.net/npm//vega@5?noext\",\n",
       "      \"vega-lib\": \"https://cdn.jsdelivr.net/npm//vega-lib?noext\",\n",
       "      \"vega-lite\": \"https://cdn.jsdelivr.net/npm//vega-lite@4.8.1?noext\",\n",
       "      \"vega-embed\": \"https://cdn.jsdelivr.net/npm//vega-embed@6?noext\",\n",
       "    };\n",
       "\n",
       "    function loadScript(lib) {\n",
       "      return new Promise(function(resolve, reject) {\n",
       "        var s = document.createElement('script');\n",
       "        s.src = paths[lib];\n",
       "        s.async = true;\n",
       "        s.onload = () => resolve(paths[lib]);\n",
       "        s.onerror = () => reject(`Error loading script: ${paths[lib]}`);\n",
       "        document.getElementsByTagName(\"head\")[0].appendChild(s);\n",
       "      });\n",
       "    }\n",
       "\n",
       "    function showError(err) {\n",
       "      outputDiv.innerHTML = `<div class=\"error\" style=\"color:red;\">${err}</div>`;\n",
       "      throw err;\n",
       "    }\n",
       "\n",
       "    function displayChart(vegaEmbed) {\n",
       "      vegaEmbed(outputDiv, spec, embedOpt)\n",
       "        .catch(err => showError(`Javascript Error: ${err.message}<br>This usually means there's a typo in your chart specification. See the javascript console for the full traceback.`));\n",
       "    }\n",
       "\n",
       "    if(typeof define === \"function\" && define.amd) {\n",
       "      requirejs.config({paths});\n",
       "      require([\"vega-embed\"], displayChart, err => showError(`Error loading script: ${err.message}`));\n",
       "    } else if (typeof vegaEmbed === \"function\") {\n",
       "      displayChart(vegaEmbed);\n",
       "    } else {\n",
       "      loadScript(\"vega\")\n",
       "        .then(() => loadScript(\"vega-lite\"))\n",
       "        .then(() => loadScript(\"vega-embed\"))\n",
       "        .catch(showError)\n",
       "        .then(() => displayChart(vegaEmbed));\n",
       "    }\n",
       "  })({\"config\": {\"view\": {\"continuousWidth\": 400, \"continuousHeight\": 300}}, \"data\": {\"name\": \"data-a25af599f53af1892a4000e86f2c1ba7\"}, \"mark\": \"bar\", \"encoding\": {\"color\": {\"type\": \"nominal\", \"field\": \"variable\", \"title\": \"Repository\"}, \"tooltip\": [{\"type\": \"nominal\", \"field\": \"variable\", \"title\": \"Repository\"}, {\"type\": \"quantitative\", \"field\": \"count\"}], \"x\": {\"type\": \"quantitative\", \"field\": \"count\"}, \"y\": {\"type\": \"nominal\", \"field\": \"index\", \"sort\": {\"field\": \"count\", \"op\": \"sum\", \"order\": \"descending\"}, \"title\": null}}, \"title\": \"File Extension Counts\", \"width\": 650, \"$schema\": \"https://vega.github.io/schema/vega-lite/v4.8.1.json\", \"datasets\": {\"data-a25af599f53af1892a4000e86f2c1ba7\": [{\"index\": \".md\", \"variable\": \"lwm_ARTIDIGH_2020_OCR_impact_downstream_NLP_tasks\", \"count\": 1.0}, {\"index\": \".ipynb\", \"variable\": \"lwm_ARTIDIGH_2020_OCR_impact_downstream_NLP_tasks\", \"count\": 14.0}, {\"index\": \".yml\", \"variable\": \"lwm_ARTIDIGH_2020_OCR_impact_downstream_NLP_tasks\", \"count\": 1.0}, {\"index\": \".png\", \"variable\": \"lwm_ARTIDIGH_2020_OCR_impact_downstream_NLP_tasks\", \"count\": 4.0}, {\"index\": \".pdf\", \"variable\": \"lwm_ARTIDIGH_2020_OCR_impact_downstream_NLP_tasks\", \"count\": 16.0}, {\"index\": \".py\", \"variable\": \"lwm_ARTIDIGH_2020_OCR_impact_downstream_NLP_tasks\", \"count\": null}, {\"index\": \".pkl\", \"variable\": \"lwm_ARTIDIGH_2020_OCR_impact_downstream_NLP_tasks\", \"count\": null}, {\"index\": \".gif\", \"variable\": \"lwm_ARTIDIGH_2020_OCR_impact_downstream_NLP_tasks\", \"count\": null}, {\"index\": \".txt\", \"variable\": \"lwm_ARTIDIGH_2020_OCR_impact_downstream_NLP_tasks\", \"count\": null}, {\"index\": \".html\", \"variable\": \"lwm_ARTIDIGH_2020_OCR_impact_downstream_NLP_tasks\", \"count\": null}, {\"index\": \".js\", \"variable\": \"lwm_ARTIDIGH_2020_OCR_impact_downstream_NLP_tasks\", \"count\": null}, {\"index\": \".vocab\", \"variable\": \"lwm_ARTIDIGH_2020_OCR_impact_downstream_NLP_tasks\", \"count\": null}, {\"index\": \".yaml\", \"variable\": \"lwm_ARTIDIGH_2020_OCR_impact_downstream_NLP_tasks\", \"count\": null}, {\"index\": \".cfg\", \"variable\": \"lwm_ARTIDIGH_2020_OCR_impact_downstream_NLP_tasks\", \"count\": null}, {\"index\": \".xml\", \"variable\": \"lwm_ARTIDIGH_2020_OCR_impact_downstream_NLP_tasks\", \"count\": null}, {\"index\": \".in\", \"variable\": \"lwm_ARTIDIGH_2020_OCR_impact_downstream_NLP_tasks\", \"count\": null}, {\"index\": \".ini\", \"variable\": \"lwm_ARTIDIGH_2020_OCR_impact_downstream_NLP_tasks\", \"count\": null}, {\"index\": \".lock\", \"variable\": \"lwm_ARTIDIGH_2020_OCR_impact_downstream_NLP_tasks\", \"count\": null}, {\"index\": \".css\", \"variable\": \"lwm_ARTIDIGH_2020_OCR_impact_downstream_NLP_tasks\", \"count\": null}, {\"index\": \".otf\", \"variable\": \"lwm_ARTIDIGH_2020_OCR_impact_downstream_NLP_tasks\", \"count\": null}, {\"index\": \".eot\", \"variable\": \"lwm_ARTIDIGH_2020_OCR_impact_downstream_NLP_tasks\", \"count\": null}, {\"index\": \".svg\", \"variable\": \"lwm_ARTIDIGH_2020_OCR_impact_downstream_NLP_tasks\", \"count\": null}, {\"index\": \".ttf\", \"variable\": \"lwm_ARTIDIGH_2020_OCR_impact_downstream_NLP_tasks\", \"count\": null}, {\"index\": \".woff\", \"variable\": \"lwm_ARTIDIGH_2020_OCR_impact_downstream_NLP_tasks\", \"count\": null}, {\"index\": \".woff2\", \"variable\": \"lwm_ARTIDIGH_2020_OCR_impact_downstream_NLP_tasks\", \"count\": null}, {\"index\": \".ico\", \"variable\": \"lwm_ARTIDIGH_2020_OCR_impact_downstream_NLP_tasks\", \"count\": null}, {\"index\": \".csv\", \"variable\": \"lwm_ARTIDIGH_2020_OCR_impact_downstream_NLP_tasks\", \"count\": null}, {\"index\": \".zip\", \"variable\": \"lwm_ARTIDIGH_2020_OCR_impact_downstream_NLP_tasks\", \"count\": null}, {\"index\": \".xlsx\", \"variable\": \"lwm_ARTIDIGH_2020_OCR_impact_downstream_NLP_tasks\", \"count\": null}, {\"index\": \".rst\", \"variable\": \"lwm_ARTIDIGH_2020_OCR_impact_downstream_NLP_tasks\", \"count\": null}, {\"index\": \".org\", \"variable\": \"lwm_ARTIDIGH_2020_OCR_impact_downstream_NLP_tasks\", \"count\": null}, {\"index\": \".cff\", \"variable\": \"lwm_ARTIDIGH_2020_OCR_impact_downstream_NLP_tasks\", \"count\": null}, {\"index\": \".Rmd\", \"variable\": \"lwm_ARTIDIGH_2020_OCR_impact_downstream_NLP_tasks\", \"count\": null}, {\"index\": \".RDS\", \"variable\": \"lwm_ARTIDIGH_2020_OCR_impact_downstream_NLP_tasks\", \"count\": null}, {\"index\": \".scss\", \"variable\": \"lwm_ARTIDIGH_2020_OCR_impact_downstream_NLP_tasks\", \"count\": null}, {\"index\": \".bib\", \"variable\": \"lwm_ARTIDIGH_2020_OCR_impact_downstream_NLP_tasks\", \"count\": null}, {\"index\": \".md\", \"variable\": \"lwm_GIR19_resolving_places\", \"count\": 2.0}, {\"index\": \".ipynb\", \"variable\": \"lwm_GIR19_resolving_places\", \"count\": 2.0}, {\"index\": \".yml\", \"variable\": \"lwm_GIR19_resolving_places\", \"count\": 1.0}, {\"index\": \".png\", \"variable\": \"lwm_GIR19_resolving_places\", \"count\": null}, {\"index\": \".pdf\", \"variable\": \"lwm_GIR19_resolving_places\", \"count\": null}, {\"index\": \".py\", \"variable\": \"lwm_GIR19_resolving_places\", \"count\": 2.0}, {\"index\": \".pkl\", \"variable\": \"lwm_GIR19_resolving_places\", \"count\": 1.0}, {\"index\": \".gif\", \"variable\": \"lwm_GIR19_resolving_places\", \"count\": null}, {\"index\": \".txt\", \"variable\": \"lwm_GIR19_resolving_places\", \"count\": null}, {\"index\": \".html\", \"variable\": \"lwm_GIR19_resolving_places\", \"count\": null}, {\"index\": \".js\", \"variable\": \"lwm_GIR19_resolving_places\", \"count\": null}, {\"index\": \".vocab\", \"variable\": \"lwm_GIR19_resolving_places\", \"count\": null}, {\"index\": \".yaml\", \"variable\": \"lwm_GIR19_resolving_places\", \"count\": null}, {\"index\": \".cfg\", \"variable\": \"lwm_GIR19_resolving_places\", \"count\": null}, {\"index\": \".xml\", \"variable\": \"lwm_GIR19_resolving_places\", \"count\": null}, {\"index\": \".in\", \"variable\": \"lwm_GIR19_resolving_places\", \"count\": null}, {\"index\": \".ini\", \"variable\": \"lwm_GIR19_resolving_places\", \"count\": null}, {\"index\": \".lock\", \"variable\": \"lwm_GIR19_resolving_places\", \"count\": null}, {\"index\": \".css\", \"variable\": \"lwm_GIR19_resolving_places\", \"count\": null}, {\"index\": \".otf\", \"variable\": \"lwm_GIR19_resolving_places\", \"count\": null}, {\"index\": \".eot\", \"variable\": \"lwm_GIR19_resolving_places\", \"count\": null}, {\"index\": \".svg\", \"variable\": \"lwm_GIR19_resolving_places\", \"count\": null}, {\"index\": \".ttf\", \"variable\": \"lwm_GIR19_resolving_places\", \"count\": null}, {\"index\": \".woff\", \"variable\": \"lwm_GIR19_resolving_places\", \"count\": null}, {\"index\": \".woff2\", \"variable\": \"lwm_GIR19_resolving_places\", \"count\": null}, {\"index\": \".ico\", \"variable\": \"lwm_GIR19_resolving_places\", \"count\": null}, {\"index\": \".csv\", \"variable\": \"lwm_GIR19_resolving_places\", \"count\": null}, {\"index\": \".zip\", \"variable\": \"lwm_GIR19_resolving_places\", \"count\": null}, {\"index\": \".xlsx\", \"variable\": \"lwm_GIR19_resolving_places\", \"count\": null}, {\"index\": \".rst\", \"variable\": \"lwm_GIR19_resolving_places\", \"count\": null}, {\"index\": \".org\", \"variable\": \"lwm_GIR19_resolving_places\", \"count\": null}, {\"index\": \".cff\", \"variable\": \"lwm_GIR19_resolving_places\", \"count\": null}, {\"index\": \".Rmd\", \"variable\": \"lwm_GIR19_resolving_places\", \"count\": null}, {\"index\": \".RDS\", \"variable\": \"lwm_GIR19_resolving_places\", \"count\": null}, {\"index\": \".scss\", \"variable\": \"lwm_GIR19_resolving_places\", \"count\": null}, {\"index\": \".bib\", \"variable\": \"lwm_GIR19_resolving_places\", \"count\": null}, {\"index\": \".md\", \"variable\": \"D3_JS_viz_in_a_Python_Jupyter_notebook\", \"count\": 2.0}, {\"index\": \".ipynb\", \"variable\": \"D3_JS_viz_in_a_Python_Jupyter_notebook\", \"count\": 2.0}, {\"index\": \".yml\", \"variable\": \"D3_JS_viz_in_a_Python_Jupyter_notebook\", \"count\": 1.0}, {\"index\": \".png\", \"variable\": \"D3_JS_viz_in_a_Python_Jupyter_notebook\", \"count\": null}, {\"index\": \".pdf\", \"variable\": \"D3_JS_viz_in_a_Python_Jupyter_notebook\", \"count\": null}, {\"index\": \".py\", \"variable\": \"D3_JS_viz_in_a_Python_Jupyter_notebook\", \"count\": null}, {\"index\": \".pkl\", \"variable\": \"D3_JS_viz_in_a_Python_Jupyter_notebook\", \"count\": null}, {\"index\": \".gif\", \"variable\": \"D3_JS_viz_in_a_Python_Jupyter_notebook\", \"count\": 1.0}, {\"index\": \".txt\", \"variable\": \"D3_JS_viz_in_a_Python_Jupyter_notebook\", \"count\": 1.0}, {\"index\": \".html\", \"variable\": \"D3_JS_viz_in_a_Python_Jupyter_notebook\", \"count\": 1.0}, {\"index\": \".js\", \"variable\": \"D3_JS_viz_in_a_Python_Jupyter_notebook\", \"count\": 1.0}, {\"index\": \".vocab\", \"variable\": \"D3_JS_viz_in_a_Python_Jupyter_notebook\", \"count\": null}, {\"index\": \".yaml\", \"variable\": \"D3_JS_viz_in_a_Python_Jupyter_notebook\", \"count\": null}, {\"index\": \".cfg\", \"variable\": \"D3_JS_viz_in_a_Python_Jupyter_notebook\", \"count\": null}, {\"index\": \".xml\", \"variable\": \"D3_JS_viz_in_a_Python_Jupyter_notebook\", \"count\": null}, {\"index\": \".in\", \"variable\": \"D3_JS_viz_in_a_Python_Jupyter_notebook\", \"count\": null}, {\"index\": \".ini\", \"variable\": \"D3_JS_viz_in_a_Python_Jupyter_notebook\", \"count\": null}, {\"index\": \".lock\", \"variable\": \"D3_JS_viz_in_a_Python_Jupyter_notebook\", \"count\": null}, {\"index\": \".css\", \"variable\": \"D3_JS_viz_in_a_Python_Jupyter_notebook\", \"count\": null}, {\"index\": \".otf\", \"variable\": \"D3_JS_viz_in_a_Python_Jupyter_notebook\", \"count\": null}, {\"index\": \".eot\", \"variable\": \"D3_JS_viz_in_a_Python_Jupyter_notebook\", \"count\": null}, {\"index\": \".svg\", \"variable\": \"D3_JS_viz_in_a_Python_Jupyter_notebook\", \"count\": null}, {\"index\": \".ttf\", \"variable\": \"D3_JS_viz_in_a_Python_Jupyter_notebook\", \"count\": null}, {\"index\": \".woff\", \"variable\": \"D3_JS_viz_in_a_Python_Jupyter_notebook\", \"count\": null}, {\"index\": \".woff2\", \"variable\": \"D3_JS_viz_in_a_Python_Jupyter_notebook\", \"count\": null}, {\"index\": \".ico\", \"variable\": \"D3_JS_viz_in_a_Python_Jupyter_notebook\", \"count\": null}, {\"index\": \".csv\", \"variable\": \"D3_JS_viz_in_a_Python_Jupyter_notebook\", \"count\": null}, {\"index\": \".zip\", \"variable\": \"D3_JS_viz_in_a_Python_Jupyter_notebook\", \"count\": null}, {\"index\": \".xlsx\", \"variable\": \"D3_JS_viz_in_a_Python_Jupyter_notebook\", \"count\": null}, {\"index\": \".rst\", \"variable\": \"D3_JS_viz_in_a_Python_Jupyter_notebook\", \"count\": null}, {\"index\": \".org\", \"variable\": \"D3_JS_viz_in_a_Python_Jupyter_notebook\", \"count\": null}, {\"index\": \".cff\", \"variable\": \"D3_JS_viz_in_a_Python_Jupyter_notebook\", \"count\": null}, {\"index\": \".Rmd\", \"variable\": \"D3_JS_viz_in_a_Python_Jupyter_notebook\", \"count\": null}, {\"index\": \".RDS\", \"variable\": \"D3_JS_viz_in_a_Python_Jupyter_notebook\", \"count\": null}, {\"index\": \".scss\", \"variable\": \"D3_JS_viz_in_a_Python_Jupyter_notebook\", \"count\": null}, {\"index\": \".bib\", \"variable\": \"D3_JS_viz_in_a_Python_Jupyter_notebook\", \"count\": null}, {\"index\": \".md\", \"variable\": \"DeezyMatch\", \"count\": 2.0}, {\"index\": \".ipynb\", \"variable\": \"DeezyMatch\", \"count\": 4.0}, {\"index\": \".yml\", \"variable\": \"DeezyMatch\", \"count\": 2.0}, {\"index\": \".png\", \"variable\": \"DeezyMatch\", \"count\": 3.0}, {\"index\": \".pdf\", \"variable\": \"DeezyMatch\", \"count\": null}, {\"index\": \".py\", \"variable\": \"DeezyMatch\", \"count\": 14.0}, {\"index\": \".pkl\", \"variable\": \"DeezyMatch\", \"count\": null}, {\"index\": \".gif\", \"variable\": \"DeezyMatch\", \"count\": null}, {\"index\": \".txt\", \"variable\": \"DeezyMatch\", \"count\": 8.0}, {\"index\": \".html\", \"variable\": \"DeezyMatch\", \"count\": null}, {\"index\": \".js\", \"variable\": \"DeezyMatch\", \"count\": null}, {\"index\": \".vocab\", \"variable\": \"DeezyMatch\", \"count\": 2.0}, {\"index\": \".yaml\", \"variable\": \"DeezyMatch\", \"count\": 21.0}, {\"index\": \".cfg\", \"variable\": \"DeezyMatch\", \"count\": null}, {\"index\": \".xml\", \"variable\": \"DeezyMatch\", \"count\": null}, {\"index\": \".in\", \"variable\": \"DeezyMatch\", \"count\": null}, {\"index\": \".ini\", \"variable\": \"DeezyMatch\", \"count\": null}, {\"index\": \".lock\", \"variable\": \"DeezyMatch\", \"count\": null}, {\"index\": \".css\", \"variable\": \"DeezyMatch\", \"count\": null}, {\"index\": \".otf\", \"variable\": \"DeezyMatch\", \"count\": null}, {\"index\": \".eot\", \"variable\": \"DeezyMatch\", \"count\": null}, {\"index\": \".svg\", \"variable\": \"DeezyMatch\", \"count\": null}, {\"index\": \".ttf\", \"variable\": \"DeezyMatch\", \"count\": null}, {\"index\": \".woff\", \"variable\": \"DeezyMatch\", \"count\": null}, {\"index\": \".woff2\", \"variable\": \"DeezyMatch\", \"count\": null}, {\"index\": \".ico\", \"variable\": \"DeezyMatch\", \"count\": null}, {\"index\": \".csv\", \"variable\": \"DeezyMatch\", \"count\": null}, {\"index\": \".zip\", \"variable\": \"DeezyMatch\", \"count\": null}, {\"index\": \".xlsx\", \"variable\": \"DeezyMatch\", \"count\": null}, {\"index\": \".rst\", \"variable\": \"DeezyMatch\", \"count\": null}, {\"index\": \".org\", \"variable\": \"DeezyMatch\", \"count\": null}, {\"index\": \".cff\", \"variable\": \"DeezyMatch\", \"count\": null}, {\"index\": \".Rmd\", \"variable\": \"DeezyMatch\", \"count\": null}, {\"index\": \".RDS\", \"variable\": \"DeezyMatch\", \"count\": null}, {\"index\": \".scss\", \"variable\": \"DeezyMatch\", \"count\": null}, {\"index\": \".bib\", \"variable\": \"DeezyMatch\", \"count\": null}, {\"index\": \".md\", \"variable\": \"LwM_SIGSPATIAL2020_ToponymMatching\", \"count\": 6.0}, {\"index\": \".ipynb\", \"variable\": \"LwM_SIGSPATIAL2020_ToponymMatching\", \"count\": 7.0}, {\"index\": \".yml\", \"variable\": \"LwM_SIGSPATIAL2020_ToponymMatching\", \"count\": null}, {\"index\": \".png\", \"variable\": \"LwM_SIGSPATIAL2020_ToponymMatching\", \"count\": null}, {\"index\": \".pdf\", \"variable\": \"LwM_SIGSPATIAL2020_ToponymMatching\", \"count\": null}, {\"index\": \".py\", \"variable\": \"LwM_SIGSPATIAL2020_ToponymMatching\", \"count\": 5.0}, {\"index\": \".pkl\", \"variable\": \"LwM_SIGSPATIAL2020_ToponymMatching\", \"count\": null}, {\"index\": \".gif\", \"variable\": \"LwM_SIGSPATIAL2020_ToponymMatching\", \"count\": null}, {\"index\": \".txt\", \"variable\": \"LwM_SIGSPATIAL2020_ToponymMatching\", \"count\": null}, {\"index\": \".html\", \"variable\": \"LwM_SIGSPATIAL2020_ToponymMatching\", \"count\": null}, {\"index\": \".js\", \"variable\": \"LwM_SIGSPATIAL2020_ToponymMatching\", \"count\": null}, {\"index\": \".vocab\", \"variable\": \"LwM_SIGSPATIAL2020_ToponymMatching\", \"count\": 1.0}, {\"index\": \".yaml\", \"variable\": \"LwM_SIGSPATIAL2020_ToponymMatching\", \"count\": 1.0}, {\"index\": \".cfg\", \"variable\": \"LwM_SIGSPATIAL2020_ToponymMatching\", \"count\": null}, {\"index\": \".xml\", \"variable\": \"LwM_SIGSPATIAL2020_ToponymMatching\", \"count\": null}, {\"index\": \".in\", \"variable\": \"LwM_SIGSPATIAL2020_ToponymMatching\", \"count\": null}, {\"index\": \".ini\", \"variable\": \"LwM_SIGSPATIAL2020_ToponymMatching\", \"count\": null}, {\"index\": \".lock\", \"variable\": \"LwM_SIGSPATIAL2020_ToponymMatching\", \"count\": null}, {\"index\": \".css\", \"variable\": \"LwM_SIGSPATIAL2020_ToponymMatching\", \"count\": null}, {\"index\": \".otf\", \"variable\": \"LwM_SIGSPATIAL2020_ToponymMatching\", \"count\": null}, {\"index\": \".eot\", \"variable\": \"LwM_SIGSPATIAL2020_ToponymMatching\", \"count\": null}, {\"index\": \".svg\", \"variable\": \"LwM_SIGSPATIAL2020_ToponymMatching\", \"count\": null}, {\"index\": \".ttf\", \"variable\": \"LwM_SIGSPATIAL2020_ToponymMatching\", \"count\": null}, {\"index\": \".woff\", \"variable\": \"LwM_SIGSPATIAL2020_ToponymMatching\", \"count\": null}, {\"index\": \".woff2\", \"variable\": \"LwM_SIGSPATIAL2020_ToponymMatching\", \"count\": null}, {\"index\": \".ico\", \"variable\": \"LwM_SIGSPATIAL2020_ToponymMatching\", \"count\": null}, {\"index\": \".csv\", \"variable\": \"LwM_SIGSPATIAL2020_ToponymMatching\", \"count\": null}, {\"index\": \".zip\", \"variable\": \"LwM_SIGSPATIAL2020_ToponymMatching\", \"count\": null}, {\"index\": \".xlsx\", \"variable\": \"LwM_SIGSPATIAL2020_ToponymMatching\", \"count\": null}, {\"index\": \".rst\", \"variable\": \"LwM_SIGSPATIAL2020_ToponymMatching\", \"count\": null}, {\"index\": \".org\", \"variable\": \"LwM_SIGSPATIAL2020_ToponymMatching\", \"count\": null}, {\"index\": \".cff\", \"variable\": \"LwM_SIGSPATIAL2020_ToponymMatching\", \"count\": null}, {\"index\": \".Rmd\", \"variable\": \"LwM_SIGSPATIAL2020_ToponymMatching\", \"count\": null}, {\"index\": \".RDS\", \"variable\": \"LwM_SIGSPATIAL2020_ToponymMatching\", \"count\": null}, {\"index\": \".scss\", \"variable\": \"LwM_SIGSPATIAL2020_ToponymMatching\", \"count\": null}, {\"index\": \".bib\", \"variable\": \"LwM_SIGSPATIAL2020_ToponymMatching\", \"count\": null}, {\"index\": \".md\", \"variable\": \"histLM\", \"count\": 2.0}, {\"index\": \".ipynb\", \"variable\": \"histLM\", \"count\": 4.0}, {\"index\": \".yml\", \"variable\": \"histLM\", \"count\": null}, {\"index\": \".png\", \"variable\": \"histLM\", \"count\": null}, {\"index\": \".pdf\", \"variable\": \"histLM\", \"count\": null}, {\"index\": \".py\", \"variable\": \"histLM\", \"count\": 1.0}, {\"index\": \".pkl\", \"variable\": \"histLM\", \"count\": null}, {\"index\": \".gif\", \"variable\": \"histLM\", \"count\": null}, {\"index\": \".txt\", \"variable\": \"histLM\", \"count\": 1.0}, {\"index\": \".html\", \"variable\": \"histLM\", \"count\": null}, {\"index\": \".js\", \"variable\": \"histLM\", \"count\": null}, {\"index\": \".vocab\", \"variable\": \"histLM\", \"count\": null}, {\"index\": \".yaml\", \"variable\": \"histLM\", \"count\": 1.0}, {\"index\": \".cfg\", \"variable\": \"histLM\", \"count\": null}, {\"index\": \".xml\", \"variable\": \"histLM\", \"count\": null}, {\"index\": \".in\", \"variable\": \"histLM\", \"count\": null}, {\"index\": \".ini\", \"variable\": \"histLM\", \"count\": null}, {\"index\": \".lock\", \"variable\": \"histLM\", \"count\": null}, {\"index\": \".css\", \"variable\": \"histLM\", \"count\": null}, {\"index\": \".otf\", \"variable\": \"histLM\", \"count\": null}, {\"index\": \".eot\", \"variable\": \"histLM\", \"count\": null}, {\"index\": \".svg\", \"variable\": \"histLM\", \"count\": null}, {\"index\": \".ttf\", \"variable\": \"histLM\", \"count\": null}, {\"index\": \".woff\", \"variable\": \"histLM\", \"count\": null}, {\"index\": \".woff2\", \"variable\": \"histLM\", \"count\": null}, {\"index\": \".ico\", \"variable\": \"histLM\", \"count\": null}, {\"index\": \".csv\", \"variable\": \"histLM\", \"count\": null}, {\"index\": \".zip\", \"variable\": \"histLM\", \"count\": null}, {\"index\": \".xlsx\", \"variable\": \"histLM\", \"count\": null}, {\"index\": \".rst\", \"variable\": \"histLM\", \"count\": null}, {\"index\": \".org\", \"variable\": \"histLM\", \"count\": null}, {\"index\": \".cff\", \"variable\": \"histLM\", \"count\": null}, {\"index\": \".Rmd\", \"variable\": \"histLM\", \"count\": null}, {\"index\": \".RDS\", \"variable\": \"histLM\", \"count\": null}, {\"index\": \".scss\", \"variable\": \"histLM\", \"count\": null}, {\"index\": \".bib\", \"variable\": \"histLM\", \"count\": null}, {\"index\": \".md\", \"variable\": \"AzureAudit\", \"count\": 1.0}, {\"index\": \".ipynb\", \"variable\": \"AzureAudit\", \"count\": null}, {\"index\": \".yml\", \"variable\": \"AzureAudit\", \"count\": null}, {\"index\": \".png\", \"variable\": \"AzureAudit\", \"count\": null}, {\"index\": \".pdf\", \"variable\": \"AzureAudit\", \"count\": null}, {\"index\": \".py\", \"variable\": \"AzureAudit\", \"count\": null}, {\"index\": \".pkl\", \"variable\": \"AzureAudit\", \"count\": null}, {\"index\": \".gif\", \"variable\": \"AzureAudit\", \"count\": null}, {\"index\": \".txt\", \"variable\": \"AzureAudit\", \"count\": null}, {\"index\": \".html\", \"variable\": \"AzureAudit\", \"count\": null}, {\"index\": \".js\", \"variable\": \"AzureAudit\", \"count\": null}, {\"index\": \".vocab\", \"variable\": \"AzureAudit\", \"count\": null}, {\"index\": \".yaml\", \"variable\": \"AzureAudit\", \"count\": null}, {\"index\": \".cfg\", \"variable\": \"AzureAudit\", \"count\": null}, {\"index\": \".xml\", \"variable\": \"AzureAudit\", \"count\": null}, {\"index\": \".in\", \"variable\": \"AzureAudit\", \"count\": null}, {\"index\": \".ini\", \"variable\": \"AzureAudit\", \"count\": null}, {\"index\": \".lock\", \"variable\": \"AzureAudit\", \"count\": null}, {\"index\": \".css\", \"variable\": \"AzureAudit\", \"count\": null}, {\"index\": \".otf\", \"variable\": \"AzureAudit\", \"count\": null}, {\"index\": \".eot\", \"variable\": \"AzureAudit\", \"count\": null}, {\"index\": \".svg\", \"variable\": \"AzureAudit\", \"count\": null}, {\"index\": \".ttf\", \"variable\": \"AzureAudit\", \"count\": null}, {\"index\": \".woff\", \"variable\": \"AzureAudit\", \"count\": null}, {\"index\": \".woff2\", \"variable\": \"AzureAudit\", \"count\": null}, {\"index\": \".ico\", \"variable\": \"AzureAudit\", \"count\": null}, {\"index\": \".csv\", \"variable\": \"AzureAudit\", \"count\": null}, {\"index\": \".zip\", \"variable\": \"AzureAudit\", \"count\": null}, {\"index\": \".xlsx\", \"variable\": \"AzureAudit\", \"count\": null}, {\"index\": \".rst\", \"variable\": \"AzureAudit\", \"count\": null}, {\"index\": \".org\", \"variable\": \"AzureAudit\", \"count\": null}, {\"index\": \".cff\", \"variable\": \"AzureAudit\", \"count\": null}, {\"index\": \".Rmd\", \"variable\": \"AzureAudit\", \"count\": null}, {\"index\": \".RDS\", \"variable\": \"AzureAudit\", \"count\": null}, {\"index\": \".scss\", \"variable\": \"AzureAudit\", \"count\": null}, {\"index\": \".bib\", \"variable\": \"AzureAudit\", \"count\": null}, {\"index\": \".md\", \"variable\": \"maps-at-scale-hack-day-notebooks\", \"count\": 7.0}, {\"index\": \".ipynb\", \"variable\": \"maps-at-scale-hack-day-notebooks\", \"count\": 14.0}, {\"index\": \".yml\", \"variable\": \"maps-at-scale-hack-day-notebooks\", \"count\": 1.0}, {\"index\": \".png\", \"variable\": \"maps-at-scale-hack-day-notebooks\", \"count\": 22.0}, {\"index\": \".pdf\", \"variable\": \"maps-at-scale-hack-day-notebooks\", \"count\": null}, {\"index\": \".py\", \"variable\": \"maps-at-scale-hack-day-notebooks\", \"count\": null}, {\"index\": \".pkl\", \"variable\": \"maps-at-scale-hack-day-notebooks\", \"count\": null}, {\"index\": \".gif\", \"variable\": \"maps-at-scale-hack-day-notebooks\", \"count\": null}, {\"index\": \".txt\", \"variable\": \"maps-at-scale-hack-day-notebooks\", \"count\": null}, {\"index\": \".html\", \"variable\": \"maps-at-scale-hack-day-notebooks\", \"count\": null}, {\"index\": \".js\", \"variable\": \"maps-at-scale-hack-day-notebooks\", \"count\": null}, {\"index\": \".vocab\", \"variable\": \"maps-at-scale-hack-day-notebooks\", \"count\": null}, {\"index\": \".yaml\", \"variable\": \"maps-at-scale-hack-day-notebooks\", \"count\": null}, {\"index\": \".cfg\", \"variable\": \"maps-at-scale-hack-day-notebooks\", \"count\": null}, {\"index\": \".xml\", \"variable\": \"maps-at-scale-hack-day-notebooks\", \"count\": null}, {\"index\": \".in\", \"variable\": \"maps-at-scale-hack-day-notebooks\", \"count\": null}, {\"index\": \".ini\", \"variable\": \"maps-at-scale-hack-day-notebooks\", \"count\": null}, {\"index\": \".lock\", \"variable\": \"maps-at-scale-hack-day-notebooks\", \"count\": null}, {\"index\": \".css\", \"variable\": \"maps-at-scale-hack-day-notebooks\", \"count\": null}, {\"index\": \".otf\", \"variable\": \"maps-at-scale-hack-day-notebooks\", \"count\": null}, {\"index\": \".eot\", \"variable\": \"maps-at-scale-hack-day-notebooks\", \"count\": null}, {\"index\": \".svg\", \"variable\": \"maps-at-scale-hack-day-notebooks\", \"count\": null}, {\"index\": \".ttf\", \"variable\": \"maps-at-scale-hack-day-notebooks\", \"count\": null}, {\"index\": \".woff\", \"variable\": \"maps-at-scale-hack-day-notebooks\", \"count\": null}, {\"index\": \".woff2\", \"variable\": \"maps-at-scale-hack-day-notebooks\", \"count\": null}, {\"index\": \".ico\", \"variable\": \"maps-at-scale-hack-day-notebooks\", \"count\": null}, {\"index\": \".csv\", \"variable\": \"maps-at-scale-hack-day-notebooks\", \"count\": null}, {\"index\": \".zip\", \"variable\": \"maps-at-scale-hack-day-notebooks\", \"count\": null}, {\"index\": \".xlsx\", \"variable\": \"maps-at-scale-hack-day-notebooks\", \"count\": null}, {\"index\": \".rst\", \"variable\": \"maps-at-scale-hack-day-notebooks\", \"count\": null}, {\"index\": \".org\", \"variable\": \"maps-at-scale-hack-day-notebooks\", \"count\": null}, {\"index\": \".cff\", \"variable\": \"maps-at-scale-hack-day-notebooks\", \"count\": null}, {\"index\": \".Rmd\", \"variable\": \"maps-at-scale-hack-day-notebooks\", \"count\": null}, {\"index\": \".RDS\", \"variable\": \"maps-at-scale-hack-day-notebooks\", \"count\": null}, {\"index\": \".scss\", \"variable\": \"maps-at-scale-hack-day-notebooks\", \"count\": null}, {\"index\": \".bib\", \"variable\": \"maps-at-scale-hack-day-notebooks\", \"count\": null}, {\"index\": \".md\", \"variable\": \"deduplify\", \"count\": 5.0}, {\"index\": \".ipynb\", \"variable\": \"deduplify\", \"count\": null}, {\"index\": \".yml\", \"variable\": \"deduplify\", \"count\": 2.0}, {\"index\": \".png\", \"variable\": \"deduplify\", \"count\": null}, {\"index\": \".pdf\", \"variable\": \"deduplify\", \"count\": null}, {\"index\": \".py\", \"variable\": \"deduplify\", \"count\": 10.0}, {\"index\": \".pkl\", \"variable\": \"deduplify\", \"count\": null}, {\"index\": \".gif\", \"variable\": \"deduplify\", \"count\": null}, {\"index\": \".txt\", \"variable\": \"deduplify\", \"count\": 3.0}, {\"index\": \".html\", \"variable\": \"deduplify\", \"count\": null}, {\"index\": \".js\", \"variable\": \"deduplify\", \"count\": null}, {\"index\": \".vocab\", \"variable\": \"deduplify\", \"count\": null}, {\"index\": \".yaml\", \"variable\": \"deduplify\", \"count\": 2.0}, {\"index\": \".cfg\", \"variable\": \"deduplify\", \"count\": 1.0}, {\"index\": \".xml\", \"variable\": \"deduplify\", \"count\": 2.0}, {\"index\": \".in\", \"variable\": \"deduplify\", \"count\": null}, {\"index\": \".ini\", \"variable\": \"deduplify\", \"count\": null}, {\"index\": \".lock\", \"variable\": \"deduplify\", \"count\": null}, {\"index\": \".css\", \"variable\": \"deduplify\", \"count\": null}, {\"index\": \".otf\", \"variable\": \"deduplify\", \"count\": null}, {\"index\": \".eot\", \"variable\": \"deduplify\", \"count\": null}, {\"index\": \".svg\", \"variable\": \"deduplify\", \"count\": null}, {\"index\": \".ttf\", \"variable\": \"deduplify\", \"count\": null}, {\"index\": \".woff\", \"variable\": \"deduplify\", \"count\": null}, {\"index\": \".woff2\", \"variable\": \"deduplify\", \"count\": null}, {\"index\": \".ico\", \"variable\": \"deduplify\", \"count\": null}, {\"index\": \".csv\", \"variable\": \"deduplify\", \"count\": null}, {\"index\": \".zip\", \"variable\": \"deduplify\", \"count\": null}, {\"index\": \".xlsx\", \"variable\": \"deduplify\", \"count\": null}, {\"index\": \".rst\", \"variable\": \"deduplify\", \"count\": null}, {\"index\": \".org\", \"variable\": \"deduplify\", \"count\": null}, {\"index\": \".cff\", \"variable\": \"deduplify\", \"count\": null}, {\"index\": \".Rmd\", \"variable\": \"deduplify\", \"count\": null}, {\"index\": \".RDS\", \"variable\": \"deduplify\", \"count\": null}, {\"index\": \".scss\", \"variable\": \"deduplify\", \"count\": null}, {\"index\": \".bib\", \"variable\": \"deduplify\", \"count\": null}, {\"index\": \".md\", \"variable\": \"station-to-station\", \"count\": 7.0}, {\"index\": \".ipynb\", \"variable\": \"station-to-station\", \"count\": 2.0}, {\"index\": \".yml\", \"variable\": \"station-to-station\", \"count\": null}, {\"index\": \".png\", \"variable\": \"station-to-station\", \"count\": null}, {\"index\": \".pdf\", \"variable\": \"station-to-station\", \"count\": null}, {\"index\": \".py\", \"variable\": \"station-to-station\", \"count\": 13.0}, {\"index\": \".pkl\", \"variable\": \"station-to-station\", \"count\": null}, {\"index\": \".gif\", \"variable\": \"station-to-station\", \"count\": 1.0}, {\"index\": \".txt\", \"variable\": \"station-to-station\", \"count\": 1.0}, {\"index\": \".html\", \"variable\": \"station-to-station\", \"count\": null}, {\"index\": \".js\", \"variable\": \"station-to-station\", \"count\": null}, {\"index\": \".vocab\", \"variable\": \"station-to-station\", \"count\": null}, {\"index\": \".yaml\", \"variable\": \"station-to-station\", \"count\": null}, {\"index\": \".cfg\", \"variable\": \"station-to-station\", \"count\": null}, {\"index\": \".xml\", \"variable\": \"station-to-station\", \"count\": null}, {\"index\": \".in\", \"variable\": \"station-to-station\", \"count\": null}, {\"index\": \".ini\", \"variable\": \"station-to-station\", \"count\": null}, {\"index\": \".lock\", \"variable\": \"station-to-station\", \"count\": null}, {\"index\": \".css\", \"variable\": \"station-to-station\", \"count\": null}, {\"index\": \".otf\", \"variable\": \"station-to-station\", \"count\": null}, {\"index\": \".eot\", \"variable\": \"station-to-station\", \"count\": null}, {\"index\": \".svg\", \"variable\": \"station-to-station\", \"count\": null}, {\"index\": \".ttf\", \"variable\": \"station-to-station\", \"count\": null}, {\"index\": \".woff\", \"variable\": \"station-to-station\", \"count\": null}, {\"index\": \".woff2\", \"variable\": \"station-to-station\", \"count\": null}, {\"index\": \".ico\", \"variable\": \"station-to-station\", \"count\": null}, {\"index\": \".csv\", \"variable\": \"station-to-station\", \"count\": null}, {\"index\": \".zip\", \"variable\": \"station-to-station\", \"count\": null}, {\"index\": \".xlsx\", \"variable\": \"station-to-station\", \"count\": null}, {\"index\": \".rst\", \"variable\": \"station-to-station\", \"count\": null}, {\"index\": \".org\", \"variable\": \"station-to-station\", \"count\": null}, {\"index\": \".cff\", \"variable\": \"station-to-station\", \"count\": null}, {\"index\": \".Rmd\", \"variable\": \"station-to-station\", \"count\": null}, {\"index\": \".RDS\", \"variable\": \"station-to-station\", \"count\": null}, {\"index\": \".scss\", \"variable\": \"station-to-station\", \"count\": null}, {\"index\": \".bib\", \"variable\": \"station-to-station\", \"count\": null}, {\"index\": \".md\", \"variable\": \"TargetedSenseDisambiguation\", \"count\": 3.0}, {\"index\": \".ipynb\", \"variable\": \"TargetedSenseDisambiguation\", \"count\": 2.0}, {\"index\": \".yml\", \"variable\": \"TargetedSenseDisambiguation\", \"count\": null}, {\"index\": \".png\", \"variable\": \"TargetedSenseDisambiguation\", \"count\": null}, {\"index\": \".pdf\", \"variable\": \"TargetedSenseDisambiguation\", \"count\": null}, {\"index\": \".py\", \"variable\": \"TargetedSenseDisambiguation\", \"count\": 11.0}, {\"index\": \".pkl\", \"variable\": \"TargetedSenseDisambiguation\", \"count\": null}, {\"index\": \".gif\", \"variable\": \"TargetedSenseDisambiguation\", \"count\": null}, {\"index\": \".txt\", \"variable\": \"TargetedSenseDisambiguation\", \"count\": 1.0}, {\"index\": \".html\", \"variable\": \"TargetedSenseDisambiguation\", \"count\": null}, {\"index\": \".js\", \"variable\": \"TargetedSenseDisambiguation\", \"count\": null}, {\"index\": \".vocab\", \"variable\": \"TargetedSenseDisambiguation\", \"count\": null}, {\"index\": \".yaml\", \"variable\": \"TargetedSenseDisambiguation\", \"count\": null}, {\"index\": \".cfg\", \"variable\": \"TargetedSenseDisambiguation\", \"count\": null}, {\"index\": \".xml\", \"variable\": \"TargetedSenseDisambiguation\", \"count\": null}, {\"index\": \".in\", \"variable\": \"TargetedSenseDisambiguation\", \"count\": null}, {\"index\": \".ini\", \"variable\": \"TargetedSenseDisambiguation\", \"count\": null}, {\"index\": \".lock\", \"variable\": \"TargetedSenseDisambiguation\", \"count\": null}, {\"index\": \".css\", \"variable\": \"TargetedSenseDisambiguation\", \"count\": null}, {\"index\": \".otf\", \"variable\": \"TargetedSenseDisambiguation\", \"count\": null}, {\"index\": \".eot\", \"variable\": \"TargetedSenseDisambiguation\", \"count\": null}, {\"index\": \".svg\", \"variable\": \"TargetedSenseDisambiguation\", \"count\": null}, {\"index\": \".ttf\", \"variable\": \"TargetedSenseDisambiguation\", \"count\": null}, {\"index\": \".woff\", \"variable\": \"TargetedSenseDisambiguation\", \"count\": null}, {\"index\": \".woff2\", \"variable\": \"TargetedSenseDisambiguation\", \"count\": null}, {\"index\": \".ico\", \"variable\": \"TargetedSenseDisambiguation\", \"count\": null}, {\"index\": \".csv\", \"variable\": \"TargetedSenseDisambiguation\", \"count\": null}, {\"index\": \".zip\", \"variable\": \"TargetedSenseDisambiguation\", \"count\": null}, {\"index\": \".xlsx\", \"variable\": \"TargetedSenseDisambiguation\", \"count\": null}, {\"index\": \".rst\", \"variable\": \"TargetedSenseDisambiguation\", \"count\": null}, {\"index\": \".org\", \"variable\": \"TargetedSenseDisambiguation\", \"count\": null}, {\"index\": \".cff\", \"variable\": \"TargetedSenseDisambiguation\", \"count\": null}, {\"index\": \".Rmd\", \"variable\": \"TargetedSenseDisambiguation\", \"count\": null}, {\"index\": \".RDS\", \"variable\": \"TargetedSenseDisambiguation\", \"count\": null}, {\"index\": \".scss\", \"variable\": \"TargetedSenseDisambiguation\", \"count\": null}, {\"index\": \".bib\", \"variable\": \"TargetedSenseDisambiguation\", \"count\": null}, {\"index\": \".md\", \"variable\": \"AtypicalAnimacy\", \"count\": 2.0}, {\"index\": \".ipynb\", \"variable\": \"AtypicalAnimacy\", \"count\": 8.0}, {\"index\": \".yml\", \"variable\": \"AtypicalAnimacy\", \"count\": null}, {\"index\": \".png\", \"variable\": \"AtypicalAnimacy\", \"count\": null}, {\"index\": \".pdf\", \"variable\": \"AtypicalAnimacy\", \"count\": null}, {\"index\": \".py\", \"variable\": \"AtypicalAnimacy\", \"count\": 6.0}, {\"index\": \".pkl\", \"variable\": \"AtypicalAnimacy\", \"count\": null}, {\"index\": \".gif\", \"variable\": \"AtypicalAnimacy\", \"count\": null}, {\"index\": \".txt\", \"variable\": \"AtypicalAnimacy\", \"count\": 1.0}, {\"index\": \".html\", \"variable\": \"AtypicalAnimacy\", \"count\": null}, {\"index\": \".js\", \"variable\": \"AtypicalAnimacy\", \"count\": null}, {\"index\": \".vocab\", \"variable\": \"AtypicalAnimacy\", \"count\": null}, {\"index\": \".yaml\", \"variable\": \"AtypicalAnimacy\", \"count\": null}, {\"index\": \".cfg\", \"variable\": \"AtypicalAnimacy\", \"count\": null}, {\"index\": \".xml\", \"variable\": \"AtypicalAnimacy\", \"count\": null}, {\"index\": \".in\", \"variable\": \"AtypicalAnimacy\", \"count\": null}, {\"index\": \".ini\", \"variable\": \"AtypicalAnimacy\", \"count\": null}, {\"index\": \".lock\", \"variable\": \"AtypicalAnimacy\", \"count\": null}, {\"index\": \".css\", \"variable\": \"AtypicalAnimacy\", \"count\": null}, {\"index\": \".otf\", \"variable\": \"AtypicalAnimacy\", \"count\": null}, {\"index\": \".eot\", \"variable\": \"AtypicalAnimacy\", \"count\": null}, {\"index\": \".svg\", \"variable\": \"AtypicalAnimacy\", \"count\": null}, {\"index\": \".ttf\", \"variable\": \"AtypicalAnimacy\", \"count\": null}, {\"index\": \".woff\", \"variable\": \"AtypicalAnimacy\", \"count\": null}, {\"index\": \".woff2\", \"variable\": \"AtypicalAnimacy\", \"count\": null}, {\"index\": \".ico\", \"variable\": \"AtypicalAnimacy\", \"count\": null}, {\"index\": \".csv\", \"variable\": \"AtypicalAnimacy\", \"count\": null}, {\"index\": \".zip\", \"variable\": \"AtypicalAnimacy\", \"count\": null}, {\"index\": \".xlsx\", \"variable\": \"AtypicalAnimacy\", \"count\": null}, {\"index\": \".rst\", \"variable\": \"AtypicalAnimacy\", \"count\": null}, {\"index\": \".org\", \"variable\": \"AtypicalAnimacy\", \"count\": null}, {\"index\": \".cff\", \"variable\": \"AtypicalAnimacy\", \"count\": null}, {\"index\": \".Rmd\", \"variable\": \"AtypicalAnimacy\", \"count\": null}, {\"index\": \".RDS\", \"variable\": \"AtypicalAnimacy\", \"count\": null}, {\"index\": \".scss\", \"variable\": \"AtypicalAnimacy\", \"count\": null}, {\"index\": \".bib\", \"variable\": \"AtypicalAnimacy\", \"count\": null}, {\"index\": \".md\", \"variable\": \"nnanno\", \"count\": 3.0}, {\"index\": \".ipynb\", \"variable\": \"nnanno\", \"count\": 13.0}, {\"index\": \".yml\", \"variable\": \"nnanno\", \"count\": 11.0}, {\"index\": \".png\", \"variable\": \"nnanno\", \"count\": 5.0}, {\"index\": \".pdf\", \"variable\": \"nnanno\", \"count\": null}, {\"index\": \".py\", \"variable\": \"nnanno\", \"count\": 7.0}, {\"index\": \".pkl\", \"variable\": \"nnanno\", \"count\": null}, {\"index\": \".gif\", \"variable\": \"nnanno\", \"count\": null}, {\"index\": \".txt\", \"variable\": \"nnanno\", \"count\": 1.0}, {\"index\": \".html\", \"variable\": \"nnanno\", \"count\": 36.0}, {\"index\": \".js\", \"variable\": \"nnanno\", \"count\": 6.0}, {\"index\": \".vocab\", \"variable\": \"nnanno\", \"count\": null}, {\"index\": \".yaml\", \"variable\": \"nnanno\", \"count\": null}, {\"index\": \".cfg\", \"variable\": \"nnanno\", \"count\": null}, {\"index\": \".xml\", \"variable\": \"nnanno\", \"count\": 3.0}, {\"index\": \".in\", \"variable\": \"nnanno\", \"count\": 1.0}, {\"index\": \".ini\", \"variable\": \"nnanno\", \"count\": 1.0}, {\"index\": \".lock\", \"variable\": \"nnanno\", \"count\": 1.0}, {\"index\": \".css\", \"variable\": \"nnanno\", \"count\": 9.0}, {\"index\": \".otf\", \"variable\": \"nnanno\", \"count\": 2.0}, {\"index\": \".eot\", \"variable\": \"nnanno\", \"count\": 3.0}, {\"index\": \".svg\", \"variable\": \"nnanno\", \"count\": 4.0}, {\"index\": \".ttf\", \"variable\": \"nnanno\", \"count\": 3.0}, {\"index\": \".woff\", \"variable\": \"nnanno\", \"count\": 3.0}, {\"index\": \".woff2\", \"variable\": \"nnanno\", \"count\": 2.0}, {\"index\": \".ico\", \"variable\": \"nnanno\", \"count\": 1.0}, {\"index\": \".csv\", \"variable\": \"nnanno\", \"count\": 7.0}, {\"index\": \".zip\", \"variable\": \"nnanno\", \"count\": null}, {\"index\": \".xlsx\", \"variable\": \"nnanno\", \"count\": null}, {\"index\": \".rst\", \"variable\": \"nnanno\", \"count\": null}, {\"index\": \".org\", \"variable\": \"nnanno\", \"count\": null}, {\"index\": \".cff\", \"variable\": \"nnanno\", \"count\": null}, {\"index\": \".Rmd\", \"variable\": \"nnanno\", \"count\": null}, {\"index\": \".RDS\", \"variable\": \"nnanno\", \"count\": null}, {\"index\": \".scss\", \"variable\": \"nnanno\", \"count\": null}, {\"index\": \".bib\", \"variable\": \"nnanno\", \"count\": null}, {\"index\": \".md\", \"variable\": \"computer-vision-DHNordic-2020-workshop\", \"count\": 1.0}, {\"index\": \".ipynb\", \"variable\": \"computer-vision-DHNordic-2020-workshop\", \"count\": 3.0}, {\"index\": \".yml\", \"variable\": \"computer-vision-DHNordic-2020-workshop\", \"count\": 1.0}, {\"index\": \".png\", \"variable\": \"computer-vision-DHNordic-2020-workshop\", \"count\": 3.0}, {\"index\": \".pdf\", \"variable\": \"computer-vision-DHNordic-2020-workshop\", \"count\": null}, {\"index\": \".py\", \"variable\": \"computer-vision-DHNordic-2020-workshop\", \"count\": null}, {\"index\": \".pkl\", \"variable\": \"computer-vision-DHNordic-2020-workshop\", \"count\": null}, {\"index\": \".gif\", \"variable\": \"computer-vision-DHNordic-2020-workshop\", \"count\": null}, {\"index\": \".txt\", \"variable\": \"computer-vision-DHNordic-2020-workshop\", \"count\": null}, {\"index\": \".html\", \"variable\": \"computer-vision-DHNordic-2020-workshop\", \"count\": null}, {\"index\": \".js\", \"variable\": \"computer-vision-DHNordic-2020-workshop\", \"count\": null}, {\"index\": \".vocab\", \"variable\": \"computer-vision-DHNordic-2020-workshop\", \"count\": null}, {\"index\": \".yaml\", \"variable\": \"computer-vision-DHNordic-2020-workshop\", \"count\": null}, {\"index\": \".cfg\", \"variable\": \"computer-vision-DHNordic-2020-workshop\", \"count\": null}, {\"index\": \".xml\", \"variable\": \"computer-vision-DHNordic-2020-workshop\", \"count\": null}, {\"index\": \".in\", \"variable\": \"computer-vision-DHNordic-2020-workshop\", \"count\": null}, {\"index\": \".ini\", \"variable\": \"computer-vision-DHNordic-2020-workshop\", \"count\": null}, {\"index\": \".lock\", \"variable\": \"computer-vision-DHNordic-2020-workshop\", \"count\": null}, {\"index\": \".css\", \"variable\": \"computer-vision-DHNordic-2020-workshop\", \"count\": null}, {\"index\": \".otf\", \"variable\": \"computer-vision-DHNordic-2020-workshop\", \"count\": null}, {\"index\": \".eot\", \"variable\": \"computer-vision-DHNordic-2020-workshop\", \"count\": null}, {\"index\": \".svg\", \"variable\": \"computer-vision-DHNordic-2020-workshop\", \"count\": null}, {\"index\": \".ttf\", \"variable\": \"computer-vision-DHNordic-2020-workshop\", \"count\": null}, {\"index\": \".woff\", \"variable\": \"computer-vision-DHNordic-2020-workshop\", \"count\": null}, {\"index\": \".woff2\", \"variable\": \"computer-vision-DHNordic-2020-workshop\", \"count\": null}, {\"index\": \".ico\", \"variable\": \"computer-vision-DHNordic-2020-workshop\", \"count\": null}, {\"index\": \".csv\", \"variable\": \"computer-vision-DHNordic-2020-workshop\", \"count\": null}, {\"index\": \".zip\", \"variable\": \"computer-vision-DHNordic-2020-workshop\", \"count\": 1.0}, {\"index\": \".xlsx\", \"variable\": \"computer-vision-DHNordic-2020-workshop\", \"count\": null}, {\"index\": \".rst\", \"variable\": \"computer-vision-DHNordic-2020-workshop\", \"count\": null}, {\"index\": \".org\", \"variable\": \"computer-vision-DHNordic-2020-workshop\", \"count\": null}, {\"index\": \".cff\", \"variable\": \"computer-vision-DHNordic-2020-workshop\", \"count\": null}, {\"index\": \".Rmd\", \"variable\": \"computer-vision-DHNordic-2020-workshop\", \"count\": null}, {\"index\": \".RDS\", \"variable\": \"computer-vision-DHNordic-2020-workshop\", \"count\": null}, {\"index\": \".scss\", \"variable\": \"computer-vision-DHNordic-2020-workshop\", \"count\": null}, {\"index\": \".bib\", \"variable\": \"computer-vision-DHNordic-2020-workshop\", \"count\": null}, {\"index\": \".md\", \"variable\": \"maps-at-scale-using-computer-vision-and-jupyter-notebooks\", \"count\": 1.0}, {\"index\": \".ipynb\", \"variable\": \"maps-at-scale-using-computer-vision-and-jupyter-notebooks\", \"count\": 2.0}, {\"index\": \".yml\", \"variable\": \"maps-at-scale-using-computer-vision-and-jupyter-notebooks\", \"count\": null}, {\"index\": \".png\", \"variable\": \"maps-at-scale-using-computer-vision-and-jupyter-notebooks\", \"count\": 1.0}, {\"index\": \".pdf\", \"variable\": \"maps-at-scale-using-computer-vision-and-jupyter-notebooks\", \"count\": null}, {\"index\": \".py\", \"variable\": \"maps-at-scale-using-computer-vision-and-jupyter-notebooks\", \"count\": null}, {\"index\": \".pkl\", \"variable\": \"maps-at-scale-using-computer-vision-and-jupyter-notebooks\", \"count\": null}, {\"index\": \".gif\", \"variable\": \"maps-at-scale-using-computer-vision-and-jupyter-notebooks\", \"count\": null}, {\"index\": \".txt\", \"variable\": \"maps-at-scale-using-computer-vision-and-jupyter-notebooks\", \"count\": null}, {\"index\": \".html\", \"variable\": \"maps-at-scale-using-computer-vision-and-jupyter-notebooks\", \"count\": null}, {\"index\": \".js\", \"variable\": \"maps-at-scale-using-computer-vision-and-jupyter-notebooks\", \"count\": null}, {\"index\": \".vocab\", \"variable\": \"maps-at-scale-using-computer-vision-and-jupyter-notebooks\", \"count\": null}, {\"index\": \".yaml\", \"variable\": \"maps-at-scale-using-computer-vision-and-jupyter-notebooks\", \"count\": null}, {\"index\": \".cfg\", \"variable\": \"maps-at-scale-using-computer-vision-and-jupyter-notebooks\", \"count\": null}, {\"index\": \".xml\", \"variable\": \"maps-at-scale-using-computer-vision-and-jupyter-notebooks\", \"count\": null}, {\"index\": \".in\", \"variable\": \"maps-at-scale-using-computer-vision-and-jupyter-notebooks\", \"count\": null}, {\"index\": \".ini\", \"variable\": \"maps-at-scale-using-computer-vision-and-jupyter-notebooks\", \"count\": null}, {\"index\": \".lock\", \"variable\": \"maps-at-scale-using-computer-vision-and-jupyter-notebooks\", \"count\": null}, {\"index\": \".css\", \"variable\": \"maps-at-scale-using-computer-vision-and-jupyter-notebooks\", \"count\": null}, {\"index\": \".otf\", \"variable\": \"maps-at-scale-using-computer-vision-and-jupyter-notebooks\", \"count\": null}, {\"index\": \".eot\", \"variable\": \"maps-at-scale-using-computer-vision-and-jupyter-notebooks\", \"count\": null}, {\"index\": \".svg\", \"variable\": \"maps-at-scale-using-computer-vision-and-jupyter-notebooks\", \"count\": null}, {\"index\": \".ttf\", \"variable\": \"maps-at-scale-using-computer-vision-and-jupyter-notebooks\", \"count\": null}, {\"index\": \".woff\", \"variable\": \"maps-at-scale-using-computer-vision-and-jupyter-notebooks\", \"count\": null}, {\"index\": \".woff2\", \"variable\": \"maps-at-scale-using-computer-vision-and-jupyter-notebooks\", \"count\": null}, {\"index\": \".ico\", \"variable\": \"maps-at-scale-using-computer-vision-and-jupyter-notebooks\", \"count\": null}, {\"index\": \".csv\", \"variable\": \"maps-at-scale-using-computer-vision-and-jupyter-notebooks\", \"count\": null}, {\"index\": \".zip\", \"variable\": \"maps-at-scale-using-computer-vision-and-jupyter-notebooks\", \"count\": null}, {\"index\": \".xlsx\", \"variable\": \"maps-at-scale-using-computer-vision-and-jupyter-notebooks\", \"count\": null}, {\"index\": \".rst\", \"variable\": \"maps-at-scale-using-computer-vision-and-jupyter-notebooks\", \"count\": null}, {\"index\": \".org\", \"variable\": \"maps-at-scale-using-computer-vision-and-jupyter-notebooks\", \"count\": null}, {\"index\": \".cff\", \"variable\": \"maps-at-scale-using-computer-vision-and-jupyter-notebooks\", \"count\": null}, {\"index\": \".Rmd\", \"variable\": \"maps-at-scale-using-computer-vision-and-jupyter-notebooks\", \"count\": null}, {\"index\": \".RDS\", \"variable\": \"maps-at-scale-using-computer-vision-and-jupyter-notebooks\", \"count\": null}, {\"index\": \".scss\", \"variable\": \"maps-at-scale-using-computer-vision-and-jupyter-notebooks\", \"count\": null}, {\"index\": \".bib\", \"variable\": \"maps-at-scale-using-computer-vision-and-jupyter-notebooks\", \"count\": null}, {\"index\": \".md\", \"variable\": \"gh_orgstats\", \"count\": 2.0}, {\"index\": \".ipynb\", \"variable\": \"gh_orgstats\", \"count\": 2.0}, {\"index\": \".yml\", \"variable\": \"gh_orgstats\", \"count\": 11.0}, {\"index\": \".png\", \"variable\": \"gh_orgstats\", \"count\": 7.0}, {\"index\": \".pdf\", \"variable\": \"gh_orgstats\", \"count\": null}, {\"index\": \".py\", \"variable\": \"gh_orgstats\", \"count\": 4.0}, {\"index\": \".pkl\", \"variable\": \"gh_orgstats\", \"count\": null}, {\"index\": \".gif\", \"variable\": \"gh_orgstats\", \"count\": null}, {\"index\": \".txt\", \"variable\": \"gh_orgstats\", \"count\": 1.0}, {\"index\": \".html\", \"variable\": \"gh_orgstats\", \"count\": 27.0}, {\"index\": \".js\", \"variable\": \"gh_orgstats\", \"count\": 6.0}, {\"index\": \".vocab\", \"variable\": \"gh_orgstats\", \"count\": null}, {\"index\": \".yaml\", \"variable\": \"gh_orgstats\", \"count\": null}, {\"index\": \".cfg\", \"variable\": \"gh_orgstats\", \"count\": null}, {\"index\": \".xml\", \"variable\": \"gh_orgstats\", \"count\": 2.0}, {\"index\": \".in\", \"variable\": \"gh_orgstats\", \"count\": 1.0}, {\"index\": \".ini\", \"variable\": \"gh_orgstats\", \"count\": 1.0}, {\"index\": \".lock\", \"variable\": \"gh_orgstats\", \"count\": 1.0}, {\"index\": \".css\", \"variable\": \"gh_orgstats\", \"count\": 9.0}, {\"index\": \".otf\", \"variable\": \"gh_orgstats\", \"count\": 2.0}, {\"index\": \".eot\", \"variable\": \"gh_orgstats\", \"count\": 3.0}, {\"index\": \".svg\", \"variable\": \"gh_orgstats\", \"count\": 4.0}, {\"index\": \".ttf\", \"variable\": \"gh_orgstats\", \"count\": 3.0}, {\"index\": \".woff\", \"variable\": \"gh_orgstats\", \"count\": 3.0}, {\"index\": \".woff2\", \"variable\": \"gh_orgstats\", \"count\": 2.0}, {\"index\": \".ico\", \"variable\": \"gh_orgstats\", \"count\": 2.0}, {\"index\": \".csv\", \"variable\": \"gh_orgstats\", \"count\": null}, {\"index\": \".zip\", \"variable\": \"gh_orgstats\", \"count\": null}, {\"index\": \".xlsx\", \"variable\": \"gh_orgstats\", \"count\": null}, {\"index\": \".rst\", \"variable\": \"gh_orgstats\", \"count\": null}, {\"index\": \".org\", \"variable\": \"gh_orgstats\", \"count\": null}, {\"index\": \".cff\", \"variable\": \"gh_orgstats\", \"count\": null}, {\"index\": \".Rmd\", \"variable\": \"gh_orgstats\", \"count\": null}, {\"index\": \".RDS\", \"variable\": \"gh_orgstats\", \"count\": null}, {\"index\": \".scss\", \"variable\": \"gh_orgstats\", \"count\": null}, {\"index\": \".bib\", \"variable\": \"gh_orgstats\", \"count\": null}, {\"index\": \".md\", \"variable\": \"GazFuse\", \"count\": 1.0}, {\"index\": \".ipynb\", \"variable\": \"GazFuse\", \"count\": null}, {\"index\": \".yml\", \"variable\": \"GazFuse\", \"count\": null}, {\"index\": \".png\", \"variable\": \"GazFuse\", \"count\": null}, {\"index\": \".pdf\", \"variable\": \"GazFuse\", \"count\": null}, {\"index\": \".py\", \"variable\": \"GazFuse\", \"count\": null}, {\"index\": \".pkl\", \"variable\": \"GazFuse\", \"count\": null}, {\"index\": \".gif\", \"variable\": \"GazFuse\", \"count\": null}, {\"index\": \".txt\", \"variable\": \"GazFuse\", \"count\": null}, {\"index\": \".html\", \"variable\": \"GazFuse\", \"count\": null}, {\"index\": \".js\", \"variable\": \"GazFuse\", \"count\": null}, {\"index\": \".vocab\", \"variable\": \"GazFuse\", \"count\": null}, {\"index\": \".yaml\", \"variable\": \"GazFuse\", \"count\": null}, {\"index\": \".cfg\", \"variable\": \"GazFuse\", \"count\": null}, {\"index\": \".xml\", \"variable\": \"GazFuse\", \"count\": null}, {\"index\": \".in\", \"variable\": \"GazFuse\", \"count\": null}, {\"index\": \".ini\", \"variable\": \"GazFuse\", \"count\": null}, {\"index\": \".lock\", \"variable\": \"GazFuse\", \"count\": null}, {\"index\": \".css\", \"variable\": \"GazFuse\", \"count\": null}, {\"index\": \".otf\", \"variable\": \"GazFuse\", \"count\": null}, {\"index\": \".eot\", \"variable\": \"GazFuse\", \"count\": null}, {\"index\": \".svg\", \"variable\": \"GazFuse\", \"count\": null}, {\"index\": \".ttf\", \"variable\": \"GazFuse\", \"count\": null}, {\"index\": \".woff\", \"variable\": \"GazFuse\", \"count\": null}, {\"index\": \".woff2\", \"variable\": \"GazFuse\", \"count\": null}, {\"index\": \".ico\", \"variable\": \"GazFuse\", \"count\": null}, {\"index\": \".csv\", \"variable\": \"GazFuse\", \"count\": null}, {\"index\": \".zip\", \"variable\": \"GazFuse\", \"count\": null}, {\"index\": \".xlsx\", \"variable\": \"GazFuse\", \"count\": null}, {\"index\": \".rst\", \"variable\": \"GazFuse\", \"count\": null}, {\"index\": \".org\", \"variable\": \"GazFuse\", \"count\": null}, {\"index\": \".cff\", \"variable\": \"GazFuse\", \"count\": null}, {\"index\": \".Rmd\", \"variable\": \"GazFuse\", \"count\": null}, {\"index\": \".RDS\", \"variable\": \"GazFuse\", \"count\": null}, {\"index\": \".scss\", \"variable\": \"GazFuse\", \"count\": null}, {\"index\": \".bib\", \"variable\": \"GazFuse\", \"count\": null}, {\"index\": \".md\", \"variable\": \"github_stats_report\", \"count\": 2.0}, {\"index\": \".ipynb\", \"variable\": \"github_stats_report\", \"count\": 2.0}, {\"index\": \".yml\", \"variable\": \"github_stats_report\", \"count\": 2.0}, {\"index\": \".png\", \"variable\": \"github_stats_report\", \"count\": null}, {\"index\": \".pdf\", \"variable\": \"github_stats_report\", \"count\": null}, {\"index\": \".py\", \"variable\": \"github_stats_report\", \"count\": null}, {\"index\": \".pkl\", \"variable\": \"github_stats_report\", \"count\": null}, {\"index\": \".gif\", \"variable\": \"github_stats_report\", \"count\": null}, {\"index\": \".txt\", \"variable\": \"github_stats_report\", \"count\": null}, {\"index\": \".html\", \"variable\": \"github_stats_report\", \"count\": 1.0}, {\"index\": \".js\", \"variable\": \"github_stats_report\", \"count\": null}, {\"index\": \".vocab\", \"variable\": \"github_stats_report\", \"count\": null}, {\"index\": \".yaml\", \"variable\": \"github_stats_report\", \"count\": null}, {\"index\": \".cfg\", \"variable\": \"github_stats_report\", \"count\": null}, {\"index\": \".xml\", \"variable\": \"github_stats_report\", \"count\": null}, {\"index\": \".in\", \"variable\": \"github_stats_report\", \"count\": null}, {\"index\": \".ini\", \"variable\": \"github_stats_report\", \"count\": null}, {\"index\": \".lock\", \"variable\": \"github_stats_report\", \"count\": null}, {\"index\": \".css\", \"variable\": \"github_stats_report\", \"count\": null}, {\"index\": \".otf\", \"variable\": \"github_stats_report\", \"count\": null}, {\"index\": \".eot\", \"variable\": \"github_stats_report\", \"count\": null}, {\"index\": \".svg\", \"variable\": \"github_stats_report\", \"count\": null}, {\"index\": \".ttf\", \"variable\": \"github_stats_report\", \"count\": null}, {\"index\": \".woff\", \"variable\": \"github_stats_report\", \"count\": null}, {\"index\": \".woff2\", \"variable\": \"github_stats_report\", \"count\": null}, {\"index\": \".ico\", \"variable\": \"github_stats_report\", \"count\": null}, {\"index\": \".csv\", \"variable\": \"github_stats_report\", \"count\": 64.0}, {\"index\": \".zip\", \"variable\": \"github_stats_report\", \"count\": null}, {\"index\": \".xlsx\", \"variable\": \"github_stats_report\", \"count\": null}, {\"index\": \".rst\", \"variable\": \"github_stats_report\", \"count\": null}, {\"index\": \".org\", \"variable\": \"github_stats_report\", \"count\": null}, {\"index\": \".cff\", \"variable\": \"github_stats_report\", \"count\": null}, {\"index\": \".Rmd\", \"variable\": \"github_stats_report\", \"count\": null}, {\"index\": \".RDS\", \"variable\": \"github_stats_report\", \"count\": null}, {\"index\": \".scss\", \"variable\": \"github_stats_report\", \"count\": null}, {\"index\": \".bib\", \"variable\": \"github_stats_report\", \"count\": null}, {\"index\": \".md\", \"variable\": \"nnanno_example_data\", \"count\": 2.0}, {\"index\": \".ipynb\", \"variable\": \"nnanno_example_data\", \"count\": null}, {\"index\": \".yml\", \"variable\": \"nnanno_example_data\", \"count\": 1.0}, {\"index\": \".png\", \"variable\": \"nnanno_example_data\", \"count\": null}, {\"index\": \".pdf\", \"variable\": \"nnanno_example_data\", \"count\": null}, {\"index\": \".py\", \"variable\": \"nnanno_example_data\", \"count\": null}, {\"index\": \".pkl\", \"variable\": \"nnanno_example_data\", \"count\": null}, {\"index\": \".gif\", \"variable\": \"nnanno_example_data\", \"count\": null}, {\"index\": \".txt\", \"variable\": \"nnanno_example_data\", \"count\": null}, {\"index\": \".html\", \"variable\": \"nnanno_example_data\", \"count\": null}, {\"index\": \".js\", \"variable\": \"nnanno_example_data\", \"count\": null}, {\"index\": \".vocab\", \"variable\": \"nnanno_example_data\", \"count\": null}, {\"index\": \".yaml\", \"variable\": \"nnanno_example_data\", \"count\": null}, {\"index\": \".cfg\", \"variable\": \"nnanno_example_data\", \"count\": null}, {\"index\": \".xml\", \"variable\": \"nnanno_example_data\", \"count\": null}, {\"index\": \".in\", \"variable\": \"nnanno_example_data\", \"count\": null}, {\"index\": \".ini\", \"variable\": \"nnanno_example_data\", \"count\": null}, {\"index\": \".lock\", \"variable\": \"nnanno_example_data\", \"count\": null}, {\"index\": \".css\", \"variable\": \"nnanno_example_data\", \"count\": null}, {\"index\": \".otf\", \"variable\": \"nnanno_example_data\", \"count\": null}, {\"index\": \".eot\", \"variable\": \"nnanno_example_data\", \"count\": null}, {\"index\": \".svg\", \"variable\": \"nnanno_example_data\", \"count\": null}, {\"index\": \".ttf\", \"variable\": \"nnanno_example_data\", \"count\": null}, {\"index\": \".woff\", \"variable\": \"nnanno_example_data\", \"count\": null}, {\"index\": \".woff2\", \"variable\": \"nnanno_example_data\", \"count\": null}, {\"index\": \".ico\", \"variable\": \"nnanno_example_data\", \"count\": null}, {\"index\": \".csv\", \"variable\": \"nnanno_example_data\", \"count\": 4.0}, {\"index\": \".zip\", \"variable\": \"nnanno_example_data\", \"count\": null}, {\"index\": \".xlsx\", \"variable\": \"nnanno_example_data\", \"count\": null}, {\"index\": \".rst\", \"variable\": \"nnanno_example_data\", \"count\": null}, {\"index\": \".org\", \"variable\": \"nnanno_example_data\", \"count\": null}, {\"index\": \".cff\", \"variable\": \"nnanno_example_data\", \"count\": null}, {\"index\": \".Rmd\", \"variable\": \"nnanno_example_data\", \"count\": null}, {\"index\": \".RDS\", \"variable\": \"nnanno_example_data\", \"count\": null}, {\"index\": \".scss\", \"variable\": \"nnanno_example_data\", \"count\": null}, {\"index\": \".bib\", \"variable\": \"nnanno_example_data\", \"count\": null}, {\"index\": \".md\", \"variable\": \"hmd_newspaper_dl\", \"count\": 2.0}, {\"index\": \".ipynb\", \"variable\": \"hmd_newspaper_dl\", \"count\": 2.0}, {\"index\": \".yml\", \"variable\": \"hmd_newspaper_dl\", \"count\": 3.0}, {\"index\": \".png\", \"variable\": \"hmd_newspaper_dl\", \"count\": null}, {\"index\": \".pdf\", \"variable\": \"hmd_newspaper_dl\", \"count\": null}, {\"index\": \".py\", \"variable\": \"hmd_newspaper_dl\", \"count\": 4.0}, {\"index\": \".pkl\", \"variable\": \"hmd_newspaper_dl\", \"count\": null}, {\"index\": \".gif\", \"variable\": \"hmd_newspaper_dl\", \"count\": null}, {\"index\": \".txt\", \"variable\": \"hmd_newspaper_dl\", \"count\": null}, {\"index\": \".html\", \"variable\": \"hmd_newspaper_dl\", \"count\": null}, {\"index\": \".js\", \"variable\": \"hmd_newspaper_dl\", \"count\": null}, {\"index\": \".vocab\", \"variable\": \"hmd_newspaper_dl\", \"count\": null}, {\"index\": \".yaml\", \"variable\": \"hmd_newspaper_dl\", \"count\": null}, {\"index\": \".cfg\", \"variable\": \"hmd_newspaper_dl\", \"count\": null}, {\"index\": \".xml\", \"variable\": \"hmd_newspaper_dl\", \"count\": null}, {\"index\": \".in\", \"variable\": \"hmd_newspaper_dl\", \"count\": 1.0}, {\"index\": \".ini\", \"variable\": \"hmd_newspaper_dl\", \"count\": 1.0}, {\"index\": \".lock\", \"variable\": \"hmd_newspaper_dl\", \"count\": null}, {\"index\": \".css\", \"variable\": \"hmd_newspaper_dl\", \"count\": null}, {\"index\": \".otf\", \"variable\": \"hmd_newspaper_dl\", \"count\": null}, {\"index\": \".eot\", \"variable\": \"hmd_newspaper_dl\", \"count\": null}, {\"index\": \".svg\", \"variable\": \"hmd_newspaper_dl\", \"count\": null}, {\"index\": \".ttf\", \"variable\": \"hmd_newspaper_dl\", \"count\": null}, {\"index\": \".woff\", \"variable\": \"hmd_newspaper_dl\", \"count\": null}, {\"index\": \".woff2\", \"variable\": \"hmd_newspaper_dl\", \"count\": null}, {\"index\": \".ico\", \"variable\": \"hmd_newspaper_dl\", \"count\": null}, {\"index\": \".csv\", \"variable\": \"hmd_newspaper_dl\", \"count\": null}, {\"index\": \".zip\", \"variable\": \"hmd_newspaper_dl\", \"count\": null}, {\"index\": \".xlsx\", \"variable\": \"hmd_newspaper_dl\", \"count\": null}, {\"index\": \".rst\", \"variable\": \"hmd_newspaper_dl\", \"count\": null}, {\"index\": \".org\", \"variable\": \"hmd_newspaper_dl\", \"count\": null}, {\"index\": \".cff\", \"variable\": \"hmd_newspaper_dl\", \"count\": null}, {\"index\": \".Rmd\", \"variable\": \"hmd_newspaper_dl\", \"count\": null}, {\"index\": \".RDS\", \"variable\": \"hmd_newspaper_dl\", \"count\": null}, {\"index\": \".scss\", \"variable\": \"hmd_newspaper_dl\", \"count\": null}, {\"index\": \".bib\", \"variable\": \"hmd_newspaper_dl\", \"count\": null}, {\"index\": \".md\", \"variable\": \"PressPicker_public\", \"count\": 1.0}, {\"index\": \".ipynb\", \"variable\": \"PressPicker_public\", \"count\": 4.0}, {\"index\": \".yml\", \"variable\": \"PressPicker_public\", \"count\": 1.0}, {\"index\": \".png\", \"variable\": \"PressPicker_public\", \"count\": 6.0}, {\"index\": \".pdf\", \"variable\": \"PressPicker_public\", \"count\": null}, {\"index\": \".py\", \"variable\": \"PressPicker_public\", \"count\": null}, {\"index\": \".pkl\", \"variable\": \"PressPicker_public\", \"count\": null}, {\"index\": \".gif\", \"variable\": \"PressPicker_public\", \"count\": null}, {\"index\": \".txt\", \"variable\": \"PressPicker_public\", \"count\": 1.0}, {\"index\": \".html\", \"variable\": \"PressPicker_public\", \"count\": 2.0}, {\"index\": \".js\", \"variable\": \"PressPicker_public\", \"count\": 2.0}, {\"index\": \".vocab\", \"variable\": \"PressPicker_public\", \"count\": null}, {\"index\": \".yaml\", \"variable\": \"PressPicker_public\", \"count\": null}, {\"index\": \".cfg\", \"variable\": \"PressPicker_public\", \"count\": null}, {\"index\": \".xml\", \"variable\": \"PressPicker_public\", \"count\": null}, {\"index\": \".in\", \"variable\": \"PressPicker_public\", \"count\": null}, {\"index\": \".ini\", \"variable\": \"PressPicker_public\", \"count\": null}, {\"index\": \".lock\", \"variable\": \"PressPicker_public\", \"count\": null}, {\"index\": \".css\", \"variable\": \"PressPicker_public\", \"count\": null}, {\"index\": \".otf\", \"variable\": \"PressPicker_public\", \"count\": null}, {\"index\": \".eot\", \"variable\": \"PressPicker_public\", \"count\": null}, {\"index\": \".svg\", \"variable\": \"PressPicker_public\", \"count\": null}, {\"index\": \".ttf\", \"variable\": \"PressPicker_public\", \"count\": null}, {\"index\": \".woff\", \"variable\": \"PressPicker_public\", \"count\": null}, {\"index\": \".woff2\", \"variable\": \"PressPicker_public\", \"count\": null}, {\"index\": \".ico\", \"variable\": \"PressPicker_public\", \"count\": null}, {\"index\": \".csv\", \"variable\": \"PressPicker_public\", \"count\": 9.0}, {\"index\": \".zip\", \"variable\": \"PressPicker_public\", \"count\": null}, {\"index\": \".xlsx\", \"variable\": \"PressPicker_public\", \"count\": 5.0}, {\"index\": \".rst\", \"variable\": \"PressPicker_public\", \"count\": null}, {\"index\": \".org\", \"variable\": \"PressPicker_public\", \"count\": null}, {\"index\": \".cff\", \"variable\": \"PressPicker_public\", \"count\": null}, {\"index\": \".Rmd\", \"variable\": \"PressPicker_public\", \"count\": null}, {\"index\": \".RDS\", \"variable\": \"PressPicker_public\", \"count\": null}, {\"index\": \".scss\", \"variable\": \"PressPicker_public\", \"count\": null}, {\"index\": \".bib\", \"variable\": \"PressPicker_public\", \"count\": null}, {\"index\": \".md\", \"variable\": \"Computer-Vision-for-the-Humanities-workshop\", \"count\": 1.0}, {\"index\": \".ipynb\", \"variable\": \"Computer-Vision-for-the-Humanities-workshop\", \"count\": 4.0}, {\"index\": \".yml\", \"variable\": \"Computer-Vision-for-the-Humanities-workshop\", \"count\": null}, {\"index\": \".png\", \"variable\": \"Computer-Vision-for-the-Humanities-workshop\", \"count\": 4.0}, {\"index\": \".pdf\", \"variable\": \"Computer-Vision-for-the-Humanities-workshop\", \"count\": 1.0}, {\"index\": \".py\", \"variable\": \"Computer-Vision-for-the-Humanities-workshop\", \"count\": null}, {\"index\": \".pkl\", \"variable\": \"Computer-Vision-for-the-Humanities-workshop\", \"count\": null}, {\"index\": \".gif\", \"variable\": \"Computer-Vision-for-the-Humanities-workshop\", \"count\": null}, {\"index\": \".txt\", \"variable\": \"Computer-Vision-for-the-Humanities-workshop\", \"count\": 1.0}, {\"index\": \".html\", \"variable\": \"Computer-Vision-for-the-Humanities-workshop\", \"count\": null}, {\"index\": \".js\", \"variable\": \"Computer-Vision-for-the-Humanities-workshop\", \"count\": null}, {\"index\": \".vocab\", \"variable\": \"Computer-Vision-for-the-Humanities-workshop\", \"count\": null}, {\"index\": \".yaml\", \"variable\": \"Computer-Vision-for-the-Humanities-workshop\", \"count\": 1.0}, {\"index\": \".cfg\", \"variable\": \"Computer-Vision-for-the-Humanities-workshop\", \"count\": null}, {\"index\": \".xml\", \"variable\": \"Computer-Vision-for-the-Humanities-workshop\", \"count\": null}, {\"index\": \".in\", \"variable\": \"Computer-Vision-for-the-Humanities-workshop\", \"count\": null}, {\"index\": \".ini\", \"variable\": \"Computer-Vision-for-the-Humanities-workshop\", \"count\": null}, {\"index\": \".lock\", \"variable\": \"Computer-Vision-for-the-Humanities-workshop\", \"count\": null}, {\"index\": \".css\", \"variable\": \"Computer-Vision-for-the-Humanities-workshop\", \"count\": null}, {\"index\": \".otf\", \"variable\": \"Computer-Vision-for-the-Humanities-workshop\", \"count\": null}, {\"index\": \".eot\", \"variable\": \"Computer-Vision-for-the-Humanities-workshop\", \"count\": null}, {\"index\": \".svg\", \"variable\": \"Computer-Vision-for-the-Humanities-workshop\", \"count\": null}, {\"index\": \".ttf\", \"variable\": \"Computer-Vision-for-the-Humanities-workshop\", \"count\": null}, {\"index\": \".woff\", \"variable\": \"Computer-Vision-for-the-Humanities-workshop\", \"count\": null}, {\"index\": \".woff2\", \"variable\": \"Computer-Vision-for-the-Humanities-workshop\", \"count\": null}, {\"index\": \".ico\", \"variable\": \"Computer-Vision-for-the-Humanities-workshop\", \"count\": null}, {\"index\": \".csv\", \"variable\": \"Computer-Vision-for-the-Humanities-workshop\", \"count\": 2.0}, {\"index\": \".zip\", \"variable\": \"Computer-Vision-for-the-Humanities-workshop\", \"count\": null}, {\"index\": \".xlsx\", \"variable\": \"Computer-Vision-for-the-Humanities-workshop\", \"count\": null}, {\"index\": \".rst\", \"variable\": \"Computer-Vision-for-the-Humanities-workshop\", \"count\": 2.0}, {\"index\": \".org\", \"variable\": \"Computer-Vision-for-the-Humanities-workshop\", \"count\": 1.0}, {\"index\": \".cff\", \"variable\": \"Computer-Vision-for-the-Humanities-workshop\", \"count\": null}, {\"index\": \".Rmd\", \"variable\": \"Computer-Vision-for-the-Humanities-workshop\", \"count\": null}, {\"index\": \".RDS\", \"variable\": \"Computer-Vision-for-the-Humanities-workshop\", \"count\": null}, {\"index\": \".scss\", \"variable\": \"Computer-Vision-for-the-Humanities-workshop\", \"count\": null}, {\"index\": \".bib\", \"variable\": \"Computer-Vision-for-the-Humanities-workshop\", \"count\": null}, {\"index\": \".md\", \"variable\": \"Jupyter-Notebooks-The-Weird-and-Wonderful\", \"count\": 1.0}, {\"index\": \".ipynb\", \"variable\": \"Jupyter-Notebooks-The-Weird-and-Wonderful\", \"count\": 2.0}, {\"index\": \".yml\", \"variable\": \"Jupyter-Notebooks-The-Weird-and-Wonderful\", \"count\": null}, {\"index\": \".png\", \"variable\": \"Jupyter-Notebooks-The-Weird-and-Wonderful\", \"count\": null}, {\"index\": \".pdf\", \"variable\": \"Jupyter-Notebooks-The-Weird-and-Wonderful\", \"count\": null}, {\"index\": \".py\", \"variable\": \"Jupyter-Notebooks-The-Weird-and-Wonderful\", \"count\": null}, {\"index\": \".pkl\", \"variable\": \"Jupyter-Notebooks-The-Weird-and-Wonderful\", \"count\": null}, {\"index\": \".gif\", \"variable\": \"Jupyter-Notebooks-The-Weird-and-Wonderful\", \"count\": null}, {\"index\": \".txt\", \"variable\": \"Jupyter-Notebooks-The-Weird-and-Wonderful\", \"count\": null}, {\"index\": \".html\", \"variable\": \"Jupyter-Notebooks-The-Weird-and-Wonderful\", \"count\": null}, {\"index\": \".js\", \"variable\": \"Jupyter-Notebooks-The-Weird-and-Wonderful\", \"count\": null}, {\"index\": \".vocab\", \"variable\": \"Jupyter-Notebooks-The-Weird-and-Wonderful\", \"count\": null}, {\"index\": \".yaml\", \"variable\": \"Jupyter-Notebooks-The-Weird-and-Wonderful\", \"count\": null}, {\"index\": \".cfg\", \"variable\": \"Jupyter-Notebooks-The-Weird-and-Wonderful\", \"count\": null}, {\"index\": \".xml\", \"variable\": \"Jupyter-Notebooks-The-Weird-and-Wonderful\", \"count\": null}, {\"index\": \".in\", \"variable\": \"Jupyter-Notebooks-The-Weird-and-Wonderful\", \"count\": null}, {\"index\": \".ini\", \"variable\": \"Jupyter-Notebooks-The-Weird-and-Wonderful\", \"count\": null}, {\"index\": \".lock\", \"variable\": \"Jupyter-Notebooks-The-Weird-and-Wonderful\", \"count\": null}, {\"index\": \".css\", \"variable\": \"Jupyter-Notebooks-The-Weird-and-Wonderful\", \"count\": null}, {\"index\": \".otf\", \"variable\": \"Jupyter-Notebooks-The-Weird-and-Wonderful\", \"count\": null}, {\"index\": \".eot\", \"variable\": \"Jupyter-Notebooks-The-Weird-and-Wonderful\", \"count\": null}, {\"index\": \".svg\", \"variable\": \"Jupyter-Notebooks-The-Weird-and-Wonderful\", \"count\": null}, {\"index\": \".ttf\", \"variable\": \"Jupyter-Notebooks-The-Weird-and-Wonderful\", \"count\": null}, {\"index\": \".woff\", \"variable\": \"Jupyter-Notebooks-The-Weird-and-Wonderful\", \"count\": null}, {\"index\": \".woff2\", \"variable\": \"Jupyter-Notebooks-The-Weird-and-Wonderful\", \"count\": null}, {\"index\": \".ico\", \"variable\": \"Jupyter-Notebooks-The-Weird-and-Wonderful\", \"count\": null}, {\"index\": \".csv\", \"variable\": \"Jupyter-Notebooks-The-Weird-and-Wonderful\", \"count\": null}, {\"index\": \".zip\", \"variable\": \"Jupyter-Notebooks-The-Weird-and-Wonderful\", \"count\": null}, {\"index\": \".xlsx\", \"variable\": \"Jupyter-Notebooks-The-Weird-and-Wonderful\", \"count\": null}, {\"index\": \".rst\", \"variable\": \"Jupyter-Notebooks-The-Weird-and-Wonderful\", \"count\": null}, {\"index\": \".org\", \"variable\": \"Jupyter-Notebooks-The-Weird-and-Wonderful\", \"count\": null}, {\"index\": \".cff\", \"variable\": \"Jupyter-Notebooks-The-Weird-and-Wonderful\", \"count\": 1.0}, {\"index\": \".Rmd\", \"variable\": \"Jupyter-Notebooks-The-Weird-and-Wonderful\", \"count\": null}, {\"index\": \".RDS\", \"variable\": \"Jupyter-Notebooks-The-Weird-and-Wonderful\", \"count\": null}, {\"index\": \".scss\", \"variable\": \"Jupyter-Notebooks-The-Weird-and-Wonderful\", \"count\": null}, {\"index\": \".bib\", \"variable\": \"Jupyter-Notebooks-The-Weird-and-Wonderful\", \"count\": null}, {\"index\": \".md\", \"variable\": \"PressDirectories\", \"count\": 1.0}, {\"index\": \".ipynb\", \"variable\": \"PressDirectories\", \"count\": 3.0}, {\"index\": \".yml\", \"variable\": \"PressDirectories\", \"count\": null}, {\"index\": \".png\", \"variable\": \"PressDirectories\", \"count\": 17.0}, {\"index\": \".pdf\", \"variable\": \"PressDirectories\", \"count\": null}, {\"index\": \".py\", \"variable\": \"PressDirectories\", \"count\": 15.0}, {\"index\": \".pkl\", \"variable\": \"PressDirectories\", \"count\": null}, {\"index\": \".gif\", \"variable\": \"PressDirectories\", \"count\": null}, {\"index\": \".txt\", \"variable\": \"PressDirectories\", \"count\": 2.0}, {\"index\": \".html\", \"variable\": \"PressDirectories\", \"count\": null}, {\"index\": \".js\", \"variable\": \"PressDirectories\", \"count\": null}, {\"index\": \".vocab\", \"variable\": \"PressDirectories\", \"count\": null}, {\"index\": \".yaml\", \"variable\": \"PressDirectories\", \"count\": null}, {\"index\": \".cfg\", \"variable\": \"PressDirectories\", \"count\": null}, {\"index\": \".xml\", \"variable\": \"PressDirectories\", \"count\": null}, {\"index\": \".in\", \"variable\": \"PressDirectories\", \"count\": null}, {\"index\": \".ini\", \"variable\": \"PressDirectories\", \"count\": null}, {\"index\": \".lock\", \"variable\": \"PressDirectories\", \"count\": null}, {\"index\": \".css\", \"variable\": \"PressDirectories\", \"count\": null}, {\"index\": \".otf\", \"variable\": \"PressDirectories\", \"count\": null}, {\"index\": \".eot\", \"variable\": \"PressDirectories\", \"count\": null}, {\"index\": \".svg\", \"variable\": \"PressDirectories\", \"count\": null}, {\"index\": \".ttf\", \"variable\": \"PressDirectories\", \"count\": null}, {\"index\": \".woff\", \"variable\": \"PressDirectories\", \"count\": null}, {\"index\": \".woff2\", \"variable\": \"PressDirectories\", \"count\": null}, {\"index\": \".ico\", \"variable\": \"PressDirectories\", \"count\": null}, {\"index\": \".csv\", \"variable\": \"PressDirectories\", \"count\": 3.0}, {\"index\": \".zip\", \"variable\": \"PressDirectories\", \"count\": null}, {\"index\": \".xlsx\", \"variable\": \"PressDirectories\", \"count\": 1.0}, {\"index\": \".rst\", \"variable\": \"PressDirectories\", \"count\": null}, {\"index\": \".org\", \"variable\": \"PressDirectories\", \"count\": null}, {\"index\": \".cff\", \"variable\": \"PressDirectories\", \"count\": null}, {\"index\": \".Rmd\", \"variable\": \"PressDirectories\", \"count\": 2.0}, {\"index\": \".RDS\", \"variable\": \"PressDirectories\", \"count\": 3.0}, {\"index\": \".scss\", \"variable\": \"PressDirectories\", \"count\": null}, {\"index\": \".bib\", \"variable\": \"PressDirectories\", \"count\": null}, {\"index\": \".md\", \"variable\": \"MapReader\", \"count\": 4.0}, {\"index\": \".ipynb\", \"variable\": \"MapReader\", \"count\": 13.0}, {\"index\": \".yml\", \"variable\": \"MapReader\", \"count\": 3.0}, {\"index\": \".png\", \"variable\": \"MapReader\", \"count\": 209.0}, {\"index\": \".pdf\", \"variable\": \"MapReader\", \"count\": null}, {\"index\": \".py\", \"variable\": \"MapReader\", \"count\": 29.0}, {\"index\": \".pkl\", \"variable\": \"MapReader\", \"count\": null}, {\"index\": \".gif\", \"variable\": \"MapReader\", \"count\": null}, {\"index\": \".txt\", \"variable\": \"MapReader\", \"count\": null}, {\"index\": \".html\", \"variable\": \"MapReader\", \"count\": null}, {\"index\": \".js\", \"variable\": \"MapReader\", \"count\": null}, {\"index\": \".vocab\", \"variable\": \"MapReader\", \"count\": null}, {\"index\": \".yaml\", \"variable\": \"MapReader\", \"count\": 4.0}, {\"index\": \".cfg\", \"variable\": \"MapReader\", \"count\": null}, {\"index\": \".xml\", \"variable\": \"MapReader\", \"count\": null}, {\"index\": \".in\", \"variable\": \"MapReader\", \"count\": null}, {\"index\": \".ini\", \"variable\": \"MapReader\", \"count\": null}, {\"index\": \".lock\", \"variable\": \"MapReader\", \"count\": null}, {\"index\": \".css\", \"variable\": \"MapReader\", \"count\": null}, {\"index\": \".otf\", \"variable\": \"MapReader\", \"count\": null}, {\"index\": \".eot\", \"variable\": \"MapReader\", \"count\": null}, {\"index\": \".svg\", \"variable\": \"MapReader\", \"count\": null}, {\"index\": \".ttf\", \"variable\": \"MapReader\", \"count\": null}, {\"index\": \".woff\", \"variable\": \"MapReader\", \"count\": null}, {\"index\": \".woff2\", \"variable\": \"MapReader\", \"count\": null}, {\"index\": \".ico\", \"variable\": \"MapReader\", \"count\": null}, {\"index\": \".csv\", \"variable\": \"MapReader\", \"count\": 4.0}, {\"index\": \".zip\", \"variable\": \"MapReader\", \"count\": null}, {\"index\": \".xlsx\", \"variable\": \"MapReader\", \"count\": null}, {\"index\": \".rst\", \"variable\": \"MapReader\", \"count\": null}, {\"index\": \".org\", \"variable\": \"MapReader\", \"count\": null}, {\"index\": \".cff\", \"variable\": \"MapReader\", \"count\": null}, {\"index\": \".Rmd\", \"variable\": \"MapReader\", \"count\": null}, {\"index\": \".RDS\", \"variable\": \"MapReader\", \"count\": null}, {\"index\": \".scss\", \"variable\": \"MapReader\", \"count\": 1.0}, {\"index\": \".bib\", \"variable\": \"MapReader\", \"count\": null}, {\"index\": \".md\", \"variable\": \".github\", \"count\": 1.0}, {\"index\": \".ipynb\", \"variable\": \".github\", \"count\": null}, {\"index\": \".yml\", \"variable\": \".github\", \"count\": null}, {\"index\": \".png\", \"variable\": \".github\", \"count\": 1.0}, {\"index\": \".pdf\", \"variable\": \".github\", \"count\": null}, {\"index\": \".py\", \"variable\": \".github\", \"count\": null}, {\"index\": \".pkl\", \"variable\": \".github\", \"count\": null}, {\"index\": \".gif\", \"variable\": \".github\", \"count\": null}, {\"index\": \".txt\", \"variable\": \".github\", \"count\": null}, {\"index\": \".html\", \"variable\": \".github\", \"count\": null}, {\"index\": \".js\", \"variable\": \".github\", \"count\": null}, {\"index\": \".vocab\", \"variable\": \".github\", \"count\": null}, {\"index\": \".yaml\", \"variable\": \".github\", \"count\": null}, {\"index\": \".cfg\", \"variable\": \".github\", \"count\": null}, {\"index\": \".xml\", \"variable\": \".github\", \"count\": null}, {\"index\": \".in\", \"variable\": \".github\", \"count\": null}, {\"index\": \".ini\", \"variable\": \".github\", \"count\": null}, {\"index\": \".lock\", \"variable\": \".github\", \"count\": null}, {\"index\": \".css\", \"variable\": \".github\", \"count\": null}, {\"index\": \".otf\", \"variable\": \".github\", \"count\": null}, {\"index\": \".eot\", \"variable\": \".github\", \"count\": null}, {\"index\": \".svg\", \"variable\": \".github\", \"count\": null}, {\"index\": \".ttf\", \"variable\": \".github\", \"count\": null}, {\"index\": \".woff\", \"variable\": \".github\", \"count\": null}, {\"index\": \".woff2\", \"variable\": \".github\", \"count\": null}, {\"index\": \".ico\", \"variable\": \".github\", \"count\": null}, {\"index\": \".csv\", \"variable\": \".github\", \"count\": null}, {\"index\": \".zip\", \"variable\": \".github\", \"count\": null}, {\"index\": \".xlsx\", \"variable\": \".github\", \"count\": null}, {\"index\": \".rst\", \"variable\": \".github\", \"count\": null}, {\"index\": \".org\", \"variable\": \".github\", \"count\": null}, {\"index\": \".cff\", \"variable\": \".github\", \"count\": null}, {\"index\": \".Rmd\", \"variable\": \".github\", \"count\": null}, {\"index\": \".RDS\", \"variable\": \".github\", \"count\": null}, {\"index\": \".scss\", \"variable\": \".github\", \"count\": null}, {\"index\": \".bib\", \"variable\": \".github\", \"count\": null}, {\"index\": \".md\", \"variable\": \"genre-classification\", \"count\": 13.0}, {\"index\": \".ipynb\", \"variable\": \"genre-classification\", \"count\": 10.0}, {\"index\": \".yml\", \"variable\": \"genre-classification\", \"count\": 3.0}, {\"index\": \".png\", \"variable\": \"genre-classification\", \"count\": 15.0}, {\"index\": \".pdf\", \"variable\": \"genre-classification\", \"count\": null}, {\"index\": \".py\", \"variable\": \"genre-classification\", \"count\": null}, {\"index\": \".pkl\", \"variable\": \"genre-classification\", \"count\": null}, {\"index\": \".gif\", \"variable\": \"genre-classification\", \"count\": null}, {\"index\": \".txt\", \"variable\": \"genre-classification\", \"count\": 1.0}, {\"index\": \".html\", \"variable\": \"genre-classification\", \"count\": null}, {\"index\": \".js\", \"variable\": \"genre-classification\", \"count\": null}, {\"index\": \".vocab\", \"variable\": \"genre-classification\", \"count\": null}, {\"index\": \".yaml\", \"variable\": \"genre-classification\", \"count\": 1.0}, {\"index\": \".cfg\", \"variable\": \"genre-classification\", \"count\": null}, {\"index\": \".xml\", \"variable\": \"genre-classification\", \"count\": null}, {\"index\": \".in\", \"variable\": \"genre-classification\", \"count\": null}, {\"index\": \".ini\", \"variable\": \"genre-classification\", \"count\": null}, {\"index\": \".lock\", \"variable\": \"genre-classification\", \"count\": null}, {\"index\": \".css\", \"variable\": \"genre-classification\", \"count\": null}, {\"index\": \".otf\", \"variable\": \"genre-classification\", \"count\": null}, {\"index\": \".eot\", \"variable\": \"genre-classification\", \"count\": null}, {\"index\": \".svg\", \"variable\": \"genre-classification\", \"count\": null}, {\"index\": \".ttf\", \"variable\": \"genre-classification\", \"count\": null}, {\"index\": \".woff\", \"variable\": \"genre-classification\", \"count\": null}, {\"index\": \".woff2\", \"variable\": \"genre-classification\", \"count\": null}, {\"index\": \".ico\", \"variable\": \"genre-classification\", \"count\": null}, {\"index\": \".csv\", \"variable\": \"genre-classification\", \"count\": 6.0}, {\"index\": \".zip\", \"variable\": \"genre-classification\", \"count\": null}, {\"index\": \".xlsx\", \"variable\": \"genre-classification\", \"count\": null}, {\"index\": \".rst\", \"variable\": \"genre-classification\", \"count\": null}, {\"index\": \".org\", \"variable\": \"genre-classification\", \"count\": null}, {\"index\": \".cff\", \"variable\": \"genre-classification\", \"count\": null}, {\"index\": \".Rmd\", \"variable\": \"genre-classification\", \"count\": null}, {\"index\": \".RDS\", \"variable\": \"genre-classification\", \"count\": null}, {\"index\": \".scss\", \"variable\": \"genre-classification\", \"count\": null}, {\"index\": \".bib\", \"variable\": \"genre-classification\", \"count\": 1.0}, {\"index\": \".md\", \"variable\": \"subsamplr\", \"count\": 1.0}, {\"index\": \".ipynb\", \"variable\": \"subsamplr\", \"count\": 2.0}, {\"index\": \".yml\", \"variable\": \"subsamplr\", \"count\": null}, {\"index\": \".png\", \"variable\": \"subsamplr\", \"count\": null}, {\"index\": \".pdf\", \"variable\": \"subsamplr\", \"count\": null}, {\"index\": \".py\", \"variable\": \"subsamplr\", \"count\": 20.0}, {\"index\": \".pkl\", \"variable\": \"subsamplr\", \"count\": null}, {\"index\": \".gif\", \"variable\": \"subsamplr\", \"count\": null}, {\"index\": \".txt\", \"variable\": \"subsamplr\", \"count\": 1.0}, {\"index\": \".html\", \"variable\": \"subsamplr\", \"count\": null}, {\"index\": \".js\", \"variable\": \"subsamplr\", \"count\": null}, {\"index\": \".vocab\", \"variable\": \"subsamplr\", \"count\": null}, {\"index\": \".yaml\", \"variable\": \"subsamplr\", \"count\": null}, {\"index\": \".cfg\", \"variable\": \"subsamplr\", \"count\": null}, {\"index\": \".xml\", \"variable\": \"subsamplr\", \"count\": null}, {\"index\": \".in\", \"variable\": \"subsamplr\", \"count\": null}, {\"index\": \".ini\", \"variable\": \"subsamplr\", \"count\": null}, {\"index\": \".lock\", \"variable\": \"subsamplr\", \"count\": null}, {\"index\": \".css\", \"variable\": \"subsamplr\", \"count\": null}, {\"index\": \".otf\", \"variable\": \"subsamplr\", \"count\": null}, {\"index\": \".eot\", \"variable\": \"subsamplr\", \"count\": null}, {\"index\": \".svg\", \"variable\": \"subsamplr\", \"count\": null}, {\"index\": \".ttf\", \"variable\": \"subsamplr\", \"count\": null}, {\"index\": \".woff\", \"variable\": \"subsamplr\", \"count\": null}, {\"index\": \".woff2\", \"variable\": \"subsamplr\", \"count\": null}, {\"index\": \".ico\", \"variable\": \"subsamplr\", \"count\": null}, {\"index\": \".csv\", \"variable\": \"subsamplr\", \"count\": 2.0}, {\"index\": \".zip\", \"variable\": \"subsamplr\", \"count\": null}, {\"index\": \".xlsx\", \"variable\": \"subsamplr\", \"count\": null}, {\"index\": \".rst\", \"variable\": \"subsamplr\", \"count\": null}, {\"index\": \".org\", \"variable\": \"subsamplr\", \"count\": null}, {\"index\": \".cff\", \"variable\": \"subsamplr\", \"count\": null}, {\"index\": \".Rmd\", \"variable\": \"subsamplr\", \"count\": null}, {\"index\": \".RDS\", \"variable\": \"subsamplr\", \"count\": null}, {\"index\": \".scss\", \"variable\": \"subsamplr\", \"count\": null}, {\"index\": \".bib\", \"variable\": \"subsamplr\", \"count\": null}, {\"index\": \".md\", \"variable\": \"image-search\", \"count\": 1.0}, {\"index\": \".ipynb\", \"variable\": \"image-search\", \"count\": 3.0}, {\"index\": \".yml\", \"variable\": \"image-search\", \"count\": null}, {\"index\": \".png\", \"variable\": \"image-search\", \"count\": null}, {\"index\": \".pdf\", \"variable\": \"image-search\", \"count\": 1.0}, {\"index\": \".py\", \"variable\": \"image-search\", \"count\": null}, {\"index\": \".pkl\", \"variable\": \"image-search\", \"count\": null}, {\"index\": \".gif\", \"variable\": \"image-search\", \"count\": null}, {\"index\": \".txt\", \"variable\": \"image-search\", \"count\": null}, {\"index\": \".html\", \"variable\": \"image-search\", \"count\": null}, {\"index\": \".js\", \"variable\": \"image-search\", \"count\": null}, {\"index\": \".vocab\", \"variable\": \"image-search\", \"count\": null}, {\"index\": \".yaml\", \"variable\": \"image-search\", \"count\": null}, {\"index\": \".cfg\", \"variable\": \"image-search\", \"count\": null}, {\"index\": \".xml\", \"variable\": \"image-search\", \"count\": null}, {\"index\": \".in\", \"variable\": \"image-search\", \"count\": null}, {\"index\": \".ini\", \"variable\": \"image-search\", \"count\": null}, {\"index\": \".lock\", \"variable\": \"image-search\", \"count\": null}, {\"index\": \".css\", \"variable\": \"image-search\", \"count\": null}, {\"index\": \".otf\", \"variable\": \"image-search\", \"count\": null}, {\"index\": \".eot\", \"variable\": \"image-search\", \"count\": null}, {\"index\": \".svg\", \"variable\": \"image-search\", \"count\": null}, {\"index\": \".ttf\", \"variable\": \"image-search\", \"count\": null}, {\"index\": \".woff\", \"variable\": \"image-search\", \"count\": null}, {\"index\": \".woff2\", \"variable\": \"image-search\", \"count\": null}, {\"index\": \".ico\", \"variable\": \"image-search\", \"count\": null}, {\"index\": \".csv\", \"variable\": \"image-search\", \"count\": null}, {\"index\": \".zip\", \"variable\": \"image-search\", \"count\": null}, {\"index\": \".xlsx\", \"variable\": \"image-search\", \"count\": null}, {\"index\": \".rst\", \"variable\": \"image-search\", \"count\": null}, {\"index\": \".org\", \"variable\": \"image-search\", \"count\": null}, {\"index\": \".cff\", \"variable\": \"image-search\", \"count\": null}, {\"index\": \".Rmd\", \"variable\": \"image-search\", \"count\": null}, {\"index\": \".RDS\", \"variable\": \"image-search\", \"count\": null}, {\"index\": \".scss\", \"variable\": \"image-search\", \"count\": null}, {\"index\": \".bib\", \"variable\": \"image-search\", \"count\": null}, {\"index\": \".md\", \"variable\": \"zooniverse-analysis-workshop\", \"count\": 1.0}, {\"index\": \".ipynb\", \"variable\": \"zooniverse-analysis-workshop\", \"count\": 1.0}, {\"index\": \".yml\", \"variable\": \"zooniverse-analysis-workshop\", \"count\": null}, {\"index\": \".png\", \"variable\": \"zooniverse-analysis-workshop\", \"count\": 9.0}, {\"index\": \".pdf\", \"variable\": \"zooniverse-analysis-workshop\", \"count\": null}, {\"index\": \".py\", \"variable\": \"zooniverse-analysis-workshop\", \"count\": null}, {\"index\": \".pkl\", \"variable\": \"zooniverse-analysis-workshop\", \"count\": null}, {\"index\": \".gif\", \"variable\": \"zooniverse-analysis-workshop\", \"count\": null}, {\"index\": \".txt\", \"variable\": \"zooniverse-analysis-workshop\", \"count\": null}, {\"index\": \".html\", \"variable\": \"zooniverse-analysis-workshop\", \"count\": null}, {\"index\": \".js\", \"variable\": \"zooniverse-analysis-workshop\", \"count\": null}, {\"index\": \".vocab\", \"variable\": \"zooniverse-analysis-workshop\", \"count\": null}, {\"index\": \".yaml\", \"variable\": \"zooniverse-analysis-workshop\", \"count\": null}, {\"index\": \".cfg\", \"variable\": \"zooniverse-analysis-workshop\", \"count\": null}, {\"index\": \".xml\", \"variable\": \"zooniverse-analysis-workshop\", \"count\": null}, {\"index\": \".in\", \"variable\": \"zooniverse-analysis-workshop\", \"count\": null}, {\"index\": \".ini\", \"variable\": \"zooniverse-analysis-workshop\", \"count\": null}, {\"index\": \".lock\", \"variable\": \"zooniverse-analysis-workshop\", \"count\": null}, {\"index\": \".css\", \"variable\": \"zooniverse-analysis-workshop\", \"count\": null}, {\"index\": \".otf\", \"variable\": \"zooniverse-analysis-workshop\", \"count\": null}, {\"index\": \".eot\", \"variable\": \"zooniverse-analysis-workshop\", \"count\": null}, {\"index\": \".svg\", \"variable\": \"zooniverse-analysis-workshop\", \"count\": null}, {\"index\": \".ttf\", \"variable\": \"zooniverse-analysis-workshop\", \"count\": null}, {\"index\": \".woff\", \"variable\": \"zooniverse-analysis-workshop\", \"count\": null}, {\"index\": \".woff2\", \"variable\": \"zooniverse-analysis-workshop\", \"count\": null}, {\"index\": \".ico\", \"variable\": \"zooniverse-analysis-workshop\", \"count\": null}, {\"index\": \".csv\", \"variable\": \"zooniverse-analysis-workshop\", \"count\": 2.0}, {\"index\": \".zip\", \"variable\": \"zooniverse-analysis-workshop\", \"count\": null}, {\"index\": \".xlsx\", \"variable\": \"zooniverse-analysis-workshop\", \"count\": null}, {\"index\": \".rst\", \"variable\": \"zooniverse-analysis-workshop\", \"count\": null}, {\"index\": \".org\", \"variable\": \"zooniverse-analysis-workshop\", \"count\": null}, {\"index\": \".cff\", \"variable\": \"zooniverse-analysis-workshop\", \"count\": null}, {\"index\": \".Rmd\", \"variable\": \"zooniverse-analysis-workshop\", \"count\": null}, {\"index\": \".RDS\", \"variable\": \"zooniverse-analysis-workshop\", \"count\": null}, {\"index\": \".scss\", \"variable\": \"zooniverse-analysis-workshop\", \"count\": null}, {\"index\": \".bib\", \"variable\": \"zooniverse-analysis-workshop\", \"count\": null}, {\"index\": \".md\", \"variable\": \"hmd_url_generator\", \"count\": 1.0}, {\"index\": \".ipynb\", \"variable\": \"hmd_url_generator\", \"count\": 2.0}, {\"index\": \".yml\", \"variable\": \"hmd_url_generator\", \"count\": 1.0}, {\"index\": \".png\", \"variable\": \"hmd_url_generator\", \"count\": null}, {\"index\": \".pdf\", \"variable\": \"hmd_url_generator\", \"count\": null}, {\"index\": \".py\", \"variable\": \"hmd_url_generator\", \"count\": null}, {\"index\": \".pkl\", \"variable\": \"hmd_url_generator\", \"count\": null}, {\"index\": \".gif\", \"variable\": \"hmd_url_generator\", \"count\": null}, {\"index\": \".txt\", \"variable\": \"hmd_url_generator\", \"count\": null}, {\"index\": \".html\", \"variable\": \"hmd_url_generator\", \"count\": null}, {\"index\": \".js\", \"variable\": \"hmd_url_generator\", \"count\": null}, {\"index\": \".vocab\", \"variable\": \"hmd_url_generator\", \"count\": null}, {\"index\": \".yaml\", \"variable\": \"hmd_url_generator\", \"count\": null}, {\"index\": \".cfg\", \"variable\": \"hmd_url_generator\", \"count\": null}, {\"index\": \".xml\", \"variable\": \"hmd_url_generator\", \"count\": null}, {\"index\": \".in\", \"variable\": \"hmd_url_generator\", \"count\": null}, {\"index\": \".ini\", \"variable\": \"hmd_url_generator\", \"count\": null}, {\"index\": \".lock\", \"variable\": \"hmd_url_generator\", \"count\": null}, {\"index\": \".css\", \"variable\": \"hmd_url_generator\", \"count\": null}, {\"index\": \".otf\", \"variable\": \"hmd_url_generator\", \"count\": null}, {\"index\": \".eot\", \"variable\": \"hmd_url_generator\", \"count\": null}, {\"index\": \".svg\", \"variable\": \"hmd_url_generator\", \"count\": null}, {\"index\": \".ttf\", \"variable\": \"hmd_url_generator\", \"count\": null}, {\"index\": \".woff\", \"variable\": \"hmd_url_generator\", \"count\": null}, {\"index\": \".woff2\", \"variable\": \"hmd_url_generator\", \"count\": null}, {\"index\": \".ico\", \"variable\": \"hmd_url_generator\", \"count\": null}, {\"index\": \".csv\", \"variable\": \"hmd_url_generator\", \"count\": null}, {\"index\": \".zip\", \"variable\": \"hmd_url_generator\", \"count\": null}, {\"index\": \".xlsx\", \"variable\": \"hmd_url_generator\", \"count\": null}, {\"index\": \".rst\", \"variable\": \"hmd_url_generator\", \"count\": null}, {\"index\": \".org\", \"variable\": \"hmd_url_generator\", \"count\": null}, {\"index\": \".cff\", \"variable\": \"hmd_url_generator\", \"count\": null}, {\"index\": \".Rmd\", \"variable\": \"hmd_url_generator\", \"count\": null}, {\"index\": \".RDS\", \"variable\": \"hmd_url_generator\", \"count\": null}, {\"index\": \".scss\", \"variable\": \"hmd_url_generator\", \"count\": null}, {\"index\": \".bib\", \"variable\": \"hmd_url_generator\", \"count\": null}]}}, {\"mode\": \"vega-lite\"});\n",
       "</script>"
      ],
      "text/plain": [
       "alt.Chart(...)"
      ]
     },
     "execution_count": 1,
     "metadata": {},
     "output_type": "execute_result"
    }
   ],
   "source": [
    "df = pd.DataFrame.from_dict(lwm_stats.get_org_file_ext_frequency(\"public\"))\n",
    "df = df.drop(labels=['.jpg','.json'])\n",
    "df.reset_index(inplace=True)\n",
    "data = pd.melt(frame=df, id_vars=[\"index\"], value_name=\"count\")\n",
    "chart = (\n",
    "    alt.Chart(data)\n",
    "    .mark_bar()\n",
    "    .encode(\n",
    "        y=alt.Y(\n",
    "            \"index:N\",\n",
    "            title=None,\n",
    "            sort=alt.EncodingSortField(field=\"count\", order=\"descending\", op=\"sum\"),\n",
    "        ),\n",
    "        x=alt.X(\"count:Q\"),\n",
    "        color=alt.Color(\"variable:N\", title=\"Repository\"),\n",
    "        tooltip=[alt.Tooltip(\"variable:N\", title=\"Repository\"), \"count:Q\"],\n",
    "    )\n",
    "    .properties(width=WIDTH, title='File Extension Counts')\n",
    ")\n",
    "chart"
   ]
  },
  {
   "cell_type": "markdown",
   "metadata": {},
   "source": [
    "### File extensions by repository\n",
    "\n",
    "This chart shows the number and type of files for each public Living with Machines repository **note** that this only considers files on the default branch of the repository. We also don't include `.jpg` files or `.json` files since these are often used as for storing data. "
   ]
  },
  {
   "cell_type": "code",
   "execution_count": 16,
   "metadata": {
    "execution": {
     "iopub.execute_input": "2022-06-27T08:37:13.680533Z",
     "iopub.status.busy": "2022-06-27T08:37:13.670109Z",
     "iopub.status.idle": "2022-06-27T08:37:13.734813Z",
     "shell.execute_reply": "2022-06-27T08:37:13.735359Z"
    }
   },
   "outputs": [
    {
     "data": {
      "text/html": [
       "\n",
       "<div id=\"altair-viz-4f828dccfad2486bab565811f2f4e556\"></div>\n",
       "<script type=\"text/javascript\">\n",
       "  (function(spec, embedOpt){\n",
       "    let outputDiv = document.currentScript.previousElementSibling;\n",
       "    if (outputDiv.id !== \"altair-viz-4f828dccfad2486bab565811f2f4e556\") {\n",
       "      outputDiv = document.getElementById(\"altair-viz-4f828dccfad2486bab565811f2f4e556\");\n",
       "    }\n",
       "    const paths = {\n",
       "      \"vega\": \"https://cdn.jsdelivr.net/npm//vega@5?noext\",\n",
       "      \"vega-lib\": \"https://cdn.jsdelivr.net/npm//vega-lib?noext\",\n",
       "      \"vega-lite\": \"https://cdn.jsdelivr.net/npm//vega-lite@4.8.1?noext\",\n",
       "      \"vega-embed\": \"https://cdn.jsdelivr.net/npm//vega-embed@6?noext\",\n",
       "    };\n",
       "\n",
       "    function loadScript(lib) {\n",
       "      return new Promise(function(resolve, reject) {\n",
       "        var s = document.createElement('script');\n",
       "        s.src = paths[lib];\n",
       "        s.async = true;\n",
       "        s.onload = () => resolve(paths[lib]);\n",
       "        s.onerror = () => reject(`Error loading script: ${paths[lib]}`);\n",
       "        document.getElementsByTagName(\"head\")[0].appendChild(s);\n",
       "      });\n",
       "    }\n",
       "\n",
       "    function showError(err) {\n",
       "      outputDiv.innerHTML = `<div class=\"error\" style=\"color:red;\">${err}</div>`;\n",
       "      throw err;\n",
       "    }\n",
       "\n",
       "    function displayChart(vegaEmbed) {\n",
       "      vegaEmbed(outputDiv, spec, embedOpt)\n",
       "        .catch(err => showError(`Javascript Error: ${err.message}<br>This usually means there's a typo in your chart specification. See the javascript console for the full traceback.`));\n",
       "    }\n",
       "\n",
       "    if(typeof define === \"function\" && define.amd) {\n",
       "      requirejs.config({paths});\n",
       "      require([\"vega-embed\"], displayChart, err => showError(`Error loading script: ${err.message}`));\n",
       "    } else if (typeof vegaEmbed === \"function\") {\n",
       "      displayChart(vegaEmbed);\n",
       "    } else {\n",
       "      loadScript(\"vega\")\n",
       "        .then(() => loadScript(\"vega-lite\"))\n",
       "        .then(() => loadScript(\"vega-embed\"))\n",
       "        .catch(showError)\n",
       "        .then(() => displayChart(vegaEmbed));\n",
       "    }\n",
       "  })({\"config\": {\"view\": {\"continuousWidth\": 400, \"continuousHeight\": 300}}, \"data\": {\"name\": \"data-a25af599f53af1892a4000e86f2c1ba7\"}, \"mark\": \"bar\", \"encoding\": {\"color\": {\"type\": \"nominal\", \"field\": \"index\", \"title\": \"File extension\"}, \"tooltip\": [{\"type\": \"nominal\", \"field\": \"index\", \"title\": \"file extension\"}, {\"type\": \"quantitative\", \"field\": \"count\"}], \"x\": {\"type\": \"quantitative\", \"axis\": {\"tickRound\": false}, \"field\": \"count\", \"title\": \"File counts\"}, \"y\": {\"type\": \"nominal\", \"field\": \"variable\", \"sort\": {\"field\": \"count\", \"op\": \"sum\", \"order\": \"descending\"}, \"title\": null}}, \"title\": \"File extensions by Repository\", \"width\": 650, \"$schema\": \"https://vega.github.io/schema/vega-lite/v4.8.1.json\", \"datasets\": {\"data-a25af599f53af1892a4000e86f2c1ba7\": [{\"index\": \".md\", \"variable\": \"lwm_ARTIDIGH_2020_OCR_impact_downstream_NLP_tasks\", \"count\": 1.0}, {\"index\": \".ipynb\", \"variable\": \"lwm_ARTIDIGH_2020_OCR_impact_downstream_NLP_tasks\", \"count\": 14.0}, {\"index\": \".yml\", \"variable\": \"lwm_ARTIDIGH_2020_OCR_impact_downstream_NLP_tasks\", \"count\": 1.0}, {\"index\": \".png\", \"variable\": \"lwm_ARTIDIGH_2020_OCR_impact_downstream_NLP_tasks\", \"count\": 4.0}, {\"index\": \".pdf\", \"variable\": \"lwm_ARTIDIGH_2020_OCR_impact_downstream_NLP_tasks\", \"count\": 16.0}, {\"index\": \".py\", \"variable\": \"lwm_ARTIDIGH_2020_OCR_impact_downstream_NLP_tasks\", \"count\": null}, {\"index\": \".pkl\", \"variable\": \"lwm_ARTIDIGH_2020_OCR_impact_downstream_NLP_tasks\", \"count\": null}, {\"index\": \".gif\", \"variable\": \"lwm_ARTIDIGH_2020_OCR_impact_downstream_NLP_tasks\", \"count\": null}, {\"index\": \".txt\", \"variable\": \"lwm_ARTIDIGH_2020_OCR_impact_downstream_NLP_tasks\", \"count\": null}, {\"index\": \".html\", \"variable\": \"lwm_ARTIDIGH_2020_OCR_impact_downstream_NLP_tasks\", \"count\": null}, {\"index\": \".js\", \"variable\": \"lwm_ARTIDIGH_2020_OCR_impact_downstream_NLP_tasks\", \"count\": null}, {\"index\": \".vocab\", \"variable\": \"lwm_ARTIDIGH_2020_OCR_impact_downstream_NLP_tasks\", \"count\": null}, {\"index\": \".yaml\", \"variable\": \"lwm_ARTIDIGH_2020_OCR_impact_downstream_NLP_tasks\", \"count\": null}, {\"index\": \".cfg\", \"variable\": \"lwm_ARTIDIGH_2020_OCR_impact_downstream_NLP_tasks\", \"count\": null}, {\"index\": \".xml\", \"variable\": \"lwm_ARTIDIGH_2020_OCR_impact_downstream_NLP_tasks\", \"count\": null}, {\"index\": \".in\", \"variable\": \"lwm_ARTIDIGH_2020_OCR_impact_downstream_NLP_tasks\", \"count\": null}, {\"index\": \".ini\", \"variable\": \"lwm_ARTIDIGH_2020_OCR_impact_downstream_NLP_tasks\", \"count\": null}, {\"index\": \".lock\", \"variable\": \"lwm_ARTIDIGH_2020_OCR_impact_downstream_NLP_tasks\", \"count\": null}, {\"index\": \".css\", \"variable\": \"lwm_ARTIDIGH_2020_OCR_impact_downstream_NLP_tasks\", \"count\": null}, {\"index\": \".otf\", \"variable\": \"lwm_ARTIDIGH_2020_OCR_impact_downstream_NLP_tasks\", \"count\": null}, {\"index\": \".eot\", \"variable\": \"lwm_ARTIDIGH_2020_OCR_impact_downstream_NLP_tasks\", \"count\": null}, {\"index\": \".svg\", \"variable\": \"lwm_ARTIDIGH_2020_OCR_impact_downstream_NLP_tasks\", \"count\": null}, {\"index\": \".ttf\", \"variable\": \"lwm_ARTIDIGH_2020_OCR_impact_downstream_NLP_tasks\", \"count\": null}, {\"index\": \".woff\", \"variable\": \"lwm_ARTIDIGH_2020_OCR_impact_downstream_NLP_tasks\", \"count\": null}, {\"index\": \".woff2\", \"variable\": \"lwm_ARTIDIGH_2020_OCR_impact_downstream_NLP_tasks\", \"count\": null}, {\"index\": \".ico\", \"variable\": \"lwm_ARTIDIGH_2020_OCR_impact_downstream_NLP_tasks\", \"count\": null}, {\"index\": \".csv\", \"variable\": \"lwm_ARTIDIGH_2020_OCR_impact_downstream_NLP_tasks\", \"count\": null}, {\"index\": \".zip\", \"variable\": \"lwm_ARTIDIGH_2020_OCR_impact_downstream_NLP_tasks\", \"count\": null}, {\"index\": \".xlsx\", \"variable\": \"lwm_ARTIDIGH_2020_OCR_impact_downstream_NLP_tasks\", \"count\": null}, {\"index\": \".rst\", \"variable\": \"lwm_ARTIDIGH_2020_OCR_impact_downstream_NLP_tasks\", \"count\": null}, {\"index\": \".org\", \"variable\": \"lwm_ARTIDIGH_2020_OCR_impact_downstream_NLP_tasks\", \"count\": null}, {\"index\": \".cff\", \"variable\": \"lwm_ARTIDIGH_2020_OCR_impact_downstream_NLP_tasks\", \"count\": null}, {\"index\": \".Rmd\", \"variable\": \"lwm_ARTIDIGH_2020_OCR_impact_downstream_NLP_tasks\", \"count\": null}, {\"index\": \".RDS\", \"variable\": \"lwm_ARTIDIGH_2020_OCR_impact_downstream_NLP_tasks\", \"count\": null}, {\"index\": \".scss\", \"variable\": \"lwm_ARTIDIGH_2020_OCR_impact_downstream_NLP_tasks\", \"count\": null}, {\"index\": \".bib\", \"variable\": \"lwm_ARTIDIGH_2020_OCR_impact_downstream_NLP_tasks\", \"count\": null}, {\"index\": \".md\", \"variable\": \"lwm_GIR19_resolving_places\", \"count\": 2.0}, {\"index\": \".ipynb\", \"variable\": \"lwm_GIR19_resolving_places\", \"count\": 2.0}, {\"index\": \".yml\", \"variable\": \"lwm_GIR19_resolving_places\", \"count\": 1.0}, {\"index\": \".png\", \"variable\": \"lwm_GIR19_resolving_places\", \"count\": null}, {\"index\": \".pdf\", \"variable\": \"lwm_GIR19_resolving_places\", \"count\": null}, {\"index\": \".py\", \"variable\": \"lwm_GIR19_resolving_places\", \"count\": 2.0}, {\"index\": \".pkl\", \"variable\": \"lwm_GIR19_resolving_places\", \"count\": 1.0}, {\"index\": \".gif\", \"variable\": \"lwm_GIR19_resolving_places\", \"count\": null}, {\"index\": \".txt\", \"variable\": \"lwm_GIR19_resolving_places\", \"count\": null}, {\"index\": \".html\", \"variable\": \"lwm_GIR19_resolving_places\", \"count\": null}, {\"index\": \".js\", \"variable\": \"lwm_GIR19_resolving_places\", \"count\": null}, {\"index\": \".vocab\", \"variable\": \"lwm_GIR19_resolving_places\", \"count\": null}, {\"index\": \".yaml\", \"variable\": \"lwm_GIR19_resolving_places\", \"count\": null}, {\"index\": \".cfg\", \"variable\": \"lwm_GIR19_resolving_places\", \"count\": null}, {\"index\": \".xml\", \"variable\": \"lwm_GIR19_resolving_places\", \"count\": null}, {\"index\": \".in\", \"variable\": \"lwm_GIR19_resolving_places\", \"count\": null}, {\"index\": \".ini\", \"variable\": \"lwm_GIR19_resolving_places\", \"count\": null}, {\"index\": \".lock\", \"variable\": \"lwm_GIR19_resolving_places\", \"count\": null}, {\"index\": \".css\", \"variable\": \"lwm_GIR19_resolving_places\", \"count\": null}, {\"index\": \".otf\", \"variable\": \"lwm_GIR19_resolving_places\", \"count\": null}, {\"index\": \".eot\", \"variable\": \"lwm_GIR19_resolving_places\", \"count\": null}, {\"index\": \".svg\", \"variable\": \"lwm_GIR19_resolving_places\", \"count\": null}, {\"index\": \".ttf\", \"variable\": \"lwm_GIR19_resolving_places\", \"count\": null}, {\"index\": \".woff\", \"variable\": \"lwm_GIR19_resolving_places\", \"count\": null}, {\"index\": \".woff2\", \"variable\": \"lwm_GIR19_resolving_places\", \"count\": null}, {\"index\": \".ico\", \"variable\": \"lwm_GIR19_resolving_places\", \"count\": null}, {\"index\": \".csv\", \"variable\": \"lwm_GIR19_resolving_places\", \"count\": null}, {\"index\": \".zip\", \"variable\": \"lwm_GIR19_resolving_places\", \"count\": null}, {\"index\": \".xlsx\", \"variable\": \"lwm_GIR19_resolving_places\", \"count\": null}, {\"index\": \".rst\", \"variable\": \"lwm_GIR19_resolving_places\", \"count\": null}, {\"index\": \".org\", \"variable\": \"lwm_GIR19_resolving_places\", \"count\": null}, {\"index\": \".cff\", \"variable\": \"lwm_GIR19_resolving_places\", \"count\": null}, {\"index\": \".Rmd\", \"variable\": \"lwm_GIR19_resolving_places\", \"count\": null}, {\"index\": \".RDS\", \"variable\": \"lwm_GIR19_resolving_places\", \"count\": null}, {\"index\": \".scss\", \"variable\": \"lwm_GIR19_resolving_places\", \"count\": null}, {\"index\": \".bib\", \"variable\": \"lwm_GIR19_resolving_places\", \"count\": null}, {\"index\": \".md\", \"variable\": \"D3_JS_viz_in_a_Python_Jupyter_notebook\", \"count\": 2.0}, {\"index\": \".ipynb\", \"variable\": \"D3_JS_viz_in_a_Python_Jupyter_notebook\", \"count\": 2.0}, {\"index\": \".yml\", \"variable\": \"D3_JS_viz_in_a_Python_Jupyter_notebook\", \"count\": 1.0}, {\"index\": \".png\", \"variable\": \"D3_JS_viz_in_a_Python_Jupyter_notebook\", \"count\": null}, {\"index\": \".pdf\", \"variable\": \"D3_JS_viz_in_a_Python_Jupyter_notebook\", \"count\": null}, {\"index\": \".py\", \"variable\": \"D3_JS_viz_in_a_Python_Jupyter_notebook\", \"count\": null}, {\"index\": \".pkl\", \"variable\": \"D3_JS_viz_in_a_Python_Jupyter_notebook\", \"count\": null}, {\"index\": \".gif\", \"variable\": \"D3_JS_viz_in_a_Python_Jupyter_notebook\", \"count\": 1.0}, {\"index\": \".txt\", \"variable\": \"D3_JS_viz_in_a_Python_Jupyter_notebook\", \"count\": 1.0}, {\"index\": \".html\", \"variable\": \"D3_JS_viz_in_a_Python_Jupyter_notebook\", \"count\": 1.0}, {\"index\": \".js\", \"variable\": \"D3_JS_viz_in_a_Python_Jupyter_notebook\", \"count\": 1.0}, {\"index\": \".vocab\", \"variable\": \"D3_JS_viz_in_a_Python_Jupyter_notebook\", \"count\": null}, {\"index\": \".yaml\", \"variable\": \"D3_JS_viz_in_a_Python_Jupyter_notebook\", \"count\": null}, {\"index\": \".cfg\", \"variable\": \"D3_JS_viz_in_a_Python_Jupyter_notebook\", \"count\": null}, {\"index\": \".xml\", \"variable\": \"D3_JS_viz_in_a_Python_Jupyter_notebook\", \"count\": null}, {\"index\": \".in\", \"variable\": \"D3_JS_viz_in_a_Python_Jupyter_notebook\", \"count\": null}, {\"index\": \".ini\", \"variable\": \"D3_JS_viz_in_a_Python_Jupyter_notebook\", \"count\": null}, {\"index\": \".lock\", \"variable\": \"D3_JS_viz_in_a_Python_Jupyter_notebook\", \"count\": null}, {\"index\": \".css\", \"variable\": \"D3_JS_viz_in_a_Python_Jupyter_notebook\", \"count\": null}, {\"index\": \".otf\", \"variable\": \"D3_JS_viz_in_a_Python_Jupyter_notebook\", \"count\": null}, {\"index\": \".eot\", \"variable\": \"D3_JS_viz_in_a_Python_Jupyter_notebook\", \"count\": null}, {\"index\": \".svg\", \"variable\": \"D3_JS_viz_in_a_Python_Jupyter_notebook\", \"count\": null}, {\"index\": \".ttf\", \"variable\": \"D3_JS_viz_in_a_Python_Jupyter_notebook\", \"count\": null}, {\"index\": \".woff\", \"variable\": \"D3_JS_viz_in_a_Python_Jupyter_notebook\", \"count\": null}, {\"index\": \".woff2\", \"variable\": \"D3_JS_viz_in_a_Python_Jupyter_notebook\", \"count\": null}, {\"index\": \".ico\", \"variable\": \"D3_JS_viz_in_a_Python_Jupyter_notebook\", \"count\": null}, {\"index\": \".csv\", \"variable\": \"D3_JS_viz_in_a_Python_Jupyter_notebook\", \"count\": null}, {\"index\": \".zip\", \"variable\": \"D3_JS_viz_in_a_Python_Jupyter_notebook\", \"count\": null}, {\"index\": \".xlsx\", \"variable\": \"D3_JS_viz_in_a_Python_Jupyter_notebook\", \"count\": null}, {\"index\": \".rst\", \"variable\": \"D3_JS_viz_in_a_Python_Jupyter_notebook\", \"count\": null}, {\"index\": \".org\", \"variable\": \"D3_JS_viz_in_a_Python_Jupyter_notebook\", \"count\": null}, {\"index\": \".cff\", \"variable\": \"D3_JS_viz_in_a_Python_Jupyter_notebook\", \"count\": null}, {\"index\": \".Rmd\", \"variable\": \"D3_JS_viz_in_a_Python_Jupyter_notebook\", \"count\": null}, {\"index\": \".RDS\", \"variable\": \"D3_JS_viz_in_a_Python_Jupyter_notebook\", \"count\": null}, {\"index\": \".scss\", \"variable\": \"D3_JS_viz_in_a_Python_Jupyter_notebook\", \"count\": null}, {\"index\": \".bib\", \"variable\": \"D3_JS_viz_in_a_Python_Jupyter_notebook\", \"count\": null}, {\"index\": \".md\", \"variable\": \"DeezyMatch\", \"count\": 2.0}, {\"index\": \".ipynb\", \"variable\": \"DeezyMatch\", \"count\": 4.0}, {\"index\": \".yml\", \"variable\": \"DeezyMatch\", \"count\": 2.0}, {\"index\": \".png\", \"variable\": \"DeezyMatch\", \"count\": 3.0}, {\"index\": \".pdf\", \"variable\": \"DeezyMatch\", \"count\": null}, {\"index\": \".py\", \"variable\": \"DeezyMatch\", \"count\": 14.0}, {\"index\": \".pkl\", \"variable\": \"DeezyMatch\", \"count\": null}, {\"index\": \".gif\", \"variable\": \"DeezyMatch\", \"count\": null}, {\"index\": \".txt\", \"variable\": \"DeezyMatch\", \"count\": 8.0}, {\"index\": \".html\", \"variable\": \"DeezyMatch\", \"count\": null}, {\"index\": \".js\", \"variable\": \"DeezyMatch\", \"count\": null}, {\"index\": \".vocab\", \"variable\": \"DeezyMatch\", \"count\": 2.0}, {\"index\": \".yaml\", \"variable\": \"DeezyMatch\", \"count\": 21.0}, {\"index\": \".cfg\", \"variable\": \"DeezyMatch\", \"count\": null}, {\"index\": \".xml\", \"variable\": \"DeezyMatch\", \"count\": null}, {\"index\": \".in\", \"variable\": \"DeezyMatch\", \"count\": null}, {\"index\": \".ini\", \"variable\": \"DeezyMatch\", \"count\": null}, {\"index\": \".lock\", \"variable\": \"DeezyMatch\", \"count\": null}, {\"index\": \".css\", \"variable\": \"DeezyMatch\", \"count\": null}, {\"index\": \".otf\", \"variable\": \"DeezyMatch\", \"count\": null}, {\"index\": \".eot\", \"variable\": \"DeezyMatch\", \"count\": null}, {\"index\": \".svg\", \"variable\": \"DeezyMatch\", \"count\": null}, {\"index\": \".ttf\", \"variable\": \"DeezyMatch\", \"count\": null}, {\"index\": \".woff\", \"variable\": \"DeezyMatch\", \"count\": null}, {\"index\": \".woff2\", \"variable\": \"DeezyMatch\", \"count\": null}, {\"index\": \".ico\", \"variable\": \"DeezyMatch\", \"count\": null}, {\"index\": \".csv\", \"variable\": \"DeezyMatch\", \"count\": null}, {\"index\": \".zip\", \"variable\": \"DeezyMatch\", \"count\": null}, {\"index\": \".xlsx\", \"variable\": \"DeezyMatch\", \"count\": null}, {\"index\": \".rst\", \"variable\": \"DeezyMatch\", \"count\": null}, {\"index\": \".org\", \"variable\": \"DeezyMatch\", \"count\": null}, {\"index\": \".cff\", \"variable\": \"DeezyMatch\", \"count\": null}, {\"index\": \".Rmd\", \"variable\": \"DeezyMatch\", \"count\": null}, {\"index\": \".RDS\", \"variable\": \"DeezyMatch\", \"count\": null}, {\"index\": \".scss\", \"variable\": \"DeezyMatch\", \"count\": null}, {\"index\": \".bib\", \"variable\": \"DeezyMatch\", \"count\": null}, {\"index\": \".md\", \"variable\": \"LwM_SIGSPATIAL2020_ToponymMatching\", \"count\": 6.0}, {\"index\": \".ipynb\", \"variable\": \"LwM_SIGSPATIAL2020_ToponymMatching\", \"count\": 7.0}, {\"index\": \".yml\", \"variable\": \"LwM_SIGSPATIAL2020_ToponymMatching\", \"count\": null}, {\"index\": \".png\", \"variable\": \"LwM_SIGSPATIAL2020_ToponymMatching\", \"count\": null}, {\"index\": \".pdf\", \"variable\": \"LwM_SIGSPATIAL2020_ToponymMatching\", \"count\": null}, {\"index\": \".py\", \"variable\": \"LwM_SIGSPATIAL2020_ToponymMatching\", \"count\": 5.0}, {\"index\": \".pkl\", \"variable\": \"LwM_SIGSPATIAL2020_ToponymMatching\", \"count\": null}, {\"index\": \".gif\", \"variable\": \"LwM_SIGSPATIAL2020_ToponymMatching\", \"count\": null}, {\"index\": \".txt\", \"variable\": \"LwM_SIGSPATIAL2020_ToponymMatching\", \"count\": null}, {\"index\": \".html\", \"variable\": \"LwM_SIGSPATIAL2020_ToponymMatching\", \"count\": null}, {\"index\": \".js\", \"variable\": \"LwM_SIGSPATIAL2020_ToponymMatching\", \"count\": null}, {\"index\": \".vocab\", \"variable\": \"LwM_SIGSPATIAL2020_ToponymMatching\", \"count\": 1.0}, {\"index\": \".yaml\", \"variable\": \"LwM_SIGSPATIAL2020_ToponymMatching\", \"count\": 1.0}, {\"index\": \".cfg\", \"variable\": \"LwM_SIGSPATIAL2020_ToponymMatching\", \"count\": null}, {\"index\": \".xml\", \"variable\": \"LwM_SIGSPATIAL2020_ToponymMatching\", \"count\": null}, {\"index\": \".in\", \"variable\": \"LwM_SIGSPATIAL2020_ToponymMatching\", \"count\": null}, {\"index\": \".ini\", \"variable\": \"LwM_SIGSPATIAL2020_ToponymMatching\", \"count\": null}, {\"index\": \".lock\", \"variable\": \"LwM_SIGSPATIAL2020_ToponymMatching\", \"count\": null}, {\"index\": \".css\", \"variable\": \"LwM_SIGSPATIAL2020_ToponymMatching\", \"count\": null}, {\"index\": \".otf\", \"variable\": \"LwM_SIGSPATIAL2020_ToponymMatching\", \"count\": null}, {\"index\": \".eot\", \"variable\": \"LwM_SIGSPATIAL2020_ToponymMatching\", \"count\": null}, {\"index\": \".svg\", \"variable\": \"LwM_SIGSPATIAL2020_ToponymMatching\", \"count\": null}, {\"index\": \".ttf\", \"variable\": \"LwM_SIGSPATIAL2020_ToponymMatching\", \"count\": null}, {\"index\": \".woff\", \"variable\": \"LwM_SIGSPATIAL2020_ToponymMatching\", \"count\": null}, {\"index\": \".woff2\", \"variable\": \"LwM_SIGSPATIAL2020_ToponymMatching\", \"count\": null}, {\"index\": \".ico\", \"variable\": \"LwM_SIGSPATIAL2020_ToponymMatching\", \"count\": null}, {\"index\": \".csv\", \"variable\": \"LwM_SIGSPATIAL2020_ToponymMatching\", \"count\": null}, {\"index\": \".zip\", \"variable\": \"LwM_SIGSPATIAL2020_ToponymMatching\", \"count\": null}, {\"index\": \".xlsx\", \"variable\": \"LwM_SIGSPATIAL2020_ToponymMatching\", \"count\": null}, {\"index\": \".rst\", \"variable\": \"LwM_SIGSPATIAL2020_ToponymMatching\", \"count\": null}, {\"index\": \".org\", \"variable\": \"LwM_SIGSPATIAL2020_ToponymMatching\", \"count\": null}, {\"index\": \".cff\", \"variable\": \"LwM_SIGSPATIAL2020_ToponymMatching\", \"count\": null}, {\"index\": \".Rmd\", \"variable\": \"LwM_SIGSPATIAL2020_ToponymMatching\", \"count\": null}, {\"index\": \".RDS\", \"variable\": \"LwM_SIGSPATIAL2020_ToponymMatching\", \"count\": null}, {\"index\": \".scss\", \"variable\": \"LwM_SIGSPATIAL2020_ToponymMatching\", \"count\": null}, {\"index\": \".bib\", \"variable\": \"LwM_SIGSPATIAL2020_ToponymMatching\", \"count\": null}, {\"index\": \".md\", \"variable\": \"histLM\", \"count\": 2.0}, {\"index\": \".ipynb\", \"variable\": \"histLM\", \"count\": 4.0}, {\"index\": \".yml\", \"variable\": \"histLM\", \"count\": null}, {\"index\": \".png\", \"variable\": \"histLM\", \"count\": null}, {\"index\": \".pdf\", \"variable\": \"histLM\", \"count\": null}, {\"index\": \".py\", \"variable\": \"histLM\", \"count\": 1.0}, {\"index\": \".pkl\", \"variable\": \"histLM\", \"count\": null}, {\"index\": \".gif\", \"variable\": \"histLM\", \"count\": null}, {\"index\": \".txt\", \"variable\": \"histLM\", \"count\": 1.0}, {\"index\": \".html\", \"variable\": \"histLM\", \"count\": null}, {\"index\": \".js\", \"variable\": \"histLM\", \"count\": null}, {\"index\": \".vocab\", \"variable\": \"histLM\", \"count\": null}, {\"index\": \".yaml\", \"variable\": \"histLM\", \"count\": 1.0}, {\"index\": \".cfg\", \"variable\": \"histLM\", \"count\": null}, {\"index\": \".xml\", \"variable\": \"histLM\", \"count\": null}, {\"index\": \".in\", \"variable\": \"histLM\", \"count\": null}, {\"index\": \".ini\", \"variable\": \"histLM\", \"count\": null}, {\"index\": \".lock\", \"variable\": \"histLM\", \"count\": null}, {\"index\": \".css\", \"variable\": \"histLM\", \"count\": null}, {\"index\": \".otf\", \"variable\": \"histLM\", \"count\": null}, {\"index\": \".eot\", \"variable\": \"histLM\", \"count\": null}, {\"index\": \".svg\", \"variable\": \"histLM\", \"count\": null}, {\"index\": \".ttf\", \"variable\": \"histLM\", \"count\": null}, {\"index\": \".woff\", \"variable\": \"histLM\", \"count\": null}, {\"index\": \".woff2\", \"variable\": \"histLM\", \"count\": null}, {\"index\": \".ico\", \"variable\": \"histLM\", \"count\": null}, {\"index\": \".csv\", \"variable\": \"histLM\", \"count\": null}, {\"index\": \".zip\", \"variable\": \"histLM\", \"count\": null}, {\"index\": \".xlsx\", \"variable\": \"histLM\", \"count\": null}, {\"index\": \".rst\", \"variable\": \"histLM\", \"count\": null}, {\"index\": \".org\", \"variable\": \"histLM\", \"count\": null}, {\"index\": \".cff\", \"variable\": \"histLM\", \"count\": null}, {\"index\": \".Rmd\", \"variable\": \"histLM\", \"count\": null}, {\"index\": \".RDS\", \"variable\": \"histLM\", \"count\": null}, {\"index\": \".scss\", \"variable\": \"histLM\", \"count\": null}, {\"index\": \".bib\", \"variable\": \"histLM\", \"count\": null}, {\"index\": \".md\", \"variable\": \"AzureAudit\", \"count\": 1.0}, {\"index\": \".ipynb\", \"variable\": \"AzureAudit\", \"count\": null}, {\"index\": \".yml\", \"variable\": \"AzureAudit\", \"count\": null}, {\"index\": \".png\", \"variable\": \"AzureAudit\", \"count\": null}, {\"index\": \".pdf\", \"variable\": \"AzureAudit\", \"count\": null}, {\"index\": \".py\", \"variable\": \"AzureAudit\", \"count\": null}, {\"index\": \".pkl\", \"variable\": \"AzureAudit\", \"count\": null}, {\"index\": \".gif\", \"variable\": \"AzureAudit\", \"count\": null}, {\"index\": \".txt\", \"variable\": \"AzureAudit\", \"count\": null}, {\"index\": \".html\", \"variable\": \"AzureAudit\", \"count\": null}, {\"index\": \".js\", \"variable\": \"AzureAudit\", \"count\": null}, {\"index\": \".vocab\", \"variable\": \"AzureAudit\", \"count\": null}, {\"index\": \".yaml\", \"variable\": \"AzureAudit\", \"count\": null}, {\"index\": \".cfg\", \"variable\": \"AzureAudit\", \"count\": null}, {\"index\": \".xml\", \"variable\": \"AzureAudit\", \"count\": null}, {\"index\": \".in\", \"variable\": \"AzureAudit\", \"count\": null}, {\"index\": \".ini\", \"variable\": \"AzureAudit\", \"count\": null}, {\"index\": \".lock\", \"variable\": \"AzureAudit\", \"count\": null}, {\"index\": \".css\", \"variable\": \"AzureAudit\", \"count\": null}, {\"index\": \".otf\", \"variable\": \"AzureAudit\", \"count\": null}, {\"index\": \".eot\", \"variable\": \"AzureAudit\", \"count\": null}, {\"index\": \".svg\", \"variable\": \"AzureAudit\", \"count\": null}, {\"index\": \".ttf\", \"variable\": \"AzureAudit\", \"count\": null}, {\"index\": \".woff\", \"variable\": \"AzureAudit\", \"count\": null}, {\"index\": \".woff2\", \"variable\": \"AzureAudit\", \"count\": null}, {\"index\": \".ico\", \"variable\": \"AzureAudit\", \"count\": null}, {\"index\": \".csv\", \"variable\": \"AzureAudit\", \"count\": null}, {\"index\": \".zip\", \"variable\": \"AzureAudit\", \"count\": null}, {\"index\": \".xlsx\", \"variable\": \"AzureAudit\", \"count\": null}, {\"index\": \".rst\", \"variable\": \"AzureAudit\", \"count\": null}, {\"index\": \".org\", \"variable\": \"AzureAudit\", \"count\": null}, {\"index\": \".cff\", \"variable\": \"AzureAudit\", \"count\": null}, {\"index\": \".Rmd\", \"variable\": \"AzureAudit\", \"count\": null}, {\"index\": \".RDS\", \"variable\": \"AzureAudit\", \"count\": null}, {\"index\": \".scss\", \"variable\": \"AzureAudit\", \"count\": null}, {\"index\": \".bib\", \"variable\": \"AzureAudit\", \"count\": null}, {\"index\": \".md\", \"variable\": \"maps-at-scale-hack-day-notebooks\", \"count\": 7.0}, {\"index\": \".ipynb\", \"variable\": \"maps-at-scale-hack-day-notebooks\", \"count\": 14.0}, {\"index\": \".yml\", \"variable\": \"maps-at-scale-hack-day-notebooks\", \"count\": 1.0}, {\"index\": \".png\", \"variable\": \"maps-at-scale-hack-day-notebooks\", \"count\": 22.0}, {\"index\": \".pdf\", \"variable\": \"maps-at-scale-hack-day-notebooks\", \"count\": null}, {\"index\": \".py\", \"variable\": \"maps-at-scale-hack-day-notebooks\", \"count\": null}, {\"index\": \".pkl\", \"variable\": \"maps-at-scale-hack-day-notebooks\", \"count\": null}, {\"index\": \".gif\", \"variable\": \"maps-at-scale-hack-day-notebooks\", \"count\": null}, {\"index\": \".txt\", \"variable\": \"maps-at-scale-hack-day-notebooks\", \"count\": null}, {\"index\": \".html\", \"variable\": \"maps-at-scale-hack-day-notebooks\", \"count\": null}, {\"index\": \".js\", \"variable\": \"maps-at-scale-hack-day-notebooks\", \"count\": null}, {\"index\": \".vocab\", \"variable\": \"maps-at-scale-hack-day-notebooks\", \"count\": null}, {\"index\": \".yaml\", \"variable\": \"maps-at-scale-hack-day-notebooks\", \"count\": null}, {\"index\": \".cfg\", \"variable\": \"maps-at-scale-hack-day-notebooks\", \"count\": null}, {\"index\": \".xml\", \"variable\": \"maps-at-scale-hack-day-notebooks\", \"count\": null}, {\"index\": \".in\", \"variable\": \"maps-at-scale-hack-day-notebooks\", \"count\": null}, {\"index\": \".ini\", \"variable\": \"maps-at-scale-hack-day-notebooks\", \"count\": null}, {\"index\": \".lock\", \"variable\": \"maps-at-scale-hack-day-notebooks\", \"count\": null}, {\"index\": \".css\", \"variable\": \"maps-at-scale-hack-day-notebooks\", \"count\": null}, {\"index\": \".otf\", \"variable\": \"maps-at-scale-hack-day-notebooks\", \"count\": null}, {\"index\": \".eot\", \"variable\": \"maps-at-scale-hack-day-notebooks\", \"count\": null}, {\"index\": \".svg\", \"variable\": \"maps-at-scale-hack-day-notebooks\", \"count\": null}, {\"index\": \".ttf\", \"variable\": \"maps-at-scale-hack-day-notebooks\", \"count\": null}, {\"index\": \".woff\", \"variable\": \"maps-at-scale-hack-day-notebooks\", \"count\": null}, {\"index\": \".woff2\", \"variable\": \"maps-at-scale-hack-day-notebooks\", \"count\": null}, {\"index\": \".ico\", \"variable\": \"maps-at-scale-hack-day-notebooks\", \"count\": null}, {\"index\": \".csv\", \"variable\": \"maps-at-scale-hack-day-notebooks\", \"count\": null}, {\"index\": \".zip\", \"variable\": \"maps-at-scale-hack-day-notebooks\", \"count\": null}, {\"index\": \".xlsx\", \"variable\": \"maps-at-scale-hack-day-notebooks\", \"count\": null}, {\"index\": \".rst\", \"variable\": \"maps-at-scale-hack-day-notebooks\", \"count\": null}, {\"index\": \".org\", \"variable\": \"maps-at-scale-hack-day-notebooks\", \"count\": null}, {\"index\": \".cff\", \"variable\": \"maps-at-scale-hack-day-notebooks\", \"count\": null}, {\"index\": \".Rmd\", \"variable\": \"maps-at-scale-hack-day-notebooks\", \"count\": null}, {\"index\": \".RDS\", \"variable\": \"maps-at-scale-hack-day-notebooks\", \"count\": null}, {\"index\": \".scss\", \"variable\": \"maps-at-scale-hack-day-notebooks\", \"count\": null}, {\"index\": \".bib\", \"variable\": \"maps-at-scale-hack-day-notebooks\", \"count\": null}, {\"index\": \".md\", \"variable\": \"deduplify\", \"count\": 5.0}, {\"index\": \".ipynb\", \"variable\": \"deduplify\", \"count\": null}, {\"index\": \".yml\", \"variable\": \"deduplify\", \"count\": 2.0}, {\"index\": \".png\", \"variable\": \"deduplify\", \"count\": null}, {\"index\": \".pdf\", \"variable\": \"deduplify\", \"count\": null}, {\"index\": \".py\", \"variable\": \"deduplify\", \"count\": 10.0}, {\"index\": \".pkl\", \"variable\": \"deduplify\", \"count\": null}, {\"index\": \".gif\", \"variable\": \"deduplify\", \"count\": null}, {\"index\": \".txt\", \"variable\": \"deduplify\", \"count\": 3.0}, {\"index\": \".html\", \"variable\": \"deduplify\", \"count\": null}, {\"index\": \".js\", \"variable\": \"deduplify\", \"count\": null}, {\"index\": \".vocab\", \"variable\": \"deduplify\", \"count\": null}, {\"index\": \".yaml\", \"variable\": \"deduplify\", \"count\": 2.0}, {\"index\": \".cfg\", \"variable\": \"deduplify\", \"count\": 1.0}, {\"index\": \".xml\", \"variable\": \"deduplify\", \"count\": 2.0}, {\"index\": \".in\", \"variable\": \"deduplify\", \"count\": null}, {\"index\": \".ini\", \"variable\": \"deduplify\", \"count\": null}, {\"index\": \".lock\", \"variable\": \"deduplify\", \"count\": null}, {\"index\": \".css\", \"variable\": \"deduplify\", \"count\": null}, {\"index\": \".otf\", \"variable\": \"deduplify\", \"count\": null}, {\"index\": \".eot\", \"variable\": \"deduplify\", \"count\": null}, {\"index\": \".svg\", \"variable\": \"deduplify\", \"count\": null}, {\"index\": \".ttf\", \"variable\": \"deduplify\", \"count\": null}, {\"index\": \".woff\", \"variable\": \"deduplify\", \"count\": null}, {\"index\": \".woff2\", \"variable\": \"deduplify\", \"count\": null}, {\"index\": \".ico\", \"variable\": \"deduplify\", \"count\": null}, {\"index\": \".csv\", \"variable\": \"deduplify\", \"count\": null}, {\"index\": \".zip\", \"variable\": \"deduplify\", \"count\": null}, {\"index\": \".xlsx\", \"variable\": \"deduplify\", \"count\": null}, {\"index\": \".rst\", \"variable\": \"deduplify\", \"count\": null}, {\"index\": \".org\", \"variable\": \"deduplify\", \"count\": null}, {\"index\": \".cff\", \"variable\": \"deduplify\", \"count\": null}, {\"index\": \".Rmd\", \"variable\": \"deduplify\", \"count\": null}, {\"index\": \".RDS\", \"variable\": \"deduplify\", \"count\": null}, {\"index\": \".scss\", \"variable\": \"deduplify\", \"count\": null}, {\"index\": \".bib\", \"variable\": \"deduplify\", \"count\": null}, {\"index\": \".md\", \"variable\": \"station-to-station\", \"count\": 7.0}, {\"index\": \".ipynb\", \"variable\": \"station-to-station\", \"count\": 2.0}, {\"index\": \".yml\", \"variable\": \"station-to-station\", \"count\": null}, {\"index\": \".png\", \"variable\": \"station-to-station\", \"count\": null}, {\"index\": \".pdf\", \"variable\": \"station-to-station\", \"count\": null}, {\"index\": \".py\", \"variable\": \"station-to-station\", \"count\": 13.0}, {\"index\": \".pkl\", \"variable\": \"station-to-station\", \"count\": null}, {\"index\": \".gif\", \"variable\": \"station-to-station\", \"count\": 1.0}, {\"index\": \".txt\", \"variable\": \"station-to-station\", \"count\": 1.0}, {\"index\": \".html\", \"variable\": \"station-to-station\", \"count\": null}, {\"index\": \".js\", \"variable\": \"station-to-station\", \"count\": null}, {\"index\": \".vocab\", \"variable\": \"station-to-station\", \"count\": null}, {\"index\": \".yaml\", \"variable\": \"station-to-station\", \"count\": null}, {\"index\": \".cfg\", \"variable\": \"station-to-station\", \"count\": null}, {\"index\": \".xml\", \"variable\": \"station-to-station\", \"count\": null}, {\"index\": \".in\", \"variable\": \"station-to-station\", \"count\": null}, {\"index\": \".ini\", \"variable\": \"station-to-station\", \"count\": null}, {\"index\": \".lock\", \"variable\": \"station-to-station\", \"count\": null}, {\"index\": \".css\", \"variable\": \"station-to-station\", \"count\": null}, {\"index\": \".otf\", \"variable\": \"station-to-station\", \"count\": null}, {\"index\": \".eot\", \"variable\": \"station-to-station\", \"count\": null}, {\"index\": \".svg\", \"variable\": \"station-to-station\", \"count\": null}, {\"index\": \".ttf\", \"variable\": \"station-to-station\", \"count\": null}, {\"index\": \".woff\", \"variable\": \"station-to-station\", \"count\": null}, {\"index\": \".woff2\", \"variable\": \"station-to-station\", \"count\": null}, {\"index\": \".ico\", \"variable\": \"station-to-station\", \"count\": null}, {\"index\": \".csv\", \"variable\": \"station-to-station\", \"count\": null}, {\"index\": \".zip\", \"variable\": \"station-to-station\", \"count\": null}, {\"index\": \".xlsx\", \"variable\": \"station-to-station\", \"count\": null}, {\"index\": \".rst\", \"variable\": \"station-to-station\", \"count\": null}, {\"index\": \".org\", \"variable\": \"station-to-station\", \"count\": null}, {\"index\": \".cff\", \"variable\": \"station-to-station\", \"count\": null}, {\"index\": \".Rmd\", \"variable\": \"station-to-station\", \"count\": null}, {\"index\": \".RDS\", \"variable\": \"station-to-station\", \"count\": null}, {\"index\": \".scss\", \"variable\": \"station-to-station\", \"count\": null}, {\"index\": \".bib\", \"variable\": \"station-to-station\", \"count\": null}, {\"index\": \".md\", \"variable\": \"TargetedSenseDisambiguation\", \"count\": 3.0}, {\"index\": \".ipynb\", \"variable\": \"TargetedSenseDisambiguation\", \"count\": 2.0}, {\"index\": \".yml\", \"variable\": \"TargetedSenseDisambiguation\", \"count\": null}, {\"index\": \".png\", \"variable\": \"TargetedSenseDisambiguation\", \"count\": null}, {\"index\": \".pdf\", \"variable\": \"TargetedSenseDisambiguation\", \"count\": null}, {\"index\": \".py\", \"variable\": \"TargetedSenseDisambiguation\", \"count\": 11.0}, {\"index\": \".pkl\", \"variable\": \"TargetedSenseDisambiguation\", \"count\": null}, {\"index\": \".gif\", \"variable\": \"TargetedSenseDisambiguation\", \"count\": null}, {\"index\": \".txt\", \"variable\": \"TargetedSenseDisambiguation\", \"count\": 1.0}, {\"index\": \".html\", \"variable\": \"TargetedSenseDisambiguation\", \"count\": null}, {\"index\": \".js\", \"variable\": \"TargetedSenseDisambiguation\", \"count\": null}, {\"index\": \".vocab\", \"variable\": \"TargetedSenseDisambiguation\", \"count\": null}, {\"index\": \".yaml\", \"variable\": \"TargetedSenseDisambiguation\", \"count\": null}, {\"index\": \".cfg\", \"variable\": \"TargetedSenseDisambiguation\", \"count\": null}, {\"index\": \".xml\", \"variable\": \"TargetedSenseDisambiguation\", \"count\": null}, {\"index\": \".in\", \"variable\": \"TargetedSenseDisambiguation\", \"count\": null}, {\"index\": \".ini\", \"variable\": \"TargetedSenseDisambiguation\", \"count\": null}, {\"index\": \".lock\", \"variable\": \"TargetedSenseDisambiguation\", \"count\": null}, {\"index\": \".css\", \"variable\": \"TargetedSenseDisambiguation\", \"count\": null}, {\"index\": \".otf\", \"variable\": \"TargetedSenseDisambiguation\", \"count\": null}, {\"index\": \".eot\", \"variable\": \"TargetedSenseDisambiguation\", \"count\": null}, {\"index\": \".svg\", \"variable\": \"TargetedSenseDisambiguation\", \"count\": null}, {\"index\": \".ttf\", \"variable\": \"TargetedSenseDisambiguation\", \"count\": null}, {\"index\": \".woff\", \"variable\": \"TargetedSenseDisambiguation\", \"count\": null}, {\"index\": \".woff2\", \"variable\": \"TargetedSenseDisambiguation\", \"count\": null}, {\"index\": \".ico\", \"variable\": \"TargetedSenseDisambiguation\", \"count\": null}, {\"index\": \".csv\", \"variable\": \"TargetedSenseDisambiguation\", \"count\": null}, {\"index\": \".zip\", \"variable\": \"TargetedSenseDisambiguation\", \"count\": null}, {\"index\": \".xlsx\", \"variable\": \"TargetedSenseDisambiguation\", \"count\": null}, {\"index\": \".rst\", \"variable\": \"TargetedSenseDisambiguation\", \"count\": null}, {\"index\": \".org\", \"variable\": \"TargetedSenseDisambiguation\", \"count\": null}, {\"index\": \".cff\", \"variable\": \"TargetedSenseDisambiguation\", \"count\": null}, {\"index\": \".Rmd\", \"variable\": \"TargetedSenseDisambiguation\", \"count\": null}, {\"index\": \".RDS\", \"variable\": \"TargetedSenseDisambiguation\", \"count\": null}, {\"index\": \".scss\", \"variable\": \"TargetedSenseDisambiguation\", \"count\": null}, {\"index\": \".bib\", \"variable\": \"TargetedSenseDisambiguation\", \"count\": null}, {\"index\": \".md\", \"variable\": \"AtypicalAnimacy\", \"count\": 2.0}, {\"index\": \".ipynb\", \"variable\": \"AtypicalAnimacy\", \"count\": 8.0}, {\"index\": \".yml\", \"variable\": \"AtypicalAnimacy\", \"count\": null}, {\"index\": \".png\", \"variable\": \"AtypicalAnimacy\", \"count\": null}, {\"index\": \".pdf\", \"variable\": \"AtypicalAnimacy\", \"count\": null}, {\"index\": \".py\", \"variable\": \"AtypicalAnimacy\", \"count\": 6.0}, {\"index\": \".pkl\", \"variable\": \"AtypicalAnimacy\", \"count\": null}, {\"index\": \".gif\", \"variable\": \"AtypicalAnimacy\", \"count\": null}, {\"index\": \".txt\", \"variable\": \"AtypicalAnimacy\", \"count\": 1.0}, {\"index\": \".html\", \"variable\": \"AtypicalAnimacy\", \"count\": null}, {\"index\": \".js\", \"variable\": \"AtypicalAnimacy\", \"count\": null}, {\"index\": \".vocab\", \"variable\": \"AtypicalAnimacy\", \"count\": null}, {\"index\": \".yaml\", \"variable\": \"AtypicalAnimacy\", \"count\": null}, {\"index\": \".cfg\", \"variable\": \"AtypicalAnimacy\", \"count\": null}, {\"index\": \".xml\", \"variable\": \"AtypicalAnimacy\", \"count\": null}, {\"index\": \".in\", \"variable\": \"AtypicalAnimacy\", \"count\": null}, {\"index\": \".ini\", \"variable\": \"AtypicalAnimacy\", \"count\": null}, {\"index\": \".lock\", \"variable\": \"AtypicalAnimacy\", \"count\": null}, {\"index\": \".css\", \"variable\": \"AtypicalAnimacy\", \"count\": null}, {\"index\": \".otf\", \"variable\": \"AtypicalAnimacy\", \"count\": null}, {\"index\": \".eot\", \"variable\": \"AtypicalAnimacy\", \"count\": null}, {\"index\": \".svg\", \"variable\": \"AtypicalAnimacy\", \"count\": null}, {\"index\": \".ttf\", \"variable\": \"AtypicalAnimacy\", \"count\": null}, {\"index\": \".woff\", \"variable\": \"AtypicalAnimacy\", \"count\": null}, {\"index\": \".woff2\", \"variable\": \"AtypicalAnimacy\", \"count\": null}, {\"index\": \".ico\", \"variable\": \"AtypicalAnimacy\", \"count\": null}, {\"index\": \".csv\", \"variable\": \"AtypicalAnimacy\", \"count\": null}, {\"index\": \".zip\", \"variable\": \"AtypicalAnimacy\", \"count\": null}, {\"index\": \".xlsx\", \"variable\": \"AtypicalAnimacy\", \"count\": null}, {\"index\": \".rst\", \"variable\": \"AtypicalAnimacy\", \"count\": null}, {\"index\": \".org\", \"variable\": \"AtypicalAnimacy\", \"count\": null}, {\"index\": \".cff\", \"variable\": \"AtypicalAnimacy\", \"count\": null}, {\"index\": \".Rmd\", \"variable\": \"AtypicalAnimacy\", \"count\": null}, {\"index\": \".RDS\", \"variable\": \"AtypicalAnimacy\", \"count\": null}, {\"index\": \".scss\", \"variable\": \"AtypicalAnimacy\", \"count\": null}, {\"index\": \".bib\", \"variable\": \"AtypicalAnimacy\", \"count\": null}, {\"index\": \".md\", \"variable\": \"nnanno\", \"count\": 3.0}, {\"index\": \".ipynb\", \"variable\": \"nnanno\", \"count\": 13.0}, {\"index\": \".yml\", \"variable\": \"nnanno\", \"count\": 11.0}, {\"index\": \".png\", \"variable\": \"nnanno\", \"count\": 5.0}, {\"index\": \".pdf\", \"variable\": \"nnanno\", \"count\": null}, {\"index\": \".py\", \"variable\": \"nnanno\", \"count\": 7.0}, {\"index\": \".pkl\", \"variable\": \"nnanno\", \"count\": null}, {\"index\": \".gif\", \"variable\": \"nnanno\", \"count\": null}, {\"index\": \".txt\", \"variable\": \"nnanno\", \"count\": 1.0}, {\"index\": \".html\", \"variable\": \"nnanno\", \"count\": 36.0}, {\"index\": \".js\", \"variable\": \"nnanno\", \"count\": 6.0}, {\"index\": \".vocab\", \"variable\": \"nnanno\", \"count\": null}, {\"index\": \".yaml\", \"variable\": \"nnanno\", \"count\": null}, {\"index\": \".cfg\", \"variable\": \"nnanno\", \"count\": null}, {\"index\": \".xml\", \"variable\": \"nnanno\", \"count\": 3.0}, {\"index\": \".in\", \"variable\": \"nnanno\", \"count\": 1.0}, {\"index\": \".ini\", \"variable\": \"nnanno\", \"count\": 1.0}, {\"index\": \".lock\", \"variable\": \"nnanno\", \"count\": 1.0}, {\"index\": \".css\", \"variable\": \"nnanno\", \"count\": 9.0}, {\"index\": \".otf\", \"variable\": \"nnanno\", \"count\": 2.0}, {\"index\": \".eot\", \"variable\": \"nnanno\", \"count\": 3.0}, {\"index\": \".svg\", \"variable\": \"nnanno\", \"count\": 4.0}, {\"index\": \".ttf\", \"variable\": \"nnanno\", \"count\": 3.0}, {\"index\": \".woff\", \"variable\": \"nnanno\", \"count\": 3.0}, {\"index\": \".woff2\", \"variable\": \"nnanno\", \"count\": 2.0}, {\"index\": \".ico\", \"variable\": \"nnanno\", \"count\": 1.0}, {\"index\": \".csv\", \"variable\": \"nnanno\", \"count\": 7.0}, {\"index\": \".zip\", \"variable\": \"nnanno\", \"count\": null}, {\"index\": \".xlsx\", \"variable\": \"nnanno\", \"count\": null}, {\"index\": \".rst\", \"variable\": \"nnanno\", \"count\": null}, {\"index\": \".org\", \"variable\": \"nnanno\", \"count\": null}, {\"index\": \".cff\", \"variable\": \"nnanno\", \"count\": null}, {\"index\": \".Rmd\", \"variable\": \"nnanno\", \"count\": null}, {\"index\": \".RDS\", \"variable\": \"nnanno\", \"count\": null}, {\"index\": \".scss\", \"variable\": \"nnanno\", \"count\": null}, {\"index\": \".bib\", \"variable\": \"nnanno\", \"count\": null}, {\"index\": \".md\", \"variable\": \"computer-vision-DHNordic-2020-workshop\", \"count\": 1.0}, {\"index\": \".ipynb\", \"variable\": \"computer-vision-DHNordic-2020-workshop\", \"count\": 3.0}, {\"index\": \".yml\", \"variable\": \"computer-vision-DHNordic-2020-workshop\", \"count\": 1.0}, {\"index\": \".png\", \"variable\": \"computer-vision-DHNordic-2020-workshop\", \"count\": 3.0}, {\"index\": \".pdf\", \"variable\": \"computer-vision-DHNordic-2020-workshop\", \"count\": null}, {\"index\": \".py\", \"variable\": \"computer-vision-DHNordic-2020-workshop\", \"count\": null}, {\"index\": \".pkl\", \"variable\": \"computer-vision-DHNordic-2020-workshop\", \"count\": null}, {\"index\": \".gif\", \"variable\": \"computer-vision-DHNordic-2020-workshop\", \"count\": null}, {\"index\": \".txt\", \"variable\": \"computer-vision-DHNordic-2020-workshop\", \"count\": null}, {\"index\": \".html\", \"variable\": \"computer-vision-DHNordic-2020-workshop\", \"count\": null}, {\"index\": \".js\", \"variable\": \"computer-vision-DHNordic-2020-workshop\", \"count\": null}, {\"index\": \".vocab\", \"variable\": \"computer-vision-DHNordic-2020-workshop\", \"count\": null}, {\"index\": \".yaml\", \"variable\": \"computer-vision-DHNordic-2020-workshop\", \"count\": null}, {\"index\": \".cfg\", \"variable\": \"computer-vision-DHNordic-2020-workshop\", \"count\": null}, {\"index\": \".xml\", \"variable\": \"computer-vision-DHNordic-2020-workshop\", \"count\": null}, {\"index\": \".in\", \"variable\": \"computer-vision-DHNordic-2020-workshop\", \"count\": null}, {\"index\": \".ini\", \"variable\": \"computer-vision-DHNordic-2020-workshop\", \"count\": null}, {\"index\": \".lock\", \"variable\": \"computer-vision-DHNordic-2020-workshop\", \"count\": null}, {\"index\": \".css\", \"variable\": \"computer-vision-DHNordic-2020-workshop\", \"count\": null}, {\"index\": \".otf\", \"variable\": \"computer-vision-DHNordic-2020-workshop\", \"count\": null}, {\"index\": \".eot\", \"variable\": \"computer-vision-DHNordic-2020-workshop\", \"count\": null}, {\"index\": \".svg\", \"variable\": \"computer-vision-DHNordic-2020-workshop\", \"count\": null}, {\"index\": \".ttf\", \"variable\": \"computer-vision-DHNordic-2020-workshop\", \"count\": null}, {\"index\": \".woff\", \"variable\": \"computer-vision-DHNordic-2020-workshop\", \"count\": null}, {\"index\": \".woff2\", \"variable\": \"computer-vision-DHNordic-2020-workshop\", \"count\": null}, {\"index\": \".ico\", \"variable\": \"computer-vision-DHNordic-2020-workshop\", \"count\": null}, {\"index\": \".csv\", \"variable\": \"computer-vision-DHNordic-2020-workshop\", \"count\": null}, {\"index\": \".zip\", \"variable\": \"computer-vision-DHNordic-2020-workshop\", \"count\": 1.0}, {\"index\": \".xlsx\", \"variable\": \"computer-vision-DHNordic-2020-workshop\", \"count\": null}, {\"index\": \".rst\", \"variable\": \"computer-vision-DHNordic-2020-workshop\", \"count\": null}, {\"index\": \".org\", \"variable\": \"computer-vision-DHNordic-2020-workshop\", \"count\": null}, {\"index\": \".cff\", \"variable\": \"computer-vision-DHNordic-2020-workshop\", \"count\": null}, {\"index\": \".Rmd\", \"variable\": \"computer-vision-DHNordic-2020-workshop\", \"count\": null}, {\"index\": \".RDS\", \"variable\": \"computer-vision-DHNordic-2020-workshop\", \"count\": null}, {\"index\": \".scss\", \"variable\": \"computer-vision-DHNordic-2020-workshop\", \"count\": null}, {\"index\": \".bib\", \"variable\": \"computer-vision-DHNordic-2020-workshop\", \"count\": null}, {\"index\": \".md\", \"variable\": \"maps-at-scale-using-computer-vision-and-jupyter-notebooks\", \"count\": 1.0}, {\"index\": \".ipynb\", \"variable\": \"maps-at-scale-using-computer-vision-and-jupyter-notebooks\", \"count\": 2.0}, {\"index\": \".yml\", \"variable\": \"maps-at-scale-using-computer-vision-and-jupyter-notebooks\", \"count\": null}, {\"index\": \".png\", \"variable\": \"maps-at-scale-using-computer-vision-and-jupyter-notebooks\", \"count\": 1.0}, {\"index\": \".pdf\", \"variable\": \"maps-at-scale-using-computer-vision-and-jupyter-notebooks\", \"count\": null}, {\"index\": \".py\", \"variable\": \"maps-at-scale-using-computer-vision-and-jupyter-notebooks\", \"count\": null}, {\"index\": \".pkl\", \"variable\": \"maps-at-scale-using-computer-vision-and-jupyter-notebooks\", \"count\": null}, {\"index\": \".gif\", \"variable\": \"maps-at-scale-using-computer-vision-and-jupyter-notebooks\", \"count\": null}, {\"index\": \".txt\", \"variable\": \"maps-at-scale-using-computer-vision-and-jupyter-notebooks\", \"count\": null}, {\"index\": \".html\", \"variable\": \"maps-at-scale-using-computer-vision-and-jupyter-notebooks\", \"count\": null}, {\"index\": \".js\", \"variable\": \"maps-at-scale-using-computer-vision-and-jupyter-notebooks\", \"count\": null}, {\"index\": \".vocab\", \"variable\": \"maps-at-scale-using-computer-vision-and-jupyter-notebooks\", \"count\": null}, {\"index\": \".yaml\", \"variable\": \"maps-at-scale-using-computer-vision-and-jupyter-notebooks\", \"count\": null}, {\"index\": \".cfg\", \"variable\": \"maps-at-scale-using-computer-vision-and-jupyter-notebooks\", \"count\": null}, {\"index\": \".xml\", \"variable\": \"maps-at-scale-using-computer-vision-and-jupyter-notebooks\", \"count\": null}, {\"index\": \".in\", \"variable\": \"maps-at-scale-using-computer-vision-and-jupyter-notebooks\", \"count\": null}, {\"index\": \".ini\", \"variable\": \"maps-at-scale-using-computer-vision-and-jupyter-notebooks\", \"count\": null}, {\"index\": \".lock\", \"variable\": \"maps-at-scale-using-computer-vision-and-jupyter-notebooks\", \"count\": null}, {\"index\": \".css\", \"variable\": \"maps-at-scale-using-computer-vision-and-jupyter-notebooks\", \"count\": null}, {\"index\": \".otf\", \"variable\": \"maps-at-scale-using-computer-vision-and-jupyter-notebooks\", \"count\": null}, {\"index\": \".eot\", \"variable\": \"maps-at-scale-using-computer-vision-and-jupyter-notebooks\", \"count\": null}, {\"index\": \".svg\", \"variable\": \"maps-at-scale-using-computer-vision-and-jupyter-notebooks\", \"count\": null}, {\"index\": \".ttf\", \"variable\": \"maps-at-scale-using-computer-vision-and-jupyter-notebooks\", \"count\": null}, {\"index\": \".woff\", \"variable\": \"maps-at-scale-using-computer-vision-and-jupyter-notebooks\", \"count\": null}, {\"index\": \".woff2\", \"variable\": \"maps-at-scale-using-computer-vision-and-jupyter-notebooks\", \"count\": null}, {\"index\": \".ico\", \"variable\": \"maps-at-scale-using-computer-vision-and-jupyter-notebooks\", \"count\": null}, {\"index\": \".csv\", \"variable\": \"maps-at-scale-using-computer-vision-and-jupyter-notebooks\", \"count\": null}, {\"index\": \".zip\", \"variable\": \"maps-at-scale-using-computer-vision-and-jupyter-notebooks\", \"count\": null}, {\"index\": \".xlsx\", \"variable\": \"maps-at-scale-using-computer-vision-and-jupyter-notebooks\", \"count\": null}, {\"index\": \".rst\", \"variable\": \"maps-at-scale-using-computer-vision-and-jupyter-notebooks\", \"count\": null}, {\"index\": \".org\", \"variable\": \"maps-at-scale-using-computer-vision-and-jupyter-notebooks\", \"count\": null}, {\"index\": \".cff\", \"variable\": \"maps-at-scale-using-computer-vision-and-jupyter-notebooks\", \"count\": null}, {\"index\": \".Rmd\", \"variable\": \"maps-at-scale-using-computer-vision-and-jupyter-notebooks\", \"count\": null}, {\"index\": \".RDS\", \"variable\": \"maps-at-scale-using-computer-vision-and-jupyter-notebooks\", \"count\": null}, {\"index\": \".scss\", \"variable\": \"maps-at-scale-using-computer-vision-and-jupyter-notebooks\", \"count\": null}, {\"index\": \".bib\", \"variable\": \"maps-at-scale-using-computer-vision-and-jupyter-notebooks\", \"count\": null}, {\"index\": \".md\", \"variable\": \"gh_orgstats\", \"count\": 2.0}, {\"index\": \".ipynb\", \"variable\": \"gh_orgstats\", \"count\": 2.0}, {\"index\": \".yml\", \"variable\": \"gh_orgstats\", \"count\": 11.0}, {\"index\": \".png\", \"variable\": \"gh_orgstats\", \"count\": 7.0}, {\"index\": \".pdf\", \"variable\": \"gh_orgstats\", \"count\": null}, {\"index\": \".py\", \"variable\": \"gh_orgstats\", \"count\": 4.0}, {\"index\": \".pkl\", \"variable\": \"gh_orgstats\", \"count\": null}, {\"index\": \".gif\", \"variable\": \"gh_orgstats\", \"count\": null}, {\"index\": \".txt\", \"variable\": \"gh_orgstats\", \"count\": 1.0}, {\"index\": \".html\", \"variable\": \"gh_orgstats\", \"count\": 27.0}, {\"index\": \".js\", \"variable\": \"gh_orgstats\", \"count\": 6.0}, {\"index\": \".vocab\", \"variable\": \"gh_orgstats\", \"count\": null}, {\"index\": \".yaml\", \"variable\": \"gh_orgstats\", \"count\": null}, {\"index\": \".cfg\", \"variable\": \"gh_orgstats\", \"count\": null}, {\"index\": \".xml\", \"variable\": \"gh_orgstats\", \"count\": 2.0}, {\"index\": \".in\", \"variable\": \"gh_orgstats\", \"count\": 1.0}, {\"index\": \".ini\", \"variable\": \"gh_orgstats\", \"count\": 1.0}, {\"index\": \".lock\", \"variable\": \"gh_orgstats\", \"count\": 1.0}, {\"index\": \".css\", \"variable\": \"gh_orgstats\", \"count\": 9.0}, {\"index\": \".otf\", \"variable\": \"gh_orgstats\", \"count\": 2.0}, {\"index\": \".eot\", \"variable\": \"gh_orgstats\", \"count\": 3.0}, {\"index\": \".svg\", \"variable\": \"gh_orgstats\", \"count\": 4.0}, {\"index\": \".ttf\", \"variable\": \"gh_orgstats\", \"count\": 3.0}, {\"index\": \".woff\", \"variable\": \"gh_orgstats\", \"count\": 3.0}, {\"index\": \".woff2\", \"variable\": \"gh_orgstats\", \"count\": 2.0}, {\"index\": \".ico\", \"variable\": \"gh_orgstats\", \"count\": 2.0}, {\"index\": \".csv\", \"variable\": \"gh_orgstats\", \"count\": null}, {\"index\": \".zip\", \"variable\": \"gh_orgstats\", \"count\": null}, {\"index\": \".xlsx\", \"variable\": \"gh_orgstats\", \"count\": null}, {\"index\": \".rst\", \"variable\": \"gh_orgstats\", \"count\": null}, {\"index\": \".org\", \"variable\": \"gh_orgstats\", \"count\": null}, {\"index\": \".cff\", \"variable\": \"gh_orgstats\", \"count\": null}, {\"index\": \".Rmd\", \"variable\": \"gh_orgstats\", \"count\": null}, {\"index\": \".RDS\", \"variable\": \"gh_orgstats\", \"count\": null}, {\"index\": \".scss\", \"variable\": \"gh_orgstats\", \"count\": null}, {\"index\": \".bib\", \"variable\": \"gh_orgstats\", \"count\": null}, {\"index\": \".md\", \"variable\": \"GazFuse\", \"count\": 1.0}, {\"index\": \".ipynb\", \"variable\": \"GazFuse\", \"count\": null}, {\"index\": \".yml\", \"variable\": \"GazFuse\", \"count\": null}, {\"index\": \".png\", \"variable\": \"GazFuse\", \"count\": null}, {\"index\": \".pdf\", \"variable\": \"GazFuse\", \"count\": null}, {\"index\": \".py\", \"variable\": \"GazFuse\", \"count\": null}, {\"index\": \".pkl\", \"variable\": \"GazFuse\", \"count\": null}, {\"index\": \".gif\", \"variable\": \"GazFuse\", \"count\": null}, {\"index\": \".txt\", \"variable\": \"GazFuse\", \"count\": null}, {\"index\": \".html\", \"variable\": \"GazFuse\", \"count\": null}, {\"index\": \".js\", \"variable\": \"GazFuse\", \"count\": null}, {\"index\": \".vocab\", \"variable\": \"GazFuse\", \"count\": null}, {\"index\": \".yaml\", \"variable\": \"GazFuse\", \"count\": null}, {\"index\": \".cfg\", \"variable\": \"GazFuse\", \"count\": null}, {\"index\": \".xml\", \"variable\": \"GazFuse\", \"count\": null}, {\"index\": \".in\", \"variable\": \"GazFuse\", \"count\": null}, {\"index\": \".ini\", \"variable\": \"GazFuse\", \"count\": null}, {\"index\": \".lock\", \"variable\": \"GazFuse\", \"count\": null}, {\"index\": \".css\", \"variable\": \"GazFuse\", \"count\": null}, {\"index\": \".otf\", \"variable\": \"GazFuse\", \"count\": null}, {\"index\": \".eot\", \"variable\": \"GazFuse\", \"count\": null}, {\"index\": \".svg\", \"variable\": \"GazFuse\", \"count\": null}, {\"index\": \".ttf\", \"variable\": \"GazFuse\", \"count\": null}, {\"index\": \".woff\", \"variable\": \"GazFuse\", \"count\": null}, {\"index\": \".woff2\", \"variable\": \"GazFuse\", \"count\": null}, {\"index\": \".ico\", \"variable\": \"GazFuse\", \"count\": null}, {\"index\": \".csv\", \"variable\": \"GazFuse\", \"count\": null}, {\"index\": \".zip\", \"variable\": \"GazFuse\", \"count\": null}, {\"index\": \".xlsx\", \"variable\": \"GazFuse\", \"count\": null}, {\"index\": \".rst\", \"variable\": \"GazFuse\", \"count\": null}, {\"index\": \".org\", \"variable\": \"GazFuse\", \"count\": null}, {\"index\": \".cff\", \"variable\": \"GazFuse\", \"count\": null}, {\"index\": \".Rmd\", \"variable\": \"GazFuse\", \"count\": null}, {\"index\": \".RDS\", \"variable\": \"GazFuse\", \"count\": null}, {\"index\": \".scss\", \"variable\": \"GazFuse\", \"count\": null}, {\"index\": \".bib\", \"variable\": \"GazFuse\", \"count\": null}, {\"index\": \".md\", \"variable\": \"github_stats_report\", \"count\": 2.0}, {\"index\": \".ipynb\", \"variable\": \"github_stats_report\", \"count\": 2.0}, {\"index\": \".yml\", \"variable\": \"github_stats_report\", \"count\": 2.0}, {\"index\": \".png\", \"variable\": \"github_stats_report\", \"count\": null}, {\"index\": \".pdf\", \"variable\": \"github_stats_report\", \"count\": null}, {\"index\": \".py\", \"variable\": \"github_stats_report\", \"count\": null}, {\"index\": \".pkl\", \"variable\": \"github_stats_report\", \"count\": null}, {\"index\": \".gif\", \"variable\": \"github_stats_report\", \"count\": null}, {\"index\": \".txt\", \"variable\": \"github_stats_report\", \"count\": null}, {\"index\": \".html\", \"variable\": \"github_stats_report\", \"count\": 1.0}, {\"index\": \".js\", \"variable\": \"github_stats_report\", \"count\": null}, {\"index\": \".vocab\", \"variable\": \"github_stats_report\", \"count\": null}, {\"index\": \".yaml\", \"variable\": \"github_stats_report\", \"count\": null}, {\"index\": \".cfg\", \"variable\": \"github_stats_report\", \"count\": null}, {\"index\": \".xml\", \"variable\": \"github_stats_report\", \"count\": null}, {\"index\": \".in\", \"variable\": \"github_stats_report\", \"count\": null}, {\"index\": \".ini\", \"variable\": \"github_stats_report\", \"count\": null}, {\"index\": \".lock\", \"variable\": \"github_stats_report\", \"count\": null}, {\"index\": \".css\", \"variable\": \"github_stats_report\", \"count\": null}, {\"index\": \".otf\", \"variable\": \"github_stats_report\", \"count\": null}, {\"index\": \".eot\", \"variable\": \"github_stats_report\", \"count\": null}, {\"index\": \".svg\", \"variable\": \"github_stats_report\", \"count\": null}, {\"index\": \".ttf\", \"variable\": \"github_stats_report\", \"count\": null}, {\"index\": \".woff\", \"variable\": \"github_stats_report\", \"count\": null}, {\"index\": \".woff2\", \"variable\": \"github_stats_report\", \"count\": null}, {\"index\": \".ico\", \"variable\": \"github_stats_report\", \"count\": null}, {\"index\": \".csv\", \"variable\": \"github_stats_report\", \"count\": 64.0}, {\"index\": \".zip\", \"variable\": \"github_stats_report\", \"count\": null}, {\"index\": \".xlsx\", \"variable\": \"github_stats_report\", \"count\": null}, {\"index\": \".rst\", \"variable\": \"github_stats_report\", \"count\": null}, {\"index\": \".org\", \"variable\": \"github_stats_report\", \"count\": null}, {\"index\": \".cff\", \"variable\": \"github_stats_report\", \"count\": null}, {\"index\": \".Rmd\", \"variable\": \"github_stats_report\", \"count\": null}, {\"index\": \".RDS\", \"variable\": \"github_stats_report\", \"count\": null}, {\"index\": \".scss\", \"variable\": \"github_stats_report\", \"count\": null}, {\"index\": \".bib\", \"variable\": \"github_stats_report\", \"count\": null}, {\"index\": \".md\", \"variable\": \"nnanno_example_data\", \"count\": 2.0}, {\"index\": \".ipynb\", \"variable\": \"nnanno_example_data\", \"count\": null}, {\"index\": \".yml\", \"variable\": \"nnanno_example_data\", \"count\": 1.0}, {\"index\": \".png\", \"variable\": \"nnanno_example_data\", \"count\": null}, {\"index\": \".pdf\", \"variable\": \"nnanno_example_data\", \"count\": null}, {\"index\": \".py\", \"variable\": \"nnanno_example_data\", \"count\": null}, {\"index\": \".pkl\", \"variable\": \"nnanno_example_data\", \"count\": null}, {\"index\": \".gif\", \"variable\": \"nnanno_example_data\", \"count\": null}, {\"index\": \".txt\", \"variable\": \"nnanno_example_data\", \"count\": null}, {\"index\": \".html\", \"variable\": \"nnanno_example_data\", \"count\": null}, {\"index\": \".js\", \"variable\": \"nnanno_example_data\", \"count\": null}, {\"index\": \".vocab\", \"variable\": \"nnanno_example_data\", \"count\": null}, {\"index\": \".yaml\", \"variable\": \"nnanno_example_data\", \"count\": null}, {\"index\": \".cfg\", \"variable\": \"nnanno_example_data\", \"count\": null}, {\"index\": \".xml\", \"variable\": \"nnanno_example_data\", \"count\": null}, {\"index\": \".in\", \"variable\": \"nnanno_example_data\", \"count\": null}, {\"index\": \".ini\", \"variable\": \"nnanno_example_data\", \"count\": null}, {\"index\": \".lock\", \"variable\": \"nnanno_example_data\", \"count\": null}, {\"index\": \".css\", \"variable\": \"nnanno_example_data\", \"count\": null}, {\"index\": \".otf\", \"variable\": \"nnanno_example_data\", \"count\": null}, {\"index\": \".eot\", \"variable\": \"nnanno_example_data\", \"count\": null}, {\"index\": \".svg\", \"variable\": \"nnanno_example_data\", \"count\": null}, {\"index\": \".ttf\", \"variable\": \"nnanno_example_data\", \"count\": null}, {\"index\": \".woff\", \"variable\": \"nnanno_example_data\", \"count\": null}, {\"index\": \".woff2\", \"variable\": \"nnanno_example_data\", \"count\": null}, {\"index\": \".ico\", \"variable\": \"nnanno_example_data\", \"count\": null}, {\"index\": \".csv\", \"variable\": \"nnanno_example_data\", \"count\": 4.0}, {\"index\": \".zip\", \"variable\": \"nnanno_example_data\", \"count\": null}, {\"index\": \".xlsx\", \"variable\": \"nnanno_example_data\", \"count\": null}, {\"index\": \".rst\", \"variable\": \"nnanno_example_data\", \"count\": null}, {\"index\": \".org\", \"variable\": \"nnanno_example_data\", \"count\": null}, {\"index\": \".cff\", \"variable\": \"nnanno_example_data\", \"count\": null}, {\"index\": \".Rmd\", \"variable\": \"nnanno_example_data\", \"count\": null}, {\"index\": \".RDS\", \"variable\": \"nnanno_example_data\", \"count\": null}, {\"index\": \".scss\", \"variable\": \"nnanno_example_data\", \"count\": null}, {\"index\": \".bib\", \"variable\": \"nnanno_example_data\", \"count\": null}, {\"index\": \".md\", \"variable\": \"hmd_newspaper_dl\", \"count\": 2.0}, {\"index\": \".ipynb\", \"variable\": \"hmd_newspaper_dl\", \"count\": 2.0}, {\"index\": \".yml\", \"variable\": \"hmd_newspaper_dl\", \"count\": 3.0}, {\"index\": \".png\", \"variable\": \"hmd_newspaper_dl\", \"count\": null}, {\"index\": \".pdf\", \"variable\": \"hmd_newspaper_dl\", \"count\": null}, {\"index\": \".py\", \"variable\": \"hmd_newspaper_dl\", \"count\": 4.0}, {\"index\": \".pkl\", \"variable\": \"hmd_newspaper_dl\", \"count\": null}, {\"index\": \".gif\", \"variable\": \"hmd_newspaper_dl\", \"count\": null}, {\"index\": \".txt\", \"variable\": \"hmd_newspaper_dl\", \"count\": null}, {\"index\": \".html\", \"variable\": \"hmd_newspaper_dl\", \"count\": null}, {\"index\": \".js\", \"variable\": \"hmd_newspaper_dl\", \"count\": null}, {\"index\": \".vocab\", \"variable\": \"hmd_newspaper_dl\", \"count\": null}, {\"index\": \".yaml\", \"variable\": \"hmd_newspaper_dl\", \"count\": null}, {\"index\": \".cfg\", \"variable\": \"hmd_newspaper_dl\", \"count\": null}, {\"index\": \".xml\", \"variable\": \"hmd_newspaper_dl\", \"count\": null}, {\"index\": \".in\", \"variable\": \"hmd_newspaper_dl\", \"count\": 1.0}, {\"index\": \".ini\", \"variable\": \"hmd_newspaper_dl\", \"count\": 1.0}, {\"index\": \".lock\", \"variable\": \"hmd_newspaper_dl\", \"count\": null}, {\"index\": \".css\", \"variable\": \"hmd_newspaper_dl\", \"count\": null}, {\"index\": \".otf\", \"variable\": \"hmd_newspaper_dl\", \"count\": null}, {\"index\": \".eot\", \"variable\": \"hmd_newspaper_dl\", \"count\": null}, {\"index\": \".svg\", \"variable\": \"hmd_newspaper_dl\", \"count\": null}, {\"index\": \".ttf\", \"variable\": \"hmd_newspaper_dl\", \"count\": null}, {\"index\": \".woff\", \"variable\": \"hmd_newspaper_dl\", \"count\": null}, {\"index\": \".woff2\", \"variable\": \"hmd_newspaper_dl\", \"count\": null}, {\"index\": \".ico\", \"variable\": \"hmd_newspaper_dl\", \"count\": null}, {\"index\": \".csv\", \"variable\": \"hmd_newspaper_dl\", \"count\": null}, {\"index\": \".zip\", \"variable\": \"hmd_newspaper_dl\", \"count\": null}, {\"index\": \".xlsx\", \"variable\": \"hmd_newspaper_dl\", \"count\": null}, {\"index\": \".rst\", \"variable\": \"hmd_newspaper_dl\", \"count\": null}, {\"index\": \".org\", \"variable\": \"hmd_newspaper_dl\", \"count\": null}, {\"index\": \".cff\", \"variable\": \"hmd_newspaper_dl\", \"count\": null}, {\"index\": \".Rmd\", \"variable\": \"hmd_newspaper_dl\", \"count\": null}, {\"index\": \".RDS\", \"variable\": \"hmd_newspaper_dl\", \"count\": null}, {\"index\": \".scss\", \"variable\": \"hmd_newspaper_dl\", \"count\": null}, {\"index\": \".bib\", \"variable\": \"hmd_newspaper_dl\", \"count\": null}, {\"index\": \".md\", \"variable\": \"PressPicker_public\", \"count\": 1.0}, {\"index\": \".ipynb\", \"variable\": \"PressPicker_public\", \"count\": 4.0}, {\"index\": \".yml\", \"variable\": \"PressPicker_public\", \"count\": 1.0}, {\"index\": \".png\", \"variable\": \"PressPicker_public\", \"count\": 6.0}, {\"index\": \".pdf\", \"variable\": \"PressPicker_public\", \"count\": null}, {\"index\": \".py\", \"variable\": \"PressPicker_public\", \"count\": null}, {\"index\": \".pkl\", \"variable\": \"PressPicker_public\", \"count\": null}, {\"index\": \".gif\", \"variable\": \"PressPicker_public\", \"count\": null}, {\"index\": \".txt\", \"variable\": \"PressPicker_public\", \"count\": 1.0}, {\"index\": \".html\", \"variable\": \"PressPicker_public\", \"count\": 2.0}, {\"index\": \".js\", \"variable\": \"PressPicker_public\", \"count\": 2.0}, {\"index\": \".vocab\", \"variable\": \"PressPicker_public\", \"count\": null}, {\"index\": \".yaml\", \"variable\": \"PressPicker_public\", \"count\": null}, {\"index\": \".cfg\", \"variable\": \"PressPicker_public\", \"count\": null}, {\"index\": \".xml\", \"variable\": \"PressPicker_public\", \"count\": null}, {\"index\": \".in\", \"variable\": \"PressPicker_public\", \"count\": null}, {\"index\": \".ini\", \"variable\": \"PressPicker_public\", \"count\": null}, {\"index\": \".lock\", \"variable\": \"PressPicker_public\", \"count\": null}, {\"index\": \".css\", \"variable\": \"PressPicker_public\", \"count\": null}, {\"index\": \".otf\", \"variable\": \"PressPicker_public\", \"count\": null}, {\"index\": \".eot\", \"variable\": \"PressPicker_public\", \"count\": null}, {\"index\": \".svg\", \"variable\": \"PressPicker_public\", \"count\": null}, {\"index\": \".ttf\", \"variable\": \"PressPicker_public\", \"count\": null}, {\"index\": \".woff\", \"variable\": \"PressPicker_public\", \"count\": null}, {\"index\": \".woff2\", \"variable\": \"PressPicker_public\", \"count\": null}, {\"index\": \".ico\", \"variable\": \"PressPicker_public\", \"count\": null}, {\"index\": \".csv\", \"variable\": \"PressPicker_public\", \"count\": 9.0}, {\"index\": \".zip\", \"variable\": \"PressPicker_public\", \"count\": null}, {\"index\": \".xlsx\", \"variable\": \"PressPicker_public\", \"count\": 5.0}, {\"index\": \".rst\", \"variable\": \"PressPicker_public\", \"count\": null}, {\"index\": \".org\", \"variable\": \"PressPicker_public\", \"count\": null}, {\"index\": \".cff\", \"variable\": \"PressPicker_public\", \"count\": null}, {\"index\": \".Rmd\", \"variable\": \"PressPicker_public\", \"count\": null}, {\"index\": \".RDS\", \"variable\": \"PressPicker_public\", \"count\": null}, {\"index\": \".scss\", \"variable\": \"PressPicker_public\", \"count\": null}, {\"index\": \".bib\", \"variable\": \"PressPicker_public\", \"count\": null}, {\"index\": \".md\", \"variable\": \"Computer-Vision-for-the-Humanities-workshop\", \"count\": 1.0}, {\"index\": \".ipynb\", \"variable\": \"Computer-Vision-for-the-Humanities-workshop\", \"count\": 4.0}, {\"index\": \".yml\", \"variable\": \"Computer-Vision-for-the-Humanities-workshop\", \"count\": null}, {\"index\": \".png\", \"variable\": \"Computer-Vision-for-the-Humanities-workshop\", \"count\": 4.0}, {\"index\": \".pdf\", \"variable\": \"Computer-Vision-for-the-Humanities-workshop\", \"count\": 1.0}, {\"index\": \".py\", \"variable\": \"Computer-Vision-for-the-Humanities-workshop\", \"count\": null}, {\"index\": \".pkl\", \"variable\": \"Computer-Vision-for-the-Humanities-workshop\", \"count\": null}, {\"index\": \".gif\", \"variable\": \"Computer-Vision-for-the-Humanities-workshop\", \"count\": null}, {\"index\": \".txt\", \"variable\": \"Computer-Vision-for-the-Humanities-workshop\", \"count\": 1.0}, {\"index\": \".html\", \"variable\": \"Computer-Vision-for-the-Humanities-workshop\", \"count\": null}, {\"index\": \".js\", \"variable\": \"Computer-Vision-for-the-Humanities-workshop\", \"count\": null}, {\"index\": \".vocab\", \"variable\": \"Computer-Vision-for-the-Humanities-workshop\", \"count\": null}, {\"index\": \".yaml\", \"variable\": \"Computer-Vision-for-the-Humanities-workshop\", \"count\": 1.0}, {\"index\": \".cfg\", \"variable\": \"Computer-Vision-for-the-Humanities-workshop\", \"count\": null}, {\"index\": \".xml\", \"variable\": \"Computer-Vision-for-the-Humanities-workshop\", \"count\": null}, {\"index\": \".in\", \"variable\": \"Computer-Vision-for-the-Humanities-workshop\", \"count\": null}, {\"index\": \".ini\", \"variable\": \"Computer-Vision-for-the-Humanities-workshop\", \"count\": null}, {\"index\": \".lock\", \"variable\": \"Computer-Vision-for-the-Humanities-workshop\", \"count\": null}, {\"index\": \".css\", \"variable\": \"Computer-Vision-for-the-Humanities-workshop\", \"count\": null}, {\"index\": \".otf\", \"variable\": \"Computer-Vision-for-the-Humanities-workshop\", \"count\": null}, {\"index\": \".eot\", \"variable\": \"Computer-Vision-for-the-Humanities-workshop\", \"count\": null}, {\"index\": \".svg\", \"variable\": \"Computer-Vision-for-the-Humanities-workshop\", \"count\": null}, {\"index\": \".ttf\", \"variable\": \"Computer-Vision-for-the-Humanities-workshop\", \"count\": null}, {\"index\": \".woff\", \"variable\": \"Computer-Vision-for-the-Humanities-workshop\", \"count\": null}, {\"index\": \".woff2\", \"variable\": \"Computer-Vision-for-the-Humanities-workshop\", \"count\": null}, {\"index\": \".ico\", \"variable\": \"Computer-Vision-for-the-Humanities-workshop\", \"count\": null}, {\"index\": \".csv\", \"variable\": \"Computer-Vision-for-the-Humanities-workshop\", \"count\": 2.0}, {\"index\": \".zip\", \"variable\": \"Computer-Vision-for-the-Humanities-workshop\", \"count\": null}, {\"index\": \".xlsx\", \"variable\": \"Computer-Vision-for-the-Humanities-workshop\", \"count\": null}, {\"index\": \".rst\", \"variable\": \"Computer-Vision-for-the-Humanities-workshop\", \"count\": 2.0}, {\"index\": \".org\", \"variable\": \"Computer-Vision-for-the-Humanities-workshop\", \"count\": 1.0}, {\"index\": \".cff\", \"variable\": \"Computer-Vision-for-the-Humanities-workshop\", \"count\": null}, {\"index\": \".Rmd\", \"variable\": \"Computer-Vision-for-the-Humanities-workshop\", \"count\": null}, {\"index\": \".RDS\", \"variable\": \"Computer-Vision-for-the-Humanities-workshop\", \"count\": null}, {\"index\": \".scss\", \"variable\": \"Computer-Vision-for-the-Humanities-workshop\", \"count\": null}, {\"index\": \".bib\", \"variable\": \"Computer-Vision-for-the-Humanities-workshop\", \"count\": null}, {\"index\": \".md\", \"variable\": \"Jupyter-Notebooks-The-Weird-and-Wonderful\", \"count\": 1.0}, {\"index\": \".ipynb\", \"variable\": \"Jupyter-Notebooks-The-Weird-and-Wonderful\", \"count\": 2.0}, {\"index\": \".yml\", \"variable\": \"Jupyter-Notebooks-The-Weird-and-Wonderful\", \"count\": null}, {\"index\": \".png\", \"variable\": \"Jupyter-Notebooks-The-Weird-and-Wonderful\", \"count\": null}, {\"index\": \".pdf\", \"variable\": \"Jupyter-Notebooks-The-Weird-and-Wonderful\", \"count\": null}, {\"index\": \".py\", \"variable\": \"Jupyter-Notebooks-The-Weird-and-Wonderful\", \"count\": null}, {\"index\": \".pkl\", \"variable\": \"Jupyter-Notebooks-The-Weird-and-Wonderful\", \"count\": null}, {\"index\": \".gif\", \"variable\": \"Jupyter-Notebooks-The-Weird-and-Wonderful\", \"count\": null}, {\"index\": \".txt\", \"variable\": \"Jupyter-Notebooks-The-Weird-and-Wonderful\", \"count\": null}, {\"index\": \".html\", \"variable\": \"Jupyter-Notebooks-The-Weird-and-Wonderful\", \"count\": null}, {\"index\": \".js\", \"variable\": \"Jupyter-Notebooks-The-Weird-and-Wonderful\", \"count\": null}, {\"index\": \".vocab\", \"variable\": \"Jupyter-Notebooks-The-Weird-and-Wonderful\", \"count\": null}, {\"index\": \".yaml\", \"variable\": \"Jupyter-Notebooks-The-Weird-and-Wonderful\", \"count\": null}, {\"index\": \".cfg\", \"variable\": \"Jupyter-Notebooks-The-Weird-and-Wonderful\", \"count\": null}, {\"index\": \".xml\", \"variable\": \"Jupyter-Notebooks-The-Weird-and-Wonderful\", \"count\": null}, {\"index\": \".in\", \"variable\": \"Jupyter-Notebooks-The-Weird-and-Wonderful\", \"count\": null}, {\"index\": \".ini\", \"variable\": \"Jupyter-Notebooks-The-Weird-and-Wonderful\", \"count\": null}, {\"index\": \".lock\", \"variable\": \"Jupyter-Notebooks-The-Weird-and-Wonderful\", \"count\": null}, {\"index\": \".css\", \"variable\": \"Jupyter-Notebooks-The-Weird-and-Wonderful\", \"count\": null}, {\"index\": \".otf\", \"variable\": \"Jupyter-Notebooks-The-Weird-and-Wonderful\", \"count\": null}, {\"index\": \".eot\", \"variable\": \"Jupyter-Notebooks-The-Weird-and-Wonderful\", \"count\": null}, {\"index\": \".svg\", \"variable\": \"Jupyter-Notebooks-The-Weird-and-Wonderful\", \"count\": null}, {\"index\": \".ttf\", \"variable\": \"Jupyter-Notebooks-The-Weird-and-Wonderful\", \"count\": null}, {\"index\": \".woff\", \"variable\": \"Jupyter-Notebooks-The-Weird-and-Wonderful\", \"count\": null}, {\"index\": \".woff2\", \"variable\": \"Jupyter-Notebooks-The-Weird-and-Wonderful\", \"count\": null}, {\"index\": \".ico\", \"variable\": \"Jupyter-Notebooks-The-Weird-and-Wonderful\", \"count\": null}, {\"index\": \".csv\", \"variable\": \"Jupyter-Notebooks-The-Weird-and-Wonderful\", \"count\": null}, {\"index\": \".zip\", \"variable\": \"Jupyter-Notebooks-The-Weird-and-Wonderful\", \"count\": null}, {\"index\": \".xlsx\", \"variable\": \"Jupyter-Notebooks-The-Weird-and-Wonderful\", \"count\": null}, {\"index\": \".rst\", \"variable\": \"Jupyter-Notebooks-The-Weird-and-Wonderful\", \"count\": null}, {\"index\": \".org\", \"variable\": \"Jupyter-Notebooks-The-Weird-and-Wonderful\", \"count\": null}, {\"index\": \".cff\", \"variable\": \"Jupyter-Notebooks-The-Weird-and-Wonderful\", \"count\": 1.0}, {\"index\": \".Rmd\", \"variable\": \"Jupyter-Notebooks-The-Weird-and-Wonderful\", \"count\": null}, {\"index\": \".RDS\", \"variable\": \"Jupyter-Notebooks-The-Weird-and-Wonderful\", \"count\": null}, {\"index\": \".scss\", \"variable\": \"Jupyter-Notebooks-The-Weird-and-Wonderful\", \"count\": null}, {\"index\": \".bib\", \"variable\": \"Jupyter-Notebooks-The-Weird-and-Wonderful\", \"count\": null}, {\"index\": \".md\", \"variable\": \"PressDirectories\", \"count\": 1.0}, {\"index\": \".ipynb\", \"variable\": \"PressDirectories\", \"count\": 3.0}, {\"index\": \".yml\", \"variable\": \"PressDirectories\", \"count\": null}, {\"index\": \".png\", \"variable\": \"PressDirectories\", \"count\": 17.0}, {\"index\": \".pdf\", \"variable\": \"PressDirectories\", \"count\": null}, {\"index\": \".py\", \"variable\": \"PressDirectories\", \"count\": 15.0}, {\"index\": \".pkl\", \"variable\": \"PressDirectories\", \"count\": null}, {\"index\": \".gif\", \"variable\": \"PressDirectories\", \"count\": null}, {\"index\": \".txt\", \"variable\": \"PressDirectories\", \"count\": 2.0}, {\"index\": \".html\", \"variable\": \"PressDirectories\", \"count\": null}, {\"index\": \".js\", \"variable\": \"PressDirectories\", \"count\": null}, {\"index\": \".vocab\", \"variable\": \"PressDirectories\", \"count\": null}, {\"index\": \".yaml\", \"variable\": \"PressDirectories\", \"count\": null}, {\"index\": \".cfg\", \"variable\": \"PressDirectories\", \"count\": null}, {\"index\": \".xml\", \"variable\": \"PressDirectories\", \"count\": null}, {\"index\": \".in\", \"variable\": \"PressDirectories\", \"count\": null}, {\"index\": \".ini\", \"variable\": \"PressDirectories\", \"count\": null}, {\"index\": \".lock\", \"variable\": \"PressDirectories\", \"count\": null}, {\"index\": \".css\", \"variable\": \"PressDirectories\", \"count\": null}, {\"index\": \".otf\", \"variable\": \"PressDirectories\", \"count\": null}, {\"index\": \".eot\", \"variable\": \"PressDirectories\", \"count\": null}, {\"index\": \".svg\", \"variable\": \"PressDirectories\", \"count\": null}, {\"index\": \".ttf\", \"variable\": \"PressDirectories\", \"count\": null}, {\"index\": \".woff\", \"variable\": \"PressDirectories\", \"count\": null}, {\"index\": \".woff2\", \"variable\": \"PressDirectories\", \"count\": null}, {\"index\": \".ico\", \"variable\": \"PressDirectories\", \"count\": null}, {\"index\": \".csv\", \"variable\": \"PressDirectories\", \"count\": 3.0}, {\"index\": \".zip\", \"variable\": \"PressDirectories\", \"count\": null}, {\"index\": \".xlsx\", \"variable\": \"PressDirectories\", \"count\": 1.0}, {\"index\": \".rst\", \"variable\": \"PressDirectories\", \"count\": null}, {\"index\": \".org\", \"variable\": \"PressDirectories\", \"count\": null}, {\"index\": \".cff\", \"variable\": \"PressDirectories\", \"count\": null}, {\"index\": \".Rmd\", \"variable\": \"PressDirectories\", \"count\": 2.0}, {\"index\": \".RDS\", \"variable\": \"PressDirectories\", \"count\": 3.0}, {\"index\": \".scss\", \"variable\": \"PressDirectories\", \"count\": null}, {\"index\": \".bib\", \"variable\": \"PressDirectories\", \"count\": null}, {\"index\": \".md\", \"variable\": \"MapReader\", \"count\": 4.0}, {\"index\": \".ipynb\", \"variable\": \"MapReader\", \"count\": 13.0}, {\"index\": \".yml\", \"variable\": \"MapReader\", \"count\": 3.0}, {\"index\": \".png\", \"variable\": \"MapReader\", \"count\": 209.0}, {\"index\": \".pdf\", \"variable\": \"MapReader\", \"count\": null}, {\"index\": \".py\", \"variable\": \"MapReader\", \"count\": 29.0}, {\"index\": \".pkl\", \"variable\": \"MapReader\", \"count\": null}, {\"index\": \".gif\", \"variable\": \"MapReader\", \"count\": null}, {\"index\": \".txt\", \"variable\": \"MapReader\", \"count\": null}, {\"index\": \".html\", \"variable\": \"MapReader\", \"count\": null}, {\"index\": \".js\", \"variable\": \"MapReader\", \"count\": null}, {\"index\": \".vocab\", \"variable\": \"MapReader\", \"count\": null}, {\"index\": \".yaml\", \"variable\": \"MapReader\", \"count\": 4.0}, {\"index\": \".cfg\", \"variable\": \"MapReader\", \"count\": null}, {\"index\": \".xml\", \"variable\": \"MapReader\", \"count\": null}, {\"index\": \".in\", \"variable\": \"MapReader\", \"count\": null}, {\"index\": \".ini\", \"variable\": \"MapReader\", \"count\": null}, {\"index\": \".lock\", \"variable\": \"MapReader\", \"count\": null}, {\"index\": \".css\", \"variable\": \"MapReader\", \"count\": null}, {\"index\": \".otf\", \"variable\": \"MapReader\", \"count\": null}, {\"index\": \".eot\", \"variable\": \"MapReader\", \"count\": null}, {\"index\": \".svg\", \"variable\": \"MapReader\", \"count\": null}, {\"index\": \".ttf\", \"variable\": \"MapReader\", \"count\": null}, {\"index\": \".woff\", \"variable\": \"MapReader\", \"count\": null}, {\"index\": \".woff2\", \"variable\": \"MapReader\", \"count\": null}, {\"index\": \".ico\", \"variable\": \"MapReader\", \"count\": null}, {\"index\": \".csv\", \"variable\": \"MapReader\", \"count\": 4.0}, {\"index\": \".zip\", \"variable\": \"MapReader\", \"count\": null}, {\"index\": \".xlsx\", \"variable\": \"MapReader\", \"count\": null}, {\"index\": \".rst\", \"variable\": \"MapReader\", \"count\": null}, {\"index\": \".org\", \"variable\": \"MapReader\", \"count\": null}, {\"index\": \".cff\", \"variable\": \"MapReader\", \"count\": null}, {\"index\": \".Rmd\", \"variable\": \"MapReader\", \"count\": null}, {\"index\": \".RDS\", \"variable\": \"MapReader\", \"count\": null}, {\"index\": \".scss\", \"variable\": \"MapReader\", \"count\": 1.0}, {\"index\": \".bib\", \"variable\": \"MapReader\", \"count\": null}, {\"index\": \".md\", \"variable\": \".github\", \"count\": 1.0}, {\"index\": \".ipynb\", \"variable\": \".github\", \"count\": null}, {\"index\": \".yml\", \"variable\": \".github\", \"count\": null}, {\"index\": \".png\", \"variable\": \".github\", \"count\": 1.0}, {\"index\": \".pdf\", \"variable\": \".github\", \"count\": null}, {\"index\": \".py\", \"variable\": \".github\", \"count\": null}, {\"index\": \".pkl\", \"variable\": \".github\", \"count\": null}, {\"index\": \".gif\", \"variable\": \".github\", \"count\": null}, {\"index\": \".txt\", \"variable\": \".github\", \"count\": null}, {\"index\": \".html\", \"variable\": \".github\", \"count\": null}, {\"index\": \".js\", \"variable\": \".github\", \"count\": null}, {\"index\": \".vocab\", \"variable\": \".github\", \"count\": null}, {\"index\": \".yaml\", \"variable\": \".github\", \"count\": null}, {\"index\": \".cfg\", \"variable\": \".github\", \"count\": null}, {\"index\": \".xml\", \"variable\": \".github\", \"count\": null}, {\"index\": \".in\", \"variable\": \".github\", \"count\": null}, {\"index\": \".ini\", \"variable\": \".github\", \"count\": null}, {\"index\": \".lock\", \"variable\": \".github\", \"count\": null}, {\"index\": \".css\", \"variable\": \".github\", \"count\": null}, {\"index\": \".otf\", \"variable\": \".github\", \"count\": null}, {\"index\": \".eot\", \"variable\": \".github\", \"count\": null}, {\"index\": \".svg\", \"variable\": \".github\", \"count\": null}, {\"index\": \".ttf\", \"variable\": \".github\", \"count\": null}, {\"index\": \".woff\", \"variable\": \".github\", \"count\": null}, {\"index\": \".woff2\", \"variable\": \".github\", \"count\": null}, {\"index\": \".ico\", \"variable\": \".github\", \"count\": null}, {\"index\": \".csv\", \"variable\": \".github\", \"count\": null}, {\"index\": \".zip\", \"variable\": \".github\", \"count\": null}, {\"index\": \".xlsx\", \"variable\": \".github\", \"count\": null}, {\"index\": \".rst\", \"variable\": \".github\", \"count\": null}, {\"index\": \".org\", \"variable\": \".github\", \"count\": null}, {\"index\": \".cff\", \"variable\": \".github\", \"count\": null}, {\"index\": \".Rmd\", \"variable\": \".github\", \"count\": null}, {\"index\": \".RDS\", \"variable\": \".github\", \"count\": null}, {\"index\": \".scss\", \"variable\": \".github\", \"count\": null}, {\"index\": \".bib\", \"variable\": \".github\", \"count\": null}, {\"index\": \".md\", \"variable\": \"genre-classification\", \"count\": 13.0}, {\"index\": \".ipynb\", \"variable\": \"genre-classification\", \"count\": 10.0}, {\"index\": \".yml\", \"variable\": \"genre-classification\", \"count\": 3.0}, {\"index\": \".png\", \"variable\": \"genre-classification\", \"count\": 15.0}, {\"index\": \".pdf\", \"variable\": \"genre-classification\", \"count\": null}, {\"index\": \".py\", \"variable\": \"genre-classification\", \"count\": null}, {\"index\": \".pkl\", \"variable\": \"genre-classification\", \"count\": null}, {\"index\": \".gif\", \"variable\": \"genre-classification\", \"count\": null}, {\"index\": \".txt\", \"variable\": \"genre-classification\", \"count\": 1.0}, {\"index\": \".html\", \"variable\": \"genre-classification\", \"count\": null}, {\"index\": \".js\", \"variable\": \"genre-classification\", \"count\": null}, {\"index\": \".vocab\", \"variable\": \"genre-classification\", \"count\": null}, {\"index\": \".yaml\", \"variable\": \"genre-classification\", \"count\": 1.0}, {\"index\": \".cfg\", \"variable\": \"genre-classification\", \"count\": null}, {\"index\": \".xml\", \"variable\": \"genre-classification\", \"count\": null}, {\"index\": \".in\", \"variable\": \"genre-classification\", \"count\": null}, {\"index\": \".ini\", \"variable\": \"genre-classification\", \"count\": null}, {\"index\": \".lock\", \"variable\": \"genre-classification\", \"count\": null}, {\"index\": \".css\", \"variable\": \"genre-classification\", \"count\": null}, {\"index\": \".otf\", \"variable\": \"genre-classification\", \"count\": null}, {\"index\": \".eot\", \"variable\": \"genre-classification\", \"count\": null}, {\"index\": \".svg\", \"variable\": \"genre-classification\", \"count\": null}, {\"index\": \".ttf\", \"variable\": \"genre-classification\", \"count\": null}, {\"index\": \".woff\", \"variable\": \"genre-classification\", \"count\": null}, {\"index\": \".woff2\", \"variable\": \"genre-classification\", \"count\": null}, {\"index\": \".ico\", \"variable\": \"genre-classification\", \"count\": null}, {\"index\": \".csv\", \"variable\": \"genre-classification\", \"count\": 6.0}, {\"index\": \".zip\", \"variable\": \"genre-classification\", \"count\": null}, {\"index\": \".xlsx\", \"variable\": \"genre-classification\", \"count\": null}, {\"index\": \".rst\", \"variable\": \"genre-classification\", \"count\": null}, {\"index\": \".org\", \"variable\": \"genre-classification\", \"count\": null}, {\"index\": \".cff\", \"variable\": \"genre-classification\", \"count\": null}, {\"index\": \".Rmd\", \"variable\": \"genre-classification\", \"count\": null}, {\"index\": \".RDS\", \"variable\": \"genre-classification\", \"count\": null}, {\"index\": \".scss\", \"variable\": \"genre-classification\", \"count\": null}, {\"index\": \".bib\", \"variable\": \"genre-classification\", \"count\": 1.0}, {\"index\": \".md\", \"variable\": \"subsamplr\", \"count\": 1.0}, {\"index\": \".ipynb\", \"variable\": \"subsamplr\", \"count\": 2.0}, {\"index\": \".yml\", \"variable\": \"subsamplr\", \"count\": null}, {\"index\": \".png\", \"variable\": \"subsamplr\", \"count\": null}, {\"index\": \".pdf\", \"variable\": \"subsamplr\", \"count\": null}, {\"index\": \".py\", \"variable\": \"subsamplr\", \"count\": 20.0}, {\"index\": \".pkl\", \"variable\": \"subsamplr\", \"count\": null}, {\"index\": \".gif\", \"variable\": \"subsamplr\", \"count\": null}, {\"index\": \".txt\", \"variable\": \"subsamplr\", \"count\": 1.0}, {\"index\": \".html\", \"variable\": \"subsamplr\", \"count\": null}, {\"index\": \".js\", \"variable\": \"subsamplr\", \"count\": null}, {\"index\": \".vocab\", \"variable\": \"subsamplr\", \"count\": null}, {\"index\": \".yaml\", \"variable\": \"subsamplr\", \"count\": null}, {\"index\": \".cfg\", \"variable\": \"subsamplr\", \"count\": null}, {\"index\": \".xml\", \"variable\": \"subsamplr\", \"count\": null}, {\"index\": \".in\", \"variable\": \"subsamplr\", \"count\": null}, {\"index\": \".ini\", \"variable\": \"subsamplr\", \"count\": null}, {\"index\": \".lock\", \"variable\": \"subsamplr\", \"count\": null}, {\"index\": \".css\", \"variable\": \"subsamplr\", \"count\": null}, {\"index\": \".otf\", \"variable\": \"subsamplr\", \"count\": null}, {\"index\": \".eot\", \"variable\": \"subsamplr\", \"count\": null}, {\"index\": \".svg\", \"variable\": \"subsamplr\", \"count\": null}, {\"index\": \".ttf\", \"variable\": \"subsamplr\", \"count\": null}, {\"index\": \".woff\", \"variable\": \"subsamplr\", \"count\": null}, {\"index\": \".woff2\", \"variable\": \"subsamplr\", \"count\": null}, {\"index\": \".ico\", \"variable\": \"subsamplr\", \"count\": null}, {\"index\": \".csv\", \"variable\": \"subsamplr\", \"count\": 2.0}, {\"index\": \".zip\", \"variable\": \"subsamplr\", \"count\": null}, {\"index\": \".xlsx\", \"variable\": \"subsamplr\", \"count\": null}, {\"index\": \".rst\", \"variable\": \"subsamplr\", \"count\": null}, {\"index\": \".org\", \"variable\": \"subsamplr\", \"count\": null}, {\"index\": \".cff\", \"variable\": \"subsamplr\", \"count\": null}, {\"index\": \".Rmd\", \"variable\": \"subsamplr\", \"count\": null}, {\"index\": \".RDS\", \"variable\": \"subsamplr\", \"count\": null}, {\"index\": \".scss\", \"variable\": \"subsamplr\", \"count\": null}, {\"index\": \".bib\", \"variable\": \"subsamplr\", \"count\": null}, {\"index\": \".md\", \"variable\": \"image-search\", \"count\": 1.0}, {\"index\": \".ipynb\", \"variable\": \"image-search\", \"count\": 3.0}, {\"index\": \".yml\", \"variable\": \"image-search\", \"count\": null}, {\"index\": \".png\", \"variable\": \"image-search\", \"count\": null}, {\"index\": \".pdf\", \"variable\": \"image-search\", \"count\": 1.0}, {\"index\": \".py\", \"variable\": \"image-search\", \"count\": null}, {\"index\": \".pkl\", \"variable\": \"image-search\", \"count\": null}, {\"index\": \".gif\", \"variable\": \"image-search\", \"count\": null}, {\"index\": \".txt\", \"variable\": \"image-search\", \"count\": null}, {\"index\": \".html\", \"variable\": \"image-search\", \"count\": null}, {\"index\": \".js\", \"variable\": \"image-search\", \"count\": null}, {\"index\": \".vocab\", \"variable\": \"image-search\", \"count\": null}, {\"index\": \".yaml\", \"variable\": \"image-search\", \"count\": null}, {\"index\": \".cfg\", \"variable\": \"image-search\", \"count\": null}, {\"index\": \".xml\", \"variable\": \"image-search\", \"count\": null}, {\"index\": \".in\", \"variable\": \"image-search\", \"count\": null}, {\"index\": \".ini\", \"variable\": \"image-search\", \"count\": null}, {\"index\": \".lock\", \"variable\": \"image-search\", \"count\": null}, {\"index\": \".css\", \"variable\": \"image-search\", \"count\": null}, {\"index\": \".otf\", \"variable\": \"image-search\", \"count\": null}, {\"index\": \".eot\", \"variable\": \"image-search\", \"count\": null}, {\"index\": \".svg\", \"variable\": \"image-search\", \"count\": null}, {\"index\": \".ttf\", \"variable\": \"image-search\", \"count\": null}, {\"index\": \".woff\", \"variable\": \"image-search\", \"count\": null}, {\"index\": \".woff2\", \"variable\": \"image-search\", \"count\": null}, {\"index\": \".ico\", \"variable\": \"image-search\", \"count\": null}, {\"index\": \".csv\", \"variable\": \"image-search\", \"count\": null}, {\"index\": \".zip\", \"variable\": \"image-search\", \"count\": null}, {\"index\": \".xlsx\", \"variable\": \"image-search\", \"count\": null}, {\"index\": \".rst\", \"variable\": \"image-search\", \"count\": null}, {\"index\": \".org\", \"variable\": \"image-search\", \"count\": null}, {\"index\": \".cff\", \"variable\": \"image-search\", \"count\": null}, {\"index\": \".Rmd\", \"variable\": \"image-search\", \"count\": null}, {\"index\": \".RDS\", \"variable\": \"image-search\", \"count\": null}, {\"index\": \".scss\", \"variable\": \"image-search\", \"count\": null}, {\"index\": \".bib\", \"variable\": \"image-search\", \"count\": null}, {\"index\": \".md\", \"variable\": \"zooniverse-analysis-workshop\", \"count\": 1.0}, {\"index\": \".ipynb\", \"variable\": \"zooniverse-analysis-workshop\", \"count\": 1.0}, {\"index\": \".yml\", \"variable\": \"zooniverse-analysis-workshop\", \"count\": null}, {\"index\": \".png\", \"variable\": \"zooniverse-analysis-workshop\", \"count\": 9.0}, {\"index\": \".pdf\", \"variable\": \"zooniverse-analysis-workshop\", \"count\": null}, {\"index\": \".py\", \"variable\": \"zooniverse-analysis-workshop\", \"count\": null}, {\"index\": \".pkl\", \"variable\": \"zooniverse-analysis-workshop\", \"count\": null}, {\"index\": \".gif\", \"variable\": \"zooniverse-analysis-workshop\", \"count\": null}, {\"index\": \".txt\", \"variable\": \"zooniverse-analysis-workshop\", \"count\": null}, {\"index\": \".html\", \"variable\": \"zooniverse-analysis-workshop\", \"count\": null}, {\"index\": \".js\", \"variable\": \"zooniverse-analysis-workshop\", \"count\": null}, {\"index\": \".vocab\", \"variable\": \"zooniverse-analysis-workshop\", \"count\": null}, {\"index\": \".yaml\", \"variable\": \"zooniverse-analysis-workshop\", \"count\": null}, {\"index\": \".cfg\", \"variable\": \"zooniverse-analysis-workshop\", \"count\": null}, {\"index\": \".xml\", \"variable\": \"zooniverse-analysis-workshop\", \"count\": null}, {\"index\": \".in\", \"variable\": \"zooniverse-analysis-workshop\", \"count\": null}, {\"index\": \".ini\", \"variable\": \"zooniverse-analysis-workshop\", \"count\": null}, {\"index\": \".lock\", \"variable\": \"zooniverse-analysis-workshop\", \"count\": null}, {\"index\": \".css\", \"variable\": \"zooniverse-analysis-workshop\", \"count\": null}, {\"index\": \".otf\", \"variable\": \"zooniverse-analysis-workshop\", \"count\": null}, {\"index\": \".eot\", \"variable\": \"zooniverse-analysis-workshop\", \"count\": null}, {\"index\": \".svg\", \"variable\": \"zooniverse-analysis-workshop\", \"count\": null}, {\"index\": \".ttf\", \"variable\": \"zooniverse-analysis-workshop\", \"count\": null}, {\"index\": \".woff\", \"variable\": \"zooniverse-analysis-workshop\", \"count\": null}, {\"index\": \".woff2\", \"variable\": \"zooniverse-analysis-workshop\", \"count\": null}, {\"index\": \".ico\", \"variable\": \"zooniverse-analysis-workshop\", \"count\": null}, {\"index\": \".csv\", \"variable\": \"zooniverse-analysis-workshop\", \"count\": 2.0}, {\"index\": \".zip\", \"variable\": \"zooniverse-analysis-workshop\", \"count\": null}, {\"index\": \".xlsx\", \"variable\": \"zooniverse-analysis-workshop\", \"count\": null}, {\"index\": \".rst\", \"variable\": \"zooniverse-analysis-workshop\", \"count\": null}, {\"index\": \".org\", \"variable\": \"zooniverse-analysis-workshop\", \"count\": null}, {\"index\": \".cff\", \"variable\": \"zooniverse-analysis-workshop\", \"count\": null}, {\"index\": \".Rmd\", \"variable\": \"zooniverse-analysis-workshop\", \"count\": null}, {\"index\": \".RDS\", \"variable\": \"zooniverse-analysis-workshop\", \"count\": null}, {\"index\": \".scss\", \"variable\": \"zooniverse-analysis-workshop\", \"count\": null}, {\"index\": \".bib\", \"variable\": \"zooniverse-analysis-workshop\", \"count\": null}, {\"index\": \".md\", \"variable\": \"hmd_url_generator\", \"count\": 1.0}, {\"index\": \".ipynb\", \"variable\": \"hmd_url_generator\", \"count\": 2.0}, {\"index\": \".yml\", \"variable\": \"hmd_url_generator\", \"count\": 1.0}, {\"index\": \".png\", \"variable\": \"hmd_url_generator\", \"count\": null}, {\"index\": \".pdf\", \"variable\": \"hmd_url_generator\", \"count\": null}, {\"index\": \".py\", \"variable\": \"hmd_url_generator\", \"count\": null}, {\"index\": \".pkl\", \"variable\": \"hmd_url_generator\", \"count\": null}, {\"index\": \".gif\", \"variable\": \"hmd_url_generator\", \"count\": null}, {\"index\": \".txt\", \"variable\": \"hmd_url_generator\", \"count\": null}, {\"index\": \".html\", \"variable\": \"hmd_url_generator\", \"count\": null}, {\"index\": \".js\", \"variable\": \"hmd_url_generator\", \"count\": null}, {\"index\": \".vocab\", \"variable\": \"hmd_url_generator\", \"count\": null}, {\"index\": \".yaml\", \"variable\": \"hmd_url_generator\", \"count\": null}, {\"index\": \".cfg\", \"variable\": \"hmd_url_generator\", \"count\": null}, {\"index\": \".xml\", \"variable\": \"hmd_url_generator\", \"count\": null}, {\"index\": \".in\", \"variable\": \"hmd_url_generator\", \"count\": null}, {\"index\": \".ini\", \"variable\": \"hmd_url_generator\", \"count\": null}, {\"index\": \".lock\", \"variable\": \"hmd_url_generator\", \"count\": null}, {\"index\": \".css\", \"variable\": \"hmd_url_generator\", \"count\": null}, {\"index\": \".otf\", \"variable\": \"hmd_url_generator\", \"count\": null}, {\"index\": \".eot\", \"variable\": \"hmd_url_generator\", \"count\": null}, {\"index\": \".svg\", \"variable\": \"hmd_url_generator\", \"count\": null}, {\"index\": \".ttf\", \"variable\": \"hmd_url_generator\", \"count\": null}, {\"index\": \".woff\", \"variable\": \"hmd_url_generator\", \"count\": null}, {\"index\": \".woff2\", \"variable\": \"hmd_url_generator\", \"count\": null}, {\"index\": \".ico\", \"variable\": \"hmd_url_generator\", \"count\": null}, {\"index\": \".csv\", \"variable\": \"hmd_url_generator\", \"count\": null}, {\"index\": \".zip\", \"variable\": \"hmd_url_generator\", \"count\": null}, {\"index\": \".xlsx\", \"variable\": \"hmd_url_generator\", \"count\": null}, {\"index\": \".rst\", \"variable\": \"hmd_url_generator\", \"count\": null}, {\"index\": \".org\", \"variable\": \"hmd_url_generator\", \"count\": null}, {\"index\": \".cff\", \"variable\": \"hmd_url_generator\", \"count\": null}, {\"index\": \".Rmd\", \"variable\": \"hmd_url_generator\", \"count\": null}, {\"index\": \".RDS\", \"variable\": \"hmd_url_generator\", \"count\": null}, {\"index\": \".scss\", \"variable\": \"hmd_url_generator\", \"count\": null}, {\"index\": \".bib\", \"variable\": \"hmd_url_generator\", \"count\": null}]}}, {\"mode\": \"vega-lite\"});\n",
       "</script>"
      ],
      "text/plain": [
       "alt.Chart(...)"
      ]
     },
     "execution_count": 1,
     "metadata": {},
     "output_type": "execute_result"
    }
   ],
   "source": [
    "df = pd.DataFrame.from_dict(lwm_stats.get_org_file_ext_frequency(\"public\"))\n",
    "df = df.drop(labels=['.jpg','.json'])\n",
    "df.reset_index(inplace=True)\n",
    "data = pd.melt(frame=df, id_vars=[\"index\"], value_name=\"count\")\n",
    "chart = (\n",
    "    alt.Chart(data)\n",
    "    .mark_bar()\n",
    "    .encode(\n",
    "        y=alt.Y(\n",
    "            \"variable:N\",\n",
    "            title=None,\n",
    "            sort=alt.EncodingSortField(field=\"count\", order=\"descending\", op=\"sum\"),\n",
    "        ),\n",
    "        x=alt.X(\"count:Q\", title=\"File counts\", axis=alt.Axis(tickRound=False)),\n",
    "        color=alt.Color(\"index:N\", title=\"File extension\"),\n",
    "        tooltip=[alt.Tooltip(\"index:N\", title=\"file extension\"), \"count:Q\"],\n",
    "    )\n",
    "    .properties(width=WIDTH, title='File extensions by Repository')\n",
    ")\n",
    "chart"
   ]
  },
  {
   "cell_type": "markdown",
   "metadata": {},
   "source": [
    "## Stars and Forks <a class=\"anchor\" id=\"repo-stars\"></a>\n",
    "\n",
    "[Stars](https://docs.github.com/en/free-pro-team@latest/github/getting-started-with-github/saving-repositories-with-stars) are a GitHub feature which allows registered GitHub users to 'bookmark' a repository. A GitHub [fork](https://docs.github.com/en/free-pro-team@latest/github/getting-started-with-github/fork-a-repo) indicates that someone has made a copy of the repository into their own account. Since stars and forks are only relevant for public repos we only report these below"
   ]
  },
  {
   "cell_type": "code",
   "execution_count": 17,
   "metadata": {
    "execution": {
     "iopub.execute_input": "2022-06-27T08:37:13.742352Z",
     "iopub.status.busy": "2022-06-27T08:37:13.741663Z",
     "iopub.status.idle": "2022-06-27T08:37:20.506537Z",
     "shell.execute_reply": "2022-06-27T08:37:20.505982Z"
    }
   },
   "outputs": [
    {
     "data": {
      "text/html": [
       "<div>\n",
       "<style scoped>\n",
       "    .dataframe tbody tr th:only-of-type {\n",
       "        vertical-align: middle;\n",
       "    }\n",
       "\n",
       "    .dataframe tbody tr th {\n",
       "        vertical-align: top;\n",
       "    }\n",
       "\n",
       "    .dataframe thead th {\n",
       "        text-align: right;\n",
       "    }\n",
       "</style>\n",
       "<table border=\"1\" class=\"dataframe\">\n",
       "  <thead>\n",
       "    <tr style=\"text-align: right;\">\n",
       "      <th></th>\n",
       "      <th>stars</th>\n",
       "      <th>forks</th>\n",
       "    </tr>\n",
       "  </thead>\n",
       "  <tbody>\n",
       "    <tr>\n",
       "      <th>lwm_ARTIDIGH_2020_OCR_impact_downstream_NLP_tasks</th>\n",
       "      <td>6</td>\n",
       "      <td>1</td>\n",
       "    </tr>\n",
       "    <tr>\n",
       "      <th>lwm_GIR19_resolving_places</th>\n",
       "      <td>6</td>\n",
       "      <td>1</td>\n",
       "    </tr>\n",
       "    <tr>\n",
       "      <th>D3_JS_viz_in_a_Python_Jupyter_notebook</th>\n",
       "      <td>7</td>\n",
       "      <td>2</td>\n",
       "    </tr>\n",
       "    <tr>\n",
       "      <th>DeezyMatch</th>\n",
       "      <td>82</td>\n",
       "      <td>26</td>\n",
       "    </tr>\n",
       "    <tr>\n",
       "      <th>LwM_SIGSPATIAL2020_ToponymMatching</th>\n",
       "      <td>1</td>\n",
       "      <td>0</td>\n",
       "    </tr>\n",
       "    <tr>\n",
       "      <th>histLM</th>\n",
       "      <td>7</td>\n",
       "      <td>17</td>\n",
       "    </tr>\n",
       "    <tr>\n",
       "      <th>AzureAudit</th>\n",
       "      <td>0</td>\n",
       "      <td>0</td>\n",
       "    </tr>\n",
       "    <tr>\n",
       "      <th>maps-at-scale-hack-day-notebooks</th>\n",
       "      <td>0</td>\n",
       "      <td>1</td>\n",
       "    </tr>\n",
       "    <tr>\n",
       "      <th>deduplify</th>\n",
       "      <td>13</td>\n",
       "      <td>2</td>\n",
       "    </tr>\n",
       "    <tr>\n",
       "      <th>station-to-station</th>\n",
       "      <td>4</td>\n",
       "      <td>1</td>\n",
       "    </tr>\n",
       "    <tr>\n",
       "      <th>TargetedSenseDisambiguation</th>\n",
       "      <td>1</td>\n",
       "      <td>0</td>\n",
       "    </tr>\n",
       "    <tr>\n",
       "      <th>AtypicalAnimacy</th>\n",
       "      <td>3</td>\n",
       "      <td>1</td>\n",
       "    </tr>\n",
       "    <tr>\n",
       "      <th>nnanno</th>\n",
       "      <td>16</td>\n",
       "      <td>1</td>\n",
       "    </tr>\n",
       "    <tr>\n",
       "      <th>computer-vision-DHNordic-2020-workshop</th>\n",
       "      <td>0</td>\n",
       "      <td>1</td>\n",
       "    </tr>\n",
       "    <tr>\n",
       "      <th>maps-at-scale-using-computer-vision-and-jupyter-notebooks</th>\n",
       "      <td>4</td>\n",
       "      <td>1</td>\n",
       "    </tr>\n",
       "    <tr>\n",
       "      <th>gh_orgstats</th>\n",
       "      <td>0</td>\n",
       "      <td>0</td>\n",
       "    </tr>\n",
       "    <tr>\n",
       "      <th>GazFuse</th>\n",
       "      <td>0</td>\n",
       "      <td>0</td>\n",
       "    </tr>\n",
       "    <tr>\n",
       "      <th>github_stats_report</th>\n",
       "      <td>4</td>\n",
       "      <td>3</td>\n",
       "    </tr>\n",
       "    <tr>\n",
       "      <th>nnanno_example_data</th>\n",
       "      <td>0</td>\n",
       "      <td>0</td>\n",
       "    </tr>\n",
       "    <tr>\n",
       "      <th>hmd_newspaper_dl</th>\n",
       "      <td>2</td>\n",
       "      <td>2</td>\n",
       "    </tr>\n",
       "    <tr>\n",
       "      <th>PressPicker_public</th>\n",
       "      <td>7</td>\n",
       "      <td>0</td>\n",
       "    </tr>\n",
       "    <tr>\n",
       "      <th>Computer-Vision-for-the-Humanities-workshop</th>\n",
       "      <td>6</td>\n",
       "      <td>2</td>\n",
       "    </tr>\n",
       "    <tr>\n",
       "      <th>Jupyter-Notebooks-The-Weird-and-Wonderful</th>\n",
       "      <td>2</td>\n",
       "      <td>0</td>\n",
       "    </tr>\n",
       "    <tr>\n",
       "      <th>PressDirectories</th>\n",
       "      <td>0</td>\n",
       "      <td>0</td>\n",
       "    </tr>\n",
       "    <tr>\n",
       "      <th>MapReader</th>\n",
       "      <td>14</td>\n",
       "      <td>2</td>\n",
       "    </tr>\n",
       "    <tr>\n",
       "      <th>.github</th>\n",
       "      <td>0</td>\n",
       "      <td>0</td>\n",
       "    </tr>\n",
       "    <tr>\n",
       "      <th>genre-classification</th>\n",
       "      <td>7</td>\n",
       "      <td>0</td>\n",
       "    </tr>\n",
       "    <tr>\n",
       "      <th>subsamplr</th>\n",
       "      <td>1</td>\n",
       "      <td>1</td>\n",
       "    </tr>\n",
       "    <tr>\n",
       "      <th>image-search</th>\n",
       "      <td>2</td>\n",
       "      <td>0</td>\n",
       "    </tr>\n",
       "    <tr>\n",
       "      <th>zooniverse-analysis-workshop</th>\n",
       "      <td>2</td>\n",
       "      <td>1</td>\n",
       "    </tr>\n",
       "    <tr>\n",
       "      <th>hmd_url_generator</th>\n",
       "      <td>0</td>\n",
       "      <td>0</td>\n",
       "    </tr>\n",
       "    <tr>\n",
       "      <th>Total</th>\n",
       "      <td>197</td>\n",
       "      <td>66</td>\n",
       "    </tr>\n",
       "  </tbody>\n",
       "</table>\n",
       "</div>"
      ],
      "text/plain": [
       "                                                    stars  forks\n",
       "lwm_ARTIDIGH_2020_OCR_impact_downstream_NLP_tasks       6      1\n",
       "lwm_GIR19_resolving_places                              6      1\n",
       "D3_JS_viz_in_a_Python_Jupyter_notebook                  7      2\n",
       "DeezyMatch                                             82     26\n",
       "LwM_SIGSPATIAL2020_ToponymMatching                      1      0\n",
       "histLM                                                  7     17\n",
       "AzureAudit                                              0      0\n",
       "maps-at-scale-hack-day-notebooks                        0      1\n",
       "deduplify                                              13      2\n",
       "station-to-station                                      4      1\n",
       "TargetedSenseDisambiguation                             1      0\n",
       "AtypicalAnimacy                                         3      1\n",
       "nnanno                                                 16      1\n",
       "computer-vision-DHNordic-2020-workshop                  0      1\n",
       "maps-at-scale-using-computer-vision-and-jupyter...      4      1\n",
       "gh_orgstats                                             0      0\n",
       "GazFuse                                                 0      0\n",
       "github_stats_report                                     4      3\n",
       "nnanno_example_data                                     0      0\n",
       "hmd_newspaper_dl                                        2      2\n",
       "PressPicker_public                                      7      0\n",
       "Computer-Vision-for-the-Humanities-workshop             6      2\n",
       "Jupyter-Notebooks-The-Weird-and-Wonderful               2      0\n",
       "PressDirectories                                        0      0\n",
       "MapReader                                              14      2\n",
       ".github                                                 0      0\n",
       "genre-classification                                    7      0\n",
       "subsamplr                                               1      1\n",
       "image-search                                            2      0\n",
       "zooniverse-analysis-workshop                            2      1\n",
       "hmd_url_generator                                       0      0\n",
       "Total                                                 197     66"
      ]
     },
     "execution_count": 1,
     "metadata": {},
     "output_type": "execute_result"
    }
   ],
   "source": [
    "df = pd.DataFrame.from_dict(lwm_stats.get_org_snapshot_stats(lwm_stats.public_repos), orient='index')\n",
    "df.loc['Total']= df.sum(numeric_only=True, axis=0)\n",
    "df"
   ]
  },
  {
   "cell_type": "markdown",
   "metadata": {},
   "source": [
    "## Views <a class=\"anchor\" id=\"repo-views\"></a>\n",
    "\n",
    "GitHub provides owners of a repository with some traffic statistics, including view stats. These are broken into 'unique' and 'total' views."
   ]
  },
  {
   "cell_type": "markdown",
   "metadata": {},
   "source": [
    "### Total Views"
   ]
  },
  {
   "cell_type": "code",
   "execution_count": 18,
   "metadata": {
    "execution": {
     "iopub.execute_input": "2022-06-27T08:37:20.514525Z",
     "iopub.status.busy": "2022-06-27T08:37:20.513844Z",
     "iopub.status.idle": "2022-06-27T08:37:25.325320Z",
     "shell.execute_reply": "2022-06-27T08:37:25.324574Z"
    }
   },
   "outputs": [],
   "source": [
    "df = lwm_stats.get_org_views_traffic(public_only=True, load=True)"
   ]
  },
  {
   "cell_type": "code",
   "execution_count": 19,
   "metadata": {
    "execution": {
     "iopub.execute_input": "2022-06-27T08:37:25.331698Z",
     "iopub.status.busy": "2022-06-27T08:37:25.330769Z",
     "iopub.status.idle": "2022-06-27T08:37:25.347790Z",
     "shell.execute_reply": "2022-06-27T08:37:25.347253Z"
    }
   },
   "outputs": [
    {
     "data": {
      "text/markdown": [
       "Living with Machines public repositories have generated 8337 total views to date with an average of 269 daily views"
      ],
      "text/plain": [
       "<IPython.core.display.Markdown object>"
      ]
     },
     "execution_count": 1,
     "metadata": {},
     "output_type": "execute_result"
    }
   ],
   "source": [
    "idx = pd.IndexSlice\n",
    "df = df.resample(\"W\").mean()\n",
    "total = df.loc[idx[:], idx[:,'total_views']].sum().sum()\n",
    "mean = df.loc[idx[:], idx[:,'total_views']].sum().mean()\n",
    "Markdown(f\"Living with Machines public repositories have generated {round(total)} total views to date with an average of {round(mean)} daily views\")"
   ]
  },
  {
   "cell_type": "code",
   "execution_count": 20,
   "metadata": {
    "execution": {
     "iopub.execute_input": "2022-06-27T08:37:25.353730Z",
     "iopub.status.busy": "2022-06-27T08:37:25.353049Z",
     "iopub.status.idle": "2022-06-27T08:37:25.361012Z",
     "shell.execute_reply": "2022-06-27T08:37:25.361536Z"
    }
   },
   "outputs": [],
   "source": [
    "data = pd.melt(frame=df.reset_index(), id_vars=['index'],value_name='count')"
   ]
  },
  {
   "cell_type": "code",
   "execution_count": 21,
   "metadata": {
    "execution": {
     "iopub.execute_input": "2022-06-27T08:37:25.379665Z",
     "iopub.status.busy": "2022-06-27T08:37:25.374383Z",
     "iopub.status.idle": "2022-06-27T08:37:25.389578Z",
     "shell.execute_reply": "2022-06-27T08:37:25.388889Z"
    }
   },
   "outputs": [],
   "source": [
    "brush = alt.selection(type=\"interval\")\n",
    "chart = (\n",
    "    alt.Chart(data)\n",
    "    .mark_area()\n",
    "    .encode(\n",
    "        x=alt.X(\"index:T\", axis=alt.Axis(tickCount=24, title=\"Date\")),\n",
    "        y=\"sum(count):Q\",\n",
    "        color=alt.Color(\"variable_0:N\", title=\"Repository\"),\n",
    "        tooltip=\"sum(count)\",\n",
    "    )\n",
    "    .transform_filter(alt.FieldEqualPredicate(field=\"variable_1\", equal=\"total_views\"))\n",
    "    .properties(width=WIDTH, title=\"Total views\")\n",
    "    .add_selection(brush)\n",
    ")\n",
    "\n",
    "bar = (\n",
    "    alt.Chart(data)\n",
    "    .mark_bar()\n",
    "    .encode(\n",
    "        y=alt.Y(\"variable_1:N\", title=None),\n",
    "        x=\"count:Q\",\n",
    "        color=alt.Color(\"variable_0:N\", title=\"Repository\"),\n",
    "    )\n",
    "    .properties(title=\"View by type\")\n",
    "    .transform_filter(brush)\n",
    ")"
   ]
  },
  {
   "cell_type": "markdown",
   "metadata": {},
   "source": [
    "## Views over time\n",
    "\n",
    "The top chart shows us the total views over time by repository, the bottom histogram breaks this down by view type"
   ]
  },
  {
   "cell_type": "code",
   "execution_count": 22,
   "metadata": {
    "execution": {
     "iopub.execute_input": "2022-06-27T08:37:25.395388Z",
     "iopub.status.busy": "2022-06-27T08:37:25.394717Z",
     "iopub.status.idle": "2022-06-27T08:37:25.409467Z",
     "shell.execute_reply": "2022-06-27T08:37:25.409982Z"
    }
   },
   "outputs": [
    {
     "ename": "MaxRowsError",
     "evalue": "The number of rows in your dataset is greater than the maximum allowed (5000). For information on how to plot larger datasets in Altair, see the documentation",
     "output_type": "error",
     "traceback": [
      "\u001b[0;31m---------------------------------------------------------------------------\u001b[0m",
      "\u001b[0;31mMaxRowsError\u001b[0m                              Traceback (most recent call last)",
      "\u001b[0;32m/opt/hostedtoolcache/Python/3.6.15/x64/lib/python3.6/site-packages/altair/vegalite/v4/api.py\u001b[0m in \u001b[0;36mto_dict\u001b[0;34m(self, *args, **kwargs)\u001b[0m\n\u001b[1;32m    361\u001b[0m         \u001b[0mcopy\u001b[0m \u001b[0;34m=\u001b[0m \u001b[0mself\u001b[0m\u001b[0;34m.\u001b[0m\u001b[0mcopy\u001b[0m\u001b[0;34m(\u001b[0m\u001b[0mdeep\u001b[0m\u001b[0;34m=\u001b[0m\u001b[0;32mFalse\u001b[0m\u001b[0;34m)\u001b[0m\u001b[0;34m\u001b[0m\u001b[0;34m\u001b[0m\u001b[0m\n\u001b[1;32m    362\u001b[0m         \u001b[0moriginal_data\u001b[0m \u001b[0;34m=\u001b[0m \u001b[0mgetattr\u001b[0m\u001b[0;34m(\u001b[0m\u001b[0mcopy\u001b[0m\u001b[0;34m,\u001b[0m \u001b[0;34m\"data\"\u001b[0m\u001b[0;34m,\u001b[0m \u001b[0mUndefined\u001b[0m\u001b[0;34m)\u001b[0m\u001b[0;34m\u001b[0m\u001b[0;34m\u001b[0m\u001b[0m\n\u001b[0;32m--> 363\u001b[0;31m         \u001b[0mcopy\u001b[0m\u001b[0;34m.\u001b[0m\u001b[0mdata\u001b[0m \u001b[0;34m=\u001b[0m \u001b[0m_prepare_data\u001b[0m\u001b[0;34m(\u001b[0m\u001b[0moriginal_data\u001b[0m\u001b[0;34m,\u001b[0m \u001b[0mcontext\u001b[0m\u001b[0;34m)\u001b[0m\u001b[0;34m\u001b[0m\u001b[0;34m\u001b[0m\u001b[0m\n\u001b[0m\u001b[1;32m    364\u001b[0m \u001b[0;34m\u001b[0m\u001b[0m\n\u001b[1;32m    365\u001b[0m         \u001b[0;32mif\u001b[0m \u001b[0moriginal_data\u001b[0m \u001b[0;32mis\u001b[0m \u001b[0;32mnot\u001b[0m \u001b[0mUndefined\u001b[0m\u001b[0;34m:\u001b[0m\u001b[0;34m\u001b[0m\u001b[0;34m\u001b[0m\u001b[0m\n",
      "\u001b[0;32m/opt/hostedtoolcache/Python/3.6.15/x64/lib/python3.6/site-packages/altair/vegalite/v4/api.py\u001b[0m in \u001b[0;36m_prepare_data\u001b[0;34m(data, context)\u001b[0m\n\u001b[1;32m     82\u001b[0m     \u001b[0;31m# convert dataframes  or objects with __geo_interface__ to dict\u001b[0m\u001b[0;34m\u001b[0m\u001b[0;34m\u001b[0m\u001b[0;34m\u001b[0m\u001b[0m\n\u001b[1;32m     83\u001b[0m     \u001b[0;32mif\u001b[0m \u001b[0misinstance\u001b[0m\u001b[0;34m(\u001b[0m\u001b[0mdata\u001b[0m\u001b[0;34m,\u001b[0m \u001b[0mpd\u001b[0m\u001b[0;34m.\u001b[0m\u001b[0mDataFrame\u001b[0m\u001b[0;34m)\u001b[0m \u001b[0;32mor\u001b[0m \u001b[0mhasattr\u001b[0m\u001b[0;34m(\u001b[0m\u001b[0mdata\u001b[0m\u001b[0;34m,\u001b[0m \u001b[0;34m\"__geo_interface__\"\u001b[0m\u001b[0;34m)\u001b[0m\u001b[0;34m:\u001b[0m\u001b[0;34m\u001b[0m\u001b[0;34m\u001b[0m\u001b[0m\n\u001b[0;32m---> 84\u001b[0;31m         \u001b[0mdata\u001b[0m \u001b[0;34m=\u001b[0m \u001b[0m_pipe\u001b[0m\u001b[0;34m(\u001b[0m\u001b[0mdata\u001b[0m\u001b[0;34m,\u001b[0m \u001b[0mdata_transformers\u001b[0m\u001b[0;34m.\u001b[0m\u001b[0mget\u001b[0m\u001b[0;34m(\u001b[0m\u001b[0;34m)\u001b[0m\u001b[0;34m)\u001b[0m\u001b[0;34m\u001b[0m\u001b[0;34m\u001b[0m\u001b[0m\n\u001b[0m\u001b[1;32m     85\u001b[0m \u001b[0;34m\u001b[0m\u001b[0m\n\u001b[1;32m     86\u001b[0m     \u001b[0;31m# convert string input to a URLData\u001b[0m\u001b[0;34m\u001b[0m\u001b[0;34m\u001b[0m\u001b[0;34m\u001b[0m\u001b[0m\n",
      "\u001b[0;32m/opt/hostedtoolcache/Python/3.6.15/x64/lib/python3.6/site-packages/toolz/functoolz.py\u001b[0m in \u001b[0;36mpipe\u001b[0;34m(data, *funcs)\u001b[0m\n\u001b[1;32m    628\u001b[0m     \"\"\"\n\u001b[1;32m    629\u001b[0m     \u001b[0;32mfor\u001b[0m \u001b[0mfunc\u001b[0m \u001b[0;32min\u001b[0m \u001b[0mfuncs\u001b[0m\u001b[0;34m:\u001b[0m\u001b[0;34m\u001b[0m\u001b[0;34m\u001b[0m\u001b[0m\n\u001b[0;32m--> 630\u001b[0;31m         \u001b[0mdata\u001b[0m \u001b[0;34m=\u001b[0m \u001b[0mfunc\u001b[0m\u001b[0;34m(\u001b[0m\u001b[0mdata\u001b[0m\u001b[0;34m)\u001b[0m\u001b[0;34m\u001b[0m\u001b[0;34m\u001b[0m\u001b[0m\n\u001b[0m\u001b[1;32m    631\u001b[0m     \u001b[0;32mreturn\u001b[0m \u001b[0mdata\u001b[0m\u001b[0;34m\u001b[0m\u001b[0;34m\u001b[0m\u001b[0m\n\u001b[1;32m    632\u001b[0m \u001b[0;34m\u001b[0m\u001b[0m\n",
      "\u001b[0;32m/opt/hostedtoolcache/Python/3.6.15/x64/lib/python3.6/site-packages/toolz/functoolz.py\u001b[0m in \u001b[0;36m__call__\u001b[0;34m(self, *args, **kwargs)\u001b[0m\n\u001b[1;32m    304\u001b[0m     \u001b[0;32mdef\u001b[0m \u001b[0m__call__\u001b[0m\u001b[0;34m(\u001b[0m\u001b[0mself\u001b[0m\u001b[0;34m,\u001b[0m \u001b[0;34m*\u001b[0m\u001b[0margs\u001b[0m\u001b[0;34m,\u001b[0m \u001b[0;34m**\u001b[0m\u001b[0mkwargs\u001b[0m\u001b[0;34m)\u001b[0m\u001b[0;34m:\u001b[0m\u001b[0;34m\u001b[0m\u001b[0;34m\u001b[0m\u001b[0m\n\u001b[1;32m    305\u001b[0m         \u001b[0;32mtry\u001b[0m\u001b[0;34m:\u001b[0m\u001b[0;34m\u001b[0m\u001b[0;34m\u001b[0m\u001b[0m\n\u001b[0;32m--> 306\u001b[0;31m             \u001b[0;32mreturn\u001b[0m \u001b[0mself\u001b[0m\u001b[0;34m.\u001b[0m\u001b[0m_partial\u001b[0m\u001b[0;34m(\u001b[0m\u001b[0;34m*\u001b[0m\u001b[0margs\u001b[0m\u001b[0;34m,\u001b[0m \u001b[0;34m**\u001b[0m\u001b[0mkwargs\u001b[0m\u001b[0;34m)\u001b[0m\u001b[0;34m\u001b[0m\u001b[0;34m\u001b[0m\u001b[0m\n\u001b[0m\u001b[1;32m    307\u001b[0m         \u001b[0;32mexcept\u001b[0m \u001b[0mTypeError\u001b[0m \u001b[0;32mas\u001b[0m \u001b[0mexc\u001b[0m\u001b[0;34m:\u001b[0m\u001b[0;34m\u001b[0m\u001b[0;34m\u001b[0m\u001b[0m\n\u001b[1;32m    308\u001b[0m             \u001b[0;32mif\u001b[0m \u001b[0mself\u001b[0m\u001b[0;34m.\u001b[0m\u001b[0m_should_curry\u001b[0m\u001b[0;34m(\u001b[0m\u001b[0margs\u001b[0m\u001b[0;34m,\u001b[0m \u001b[0mkwargs\u001b[0m\u001b[0;34m,\u001b[0m \u001b[0mexc\u001b[0m\u001b[0;34m)\u001b[0m\u001b[0;34m:\u001b[0m\u001b[0;34m\u001b[0m\u001b[0;34m\u001b[0m\u001b[0m\n",
      "\u001b[0;32m/opt/hostedtoolcache/Python/3.6.15/x64/lib/python3.6/site-packages/altair/vegalite/data.py\u001b[0m in \u001b[0;36mdefault_data_transformer\u001b[0;34m(data, max_rows)\u001b[0m\n\u001b[1;32m     17\u001b[0m \u001b[0;34m@\u001b[0m\u001b[0mcurried\u001b[0m\u001b[0;34m.\u001b[0m\u001b[0mcurry\u001b[0m\u001b[0;34m\u001b[0m\u001b[0;34m\u001b[0m\u001b[0m\n\u001b[1;32m     18\u001b[0m \u001b[0;32mdef\u001b[0m \u001b[0mdefault_data_transformer\u001b[0m\u001b[0;34m(\u001b[0m\u001b[0mdata\u001b[0m\u001b[0;34m,\u001b[0m \u001b[0mmax_rows\u001b[0m\u001b[0;34m=\u001b[0m\u001b[0;36m5000\u001b[0m\u001b[0;34m)\u001b[0m\u001b[0;34m:\u001b[0m\u001b[0;34m\u001b[0m\u001b[0;34m\u001b[0m\u001b[0m\n\u001b[0;32m---> 19\u001b[0;31m     \u001b[0;32mreturn\u001b[0m \u001b[0mcurried\u001b[0m\u001b[0;34m.\u001b[0m\u001b[0mpipe\u001b[0m\u001b[0;34m(\u001b[0m\u001b[0mdata\u001b[0m\u001b[0;34m,\u001b[0m \u001b[0mlimit_rows\u001b[0m\u001b[0;34m(\u001b[0m\u001b[0mmax_rows\u001b[0m\u001b[0;34m=\u001b[0m\u001b[0mmax_rows\u001b[0m\u001b[0;34m)\u001b[0m\u001b[0;34m,\u001b[0m \u001b[0mto_values\u001b[0m\u001b[0;34m)\u001b[0m\u001b[0;34m\u001b[0m\u001b[0;34m\u001b[0m\u001b[0m\n\u001b[0m\u001b[1;32m     20\u001b[0m \u001b[0;34m\u001b[0m\u001b[0m\n\u001b[1;32m     21\u001b[0m \u001b[0;34m\u001b[0m\u001b[0m\n",
      "\u001b[0;32m/opt/hostedtoolcache/Python/3.6.15/x64/lib/python3.6/site-packages/toolz/functoolz.py\u001b[0m in \u001b[0;36mpipe\u001b[0;34m(data, *funcs)\u001b[0m\n\u001b[1;32m    628\u001b[0m     \"\"\"\n\u001b[1;32m    629\u001b[0m     \u001b[0;32mfor\u001b[0m \u001b[0mfunc\u001b[0m \u001b[0;32min\u001b[0m \u001b[0mfuncs\u001b[0m\u001b[0;34m:\u001b[0m\u001b[0;34m\u001b[0m\u001b[0;34m\u001b[0m\u001b[0m\n\u001b[0;32m--> 630\u001b[0;31m         \u001b[0mdata\u001b[0m \u001b[0;34m=\u001b[0m \u001b[0mfunc\u001b[0m\u001b[0;34m(\u001b[0m\u001b[0mdata\u001b[0m\u001b[0;34m)\u001b[0m\u001b[0;34m\u001b[0m\u001b[0;34m\u001b[0m\u001b[0m\n\u001b[0m\u001b[1;32m    631\u001b[0m     \u001b[0;32mreturn\u001b[0m \u001b[0mdata\u001b[0m\u001b[0;34m\u001b[0m\u001b[0;34m\u001b[0m\u001b[0m\n\u001b[1;32m    632\u001b[0m \u001b[0;34m\u001b[0m\u001b[0m\n",
      "\u001b[0;32m/opt/hostedtoolcache/Python/3.6.15/x64/lib/python3.6/site-packages/toolz/functoolz.py\u001b[0m in \u001b[0;36m__call__\u001b[0;34m(self, *args, **kwargs)\u001b[0m\n\u001b[1;32m    304\u001b[0m     \u001b[0;32mdef\u001b[0m \u001b[0m__call__\u001b[0m\u001b[0;34m(\u001b[0m\u001b[0mself\u001b[0m\u001b[0;34m,\u001b[0m \u001b[0;34m*\u001b[0m\u001b[0margs\u001b[0m\u001b[0;34m,\u001b[0m \u001b[0;34m**\u001b[0m\u001b[0mkwargs\u001b[0m\u001b[0;34m)\u001b[0m\u001b[0;34m:\u001b[0m\u001b[0;34m\u001b[0m\u001b[0;34m\u001b[0m\u001b[0m\n\u001b[1;32m    305\u001b[0m         \u001b[0;32mtry\u001b[0m\u001b[0;34m:\u001b[0m\u001b[0;34m\u001b[0m\u001b[0;34m\u001b[0m\u001b[0m\n\u001b[0;32m--> 306\u001b[0;31m             \u001b[0;32mreturn\u001b[0m \u001b[0mself\u001b[0m\u001b[0;34m.\u001b[0m\u001b[0m_partial\u001b[0m\u001b[0;34m(\u001b[0m\u001b[0;34m*\u001b[0m\u001b[0margs\u001b[0m\u001b[0;34m,\u001b[0m \u001b[0;34m**\u001b[0m\u001b[0mkwargs\u001b[0m\u001b[0;34m)\u001b[0m\u001b[0;34m\u001b[0m\u001b[0;34m\u001b[0m\u001b[0m\n\u001b[0m\u001b[1;32m    307\u001b[0m         \u001b[0;32mexcept\u001b[0m \u001b[0mTypeError\u001b[0m \u001b[0;32mas\u001b[0m \u001b[0mexc\u001b[0m\u001b[0;34m:\u001b[0m\u001b[0;34m\u001b[0m\u001b[0;34m\u001b[0m\u001b[0m\n\u001b[1;32m    308\u001b[0m             \u001b[0;32mif\u001b[0m \u001b[0mself\u001b[0m\u001b[0;34m.\u001b[0m\u001b[0m_should_curry\u001b[0m\u001b[0;34m(\u001b[0m\u001b[0margs\u001b[0m\u001b[0;34m,\u001b[0m \u001b[0mkwargs\u001b[0m\u001b[0;34m,\u001b[0m \u001b[0mexc\u001b[0m\u001b[0;34m)\u001b[0m\u001b[0;34m:\u001b[0m\u001b[0;34m\u001b[0m\u001b[0;34m\u001b[0m\u001b[0m\n",
      "\u001b[0;32m/opt/hostedtoolcache/Python/3.6.15/x64/lib/python3.6/site-packages/altair/utils/data.py\u001b[0m in \u001b[0;36mlimit_rows\u001b[0;34m(data, max_rows)\u001b[0m\n\u001b[1;32m     82\u001b[0m             \u001b[0;34m\"than the maximum allowed ({}). \"\u001b[0m\u001b[0;34m\u001b[0m\u001b[0;34m\u001b[0m\u001b[0m\n\u001b[1;32m     83\u001b[0m             \u001b[0;34m\"For information on how to plot larger datasets \"\u001b[0m\u001b[0;34m\u001b[0m\u001b[0;34m\u001b[0m\u001b[0m\n\u001b[0;32m---> 84\u001b[0;31m             \u001b[0;34m\"in Altair, see the documentation\"\u001b[0m\u001b[0;34m.\u001b[0m\u001b[0mformat\u001b[0m\u001b[0;34m(\u001b[0m\u001b[0mmax_rows\u001b[0m\u001b[0;34m)\u001b[0m\u001b[0;34m\u001b[0m\u001b[0;34m\u001b[0m\u001b[0m\n\u001b[0m\u001b[1;32m     85\u001b[0m         )\n\u001b[1;32m     86\u001b[0m     \u001b[0;32mreturn\u001b[0m \u001b[0mdata\u001b[0m\u001b[0;34m\u001b[0m\u001b[0;34m\u001b[0m\u001b[0m\n",
      "\u001b[0;31mMaxRowsError\u001b[0m: The number of rows in your dataset is greater than the maximum allowed (5000). For information on how to plot larger datasets in Altair, see the documentation"
     ]
    },
    {
     "data": {
      "text/plain": [
       "alt.VConcatChart(...)"
      ]
     },
     "execution_count": 1,
     "metadata": {},
     "output_type": "execute_result"
    }
   ],
   "source": [
    "chart & bar"
   ]
  },
  {
   "cell_type": "markdown",
   "metadata": {},
   "source": [
    "## A breakdown of total views for each public Living with Machines repository:"
   ]
  },
  {
   "cell_type": "code",
   "execution_count": 23,
   "metadata": {
    "execution": {
     "iopub.execute_input": "2022-06-27T08:37:25.425563Z",
     "iopub.status.busy": "2022-06-27T08:37:25.424858Z",
     "iopub.status.idle": "2022-06-27T08:37:25.435532Z",
     "shell.execute_reply": "2022-06-27T08:37:25.436016Z"
    }
   },
   "outputs": [
    {
     "data": {
      "text/html": [
       "<div>\n",
       "<style scoped>\n",
       "    .dataframe tbody tr th:only-of-type {\n",
       "        vertical-align: middle;\n",
       "    }\n",
       "\n",
       "    .dataframe tbody tr th {\n",
       "        vertical-align: top;\n",
       "    }\n",
       "\n",
       "    .dataframe thead th {\n",
       "        text-align: right;\n",
       "    }\n",
       "</style>\n",
       "<table border=\"1\" class=\"dataframe\">\n",
       "  <thead>\n",
       "    <tr style=\"text-align: right;\">\n",
       "      <th></th>\n",
       "      <th>total_views</th>\n",
       "    </tr>\n",
       "  </thead>\n",
       "  <tbody>\n",
       "    <tr>\n",
       "      <th>.github</th>\n",
       "      <td>32</td>\n",
       "    </tr>\n",
       "    <tr>\n",
       "      <th>AtypicalAnimacy</th>\n",
       "      <td>352</td>\n",
       "    </tr>\n",
       "    <tr>\n",
       "      <th>AzureAudit</th>\n",
       "      <td>65</td>\n",
       "    </tr>\n",
       "    <tr>\n",
       "      <th>Computer-Vision-for-the-Humanities-workshop</th>\n",
       "      <td>160</td>\n",
       "    </tr>\n",
       "    <tr>\n",
       "      <th>D3_JS_viz_in_a_Python_Jupyter_notebook</th>\n",
       "      <td>256</td>\n",
       "    </tr>\n",
       "    <tr>\n",
       "      <th>DeezyMatch</th>\n",
       "      <td>1833</td>\n",
       "    </tr>\n",
       "    <tr>\n",
       "      <th>GazFuse</th>\n",
       "      <td>17</td>\n",
       "    </tr>\n",
       "    <tr>\n",
       "      <th>Jupyter-Notebooks-The-Weird-and-Wonderful</th>\n",
       "      <td>118</td>\n",
       "    </tr>\n",
       "    <tr>\n",
       "      <th>LwM_SIGSPATIAL2020_ToponymMatching</th>\n",
       "      <td>337</td>\n",
       "    </tr>\n",
       "    <tr>\n",
       "      <th>MapReader</th>\n",
       "      <td>958</td>\n",
       "    </tr>\n",
       "    <tr>\n",
       "      <th>PressDirectories</th>\n",
       "      <td>117</td>\n",
       "    </tr>\n",
       "    <tr>\n",
       "      <th>PressPicker_public</th>\n",
       "      <td>132</td>\n",
       "    </tr>\n",
       "    <tr>\n",
       "      <th>TargetedSenseDisambiguation</th>\n",
       "      <td>239</td>\n",
       "    </tr>\n",
       "    <tr>\n",
       "      <th>computer-vision-DHNordic-2020-workshop</th>\n",
       "      <td>38</td>\n",
       "    </tr>\n",
       "    <tr>\n",
       "      <th>deduplify</th>\n",
       "      <td>393</td>\n",
       "    </tr>\n",
       "    <tr>\n",
       "      <th>genre-classification</th>\n",
       "      <td>219</td>\n",
       "    </tr>\n",
       "    <tr>\n",
       "      <th>gh_orgstats</th>\n",
       "      <td>374</td>\n",
       "    </tr>\n",
       "    <tr>\n",
       "      <th>github_stats_report</th>\n",
       "      <td>468</td>\n",
       "    </tr>\n",
       "    <tr>\n",
       "      <th>histLM</th>\n",
       "      <td>364</td>\n",
       "    </tr>\n",
       "    <tr>\n",
       "      <th>hmd_newspaper_dl</th>\n",
       "      <td>242</td>\n",
       "    </tr>\n",
       "    <tr>\n",
       "      <th>hmd_url_generator</th>\n",
       "      <td>69</td>\n",
       "    </tr>\n",
       "    <tr>\n",
       "      <th>image-search</th>\n",
       "      <td>54</td>\n",
       "    </tr>\n",
       "    <tr>\n",
       "      <th>lwm_ARTIDIGH_2020_OCR_impact_downstream_NLP_tasks</th>\n",
       "      <td>162</td>\n",
       "    </tr>\n",
       "    <tr>\n",
       "      <th>lwm_GIR19_resolving_places</th>\n",
       "      <td>148</td>\n",
       "    </tr>\n",
       "    <tr>\n",
       "      <th>maps-at-scale-hack-day-notebooks</th>\n",
       "      <td>48</td>\n",
       "    </tr>\n",
       "    <tr>\n",
       "      <th>maps-at-scale-using-computer-vision-and-jupyter-notebooks</th>\n",
       "      <td>143</td>\n",
       "    </tr>\n",
       "    <tr>\n",
       "      <th>nnanno</th>\n",
       "      <td>357</td>\n",
       "    </tr>\n",
       "    <tr>\n",
       "      <th>nnanno_example_data</th>\n",
       "      <td>48</td>\n",
       "    </tr>\n",
       "    <tr>\n",
       "      <th>station-to-station</th>\n",
       "      <td>391</td>\n",
       "    </tr>\n",
       "    <tr>\n",
       "      <th>subsamplr</th>\n",
       "      <td>82</td>\n",
       "    </tr>\n",
       "    <tr>\n",
       "      <th>zooniverse-analysis-workshop</th>\n",
       "      <td>121</td>\n",
       "    </tr>\n",
       "  </tbody>\n",
       "</table>\n",
       "</div>"
      ],
      "text/plain": [
       "                                                    total_views\n",
       ".github                                                      32\n",
       "AtypicalAnimacy                                             352\n",
       "AzureAudit                                                   65\n",
       "Computer-Vision-for-the-Humanities-workshop                 160\n",
       "D3_JS_viz_in_a_Python_Jupyter_notebook                      256\n",
       "DeezyMatch                                                 1833\n",
       "GazFuse                                                      17\n",
       "Jupyter-Notebooks-The-Weird-and-Wonderful                   118\n",
       "LwM_SIGSPATIAL2020_ToponymMatching                          337\n",
       "MapReader                                                   958\n",
       "PressDirectories                                            117\n",
       "PressPicker_public                                          132\n",
       "TargetedSenseDisambiguation                                 239\n",
       "computer-vision-DHNordic-2020-workshop                       38\n",
       "deduplify                                                   393\n",
       "genre-classification                                        219\n",
       "gh_orgstats                                                 374\n",
       "github_stats_report                                         468\n",
       "histLM                                                      364\n",
       "hmd_newspaper_dl                                            242\n",
       "hmd_url_generator                                            69\n",
       "image-search                                                 54\n",
       "lwm_ARTIDIGH_2020_OCR_impact_downstream_NLP_tasks           162\n",
       "lwm_GIR19_resolving_places                                  148\n",
       "maps-at-scale-hack-day-notebooks                             48\n",
       "maps-at-scale-using-computer-vision-and-jupyter...          143\n",
       "nnanno                                                      357\n",
       "nnanno_example_data                                          48\n",
       "station-to-station                                          391\n",
       "subsamplr                                                    82\n",
       "zooniverse-analysis-workshop                                121"
      ]
     },
     "execution_count": 1,
     "metadata": {},
     "output_type": "execute_result"
    }
   ],
   "source": [
    "df_total = df.loc[idx[:], idx[:,'total_views']].stack()\n",
    "df_total.index = df_total.index.droplevel(1)\n",
    "pd.DataFrame(df_total.sum().round(0).astype(int),columns=['total_views'])"
   ]
  },
  {
   "cell_type": "markdown",
   "metadata": {},
   "source": [
    "### Unique views\n",
    "Unique views aim to not count the same person visiting a repository multiple times"
   ]
  },
  {
   "cell_type": "code",
   "execution_count": 24,
   "metadata": {
    "execution": {
     "iopub.execute_input": "2022-06-27T08:37:25.440925Z",
     "iopub.status.busy": "2022-06-27T08:37:25.439500Z",
     "iopub.status.idle": "2022-06-27T08:37:25.441686Z",
     "shell.execute_reply": "2022-06-27T08:37:25.442220Z"
    }
   },
   "outputs": [],
   "source": [
    "idx = pd.IndexSlice"
   ]
  },
  {
   "cell_type": "code",
   "execution_count": 25,
   "metadata": {
    "execution": {
     "iopub.execute_input": "2022-06-27T08:37:25.448176Z",
     "iopub.status.busy": "2022-06-27T08:37:25.447500Z",
     "iopub.status.idle": "2022-06-27T08:37:25.454049Z",
     "shell.execute_reply": "2022-06-27T08:37:25.453530Z"
    }
   },
   "outputs": [
    {
     "data": {
      "text/markdown": [
       "Living with Machines public repositories have generated 2042 unique views to date with an average of 66 daily views per repository"
      ],
      "text/plain": [
       "<IPython.core.display.Markdown object>"
      ]
     },
     "execution_count": 1,
     "metadata": {},
     "output_type": "execute_result"
    }
   ],
   "source": [
    "total = df.loc[idx[:], idx[:,'unique_views']].sum().sum()\n",
    "mean = df.loc[idx[:], idx[:,'unique_views']].sum().mean()\n",
    "Markdown(f\"Living with Machines public repositories have generated {round(total)} unique views to date with an average of {round(mean)} daily views per repository\")"
   ]
  },
  {
   "cell_type": "markdown",
   "metadata": {},
   "source": [
    "### A breakdown of total unique views for each public Living with Machines repository:"
   ]
  },
  {
   "cell_type": "code",
   "execution_count": 26,
   "metadata": {
    "execution": {
     "iopub.execute_input": "2022-06-27T08:37:25.468783Z",
     "iopub.status.busy": "2022-06-27T08:37:25.459313Z",
     "iopub.status.idle": "2022-06-27T08:37:25.480018Z",
     "shell.execute_reply": "2022-06-27T08:37:25.479529Z"
    }
   },
   "outputs": [
    {
     "data": {
      "text/html": [
       "<div>\n",
       "<style scoped>\n",
       "    .dataframe tbody tr th:only-of-type {\n",
       "        vertical-align: middle;\n",
       "    }\n",
       "\n",
       "    .dataframe tbody tr th {\n",
       "        vertical-align: top;\n",
       "    }\n",
       "\n",
       "    .dataframe thead th {\n",
       "        text-align: right;\n",
       "    }\n",
       "</style>\n",
       "<table border=\"1\" class=\"dataframe\">\n",
       "  <thead>\n",
       "    <tr style=\"text-align: right;\">\n",
       "      <th></th>\n",
       "      <th>unique_views</th>\n",
       "    </tr>\n",
       "  </thead>\n",
       "  <tbody>\n",
       "    <tr>\n",
       "      <th>.github</th>\n",
       "      <td>7</td>\n",
       "    </tr>\n",
       "    <tr>\n",
       "      <th>AtypicalAnimacy</th>\n",
       "      <td>84</td>\n",
       "    </tr>\n",
       "    <tr>\n",
       "      <th>AzureAudit</th>\n",
       "      <td>30</td>\n",
       "    </tr>\n",
       "    <tr>\n",
       "      <th>Computer-Vision-for-the-Humanities-workshop</th>\n",
       "      <td>69</td>\n",
       "    </tr>\n",
       "    <tr>\n",
       "      <th>D3_JS_viz_in_a_Python_Jupyter_notebook</th>\n",
       "      <td>105</td>\n",
       "    </tr>\n",
       "    <tr>\n",
       "      <th>DeezyMatch</th>\n",
       "      <td>418</td>\n",
       "    </tr>\n",
       "    <tr>\n",
       "      <th>GazFuse</th>\n",
       "      <td>14</td>\n",
       "    </tr>\n",
       "    <tr>\n",
       "      <th>Jupyter-Notebooks-The-Weird-and-Wonderful</th>\n",
       "      <td>51</td>\n",
       "    </tr>\n",
       "    <tr>\n",
       "      <th>LwM_SIGSPATIAL2020_ToponymMatching</th>\n",
       "      <td>68</td>\n",
       "    </tr>\n",
       "    <tr>\n",
       "      <th>MapReader</th>\n",
       "      <td>139</td>\n",
       "    </tr>\n",
       "    <tr>\n",
       "      <th>PressDirectories</th>\n",
       "      <td>6</td>\n",
       "    </tr>\n",
       "    <tr>\n",
       "      <th>PressPicker_public</th>\n",
       "      <td>66</td>\n",
       "    </tr>\n",
       "    <tr>\n",
       "      <th>TargetedSenseDisambiguation</th>\n",
       "      <td>54</td>\n",
       "    </tr>\n",
       "    <tr>\n",
       "      <th>computer-vision-DHNordic-2020-workshop</th>\n",
       "      <td>16</td>\n",
       "    </tr>\n",
       "    <tr>\n",
       "      <th>deduplify</th>\n",
       "      <td>97</td>\n",
       "    </tr>\n",
       "    <tr>\n",
       "      <th>genre-classification</th>\n",
       "      <td>49</td>\n",
       "    </tr>\n",
       "    <tr>\n",
       "      <th>gh_orgstats</th>\n",
       "      <td>69</td>\n",
       "    </tr>\n",
       "    <tr>\n",
       "      <th>github_stats_report</th>\n",
       "      <td>106</td>\n",
       "    </tr>\n",
       "    <tr>\n",
       "      <th>histLM</th>\n",
       "      <td>88</td>\n",
       "    </tr>\n",
       "    <tr>\n",
       "      <th>hmd_newspaper_dl</th>\n",
       "      <td>51</td>\n",
       "    </tr>\n",
       "    <tr>\n",
       "      <th>hmd_url_generator</th>\n",
       "      <td>3</td>\n",
       "    </tr>\n",
       "    <tr>\n",
       "      <th>image-search</th>\n",
       "      <td>11</td>\n",
       "    </tr>\n",
       "    <tr>\n",
       "      <th>lwm_ARTIDIGH_2020_OCR_impact_downstream_NLP_tasks</th>\n",
       "      <td>79</td>\n",
       "    </tr>\n",
       "    <tr>\n",
       "      <th>lwm_GIR19_resolving_places</th>\n",
       "      <td>73</td>\n",
       "    </tr>\n",
       "    <tr>\n",
       "      <th>maps-at-scale-hack-day-notebooks</th>\n",
       "      <td>17</td>\n",
       "    </tr>\n",
       "    <tr>\n",
       "      <th>maps-at-scale-using-computer-vision-and-jupyter-notebooks</th>\n",
       "      <td>76</td>\n",
       "    </tr>\n",
       "    <tr>\n",
       "      <th>nnanno</th>\n",
       "      <td>85</td>\n",
       "    </tr>\n",
       "    <tr>\n",
       "      <th>nnanno_example_data</th>\n",
       "      <td>10</td>\n",
       "    </tr>\n",
       "    <tr>\n",
       "      <th>station-to-station</th>\n",
       "      <td>61</td>\n",
       "    </tr>\n",
       "    <tr>\n",
       "      <th>subsamplr</th>\n",
       "      <td>22</td>\n",
       "    </tr>\n",
       "    <tr>\n",
       "      <th>zooniverse-analysis-workshop</th>\n",
       "      <td>17</td>\n",
       "    </tr>\n",
       "  </tbody>\n",
       "</table>\n",
       "</div>"
      ],
      "text/plain": [
       "                                                    unique_views\n",
       ".github                                                        7\n",
       "AtypicalAnimacy                                               84\n",
       "AzureAudit                                                    30\n",
       "Computer-Vision-for-the-Humanities-workshop                   69\n",
       "D3_JS_viz_in_a_Python_Jupyter_notebook                       105\n",
       "DeezyMatch                                                   418\n",
       "GazFuse                                                       14\n",
       "Jupyter-Notebooks-The-Weird-and-Wonderful                     51\n",
       "LwM_SIGSPATIAL2020_ToponymMatching                            68\n",
       "MapReader                                                    139\n",
       "PressDirectories                                               6\n",
       "PressPicker_public                                            66\n",
       "TargetedSenseDisambiguation                                   54\n",
       "computer-vision-DHNordic-2020-workshop                        16\n",
       "deduplify                                                     97\n",
       "genre-classification                                          49\n",
       "gh_orgstats                                                   69\n",
       "github_stats_report                                          106\n",
       "histLM                                                        88\n",
       "hmd_newspaper_dl                                              51\n",
       "hmd_url_generator                                              3\n",
       "image-search                                                  11\n",
       "lwm_ARTIDIGH_2020_OCR_impact_downstream_NLP_tasks             79\n",
       "lwm_GIR19_resolving_places                                    73\n",
       "maps-at-scale-hack-day-notebooks                              17\n",
       "maps-at-scale-using-computer-vision-and-jupyter...            76\n",
       "nnanno                                                        85\n",
       "nnanno_example_data                                           10\n",
       "station-to-station                                            61\n",
       "subsamplr                                                     22\n",
       "zooniverse-analysis-workshop                                  17"
      ]
     },
     "execution_count": 1,
     "metadata": {},
     "output_type": "execute_result"
    }
   ],
   "source": [
    "df = df.loc[idx[:], idx[:,'unique_views']].stack()\n",
    "df.index = df.index.droplevel(1)\n",
    "pd.DataFrame(df.sum().round(0).astype(int),columns=['unique_views'])"
   ]
  },
  {
   "cell_type": "markdown",
   "metadata": {},
   "source": [
    "## Clones <a class=\"anchor\" id=\"repo-clones\"></a>\n",
    "\n",
    "Clones indicate how often a repository is 'downloaded' from GitHub:\n",
    "> [Cloning a repository pulls down a full copy of all the repository data that GitHub has at that point in time, including all versions of every file and folder for the project.](https://docs.github.com/en/free-pro-team@latest/github/creating-cloning-and-archiving-repositories/cloning-a-repository)\n",
    "\n",
    "Clones are on way in which we may also be able to assess whether people are making use of a repository. Like views, clones are also broken down into unique and total values. "
   ]
  },
  {
   "cell_type": "markdown",
   "metadata": {},
   "source": [
    "### Total Clones"
   ]
  },
  {
   "cell_type": "code",
   "execution_count": 27,
   "metadata": {
    "execution": {
     "iopub.execute_input": "2022-06-27T08:37:25.486271Z",
     "iopub.status.busy": "2022-06-27T08:37:25.485616Z",
     "iopub.status.idle": "2022-06-27T08:37:29.259837Z",
     "shell.execute_reply": "2022-06-27T08:37:29.259290Z"
    }
   },
   "outputs": [],
   "source": [
    "df = lwm_stats.get_org_clones_traffic(public_only=True, load=True)"
   ]
  },
  {
   "cell_type": "code",
   "execution_count": 28,
   "metadata": {
    "execution": {
     "iopub.execute_input": "2022-06-27T08:37:29.267699Z",
     "iopub.status.busy": "2022-06-27T08:37:29.265571Z",
     "iopub.status.idle": "2022-06-27T08:37:29.273635Z",
     "shell.execute_reply": "2022-06-27T08:37:29.274687Z"
    }
   },
   "outputs": [
    {
     "data": {
      "text/markdown": [
       "Living with Machines public repositories have generated 8219 clones to date with an average of 265 daily clones"
      ],
      "text/plain": [
       "<IPython.core.display.Markdown object>"
      ]
     },
     "execution_count": 1,
     "metadata": {},
     "output_type": "execute_result"
    }
   ],
   "source": [
    "total = df.loc[idx[:], idx[:,'total_clones']].sum().sum()\n",
    "mean = df.loc[idx[:], idx[:,'total_clones']].sum().mean()\n",
    "Markdown(f\"Living with Machines public repositories have generated {round(total)} clones to date with an average of {round(mean)} daily clones\")"
   ]
  },
  {
   "cell_type": "markdown",
   "metadata": {},
   "source": [
    "## Clones over time across all repositories "
   ]
  },
  {
   "cell_type": "code",
   "execution_count": 29,
   "metadata": {
    "execution": {
     "iopub.execute_input": "2022-06-27T08:37:29.281858Z",
     "iopub.status.busy": "2022-06-27T08:37:29.281185Z",
     "iopub.status.idle": "2022-06-27T08:37:33.048259Z",
     "shell.execute_reply": "2022-06-27T08:37:33.047302Z"
    }
   },
   "outputs": [],
   "source": [
    "df = lwm_stats.get_org_clones_traffic(public_only=True, load=True)\n",
    "df = df.resample(\"W\").mean()\n",
    "data = pd.melt(frame=df.reset_index(), id_vars=['index'],value_name='count')"
   ]
  },
  {
   "cell_type": "code",
   "execution_count": 30,
   "metadata": {
    "execution": {
     "iopub.execute_input": "2022-06-27T08:37:33.061513Z",
     "iopub.status.busy": "2022-06-27T08:37:33.056166Z",
     "iopub.status.idle": "2022-06-27T08:37:33.091737Z",
     "shell.execute_reply": "2022-06-27T08:37:33.091201Z"
    }
   },
   "outputs": [
    {
     "ename": "MaxRowsError",
     "evalue": "The number of rows in your dataset is greater than the maximum allowed (5000). For information on how to plot larger datasets in Altair, see the documentation",
     "output_type": "error",
     "traceback": [
      "\u001b[0;31m---------------------------------------------------------------------------\u001b[0m",
      "\u001b[0;31mMaxRowsError\u001b[0m                              Traceback (most recent call last)",
      "\u001b[0;32m/opt/hostedtoolcache/Python/3.6.15/x64/lib/python3.6/site-packages/altair/vegalite/v4/api.py\u001b[0m in \u001b[0;36mto_dict\u001b[0;34m(self, *args, **kwargs)\u001b[0m\n\u001b[1;32m    361\u001b[0m         \u001b[0mcopy\u001b[0m \u001b[0;34m=\u001b[0m \u001b[0mself\u001b[0m\u001b[0;34m.\u001b[0m\u001b[0mcopy\u001b[0m\u001b[0;34m(\u001b[0m\u001b[0mdeep\u001b[0m\u001b[0;34m=\u001b[0m\u001b[0;32mFalse\u001b[0m\u001b[0;34m)\u001b[0m\u001b[0;34m\u001b[0m\u001b[0;34m\u001b[0m\u001b[0m\n\u001b[1;32m    362\u001b[0m         \u001b[0moriginal_data\u001b[0m \u001b[0;34m=\u001b[0m \u001b[0mgetattr\u001b[0m\u001b[0;34m(\u001b[0m\u001b[0mcopy\u001b[0m\u001b[0;34m,\u001b[0m \u001b[0;34m\"data\"\u001b[0m\u001b[0;34m,\u001b[0m \u001b[0mUndefined\u001b[0m\u001b[0;34m)\u001b[0m\u001b[0;34m\u001b[0m\u001b[0;34m\u001b[0m\u001b[0m\n\u001b[0;32m--> 363\u001b[0;31m         \u001b[0mcopy\u001b[0m\u001b[0;34m.\u001b[0m\u001b[0mdata\u001b[0m \u001b[0;34m=\u001b[0m \u001b[0m_prepare_data\u001b[0m\u001b[0;34m(\u001b[0m\u001b[0moriginal_data\u001b[0m\u001b[0;34m,\u001b[0m \u001b[0mcontext\u001b[0m\u001b[0;34m)\u001b[0m\u001b[0;34m\u001b[0m\u001b[0;34m\u001b[0m\u001b[0m\n\u001b[0m\u001b[1;32m    364\u001b[0m \u001b[0;34m\u001b[0m\u001b[0m\n\u001b[1;32m    365\u001b[0m         \u001b[0;32mif\u001b[0m \u001b[0moriginal_data\u001b[0m \u001b[0;32mis\u001b[0m \u001b[0;32mnot\u001b[0m \u001b[0mUndefined\u001b[0m\u001b[0;34m:\u001b[0m\u001b[0;34m\u001b[0m\u001b[0;34m\u001b[0m\u001b[0m\n",
      "\u001b[0;32m/opt/hostedtoolcache/Python/3.6.15/x64/lib/python3.6/site-packages/altair/vegalite/v4/api.py\u001b[0m in \u001b[0;36m_prepare_data\u001b[0;34m(data, context)\u001b[0m\n\u001b[1;32m     82\u001b[0m     \u001b[0;31m# convert dataframes  or objects with __geo_interface__ to dict\u001b[0m\u001b[0;34m\u001b[0m\u001b[0;34m\u001b[0m\u001b[0;34m\u001b[0m\u001b[0m\n\u001b[1;32m     83\u001b[0m     \u001b[0;32mif\u001b[0m \u001b[0misinstance\u001b[0m\u001b[0;34m(\u001b[0m\u001b[0mdata\u001b[0m\u001b[0;34m,\u001b[0m \u001b[0mpd\u001b[0m\u001b[0;34m.\u001b[0m\u001b[0mDataFrame\u001b[0m\u001b[0;34m)\u001b[0m \u001b[0;32mor\u001b[0m \u001b[0mhasattr\u001b[0m\u001b[0;34m(\u001b[0m\u001b[0mdata\u001b[0m\u001b[0;34m,\u001b[0m \u001b[0;34m\"__geo_interface__\"\u001b[0m\u001b[0;34m)\u001b[0m\u001b[0;34m:\u001b[0m\u001b[0;34m\u001b[0m\u001b[0;34m\u001b[0m\u001b[0m\n\u001b[0;32m---> 84\u001b[0;31m         \u001b[0mdata\u001b[0m \u001b[0;34m=\u001b[0m \u001b[0m_pipe\u001b[0m\u001b[0;34m(\u001b[0m\u001b[0mdata\u001b[0m\u001b[0;34m,\u001b[0m \u001b[0mdata_transformers\u001b[0m\u001b[0;34m.\u001b[0m\u001b[0mget\u001b[0m\u001b[0;34m(\u001b[0m\u001b[0;34m)\u001b[0m\u001b[0;34m)\u001b[0m\u001b[0;34m\u001b[0m\u001b[0;34m\u001b[0m\u001b[0m\n\u001b[0m\u001b[1;32m     85\u001b[0m \u001b[0;34m\u001b[0m\u001b[0m\n\u001b[1;32m     86\u001b[0m     \u001b[0;31m# convert string input to a URLData\u001b[0m\u001b[0;34m\u001b[0m\u001b[0;34m\u001b[0m\u001b[0;34m\u001b[0m\u001b[0m\n",
      "\u001b[0;32m/opt/hostedtoolcache/Python/3.6.15/x64/lib/python3.6/site-packages/toolz/functoolz.py\u001b[0m in \u001b[0;36mpipe\u001b[0;34m(data, *funcs)\u001b[0m\n\u001b[1;32m    628\u001b[0m     \"\"\"\n\u001b[1;32m    629\u001b[0m     \u001b[0;32mfor\u001b[0m \u001b[0mfunc\u001b[0m \u001b[0;32min\u001b[0m \u001b[0mfuncs\u001b[0m\u001b[0;34m:\u001b[0m\u001b[0;34m\u001b[0m\u001b[0;34m\u001b[0m\u001b[0m\n\u001b[0;32m--> 630\u001b[0;31m         \u001b[0mdata\u001b[0m \u001b[0;34m=\u001b[0m \u001b[0mfunc\u001b[0m\u001b[0;34m(\u001b[0m\u001b[0mdata\u001b[0m\u001b[0;34m)\u001b[0m\u001b[0;34m\u001b[0m\u001b[0;34m\u001b[0m\u001b[0m\n\u001b[0m\u001b[1;32m    631\u001b[0m     \u001b[0;32mreturn\u001b[0m \u001b[0mdata\u001b[0m\u001b[0;34m\u001b[0m\u001b[0;34m\u001b[0m\u001b[0m\n\u001b[1;32m    632\u001b[0m \u001b[0;34m\u001b[0m\u001b[0m\n",
      "\u001b[0;32m/opt/hostedtoolcache/Python/3.6.15/x64/lib/python3.6/site-packages/toolz/functoolz.py\u001b[0m in \u001b[0;36m__call__\u001b[0;34m(self, *args, **kwargs)\u001b[0m\n\u001b[1;32m    304\u001b[0m     \u001b[0;32mdef\u001b[0m \u001b[0m__call__\u001b[0m\u001b[0;34m(\u001b[0m\u001b[0mself\u001b[0m\u001b[0;34m,\u001b[0m \u001b[0;34m*\u001b[0m\u001b[0margs\u001b[0m\u001b[0;34m,\u001b[0m \u001b[0;34m**\u001b[0m\u001b[0mkwargs\u001b[0m\u001b[0;34m)\u001b[0m\u001b[0;34m:\u001b[0m\u001b[0;34m\u001b[0m\u001b[0;34m\u001b[0m\u001b[0m\n\u001b[1;32m    305\u001b[0m         \u001b[0;32mtry\u001b[0m\u001b[0;34m:\u001b[0m\u001b[0;34m\u001b[0m\u001b[0;34m\u001b[0m\u001b[0m\n\u001b[0;32m--> 306\u001b[0;31m             \u001b[0;32mreturn\u001b[0m \u001b[0mself\u001b[0m\u001b[0;34m.\u001b[0m\u001b[0m_partial\u001b[0m\u001b[0;34m(\u001b[0m\u001b[0;34m*\u001b[0m\u001b[0margs\u001b[0m\u001b[0;34m,\u001b[0m \u001b[0;34m**\u001b[0m\u001b[0mkwargs\u001b[0m\u001b[0;34m)\u001b[0m\u001b[0;34m\u001b[0m\u001b[0;34m\u001b[0m\u001b[0m\n\u001b[0m\u001b[1;32m    307\u001b[0m         \u001b[0;32mexcept\u001b[0m \u001b[0mTypeError\u001b[0m \u001b[0;32mas\u001b[0m \u001b[0mexc\u001b[0m\u001b[0;34m:\u001b[0m\u001b[0;34m\u001b[0m\u001b[0;34m\u001b[0m\u001b[0m\n\u001b[1;32m    308\u001b[0m             \u001b[0;32mif\u001b[0m \u001b[0mself\u001b[0m\u001b[0;34m.\u001b[0m\u001b[0m_should_curry\u001b[0m\u001b[0;34m(\u001b[0m\u001b[0margs\u001b[0m\u001b[0;34m,\u001b[0m \u001b[0mkwargs\u001b[0m\u001b[0;34m,\u001b[0m \u001b[0mexc\u001b[0m\u001b[0;34m)\u001b[0m\u001b[0;34m:\u001b[0m\u001b[0;34m\u001b[0m\u001b[0;34m\u001b[0m\u001b[0m\n",
      "\u001b[0;32m/opt/hostedtoolcache/Python/3.6.15/x64/lib/python3.6/site-packages/altair/vegalite/data.py\u001b[0m in \u001b[0;36mdefault_data_transformer\u001b[0;34m(data, max_rows)\u001b[0m\n\u001b[1;32m     17\u001b[0m \u001b[0;34m@\u001b[0m\u001b[0mcurried\u001b[0m\u001b[0;34m.\u001b[0m\u001b[0mcurry\u001b[0m\u001b[0;34m\u001b[0m\u001b[0;34m\u001b[0m\u001b[0m\n\u001b[1;32m     18\u001b[0m \u001b[0;32mdef\u001b[0m \u001b[0mdefault_data_transformer\u001b[0m\u001b[0;34m(\u001b[0m\u001b[0mdata\u001b[0m\u001b[0;34m,\u001b[0m \u001b[0mmax_rows\u001b[0m\u001b[0;34m=\u001b[0m\u001b[0;36m5000\u001b[0m\u001b[0;34m)\u001b[0m\u001b[0;34m:\u001b[0m\u001b[0;34m\u001b[0m\u001b[0;34m\u001b[0m\u001b[0m\n\u001b[0;32m---> 19\u001b[0;31m     \u001b[0;32mreturn\u001b[0m \u001b[0mcurried\u001b[0m\u001b[0;34m.\u001b[0m\u001b[0mpipe\u001b[0m\u001b[0;34m(\u001b[0m\u001b[0mdata\u001b[0m\u001b[0;34m,\u001b[0m \u001b[0mlimit_rows\u001b[0m\u001b[0;34m(\u001b[0m\u001b[0mmax_rows\u001b[0m\u001b[0;34m=\u001b[0m\u001b[0mmax_rows\u001b[0m\u001b[0;34m)\u001b[0m\u001b[0;34m,\u001b[0m \u001b[0mto_values\u001b[0m\u001b[0;34m)\u001b[0m\u001b[0;34m\u001b[0m\u001b[0;34m\u001b[0m\u001b[0m\n\u001b[0m\u001b[1;32m     20\u001b[0m \u001b[0;34m\u001b[0m\u001b[0m\n\u001b[1;32m     21\u001b[0m \u001b[0;34m\u001b[0m\u001b[0m\n",
      "\u001b[0;32m/opt/hostedtoolcache/Python/3.6.15/x64/lib/python3.6/site-packages/toolz/functoolz.py\u001b[0m in \u001b[0;36mpipe\u001b[0;34m(data, *funcs)\u001b[0m\n\u001b[1;32m    628\u001b[0m     \"\"\"\n\u001b[1;32m    629\u001b[0m     \u001b[0;32mfor\u001b[0m \u001b[0mfunc\u001b[0m \u001b[0;32min\u001b[0m \u001b[0mfuncs\u001b[0m\u001b[0;34m:\u001b[0m\u001b[0;34m\u001b[0m\u001b[0;34m\u001b[0m\u001b[0m\n\u001b[0;32m--> 630\u001b[0;31m         \u001b[0mdata\u001b[0m \u001b[0;34m=\u001b[0m \u001b[0mfunc\u001b[0m\u001b[0;34m(\u001b[0m\u001b[0mdata\u001b[0m\u001b[0;34m)\u001b[0m\u001b[0;34m\u001b[0m\u001b[0;34m\u001b[0m\u001b[0m\n\u001b[0m\u001b[1;32m    631\u001b[0m     \u001b[0;32mreturn\u001b[0m \u001b[0mdata\u001b[0m\u001b[0;34m\u001b[0m\u001b[0;34m\u001b[0m\u001b[0m\n\u001b[1;32m    632\u001b[0m \u001b[0;34m\u001b[0m\u001b[0m\n",
      "\u001b[0;32m/opt/hostedtoolcache/Python/3.6.15/x64/lib/python3.6/site-packages/toolz/functoolz.py\u001b[0m in \u001b[0;36m__call__\u001b[0;34m(self, *args, **kwargs)\u001b[0m\n\u001b[1;32m    304\u001b[0m     \u001b[0;32mdef\u001b[0m \u001b[0m__call__\u001b[0m\u001b[0;34m(\u001b[0m\u001b[0mself\u001b[0m\u001b[0;34m,\u001b[0m \u001b[0;34m*\u001b[0m\u001b[0margs\u001b[0m\u001b[0;34m,\u001b[0m \u001b[0;34m**\u001b[0m\u001b[0mkwargs\u001b[0m\u001b[0;34m)\u001b[0m\u001b[0;34m:\u001b[0m\u001b[0;34m\u001b[0m\u001b[0;34m\u001b[0m\u001b[0m\n\u001b[1;32m    305\u001b[0m         \u001b[0;32mtry\u001b[0m\u001b[0;34m:\u001b[0m\u001b[0;34m\u001b[0m\u001b[0;34m\u001b[0m\u001b[0m\n\u001b[0;32m--> 306\u001b[0;31m             \u001b[0;32mreturn\u001b[0m \u001b[0mself\u001b[0m\u001b[0;34m.\u001b[0m\u001b[0m_partial\u001b[0m\u001b[0;34m(\u001b[0m\u001b[0;34m*\u001b[0m\u001b[0margs\u001b[0m\u001b[0;34m,\u001b[0m \u001b[0;34m**\u001b[0m\u001b[0mkwargs\u001b[0m\u001b[0;34m)\u001b[0m\u001b[0;34m\u001b[0m\u001b[0;34m\u001b[0m\u001b[0m\n\u001b[0m\u001b[1;32m    307\u001b[0m         \u001b[0;32mexcept\u001b[0m \u001b[0mTypeError\u001b[0m \u001b[0;32mas\u001b[0m \u001b[0mexc\u001b[0m\u001b[0;34m:\u001b[0m\u001b[0;34m\u001b[0m\u001b[0;34m\u001b[0m\u001b[0m\n\u001b[1;32m    308\u001b[0m             \u001b[0;32mif\u001b[0m \u001b[0mself\u001b[0m\u001b[0;34m.\u001b[0m\u001b[0m_should_curry\u001b[0m\u001b[0;34m(\u001b[0m\u001b[0margs\u001b[0m\u001b[0;34m,\u001b[0m \u001b[0mkwargs\u001b[0m\u001b[0;34m,\u001b[0m \u001b[0mexc\u001b[0m\u001b[0;34m)\u001b[0m\u001b[0;34m:\u001b[0m\u001b[0;34m\u001b[0m\u001b[0;34m\u001b[0m\u001b[0m\n",
      "\u001b[0;32m/opt/hostedtoolcache/Python/3.6.15/x64/lib/python3.6/site-packages/altair/utils/data.py\u001b[0m in \u001b[0;36mlimit_rows\u001b[0;34m(data, max_rows)\u001b[0m\n\u001b[1;32m     82\u001b[0m             \u001b[0;34m\"than the maximum allowed ({}). \"\u001b[0m\u001b[0;34m\u001b[0m\u001b[0;34m\u001b[0m\u001b[0m\n\u001b[1;32m     83\u001b[0m             \u001b[0;34m\"For information on how to plot larger datasets \"\u001b[0m\u001b[0;34m\u001b[0m\u001b[0;34m\u001b[0m\u001b[0m\n\u001b[0;32m---> 84\u001b[0;31m             \u001b[0;34m\"in Altair, see the documentation\"\u001b[0m\u001b[0;34m.\u001b[0m\u001b[0mformat\u001b[0m\u001b[0;34m(\u001b[0m\u001b[0mmax_rows\u001b[0m\u001b[0;34m)\u001b[0m\u001b[0;34m\u001b[0m\u001b[0;34m\u001b[0m\u001b[0m\n\u001b[0m\u001b[1;32m     85\u001b[0m         )\n\u001b[1;32m     86\u001b[0m     \u001b[0;32mreturn\u001b[0m \u001b[0mdata\u001b[0m\u001b[0;34m\u001b[0m\u001b[0;34m\u001b[0m\u001b[0m\n",
      "\u001b[0;31mMaxRowsError\u001b[0m: The number of rows in your dataset is greater than the maximum allowed (5000). For information on how to plot larger datasets in Altair, see the documentation"
     ]
    },
    {
     "data": {
      "text/plain": [
       "alt.VConcatChart(...)"
      ]
     },
     "execution_count": 1,
     "metadata": {},
     "output_type": "execute_result"
    }
   ],
   "source": [
    "brush = alt.selection(type=\"interval\")\n",
    "chart = (\n",
    "    alt.Chart(data)\n",
    "    .mark_area()\n",
    "    .encode(\n",
    "        x=alt.X(\"index:T\", axis=alt.Axis(tickCount=24, title=\"Date\")),\n",
    "        y=\"sum(count):Q\",\n",
    "        color=alt.Color(\"variable_0:N\", title=\"Repository\"),\n",
    "     \n",
    "    )\n",
    "    .transform_filter(alt.FieldEqualPredicate(field=\"variable_1\", equal=\"total_clones\"))\n",
    "    .properties(width=WIDTH, title=\"Total clones\")\n",
    "    .add_selection(brush)\n",
    ")\n",
    "\n",
    "bar = (\n",
    "    alt.Chart(data)\n",
    "    .mark_bar()\n",
    "    .encode(\n",
    "        y=alt.Y(\"variable_1:N\", title=None),\n",
    "        x=\"count:Q\",\n",
    "        color=alt.Color(\"variable_0:N\", title=\"Repository\"),tooltip=\"count:Q\"\n",
    "    )\n",
    "    .properties(title=\"Clons by type\")\n",
    "    .transform_filter(brush)\n",
    ")\n",
    "\n",
    "chart & bar"
   ]
  },
  {
   "cell_type": "markdown",
   "metadata": {},
   "source": [
    "### Total clones counts by repository "
   ]
  },
  {
   "cell_type": "code",
   "execution_count": 31,
   "metadata": {
    "execution": {
     "iopub.execute_input": "2022-06-27T08:37:33.098847Z",
     "iopub.status.busy": "2022-06-27T08:37:33.098161Z",
     "iopub.status.idle": "2022-06-27T08:37:36.837854Z",
     "shell.execute_reply": "2022-06-27T08:37:36.838364Z"
    }
   },
   "outputs": [
    {
     "data": {
      "text/html": [
       "<div>\n",
       "<style scoped>\n",
       "    .dataframe tbody tr th:only-of-type {\n",
       "        vertical-align: middle;\n",
       "    }\n",
       "\n",
       "    .dataframe tbody tr th {\n",
       "        vertical-align: top;\n",
       "    }\n",
       "\n",
       "    .dataframe thead th {\n",
       "        text-align: right;\n",
       "    }\n",
       "</style>\n",
       "<table border=\"1\" class=\"dataframe\">\n",
       "  <thead>\n",
       "    <tr style=\"text-align: right;\">\n",
       "      <th></th>\n",
       "      <th></th>\n",
       "      <th>Clone counts</th>\n",
       "    </tr>\n",
       "  </thead>\n",
       "  <tbody>\n",
       "    <tr>\n",
       "      <th rowspan=\"2\" valign=\"top\">lwm_ARTIDIGH_2020_OCR_impact_downstream_NLP_tasks</th>\n",
       "      <th>total_clones</th>\n",
       "      <td>67</td>\n",
       "    </tr>\n",
       "    <tr>\n",
       "      <th>unique_clones</th>\n",
       "      <td>57</td>\n",
       "    </tr>\n",
       "    <tr>\n",
       "      <th rowspan=\"2\" valign=\"top\">lwm_GIR19_resolving_places</th>\n",
       "      <th>total_clones</th>\n",
       "      <td>60</td>\n",
       "    </tr>\n",
       "    <tr>\n",
       "      <th>unique_clones</th>\n",
       "      <td>43</td>\n",
       "    </tr>\n",
       "    <tr>\n",
       "      <th>D3_JS_viz_in_a_Python_Jupyter_notebook</th>\n",
       "      <th>total_clones</th>\n",
       "      <td>559</td>\n",
       "    </tr>\n",
       "    <tr>\n",
       "      <th>...</th>\n",
       "      <th>...</th>\n",
       "      <td>...</td>\n",
       "    </tr>\n",
       "    <tr>\n",
       "      <th>image-search</th>\n",
       "      <th>unique_clones</th>\n",
       "      <td>15</td>\n",
       "    </tr>\n",
       "    <tr>\n",
       "      <th rowspan=\"2\" valign=\"top\">zooniverse-analysis-workshop</th>\n",
       "      <th>total_clones</th>\n",
       "      <td>50</td>\n",
       "    </tr>\n",
       "    <tr>\n",
       "      <th>unique_clones</th>\n",
       "      <td>29</td>\n",
       "    </tr>\n",
       "    <tr>\n",
       "      <th rowspan=\"2\" valign=\"top\">hmd_url_generator</th>\n",
       "      <th>total_clones</th>\n",
       "      <td>8</td>\n",
       "    </tr>\n",
       "    <tr>\n",
       "      <th>unique_clones</th>\n",
       "      <td>7</td>\n",
       "    </tr>\n",
       "  </tbody>\n",
       "</table>\n",
       "<p>62 rows × 1 columns</p>\n",
       "</div>"
      ],
      "text/plain": [
       "                                                                 Clone counts\n",
       "lwm_ARTIDIGH_2020_OCR_impact_downstream_NLP_tasks total_clones             67\n",
       "                                                  unique_clones            57\n",
       "lwm_GIR19_resolving_places                        total_clones             60\n",
       "                                                  unique_clones            43\n",
       "D3_JS_viz_in_a_Python_Jupyter_notebook            total_clones            559\n",
       "...                                                                       ...\n",
       "image-search                                      unique_clones            15\n",
       "zooniverse-analysis-workshop                      total_clones             50\n",
       "                                                  unique_clones            29\n",
       "hmd_url_generator                                 total_clones              8\n",
       "                                                  unique_clones             7\n",
       "\n",
       "[62 rows x 1 columns]"
      ]
     },
     "execution_count": 1,
     "metadata": {},
     "output_type": "execute_result"
    }
   ],
   "source": [
    "df = lwm_stats.get_org_clones_traffic(public_only=True, load=True)\n",
    "pd.DataFrame(df.sum().round(0).astype(int),columns=['Clone counts'])"
   ]
  }
 ],
 "metadata": {
  "kernelspec": {
   "display_name": "Python 3",
   "language": "python",
   "name": "python3"
  },
  "language_info": {
   "codemirror_mode": {
    "name": "ipython",
    "version": 3
   },
   "file_extension": ".py",
   "mimetype": "text/x-python",
   "name": "python",
   "nbconvert_exporter": "python",
   "pygments_lexer": "ipython3",
   "version": "3.6.15"
  }
 },
 "nbformat": 4,
 "nbformat_minor": 4
}
