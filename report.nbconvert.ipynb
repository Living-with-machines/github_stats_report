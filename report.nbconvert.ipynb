{
 "cells": [
  {
   "cell_type": "code",
   "execution_count": 1,
   "metadata": {
    "execution": {
     "iopub.execute_input": "2020-12-03T17:37:29.846049Z",
     "iopub.status.busy": "2020-12-03T17:37:29.844472Z",
     "iopub.status.idle": "2020-12-03T17:37:30.397425Z",
     "shell.execute_reply": "2020-12-03T17:37:30.396819Z"
    }
   },
   "outputs": [],
   "source": [
    "import os\n",
    "import datetime\n",
    "from dotenv import load_dotenv\n",
    "import pandas as pd\n",
    "import altair as alt"
   ]
  },
  {
   "cell_type": "code",
   "execution_count": 2,
   "metadata": {
    "execution": {
     "iopub.execute_input": "2020-12-03T17:37:30.402130Z",
     "iopub.status.busy": "2020-12-03T17:37:30.401365Z",
     "iopub.status.idle": "2020-12-03T17:37:30.405577Z",
     "shell.execute_reply": "2020-12-03T17:37:30.405030Z"
    }
   },
   "outputs": [],
   "source": [
    "pd.options.display.max_rows = 30"
   ]
  },
  {
   "cell_type": "code",
   "execution_count": 3,
   "metadata": {
    "execution": {
     "iopub.execute_input": "2020-12-03T17:37:30.410759Z",
     "iopub.status.busy": "2020-12-03T17:37:30.409343Z",
     "iopub.status.idle": "2020-12-03T17:37:30.411929Z",
     "shell.execute_reply": "2020-12-03T17:37:30.412660Z"
    }
   },
   "outputs": [],
   "source": [
    "WIDTH = 650"
   ]
  },
  {
   "cell_type": "code",
   "execution_count": 4,
   "metadata": {
    "execution": {
     "iopub.execute_input": "2020-12-03T17:37:30.419047Z",
     "iopub.status.busy": "2020-12-03T17:37:30.417486Z",
     "iopub.status.idle": "2020-12-03T17:37:30.419756Z",
     "shell.execute_reply": "2020-12-03T17:37:30.420287Z"
    }
   },
   "outputs": [],
   "source": [
    "from IPython.display import Markdown\n",
    "from IPython.core.magic import register_cell_magic\n",
    "\n",
    "@register_cell_magic\n",
    "def markdown(line, cell):\n",
    "    return Markdown(cell.format(**globals()))"
   ]
  },
  {
   "cell_type": "code",
   "execution_count": 5,
   "metadata": {
    "execution": {
     "iopub.execute_input": "2020-12-03T17:37:30.425419Z",
     "iopub.status.busy": "2020-12-03T17:37:30.424288Z",
     "iopub.status.idle": "2020-12-03T17:37:30.426651Z",
     "shell.execute_reply": "2020-12-03T17:37:30.427242Z"
    }
   },
   "outputs": [],
   "source": [
    "load_dotenv()\n",
    "GH_TOKEN = os.getenv(\"GH_TOKEN\")"
   ]
  },
  {
   "cell_type": "markdown",
   "metadata": {},
   "source": [
    "# Living with Machines GitHub Statistics report\n",
    "This report provides some high level statistics about GitHub repositories contained under the [Living with Machines Organization](https://github.com/Living-with-machines). The report is mainly intended to provide some stats to aid in reporting to our funder."
   ]
  },
  {
   "cell_type": "markdown",
   "metadata": {},
   "source": [
    "### Contents\n",
    "* [Report details](#report-details)\n",
    "* [Report statistics](#repo-stats)\n",
    "    * [Overview of repositories](#repo-overview)\n",
    "    * [Repository file content](#repo-content)\n",
    "    * [Stars and Forks](#repo-stars)\n",
    "    * [Views](#repo-views)\n",
    "    * [Clones](#repo-clones)"
   ]
  },
  {
   "cell_type": "markdown",
   "metadata": {},
   "source": [
    "## Report details <a class=\"anchor\" id=\"report-details\"></a>"
   ]
  },
  {
   "cell_type": "code",
   "execution_count": 6,
   "metadata": {
    "execution": {
     "iopub.execute_input": "2020-12-03T17:37:30.440360Z",
     "iopub.status.busy": "2020-12-03T17:37:30.439206Z",
     "iopub.status.idle": "2020-12-03T17:37:30.444936Z",
     "shell.execute_reply": "2020-12-03T17:37:30.444371Z"
    }
   },
   "outputs": [
    {
     "data": {
      "text/markdown": [
       "This report is updated automatically every week, last generated on: **2020-12-03**"
      ],
      "text/plain": [
       "<IPython.core.display.Markdown object>"
      ]
     },
     "execution_count": 1,
     "metadata": {},
     "output_type": "execute_result"
    }
   ],
   "source": [
    "Markdown(f\"This report is updated automatically every week, last generated on: **{datetime.date.today()}**\")"
   ]
  },
  {
   "cell_type": "code",
   "execution_count": 7,
   "metadata": {
    "execution": {
     "iopub.execute_input": "2020-12-03T17:37:30.449676Z",
     "iopub.status.busy": "2020-12-03T17:37:30.449007Z",
     "iopub.status.idle": "2020-12-03T17:37:30.572649Z",
     "shell.execute_reply": "2020-12-03T17:37:30.571973Z"
    }
   },
   "outputs": [],
   "source": [
    "from gh_orgstats.stats import *"
   ]
  },
  {
   "cell_type": "code",
   "execution_count": 8,
   "metadata": {
    "execution": {
     "iopub.execute_input": "2020-12-03T17:37:30.581209Z",
     "iopub.status.busy": "2020-12-03T17:37:30.580527Z",
     "iopub.status.idle": "2020-12-03T17:37:30.715805Z",
     "shell.execute_reply": "2020-12-03T17:37:30.715158Z"
    }
   },
   "outputs": [],
   "source": [
    "lwm_stats = OrgStats(GH_TOKEN, \"Living-with-machines\")"
   ]
  },
  {
   "cell_type": "code",
   "execution_count": 9,
   "metadata": {
    "execution": {
     "iopub.execute_input": "2020-12-03T17:37:30.723490Z",
     "iopub.status.busy": "2020-12-03T17:37:30.722785Z",
     "iopub.status.idle": "2020-12-03T17:37:31.121011Z",
     "shell.execute_reply": "2020-12-03T17:37:31.120398Z"
    }
   },
   "outputs": [],
   "source": [
    "public_names = [repo.name for repo in lwm_stats.public_repos]"
   ]
  },
  {
   "cell_type": "markdown",
   "metadata": {},
   "source": [
    "# Repository Statistics <a class=\"anchor\" id=\"repo-stats\"></a>\n",
    "\n",
    "The rest of this document outlines some high level stats for GitHub repositories under the Living with Machines [GitHub Organization](github.com/living-with-machines)."
   ]
  },
  {
   "cell_type": "markdown",
   "metadata": {},
   "source": [
    "## Overview of repositories <a class=\"anchor\" id=\"repo-overview\"></a>\n",
    "\n",
    "Currently Living with Machines has the following public repositories: "
   ]
  },
  {
   "cell_type": "code",
   "execution_count": 10,
   "metadata": {
    "execution": {
     "iopub.execute_input": "2020-12-03T17:37:31.134496Z",
     "iopub.status.busy": "2020-12-03T17:37:31.125405Z",
     "iopub.status.idle": "2020-12-03T17:37:31.142076Z",
     "shell.execute_reply": "2020-12-03T17:37:31.141420Z"
    }
   },
   "outputs": [
    {
     "data": {
      "text/html": [
       "<div>\n",
       "<style scoped>\n",
       "    .dataframe tbody tr th:only-of-type {\n",
       "        vertical-align: middle;\n",
       "    }\n",
       "\n",
       "    .dataframe tbody tr th {\n",
       "        vertical-align: top;\n",
       "    }\n",
       "\n",
       "    .dataframe thead th {\n",
       "        text-align: right;\n",
       "    }\n",
       "</style>\n",
       "<table border=\"1\" class=\"dataframe\">\n",
       "  <thead>\n",
       "    <tr style=\"text-align: right;\">\n",
       "      <th></th>\n",
       "      <th>Repositories</th>\n",
       "    </tr>\n",
       "  </thead>\n",
       "  <tbody>\n",
       "    <tr>\n",
       "      <th>1</th>\n",
       "      <td>lwm_ARTIDIGH_2020_OCR_impact_downstream_NLP_tasks</td>\n",
       "    </tr>\n",
       "    <tr>\n",
       "      <th>2</th>\n",
       "      <td>lwm_GIR19_resolving_places</td>\n",
       "    </tr>\n",
       "    <tr>\n",
       "      <th>3</th>\n",
       "      <td>D3_JS_viz_in_a_Python_Jupyter_notebook</td>\n",
       "    </tr>\n",
       "    <tr>\n",
       "      <th>4</th>\n",
       "      <td>DeezyMatch</td>\n",
       "    </tr>\n",
       "    <tr>\n",
       "      <th>5</th>\n",
       "      <td>LwM_SIGSPATIAL2020_ToponymMatching</td>\n",
       "    </tr>\n",
       "    <tr>\n",
       "      <th>6</th>\n",
       "      <td>AzureAudit</td>\n",
       "    </tr>\n",
       "    <tr>\n",
       "      <th>7</th>\n",
       "      <td>maps-at-scale-hack-day-notebooks</td>\n",
       "    </tr>\n",
       "    <tr>\n",
       "      <th>8</th>\n",
       "      <td>deduplify</td>\n",
       "    </tr>\n",
       "    <tr>\n",
       "      <th>9</th>\n",
       "      <td>AtypicalAnimacy</td>\n",
       "    </tr>\n",
       "    <tr>\n",
       "      <th>10</th>\n",
       "      <td>computer-vision-DHNordic-2020-workshop</td>\n",
       "    </tr>\n",
       "    <tr>\n",
       "      <th>11</th>\n",
       "      <td>maps-at-scale-using-computer-vision-and-jupyte...</td>\n",
       "    </tr>\n",
       "    <tr>\n",
       "      <th>12</th>\n",
       "      <td>gh_orgstats</td>\n",
       "    </tr>\n",
       "    <tr>\n",
       "      <th>13</th>\n",
       "      <td>GazFuse</td>\n",
       "    </tr>\n",
       "  </tbody>\n",
       "</table>\n",
       "</div>"
      ],
      "text/plain": [
       "                                         Repositories\n",
       "1   lwm_ARTIDIGH_2020_OCR_impact_downstream_NLP_tasks\n",
       "2                          lwm_GIR19_resolving_places\n",
       "3              D3_JS_viz_in_a_Python_Jupyter_notebook\n",
       "4                                          DeezyMatch\n",
       "5                  LwM_SIGSPATIAL2020_ToponymMatching\n",
       "6                                          AzureAudit\n",
       "7                    maps-at-scale-hack-day-notebooks\n",
       "8                                           deduplify\n",
       "9                                     AtypicalAnimacy\n",
       "10             computer-vision-DHNordic-2020-workshop\n",
       "11  maps-at-scale-using-computer-vision-and-jupyte...\n",
       "12                                        gh_orgstats\n",
       "13                                            GazFuse"
      ]
     },
     "execution_count": 1,
     "metadata": {},
     "output_type": "execute_result"
    }
   ],
   "source": [
    "df = pd.DataFrame(public_names,columns=['Repositories']); df.index +=1 \n",
    "df"
   ]
  },
  {
   "cell_type": "code",
   "execution_count": 11,
   "metadata": {
    "execution": {
     "iopub.execute_input": "2020-12-03T17:37:31.149116Z",
     "iopub.status.busy": "2020-12-03T17:37:31.148471Z",
     "iopub.status.idle": "2020-12-03T17:37:31.570674Z",
     "shell.execute_reply": "2020-12-03T17:37:31.571262Z"
    }
   },
   "outputs": [
    {
     "data": {
      "text/markdown": [
       "Additionaly Living with Machines has 12 private repositories which have not yet been published\n"
      ],
      "text/plain": [
       "<IPython.core.display.Markdown object>"
      ]
     },
     "execution_count": 1,
     "metadata": {},
     "output_type": "execute_result"
    }
   ],
   "source": [
    "%%markdown\n",
    "Additionaly Living with Machines has {lwm_stats.private_repo_count} private repositories which have not yet been published"
   ]
  },
  {
   "cell_type": "markdown",
   "metadata": {},
   "source": [
    "## Repository file content <a class=\"anchor\" id=\"repo-content\"></a>\n",
    "This section provides an overview of what type of content is in Living with Machines repositories by looking at the file extension counts **note that these counts are based only on default branches so will under count for private repositories**"
   ]
  },
  {
   "cell_type": "code",
   "execution_count": 12,
   "metadata": {
    "execution": {
     "iopub.execute_input": "2020-12-03T17:37:31.578765Z",
     "iopub.status.busy": "2020-12-03T17:37:31.578100Z",
     "iopub.status.idle": "2020-12-03T17:37:46.882555Z",
     "shell.execute_reply": "2020-12-03T17:37:46.881488Z"
    }
   },
   "outputs": [],
   "source": [
    "df = pd.DataFrame.from_dict(lwm_stats.get_org_file_ext_frequency(\"public\"))\n",
    "df_private = pd.DataFrame.from_dict(lwm_stats.get_org_file_ext_frequency(\"private\"))"
   ]
  },
  {
   "cell_type": "code",
   "execution_count": 13,
   "metadata": {
    "execution": {
     "iopub.execute_input": "2020-12-03T17:37:46.889033Z",
     "iopub.status.busy": "2020-12-03T17:37:46.888302Z",
     "iopub.status.idle": "2020-12-03T17:37:46.893023Z",
     "shell.execute_reply": "2020-12-03T17:37:46.892041Z"
    }
   },
   "outputs": [],
   "source": [
    "public_notebook_count = round(df.loc['.ipynb'].sum())\n",
    "private_notebook_count = round(df_private.loc['.ipynb'].sum())"
   ]
  },
  {
   "cell_type": "markdown",
   "metadata": {},
   "source": [
    "### Number of Jupyter notebooks\n",
    "Living with Machines has promised a particular focus on making methods available to other researchers, one way in which the project is aiming to this is through the production of Jupyter notebooks. "
   ]
  },
  {
   "cell_type": "code",
   "execution_count": 14,
   "metadata": {
    "execution": {
     "iopub.execute_input": "2020-12-03T17:37:46.898633Z",
     "iopub.status.busy": "2020-12-03T17:37:46.897532Z",
     "iopub.status.idle": "2020-12-03T17:37:46.904934Z",
     "shell.execute_reply": "2020-12-03T17:37:46.904389Z"
    }
   },
   "outputs": [
    {
     "data": {
      "text/markdown": [
       "Living with Machines currently has 58 Jupyter notebooks in public repositories and 23 in private repositories.\n"
      ],
      "text/plain": [
       "<IPython.core.display.Markdown object>"
      ]
     },
     "execution_count": 1,
     "metadata": {},
     "output_type": "execute_result"
    }
   ],
   "source": [
    "%%markdown\n",
    "Living with Machines currently has {public_notebook_count} Jupyter notebooks in public repositories and {private_notebook_count} in private repositories."
   ]
  },
  {
   "cell_type": "markdown",
   "metadata": {},
   "source": [
    "### File extensions counts by repository"
   ]
  },
  {
   "cell_type": "code",
   "execution_count": 15,
   "metadata": {
    "execution": {
     "iopub.execute_input": "2020-12-03T17:37:46.936257Z",
     "iopub.status.busy": "2020-12-03T17:37:46.929731Z",
     "iopub.status.idle": "2020-12-03T17:37:46.974385Z",
     "shell.execute_reply": "2020-12-03T17:37:46.973823Z"
    }
   },
   "outputs": [
    {
     "data": {
      "text/html": [
       "\n",
       "<div id=\"altair-viz-a7e837963ca64e5ab12fa139ffacaa93\"></div>\n",
       "<script type=\"text/javascript\">\n",
       "  (function(spec, embedOpt){\n",
       "    let outputDiv = document.currentScript.previousElementSibling;\n",
       "    if (outputDiv.id !== \"altair-viz-a7e837963ca64e5ab12fa139ffacaa93\") {\n",
       "      outputDiv = document.getElementById(\"altair-viz-a7e837963ca64e5ab12fa139ffacaa93\");\n",
       "    }\n",
       "    const paths = {\n",
       "      \"vega\": \"https://cdn.jsdelivr.net/npm//vega@5?noext\",\n",
       "      \"vega-lib\": \"https://cdn.jsdelivr.net/npm//vega-lib?noext\",\n",
       "      \"vega-lite\": \"https://cdn.jsdelivr.net/npm//vega-lite@4.8.1?noext\",\n",
       "      \"vega-embed\": \"https://cdn.jsdelivr.net/npm//vega-embed@6?noext\",\n",
       "    };\n",
       "\n",
       "    function loadScript(lib) {\n",
       "      return new Promise(function(resolve, reject) {\n",
       "        var s = document.createElement('script');\n",
       "        s.src = paths[lib];\n",
       "        s.async = true;\n",
       "        s.onload = () => resolve(paths[lib]);\n",
       "        s.onerror = () => reject(`Error loading script: ${paths[lib]}`);\n",
       "        document.getElementsByTagName(\"head\")[0].appendChild(s);\n",
       "      });\n",
       "    }\n",
       "\n",
       "    function showError(err) {\n",
       "      outputDiv.innerHTML = `<div class=\"error\" style=\"color:red;\">${err}</div>`;\n",
       "      throw err;\n",
       "    }\n",
       "\n",
       "    function displayChart(vegaEmbed) {\n",
       "      vegaEmbed(outputDiv, spec, embedOpt)\n",
       "        .catch(err => showError(`Javascript Error: ${err.message}<br>This usually means there's a typo in your chart specification. See the javascript console for the full traceback.`));\n",
       "    }\n",
       "\n",
       "    if(typeof define === \"function\" && define.amd) {\n",
       "      requirejs.config({paths});\n",
       "      require([\"vega-embed\"], displayChart, err => showError(`Error loading script: ${err.message}`));\n",
       "    } else if (typeof vegaEmbed === \"function\") {\n",
       "      displayChart(vegaEmbed);\n",
       "    } else {\n",
       "      loadScript(\"vega\")\n",
       "        .then(() => loadScript(\"vega-lite\"))\n",
       "        .then(() => loadScript(\"vega-embed\"))\n",
       "        .catch(showError)\n",
       "        .then(() => displayChart(vegaEmbed));\n",
       "    }\n",
       "  })({\"config\": {\"view\": {\"continuousWidth\": 400, \"continuousHeight\": 300}}, \"data\": {\"name\": \"data-a98e18739e05e90afc4966fe31e11517\"}, \"mark\": \"bar\", \"encoding\": {\"color\": {\"type\": \"nominal\", \"field\": \"variable\", \"title\": \"Repository\"}, \"tooltip\": [{\"type\": \"nominal\", \"field\": \"variable\", \"title\": \"Repository\"}, {\"type\": \"quantitative\", \"field\": \"count\"}], \"x\": {\"type\": \"quantitative\", \"field\": \"count\"}, \"y\": {\"type\": \"nominal\", \"field\": \"index\", \"sort\": {\"field\": \"count\", \"op\": \"sum\", \"order\": \"descending\"}, \"title\": null}}, \"title\": \"File Extension Counts\", \"width\": 650, \"$schema\": \"https://vega.github.io/schema/vega-lite/v4.8.1.json\", \"datasets\": {\"data-a98e18739e05e90afc4966fe31e11517\": [{\"index\": \".md\", \"variable\": \"lwm_ARTIDIGH_2020_OCR_impact_downstream_NLP_tasks\", \"count\": 1.0}, {\"index\": \".ipynb\", \"variable\": \"lwm_ARTIDIGH_2020_OCR_impact_downstream_NLP_tasks\", \"count\": 14.0}, {\"index\": \".yml\", \"variable\": \"lwm_ARTIDIGH_2020_OCR_impact_downstream_NLP_tasks\", \"count\": 1.0}, {\"index\": \".png\", \"variable\": \"lwm_ARTIDIGH_2020_OCR_impact_downstream_NLP_tasks\", \"count\": 4.0}, {\"index\": \".pdf\", \"variable\": \"lwm_ARTIDIGH_2020_OCR_impact_downstream_NLP_tasks\", \"count\": 16.0}, {\"index\": \".py\", \"variable\": \"lwm_ARTIDIGH_2020_OCR_impact_downstream_NLP_tasks\", \"count\": null}, {\"index\": \".pkl\", \"variable\": \"lwm_ARTIDIGH_2020_OCR_impact_downstream_NLP_tasks\", \"count\": null}, {\"index\": \".gif\", \"variable\": \"lwm_ARTIDIGH_2020_OCR_impact_downstream_NLP_tasks\", \"count\": null}, {\"index\": \".json\", \"variable\": \"lwm_ARTIDIGH_2020_OCR_impact_downstream_NLP_tasks\", \"count\": null}, {\"index\": \".txt\", \"variable\": \"lwm_ARTIDIGH_2020_OCR_impact_downstream_NLP_tasks\", \"count\": null}, {\"index\": \".html\", \"variable\": \"lwm_ARTIDIGH_2020_OCR_impact_downstream_NLP_tasks\", \"count\": null}, {\"index\": \".js\", \"variable\": \"lwm_ARTIDIGH_2020_OCR_impact_downstream_NLP_tasks\", \"count\": null}, {\"index\": \".vocab\", \"variable\": \"lwm_ARTIDIGH_2020_OCR_impact_downstream_NLP_tasks\", \"count\": null}, {\"index\": \".yaml\", \"variable\": \"lwm_ARTIDIGH_2020_OCR_impact_downstream_NLP_tasks\", \"count\": null}, {\"index\": \".jpg\", \"variable\": \"lwm_ARTIDIGH_2020_OCR_impact_downstream_NLP_tasks\", \"count\": null}, {\"index\": \".zip\", \"variable\": \"lwm_ARTIDIGH_2020_OCR_impact_downstream_NLP_tasks\", \"count\": null}, {\"index\": \".in\", \"variable\": \"lwm_ARTIDIGH_2020_OCR_impact_downstream_NLP_tasks\", \"count\": null}, {\"index\": \".ini\", \"variable\": \"lwm_ARTIDIGH_2020_OCR_impact_downstream_NLP_tasks\", \"count\": null}, {\"index\": \".lock\", \"variable\": \"lwm_ARTIDIGH_2020_OCR_impact_downstream_NLP_tasks\", \"count\": null}, {\"index\": \".xml\", \"variable\": \"lwm_ARTIDIGH_2020_OCR_impact_downstream_NLP_tasks\", \"count\": null}, {\"index\": \".css\", \"variable\": \"lwm_ARTIDIGH_2020_OCR_impact_downstream_NLP_tasks\", \"count\": null}, {\"index\": \".otf\", \"variable\": \"lwm_ARTIDIGH_2020_OCR_impact_downstream_NLP_tasks\", \"count\": null}, {\"index\": \".eot\", \"variable\": \"lwm_ARTIDIGH_2020_OCR_impact_downstream_NLP_tasks\", \"count\": null}, {\"index\": \".svg\", \"variable\": \"lwm_ARTIDIGH_2020_OCR_impact_downstream_NLP_tasks\", \"count\": null}, {\"index\": \".ttf\", \"variable\": \"lwm_ARTIDIGH_2020_OCR_impact_downstream_NLP_tasks\", \"count\": null}, {\"index\": \".woff\", \"variable\": \"lwm_ARTIDIGH_2020_OCR_impact_downstream_NLP_tasks\", \"count\": null}, {\"index\": \".woff2\", \"variable\": \"lwm_ARTIDIGH_2020_OCR_impact_downstream_NLP_tasks\", \"count\": null}, {\"index\": \".ico\", \"variable\": \"lwm_ARTIDIGH_2020_OCR_impact_downstream_NLP_tasks\", \"count\": null}, {\"index\": \".md\", \"variable\": \"lwm_GIR19_resolving_places\", \"count\": 2.0}, {\"index\": \".ipynb\", \"variable\": \"lwm_GIR19_resolving_places\", \"count\": 2.0}, {\"index\": \".yml\", \"variable\": \"lwm_GIR19_resolving_places\", \"count\": 1.0}, {\"index\": \".png\", \"variable\": \"lwm_GIR19_resolving_places\", \"count\": null}, {\"index\": \".pdf\", \"variable\": \"lwm_GIR19_resolving_places\", \"count\": null}, {\"index\": \".py\", \"variable\": \"lwm_GIR19_resolving_places\", \"count\": 2.0}, {\"index\": \".pkl\", \"variable\": \"lwm_GIR19_resolving_places\", \"count\": 1.0}, {\"index\": \".gif\", \"variable\": \"lwm_GIR19_resolving_places\", \"count\": null}, {\"index\": \".json\", \"variable\": \"lwm_GIR19_resolving_places\", \"count\": null}, {\"index\": \".txt\", \"variable\": \"lwm_GIR19_resolving_places\", \"count\": null}, {\"index\": \".html\", \"variable\": \"lwm_GIR19_resolving_places\", \"count\": null}, {\"index\": \".js\", \"variable\": \"lwm_GIR19_resolving_places\", \"count\": null}, {\"index\": \".vocab\", \"variable\": \"lwm_GIR19_resolving_places\", \"count\": null}, {\"index\": \".yaml\", \"variable\": \"lwm_GIR19_resolving_places\", \"count\": null}, {\"index\": \".jpg\", \"variable\": \"lwm_GIR19_resolving_places\", \"count\": null}, {\"index\": \".zip\", \"variable\": \"lwm_GIR19_resolving_places\", \"count\": null}, {\"index\": \".in\", \"variable\": \"lwm_GIR19_resolving_places\", \"count\": null}, {\"index\": \".ini\", \"variable\": \"lwm_GIR19_resolving_places\", \"count\": null}, {\"index\": \".lock\", \"variable\": \"lwm_GIR19_resolving_places\", \"count\": null}, {\"index\": \".xml\", \"variable\": \"lwm_GIR19_resolving_places\", \"count\": null}, {\"index\": \".css\", \"variable\": \"lwm_GIR19_resolving_places\", \"count\": null}, {\"index\": \".otf\", \"variable\": \"lwm_GIR19_resolving_places\", \"count\": null}, {\"index\": \".eot\", \"variable\": \"lwm_GIR19_resolving_places\", \"count\": null}, {\"index\": \".svg\", \"variable\": \"lwm_GIR19_resolving_places\", \"count\": null}, {\"index\": \".ttf\", \"variable\": \"lwm_GIR19_resolving_places\", \"count\": null}, {\"index\": \".woff\", \"variable\": \"lwm_GIR19_resolving_places\", \"count\": null}, {\"index\": \".woff2\", \"variable\": \"lwm_GIR19_resolving_places\", \"count\": null}, {\"index\": \".ico\", \"variable\": \"lwm_GIR19_resolving_places\", \"count\": null}, {\"index\": \".md\", \"variable\": \"D3_JS_viz_in_a_Python_Jupyter_notebook\", \"count\": 2.0}, {\"index\": \".ipynb\", \"variable\": \"D3_JS_viz_in_a_Python_Jupyter_notebook\", \"count\": 2.0}, {\"index\": \".yml\", \"variable\": \"D3_JS_viz_in_a_Python_Jupyter_notebook\", \"count\": 1.0}, {\"index\": \".png\", \"variable\": \"D3_JS_viz_in_a_Python_Jupyter_notebook\", \"count\": null}, {\"index\": \".pdf\", \"variable\": \"D3_JS_viz_in_a_Python_Jupyter_notebook\", \"count\": null}, {\"index\": \".py\", \"variable\": \"D3_JS_viz_in_a_Python_Jupyter_notebook\", \"count\": null}, {\"index\": \".pkl\", \"variable\": \"D3_JS_viz_in_a_Python_Jupyter_notebook\", \"count\": null}, {\"index\": \".gif\", \"variable\": \"D3_JS_viz_in_a_Python_Jupyter_notebook\", \"count\": 1.0}, {\"index\": \".json\", \"variable\": \"D3_JS_viz_in_a_Python_Jupyter_notebook\", \"count\": 1.0}, {\"index\": \".txt\", \"variable\": \"D3_JS_viz_in_a_Python_Jupyter_notebook\", \"count\": 1.0}, {\"index\": \".html\", \"variable\": \"D3_JS_viz_in_a_Python_Jupyter_notebook\", \"count\": 1.0}, {\"index\": \".js\", \"variable\": \"D3_JS_viz_in_a_Python_Jupyter_notebook\", \"count\": 1.0}, {\"index\": \".vocab\", \"variable\": \"D3_JS_viz_in_a_Python_Jupyter_notebook\", \"count\": null}, {\"index\": \".yaml\", \"variable\": \"D3_JS_viz_in_a_Python_Jupyter_notebook\", \"count\": null}, {\"index\": \".jpg\", \"variable\": \"D3_JS_viz_in_a_Python_Jupyter_notebook\", \"count\": null}, {\"index\": \".zip\", \"variable\": \"D3_JS_viz_in_a_Python_Jupyter_notebook\", \"count\": null}, {\"index\": \".in\", \"variable\": \"D3_JS_viz_in_a_Python_Jupyter_notebook\", \"count\": null}, {\"index\": \".ini\", \"variable\": \"D3_JS_viz_in_a_Python_Jupyter_notebook\", \"count\": null}, {\"index\": \".lock\", \"variable\": \"D3_JS_viz_in_a_Python_Jupyter_notebook\", \"count\": null}, {\"index\": \".xml\", \"variable\": \"D3_JS_viz_in_a_Python_Jupyter_notebook\", \"count\": null}, {\"index\": \".css\", \"variable\": \"D3_JS_viz_in_a_Python_Jupyter_notebook\", \"count\": null}, {\"index\": \".otf\", \"variable\": \"D3_JS_viz_in_a_Python_Jupyter_notebook\", \"count\": null}, {\"index\": \".eot\", \"variable\": \"D3_JS_viz_in_a_Python_Jupyter_notebook\", \"count\": null}, {\"index\": \".svg\", \"variable\": \"D3_JS_viz_in_a_Python_Jupyter_notebook\", \"count\": null}, {\"index\": \".ttf\", \"variable\": \"D3_JS_viz_in_a_Python_Jupyter_notebook\", \"count\": null}, {\"index\": \".woff\", \"variable\": \"D3_JS_viz_in_a_Python_Jupyter_notebook\", \"count\": null}, {\"index\": \".woff2\", \"variable\": \"D3_JS_viz_in_a_Python_Jupyter_notebook\", \"count\": null}, {\"index\": \".ico\", \"variable\": \"D3_JS_viz_in_a_Python_Jupyter_notebook\", \"count\": null}, {\"index\": \".md\", \"variable\": \"DeezyMatch\", \"count\": 2.0}, {\"index\": \".ipynb\", \"variable\": \"DeezyMatch\", \"count\": 4.0}, {\"index\": \".yml\", \"variable\": \"DeezyMatch\", \"count\": 1.0}, {\"index\": \".png\", \"variable\": \"DeezyMatch\", \"count\": 3.0}, {\"index\": \".pdf\", \"variable\": \"DeezyMatch\", \"count\": null}, {\"index\": \".py\", \"variable\": \"DeezyMatch\", \"count\": 9.0}, {\"index\": \".pkl\", \"variable\": \"DeezyMatch\", \"count\": null}, {\"index\": \".gif\", \"variable\": \"DeezyMatch\", \"count\": null}, {\"index\": \".json\", \"variable\": \"DeezyMatch\", \"count\": null}, {\"index\": \".txt\", \"variable\": \"DeezyMatch\", \"count\": 4.0}, {\"index\": \".html\", \"variable\": \"DeezyMatch\", \"count\": null}, {\"index\": \".js\", \"variable\": \"DeezyMatch\", \"count\": null}, {\"index\": \".vocab\", \"variable\": \"DeezyMatch\", \"count\": 2.0}, {\"index\": \".yaml\", \"variable\": \"DeezyMatch\", \"count\": 18.0}, {\"index\": \".jpg\", \"variable\": \"DeezyMatch\", \"count\": null}, {\"index\": \".zip\", \"variable\": \"DeezyMatch\", \"count\": null}, {\"index\": \".in\", \"variable\": \"DeezyMatch\", \"count\": null}, {\"index\": \".ini\", \"variable\": \"DeezyMatch\", \"count\": null}, {\"index\": \".lock\", \"variable\": \"DeezyMatch\", \"count\": null}, {\"index\": \".xml\", \"variable\": \"DeezyMatch\", \"count\": null}, {\"index\": \".css\", \"variable\": \"DeezyMatch\", \"count\": null}, {\"index\": \".otf\", \"variable\": \"DeezyMatch\", \"count\": null}, {\"index\": \".eot\", \"variable\": \"DeezyMatch\", \"count\": null}, {\"index\": \".svg\", \"variable\": \"DeezyMatch\", \"count\": null}, {\"index\": \".ttf\", \"variable\": \"DeezyMatch\", \"count\": null}, {\"index\": \".woff\", \"variable\": \"DeezyMatch\", \"count\": null}, {\"index\": \".woff2\", \"variable\": \"DeezyMatch\", \"count\": null}, {\"index\": \".ico\", \"variable\": \"DeezyMatch\", \"count\": null}, {\"index\": \".md\", \"variable\": \"LwM_SIGSPATIAL2020_ToponymMatching\", \"count\": 6.0}, {\"index\": \".ipynb\", \"variable\": \"LwM_SIGSPATIAL2020_ToponymMatching\", \"count\": 7.0}, {\"index\": \".yml\", \"variable\": \"LwM_SIGSPATIAL2020_ToponymMatching\", \"count\": null}, {\"index\": \".png\", \"variable\": \"LwM_SIGSPATIAL2020_ToponymMatching\", \"count\": null}, {\"index\": \".pdf\", \"variable\": \"LwM_SIGSPATIAL2020_ToponymMatching\", \"count\": null}, {\"index\": \".py\", \"variable\": \"LwM_SIGSPATIAL2020_ToponymMatching\", \"count\": 5.0}, {\"index\": \".pkl\", \"variable\": \"LwM_SIGSPATIAL2020_ToponymMatching\", \"count\": null}, {\"index\": \".gif\", \"variable\": \"LwM_SIGSPATIAL2020_ToponymMatching\", \"count\": null}, {\"index\": \".json\", \"variable\": \"LwM_SIGSPATIAL2020_ToponymMatching\", \"count\": null}, {\"index\": \".txt\", \"variable\": \"LwM_SIGSPATIAL2020_ToponymMatching\", \"count\": null}, {\"index\": \".html\", \"variable\": \"LwM_SIGSPATIAL2020_ToponymMatching\", \"count\": null}, {\"index\": \".js\", \"variable\": \"LwM_SIGSPATIAL2020_ToponymMatching\", \"count\": null}, {\"index\": \".vocab\", \"variable\": \"LwM_SIGSPATIAL2020_ToponymMatching\", \"count\": 1.0}, {\"index\": \".yaml\", \"variable\": \"LwM_SIGSPATIAL2020_ToponymMatching\", \"count\": 1.0}, {\"index\": \".jpg\", \"variable\": \"LwM_SIGSPATIAL2020_ToponymMatching\", \"count\": null}, {\"index\": \".zip\", \"variable\": \"LwM_SIGSPATIAL2020_ToponymMatching\", \"count\": null}, {\"index\": \".in\", \"variable\": \"LwM_SIGSPATIAL2020_ToponymMatching\", \"count\": null}, {\"index\": \".ini\", \"variable\": \"LwM_SIGSPATIAL2020_ToponymMatching\", \"count\": null}, {\"index\": \".lock\", \"variable\": \"LwM_SIGSPATIAL2020_ToponymMatching\", \"count\": null}, {\"index\": \".xml\", \"variable\": \"LwM_SIGSPATIAL2020_ToponymMatching\", \"count\": null}, {\"index\": \".css\", \"variable\": \"LwM_SIGSPATIAL2020_ToponymMatching\", \"count\": null}, {\"index\": \".otf\", \"variable\": \"LwM_SIGSPATIAL2020_ToponymMatching\", \"count\": null}, {\"index\": \".eot\", \"variable\": \"LwM_SIGSPATIAL2020_ToponymMatching\", \"count\": null}, {\"index\": \".svg\", \"variable\": \"LwM_SIGSPATIAL2020_ToponymMatching\", \"count\": null}, {\"index\": \".ttf\", \"variable\": \"LwM_SIGSPATIAL2020_ToponymMatching\", \"count\": null}, {\"index\": \".woff\", \"variable\": \"LwM_SIGSPATIAL2020_ToponymMatching\", \"count\": null}, {\"index\": \".woff2\", \"variable\": \"LwM_SIGSPATIAL2020_ToponymMatching\", \"count\": null}, {\"index\": \".ico\", \"variable\": \"LwM_SIGSPATIAL2020_ToponymMatching\", \"count\": null}, {\"index\": \".md\", \"variable\": \"AzureAudit\", \"count\": 1.0}, {\"index\": \".ipynb\", \"variable\": \"AzureAudit\", \"count\": null}, {\"index\": \".yml\", \"variable\": \"AzureAudit\", \"count\": null}, {\"index\": \".png\", \"variable\": \"AzureAudit\", \"count\": null}, {\"index\": \".pdf\", \"variable\": \"AzureAudit\", \"count\": null}, {\"index\": \".py\", \"variable\": \"AzureAudit\", \"count\": null}, {\"index\": \".pkl\", \"variable\": \"AzureAudit\", \"count\": null}, {\"index\": \".gif\", \"variable\": \"AzureAudit\", \"count\": null}, {\"index\": \".json\", \"variable\": \"AzureAudit\", \"count\": null}, {\"index\": \".txt\", \"variable\": \"AzureAudit\", \"count\": null}, {\"index\": \".html\", \"variable\": \"AzureAudit\", \"count\": null}, {\"index\": \".js\", \"variable\": \"AzureAudit\", \"count\": null}, {\"index\": \".vocab\", \"variable\": \"AzureAudit\", \"count\": null}, {\"index\": \".yaml\", \"variable\": \"AzureAudit\", \"count\": null}, {\"index\": \".jpg\", \"variable\": \"AzureAudit\", \"count\": null}, {\"index\": \".zip\", \"variable\": \"AzureAudit\", \"count\": null}, {\"index\": \".in\", \"variable\": \"AzureAudit\", \"count\": null}, {\"index\": \".ini\", \"variable\": \"AzureAudit\", \"count\": null}, {\"index\": \".lock\", \"variable\": \"AzureAudit\", \"count\": null}, {\"index\": \".xml\", \"variable\": \"AzureAudit\", \"count\": null}, {\"index\": \".css\", \"variable\": \"AzureAudit\", \"count\": null}, {\"index\": \".otf\", \"variable\": \"AzureAudit\", \"count\": null}, {\"index\": \".eot\", \"variable\": \"AzureAudit\", \"count\": null}, {\"index\": \".svg\", \"variable\": \"AzureAudit\", \"count\": null}, {\"index\": \".ttf\", \"variable\": \"AzureAudit\", \"count\": null}, {\"index\": \".woff\", \"variable\": \"AzureAudit\", \"count\": null}, {\"index\": \".woff2\", \"variable\": \"AzureAudit\", \"count\": null}, {\"index\": \".ico\", \"variable\": \"AzureAudit\", \"count\": null}, {\"index\": \".md\", \"variable\": \"maps-at-scale-hack-day-notebooks\", \"count\": 7.0}, {\"index\": \".ipynb\", \"variable\": \"maps-at-scale-hack-day-notebooks\", \"count\": 14.0}, {\"index\": \".yml\", \"variable\": \"maps-at-scale-hack-day-notebooks\", \"count\": 1.0}, {\"index\": \".png\", \"variable\": \"maps-at-scale-hack-day-notebooks\", \"count\": 22.0}, {\"index\": \".pdf\", \"variable\": \"maps-at-scale-hack-day-notebooks\", \"count\": null}, {\"index\": \".py\", \"variable\": \"maps-at-scale-hack-day-notebooks\", \"count\": null}, {\"index\": \".pkl\", \"variable\": \"maps-at-scale-hack-day-notebooks\", \"count\": null}, {\"index\": \".gif\", \"variable\": \"maps-at-scale-hack-day-notebooks\", \"count\": null}, {\"index\": \".json\", \"variable\": \"maps-at-scale-hack-day-notebooks\", \"count\": null}, {\"index\": \".txt\", \"variable\": \"maps-at-scale-hack-day-notebooks\", \"count\": null}, {\"index\": \".html\", \"variable\": \"maps-at-scale-hack-day-notebooks\", \"count\": null}, {\"index\": \".js\", \"variable\": \"maps-at-scale-hack-day-notebooks\", \"count\": null}, {\"index\": \".vocab\", \"variable\": \"maps-at-scale-hack-day-notebooks\", \"count\": null}, {\"index\": \".yaml\", \"variable\": \"maps-at-scale-hack-day-notebooks\", \"count\": null}, {\"index\": \".jpg\", \"variable\": \"maps-at-scale-hack-day-notebooks\", \"count\": 1.0}, {\"index\": \".zip\", \"variable\": \"maps-at-scale-hack-day-notebooks\", \"count\": null}, {\"index\": \".in\", \"variable\": \"maps-at-scale-hack-day-notebooks\", \"count\": null}, {\"index\": \".ini\", \"variable\": \"maps-at-scale-hack-day-notebooks\", \"count\": null}, {\"index\": \".lock\", \"variable\": \"maps-at-scale-hack-day-notebooks\", \"count\": null}, {\"index\": \".xml\", \"variable\": \"maps-at-scale-hack-day-notebooks\", \"count\": null}, {\"index\": \".css\", \"variable\": \"maps-at-scale-hack-day-notebooks\", \"count\": null}, {\"index\": \".otf\", \"variable\": \"maps-at-scale-hack-day-notebooks\", \"count\": null}, {\"index\": \".eot\", \"variable\": \"maps-at-scale-hack-day-notebooks\", \"count\": null}, {\"index\": \".svg\", \"variable\": \"maps-at-scale-hack-day-notebooks\", \"count\": null}, {\"index\": \".ttf\", \"variable\": \"maps-at-scale-hack-day-notebooks\", \"count\": null}, {\"index\": \".woff\", \"variable\": \"maps-at-scale-hack-day-notebooks\", \"count\": null}, {\"index\": \".woff2\", \"variable\": \"maps-at-scale-hack-day-notebooks\", \"count\": null}, {\"index\": \".ico\", \"variable\": \"maps-at-scale-hack-day-notebooks\", \"count\": null}, {\"index\": \".md\", \"variable\": \"deduplify\", \"count\": 5.0}, {\"index\": \".ipynb\", \"variable\": \"deduplify\", \"count\": null}, {\"index\": \".yml\", \"variable\": \"deduplify\", \"count\": 3.0}, {\"index\": \".png\", \"variable\": \"deduplify\", \"count\": null}, {\"index\": \".pdf\", \"variable\": \"deduplify\", \"count\": null}, {\"index\": \".py\", \"variable\": \"deduplify\", \"count\": 10.0}, {\"index\": \".pkl\", \"variable\": \"deduplify\", \"count\": null}, {\"index\": \".gif\", \"variable\": \"deduplify\", \"count\": null}, {\"index\": \".json\", \"variable\": \"deduplify\", \"count\": 1.0}, {\"index\": \".txt\", \"variable\": \"deduplify\", \"count\": 1.0}, {\"index\": \".html\", \"variable\": \"deduplify\", \"count\": null}, {\"index\": \".js\", \"variable\": \"deduplify\", \"count\": null}, {\"index\": \".vocab\", \"variable\": \"deduplify\", \"count\": null}, {\"index\": \".yaml\", \"variable\": \"deduplify\", \"count\": null}, {\"index\": \".jpg\", \"variable\": \"deduplify\", \"count\": null}, {\"index\": \".zip\", \"variable\": \"deduplify\", \"count\": null}, {\"index\": \".in\", \"variable\": \"deduplify\", \"count\": null}, {\"index\": \".ini\", \"variable\": \"deduplify\", \"count\": null}, {\"index\": \".lock\", \"variable\": \"deduplify\", \"count\": null}, {\"index\": \".xml\", \"variable\": \"deduplify\", \"count\": null}, {\"index\": \".css\", \"variable\": \"deduplify\", \"count\": null}, {\"index\": \".otf\", \"variable\": \"deduplify\", \"count\": null}, {\"index\": \".eot\", \"variable\": \"deduplify\", \"count\": null}, {\"index\": \".svg\", \"variable\": \"deduplify\", \"count\": null}, {\"index\": \".ttf\", \"variable\": \"deduplify\", \"count\": null}, {\"index\": \".woff\", \"variable\": \"deduplify\", \"count\": null}, {\"index\": \".woff2\", \"variable\": \"deduplify\", \"count\": null}, {\"index\": \".ico\", \"variable\": \"deduplify\", \"count\": null}, {\"index\": \".md\", \"variable\": \"AtypicalAnimacy\", \"count\": 2.0}, {\"index\": \".ipynb\", \"variable\": \"AtypicalAnimacy\", \"count\": 8.0}, {\"index\": \".yml\", \"variable\": \"AtypicalAnimacy\", \"count\": null}, {\"index\": \".png\", \"variable\": \"AtypicalAnimacy\", \"count\": null}, {\"index\": \".pdf\", \"variable\": \"AtypicalAnimacy\", \"count\": null}, {\"index\": \".py\", \"variable\": \"AtypicalAnimacy\", \"count\": 6.0}, {\"index\": \".pkl\", \"variable\": \"AtypicalAnimacy\", \"count\": null}, {\"index\": \".gif\", \"variable\": \"AtypicalAnimacy\", \"count\": null}, {\"index\": \".json\", \"variable\": \"AtypicalAnimacy\", \"count\": null}, {\"index\": \".txt\", \"variable\": \"AtypicalAnimacy\", \"count\": 1.0}, {\"index\": \".html\", \"variable\": \"AtypicalAnimacy\", \"count\": null}, {\"index\": \".js\", \"variable\": \"AtypicalAnimacy\", \"count\": null}, {\"index\": \".vocab\", \"variable\": \"AtypicalAnimacy\", \"count\": null}, {\"index\": \".yaml\", \"variable\": \"AtypicalAnimacy\", \"count\": null}, {\"index\": \".jpg\", \"variable\": \"AtypicalAnimacy\", \"count\": null}, {\"index\": \".zip\", \"variable\": \"AtypicalAnimacy\", \"count\": null}, {\"index\": \".in\", \"variable\": \"AtypicalAnimacy\", \"count\": null}, {\"index\": \".ini\", \"variable\": \"AtypicalAnimacy\", \"count\": null}, {\"index\": \".lock\", \"variable\": \"AtypicalAnimacy\", \"count\": null}, {\"index\": \".xml\", \"variable\": \"AtypicalAnimacy\", \"count\": null}, {\"index\": \".css\", \"variable\": \"AtypicalAnimacy\", \"count\": null}, {\"index\": \".otf\", \"variable\": \"AtypicalAnimacy\", \"count\": null}, {\"index\": \".eot\", \"variable\": \"AtypicalAnimacy\", \"count\": null}, {\"index\": \".svg\", \"variable\": \"AtypicalAnimacy\", \"count\": null}, {\"index\": \".ttf\", \"variable\": \"AtypicalAnimacy\", \"count\": null}, {\"index\": \".woff\", \"variable\": \"AtypicalAnimacy\", \"count\": null}, {\"index\": \".woff2\", \"variable\": \"AtypicalAnimacy\", \"count\": null}, {\"index\": \".ico\", \"variable\": \"AtypicalAnimacy\", \"count\": null}, {\"index\": \".md\", \"variable\": \"computer-vision-DHNordic-2020-workshop\", \"count\": 1.0}, {\"index\": \".ipynb\", \"variable\": \"computer-vision-DHNordic-2020-workshop\", \"count\": 3.0}, {\"index\": \".yml\", \"variable\": \"computer-vision-DHNordic-2020-workshop\", \"count\": 1.0}, {\"index\": \".png\", \"variable\": \"computer-vision-DHNordic-2020-workshop\", \"count\": 3.0}, {\"index\": \".pdf\", \"variable\": \"computer-vision-DHNordic-2020-workshop\", \"count\": null}, {\"index\": \".py\", \"variable\": \"computer-vision-DHNordic-2020-workshop\", \"count\": null}, {\"index\": \".pkl\", \"variable\": \"computer-vision-DHNordic-2020-workshop\", \"count\": null}, {\"index\": \".gif\", \"variable\": \"computer-vision-DHNordic-2020-workshop\", \"count\": null}, {\"index\": \".json\", \"variable\": \"computer-vision-DHNordic-2020-workshop\", \"count\": null}, {\"index\": \".txt\", \"variable\": \"computer-vision-DHNordic-2020-workshop\", \"count\": null}, {\"index\": \".html\", \"variable\": \"computer-vision-DHNordic-2020-workshop\", \"count\": null}, {\"index\": \".js\", \"variable\": \"computer-vision-DHNordic-2020-workshop\", \"count\": null}, {\"index\": \".vocab\", \"variable\": \"computer-vision-DHNordic-2020-workshop\", \"count\": null}, {\"index\": \".yaml\", \"variable\": \"computer-vision-DHNordic-2020-workshop\", \"count\": null}, {\"index\": \".jpg\", \"variable\": \"computer-vision-DHNordic-2020-workshop\", \"count\": null}, {\"index\": \".zip\", \"variable\": \"computer-vision-DHNordic-2020-workshop\", \"count\": 1.0}, {\"index\": \".in\", \"variable\": \"computer-vision-DHNordic-2020-workshop\", \"count\": null}, {\"index\": \".ini\", \"variable\": \"computer-vision-DHNordic-2020-workshop\", \"count\": null}, {\"index\": \".lock\", \"variable\": \"computer-vision-DHNordic-2020-workshop\", \"count\": null}, {\"index\": \".xml\", \"variable\": \"computer-vision-DHNordic-2020-workshop\", \"count\": null}, {\"index\": \".css\", \"variable\": \"computer-vision-DHNordic-2020-workshop\", \"count\": null}, {\"index\": \".otf\", \"variable\": \"computer-vision-DHNordic-2020-workshop\", \"count\": null}, {\"index\": \".eot\", \"variable\": \"computer-vision-DHNordic-2020-workshop\", \"count\": null}, {\"index\": \".svg\", \"variable\": \"computer-vision-DHNordic-2020-workshop\", \"count\": null}, {\"index\": \".ttf\", \"variable\": \"computer-vision-DHNordic-2020-workshop\", \"count\": null}, {\"index\": \".woff\", \"variable\": \"computer-vision-DHNordic-2020-workshop\", \"count\": null}, {\"index\": \".woff2\", \"variable\": \"computer-vision-DHNordic-2020-workshop\", \"count\": null}, {\"index\": \".ico\", \"variable\": \"computer-vision-DHNordic-2020-workshop\", \"count\": null}, {\"index\": \".md\", \"variable\": \"maps-at-scale-using-computer-vision-and-jupyter-notebooks\", \"count\": 1.0}, {\"index\": \".ipynb\", \"variable\": \"maps-at-scale-using-computer-vision-and-jupyter-notebooks\", \"count\": 2.0}, {\"index\": \".yml\", \"variable\": \"maps-at-scale-using-computer-vision-and-jupyter-notebooks\", \"count\": null}, {\"index\": \".png\", \"variable\": \"maps-at-scale-using-computer-vision-and-jupyter-notebooks\", \"count\": 1.0}, {\"index\": \".pdf\", \"variable\": \"maps-at-scale-using-computer-vision-and-jupyter-notebooks\", \"count\": null}, {\"index\": \".py\", \"variable\": \"maps-at-scale-using-computer-vision-and-jupyter-notebooks\", \"count\": null}, {\"index\": \".pkl\", \"variable\": \"maps-at-scale-using-computer-vision-and-jupyter-notebooks\", \"count\": null}, {\"index\": \".gif\", \"variable\": \"maps-at-scale-using-computer-vision-and-jupyter-notebooks\", \"count\": null}, {\"index\": \".json\", \"variable\": \"maps-at-scale-using-computer-vision-and-jupyter-notebooks\", \"count\": null}, {\"index\": \".txt\", \"variable\": \"maps-at-scale-using-computer-vision-and-jupyter-notebooks\", \"count\": null}, {\"index\": \".html\", \"variable\": \"maps-at-scale-using-computer-vision-and-jupyter-notebooks\", \"count\": null}, {\"index\": \".js\", \"variable\": \"maps-at-scale-using-computer-vision-and-jupyter-notebooks\", \"count\": null}, {\"index\": \".vocab\", \"variable\": \"maps-at-scale-using-computer-vision-and-jupyter-notebooks\", \"count\": null}, {\"index\": \".yaml\", \"variable\": \"maps-at-scale-using-computer-vision-and-jupyter-notebooks\", \"count\": null}, {\"index\": \".jpg\", \"variable\": \"maps-at-scale-using-computer-vision-and-jupyter-notebooks\", \"count\": null}, {\"index\": \".zip\", \"variable\": \"maps-at-scale-using-computer-vision-and-jupyter-notebooks\", \"count\": null}, {\"index\": \".in\", \"variable\": \"maps-at-scale-using-computer-vision-and-jupyter-notebooks\", \"count\": null}, {\"index\": \".ini\", \"variable\": \"maps-at-scale-using-computer-vision-and-jupyter-notebooks\", \"count\": null}, {\"index\": \".lock\", \"variable\": \"maps-at-scale-using-computer-vision-and-jupyter-notebooks\", \"count\": null}, {\"index\": \".xml\", \"variable\": \"maps-at-scale-using-computer-vision-and-jupyter-notebooks\", \"count\": null}, {\"index\": \".css\", \"variable\": \"maps-at-scale-using-computer-vision-and-jupyter-notebooks\", \"count\": null}, {\"index\": \".otf\", \"variable\": \"maps-at-scale-using-computer-vision-and-jupyter-notebooks\", \"count\": null}, {\"index\": \".eot\", \"variable\": \"maps-at-scale-using-computer-vision-and-jupyter-notebooks\", \"count\": null}, {\"index\": \".svg\", \"variable\": \"maps-at-scale-using-computer-vision-and-jupyter-notebooks\", \"count\": null}, {\"index\": \".ttf\", \"variable\": \"maps-at-scale-using-computer-vision-and-jupyter-notebooks\", \"count\": null}, {\"index\": \".woff\", \"variable\": \"maps-at-scale-using-computer-vision-and-jupyter-notebooks\", \"count\": null}, {\"index\": \".woff2\", \"variable\": \"maps-at-scale-using-computer-vision-and-jupyter-notebooks\", \"count\": null}, {\"index\": \".ico\", \"variable\": \"maps-at-scale-using-computer-vision-and-jupyter-notebooks\", \"count\": null}, {\"index\": \".md\", \"variable\": \"gh_orgstats\", \"count\": 2.0}, {\"index\": \".ipynb\", \"variable\": \"gh_orgstats\", \"count\": 2.0}, {\"index\": \".yml\", \"variable\": \"gh_orgstats\", \"count\": 11.0}, {\"index\": \".png\", \"variable\": \"gh_orgstats\", \"count\": 7.0}, {\"index\": \".pdf\", \"variable\": \"gh_orgstats\", \"count\": null}, {\"index\": \".py\", \"variable\": \"gh_orgstats\", \"count\": 4.0}, {\"index\": \".pkl\", \"variable\": \"gh_orgstats\", \"count\": null}, {\"index\": \".gif\", \"variable\": \"gh_orgstats\", \"count\": null}, {\"index\": \".json\", \"variable\": \"gh_orgstats\", \"count\": 3.0}, {\"index\": \".txt\", \"variable\": \"gh_orgstats\", \"count\": 1.0}, {\"index\": \".html\", \"variable\": \"gh_orgstats\", \"count\": 27.0}, {\"index\": \".js\", \"variable\": \"gh_orgstats\", \"count\": 6.0}, {\"index\": \".vocab\", \"variable\": \"gh_orgstats\", \"count\": null}, {\"index\": \".yaml\", \"variable\": \"gh_orgstats\", \"count\": null}, {\"index\": \".jpg\", \"variable\": \"gh_orgstats\", \"count\": null}, {\"index\": \".zip\", \"variable\": \"gh_orgstats\", \"count\": null}, {\"index\": \".in\", \"variable\": \"gh_orgstats\", \"count\": 1.0}, {\"index\": \".ini\", \"variable\": \"gh_orgstats\", \"count\": 1.0}, {\"index\": \".lock\", \"variable\": \"gh_orgstats\", \"count\": 1.0}, {\"index\": \".xml\", \"variable\": \"gh_orgstats\", \"count\": 2.0}, {\"index\": \".css\", \"variable\": \"gh_orgstats\", \"count\": 9.0}, {\"index\": \".otf\", \"variable\": \"gh_orgstats\", \"count\": 2.0}, {\"index\": \".eot\", \"variable\": \"gh_orgstats\", \"count\": 3.0}, {\"index\": \".svg\", \"variable\": \"gh_orgstats\", \"count\": 4.0}, {\"index\": \".ttf\", \"variable\": \"gh_orgstats\", \"count\": 3.0}, {\"index\": \".woff\", \"variable\": \"gh_orgstats\", \"count\": 3.0}, {\"index\": \".woff2\", \"variable\": \"gh_orgstats\", \"count\": 2.0}, {\"index\": \".ico\", \"variable\": \"gh_orgstats\", \"count\": 2.0}, {\"index\": \".md\", \"variable\": \"GazFuse\", \"count\": 1.0}, {\"index\": \".ipynb\", \"variable\": \"GazFuse\", \"count\": null}, {\"index\": \".yml\", \"variable\": \"GazFuse\", \"count\": null}, {\"index\": \".png\", \"variable\": \"GazFuse\", \"count\": null}, {\"index\": \".pdf\", \"variable\": \"GazFuse\", \"count\": null}, {\"index\": \".py\", \"variable\": \"GazFuse\", \"count\": null}, {\"index\": \".pkl\", \"variable\": \"GazFuse\", \"count\": null}, {\"index\": \".gif\", \"variable\": \"GazFuse\", \"count\": null}, {\"index\": \".json\", \"variable\": \"GazFuse\", \"count\": null}, {\"index\": \".txt\", \"variable\": \"GazFuse\", \"count\": null}, {\"index\": \".html\", \"variable\": \"GazFuse\", \"count\": null}, {\"index\": \".js\", \"variable\": \"GazFuse\", \"count\": null}, {\"index\": \".vocab\", \"variable\": \"GazFuse\", \"count\": null}, {\"index\": \".yaml\", \"variable\": \"GazFuse\", \"count\": null}, {\"index\": \".jpg\", \"variable\": \"GazFuse\", \"count\": null}, {\"index\": \".zip\", \"variable\": \"GazFuse\", \"count\": null}, {\"index\": \".in\", \"variable\": \"GazFuse\", \"count\": null}, {\"index\": \".ini\", \"variable\": \"GazFuse\", \"count\": null}, {\"index\": \".lock\", \"variable\": \"GazFuse\", \"count\": null}, {\"index\": \".xml\", \"variable\": \"GazFuse\", \"count\": null}, {\"index\": \".css\", \"variable\": \"GazFuse\", \"count\": null}, {\"index\": \".otf\", \"variable\": \"GazFuse\", \"count\": null}, {\"index\": \".eot\", \"variable\": \"GazFuse\", \"count\": null}, {\"index\": \".svg\", \"variable\": \"GazFuse\", \"count\": null}, {\"index\": \".ttf\", \"variable\": \"GazFuse\", \"count\": null}, {\"index\": \".woff\", \"variable\": \"GazFuse\", \"count\": null}, {\"index\": \".woff2\", \"variable\": \"GazFuse\", \"count\": null}, {\"index\": \".ico\", \"variable\": \"GazFuse\", \"count\": null}]}}, {\"mode\": \"vega-lite\"});\n",
       "</script>"
      ],
      "text/plain": [
       "alt.Chart(...)"
      ]
     },
     "execution_count": 1,
     "metadata": {},
     "output_type": "execute_result"
    }
   ],
   "source": [
    "df = pd.DataFrame.from_dict(lwm_stats.get_org_file_ext_frequency(\"public\"))\n",
    "df.reset_index(inplace=True)\n",
    "data = pd.melt(frame=df, id_vars=[\"index\"], value_name=\"count\")\n",
    "chart = (\n",
    "    alt.Chart(data)\n",
    "    .mark_bar()\n",
    "    .encode(\n",
    "        y=alt.Y(\n",
    "            \"index:N\",\n",
    "            title=None,\n",
    "            sort=alt.EncodingSortField(field=\"count\", order=\"descending\", op=\"sum\"),\n",
    "        ),\n",
    "        x=alt.X(\"count:Q\"),\n",
    "        color=alt.Color(\"variable:N\", title=\"Repository\"),\n",
    "        tooltip=[alt.Tooltip(\"variable:N\", title=\"Repository\"), \"count:Q\"],\n",
    "    )\n",
    "    .properties(width=WIDTH, title='File Extension Counts')\n",
    ")\n",
    "chart"
   ]
  },
  {
   "cell_type": "markdown",
   "metadata": {},
   "source": [
    "### File extensions by repository\n",
    "\n",
    "This chart shows the number and type of files for each public Living with Machines repository **note** that this only considers files on the default branch of the repository.  "
   ]
  },
  {
   "cell_type": "code",
   "execution_count": 16,
   "metadata": {
    "execution": {
     "iopub.execute_input": "2020-12-03T17:37:47.017133Z",
     "iopub.status.busy": "2020-12-03T17:37:46.988680Z",
     "iopub.status.idle": "2020-12-03T17:37:47.024645Z",
     "shell.execute_reply": "2020-12-03T17:37:47.024058Z"
    }
   },
   "outputs": [
    {
     "data": {
      "text/html": [
       "\n",
       "<div id=\"altair-viz-d13dc7e837ad4e5db943aeb1f470a0fe\"></div>\n",
       "<script type=\"text/javascript\">\n",
       "  (function(spec, embedOpt){\n",
       "    let outputDiv = document.currentScript.previousElementSibling;\n",
       "    if (outputDiv.id !== \"altair-viz-d13dc7e837ad4e5db943aeb1f470a0fe\") {\n",
       "      outputDiv = document.getElementById(\"altair-viz-d13dc7e837ad4e5db943aeb1f470a0fe\");\n",
       "    }\n",
       "    const paths = {\n",
       "      \"vega\": \"https://cdn.jsdelivr.net/npm//vega@5?noext\",\n",
       "      \"vega-lib\": \"https://cdn.jsdelivr.net/npm//vega-lib?noext\",\n",
       "      \"vega-lite\": \"https://cdn.jsdelivr.net/npm//vega-lite@4.8.1?noext\",\n",
       "      \"vega-embed\": \"https://cdn.jsdelivr.net/npm//vega-embed@6?noext\",\n",
       "    };\n",
       "\n",
       "    function loadScript(lib) {\n",
       "      return new Promise(function(resolve, reject) {\n",
       "        var s = document.createElement('script');\n",
       "        s.src = paths[lib];\n",
       "        s.async = true;\n",
       "        s.onload = () => resolve(paths[lib]);\n",
       "        s.onerror = () => reject(`Error loading script: ${paths[lib]}`);\n",
       "        document.getElementsByTagName(\"head\")[0].appendChild(s);\n",
       "      });\n",
       "    }\n",
       "\n",
       "    function showError(err) {\n",
       "      outputDiv.innerHTML = `<div class=\"error\" style=\"color:red;\">${err}</div>`;\n",
       "      throw err;\n",
       "    }\n",
       "\n",
       "    function displayChart(vegaEmbed) {\n",
       "      vegaEmbed(outputDiv, spec, embedOpt)\n",
       "        .catch(err => showError(`Javascript Error: ${err.message}<br>This usually means there's a typo in your chart specification. See the javascript console for the full traceback.`));\n",
       "    }\n",
       "\n",
       "    if(typeof define === \"function\" && define.amd) {\n",
       "      requirejs.config({paths});\n",
       "      require([\"vega-embed\"], displayChart, err => showError(`Error loading script: ${err.message}`));\n",
       "    } else if (typeof vegaEmbed === \"function\") {\n",
       "      displayChart(vegaEmbed);\n",
       "    } else {\n",
       "      loadScript(\"vega\")\n",
       "        .then(() => loadScript(\"vega-lite\"))\n",
       "        .then(() => loadScript(\"vega-embed\"))\n",
       "        .catch(showError)\n",
       "        .then(() => displayChart(vegaEmbed));\n",
       "    }\n",
       "  })({\"config\": {\"view\": {\"continuousWidth\": 400, \"continuousHeight\": 300}}, \"data\": {\"name\": \"data-a98e18739e05e90afc4966fe31e11517\"}, \"mark\": \"bar\", \"encoding\": {\"color\": {\"type\": \"nominal\", \"field\": \"index\", \"title\": \"File extension\"}, \"tooltip\": [{\"type\": \"nominal\", \"field\": \"index\", \"title\": \"file extension\"}, {\"type\": \"quantitative\", \"field\": \"count\"}], \"x\": {\"type\": \"quantitative\", \"axis\": {\"tickRound\": false}, \"field\": \"count\", \"title\": \"File counts\"}, \"y\": {\"type\": \"nominal\", \"field\": \"variable\", \"sort\": {\"field\": \"count\", \"op\": \"sum\", \"order\": \"descending\"}, \"title\": null}}, \"title\": \"File extensions by Repository\", \"width\": 650, \"$schema\": \"https://vega.github.io/schema/vega-lite/v4.8.1.json\", \"datasets\": {\"data-a98e18739e05e90afc4966fe31e11517\": [{\"index\": \".md\", \"variable\": \"lwm_ARTIDIGH_2020_OCR_impact_downstream_NLP_tasks\", \"count\": 1.0}, {\"index\": \".ipynb\", \"variable\": \"lwm_ARTIDIGH_2020_OCR_impact_downstream_NLP_tasks\", \"count\": 14.0}, {\"index\": \".yml\", \"variable\": \"lwm_ARTIDIGH_2020_OCR_impact_downstream_NLP_tasks\", \"count\": 1.0}, {\"index\": \".png\", \"variable\": \"lwm_ARTIDIGH_2020_OCR_impact_downstream_NLP_tasks\", \"count\": 4.0}, {\"index\": \".pdf\", \"variable\": \"lwm_ARTIDIGH_2020_OCR_impact_downstream_NLP_tasks\", \"count\": 16.0}, {\"index\": \".py\", \"variable\": \"lwm_ARTIDIGH_2020_OCR_impact_downstream_NLP_tasks\", \"count\": null}, {\"index\": \".pkl\", \"variable\": \"lwm_ARTIDIGH_2020_OCR_impact_downstream_NLP_tasks\", \"count\": null}, {\"index\": \".gif\", \"variable\": \"lwm_ARTIDIGH_2020_OCR_impact_downstream_NLP_tasks\", \"count\": null}, {\"index\": \".json\", \"variable\": \"lwm_ARTIDIGH_2020_OCR_impact_downstream_NLP_tasks\", \"count\": null}, {\"index\": \".txt\", \"variable\": \"lwm_ARTIDIGH_2020_OCR_impact_downstream_NLP_tasks\", \"count\": null}, {\"index\": \".html\", \"variable\": \"lwm_ARTIDIGH_2020_OCR_impact_downstream_NLP_tasks\", \"count\": null}, {\"index\": \".js\", \"variable\": \"lwm_ARTIDIGH_2020_OCR_impact_downstream_NLP_tasks\", \"count\": null}, {\"index\": \".vocab\", \"variable\": \"lwm_ARTIDIGH_2020_OCR_impact_downstream_NLP_tasks\", \"count\": null}, {\"index\": \".yaml\", \"variable\": \"lwm_ARTIDIGH_2020_OCR_impact_downstream_NLP_tasks\", \"count\": null}, {\"index\": \".jpg\", \"variable\": \"lwm_ARTIDIGH_2020_OCR_impact_downstream_NLP_tasks\", \"count\": null}, {\"index\": \".zip\", \"variable\": \"lwm_ARTIDIGH_2020_OCR_impact_downstream_NLP_tasks\", \"count\": null}, {\"index\": \".in\", \"variable\": \"lwm_ARTIDIGH_2020_OCR_impact_downstream_NLP_tasks\", \"count\": null}, {\"index\": \".ini\", \"variable\": \"lwm_ARTIDIGH_2020_OCR_impact_downstream_NLP_tasks\", \"count\": null}, {\"index\": \".lock\", \"variable\": \"lwm_ARTIDIGH_2020_OCR_impact_downstream_NLP_tasks\", \"count\": null}, {\"index\": \".xml\", \"variable\": \"lwm_ARTIDIGH_2020_OCR_impact_downstream_NLP_tasks\", \"count\": null}, {\"index\": \".css\", \"variable\": \"lwm_ARTIDIGH_2020_OCR_impact_downstream_NLP_tasks\", \"count\": null}, {\"index\": \".otf\", \"variable\": \"lwm_ARTIDIGH_2020_OCR_impact_downstream_NLP_tasks\", \"count\": null}, {\"index\": \".eot\", \"variable\": \"lwm_ARTIDIGH_2020_OCR_impact_downstream_NLP_tasks\", \"count\": null}, {\"index\": \".svg\", \"variable\": \"lwm_ARTIDIGH_2020_OCR_impact_downstream_NLP_tasks\", \"count\": null}, {\"index\": \".ttf\", \"variable\": \"lwm_ARTIDIGH_2020_OCR_impact_downstream_NLP_tasks\", \"count\": null}, {\"index\": \".woff\", \"variable\": \"lwm_ARTIDIGH_2020_OCR_impact_downstream_NLP_tasks\", \"count\": null}, {\"index\": \".woff2\", \"variable\": \"lwm_ARTIDIGH_2020_OCR_impact_downstream_NLP_tasks\", \"count\": null}, {\"index\": \".ico\", \"variable\": \"lwm_ARTIDIGH_2020_OCR_impact_downstream_NLP_tasks\", \"count\": null}, {\"index\": \".md\", \"variable\": \"lwm_GIR19_resolving_places\", \"count\": 2.0}, {\"index\": \".ipynb\", \"variable\": \"lwm_GIR19_resolving_places\", \"count\": 2.0}, {\"index\": \".yml\", \"variable\": \"lwm_GIR19_resolving_places\", \"count\": 1.0}, {\"index\": \".png\", \"variable\": \"lwm_GIR19_resolving_places\", \"count\": null}, {\"index\": \".pdf\", \"variable\": \"lwm_GIR19_resolving_places\", \"count\": null}, {\"index\": \".py\", \"variable\": \"lwm_GIR19_resolving_places\", \"count\": 2.0}, {\"index\": \".pkl\", \"variable\": \"lwm_GIR19_resolving_places\", \"count\": 1.0}, {\"index\": \".gif\", \"variable\": \"lwm_GIR19_resolving_places\", \"count\": null}, {\"index\": \".json\", \"variable\": \"lwm_GIR19_resolving_places\", \"count\": null}, {\"index\": \".txt\", \"variable\": \"lwm_GIR19_resolving_places\", \"count\": null}, {\"index\": \".html\", \"variable\": \"lwm_GIR19_resolving_places\", \"count\": null}, {\"index\": \".js\", \"variable\": \"lwm_GIR19_resolving_places\", \"count\": null}, {\"index\": \".vocab\", \"variable\": \"lwm_GIR19_resolving_places\", \"count\": null}, {\"index\": \".yaml\", \"variable\": \"lwm_GIR19_resolving_places\", \"count\": null}, {\"index\": \".jpg\", \"variable\": \"lwm_GIR19_resolving_places\", \"count\": null}, {\"index\": \".zip\", \"variable\": \"lwm_GIR19_resolving_places\", \"count\": null}, {\"index\": \".in\", \"variable\": \"lwm_GIR19_resolving_places\", \"count\": null}, {\"index\": \".ini\", \"variable\": \"lwm_GIR19_resolving_places\", \"count\": null}, {\"index\": \".lock\", \"variable\": \"lwm_GIR19_resolving_places\", \"count\": null}, {\"index\": \".xml\", \"variable\": \"lwm_GIR19_resolving_places\", \"count\": null}, {\"index\": \".css\", \"variable\": \"lwm_GIR19_resolving_places\", \"count\": null}, {\"index\": \".otf\", \"variable\": \"lwm_GIR19_resolving_places\", \"count\": null}, {\"index\": \".eot\", \"variable\": \"lwm_GIR19_resolving_places\", \"count\": null}, {\"index\": \".svg\", \"variable\": \"lwm_GIR19_resolving_places\", \"count\": null}, {\"index\": \".ttf\", \"variable\": \"lwm_GIR19_resolving_places\", \"count\": null}, {\"index\": \".woff\", \"variable\": \"lwm_GIR19_resolving_places\", \"count\": null}, {\"index\": \".woff2\", \"variable\": \"lwm_GIR19_resolving_places\", \"count\": null}, {\"index\": \".ico\", \"variable\": \"lwm_GIR19_resolving_places\", \"count\": null}, {\"index\": \".md\", \"variable\": \"D3_JS_viz_in_a_Python_Jupyter_notebook\", \"count\": 2.0}, {\"index\": \".ipynb\", \"variable\": \"D3_JS_viz_in_a_Python_Jupyter_notebook\", \"count\": 2.0}, {\"index\": \".yml\", \"variable\": \"D3_JS_viz_in_a_Python_Jupyter_notebook\", \"count\": 1.0}, {\"index\": \".png\", \"variable\": \"D3_JS_viz_in_a_Python_Jupyter_notebook\", \"count\": null}, {\"index\": \".pdf\", \"variable\": \"D3_JS_viz_in_a_Python_Jupyter_notebook\", \"count\": null}, {\"index\": \".py\", \"variable\": \"D3_JS_viz_in_a_Python_Jupyter_notebook\", \"count\": null}, {\"index\": \".pkl\", \"variable\": \"D3_JS_viz_in_a_Python_Jupyter_notebook\", \"count\": null}, {\"index\": \".gif\", \"variable\": \"D3_JS_viz_in_a_Python_Jupyter_notebook\", \"count\": 1.0}, {\"index\": \".json\", \"variable\": \"D3_JS_viz_in_a_Python_Jupyter_notebook\", \"count\": 1.0}, {\"index\": \".txt\", \"variable\": \"D3_JS_viz_in_a_Python_Jupyter_notebook\", \"count\": 1.0}, {\"index\": \".html\", \"variable\": \"D3_JS_viz_in_a_Python_Jupyter_notebook\", \"count\": 1.0}, {\"index\": \".js\", \"variable\": \"D3_JS_viz_in_a_Python_Jupyter_notebook\", \"count\": 1.0}, {\"index\": \".vocab\", \"variable\": \"D3_JS_viz_in_a_Python_Jupyter_notebook\", \"count\": null}, {\"index\": \".yaml\", \"variable\": \"D3_JS_viz_in_a_Python_Jupyter_notebook\", \"count\": null}, {\"index\": \".jpg\", \"variable\": \"D3_JS_viz_in_a_Python_Jupyter_notebook\", \"count\": null}, {\"index\": \".zip\", \"variable\": \"D3_JS_viz_in_a_Python_Jupyter_notebook\", \"count\": null}, {\"index\": \".in\", \"variable\": \"D3_JS_viz_in_a_Python_Jupyter_notebook\", \"count\": null}, {\"index\": \".ini\", \"variable\": \"D3_JS_viz_in_a_Python_Jupyter_notebook\", \"count\": null}, {\"index\": \".lock\", \"variable\": \"D3_JS_viz_in_a_Python_Jupyter_notebook\", \"count\": null}, {\"index\": \".xml\", \"variable\": \"D3_JS_viz_in_a_Python_Jupyter_notebook\", \"count\": null}, {\"index\": \".css\", \"variable\": \"D3_JS_viz_in_a_Python_Jupyter_notebook\", \"count\": null}, {\"index\": \".otf\", \"variable\": \"D3_JS_viz_in_a_Python_Jupyter_notebook\", \"count\": null}, {\"index\": \".eot\", \"variable\": \"D3_JS_viz_in_a_Python_Jupyter_notebook\", \"count\": null}, {\"index\": \".svg\", \"variable\": \"D3_JS_viz_in_a_Python_Jupyter_notebook\", \"count\": null}, {\"index\": \".ttf\", \"variable\": \"D3_JS_viz_in_a_Python_Jupyter_notebook\", \"count\": null}, {\"index\": \".woff\", \"variable\": \"D3_JS_viz_in_a_Python_Jupyter_notebook\", \"count\": null}, {\"index\": \".woff2\", \"variable\": \"D3_JS_viz_in_a_Python_Jupyter_notebook\", \"count\": null}, {\"index\": \".ico\", \"variable\": \"D3_JS_viz_in_a_Python_Jupyter_notebook\", \"count\": null}, {\"index\": \".md\", \"variable\": \"DeezyMatch\", \"count\": 2.0}, {\"index\": \".ipynb\", \"variable\": \"DeezyMatch\", \"count\": 4.0}, {\"index\": \".yml\", \"variable\": \"DeezyMatch\", \"count\": 1.0}, {\"index\": \".png\", \"variable\": \"DeezyMatch\", \"count\": 3.0}, {\"index\": \".pdf\", \"variable\": \"DeezyMatch\", \"count\": null}, {\"index\": \".py\", \"variable\": \"DeezyMatch\", \"count\": 9.0}, {\"index\": \".pkl\", \"variable\": \"DeezyMatch\", \"count\": null}, {\"index\": \".gif\", \"variable\": \"DeezyMatch\", \"count\": null}, {\"index\": \".json\", \"variable\": \"DeezyMatch\", \"count\": null}, {\"index\": \".txt\", \"variable\": \"DeezyMatch\", \"count\": 4.0}, {\"index\": \".html\", \"variable\": \"DeezyMatch\", \"count\": null}, {\"index\": \".js\", \"variable\": \"DeezyMatch\", \"count\": null}, {\"index\": \".vocab\", \"variable\": \"DeezyMatch\", \"count\": 2.0}, {\"index\": \".yaml\", \"variable\": \"DeezyMatch\", \"count\": 18.0}, {\"index\": \".jpg\", \"variable\": \"DeezyMatch\", \"count\": null}, {\"index\": \".zip\", \"variable\": \"DeezyMatch\", \"count\": null}, {\"index\": \".in\", \"variable\": \"DeezyMatch\", \"count\": null}, {\"index\": \".ini\", \"variable\": \"DeezyMatch\", \"count\": null}, {\"index\": \".lock\", \"variable\": \"DeezyMatch\", \"count\": null}, {\"index\": \".xml\", \"variable\": \"DeezyMatch\", \"count\": null}, {\"index\": \".css\", \"variable\": \"DeezyMatch\", \"count\": null}, {\"index\": \".otf\", \"variable\": \"DeezyMatch\", \"count\": null}, {\"index\": \".eot\", \"variable\": \"DeezyMatch\", \"count\": null}, {\"index\": \".svg\", \"variable\": \"DeezyMatch\", \"count\": null}, {\"index\": \".ttf\", \"variable\": \"DeezyMatch\", \"count\": null}, {\"index\": \".woff\", \"variable\": \"DeezyMatch\", \"count\": null}, {\"index\": \".woff2\", \"variable\": \"DeezyMatch\", \"count\": null}, {\"index\": \".ico\", \"variable\": \"DeezyMatch\", \"count\": null}, {\"index\": \".md\", \"variable\": \"LwM_SIGSPATIAL2020_ToponymMatching\", \"count\": 6.0}, {\"index\": \".ipynb\", \"variable\": \"LwM_SIGSPATIAL2020_ToponymMatching\", \"count\": 7.0}, {\"index\": \".yml\", \"variable\": \"LwM_SIGSPATIAL2020_ToponymMatching\", \"count\": null}, {\"index\": \".png\", \"variable\": \"LwM_SIGSPATIAL2020_ToponymMatching\", \"count\": null}, {\"index\": \".pdf\", \"variable\": \"LwM_SIGSPATIAL2020_ToponymMatching\", \"count\": null}, {\"index\": \".py\", \"variable\": \"LwM_SIGSPATIAL2020_ToponymMatching\", \"count\": 5.0}, {\"index\": \".pkl\", \"variable\": \"LwM_SIGSPATIAL2020_ToponymMatching\", \"count\": null}, {\"index\": \".gif\", \"variable\": \"LwM_SIGSPATIAL2020_ToponymMatching\", \"count\": null}, {\"index\": \".json\", \"variable\": \"LwM_SIGSPATIAL2020_ToponymMatching\", \"count\": null}, {\"index\": \".txt\", \"variable\": \"LwM_SIGSPATIAL2020_ToponymMatching\", \"count\": null}, {\"index\": \".html\", \"variable\": \"LwM_SIGSPATIAL2020_ToponymMatching\", \"count\": null}, {\"index\": \".js\", \"variable\": \"LwM_SIGSPATIAL2020_ToponymMatching\", \"count\": null}, {\"index\": \".vocab\", \"variable\": \"LwM_SIGSPATIAL2020_ToponymMatching\", \"count\": 1.0}, {\"index\": \".yaml\", \"variable\": \"LwM_SIGSPATIAL2020_ToponymMatching\", \"count\": 1.0}, {\"index\": \".jpg\", \"variable\": \"LwM_SIGSPATIAL2020_ToponymMatching\", \"count\": null}, {\"index\": \".zip\", \"variable\": \"LwM_SIGSPATIAL2020_ToponymMatching\", \"count\": null}, {\"index\": \".in\", \"variable\": \"LwM_SIGSPATIAL2020_ToponymMatching\", \"count\": null}, {\"index\": \".ini\", \"variable\": \"LwM_SIGSPATIAL2020_ToponymMatching\", \"count\": null}, {\"index\": \".lock\", \"variable\": \"LwM_SIGSPATIAL2020_ToponymMatching\", \"count\": null}, {\"index\": \".xml\", \"variable\": \"LwM_SIGSPATIAL2020_ToponymMatching\", \"count\": null}, {\"index\": \".css\", \"variable\": \"LwM_SIGSPATIAL2020_ToponymMatching\", \"count\": null}, {\"index\": \".otf\", \"variable\": \"LwM_SIGSPATIAL2020_ToponymMatching\", \"count\": null}, {\"index\": \".eot\", \"variable\": \"LwM_SIGSPATIAL2020_ToponymMatching\", \"count\": null}, {\"index\": \".svg\", \"variable\": \"LwM_SIGSPATIAL2020_ToponymMatching\", \"count\": null}, {\"index\": \".ttf\", \"variable\": \"LwM_SIGSPATIAL2020_ToponymMatching\", \"count\": null}, {\"index\": \".woff\", \"variable\": \"LwM_SIGSPATIAL2020_ToponymMatching\", \"count\": null}, {\"index\": \".woff2\", \"variable\": \"LwM_SIGSPATIAL2020_ToponymMatching\", \"count\": null}, {\"index\": \".ico\", \"variable\": \"LwM_SIGSPATIAL2020_ToponymMatching\", \"count\": null}, {\"index\": \".md\", \"variable\": \"AzureAudit\", \"count\": 1.0}, {\"index\": \".ipynb\", \"variable\": \"AzureAudit\", \"count\": null}, {\"index\": \".yml\", \"variable\": \"AzureAudit\", \"count\": null}, {\"index\": \".png\", \"variable\": \"AzureAudit\", \"count\": null}, {\"index\": \".pdf\", \"variable\": \"AzureAudit\", \"count\": null}, {\"index\": \".py\", \"variable\": \"AzureAudit\", \"count\": null}, {\"index\": \".pkl\", \"variable\": \"AzureAudit\", \"count\": null}, {\"index\": \".gif\", \"variable\": \"AzureAudit\", \"count\": null}, {\"index\": \".json\", \"variable\": \"AzureAudit\", \"count\": null}, {\"index\": \".txt\", \"variable\": \"AzureAudit\", \"count\": null}, {\"index\": \".html\", \"variable\": \"AzureAudit\", \"count\": null}, {\"index\": \".js\", \"variable\": \"AzureAudit\", \"count\": null}, {\"index\": \".vocab\", \"variable\": \"AzureAudit\", \"count\": null}, {\"index\": \".yaml\", \"variable\": \"AzureAudit\", \"count\": null}, {\"index\": \".jpg\", \"variable\": \"AzureAudit\", \"count\": null}, {\"index\": \".zip\", \"variable\": \"AzureAudit\", \"count\": null}, {\"index\": \".in\", \"variable\": \"AzureAudit\", \"count\": null}, {\"index\": \".ini\", \"variable\": \"AzureAudit\", \"count\": null}, {\"index\": \".lock\", \"variable\": \"AzureAudit\", \"count\": null}, {\"index\": \".xml\", \"variable\": \"AzureAudit\", \"count\": null}, {\"index\": \".css\", \"variable\": \"AzureAudit\", \"count\": null}, {\"index\": \".otf\", \"variable\": \"AzureAudit\", \"count\": null}, {\"index\": \".eot\", \"variable\": \"AzureAudit\", \"count\": null}, {\"index\": \".svg\", \"variable\": \"AzureAudit\", \"count\": null}, {\"index\": \".ttf\", \"variable\": \"AzureAudit\", \"count\": null}, {\"index\": \".woff\", \"variable\": \"AzureAudit\", \"count\": null}, {\"index\": \".woff2\", \"variable\": \"AzureAudit\", \"count\": null}, {\"index\": \".ico\", \"variable\": \"AzureAudit\", \"count\": null}, {\"index\": \".md\", \"variable\": \"maps-at-scale-hack-day-notebooks\", \"count\": 7.0}, {\"index\": \".ipynb\", \"variable\": \"maps-at-scale-hack-day-notebooks\", \"count\": 14.0}, {\"index\": \".yml\", \"variable\": \"maps-at-scale-hack-day-notebooks\", \"count\": 1.0}, {\"index\": \".png\", \"variable\": \"maps-at-scale-hack-day-notebooks\", \"count\": 22.0}, {\"index\": \".pdf\", \"variable\": \"maps-at-scale-hack-day-notebooks\", \"count\": null}, {\"index\": \".py\", \"variable\": \"maps-at-scale-hack-day-notebooks\", \"count\": null}, {\"index\": \".pkl\", \"variable\": \"maps-at-scale-hack-day-notebooks\", \"count\": null}, {\"index\": \".gif\", \"variable\": \"maps-at-scale-hack-day-notebooks\", \"count\": null}, {\"index\": \".json\", \"variable\": \"maps-at-scale-hack-day-notebooks\", \"count\": null}, {\"index\": \".txt\", \"variable\": \"maps-at-scale-hack-day-notebooks\", \"count\": null}, {\"index\": \".html\", \"variable\": \"maps-at-scale-hack-day-notebooks\", \"count\": null}, {\"index\": \".js\", \"variable\": \"maps-at-scale-hack-day-notebooks\", \"count\": null}, {\"index\": \".vocab\", \"variable\": \"maps-at-scale-hack-day-notebooks\", \"count\": null}, {\"index\": \".yaml\", \"variable\": \"maps-at-scale-hack-day-notebooks\", \"count\": null}, {\"index\": \".jpg\", \"variable\": \"maps-at-scale-hack-day-notebooks\", \"count\": 1.0}, {\"index\": \".zip\", \"variable\": \"maps-at-scale-hack-day-notebooks\", \"count\": null}, {\"index\": \".in\", \"variable\": \"maps-at-scale-hack-day-notebooks\", \"count\": null}, {\"index\": \".ini\", \"variable\": \"maps-at-scale-hack-day-notebooks\", \"count\": null}, {\"index\": \".lock\", \"variable\": \"maps-at-scale-hack-day-notebooks\", \"count\": null}, {\"index\": \".xml\", \"variable\": \"maps-at-scale-hack-day-notebooks\", \"count\": null}, {\"index\": \".css\", \"variable\": \"maps-at-scale-hack-day-notebooks\", \"count\": null}, {\"index\": \".otf\", \"variable\": \"maps-at-scale-hack-day-notebooks\", \"count\": null}, {\"index\": \".eot\", \"variable\": \"maps-at-scale-hack-day-notebooks\", \"count\": null}, {\"index\": \".svg\", \"variable\": \"maps-at-scale-hack-day-notebooks\", \"count\": null}, {\"index\": \".ttf\", \"variable\": \"maps-at-scale-hack-day-notebooks\", \"count\": null}, {\"index\": \".woff\", \"variable\": \"maps-at-scale-hack-day-notebooks\", \"count\": null}, {\"index\": \".woff2\", \"variable\": \"maps-at-scale-hack-day-notebooks\", \"count\": null}, {\"index\": \".ico\", \"variable\": \"maps-at-scale-hack-day-notebooks\", \"count\": null}, {\"index\": \".md\", \"variable\": \"deduplify\", \"count\": 5.0}, {\"index\": \".ipynb\", \"variable\": \"deduplify\", \"count\": null}, {\"index\": \".yml\", \"variable\": \"deduplify\", \"count\": 3.0}, {\"index\": \".png\", \"variable\": \"deduplify\", \"count\": null}, {\"index\": \".pdf\", \"variable\": \"deduplify\", \"count\": null}, {\"index\": \".py\", \"variable\": \"deduplify\", \"count\": 10.0}, {\"index\": \".pkl\", \"variable\": \"deduplify\", \"count\": null}, {\"index\": \".gif\", \"variable\": \"deduplify\", \"count\": null}, {\"index\": \".json\", \"variable\": \"deduplify\", \"count\": 1.0}, {\"index\": \".txt\", \"variable\": \"deduplify\", \"count\": 1.0}, {\"index\": \".html\", \"variable\": \"deduplify\", \"count\": null}, {\"index\": \".js\", \"variable\": \"deduplify\", \"count\": null}, {\"index\": \".vocab\", \"variable\": \"deduplify\", \"count\": null}, {\"index\": \".yaml\", \"variable\": \"deduplify\", \"count\": null}, {\"index\": \".jpg\", \"variable\": \"deduplify\", \"count\": null}, {\"index\": \".zip\", \"variable\": \"deduplify\", \"count\": null}, {\"index\": \".in\", \"variable\": \"deduplify\", \"count\": null}, {\"index\": \".ini\", \"variable\": \"deduplify\", \"count\": null}, {\"index\": \".lock\", \"variable\": \"deduplify\", \"count\": null}, {\"index\": \".xml\", \"variable\": \"deduplify\", \"count\": null}, {\"index\": \".css\", \"variable\": \"deduplify\", \"count\": null}, {\"index\": \".otf\", \"variable\": \"deduplify\", \"count\": null}, {\"index\": \".eot\", \"variable\": \"deduplify\", \"count\": null}, {\"index\": \".svg\", \"variable\": \"deduplify\", \"count\": null}, {\"index\": \".ttf\", \"variable\": \"deduplify\", \"count\": null}, {\"index\": \".woff\", \"variable\": \"deduplify\", \"count\": null}, {\"index\": \".woff2\", \"variable\": \"deduplify\", \"count\": null}, {\"index\": \".ico\", \"variable\": \"deduplify\", \"count\": null}, {\"index\": \".md\", \"variable\": \"AtypicalAnimacy\", \"count\": 2.0}, {\"index\": \".ipynb\", \"variable\": \"AtypicalAnimacy\", \"count\": 8.0}, {\"index\": \".yml\", \"variable\": \"AtypicalAnimacy\", \"count\": null}, {\"index\": \".png\", \"variable\": \"AtypicalAnimacy\", \"count\": null}, {\"index\": \".pdf\", \"variable\": \"AtypicalAnimacy\", \"count\": null}, {\"index\": \".py\", \"variable\": \"AtypicalAnimacy\", \"count\": 6.0}, {\"index\": \".pkl\", \"variable\": \"AtypicalAnimacy\", \"count\": null}, {\"index\": \".gif\", \"variable\": \"AtypicalAnimacy\", \"count\": null}, {\"index\": \".json\", \"variable\": \"AtypicalAnimacy\", \"count\": null}, {\"index\": \".txt\", \"variable\": \"AtypicalAnimacy\", \"count\": 1.0}, {\"index\": \".html\", \"variable\": \"AtypicalAnimacy\", \"count\": null}, {\"index\": \".js\", \"variable\": \"AtypicalAnimacy\", \"count\": null}, {\"index\": \".vocab\", \"variable\": \"AtypicalAnimacy\", \"count\": null}, {\"index\": \".yaml\", \"variable\": \"AtypicalAnimacy\", \"count\": null}, {\"index\": \".jpg\", \"variable\": \"AtypicalAnimacy\", \"count\": null}, {\"index\": \".zip\", \"variable\": \"AtypicalAnimacy\", \"count\": null}, {\"index\": \".in\", \"variable\": \"AtypicalAnimacy\", \"count\": null}, {\"index\": \".ini\", \"variable\": \"AtypicalAnimacy\", \"count\": null}, {\"index\": \".lock\", \"variable\": \"AtypicalAnimacy\", \"count\": null}, {\"index\": \".xml\", \"variable\": \"AtypicalAnimacy\", \"count\": null}, {\"index\": \".css\", \"variable\": \"AtypicalAnimacy\", \"count\": null}, {\"index\": \".otf\", \"variable\": \"AtypicalAnimacy\", \"count\": null}, {\"index\": \".eot\", \"variable\": \"AtypicalAnimacy\", \"count\": null}, {\"index\": \".svg\", \"variable\": \"AtypicalAnimacy\", \"count\": null}, {\"index\": \".ttf\", \"variable\": \"AtypicalAnimacy\", \"count\": null}, {\"index\": \".woff\", \"variable\": \"AtypicalAnimacy\", \"count\": null}, {\"index\": \".woff2\", \"variable\": \"AtypicalAnimacy\", \"count\": null}, {\"index\": \".ico\", \"variable\": \"AtypicalAnimacy\", \"count\": null}, {\"index\": \".md\", \"variable\": \"computer-vision-DHNordic-2020-workshop\", \"count\": 1.0}, {\"index\": \".ipynb\", \"variable\": \"computer-vision-DHNordic-2020-workshop\", \"count\": 3.0}, {\"index\": \".yml\", \"variable\": \"computer-vision-DHNordic-2020-workshop\", \"count\": 1.0}, {\"index\": \".png\", \"variable\": \"computer-vision-DHNordic-2020-workshop\", \"count\": 3.0}, {\"index\": \".pdf\", \"variable\": \"computer-vision-DHNordic-2020-workshop\", \"count\": null}, {\"index\": \".py\", \"variable\": \"computer-vision-DHNordic-2020-workshop\", \"count\": null}, {\"index\": \".pkl\", \"variable\": \"computer-vision-DHNordic-2020-workshop\", \"count\": null}, {\"index\": \".gif\", \"variable\": \"computer-vision-DHNordic-2020-workshop\", \"count\": null}, {\"index\": \".json\", \"variable\": \"computer-vision-DHNordic-2020-workshop\", \"count\": null}, {\"index\": \".txt\", \"variable\": \"computer-vision-DHNordic-2020-workshop\", \"count\": null}, {\"index\": \".html\", \"variable\": \"computer-vision-DHNordic-2020-workshop\", \"count\": null}, {\"index\": \".js\", \"variable\": \"computer-vision-DHNordic-2020-workshop\", \"count\": null}, {\"index\": \".vocab\", \"variable\": \"computer-vision-DHNordic-2020-workshop\", \"count\": null}, {\"index\": \".yaml\", \"variable\": \"computer-vision-DHNordic-2020-workshop\", \"count\": null}, {\"index\": \".jpg\", \"variable\": \"computer-vision-DHNordic-2020-workshop\", \"count\": null}, {\"index\": \".zip\", \"variable\": \"computer-vision-DHNordic-2020-workshop\", \"count\": 1.0}, {\"index\": \".in\", \"variable\": \"computer-vision-DHNordic-2020-workshop\", \"count\": null}, {\"index\": \".ini\", \"variable\": \"computer-vision-DHNordic-2020-workshop\", \"count\": null}, {\"index\": \".lock\", \"variable\": \"computer-vision-DHNordic-2020-workshop\", \"count\": null}, {\"index\": \".xml\", \"variable\": \"computer-vision-DHNordic-2020-workshop\", \"count\": null}, {\"index\": \".css\", \"variable\": \"computer-vision-DHNordic-2020-workshop\", \"count\": null}, {\"index\": \".otf\", \"variable\": \"computer-vision-DHNordic-2020-workshop\", \"count\": null}, {\"index\": \".eot\", \"variable\": \"computer-vision-DHNordic-2020-workshop\", \"count\": null}, {\"index\": \".svg\", \"variable\": \"computer-vision-DHNordic-2020-workshop\", \"count\": null}, {\"index\": \".ttf\", \"variable\": \"computer-vision-DHNordic-2020-workshop\", \"count\": null}, {\"index\": \".woff\", \"variable\": \"computer-vision-DHNordic-2020-workshop\", \"count\": null}, {\"index\": \".woff2\", \"variable\": \"computer-vision-DHNordic-2020-workshop\", \"count\": null}, {\"index\": \".ico\", \"variable\": \"computer-vision-DHNordic-2020-workshop\", \"count\": null}, {\"index\": \".md\", \"variable\": \"maps-at-scale-using-computer-vision-and-jupyter-notebooks\", \"count\": 1.0}, {\"index\": \".ipynb\", \"variable\": \"maps-at-scale-using-computer-vision-and-jupyter-notebooks\", \"count\": 2.0}, {\"index\": \".yml\", \"variable\": \"maps-at-scale-using-computer-vision-and-jupyter-notebooks\", \"count\": null}, {\"index\": \".png\", \"variable\": \"maps-at-scale-using-computer-vision-and-jupyter-notebooks\", \"count\": 1.0}, {\"index\": \".pdf\", \"variable\": \"maps-at-scale-using-computer-vision-and-jupyter-notebooks\", \"count\": null}, {\"index\": \".py\", \"variable\": \"maps-at-scale-using-computer-vision-and-jupyter-notebooks\", \"count\": null}, {\"index\": \".pkl\", \"variable\": \"maps-at-scale-using-computer-vision-and-jupyter-notebooks\", \"count\": null}, {\"index\": \".gif\", \"variable\": \"maps-at-scale-using-computer-vision-and-jupyter-notebooks\", \"count\": null}, {\"index\": \".json\", \"variable\": \"maps-at-scale-using-computer-vision-and-jupyter-notebooks\", \"count\": null}, {\"index\": \".txt\", \"variable\": \"maps-at-scale-using-computer-vision-and-jupyter-notebooks\", \"count\": null}, {\"index\": \".html\", \"variable\": \"maps-at-scale-using-computer-vision-and-jupyter-notebooks\", \"count\": null}, {\"index\": \".js\", \"variable\": \"maps-at-scale-using-computer-vision-and-jupyter-notebooks\", \"count\": null}, {\"index\": \".vocab\", \"variable\": \"maps-at-scale-using-computer-vision-and-jupyter-notebooks\", \"count\": null}, {\"index\": \".yaml\", \"variable\": \"maps-at-scale-using-computer-vision-and-jupyter-notebooks\", \"count\": null}, {\"index\": \".jpg\", \"variable\": \"maps-at-scale-using-computer-vision-and-jupyter-notebooks\", \"count\": null}, {\"index\": \".zip\", \"variable\": \"maps-at-scale-using-computer-vision-and-jupyter-notebooks\", \"count\": null}, {\"index\": \".in\", \"variable\": \"maps-at-scale-using-computer-vision-and-jupyter-notebooks\", \"count\": null}, {\"index\": \".ini\", \"variable\": \"maps-at-scale-using-computer-vision-and-jupyter-notebooks\", \"count\": null}, {\"index\": \".lock\", \"variable\": \"maps-at-scale-using-computer-vision-and-jupyter-notebooks\", \"count\": null}, {\"index\": \".xml\", \"variable\": \"maps-at-scale-using-computer-vision-and-jupyter-notebooks\", \"count\": null}, {\"index\": \".css\", \"variable\": \"maps-at-scale-using-computer-vision-and-jupyter-notebooks\", \"count\": null}, {\"index\": \".otf\", \"variable\": \"maps-at-scale-using-computer-vision-and-jupyter-notebooks\", \"count\": null}, {\"index\": \".eot\", \"variable\": \"maps-at-scale-using-computer-vision-and-jupyter-notebooks\", \"count\": null}, {\"index\": \".svg\", \"variable\": \"maps-at-scale-using-computer-vision-and-jupyter-notebooks\", \"count\": null}, {\"index\": \".ttf\", \"variable\": \"maps-at-scale-using-computer-vision-and-jupyter-notebooks\", \"count\": null}, {\"index\": \".woff\", \"variable\": \"maps-at-scale-using-computer-vision-and-jupyter-notebooks\", \"count\": null}, {\"index\": \".woff2\", \"variable\": \"maps-at-scale-using-computer-vision-and-jupyter-notebooks\", \"count\": null}, {\"index\": \".ico\", \"variable\": \"maps-at-scale-using-computer-vision-and-jupyter-notebooks\", \"count\": null}, {\"index\": \".md\", \"variable\": \"gh_orgstats\", \"count\": 2.0}, {\"index\": \".ipynb\", \"variable\": \"gh_orgstats\", \"count\": 2.0}, {\"index\": \".yml\", \"variable\": \"gh_orgstats\", \"count\": 11.0}, {\"index\": \".png\", \"variable\": \"gh_orgstats\", \"count\": 7.0}, {\"index\": \".pdf\", \"variable\": \"gh_orgstats\", \"count\": null}, {\"index\": \".py\", \"variable\": \"gh_orgstats\", \"count\": 4.0}, {\"index\": \".pkl\", \"variable\": \"gh_orgstats\", \"count\": null}, {\"index\": \".gif\", \"variable\": \"gh_orgstats\", \"count\": null}, {\"index\": \".json\", \"variable\": \"gh_orgstats\", \"count\": 3.0}, {\"index\": \".txt\", \"variable\": \"gh_orgstats\", \"count\": 1.0}, {\"index\": \".html\", \"variable\": \"gh_orgstats\", \"count\": 27.0}, {\"index\": \".js\", \"variable\": \"gh_orgstats\", \"count\": 6.0}, {\"index\": \".vocab\", \"variable\": \"gh_orgstats\", \"count\": null}, {\"index\": \".yaml\", \"variable\": \"gh_orgstats\", \"count\": null}, {\"index\": \".jpg\", \"variable\": \"gh_orgstats\", \"count\": null}, {\"index\": \".zip\", \"variable\": \"gh_orgstats\", \"count\": null}, {\"index\": \".in\", \"variable\": \"gh_orgstats\", \"count\": 1.0}, {\"index\": \".ini\", \"variable\": \"gh_orgstats\", \"count\": 1.0}, {\"index\": \".lock\", \"variable\": \"gh_orgstats\", \"count\": 1.0}, {\"index\": \".xml\", \"variable\": \"gh_orgstats\", \"count\": 2.0}, {\"index\": \".css\", \"variable\": \"gh_orgstats\", \"count\": 9.0}, {\"index\": \".otf\", \"variable\": \"gh_orgstats\", \"count\": 2.0}, {\"index\": \".eot\", \"variable\": \"gh_orgstats\", \"count\": 3.0}, {\"index\": \".svg\", \"variable\": \"gh_orgstats\", \"count\": 4.0}, {\"index\": \".ttf\", \"variable\": \"gh_orgstats\", \"count\": 3.0}, {\"index\": \".woff\", \"variable\": \"gh_orgstats\", \"count\": 3.0}, {\"index\": \".woff2\", \"variable\": \"gh_orgstats\", \"count\": 2.0}, {\"index\": \".ico\", \"variable\": \"gh_orgstats\", \"count\": 2.0}, {\"index\": \".md\", \"variable\": \"GazFuse\", \"count\": 1.0}, {\"index\": \".ipynb\", \"variable\": \"GazFuse\", \"count\": null}, {\"index\": \".yml\", \"variable\": \"GazFuse\", \"count\": null}, {\"index\": \".png\", \"variable\": \"GazFuse\", \"count\": null}, {\"index\": \".pdf\", \"variable\": \"GazFuse\", \"count\": null}, {\"index\": \".py\", \"variable\": \"GazFuse\", \"count\": null}, {\"index\": \".pkl\", \"variable\": \"GazFuse\", \"count\": null}, {\"index\": \".gif\", \"variable\": \"GazFuse\", \"count\": null}, {\"index\": \".json\", \"variable\": \"GazFuse\", \"count\": null}, {\"index\": \".txt\", \"variable\": \"GazFuse\", \"count\": null}, {\"index\": \".html\", \"variable\": \"GazFuse\", \"count\": null}, {\"index\": \".js\", \"variable\": \"GazFuse\", \"count\": null}, {\"index\": \".vocab\", \"variable\": \"GazFuse\", \"count\": null}, {\"index\": \".yaml\", \"variable\": \"GazFuse\", \"count\": null}, {\"index\": \".jpg\", \"variable\": \"GazFuse\", \"count\": null}, {\"index\": \".zip\", \"variable\": \"GazFuse\", \"count\": null}, {\"index\": \".in\", \"variable\": \"GazFuse\", \"count\": null}, {\"index\": \".ini\", \"variable\": \"GazFuse\", \"count\": null}, {\"index\": \".lock\", \"variable\": \"GazFuse\", \"count\": null}, {\"index\": \".xml\", \"variable\": \"GazFuse\", \"count\": null}, {\"index\": \".css\", \"variable\": \"GazFuse\", \"count\": null}, {\"index\": \".otf\", \"variable\": \"GazFuse\", \"count\": null}, {\"index\": \".eot\", \"variable\": \"GazFuse\", \"count\": null}, {\"index\": \".svg\", \"variable\": \"GazFuse\", \"count\": null}, {\"index\": \".ttf\", \"variable\": \"GazFuse\", \"count\": null}, {\"index\": \".woff\", \"variable\": \"GazFuse\", \"count\": null}, {\"index\": \".woff2\", \"variable\": \"GazFuse\", \"count\": null}, {\"index\": \".ico\", \"variable\": \"GazFuse\", \"count\": null}]}}, {\"mode\": \"vega-lite\"});\n",
       "</script>"
      ],
      "text/plain": [
       "alt.Chart(...)"
      ]
     },
     "execution_count": 1,
     "metadata": {},
     "output_type": "execute_result"
    }
   ],
   "source": [
    "df = pd.DataFrame.from_dict(lwm_stats.get_org_file_ext_frequency(\"public\"))\n",
    "df.reset_index(inplace=True)\n",
    "data = pd.melt(frame=df, id_vars=[\"index\"], value_name=\"count\")\n",
    "chart = (\n",
    "    alt.Chart(data)\n",
    "    .mark_bar()\n",
    "    .encode(\n",
    "        y=alt.Y(\n",
    "            \"variable:N\",\n",
    "            title=None,\n",
    "            sort=alt.EncodingSortField(field=\"count\", order=\"descending\", op=\"sum\"),\n",
    "        ),\n",
    "        x=alt.X(\"count:Q\", title=\"File counts\", axis=alt.Axis(tickRound=False)),\n",
    "        color=alt.Color(\"index:N\", title=\"File extension\"),\n",
    "        tooltip=[alt.Tooltip(\"index:N\", title=\"file extension\"), \"count:Q\"],\n",
    "    )\n",
    "    .properties(width=WIDTH, title='File extensions by Repository')\n",
    ")\n",
    "chart"
   ]
  },
  {
   "cell_type": "markdown",
   "metadata": {},
   "source": [
    "## Stars and Forks <a class=\"anchor\" id=\"repo-stars\"></a>\n",
    "\n",
    "[Stars](https://docs.github.com/en/free-pro-team@latest/github/getting-started-with-github/saving-repositories-with-stars) are a GitHub feature which allows registered GitHub users to 'bookmark' a repository. A GitHub [fork](https://docs.github.com/en/free-pro-team@latest/github/getting-started-with-github/fork-a-repo) indicates that someone has made a copy of the repository into their own account. Since stars and forks are only relevant for public repos we only report these below"
   ]
  },
  {
   "cell_type": "code",
   "execution_count": 17,
   "metadata": {
    "execution": {
     "iopub.execute_input": "2020-12-03T17:37:47.031836Z",
     "iopub.status.busy": "2020-12-03T17:37:47.030867Z",
     "iopub.status.idle": "2020-12-03T17:37:49.262646Z",
     "shell.execute_reply": "2020-12-03T17:37:49.261661Z"
    }
   },
   "outputs": [
    {
     "data": {
      "text/html": [
       "<div>\n",
       "<style scoped>\n",
       "    .dataframe tbody tr th:only-of-type {\n",
       "        vertical-align: middle;\n",
       "    }\n",
       "\n",
       "    .dataframe tbody tr th {\n",
       "        vertical-align: top;\n",
       "    }\n",
       "\n",
       "    .dataframe thead th {\n",
       "        text-align: right;\n",
       "    }\n",
       "</style>\n",
       "<table border=\"1\" class=\"dataframe\">\n",
       "  <thead>\n",
       "    <tr style=\"text-align: right;\">\n",
       "      <th></th>\n",
       "      <th>stars</th>\n",
       "      <th>forks</th>\n",
       "    </tr>\n",
       "  </thead>\n",
       "  <tbody>\n",
       "    <tr>\n",
       "      <th>lwm_ARTIDIGH_2020_OCR_impact_downstream_NLP_tasks</th>\n",
       "      <td>5</td>\n",
       "      <td>1</td>\n",
       "    </tr>\n",
       "    <tr>\n",
       "      <th>lwm_GIR19_resolving_places</th>\n",
       "      <td>4</td>\n",
       "      <td>1</td>\n",
       "    </tr>\n",
       "    <tr>\n",
       "      <th>D3_JS_viz_in_a_Python_Jupyter_notebook</th>\n",
       "      <td>2</td>\n",
       "      <td>0</td>\n",
       "    </tr>\n",
       "    <tr>\n",
       "      <th>DeezyMatch</th>\n",
       "      <td>30</td>\n",
       "      <td>2</td>\n",
       "    </tr>\n",
       "    <tr>\n",
       "      <th>LwM_SIGSPATIAL2020_ToponymMatching</th>\n",
       "      <td>0</td>\n",
       "      <td>0</td>\n",
       "    </tr>\n",
       "    <tr>\n",
       "      <th>AzureAudit</th>\n",
       "      <td>0</td>\n",
       "      <td>0</td>\n",
       "    </tr>\n",
       "    <tr>\n",
       "      <th>maps-at-scale-hack-day-notebooks</th>\n",
       "      <td>0</td>\n",
       "      <td>0</td>\n",
       "    </tr>\n",
       "    <tr>\n",
       "      <th>deduplify</th>\n",
       "      <td>0</td>\n",
       "      <td>0</td>\n",
       "    </tr>\n",
       "    <tr>\n",
       "      <th>AtypicalAnimacy</th>\n",
       "      <td>1</td>\n",
       "      <td>0</td>\n",
       "    </tr>\n",
       "    <tr>\n",
       "      <th>computer-vision-DHNordic-2020-workshop</th>\n",
       "      <td>0</td>\n",
       "      <td>0</td>\n",
       "    </tr>\n",
       "    <tr>\n",
       "      <th>maps-at-scale-using-computer-vision-and-jupyter-notebooks</th>\n",
       "      <td>3</td>\n",
       "      <td>0</td>\n",
       "    </tr>\n",
       "    <tr>\n",
       "      <th>gh_orgstats</th>\n",
       "      <td>0</td>\n",
       "      <td>0</td>\n",
       "    </tr>\n",
       "    <tr>\n",
       "      <th>GazFuse</th>\n",
       "      <td>0</td>\n",
       "      <td>0</td>\n",
       "    </tr>\n",
       "    <tr>\n",
       "      <th>Total</th>\n",
       "      <td>45</td>\n",
       "      <td>4</td>\n",
       "    </tr>\n",
       "  </tbody>\n",
       "</table>\n",
       "</div>"
      ],
      "text/plain": [
       "                                                    stars  forks\n",
       "lwm_ARTIDIGH_2020_OCR_impact_downstream_NLP_tasks       5      1\n",
       "lwm_GIR19_resolving_places                              4      1\n",
       "D3_JS_viz_in_a_Python_Jupyter_notebook                  2      0\n",
       "DeezyMatch                                             30      2\n",
       "LwM_SIGSPATIAL2020_ToponymMatching                      0      0\n",
       "AzureAudit                                              0      0\n",
       "maps-at-scale-hack-day-notebooks                        0      0\n",
       "deduplify                                               0      0\n",
       "AtypicalAnimacy                                         1      0\n",
       "computer-vision-DHNordic-2020-workshop                  0      0\n",
       "maps-at-scale-using-computer-vision-and-jupyter...      3      0\n",
       "gh_orgstats                                             0      0\n",
       "GazFuse                                                 0      0\n",
       "Total                                                  45      4"
      ]
     },
     "execution_count": 1,
     "metadata": {},
     "output_type": "execute_result"
    }
   ],
   "source": [
    "df = pd.DataFrame.from_dict(lwm_stats.get_org_snapshot_stats(lwm_stats.public_repos), orient='index')\n",
    "df.loc['Total']= df.sum(numeric_only=True, axis=0)\n",
    "df"
   ]
  },
  {
   "cell_type": "markdown",
   "metadata": {},
   "source": [
    "## Views <a class=\"anchor\" id=\"repo-views\"></a>\n",
    "\n",
    "GitHub provides owners of a repository with some traffic statistics, including view stats. These are broken into 'unique' and 'total' views."
   ]
  },
  {
   "cell_type": "markdown",
   "metadata": {},
   "source": [
    "### Total Views"
   ]
  },
  {
   "cell_type": "code",
   "execution_count": 18,
   "metadata": {
    "execution": {
     "iopub.execute_input": "2020-12-03T17:37:49.269021Z",
     "iopub.status.busy": "2020-12-03T17:37:49.268370Z",
     "iopub.status.idle": "2020-12-03T17:37:50.661073Z",
     "shell.execute_reply": "2020-12-03T17:37:50.660214Z"
    }
   },
   "outputs": [],
   "source": [
    "df = lwm_stats.get_org_views_traffic(public_only=True, load=True)"
   ]
  },
  {
   "cell_type": "code",
   "execution_count": 19,
   "metadata": {
    "execution": {
     "iopub.execute_input": "2020-12-03T17:37:50.668499Z",
     "iopub.status.busy": "2020-12-03T17:37:50.667803Z",
     "iopub.status.idle": "2020-12-03T17:37:50.686655Z",
     "shell.execute_reply": "2020-12-03T17:37:50.685913Z"
    }
   },
   "outputs": [
    {
     "data": {
      "text/markdown": [
       "Living with Machines public repositories have generated 1113 total views to date with an average of 86 daily views"
      ],
      "text/plain": [
       "<IPython.core.display.Markdown object>"
      ]
     },
     "execution_count": 1,
     "metadata": {},
     "output_type": "execute_result"
    }
   ],
   "source": [
    "idx = pd.IndexSlice\n",
    "total = df.loc[idx[:], idx[:,'total_views']].sum().sum()\n",
    "mean = df.loc[idx[:], idx[:,'total_views']].sum().mean()\n",
    "Markdown(f\"Living with Machines public repositories have generated {round(total)} total views to date with an average of {round(mean)} daily views\")"
   ]
  },
  {
   "cell_type": "code",
   "execution_count": 20,
   "metadata": {
    "execution": {
     "iopub.execute_input": "2020-12-03T17:37:50.693485Z",
     "iopub.status.busy": "2020-12-03T17:37:50.692822Z",
     "iopub.status.idle": "2020-12-03T17:37:50.702461Z",
     "shell.execute_reply": "2020-12-03T17:37:50.701874Z"
    }
   },
   "outputs": [],
   "source": [
    "data = pd.melt(frame=df.reset_index(), id_vars=['index'],value_name='count')"
   ]
  },
  {
   "cell_type": "code",
   "execution_count": 21,
   "metadata": {
    "execution": {
     "iopub.execute_input": "2020-12-03T17:37:50.720791Z",
     "iopub.status.busy": "2020-12-03T17:37:50.710351Z",
     "iopub.status.idle": "2020-12-03T17:37:50.736405Z",
     "shell.execute_reply": "2020-12-03T17:37:50.735712Z"
    }
   },
   "outputs": [],
   "source": [
    "brush = alt.selection(type=\"interval\")\n",
    "chart = (\n",
    "    alt.Chart(data)\n",
    "    .mark_area()\n",
    "    .encode(\n",
    "        x=alt.X(\"index:T\", axis=alt.Axis(tickCount=24, title=\"Date\")),\n",
    "        y=\"sum(count):Q\",\n",
    "        color=alt.Color(\"variable_0:N\", title=\"Repository\"),\n",
    "        tooltip=\"sum(count)\",\n",
    "    )\n",
    "    .transform_filter(alt.FieldEqualPredicate(field=\"variable_1\", equal=\"total_views\"))\n",
    "    .properties(width=WIDTH, title=\"Total views\")\n",
    "    .add_selection(brush)\n",
    ")\n",
    "\n",
    "bar = (\n",
    "    alt.Chart(data)\n",
    "    .mark_bar()\n",
    "    .encode(\n",
    "        y=alt.Y(\"variable_1:N\", title=None),\n",
    "        x=\"count:Q\",\n",
    "        color=alt.Color(\"variable_0:N\", title=\"Repository\"),\n",
    "    )\n",
    "    .properties(title=\"View by type\")\n",
    "    .transform_filter(brush)\n",
    ")\n"
   ]
  },
  {
   "cell_type": "markdown",
   "metadata": {},
   "source": [
    "## Views over time\n",
    "\n",
    "The top chart shows us the total views over time by repository, the bottom histogram breaks this down by view type"
   ]
  },
  {
   "cell_type": "code",
   "execution_count": 22,
   "metadata": {
    "execution": {
     "iopub.execute_input": "2020-12-03T17:37:50.759711Z",
     "iopub.status.busy": "2020-12-03T17:37:50.758993Z",
     "iopub.status.idle": "2020-12-03T17:37:50.775969Z",
     "shell.execute_reply": "2020-12-03T17:37:50.776514Z"
    }
   },
   "outputs": [
    {
     "data": {
      "text/html": [
       "\n",
       "<div id=\"altair-viz-88c2ea9c3c59461c97d46b5509307616\"></div>\n",
       "<script type=\"text/javascript\">\n",
       "  (function(spec, embedOpt){\n",
       "    let outputDiv = document.currentScript.previousElementSibling;\n",
       "    if (outputDiv.id !== \"altair-viz-88c2ea9c3c59461c97d46b5509307616\") {\n",
       "      outputDiv = document.getElementById(\"altair-viz-88c2ea9c3c59461c97d46b5509307616\");\n",
       "    }\n",
       "    const paths = {\n",
       "      \"vega\": \"https://cdn.jsdelivr.net/npm//vega@5?noext\",\n",
       "      \"vega-lib\": \"https://cdn.jsdelivr.net/npm//vega-lib?noext\",\n",
       "      \"vega-lite\": \"https://cdn.jsdelivr.net/npm//vega-lite@4.8.1?noext\",\n",
       "      \"vega-embed\": \"https://cdn.jsdelivr.net/npm//vega-embed@6?noext\",\n",
       "    };\n",
       "\n",
       "    function loadScript(lib) {\n",
       "      return new Promise(function(resolve, reject) {\n",
       "        var s = document.createElement('script');\n",
       "        s.src = paths[lib];\n",
       "        s.async = true;\n",
       "        s.onload = () => resolve(paths[lib]);\n",
       "        s.onerror = () => reject(`Error loading script: ${paths[lib]}`);\n",
       "        document.getElementsByTagName(\"head\")[0].appendChild(s);\n",
       "      });\n",
       "    }\n",
       "\n",
       "    function showError(err) {\n",
       "      outputDiv.innerHTML = `<div class=\"error\" style=\"color:red;\">${err}</div>`;\n",
       "      throw err;\n",
       "    }\n",
       "\n",
       "    function displayChart(vegaEmbed) {\n",
       "      vegaEmbed(outputDiv, spec, embedOpt)\n",
       "        .catch(err => showError(`Javascript Error: ${err.message}<br>This usually means there's a typo in your chart specification. See the javascript console for the full traceback.`));\n",
       "    }\n",
       "\n",
       "    if(typeof define === \"function\" && define.amd) {\n",
       "      requirejs.config({paths});\n",
       "      require([\"vega-embed\"], displayChart, err => showError(`Error loading script: ${err.message}`));\n",
       "    } else if (typeof vegaEmbed === \"function\") {\n",
       "      displayChart(vegaEmbed);\n",
       "    } else {\n",
       "      loadScript(\"vega\")\n",
       "        .then(() => loadScript(\"vega-lite\"))\n",
       "        .then(() => loadScript(\"vega-embed\"))\n",
       "        .catch(showError)\n",
       "        .then(() => displayChart(vegaEmbed));\n",
       "    }\n",
       "  })({\"config\": {\"view\": {\"continuousWidth\": 400, \"continuousHeight\": 300}}, \"vconcat\": [{\"mark\": \"area\", \"encoding\": {\"color\": {\"type\": \"nominal\", \"field\": \"variable_0\", \"title\": \"Repository\"}, \"tooltip\": {\"type\": \"quantitative\", \"aggregate\": \"sum\", \"field\": \"count\"}, \"x\": {\"type\": \"temporal\", \"axis\": {\"tickCount\": 24, \"title\": \"Date\"}, \"field\": \"index\"}, \"y\": {\"type\": \"quantitative\", \"aggregate\": \"sum\", \"field\": \"count\"}}, \"selection\": {\"selector001\": {\"type\": \"interval\"}}, \"title\": \"Total views\", \"transform\": [{\"filter\": {\"equal\": \"total_views\", \"field\": \"variable_1\"}}], \"width\": 650}, {\"mark\": \"bar\", \"encoding\": {\"color\": {\"type\": \"nominal\", \"field\": \"variable_0\", \"title\": \"Repository\"}, \"x\": {\"type\": \"quantitative\", \"field\": \"count\"}, \"y\": {\"type\": \"nominal\", \"field\": \"variable_1\", \"title\": null}}, \"title\": \"View by type\", \"transform\": [{\"filter\": {\"selection\": \"selector001\"}}]}], \"data\": {\"name\": \"data-04e6a5038dd9b7690a7d768583f68aa5\"}, \"$schema\": \"https://vega.github.io/schema/vega-lite/v4.8.1.json\", \"datasets\": {\"data-04e6a5038dd9b7690a7d768583f68aa5\": [{\"index\": \"2020-11-19T00:00:00\", \"variable_0\": \"lwm_ARTIDIGH_2020_OCR_impact_downstream_NLP_tasks\", \"variable_1\": \"total_views\", \"count\": 4.0}, {\"index\": \"2020-11-23T00:00:00\", \"variable_0\": \"lwm_ARTIDIGH_2020_OCR_impact_downstream_NLP_tasks\", \"variable_1\": \"total_views\", \"count\": 1.0}, {\"index\": \"2020-12-01T00:00:00\", \"variable_0\": \"lwm_ARTIDIGH_2020_OCR_impact_downstream_NLP_tasks\", \"variable_1\": \"total_views\", \"count\": 1.0}, {\"index\": \"2020-12-03T00:00:00\", \"variable_0\": \"lwm_ARTIDIGH_2020_OCR_impact_downstream_NLP_tasks\", \"variable_1\": \"total_views\", \"count\": 3.0}, {\"index\": \"2020-11-13T00:00:00\", \"variable_0\": \"lwm_ARTIDIGH_2020_OCR_impact_downstream_NLP_tasks\", \"variable_1\": \"total_views\", \"count\": null}, {\"index\": \"2020-11-14T00:00:00\", \"variable_0\": \"lwm_ARTIDIGH_2020_OCR_impact_downstream_NLP_tasks\", \"variable_1\": \"total_views\", \"count\": null}, {\"index\": \"2020-11-16T00:00:00\", \"variable_0\": \"lwm_ARTIDIGH_2020_OCR_impact_downstream_NLP_tasks\", \"variable_1\": \"total_views\", \"count\": null}, {\"index\": \"2020-11-17T00:00:00\", \"variable_0\": \"lwm_ARTIDIGH_2020_OCR_impact_downstream_NLP_tasks\", \"variable_1\": \"total_views\", \"count\": null}, {\"index\": \"2020-11-26T00:00:00\", \"variable_0\": \"lwm_ARTIDIGH_2020_OCR_impact_downstream_NLP_tasks\", \"variable_1\": \"total_views\", \"count\": null}, {\"index\": \"2020-11-30T00:00:00\", \"variable_0\": \"lwm_ARTIDIGH_2020_OCR_impact_downstream_NLP_tasks\", \"variable_1\": \"total_views\", \"count\": null}, {\"index\": \"2020-11-15T00:00:00\", \"variable_0\": \"lwm_ARTIDIGH_2020_OCR_impact_downstream_NLP_tasks\", \"variable_1\": \"total_views\", \"count\": null}, {\"index\": \"2020-11-18T00:00:00\", \"variable_0\": \"lwm_ARTIDIGH_2020_OCR_impact_downstream_NLP_tasks\", \"variable_1\": \"total_views\", \"count\": null}, {\"index\": \"2020-11-22T00:00:00\", \"variable_0\": \"lwm_ARTIDIGH_2020_OCR_impact_downstream_NLP_tasks\", \"variable_1\": \"total_views\", \"count\": null}, {\"index\": \"2020-11-24T00:00:00\", \"variable_0\": \"lwm_ARTIDIGH_2020_OCR_impact_downstream_NLP_tasks\", \"variable_1\": \"total_views\", \"count\": null}, {\"index\": \"2020-11-25T00:00:00\", \"variable_0\": \"lwm_ARTIDIGH_2020_OCR_impact_downstream_NLP_tasks\", \"variable_1\": \"total_views\", \"count\": null}, {\"index\": \"2020-11-27T00:00:00\", \"variable_0\": \"lwm_ARTIDIGH_2020_OCR_impact_downstream_NLP_tasks\", \"variable_1\": \"total_views\", \"count\": null}, {\"index\": \"2020-11-28T00:00:00\", \"variable_0\": \"lwm_ARTIDIGH_2020_OCR_impact_downstream_NLP_tasks\", \"variable_1\": \"total_views\", \"count\": null}, {\"index\": \"2020-11-29T00:00:00\", \"variable_0\": \"lwm_ARTIDIGH_2020_OCR_impact_downstream_NLP_tasks\", \"variable_1\": \"total_views\", \"count\": null}, {\"index\": \"2020-12-02T00:00:00\", \"variable_0\": \"lwm_ARTIDIGH_2020_OCR_impact_downstream_NLP_tasks\", \"variable_1\": \"total_views\", \"count\": null}, {\"index\": \"2020-11-12T00:00:00\", \"variable_0\": \"lwm_ARTIDIGH_2020_OCR_impact_downstream_NLP_tasks\", \"variable_1\": \"total_views\", \"count\": null}, {\"index\": \"2020-11-20T00:00:00\", \"variable_0\": \"lwm_ARTIDIGH_2020_OCR_impact_downstream_NLP_tasks\", \"variable_1\": \"total_views\", \"count\": null}, {\"index\": \"2020-11-21T00:00:00\", \"variable_0\": \"lwm_ARTIDIGH_2020_OCR_impact_downstream_NLP_tasks\", \"variable_1\": \"total_views\", \"count\": null}, {\"index\": \"2020-11-19T00:00:00\", \"variable_0\": \"lwm_ARTIDIGH_2020_OCR_impact_downstream_NLP_tasks\", \"variable_1\": \"unique_views\", \"count\": 2.0}, {\"index\": \"2020-11-23T00:00:00\", \"variable_0\": \"lwm_ARTIDIGH_2020_OCR_impact_downstream_NLP_tasks\", \"variable_1\": \"unique_views\", \"count\": 1.0}, {\"index\": \"2020-12-01T00:00:00\", \"variable_0\": \"lwm_ARTIDIGH_2020_OCR_impact_downstream_NLP_tasks\", \"variable_1\": \"unique_views\", \"count\": 1.0}, {\"index\": \"2020-12-03T00:00:00\", \"variable_0\": \"lwm_ARTIDIGH_2020_OCR_impact_downstream_NLP_tasks\", \"variable_1\": \"unique_views\", \"count\": 1.0}, {\"index\": \"2020-11-13T00:00:00\", \"variable_0\": \"lwm_ARTIDIGH_2020_OCR_impact_downstream_NLP_tasks\", \"variable_1\": \"unique_views\", \"count\": null}, {\"index\": \"2020-11-14T00:00:00\", \"variable_0\": \"lwm_ARTIDIGH_2020_OCR_impact_downstream_NLP_tasks\", \"variable_1\": \"unique_views\", \"count\": null}, {\"index\": \"2020-11-16T00:00:00\", \"variable_0\": \"lwm_ARTIDIGH_2020_OCR_impact_downstream_NLP_tasks\", \"variable_1\": \"unique_views\", \"count\": null}, {\"index\": \"2020-11-17T00:00:00\", \"variable_0\": \"lwm_ARTIDIGH_2020_OCR_impact_downstream_NLP_tasks\", \"variable_1\": \"unique_views\", \"count\": null}, {\"index\": \"2020-11-26T00:00:00\", \"variable_0\": \"lwm_ARTIDIGH_2020_OCR_impact_downstream_NLP_tasks\", \"variable_1\": \"unique_views\", \"count\": null}, {\"index\": \"2020-11-30T00:00:00\", \"variable_0\": \"lwm_ARTIDIGH_2020_OCR_impact_downstream_NLP_tasks\", \"variable_1\": \"unique_views\", \"count\": null}, {\"index\": \"2020-11-15T00:00:00\", \"variable_0\": \"lwm_ARTIDIGH_2020_OCR_impact_downstream_NLP_tasks\", \"variable_1\": \"unique_views\", \"count\": null}, {\"index\": \"2020-11-18T00:00:00\", \"variable_0\": \"lwm_ARTIDIGH_2020_OCR_impact_downstream_NLP_tasks\", \"variable_1\": \"unique_views\", \"count\": null}, {\"index\": \"2020-11-22T00:00:00\", \"variable_0\": \"lwm_ARTIDIGH_2020_OCR_impact_downstream_NLP_tasks\", \"variable_1\": \"unique_views\", \"count\": null}, {\"index\": \"2020-11-24T00:00:00\", \"variable_0\": \"lwm_ARTIDIGH_2020_OCR_impact_downstream_NLP_tasks\", \"variable_1\": \"unique_views\", \"count\": null}, {\"index\": \"2020-11-25T00:00:00\", \"variable_0\": \"lwm_ARTIDIGH_2020_OCR_impact_downstream_NLP_tasks\", \"variable_1\": \"unique_views\", \"count\": null}, {\"index\": \"2020-11-27T00:00:00\", \"variable_0\": \"lwm_ARTIDIGH_2020_OCR_impact_downstream_NLP_tasks\", \"variable_1\": \"unique_views\", \"count\": null}, {\"index\": \"2020-11-28T00:00:00\", \"variable_0\": \"lwm_ARTIDIGH_2020_OCR_impact_downstream_NLP_tasks\", \"variable_1\": \"unique_views\", \"count\": null}, {\"index\": \"2020-11-29T00:00:00\", \"variable_0\": \"lwm_ARTIDIGH_2020_OCR_impact_downstream_NLP_tasks\", \"variable_1\": \"unique_views\", \"count\": null}, {\"index\": \"2020-12-02T00:00:00\", \"variable_0\": \"lwm_ARTIDIGH_2020_OCR_impact_downstream_NLP_tasks\", \"variable_1\": \"unique_views\", \"count\": null}, {\"index\": \"2020-11-12T00:00:00\", \"variable_0\": \"lwm_ARTIDIGH_2020_OCR_impact_downstream_NLP_tasks\", \"variable_1\": \"unique_views\", \"count\": null}, {\"index\": \"2020-11-20T00:00:00\", \"variable_0\": \"lwm_ARTIDIGH_2020_OCR_impact_downstream_NLP_tasks\", \"variable_1\": \"unique_views\", \"count\": null}, {\"index\": \"2020-11-21T00:00:00\", \"variable_0\": \"lwm_ARTIDIGH_2020_OCR_impact_downstream_NLP_tasks\", \"variable_1\": \"unique_views\", \"count\": null}, {\"index\": \"2020-11-19T00:00:00\", \"variable_0\": \"lwm_GIR19_resolving_places\", \"variable_1\": \"total_views\", \"count\": null}, {\"index\": \"2020-11-23T00:00:00\", \"variable_0\": \"lwm_GIR19_resolving_places\", \"variable_1\": \"total_views\", \"count\": null}, {\"index\": \"2020-12-01T00:00:00\", \"variable_0\": \"lwm_GIR19_resolving_places\", \"variable_1\": \"total_views\", \"count\": 6.0}, {\"index\": \"2020-12-03T00:00:00\", \"variable_0\": \"lwm_GIR19_resolving_places\", \"variable_1\": \"total_views\", \"count\": 3.0}, {\"index\": \"2020-11-13T00:00:00\", \"variable_0\": \"lwm_GIR19_resolving_places\", \"variable_1\": \"total_views\", \"count\": 2.0}, {\"index\": \"2020-11-14T00:00:00\", \"variable_0\": \"lwm_GIR19_resolving_places\", \"variable_1\": \"total_views\", \"count\": 1.0}, {\"index\": \"2020-11-16T00:00:00\", \"variable_0\": \"lwm_GIR19_resolving_places\", \"variable_1\": \"total_views\", \"count\": 3.0}, {\"index\": \"2020-11-17T00:00:00\", \"variable_0\": \"lwm_GIR19_resolving_places\", \"variable_1\": \"total_views\", \"count\": 1.0}, {\"index\": \"2020-11-26T00:00:00\", \"variable_0\": \"lwm_GIR19_resolving_places\", \"variable_1\": \"total_views\", \"count\": 1.0}, {\"index\": \"2020-11-30T00:00:00\", \"variable_0\": \"lwm_GIR19_resolving_places\", \"variable_1\": \"total_views\", \"count\": 2.0}, {\"index\": \"2020-11-15T00:00:00\", \"variable_0\": \"lwm_GIR19_resolving_places\", \"variable_1\": \"total_views\", \"count\": null}, {\"index\": \"2020-11-18T00:00:00\", \"variable_0\": \"lwm_GIR19_resolving_places\", \"variable_1\": \"total_views\", \"count\": null}, {\"index\": \"2020-11-22T00:00:00\", \"variable_0\": \"lwm_GIR19_resolving_places\", \"variable_1\": \"total_views\", \"count\": null}, {\"index\": \"2020-11-24T00:00:00\", \"variable_0\": \"lwm_GIR19_resolving_places\", \"variable_1\": \"total_views\", \"count\": null}, {\"index\": \"2020-11-25T00:00:00\", \"variable_0\": \"lwm_GIR19_resolving_places\", \"variable_1\": \"total_views\", \"count\": null}, {\"index\": \"2020-11-27T00:00:00\", \"variable_0\": \"lwm_GIR19_resolving_places\", \"variable_1\": \"total_views\", \"count\": null}, {\"index\": \"2020-11-28T00:00:00\", \"variable_0\": \"lwm_GIR19_resolving_places\", \"variable_1\": \"total_views\", \"count\": null}, {\"index\": \"2020-11-29T00:00:00\", \"variable_0\": \"lwm_GIR19_resolving_places\", \"variable_1\": \"total_views\", \"count\": null}, {\"index\": \"2020-12-02T00:00:00\", \"variable_0\": \"lwm_GIR19_resolving_places\", \"variable_1\": \"total_views\", \"count\": null}, {\"index\": \"2020-11-12T00:00:00\", \"variable_0\": \"lwm_GIR19_resolving_places\", \"variable_1\": \"total_views\", \"count\": null}, {\"index\": \"2020-11-20T00:00:00\", \"variable_0\": \"lwm_GIR19_resolving_places\", \"variable_1\": \"total_views\", \"count\": null}, {\"index\": \"2020-11-21T00:00:00\", \"variable_0\": \"lwm_GIR19_resolving_places\", \"variable_1\": \"total_views\", \"count\": null}, {\"index\": \"2020-11-19T00:00:00\", \"variable_0\": \"lwm_GIR19_resolving_places\", \"variable_1\": \"unique_views\", \"count\": null}, {\"index\": \"2020-11-23T00:00:00\", \"variable_0\": \"lwm_GIR19_resolving_places\", \"variable_1\": \"unique_views\", \"count\": null}, {\"index\": \"2020-12-01T00:00:00\", \"variable_0\": \"lwm_GIR19_resolving_places\", \"variable_1\": \"unique_views\", \"count\": 2.0}, {\"index\": \"2020-12-03T00:00:00\", \"variable_0\": \"lwm_GIR19_resolving_places\", \"variable_1\": \"unique_views\", \"count\": 1.0}, {\"index\": \"2020-11-13T00:00:00\", \"variable_0\": \"lwm_GIR19_resolving_places\", \"variable_1\": \"unique_views\", \"count\": 1.0}, {\"index\": \"2020-11-14T00:00:00\", \"variable_0\": \"lwm_GIR19_resolving_places\", \"variable_1\": \"unique_views\", \"count\": 1.0}, {\"index\": \"2020-11-16T00:00:00\", \"variable_0\": \"lwm_GIR19_resolving_places\", \"variable_1\": \"unique_views\", \"count\": 1.0}, {\"index\": \"2020-11-17T00:00:00\", \"variable_0\": \"lwm_GIR19_resolving_places\", \"variable_1\": \"unique_views\", \"count\": 1.0}, {\"index\": \"2020-11-26T00:00:00\", \"variable_0\": \"lwm_GIR19_resolving_places\", \"variable_1\": \"unique_views\", \"count\": 1.0}, {\"index\": \"2020-11-30T00:00:00\", \"variable_0\": \"lwm_GIR19_resolving_places\", \"variable_1\": \"unique_views\", \"count\": 1.0}, {\"index\": \"2020-11-15T00:00:00\", \"variable_0\": \"lwm_GIR19_resolving_places\", \"variable_1\": \"unique_views\", \"count\": null}, {\"index\": \"2020-11-18T00:00:00\", \"variable_0\": \"lwm_GIR19_resolving_places\", \"variable_1\": \"unique_views\", \"count\": null}, {\"index\": \"2020-11-22T00:00:00\", \"variable_0\": \"lwm_GIR19_resolving_places\", \"variable_1\": \"unique_views\", \"count\": null}, {\"index\": \"2020-11-24T00:00:00\", \"variable_0\": \"lwm_GIR19_resolving_places\", \"variable_1\": \"unique_views\", \"count\": null}, {\"index\": \"2020-11-25T00:00:00\", \"variable_0\": \"lwm_GIR19_resolving_places\", \"variable_1\": \"unique_views\", \"count\": null}, {\"index\": \"2020-11-27T00:00:00\", \"variable_0\": \"lwm_GIR19_resolving_places\", \"variable_1\": \"unique_views\", \"count\": null}, {\"index\": \"2020-11-28T00:00:00\", \"variable_0\": \"lwm_GIR19_resolving_places\", \"variable_1\": \"unique_views\", \"count\": null}, {\"index\": \"2020-11-29T00:00:00\", \"variable_0\": \"lwm_GIR19_resolving_places\", \"variable_1\": \"unique_views\", \"count\": null}, {\"index\": \"2020-12-02T00:00:00\", \"variable_0\": \"lwm_GIR19_resolving_places\", \"variable_1\": \"unique_views\", \"count\": null}, {\"index\": \"2020-11-12T00:00:00\", \"variable_0\": \"lwm_GIR19_resolving_places\", \"variable_1\": \"unique_views\", \"count\": null}, {\"index\": \"2020-11-20T00:00:00\", \"variable_0\": \"lwm_GIR19_resolving_places\", \"variable_1\": \"unique_views\", \"count\": null}, {\"index\": \"2020-11-21T00:00:00\", \"variable_0\": \"lwm_GIR19_resolving_places\", \"variable_1\": \"unique_views\", \"count\": null}, {\"index\": \"2020-11-19T00:00:00\", \"variable_0\": \"D3_JS_viz_in_a_Python_Jupyter_notebook\", \"variable_1\": \"total_views\", \"count\": null}, {\"index\": \"2020-11-23T00:00:00\", \"variable_0\": \"D3_JS_viz_in_a_Python_Jupyter_notebook\", \"variable_1\": \"total_views\", \"count\": null}, {\"index\": \"2020-12-01T00:00:00\", \"variable_0\": \"D3_JS_viz_in_a_Python_Jupyter_notebook\", \"variable_1\": \"total_views\", \"count\": null}, {\"index\": \"2020-12-03T00:00:00\", \"variable_0\": \"D3_JS_viz_in_a_Python_Jupyter_notebook\", \"variable_1\": \"total_views\", \"count\": 3.0}, {\"index\": \"2020-11-13T00:00:00\", \"variable_0\": \"D3_JS_viz_in_a_Python_Jupyter_notebook\", \"variable_1\": \"total_views\", \"count\": null}, {\"index\": \"2020-11-14T00:00:00\", \"variable_0\": \"D3_JS_viz_in_a_Python_Jupyter_notebook\", \"variable_1\": \"total_views\", \"count\": null}, {\"index\": \"2020-11-16T00:00:00\", \"variable_0\": \"D3_JS_viz_in_a_Python_Jupyter_notebook\", \"variable_1\": \"total_views\", \"count\": 2.0}, {\"index\": \"2020-11-17T00:00:00\", \"variable_0\": \"D3_JS_viz_in_a_Python_Jupyter_notebook\", \"variable_1\": \"total_views\", \"count\": 1.0}, {\"index\": \"2020-11-26T00:00:00\", \"variable_0\": \"D3_JS_viz_in_a_Python_Jupyter_notebook\", \"variable_1\": \"total_views\", \"count\": null}, {\"index\": \"2020-11-30T00:00:00\", \"variable_0\": \"D3_JS_viz_in_a_Python_Jupyter_notebook\", \"variable_1\": \"total_views\", \"count\": 2.0}, {\"index\": \"2020-11-15T00:00:00\", \"variable_0\": \"D3_JS_viz_in_a_Python_Jupyter_notebook\", \"variable_1\": \"total_views\", \"count\": 2.0}, {\"index\": \"2020-11-18T00:00:00\", \"variable_0\": \"D3_JS_viz_in_a_Python_Jupyter_notebook\", \"variable_1\": \"total_views\", \"count\": 2.0}, {\"index\": \"2020-11-22T00:00:00\", \"variable_0\": \"D3_JS_viz_in_a_Python_Jupyter_notebook\", \"variable_1\": \"total_views\", \"count\": 1.0}, {\"index\": \"2020-11-24T00:00:00\", \"variable_0\": \"D3_JS_viz_in_a_Python_Jupyter_notebook\", \"variable_1\": \"total_views\", \"count\": 16.0}, {\"index\": \"2020-11-25T00:00:00\", \"variable_0\": \"D3_JS_viz_in_a_Python_Jupyter_notebook\", \"variable_1\": \"total_views\", \"count\": 2.0}, {\"index\": \"2020-11-27T00:00:00\", \"variable_0\": \"D3_JS_viz_in_a_Python_Jupyter_notebook\", \"variable_1\": \"total_views\", \"count\": 2.0}, {\"index\": \"2020-11-28T00:00:00\", \"variable_0\": \"D3_JS_viz_in_a_Python_Jupyter_notebook\", \"variable_1\": \"total_views\", \"count\": 3.0}, {\"index\": \"2020-11-29T00:00:00\", \"variable_0\": \"D3_JS_viz_in_a_Python_Jupyter_notebook\", \"variable_1\": \"total_views\", \"count\": 4.0}, {\"index\": \"2020-12-02T00:00:00\", \"variable_0\": \"D3_JS_viz_in_a_Python_Jupyter_notebook\", \"variable_1\": \"total_views\", \"count\": 2.0}, {\"index\": \"2020-11-12T00:00:00\", \"variable_0\": \"D3_JS_viz_in_a_Python_Jupyter_notebook\", \"variable_1\": \"total_views\", \"count\": null}, {\"index\": \"2020-11-20T00:00:00\", \"variable_0\": \"D3_JS_viz_in_a_Python_Jupyter_notebook\", \"variable_1\": \"total_views\", \"count\": null}, {\"index\": \"2020-11-21T00:00:00\", \"variable_0\": \"D3_JS_viz_in_a_Python_Jupyter_notebook\", \"variable_1\": \"total_views\", \"count\": null}, {\"index\": \"2020-11-19T00:00:00\", \"variable_0\": \"D3_JS_viz_in_a_Python_Jupyter_notebook\", \"variable_1\": \"unique_views\", \"count\": null}, {\"index\": \"2020-11-23T00:00:00\", \"variable_0\": \"D3_JS_viz_in_a_Python_Jupyter_notebook\", \"variable_1\": \"unique_views\", \"count\": null}, {\"index\": \"2020-12-01T00:00:00\", \"variable_0\": \"D3_JS_viz_in_a_Python_Jupyter_notebook\", \"variable_1\": \"unique_views\", \"count\": null}, {\"index\": \"2020-12-03T00:00:00\", \"variable_0\": \"D3_JS_viz_in_a_Python_Jupyter_notebook\", \"variable_1\": \"unique_views\", \"count\": 2.0}, {\"index\": \"2020-11-13T00:00:00\", \"variable_0\": \"D3_JS_viz_in_a_Python_Jupyter_notebook\", \"variable_1\": \"unique_views\", \"count\": null}, {\"index\": \"2020-11-14T00:00:00\", \"variable_0\": \"D3_JS_viz_in_a_Python_Jupyter_notebook\", \"variable_1\": \"unique_views\", \"count\": null}, {\"index\": \"2020-11-16T00:00:00\", \"variable_0\": \"D3_JS_viz_in_a_Python_Jupyter_notebook\", \"variable_1\": \"unique_views\", \"count\": 1.0}, {\"index\": \"2020-11-17T00:00:00\", \"variable_0\": \"D3_JS_viz_in_a_Python_Jupyter_notebook\", \"variable_1\": \"unique_views\", \"count\": 1.0}, {\"index\": \"2020-11-26T00:00:00\", \"variable_0\": \"D3_JS_viz_in_a_Python_Jupyter_notebook\", \"variable_1\": \"unique_views\", \"count\": null}, {\"index\": \"2020-11-30T00:00:00\", \"variable_0\": \"D3_JS_viz_in_a_Python_Jupyter_notebook\", \"variable_1\": \"unique_views\", \"count\": 1.0}, {\"index\": \"2020-11-15T00:00:00\", \"variable_0\": \"D3_JS_viz_in_a_Python_Jupyter_notebook\", \"variable_1\": \"unique_views\", \"count\": 1.0}, {\"index\": \"2020-11-18T00:00:00\", \"variable_0\": \"D3_JS_viz_in_a_Python_Jupyter_notebook\", \"variable_1\": \"unique_views\", \"count\": 1.0}, {\"index\": \"2020-11-22T00:00:00\", \"variable_0\": \"D3_JS_viz_in_a_Python_Jupyter_notebook\", \"variable_1\": \"unique_views\", \"count\": 1.0}, {\"index\": \"2020-11-24T00:00:00\", \"variable_0\": \"D3_JS_viz_in_a_Python_Jupyter_notebook\", \"variable_1\": \"unique_views\", \"count\": 5.0}, {\"index\": \"2020-11-25T00:00:00\", \"variable_0\": \"D3_JS_viz_in_a_Python_Jupyter_notebook\", \"variable_1\": \"unique_views\", \"count\": 1.0}, {\"index\": \"2020-11-27T00:00:00\", \"variable_0\": \"D3_JS_viz_in_a_Python_Jupyter_notebook\", \"variable_1\": \"unique_views\", \"count\": 1.0}, {\"index\": \"2020-11-28T00:00:00\", \"variable_0\": \"D3_JS_viz_in_a_Python_Jupyter_notebook\", \"variable_1\": \"unique_views\", \"count\": 1.0}, {\"index\": \"2020-11-29T00:00:00\", \"variable_0\": \"D3_JS_viz_in_a_Python_Jupyter_notebook\", \"variable_1\": \"unique_views\", \"count\": 2.0}, {\"index\": \"2020-12-02T00:00:00\", \"variable_0\": \"D3_JS_viz_in_a_Python_Jupyter_notebook\", \"variable_1\": \"unique_views\", \"count\": 2.0}, {\"index\": \"2020-11-12T00:00:00\", \"variable_0\": \"D3_JS_viz_in_a_Python_Jupyter_notebook\", \"variable_1\": \"unique_views\", \"count\": null}, {\"index\": \"2020-11-20T00:00:00\", \"variable_0\": \"D3_JS_viz_in_a_Python_Jupyter_notebook\", \"variable_1\": \"unique_views\", \"count\": null}, {\"index\": \"2020-11-21T00:00:00\", \"variable_0\": \"D3_JS_viz_in_a_Python_Jupyter_notebook\", \"variable_1\": \"unique_views\", \"count\": null}, {\"index\": \"2020-11-19T00:00:00\", \"variable_0\": \"DeezyMatch\", \"variable_1\": \"total_views\", \"count\": 7.0}, {\"index\": \"2020-11-23T00:00:00\", \"variable_0\": \"DeezyMatch\", \"variable_1\": \"total_views\", \"count\": 26.0}, {\"index\": \"2020-12-01T00:00:00\", \"variable_0\": \"DeezyMatch\", \"variable_1\": \"total_views\", \"count\": 19.0}, {\"index\": \"2020-12-03T00:00:00\", \"variable_0\": \"DeezyMatch\", \"variable_1\": \"total_views\", \"count\": 109.0}, {\"index\": \"2020-11-13T00:00:00\", \"variable_0\": \"DeezyMatch\", \"variable_1\": \"total_views\", \"count\": 3.0}, {\"index\": \"2020-11-14T00:00:00\", \"variable_0\": \"DeezyMatch\", \"variable_1\": \"total_views\", \"count\": 6.0}, {\"index\": \"2020-11-16T00:00:00\", \"variable_0\": \"DeezyMatch\", \"variable_1\": \"total_views\", \"count\": 39.0}, {\"index\": \"2020-11-17T00:00:00\", \"variable_0\": \"DeezyMatch\", \"variable_1\": \"total_views\", \"count\": 1.0}, {\"index\": \"2020-11-26T00:00:00\", \"variable_0\": \"DeezyMatch\", \"variable_1\": \"total_views\", \"count\": 52.0}, {\"index\": \"2020-11-30T00:00:00\", \"variable_0\": \"DeezyMatch\", \"variable_1\": \"total_views\", \"count\": 15.0}, {\"index\": \"2020-11-15T00:00:00\", \"variable_0\": \"DeezyMatch\", \"variable_1\": \"total_views\", \"count\": 14.0}, {\"index\": \"2020-11-18T00:00:00\", \"variable_0\": \"DeezyMatch\", \"variable_1\": \"total_views\", \"count\": 1.0}, {\"index\": \"2020-11-22T00:00:00\", \"variable_0\": \"DeezyMatch\", \"variable_1\": \"total_views\", \"count\": 2.0}, {\"index\": \"2020-11-24T00:00:00\", \"variable_0\": \"DeezyMatch\", \"variable_1\": \"total_views\", \"count\": 8.0}, {\"index\": \"2020-11-25T00:00:00\", \"variable_0\": \"DeezyMatch\", \"variable_1\": \"total_views\", \"count\": 51.0}, {\"index\": \"2020-11-27T00:00:00\", \"variable_0\": \"DeezyMatch\", \"variable_1\": \"total_views\", \"count\": 8.0}, {\"index\": \"2020-11-28T00:00:00\", \"variable_0\": \"DeezyMatch\", \"variable_1\": \"total_views\", \"count\": 8.0}, {\"index\": \"2020-11-29T00:00:00\", \"variable_0\": \"DeezyMatch\", \"variable_1\": \"total_views\", \"count\": 4.0}, {\"index\": \"2020-12-02T00:00:00\", \"variable_0\": \"DeezyMatch\", \"variable_1\": \"total_views\", \"count\": 21.0}, {\"index\": \"2020-11-12T00:00:00\", \"variable_0\": \"DeezyMatch\", \"variable_1\": \"total_views\", \"count\": 1.0}, {\"index\": \"2020-11-20T00:00:00\", \"variable_0\": \"DeezyMatch\", \"variable_1\": \"total_views\", \"count\": 24.0}, {\"index\": \"2020-11-21T00:00:00\", \"variable_0\": \"DeezyMatch\", \"variable_1\": \"total_views\", \"count\": 10.0}, {\"index\": \"2020-11-19T00:00:00\", \"variable_0\": \"DeezyMatch\", \"variable_1\": \"unique_views\", \"count\": 2.0}, {\"index\": \"2020-11-23T00:00:00\", \"variable_0\": \"DeezyMatch\", \"variable_1\": \"unique_views\", \"count\": 9.0}, {\"index\": \"2020-12-01T00:00:00\", \"variable_0\": \"DeezyMatch\", \"variable_1\": \"unique_views\", \"count\": 6.0}, {\"index\": \"2020-12-03T00:00:00\", \"variable_0\": \"DeezyMatch\", \"variable_1\": \"unique_views\", \"count\": 41.0}, {\"index\": \"2020-11-13T00:00:00\", \"variable_0\": \"DeezyMatch\", \"variable_1\": \"unique_views\", \"count\": 2.0}, {\"index\": \"2020-11-14T00:00:00\", \"variable_0\": \"DeezyMatch\", \"variable_1\": \"unique_views\", \"count\": 3.0}, {\"index\": \"2020-11-16T00:00:00\", \"variable_0\": \"DeezyMatch\", \"variable_1\": \"unique_views\", \"count\": 6.0}, {\"index\": \"2020-11-17T00:00:00\", \"variable_0\": \"DeezyMatch\", \"variable_1\": \"unique_views\", \"count\": 1.0}, {\"index\": \"2020-11-26T00:00:00\", \"variable_0\": \"DeezyMatch\", \"variable_1\": \"unique_views\", \"count\": 6.0}, {\"index\": \"2020-11-30T00:00:00\", \"variable_0\": \"DeezyMatch\", \"variable_1\": \"unique_views\", \"count\": 6.0}, {\"index\": \"2020-11-15T00:00:00\", \"variable_0\": \"DeezyMatch\", \"variable_1\": \"unique_views\", \"count\": 6.0}, {\"index\": \"2020-11-18T00:00:00\", \"variable_0\": \"DeezyMatch\", \"variable_1\": \"unique_views\", \"count\": 1.0}, {\"index\": \"2020-11-22T00:00:00\", \"variable_0\": \"DeezyMatch\", \"variable_1\": \"unique_views\", \"count\": 1.0}, {\"index\": \"2020-11-24T00:00:00\", \"variable_0\": \"DeezyMatch\", \"variable_1\": \"unique_views\", \"count\": 4.0}, {\"index\": \"2020-11-25T00:00:00\", \"variable_0\": \"DeezyMatch\", \"variable_1\": \"unique_views\", \"count\": 10.0}, {\"index\": \"2020-11-27T00:00:00\", \"variable_0\": \"DeezyMatch\", \"variable_1\": \"unique_views\", \"count\": 7.0}, {\"index\": \"2020-11-28T00:00:00\", \"variable_0\": \"DeezyMatch\", \"variable_1\": \"unique_views\", \"count\": 3.0}, {\"index\": \"2020-11-29T00:00:00\", \"variable_0\": \"DeezyMatch\", \"variable_1\": \"unique_views\", \"count\": 2.0}, {\"index\": \"2020-12-02T00:00:00\", \"variable_0\": \"DeezyMatch\", \"variable_1\": \"unique_views\", \"count\": 10.0}, {\"index\": \"2020-11-12T00:00:00\", \"variable_0\": \"DeezyMatch\", \"variable_1\": \"unique_views\", \"count\": 1.0}, {\"index\": \"2020-11-20T00:00:00\", \"variable_0\": \"DeezyMatch\", \"variable_1\": \"unique_views\", \"count\": 12.0}, {\"index\": \"2020-11-21T00:00:00\", \"variable_0\": \"DeezyMatch\", \"variable_1\": \"unique_views\", \"count\": 7.0}, {\"index\": \"2020-11-19T00:00:00\", \"variable_0\": \"LwM_SIGSPATIAL2020_ToponymMatching\", \"variable_1\": \"total_views\", \"count\": null}, {\"index\": \"2020-11-23T00:00:00\", \"variable_0\": \"LwM_SIGSPATIAL2020_ToponymMatching\", \"variable_1\": \"total_views\", \"count\": 7.0}, {\"index\": \"2020-12-01T00:00:00\", \"variable_0\": \"LwM_SIGSPATIAL2020_ToponymMatching\", \"variable_1\": \"total_views\", \"count\": 27.0}, {\"index\": \"2020-12-03T00:00:00\", \"variable_0\": \"LwM_SIGSPATIAL2020_ToponymMatching\", \"variable_1\": \"total_views\", \"count\": 3.0}, {\"index\": \"2020-11-13T00:00:00\", \"variable_0\": \"LwM_SIGSPATIAL2020_ToponymMatching\", \"variable_1\": \"total_views\", \"count\": 2.0}, {\"index\": \"2020-11-14T00:00:00\", \"variable_0\": \"LwM_SIGSPATIAL2020_ToponymMatching\", \"variable_1\": \"total_views\", \"count\": null}, {\"index\": \"2020-11-16T00:00:00\", \"variable_0\": \"LwM_SIGSPATIAL2020_ToponymMatching\", \"variable_1\": \"total_views\", \"count\": 3.0}, {\"index\": \"2020-11-17T00:00:00\", \"variable_0\": \"LwM_SIGSPATIAL2020_ToponymMatching\", \"variable_1\": \"total_views\", \"count\": 1.0}, {\"index\": \"2020-11-26T00:00:00\", \"variable_0\": \"LwM_SIGSPATIAL2020_ToponymMatching\", \"variable_1\": \"total_views\", \"count\": null}, {\"index\": \"2020-11-30T00:00:00\", \"variable_0\": \"LwM_SIGSPATIAL2020_ToponymMatching\", \"variable_1\": \"total_views\", \"count\": 7.0}, {\"index\": \"2020-11-15T00:00:00\", \"variable_0\": \"LwM_SIGSPATIAL2020_ToponymMatching\", \"variable_1\": \"total_views\", \"count\": null}, {\"index\": \"2020-11-18T00:00:00\", \"variable_0\": \"LwM_SIGSPATIAL2020_ToponymMatching\", \"variable_1\": \"total_views\", \"count\": null}, {\"index\": \"2020-11-22T00:00:00\", \"variable_0\": \"LwM_SIGSPATIAL2020_ToponymMatching\", \"variable_1\": \"total_views\", \"count\": null}, {\"index\": \"2020-11-24T00:00:00\", \"variable_0\": \"LwM_SIGSPATIAL2020_ToponymMatching\", \"variable_1\": \"total_views\", \"count\": null}, {\"index\": \"2020-11-25T00:00:00\", \"variable_0\": \"LwM_SIGSPATIAL2020_ToponymMatching\", \"variable_1\": \"total_views\", \"count\": 31.0}, {\"index\": \"2020-11-27T00:00:00\", \"variable_0\": \"LwM_SIGSPATIAL2020_ToponymMatching\", \"variable_1\": \"total_views\", \"count\": null}, {\"index\": \"2020-11-28T00:00:00\", \"variable_0\": \"LwM_SIGSPATIAL2020_ToponymMatching\", \"variable_1\": \"total_views\", \"count\": null}, {\"index\": \"2020-11-29T00:00:00\", \"variable_0\": \"LwM_SIGSPATIAL2020_ToponymMatching\", \"variable_1\": \"total_views\", \"count\": null}, {\"index\": \"2020-12-02T00:00:00\", \"variable_0\": \"LwM_SIGSPATIAL2020_ToponymMatching\", \"variable_1\": \"total_views\", \"count\": 1.0}, {\"index\": \"2020-11-12T00:00:00\", \"variable_0\": \"LwM_SIGSPATIAL2020_ToponymMatching\", \"variable_1\": \"total_views\", \"count\": null}, {\"index\": \"2020-11-20T00:00:00\", \"variable_0\": \"LwM_SIGSPATIAL2020_ToponymMatching\", \"variable_1\": \"total_views\", \"count\": 2.0}, {\"index\": \"2020-11-21T00:00:00\", \"variable_0\": \"LwM_SIGSPATIAL2020_ToponymMatching\", \"variable_1\": \"total_views\", \"count\": null}, {\"index\": \"2020-11-19T00:00:00\", \"variable_0\": \"LwM_SIGSPATIAL2020_ToponymMatching\", \"variable_1\": \"unique_views\", \"count\": null}, {\"index\": \"2020-11-23T00:00:00\", \"variable_0\": \"LwM_SIGSPATIAL2020_ToponymMatching\", \"variable_1\": \"unique_views\", \"count\": 2.0}, {\"index\": \"2020-12-01T00:00:00\", \"variable_0\": \"LwM_SIGSPATIAL2020_ToponymMatching\", \"variable_1\": \"unique_views\", \"count\": 2.0}, {\"index\": \"2020-12-03T00:00:00\", \"variable_0\": \"LwM_SIGSPATIAL2020_ToponymMatching\", \"variable_1\": \"unique_views\", \"count\": 1.0}, {\"index\": \"2020-11-13T00:00:00\", \"variable_0\": \"LwM_SIGSPATIAL2020_ToponymMatching\", \"variable_1\": \"unique_views\", \"count\": 1.0}, {\"index\": \"2020-11-14T00:00:00\", \"variable_0\": \"LwM_SIGSPATIAL2020_ToponymMatching\", \"variable_1\": \"unique_views\", \"count\": null}, {\"index\": \"2020-11-16T00:00:00\", \"variable_0\": \"LwM_SIGSPATIAL2020_ToponymMatching\", \"variable_1\": \"unique_views\", \"count\": 1.0}, {\"index\": \"2020-11-17T00:00:00\", \"variable_0\": \"LwM_SIGSPATIAL2020_ToponymMatching\", \"variable_1\": \"unique_views\", \"count\": 1.0}, {\"index\": \"2020-11-26T00:00:00\", \"variable_0\": \"LwM_SIGSPATIAL2020_ToponymMatching\", \"variable_1\": \"unique_views\", \"count\": null}, {\"index\": \"2020-11-30T00:00:00\", \"variable_0\": \"LwM_SIGSPATIAL2020_ToponymMatching\", \"variable_1\": \"unique_views\", \"count\": 1.0}, {\"index\": \"2020-11-15T00:00:00\", \"variable_0\": \"LwM_SIGSPATIAL2020_ToponymMatching\", \"variable_1\": \"unique_views\", \"count\": null}, {\"index\": \"2020-11-18T00:00:00\", \"variable_0\": \"LwM_SIGSPATIAL2020_ToponymMatching\", \"variable_1\": \"unique_views\", \"count\": null}, {\"index\": \"2020-11-22T00:00:00\", \"variable_0\": \"LwM_SIGSPATIAL2020_ToponymMatching\", \"variable_1\": \"unique_views\", \"count\": null}, {\"index\": \"2020-11-24T00:00:00\", \"variable_0\": \"LwM_SIGSPATIAL2020_ToponymMatching\", \"variable_1\": \"unique_views\", \"count\": null}, {\"index\": \"2020-11-25T00:00:00\", \"variable_0\": \"LwM_SIGSPATIAL2020_ToponymMatching\", \"variable_1\": \"unique_views\", \"count\": 2.0}, {\"index\": \"2020-11-27T00:00:00\", \"variable_0\": \"LwM_SIGSPATIAL2020_ToponymMatching\", \"variable_1\": \"unique_views\", \"count\": null}, {\"index\": \"2020-11-28T00:00:00\", \"variable_0\": \"LwM_SIGSPATIAL2020_ToponymMatching\", \"variable_1\": \"unique_views\", \"count\": null}, {\"index\": \"2020-11-29T00:00:00\", \"variable_0\": \"LwM_SIGSPATIAL2020_ToponymMatching\", \"variable_1\": \"unique_views\", \"count\": null}, {\"index\": \"2020-12-02T00:00:00\", \"variable_0\": \"LwM_SIGSPATIAL2020_ToponymMatching\", \"variable_1\": \"unique_views\", \"count\": 1.0}, {\"index\": \"2020-11-12T00:00:00\", \"variable_0\": \"LwM_SIGSPATIAL2020_ToponymMatching\", \"variable_1\": \"unique_views\", \"count\": null}, {\"index\": \"2020-11-20T00:00:00\", \"variable_0\": \"LwM_SIGSPATIAL2020_ToponymMatching\", \"variable_1\": \"unique_views\", \"count\": 1.0}, {\"index\": \"2020-11-21T00:00:00\", \"variable_0\": \"LwM_SIGSPATIAL2020_ToponymMatching\", \"variable_1\": \"unique_views\", \"count\": null}, {\"index\": \"2020-11-19T00:00:00\", \"variable_0\": \"AzureAudit\", \"variable_1\": \"total_views\", \"count\": null}, {\"index\": \"2020-11-23T00:00:00\", \"variable_0\": \"AzureAudit\", \"variable_1\": \"total_views\", \"count\": null}, {\"index\": \"2020-12-01T00:00:00\", \"variable_0\": \"AzureAudit\", \"variable_1\": \"total_views\", \"count\": null}, {\"index\": \"2020-12-03T00:00:00\", \"variable_0\": \"AzureAudit\", \"variable_1\": \"total_views\", \"count\": null}, {\"index\": \"2020-11-13T00:00:00\", \"variable_0\": \"AzureAudit\", \"variable_1\": \"total_views\", \"count\": null}, {\"index\": \"2020-11-14T00:00:00\", \"variable_0\": \"AzureAudit\", \"variable_1\": \"total_views\", \"count\": null}, {\"index\": \"2020-11-16T00:00:00\", \"variable_0\": \"AzureAudit\", \"variable_1\": \"total_views\", \"count\": null}, {\"index\": \"2020-11-17T00:00:00\", \"variable_0\": \"AzureAudit\", \"variable_1\": \"total_views\", \"count\": null}, {\"index\": \"2020-11-26T00:00:00\", \"variable_0\": \"AzureAudit\", \"variable_1\": \"total_views\", \"count\": null}, {\"index\": \"2020-11-30T00:00:00\", \"variable_0\": \"AzureAudit\", \"variable_1\": \"total_views\", \"count\": 1.0}, {\"index\": \"2020-11-15T00:00:00\", \"variable_0\": \"AzureAudit\", \"variable_1\": \"total_views\", \"count\": null}, {\"index\": \"2020-11-18T00:00:00\", \"variable_0\": \"AzureAudit\", \"variable_1\": \"total_views\", \"count\": null}, {\"index\": \"2020-11-22T00:00:00\", \"variable_0\": \"AzureAudit\", \"variable_1\": \"total_views\", \"count\": null}, {\"index\": \"2020-11-24T00:00:00\", \"variable_0\": \"AzureAudit\", \"variable_1\": \"total_views\", \"count\": null}, {\"index\": \"2020-11-25T00:00:00\", \"variable_0\": \"AzureAudit\", \"variable_1\": \"total_views\", \"count\": null}, {\"index\": \"2020-11-27T00:00:00\", \"variable_0\": \"AzureAudit\", \"variable_1\": \"total_views\", \"count\": 3.0}, {\"index\": \"2020-11-28T00:00:00\", \"variable_0\": \"AzureAudit\", \"variable_1\": \"total_views\", \"count\": null}, {\"index\": \"2020-11-29T00:00:00\", \"variable_0\": \"AzureAudit\", \"variable_1\": \"total_views\", \"count\": null}, {\"index\": \"2020-12-02T00:00:00\", \"variable_0\": \"AzureAudit\", \"variable_1\": \"total_views\", \"count\": null}, {\"index\": \"2020-11-12T00:00:00\", \"variable_0\": \"AzureAudit\", \"variable_1\": \"total_views\", \"count\": null}, {\"index\": \"2020-11-20T00:00:00\", \"variable_0\": \"AzureAudit\", \"variable_1\": \"total_views\", \"count\": 6.0}, {\"index\": \"2020-11-21T00:00:00\", \"variable_0\": \"AzureAudit\", \"variable_1\": \"total_views\", \"count\": null}, {\"index\": \"2020-11-19T00:00:00\", \"variable_0\": \"AzureAudit\", \"variable_1\": \"unique_views\", \"count\": null}, {\"index\": \"2020-11-23T00:00:00\", \"variable_0\": \"AzureAudit\", \"variable_1\": \"unique_views\", \"count\": null}, {\"index\": \"2020-12-01T00:00:00\", \"variable_0\": \"AzureAudit\", \"variable_1\": \"unique_views\", \"count\": null}, {\"index\": \"2020-12-03T00:00:00\", \"variable_0\": \"AzureAudit\", \"variable_1\": \"unique_views\", \"count\": null}, {\"index\": \"2020-11-13T00:00:00\", \"variable_0\": \"AzureAudit\", \"variable_1\": \"unique_views\", \"count\": null}, {\"index\": \"2020-11-14T00:00:00\", \"variable_0\": \"AzureAudit\", \"variable_1\": \"unique_views\", \"count\": null}, {\"index\": \"2020-11-16T00:00:00\", \"variable_0\": \"AzureAudit\", \"variable_1\": \"unique_views\", \"count\": null}, {\"index\": \"2020-11-17T00:00:00\", \"variable_0\": \"AzureAudit\", \"variable_1\": \"unique_views\", \"count\": null}, {\"index\": \"2020-11-26T00:00:00\", \"variable_0\": \"AzureAudit\", \"variable_1\": \"unique_views\", \"count\": null}, {\"index\": \"2020-11-30T00:00:00\", \"variable_0\": \"AzureAudit\", \"variable_1\": \"unique_views\", \"count\": 1.0}, {\"index\": \"2020-11-15T00:00:00\", \"variable_0\": \"AzureAudit\", \"variable_1\": \"unique_views\", \"count\": null}, {\"index\": \"2020-11-18T00:00:00\", \"variable_0\": \"AzureAudit\", \"variable_1\": \"unique_views\", \"count\": null}, {\"index\": \"2020-11-22T00:00:00\", \"variable_0\": \"AzureAudit\", \"variable_1\": \"unique_views\", \"count\": null}, {\"index\": \"2020-11-24T00:00:00\", \"variable_0\": \"AzureAudit\", \"variable_1\": \"unique_views\", \"count\": null}, {\"index\": \"2020-11-25T00:00:00\", \"variable_0\": \"AzureAudit\", \"variable_1\": \"unique_views\", \"count\": null}, {\"index\": \"2020-11-27T00:00:00\", \"variable_0\": \"AzureAudit\", \"variable_1\": \"unique_views\", \"count\": 1.0}, {\"index\": \"2020-11-28T00:00:00\", \"variable_0\": \"AzureAudit\", \"variable_1\": \"unique_views\", \"count\": null}, {\"index\": \"2020-11-29T00:00:00\", \"variable_0\": \"AzureAudit\", \"variable_1\": \"unique_views\", \"count\": null}, {\"index\": \"2020-12-02T00:00:00\", \"variable_0\": \"AzureAudit\", \"variable_1\": \"unique_views\", \"count\": null}, {\"index\": \"2020-11-12T00:00:00\", \"variable_0\": \"AzureAudit\", \"variable_1\": \"unique_views\", \"count\": null}, {\"index\": \"2020-11-20T00:00:00\", \"variable_0\": \"AzureAudit\", \"variable_1\": \"unique_views\", \"count\": 1.0}, {\"index\": \"2020-11-21T00:00:00\", \"variable_0\": \"AzureAudit\", \"variable_1\": \"unique_views\", \"count\": null}, {\"index\": \"2020-11-19T00:00:00\", \"variable_0\": \"maps-at-scale-hack-day-notebooks\", \"variable_1\": \"total_views\", \"count\": 3.0}, {\"index\": \"2020-11-23T00:00:00\", \"variable_0\": \"maps-at-scale-hack-day-notebooks\", \"variable_1\": \"total_views\", \"count\": null}, {\"index\": \"2020-12-01T00:00:00\", \"variable_0\": \"maps-at-scale-hack-day-notebooks\", \"variable_1\": \"total_views\", \"count\": null}, {\"index\": \"2020-12-03T00:00:00\", \"variable_0\": \"maps-at-scale-hack-day-notebooks\", \"variable_1\": \"total_views\", \"count\": null}, {\"index\": \"2020-11-13T00:00:00\", \"variable_0\": \"maps-at-scale-hack-day-notebooks\", \"variable_1\": \"total_views\", \"count\": null}, {\"index\": \"2020-11-14T00:00:00\", \"variable_0\": \"maps-at-scale-hack-day-notebooks\", \"variable_1\": \"total_views\", \"count\": null}, {\"index\": \"2020-11-16T00:00:00\", \"variable_0\": \"maps-at-scale-hack-day-notebooks\", \"variable_1\": \"total_views\", \"count\": null}, {\"index\": \"2020-11-17T00:00:00\", \"variable_0\": \"maps-at-scale-hack-day-notebooks\", \"variable_1\": \"total_views\", \"count\": null}, {\"index\": \"2020-11-26T00:00:00\", \"variable_0\": \"maps-at-scale-hack-day-notebooks\", \"variable_1\": \"total_views\", \"count\": null}, {\"index\": \"2020-11-30T00:00:00\", \"variable_0\": \"maps-at-scale-hack-day-notebooks\", \"variable_1\": \"total_views\", \"count\": null}, {\"index\": \"2020-11-15T00:00:00\", \"variable_0\": \"maps-at-scale-hack-day-notebooks\", \"variable_1\": \"total_views\", \"count\": null}, {\"index\": \"2020-11-18T00:00:00\", \"variable_0\": \"maps-at-scale-hack-day-notebooks\", \"variable_1\": \"total_views\", \"count\": null}, {\"index\": \"2020-11-22T00:00:00\", \"variable_0\": \"maps-at-scale-hack-day-notebooks\", \"variable_1\": \"total_views\", \"count\": null}, {\"index\": \"2020-11-24T00:00:00\", \"variable_0\": \"maps-at-scale-hack-day-notebooks\", \"variable_1\": \"total_views\", \"count\": null}, {\"index\": \"2020-11-25T00:00:00\", \"variable_0\": \"maps-at-scale-hack-day-notebooks\", \"variable_1\": \"total_views\", \"count\": null}, {\"index\": \"2020-11-27T00:00:00\", \"variable_0\": \"maps-at-scale-hack-day-notebooks\", \"variable_1\": \"total_views\", \"count\": null}, {\"index\": \"2020-11-28T00:00:00\", \"variable_0\": \"maps-at-scale-hack-day-notebooks\", \"variable_1\": \"total_views\", \"count\": null}, {\"index\": \"2020-11-29T00:00:00\", \"variable_0\": \"maps-at-scale-hack-day-notebooks\", \"variable_1\": \"total_views\", \"count\": null}, {\"index\": \"2020-12-02T00:00:00\", \"variable_0\": \"maps-at-scale-hack-day-notebooks\", \"variable_1\": \"total_views\", \"count\": null}, {\"index\": \"2020-11-12T00:00:00\", \"variable_0\": \"maps-at-scale-hack-day-notebooks\", \"variable_1\": \"total_views\", \"count\": null}, {\"index\": \"2020-11-20T00:00:00\", \"variable_0\": \"maps-at-scale-hack-day-notebooks\", \"variable_1\": \"total_views\", \"count\": null}, {\"index\": \"2020-11-21T00:00:00\", \"variable_0\": \"maps-at-scale-hack-day-notebooks\", \"variable_1\": \"total_views\", \"count\": null}, {\"index\": \"2020-11-19T00:00:00\", \"variable_0\": \"maps-at-scale-hack-day-notebooks\", \"variable_1\": \"unique_views\", \"count\": 1.0}, {\"index\": \"2020-11-23T00:00:00\", \"variable_0\": \"maps-at-scale-hack-day-notebooks\", \"variable_1\": \"unique_views\", \"count\": null}, {\"index\": \"2020-12-01T00:00:00\", \"variable_0\": \"maps-at-scale-hack-day-notebooks\", \"variable_1\": \"unique_views\", \"count\": null}, {\"index\": \"2020-12-03T00:00:00\", \"variable_0\": \"maps-at-scale-hack-day-notebooks\", \"variable_1\": \"unique_views\", \"count\": null}, {\"index\": \"2020-11-13T00:00:00\", \"variable_0\": \"maps-at-scale-hack-day-notebooks\", \"variable_1\": \"unique_views\", \"count\": null}, {\"index\": \"2020-11-14T00:00:00\", \"variable_0\": \"maps-at-scale-hack-day-notebooks\", \"variable_1\": \"unique_views\", \"count\": null}, {\"index\": \"2020-11-16T00:00:00\", \"variable_0\": \"maps-at-scale-hack-day-notebooks\", \"variable_1\": \"unique_views\", \"count\": null}, {\"index\": \"2020-11-17T00:00:00\", \"variable_0\": \"maps-at-scale-hack-day-notebooks\", \"variable_1\": \"unique_views\", \"count\": null}, {\"index\": \"2020-11-26T00:00:00\", \"variable_0\": \"maps-at-scale-hack-day-notebooks\", \"variable_1\": \"unique_views\", \"count\": null}, {\"index\": \"2020-11-30T00:00:00\", \"variable_0\": \"maps-at-scale-hack-day-notebooks\", \"variable_1\": \"unique_views\", \"count\": null}, {\"index\": \"2020-11-15T00:00:00\", \"variable_0\": \"maps-at-scale-hack-day-notebooks\", \"variable_1\": \"unique_views\", \"count\": null}, {\"index\": \"2020-11-18T00:00:00\", \"variable_0\": \"maps-at-scale-hack-day-notebooks\", \"variable_1\": \"unique_views\", \"count\": null}, {\"index\": \"2020-11-22T00:00:00\", \"variable_0\": \"maps-at-scale-hack-day-notebooks\", \"variable_1\": \"unique_views\", \"count\": null}, {\"index\": \"2020-11-24T00:00:00\", \"variable_0\": \"maps-at-scale-hack-day-notebooks\", \"variable_1\": \"unique_views\", \"count\": null}, {\"index\": \"2020-11-25T00:00:00\", \"variable_0\": \"maps-at-scale-hack-day-notebooks\", \"variable_1\": \"unique_views\", \"count\": null}, {\"index\": \"2020-11-27T00:00:00\", \"variable_0\": \"maps-at-scale-hack-day-notebooks\", \"variable_1\": \"unique_views\", \"count\": null}, {\"index\": \"2020-11-28T00:00:00\", \"variable_0\": \"maps-at-scale-hack-day-notebooks\", \"variable_1\": \"unique_views\", \"count\": null}, {\"index\": \"2020-11-29T00:00:00\", \"variable_0\": \"maps-at-scale-hack-day-notebooks\", \"variable_1\": \"unique_views\", \"count\": null}, {\"index\": \"2020-12-02T00:00:00\", \"variable_0\": \"maps-at-scale-hack-day-notebooks\", \"variable_1\": \"unique_views\", \"count\": null}, {\"index\": \"2020-11-12T00:00:00\", \"variable_0\": \"maps-at-scale-hack-day-notebooks\", \"variable_1\": \"unique_views\", \"count\": null}, {\"index\": \"2020-11-20T00:00:00\", \"variable_0\": \"maps-at-scale-hack-day-notebooks\", \"variable_1\": \"unique_views\", \"count\": null}, {\"index\": \"2020-11-21T00:00:00\", \"variable_0\": \"maps-at-scale-hack-day-notebooks\", \"variable_1\": \"unique_views\", \"count\": null}, {\"index\": \"2020-11-19T00:00:00\", \"variable_0\": \"deduplify\", \"variable_1\": \"total_views\", \"count\": null}, {\"index\": \"2020-11-23T00:00:00\", \"variable_0\": \"deduplify\", \"variable_1\": \"total_views\", \"count\": null}, {\"index\": \"2020-12-01T00:00:00\", \"variable_0\": \"deduplify\", \"variable_1\": \"total_views\", \"count\": null}, {\"index\": \"2020-12-03T00:00:00\", \"variable_0\": \"deduplify\", \"variable_1\": \"total_views\", \"count\": null}, {\"index\": \"2020-11-13T00:00:00\", \"variable_0\": \"deduplify\", \"variable_1\": \"total_views\", \"count\": null}, {\"index\": \"2020-11-14T00:00:00\", \"variable_0\": \"deduplify\", \"variable_1\": \"total_views\", \"count\": null}, {\"index\": \"2020-11-16T00:00:00\", \"variable_0\": \"deduplify\", \"variable_1\": \"total_views\", \"count\": null}, {\"index\": \"2020-11-17T00:00:00\", \"variable_0\": \"deduplify\", \"variable_1\": \"total_views\", \"count\": null}, {\"index\": \"2020-11-26T00:00:00\", \"variable_0\": \"deduplify\", \"variable_1\": \"total_views\", \"count\": null}, {\"index\": \"2020-11-30T00:00:00\", \"variable_0\": \"deduplify\", \"variable_1\": \"total_views\", \"count\": null}, {\"index\": \"2020-11-15T00:00:00\", \"variable_0\": \"deduplify\", \"variable_1\": \"total_views\", \"count\": null}, {\"index\": \"2020-11-18T00:00:00\", \"variable_0\": \"deduplify\", \"variable_1\": \"total_views\", \"count\": 1.0}, {\"index\": \"2020-11-22T00:00:00\", \"variable_0\": \"deduplify\", \"variable_1\": \"total_views\", \"count\": null}, {\"index\": \"2020-11-24T00:00:00\", \"variable_0\": \"deduplify\", \"variable_1\": \"total_views\", \"count\": null}, {\"index\": \"2020-11-25T00:00:00\", \"variable_0\": \"deduplify\", \"variable_1\": \"total_views\", \"count\": 1.0}, {\"index\": \"2020-11-27T00:00:00\", \"variable_0\": \"deduplify\", \"variable_1\": \"total_views\", \"count\": null}, {\"index\": \"2020-11-28T00:00:00\", \"variable_0\": \"deduplify\", \"variable_1\": \"total_views\", \"count\": null}, {\"index\": \"2020-11-29T00:00:00\", \"variable_0\": \"deduplify\", \"variable_1\": \"total_views\", \"count\": null}, {\"index\": \"2020-12-02T00:00:00\", \"variable_0\": \"deduplify\", \"variable_1\": \"total_views\", \"count\": 1.0}, {\"index\": \"2020-11-12T00:00:00\", \"variable_0\": \"deduplify\", \"variable_1\": \"total_views\", \"count\": null}, {\"index\": \"2020-11-20T00:00:00\", \"variable_0\": \"deduplify\", \"variable_1\": \"total_views\", \"count\": null}, {\"index\": \"2020-11-21T00:00:00\", \"variable_0\": \"deduplify\", \"variable_1\": \"total_views\", \"count\": null}, {\"index\": \"2020-11-19T00:00:00\", \"variable_0\": \"deduplify\", \"variable_1\": \"unique_views\", \"count\": null}, {\"index\": \"2020-11-23T00:00:00\", \"variable_0\": \"deduplify\", \"variable_1\": \"unique_views\", \"count\": null}, {\"index\": \"2020-12-01T00:00:00\", \"variable_0\": \"deduplify\", \"variable_1\": \"unique_views\", \"count\": null}, {\"index\": \"2020-12-03T00:00:00\", \"variable_0\": \"deduplify\", \"variable_1\": \"unique_views\", \"count\": null}, {\"index\": \"2020-11-13T00:00:00\", \"variable_0\": \"deduplify\", \"variable_1\": \"unique_views\", \"count\": null}, {\"index\": \"2020-11-14T00:00:00\", \"variable_0\": \"deduplify\", \"variable_1\": \"unique_views\", \"count\": null}, {\"index\": \"2020-11-16T00:00:00\", \"variable_0\": \"deduplify\", \"variable_1\": \"unique_views\", \"count\": null}, {\"index\": \"2020-11-17T00:00:00\", \"variable_0\": \"deduplify\", \"variable_1\": \"unique_views\", \"count\": null}, {\"index\": \"2020-11-26T00:00:00\", \"variable_0\": \"deduplify\", \"variable_1\": \"unique_views\", \"count\": null}, {\"index\": \"2020-11-30T00:00:00\", \"variable_0\": \"deduplify\", \"variable_1\": \"unique_views\", \"count\": null}, {\"index\": \"2020-11-15T00:00:00\", \"variable_0\": \"deduplify\", \"variable_1\": \"unique_views\", \"count\": null}, {\"index\": \"2020-11-18T00:00:00\", \"variable_0\": \"deduplify\", \"variable_1\": \"unique_views\", \"count\": 1.0}, {\"index\": \"2020-11-22T00:00:00\", \"variable_0\": \"deduplify\", \"variable_1\": \"unique_views\", \"count\": null}, {\"index\": \"2020-11-24T00:00:00\", \"variable_0\": \"deduplify\", \"variable_1\": \"unique_views\", \"count\": null}, {\"index\": \"2020-11-25T00:00:00\", \"variable_0\": \"deduplify\", \"variable_1\": \"unique_views\", \"count\": 1.0}, {\"index\": \"2020-11-27T00:00:00\", \"variable_0\": \"deduplify\", \"variable_1\": \"unique_views\", \"count\": null}, {\"index\": \"2020-11-28T00:00:00\", \"variable_0\": \"deduplify\", \"variable_1\": \"unique_views\", \"count\": null}, {\"index\": \"2020-11-29T00:00:00\", \"variable_0\": \"deduplify\", \"variable_1\": \"unique_views\", \"count\": null}, {\"index\": \"2020-12-02T00:00:00\", \"variable_0\": \"deduplify\", \"variable_1\": \"unique_views\", \"count\": 1.0}, {\"index\": \"2020-11-12T00:00:00\", \"variable_0\": \"deduplify\", \"variable_1\": \"unique_views\", \"count\": null}, {\"index\": \"2020-11-20T00:00:00\", \"variable_0\": \"deduplify\", \"variable_1\": \"unique_views\", \"count\": null}, {\"index\": \"2020-11-21T00:00:00\", \"variable_0\": \"deduplify\", \"variable_1\": \"unique_views\", \"count\": null}, {\"index\": \"2020-11-19T00:00:00\", \"variable_0\": \"AtypicalAnimacy\", \"variable_1\": \"total_views\", \"count\": 4.0}, {\"index\": \"2020-11-23T00:00:00\", \"variable_0\": \"AtypicalAnimacy\", \"variable_1\": \"total_views\", \"count\": 1.0}, {\"index\": \"2020-12-01T00:00:00\", \"variable_0\": \"AtypicalAnimacy\", \"variable_1\": \"total_views\", \"count\": 7.0}, {\"index\": \"2020-12-03T00:00:00\", \"variable_0\": \"AtypicalAnimacy\", \"variable_1\": \"total_views\", \"count\": 3.0}, {\"index\": \"2020-11-13T00:00:00\", \"variable_0\": \"AtypicalAnimacy\", \"variable_1\": \"total_views\", \"count\": null}, {\"index\": \"2020-11-14T00:00:00\", \"variable_0\": \"AtypicalAnimacy\", \"variable_1\": \"total_views\", \"count\": null}, {\"index\": \"2020-11-16T00:00:00\", \"variable_0\": \"AtypicalAnimacy\", \"variable_1\": \"total_views\", \"count\": null}, {\"index\": \"2020-11-17T00:00:00\", \"variable_0\": \"AtypicalAnimacy\", \"variable_1\": \"total_views\", \"count\": 3.0}, {\"index\": \"2020-11-26T00:00:00\", \"variable_0\": \"AtypicalAnimacy\", \"variable_1\": \"total_views\", \"count\": 1.0}, {\"index\": \"2020-11-30T00:00:00\", \"variable_0\": \"AtypicalAnimacy\", \"variable_1\": \"total_views\", \"count\": null}, {\"index\": \"2020-11-15T00:00:00\", \"variable_0\": \"AtypicalAnimacy\", \"variable_1\": \"total_views\", \"count\": null}, {\"index\": \"2020-11-18T00:00:00\", \"variable_0\": \"AtypicalAnimacy\", \"variable_1\": \"total_views\", \"count\": 3.0}, {\"index\": \"2020-11-22T00:00:00\", \"variable_0\": \"AtypicalAnimacy\", \"variable_1\": \"total_views\", \"count\": null}, {\"index\": \"2020-11-24T00:00:00\", \"variable_0\": \"AtypicalAnimacy\", \"variable_1\": \"total_views\", \"count\": null}, {\"index\": \"2020-11-25T00:00:00\", \"variable_0\": \"AtypicalAnimacy\", \"variable_1\": \"total_views\", \"count\": null}, {\"index\": \"2020-11-27T00:00:00\", \"variable_0\": \"AtypicalAnimacy\", \"variable_1\": \"total_views\", \"count\": null}, {\"index\": \"2020-11-28T00:00:00\", \"variable_0\": \"AtypicalAnimacy\", \"variable_1\": \"total_views\", \"count\": null}, {\"index\": \"2020-11-29T00:00:00\", \"variable_0\": \"AtypicalAnimacy\", \"variable_1\": \"total_views\", \"count\": null}, {\"index\": \"2020-12-02T00:00:00\", \"variable_0\": \"AtypicalAnimacy\", \"variable_1\": \"total_views\", \"count\": 1.0}, {\"index\": \"2020-11-12T00:00:00\", \"variable_0\": \"AtypicalAnimacy\", \"variable_1\": \"total_views\", \"count\": null}, {\"index\": \"2020-11-20T00:00:00\", \"variable_0\": \"AtypicalAnimacy\", \"variable_1\": \"total_views\", \"count\": null}, {\"index\": \"2020-11-21T00:00:00\", \"variable_0\": \"AtypicalAnimacy\", \"variable_1\": \"total_views\", \"count\": null}, {\"index\": \"2020-11-19T00:00:00\", \"variable_0\": \"AtypicalAnimacy\", \"variable_1\": \"unique_views\", \"count\": 1.0}, {\"index\": \"2020-11-23T00:00:00\", \"variable_0\": \"AtypicalAnimacy\", \"variable_1\": \"unique_views\", \"count\": 1.0}, {\"index\": \"2020-12-01T00:00:00\", \"variable_0\": \"AtypicalAnimacy\", \"variable_1\": \"unique_views\", \"count\": 2.0}, {\"index\": \"2020-12-03T00:00:00\", \"variable_0\": \"AtypicalAnimacy\", \"variable_1\": \"unique_views\", \"count\": 1.0}, {\"index\": \"2020-11-13T00:00:00\", \"variable_0\": \"AtypicalAnimacy\", \"variable_1\": \"unique_views\", \"count\": null}, {\"index\": \"2020-11-14T00:00:00\", \"variable_0\": \"AtypicalAnimacy\", \"variable_1\": \"unique_views\", \"count\": null}, {\"index\": \"2020-11-16T00:00:00\", \"variable_0\": \"AtypicalAnimacy\", \"variable_1\": \"unique_views\", \"count\": null}, {\"index\": \"2020-11-17T00:00:00\", \"variable_0\": \"AtypicalAnimacy\", \"variable_1\": \"unique_views\", \"count\": 1.0}, {\"index\": \"2020-11-26T00:00:00\", \"variable_0\": \"AtypicalAnimacy\", \"variable_1\": \"unique_views\", \"count\": 1.0}, {\"index\": \"2020-11-30T00:00:00\", \"variable_0\": \"AtypicalAnimacy\", \"variable_1\": \"unique_views\", \"count\": null}, {\"index\": \"2020-11-15T00:00:00\", \"variable_0\": \"AtypicalAnimacy\", \"variable_1\": \"unique_views\", \"count\": null}, {\"index\": \"2020-11-18T00:00:00\", \"variable_0\": \"AtypicalAnimacy\", \"variable_1\": \"unique_views\", \"count\": 1.0}, {\"index\": \"2020-11-22T00:00:00\", \"variable_0\": \"AtypicalAnimacy\", \"variable_1\": \"unique_views\", \"count\": null}, {\"index\": \"2020-11-24T00:00:00\", \"variable_0\": \"AtypicalAnimacy\", \"variable_1\": \"unique_views\", \"count\": null}, {\"index\": \"2020-11-25T00:00:00\", \"variable_0\": \"AtypicalAnimacy\", \"variable_1\": \"unique_views\", \"count\": null}, {\"index\": \"2020-11-27T00:00:00\", \"variable_0\": \"AtypicalAnimacy\", \"variable_1\": \"unique_views\", \"count\": null}, {\"index\": \"2020-11-28T00:00:00\", \"variable_0\": \"AtypicalAnimacy\", \"variable_1\": \"unique_views\", \"count\": null}, {\"index\": \"2020-11-29T00:00:00\", \"variable_0\": \"AtypicalAnimacy\", \"variable_1\": \"unique_views\", \"count\": null}, {\"index\": \"2020-12-02T00:00:00\", \"variable_0\": \"AtypicalAnimacy\", \"variable_1\": \"unique_views\", \"count\": 1.0}, {\"index\": \"2020-11-12T00:00:00\", \"variable_0\": \"AtypicalAnimacy\", \"variable_1\": \"unique_views\", \"count\": null}, {\"index\": \"2020-11-20T00:00:00\", \"variable_0\": \"AtypicalAnimacy\", \"variable_1\": \"unique_views\", \"count\": null}, {\"index\": \"2020-11-21T00:00:00\", \"variable_0\": \"AtypicalAnimacy\", \"variable_1\": \"unique_views\", \"count\": null}, {\"index\": \"2020-11-19T00:00:00\", \"variable_0\": \"computer-vision-DHNordic-2020-workshop\", \"variable_1\": \"total_views\", \"count\": null}, {\"index\": \"2020-11-23T00:00:00\", \"variable_0\": \"computer-vision-DHNordic-2020-workshop\", \"variable_1\": \"total_views\", \"count\": null}, {\"index\": \"2020-12-01T00:00:00\", \"variable_0\": \"computer-vision-DHNordic-2020-workshop\", \"variable_1\": \"total_views\", \"count\": null}, {\"index\": \"2020-12-03T00:00:00\", \"variable_0\": \"computer-vision-DHNordic-2020-workshop\", \"variable_1\": \"total_views\", \"count\": 5.0}, {\"index\": \"2020-11-13T00:00:00\", \"variable_0\": \"computer-vision-DHNordic-2020-workshop\", \"variable_1\": \"total_views\", \"count\": null}, {\"index\": \"2020-11-14T00:00:00\", \"variable_0\": \"computer-vision-DHNordic-2020-workshop\", \"variable_1\": \"total_views\", \"count\": null}, {\"index\": \"2020-11-16T00:00:00\", \"variable_0\": \"computer-vision-DHNordic-2020-workshop\", \"variable_1\": \"total_views\", \"count\": null}, {\"index\": \"2020-11-17T00:00:00\", \"variable_0\": \"computer-vision-DHNordic-2020-workshop\", \"variable_1\": \"total_views\", \"count\": 2.0}, {\"index\": \"2020-11-26T00:00:00\", \"variable_0\": \"computer-vision-DHNordic-2020-workshop\", \"variable_1\": \"total_views\", \"count\": null}, {\"index\": \"2020-11-30T00:00:00\", \"variable_0\": \"computer-vision-DHNordic-2020-workshop\", \"variable_1\": \"total_views\", \"count\": null}, {\"index\": \"2020-11-15T00:00:00\", \"variable_0\": \"computer-vision-DHNordic-2020-workshop\", \"variable_1\": \"total_views\", \"count\": null}, {\"index\": \"2020-11-18T00:00:00\", \"variable_0\": \"computer-vision-DHNordic-2020-workshop\", \"variable_1\": \"total_views\", \"count\": null}, {\"index\": \"2020-11-22T00:00:00\", \"variable_0\": \"computer-vision-DHNordic-2020-workshop\", \"variable_1\": \"total_views\", \"count\": null}, {\"index\": \"2020-11-24T00:00:00\", \"variable_0\": \"computer-vision-DHNordic-2020-workshop\", \"variable_1\": \"total_views\", \"count\": null}, {\"index\": \"2020-11-25T00:00:00\", \"variable_0\": \"computer-vision-DHNordic-2020-workshop\", \"variable_1\": \"total_views\", \"count\": 1.0}, {\"index\": \"2020-11-27T00:00:00\", \"variable_0\": \"computer-vision-DHNordic-2020-workshop\", \"variable_1\": \"total_views\", \"count\": null}, {\"index\": \"2020-11-28T00:00:00\", \"variable_0\": \"computer-vision-DHNordic-2020-workshop\", \"variable_1\": \"total_views\", \"count\": null}, {\"index\": \"2020-11-29T00:00:00\", \"variable_0\": \"computer-vision-DHNordic-2020-workshop\", \"variable_1\": \"total_views\", \"count\": null}, {\"index\": \"2020-12-02T00:00:00\", \"variable_0\": \"computer-vision-DHNordic-2020-workshop\", \"variable_1\": \"total_views\", \"count\": null}, {\"index\": \"2020-11-12T00:00:00\", \"variable_0\": \"computer-vision-DHNordic-2020-workshop\", \"variable_1\": \"total_views\", \"count\": null}, {\"index\": \"2020-11-20T00:00:00\", \"variable_0\": \"computer-vision-DHNordic-2020-workshop\", \"variable_1\": \"total_views\", \"count\": null}, {\"index\": \"2020-11-21T00:00:00\", \"variable_0\": \"computer-vision-DHNordic-2020-workshop\", \"variable_1\": \"total_views\", \"count\": null}, {\"index\": \"2020-11-19T00:00:00\", \"variable_0\": \"computer-vision-DHNordic-2020-workshop\", \"variable_1\": \"unique_views\", \"count\": null}, {\"index\": \"2020-11-23T00:00:00\", \"variable_0\": \"computer-vision-DHNordic-2020-workshop\", \"variable_1\": \"unique_views\", \"count\": null}, {\"index\": \"2020-12-01T00:00:00\", \"variable_0\": \"computer-vision-DHNordic-2020-workshop\", \"variable_1\": \"unique_views\", \"count\": null}, {\"index\": \"2020-12-03T00:00:00\", \"variable_0\": \"computer-vision-DHNordic-2020-workshop\", \"variable_1\": \"unique_views\", \"count\": 1.0}, {\"index\": \"2020-11-13T00:00:00\", \"variable_0\": \"computer-vision-DHNordic-2020-workshop\", \"variable_1\": \"unique_views\", \"count\": null}, {\"index\": \"2020-11-14T00:00:00\", \"variable_0\": \"computer-vision-DHNordic-2020-workshop\", \"variable_1\": \"unique_views\", \"count\": null}, {\"index\": \"2020-11-16T00:00:00\", \"variable_0\": \"computer-vision-DHNordic-2020-workshop\", \"variable_1\": \"unique_views\", \"count\": null}, {\"index\": \"2020-11-17T00:00:00\", \"variable_0\": \"computer-vision-DHNordic-2020-workshop\", \"variable_1\": \"unique_views\", \"count\": 1.0}, {\"index\": \"2020-11-26T00:00:00\", \"variable_0\": \"computer-vision-DHNordic-2020-workshop\", \"variable_1\": \"unique_views\", \"count\": null}, {\"index\": \"2020-11-30T00:00:00\", \"variable_0\": \"computer-vision-DHNordic-2020-workshop\", \"variable_1\": \"unique_views\", \"count\": null}, {\"index\": \"2020-11-15T00:00:00\", \"variable_0\": \"computer-vision-DHNordic-2020-workshop\", \"variable_1\": \"unique_views\", \"count\": null}, {\"index\": \"2020-11-18T00:00:00\", \"variable_0\": \"computer-vision-DHNordic-2020-workshop\", \"variable_1\": \"unique_views\", \"count\": null}, {\"index\": \"2020-11-22T00:00:00\", \"variable_0\": \"computer-vision-DHNordic-2020-workshop\", \"variable_1\": \"unique_views\", \"count\": null}, {\"index\": \"2020-11-24T00:00:00\", \"variable_0\": \"computer-vision-DHNordic-2020-workshop\", \"variable_1\": \"unique_views\", \"count\": null}, {\"index\": \"2020-11-25T00:00:00\", \"variable_0\": \"computer-vision-DHNordic-2020-workshop\", \"variable_1\": \"unique_views\", \"count\": 1.0}, {\"index\": \"2020-11-27T00:00:00\", \"variable_0\": \"computer-vision-DHNordic-2020-workshop\", \"variable_1\": \"unique_views\", \"count\": null}, {\"index\": \"2020-11-28T00:00:00\", \"variable_0\": \"computer-vision-DHNordic-2020-workshop\", \"variable_1\": \"unique_views\", \"count\": null}, {\"index\": \"2020-11-29T00:00:00\", \"variable_0\": \"computer-vision-DHNordic-2020-workshop\", \"variable_1\": \"unique_views\", \"count\": null}, {\"index\": \"2020-12-02T00:00:00\", \"variable_0\": \"computer-vision-DHNordic-2020-workshop\", \"variable_1\": \"unique_views\", \"count\": null}, {\"index\": \"2020-11-12T00:00:00\", \"variable_0\": \"computer-vision-DHNordic-2020-workshop\", \"variable_1\": \"unique_views\", \"count\": null}, {\"index\": \"2020-11-20T00:00:00\", \"variable_0\": \"computer-vision-DHNordic-2020-workshop\", \"variable_1\": \"unique_views\", \"count\": null}, {\"index\": \"2020-11-21T00:00:00\", \"variable_0\": \"computer-vision-DHNordic-2020-workshop\", \"variable_1\": \"unique_views\", \"count\": null}, {\"index\": \"2020-11-19T00:00:00\", \"variable_0\": \"maps-at-scale-using-computer-vision-and-jupyter-notebooks\", \"variable_1\": \"total_views\", \"count\": null}, {\"index\": \"2020-11-23T00:00:00\", \"variable_0\": \"maps-at-scale-using-computer-vision-and-jupyter-notebooks\", \"variable_1\": \"total_views\", \"count\": 2.0}, {\"index\": \"2020-12-01T00:00:00\", \"variable_0\": \"maps-at-scale-using-computer-vision-and-jupyter-notebooks\", \"variable_1\": \"total_views\", \"count\": 12.0}, {\"index\": \"2020-12-03T00:00:00\", \"variable_0\": \"maps-at-scale-using-computer-vision-and-jupyter-notebooks\", \"variable_1\": \"total_views\", \"count\": null}, {\"index\": \"2020-11-13T00:00:00\", \"variable_0\": \"maps-at-scale-using-computer-vision-and-jupyter-notebooks\", \"variable_1\": \"total_views\", \"count\": 4.0}, {\"index\": \"2020-11-14T00:00:00\", \"variable_0\": \"maps-at-scale-using-computer-vision-and-jupyter-notebooks\", \"variable_1\": \"total_views\", \"count\": null}, {\"index\": \"2020-11-16T00:00:00\", \"variable_0\": \"maps-at-scale-using-computer-vision-and-jupyter-notebooks\", \"variable_1\": \"total_views\", \"count\": 41.0}, {\"index\": \"2020-11-17T00:00:00\", \"variable_0\": \"maps-at-scale-using-computer-vision-and-jupyter-notebooks\", \"variable_1\": \"total_views\", \"count\": 3.0}, {\"index\": \"2020-11-26T00:00:00\", \"variable_0\": \"maps-at-scale-using-computer-vision-and-jupyter-notebooks\", \"variable_1\": \"total_views\", \"count\": null}, {\"index\": \"2020-11-30T00:00:00\", \"variable_0\": \"maps-at-scale-using-computer-vision-and-jupyter-notebooks\", \"variable_1\": \"total_views\", \"count\": 5.0}, {\"index\": \"2020-11-15T00:00:00\", \"variable_0\": \"maps-at-scale-using-computer-vision-and-jupyter-notebooks\", \"variable_1\": \"total_views\", \"count\": 8.0}, {\"index\": \"2020-11-18T00:00:00\", \"variable_0\": \"maps-at-scale-using-computer-vision-and-jupyter-notebooks\", \"variable_1\": \"total_views\", \"count\": null}, {\"index\": \"2020-11-22T00:00:00\", \"variable_0\": \"maps-at-scale-using-computer-vision-and-jupyter-notebooks\", \"variable_1\": \"total_views\", \"count\": 1.0}, {\"index\": \"2020-11-24T00:00:00\", \"variable_0\": \"maps-at-scale-using-computer-vision-and-jupyter-notebooks\", \"variable_1\": \"total_views\", \"count\": 1.0}, {\"index\": \"2020-11-25T00:00:00\", \"variable_0\": \"maps-at-scale-using-computer-vision-and-jupyter-notebooks\", \"variable_1\": \"total_views\", \"count\": 14.0}, {\"index\": \"2020-11-27T00:00:00\", \"variable_0\": \"maps-at-scale-using-computer-vision-and-jupyter-notebooks\", \"variable_1\": \"total_views\", \"count\": null}, {\"index\": \"2020-11-28T00:00:00\", \"variable_0\": \"maps-at-scale-using-computer-vision-and-jupyter-notebooks\", \"variable_1\": \"total_views\", \"count\": 2.0}, {\"index\": \"2020-11-29T00:00:00\", \"variable_0\": \"maps-at-scale-using-computer-vision-and-jupyter-notebooks\", \"variable_1\": \"total_views\", \"count\": null}, {\"index\": \"2020-12-02T00:00:00\", \"variable_0\": \"maps-at-scale-using-computer-vision-and-jupyter-notebooks\", \"variable_1\": \"total_views\", \"count\": null}, {\"index\": \"2020-11-12T00:00:00\", \"variable_0\": \"maps-at-scale-using-computer-vision-and-jupyter-notebooks\", \"variable_1\": \"total_views\", \"count\": 36.0}, {\"index\": \"2020-11-20T00:00:00\", \"variable_0\": \"maps-at-scale-using-computer-vision-and-jupyter-notebooks\", \"variable_1\": \"total_views\", \"count\": 1.0}, {\"index\": \"2020-11-21T00:00:00\", \"variable_0\": \"maps-at-scale-using-computer-vision-and-jupyter-notebooks\", \"variable_1\": \"total_views\", \"count\": 3.0}, {\"index\": \"2020-11-19T00:00:00\", \"variable_0\": \"maps-at-scale-using-computer-vision-and-jupyter-notebooks\", \"variable_1\": \"unique_views\", \"count\": null}, {\"index\": \"2020-11-23T00:00:00\", \"variable_0\": \"maps-at-scale-using-computer-vision-and-jupyter-notebooks\", \"variable_1\": \"unique_views\", \"count\": 2.0}, {\"index\": \"2020-12-01T00:00:00\", \"variable_0\": \"maps-at-scale-using-computer-vision-and-jupyter-notebooks\", \"variable_1\": \"unique_views\", \"count\": 2.0}, {\"index\": \"2020-12-03T00:00:00\", \"variable_0\": \"maps-at-scale-using-computer-vision-and-jupyter-notebooks\", \"variable_1\": \"unique_views\", \"count\": null}, {\"index\": \"2020-11-13T00:00:00\", \"variable_0\": \"maps-at-scale-using-computer-vision-and-jupyter-notebooks\", \"variable_1\": \"unique_views\", \"count\": 3.0}, {\"index\": \"2020-11-14T00:00:00\", \"variable_0\": \"maps-at-scale-using-computer-vision-and-jupyter-notebooks\", \"variable_1\": \"unique_views\", \"count\": null}, {\"index\": \"2020-11-16T00:00:00\", \"variable_0\": \"maps-at-scale-using-computer-vision-and-jupyter-notebooks\", \"variable_1\": \"unique_views\", \"count\": 17.0}, {\"index\": \"2020-11-17T00:00:00\", \"variable_0\": \"maps-at-scale-using-computer-vision-and-jupyter-notebooks\", \"variable_1\": \"unique_views\", \"count\": 1.0}, {\"index\": \"2020-11-26T00:00:00\", \"variable_0\": \"maps-at-scale-using-computer-vision-and-jupyter-notebooks\", \"variable_1\": \"unique_views\", \"count\": null}, {\"index\": \"2020-11-30T00:00:00\", \"variable_0\": \"maps-at-scale-using-computer-vision-and-jupyter-notebooks\", \"variable_1\": \"unique_views\", \"count\": 1.0}, {\"index\": \"2020-11-15T00:00:00\", \"variable_0\": \"maps-at-scale-using-computer-vision-and-jupyter-notebooks\", \"variable_1\": \"unique_views\", \"count\": 2.0}, {\"index\": \"2020-11-18T00:00:00\", \"variable_0\": \"maps-at-scale-using-computer-vision-and-jupyter-notebooks\", \"variable_1\": \"unique_views\", \"count\": null}, {\"index\": \"2020-11-22T00:00:00\", \"variable_0\": \"maps-at-scale-using-computer-vision-and-jupyter-notebooks\", \"variable_1\": \"unique_views\", \"count\": 1.0}, {\"index\": \"2020-11-24T00:00:00\", \"variable_0\": \"maps-at-scale-using-computer-vision-and-jupyter-notebooks\", \"variable_1\": \"unique_views\", \"count\": 1.0}, {\"index\": \"2020-11-25T00:00:00\", \"variable_0\": \"maps-at-scale-using-computer-vision-and-jupyter-notebooks\", \"variable_1\": \"unique_views\", \"count\": 2.0}, {\"index\": \"2020-11-27T00:00:00\", \"variable_0\": \"maps-at-scale-using-computer-vision-and-jupyter-notebooks\", \"variable_1\": \"unique_views\", \"count\": null}, {\"index\": \"2020-11-28T00:00:00\", \"variable_0\": \"maps-at-scale-using-computer-vision-and-jupyter-notebooks\", \"variable_1\": \"unique_views\", \"count\": 1.0}, {\"index\": \"2020-11-29T00:00:00\", \"variable_0\": \"maps-at-scale-using-computer-vision-and-jupyter-notebooks\", \"variable_1\": \"unique_views\", \"count\": null}, {\"index\": \"2020-12-02T00:00:00\", \"variable_0\": \"maps-at-scale-using-computer-vision-and-jupyter-notebooks\", \"variable_1\": \"unique_views\", \"count\": null}, {\"index\": \"2020-11-12T00:00:00\", \"variable_0\": \"maps-at-scale-using-computer-vision-and-jupyter-notebooks\", \"variable_1\": \"unique_views\", \"count\": 33.0}, {\"index\": \"2020-11-20T00:00:00\", \"variable_0\": \"maps-at-scale-using-computer-vision-and-jupyter-notebooks\", \"variable_1\": \"unique_views\", \"count\": 1.0}, {\"index\": \"2020-11-21T00:00:00\", \"variable_0\": \"maps-at-scale-using-computer-vision-and-jupyter-notebooks\", \"variable_1\": \"unique_views\", \"count\": 3.0}, {\"index\": \"2020-11-19T00:00:00\", \"variable_0\": \"gh_orgstats\", \"variable_1\": \"total_views\", \"count\": null}, {\"index\": \"2020-11-23T00:00:00\", \"variable_0\": \"gh_orgstats\", \"variable_1\": \"total_views\", \"count\": null}, {\"index\": \"2020-12-01T00:00:00\", \"variable_0\": \"gh_orgstats\", \"variable_1\": \"total_views\", \"count\": 139.0}, {\"index\": \"2020-12-03T00:00:00\", \"variable_0\": \"gh_orgstats\", \"variable_1\": \"total_views\", \"count\": 5.0}, {\"index\": \"2020-11-13T00:00:00\", \"variable_0\": \"gh_orgstats\", \"variable_1\": \"total_views\", \"count\": null}, {\"index\": \"2020-11-14T00:00:00\", \"variable_0\": \"gh_orgstats\", \"variable_1\": \"total_views\", \"count\": null}, {\"index\": \"2020-11-16T00:00:00\", \"variable_0\": \"gh_orgstats\", \"variable_1\": \"total_views\", \"count\": null}, {\"index\": \"2020-11-17T00:00:00\", \"variable_0\": \"gh_orgstats\", \"variable_1\": \"total_views\", \"count\": null}, {\"index\": \"2020-11-26T00:00:00\", \"variable_0\": \"gh_orgstats\", \"variable_1\": \"total_views\", \"count\": null}, {\"index\": \"2020-11-30T00:00:00\", \"variable_0\": \"gh_orgstats\", \"variable_1\": \"total_views\", \"count\": null}, {\"index\": \"2020-11-15T00:00:00\", \"variable_0\": \"gh_orgstats\", \"variable_1\": \"total_views\", \"count\": null}, {\"index\": \"2020-11-18T00:00:00\", \"variable_0\": \"gh_orgstats\", \"variable_1\": \"total_views\", \"count\": null}, {\"index\": \"2020-11-22T00:00:00\", \"variable_0\": \"gh_orgstats\", \"variable_1\": \"total_views\", \"count\": null}, {\"index\": \"2020-11-24T00:00:00\", \"variable_0\": \"gh_orgstats\", \"variable_1\": \"total_views\", \"count\": null}, {\"index\": \"2020-11-25T00:00:00\", \"variable_0\": \"gh_orgstats\", \"variable_1\": \"total_views\", \"count\": null}, {\"index\": \"2020-11-27T00:00:00\", \"variable_0\": \"gh_orgstats\", \"variable_1\": \"total_views\", \"count\": null}, {\"index\": \"2020-11-28T00:00:00\", \"variable_0\": \"gh_orgstats\", \"variable_1\": \"total_views\", \"count\": null}, {\"index\": \"2020-11-29T00:00:00\", \"variable_0\": \"gh_orgstats\", \"variable_1\": \"total_views\", \"count\": null}, {\"index\": \"2020-12-02T00:00:00\", \"variable_0\": \"gh_orgstats\", \"variable_1\": \"total_views\", \"count\": 202.0}, {\"index\": \"2020-11-12T00:00:00\", \"variable_0\": \"gh_orgstats\", \"variable_1\": \"total_views\", \"count\": null}, {\"index\": \"2020-11-20T00:00:00\", \"variable_0\": \"gh_orgstats\", \"variable_1\": \"total_views\", \"count\": null}, {\"index\": \"2020-11-21T00:00:00\", \"variable_0\": \"gh_orgstats\", \"variable_1\": \"total_views\", \"count\": null}, {\"index\": \"2020-11-19T00:00:00\", \"variable_0\": \"gh_orgstats\", \"variable_1\": \"unique_views\", \"count\": null}, {\"index\": \"2020-11-23T00:00:00\", \"variable_0\": \"gh_orgstats\", \"variable_1\": \"unique_views\", \"count\": null}, {\"index\": \"2020-12-01T00:00:00\", \"variable_0\": \"gh_orgstats\", \"variable_1\": \"unique_views\", \"count\": 3.0}, {\"index\": \"2020-12-03T00:00:00\", \"variable_0\": \"gh_orgstats\", \"variable_1\": \"unique_views\", \"count\": 2.0}, {\"index\": \"2020-11-13T00:00:00\", \"variable_0\": \"gh_orgstats\", \"variable_1\": \"unique_views\", \"count\": null}, {\"index\": \"2020-11-14T00:00:00\", \"variable_0\": \"gh_orgstats\", \"variable_1\": \"unique_views\", \"count\": null}, {\"index\": \"2020-11-16T00:00:00\", \"variable_0\": \"gh_orgstats\", \"variable_1\": \"unique_views\", \"count\": null}, {\"index\": \"2020-11-17T00:00:00\", \"variable_0\": \"gh_orgstats\", \"variable_1\": \"unique_views\", \"count\": null}, {\"index\": \"2020-11-26T00:00:00\", \"variable_0\": \"gh_orgstats\", \"variable_1\": \"unique_views\", \"count\": null}, {\"index\": \"2020-11-30T00:00:00\", \"variable_0\": \"gh_orgstats\", \"variable_1\": \"unique_views\", \"count\": null}, {\"index\": \"2020-11-15T00:00:00\", \"variable_0\": \"gh_orgstats\", \"variable_1\": \"unique_views\", \"count\": null}, {\"index\": \"2020-11-18T00:00:00\", \"variable_0\": \"gh_orgstats\", \"variable_1\": \"unique_views\", \"count\": null}, {\"index\": \"2020-11-22T00:00:00\", \"variable_0\": \"gh_orgstats\", \"variable_1\": \"unique_views\", \"count\": null}, {\"index\": \"2020-11-24T00:00:00\", \"variable_0\": \"gh_orgstats\", \"variable_1\": \"unique_views\", \"count\": null}, {\"index\": \"2020-11-25T00:00:00\", \"variable_0\": \"gh_orgstats\", \"variable_1\": \"unique_views\", \"count\": null}, {\"index\": \"2020-11-27T00:00:00\", \"variable_0\": \"gh_orgstats\", \"variable_1\": \"unique_views\", \"count\": null}, {\"index\": \"2020-11-28T00:00:00\", \"variable_0\": \"gh_orgstats\", \"variable_1\": \"unique_views\", \"count\": null}, {\"index\": \"2020-11-29T00:00:00\", \"variable_0\": \"gh_orgstats\", \"variable_1\": \"unique_views\", \"count\": null}, {\"index\": \"2020-12-02T00:00:00\", \"variable_0\": \"gh_orgstats\", \"variable_1\": \"unique_views\", \"count\": 76.0}, {\"index\": \"2020-11-12T00:00:00\", \"variable_0\": \"gh_orgstats\", \"variable_1\": \"unique_views\", \"count\": null}, {\"index\": \"2020-11-20T00:00:00\", \"variable_0\": \"gh_orgstats\", \"variable_1\": \"unique_views\", \"count\": null}, {\"index\": \"2020-11-21T00:00:00\", \"variable_0\": \"gh_orgstats\", \"variable_1\": \"unique_views\", \"count\": null}, {\"index\": \"2020-11-19T00:00:00\", \"variable_0\": \"GazFuse\", \"variable_1\": \"total_views\", \"count\": null}, {\"index\": \"2020-11-23T00:00:00\", \"variable_0\": \"GazFuse\", \"variable_1\": \"total_views\", \"count\": null}, {\"index\": \"2020-12-01T00:00:00\", \"variable_0\": \"GazFuse\", \"variable_1\": \"total_views\", \"count\": null}, {\"index\": \"2020-12-03T00:00:00\", \"variable_0\": \"GazFuse\", \"variable_1\": \"total_views\", \"count\": 4.0}, {\"index\": \"2020-11-13T00:00:00\", \"variable_0\": \"GazFuse\", \"variable_1\": \"total_views\", \"count\": null}, {\"index\": \"2020-11-14T00:00:00\", \"variable_0\": \"GazFuse\", \"variable_1\": \"total_views\", \"count\": null}, {\"index\": \"2020-11-16T00:00:00\", \"variable_0\": \"GazFuse\", \"variable_1\": \"total_views\", \"count\": null}, {\"index\": \"2020-11-17T00:00:00\", \"variable_0\": \"GazFuse\", \"variable_1\": \"total_views\", \"count\": null}, {\"index\": \"2020-11-26T00:00:00\", \"variable_0\": \"GazFuse\", \"variable_1\": \"total_views\", \"count\": null}, {\"index\": \"2020-11-30T00:00:00\", \"variable_0\": \"GazFuse\", \"variable_1\": \"total_views\", \"count\": null}, {\"index\": \"2020-11-15T00:00:00\", \"variable_0\": \"GazFuse\", \"variable_1\": \"total_views\", \"count\": null}, {\"index\": \"2020-11-18T00:00:00\", \"variable_0\": \"GazFuse\", \"variable_1\": \"total_views\", \"count\": null}, {\"index\": \"2020-11-22T00:00:00\", \"variable_0\": \"GazFuse\", \"variable_1\": \"total_views\", \"count\": null}, {\"index\": \"2020-11-24T00:00:00\", \"variable_0\": \"GazFuse\", \"variable_1\": \"total_views\", \"count\": null}, {\"index\": \"2020-11-25T00:00:00\", \"variable_0\": \"GazFuse\", \"variable_1\": \"total_views\", \"count\": null}, {\"index\": \"2020-11-27T00:00:00\", \"variable_0\": \"GazFuse\", \"variable_1\": \"total_views\", \"count\": null}, {\"index\": \"2020-11-28T00:00:00\", \"variable_0\": \"GazFuse\", \"variable_1\": \"total_views\", \"count\": null}, {\"index\": \"2020-11-29T00:00:00\", \"variable_0\": \"GazFuse\", \"variable_1\": \"total_views\", \"count\": null}, {\"index\": \"2020-12-02T00:00:00\", \"variable_0\": \"GazFuse\", \"variable_1\": \"total_views\", \"count\": null}, {\"index\": \"2020-11-12T00:00:00\", \"variable_0\": \"GazFuse\", \"variable_1\": \"total_views\", \"count\": null}, {\"index\": \"2020-11-20T00:00:00\", \"variable_0\": \"GazFuse\", \"variable_1\": \"total_views\", \"count\": null}, {\"index\": \"2020-11-21T00:00:00\", \"variable_0\": \"GazFuse\", \"variable_1\": \"total_views\", \"count\": null}, {\"index\": \"2020-11-19T00:00:00\", \"variable_0\": \"GazFuse\", \"variable_1\": \"unique_views\", \"count\": null}, {\"index\": \"2020-11-23T00:00:00\", \"variable_0\": \"GazFuse\", \"variable_1\": \"unique_views\", \"count\": null}, {\"index\": \"2020-12-01T00:00:00\", \"variable_0\": \"GazFuse\", \"variable_1\": \"unique_views\", \"count\": null}, {\"index\": \"2020-12-03T00:00:00\", \"variable_0\": \"GazFuse\", \"variable_1\": \"unique_views\", \"count\": 4.0}, {\"index\": \"2020-11-13T00:00:00\", \"variable_0\": \"GazFuse\", \"variable_1\": \"unique_views\", \"count\": null}, {\"index\": \"2020-11-14T00:00:00\", \"variable_0\": \"GazFuse\", \"variable_1\": \"unique_views\", \"count\": null}, {\"index\": \"2020-11-16T00:00:00\", \"variable_0\": \"GazFuse\", \"variable_1\": \"unique_views\", \"count\": null}, {\"index\": \"2020-11-17T00:00:00\", \"variable_0\": \"GazFuse\", \"variable_1\": \"unique_views\", \"count\": null}, {\"index\": \"2020-11-26T00:00:00\", \"variable_0\": \"GazFuse\", \"variable_1\": \"unique_views\", \"count\": null}, {\"index\": \"2020-11-30T00:00:00\", \"variable_0\": \"GazFuse\", \"variable_1\": \"unique_views\", \"count\": null}, {\"index\": \"2020-11-15T00:00:00\", \"variable_0\": \"GazFuse\", \"variable_1\": \"unique_views\", \"count\": null}, {\"index\": \"2020-11-18T00:00:00\", \"variable_0\": \"GazFuse\", \"variable_1\": \"unique_views\", \"count\": null}, {\"index\": \"2020-11-22T00:00:00\", \"variable_0\": \"GazFuse\", \"variable_1\": \"unique_views\", \"count\": null}, {\"index\": \"2020-11-24T00:00:00\", \"variable_0\": \"GazFuse\", \"variable_1\": \"unique_views\", \"count\": null}, {\"index\": \"2020-11-25T00:00:00\", \"variable_0\": \"GazFuse\", \"variable_1\": \"unique_views\", \"count\": null}, {\"index\": \"2020-11-27T00:00:00\", \"variable_0\": \"GazFuse\", \"variable_1\": \"unique_views\", \"count\": null}, {\"index\": \"2020-11-28T00:00:00\", \"variable_0\": \"GazFuse\", \"variable_1\": \"unique_views\", \"count\": null}, {\"index\": \"2020-11-29T00:00:00\", \"variable_0\": \"GazFuse\", \"variable_1\": \"unique_views\", \"count\": null}, {\"index\": \"2020-12-02T00:00:00\", \"variable_0\": \"GazFuse\", \"variable_1\": \"unique_views\", \"count\": null}, {\"index\": \"2020-11-12T00:00:00\", \"variable_0\": \"GazFuse\", \"variable_1\": \"unique_views\", \"count\": null}, {\"index\": \"2020-11-20T00:00:00\", \"variable_0\": \"GazFuse\", \"variable_1\": \"unique_views\", \"count\": null}, {\"index\": \"2020-11-21T00:00:00\", \"variable_0\": \"GazFuse\", \"variable_1\": \"unique_views\", \"count\": null}]}}, {\"mode\": \"vega-lite\"});\n",
       "</script>"
      ],
      "text/plain": [
       "alt.VConcatChart(...)"
      ]
     },
     "execution_count": 1,
     "metadata": {},
     "output_type": "execute_result"
    }
   ],
   "source": [
    "chart & bar"
   ]
  },
  {
   "cell_type": "markdown",
   "metadata": {},
   "source": [
    "## A breakdown of total views for each public Living with Machines repository:"
   ]
  },
  {
   "cell_type": "code",
   "execution_count": 23,
   "metadata": {
    "execution": {
     "iopub.execute_input": "2020-12-03T17:37:50.824259Z",
     "iopub.status.busy": "2020-12-03T17:37:50.813157Z",
     "iopub.status.idle": "2020-12-03T17:37:50.830483Z",
     "shell.execute_reply": "2020-12-03T17:37:50.829887Z"
    }
   },
   "outputs": [
    {
     "data": {
      "text/html": [
       "<div>\n",
       "<style scoped>\n",
       "    .dataframe tbody tr th:only-of-type {\n",
       "        vertical-align: middle;\n",
       "    }\n",
       "\n",
       "    .dataframe tbody tr th {\n",
       "        vertical-align: top;\n",
       "    }\n",
       "\n",
       "    .dataframe thead th {\n",
       "        text-align: right;\n",
       "    }\n",
       "</style>\n",
       "<table border=\"1\" class=\"dataframe\">\n",
       "  <thead>\n",
       "    <tr style=\"text-align: right;\">\n",
       "      <th></th>\n",
       "      <th>total_views</th>\n",
       "    </tr>\n",
       "  </thead>\n",
       "  <tbody>\n",
       "    <tr>\n",
       "      <th>AtypicalAnimacy</th>\n",
       "      <td>23.0</td>\n",
       "    </tr>\n",
       "    <tr>\n",
       "      <th>AzureAudit</th>\n",
       "      <td>10.0</td>\n",
       "    </tr>\n",
       "    <tr>\n",
       "      <th>D3_JS_viz_in_a_Python_Jupyter_notebook</th>\n",
       "      <td>42.0</td>\n",
       "    </tr>\n",
       "    <tr>\n",
       "      <th>DeezyMatch</th>\n",
       "      <td>429.0</td>\n",
       "    </tr>\n",
       "    <tr>\n",
       "      <th>GazFuse</th>\n",
       "      <td>4.0</td>\n",
       "    </tr>\n",
       "    <tr>\n",
       "      <th>LwM_SIGSPATIAL2020_ToponymMatching</th>\n",
       "      <td>84.0</td>\n",
       "    </tr>\n",
       "    <tr>\n",
       "      <th>computer-vision-DHNordic-2020-workshop</th>\n",
       "      <td>8.0</td>\n",
       "    </tr>\n",
       "    <tr>\n",
       "      <th>deduplify</th>\n",
       "      <td>3.0</td>\n",
       "    </tr>\n",
       "    <tr>\n",
       "      <th>gh_orgstats</th>\n",
       "      <td>346.0</td>\n",
       "    </tr>\n",
       "    <tr>\n",
       "      <th>lwm_ARTIDIGH_2020_OCR_impact_downstream_NLP_tasks</th>\n",
       "      <td>9.0</td>\n",
       "    </tr>\n",
       "    <tr>\n",
       "      <th>lwm_GIR19_resolving_places</th>\n",
       "      <td>19.0</td>\n",
       "    </tr>\n",
       "    <tr>\n",
       "      <th>maps-at-scale-hack-day-notebooks</th>\n",
       "      <td>3.0</td>\n",
       "    </tr>\n",
       "    <tr>\n",
       "      <th>maps-at-scale-using-computer-vision-and-jupyter-notebooks</th>\n",
       "      <td>133.0</td>\n",
       "    </tr>\n",
       "  </tbody>\n",
       "</table>\n",
       "</div>"
      ],
      "text/plain": [
       "                                                    total_views\n",
       "AtypicalAnimacy                                            23.0\n",
       "AzureAudit                                                 10.0\n",
       "D3_JS_viz_in_a_Python_Jupyter_notebook                     42.0\n",
       "DeezyMatch                                                429.0\n",
       "GazFuse                                                     4.0\n",
       "LwM_SIGSPATIAL2020_ToponymMatching                         84.0\n",
       "computer-vision-DHNordic-2020-workshop                      8.0\n",
       "deduplify                                                   3.0\n",
       "gh_orgstats                                               346.0\n",
       "lwm_ARTIDIGH_2020_OCR_impact_downstream_NLP_tasks           9.0\n",
       "lwm_GIR19_resolving_places                                 19.0\n",
       "maps-at-scale-hack-day-notebooks                            3.0\n",
       "maps-at-scale-using-computer-vision-and-jupyter...        133.0"
      ]
     },
     "execution_count": 1,
     "metadata": {},
     "output_type": "execute_result"
    }
   ],
   "source": [
    "df_total = df.loc[idx[:], idx[:,'total_views']].stack()\n",
    "df_total.index = df_total.index.droplevel(1)\n",
    "pd.DataFrame(df_total.sum(),columns=['total_views'])"
   ]
  },
  {
   "cell_type": "markdown",
   "metadata": {},
   "source": [
    "### Unique views\n",
    "Unique views aim to not count the same person visiting a repository multiple times"
   ]
  },
  {
   "cell_type": "code",
   "execution_count": 24,
   "metadata": {
    "execution": {
     "iopub.execute_input": "2020-12-03T17:37:50.835242Z",
     "iopub.status.busy": "2020-12-03T17:37:50.834547Z",
     "iopub.status.idle": "2020-12-03T17:37:50.838340Z",
     "shell.execute_reply": "2020-12-03T17:37:50.837799Z"
    }
   },
   "outputs": [],
   "source": [
    "idx = pd.IndexSlice"
   ]
  },
  {
   "cell_type": "code",
   "execution_count": 25,
   "metadata": {
    "execution": {
     "iopub.execute_input": "2020-12-03T17:37:50.855253Z",
     "iopub.status.busy": "2020-12-03T17:37:50.854090Z",
     "iopub.status.idle": "2020-12-03T17:37:50.859282Z",
     "shell.execute_reply": "2020-12-03T17:37:50.858615Z"
    }
   },
   "outputs": [
    {
     "data": {
      "text/markdown": [
       "Living with Machines public repositories have generated 367 unique views to date with an average of 28 daily views per repository"
      ],
      "text/plain": [
       "<IPython.core.display.Markdown object>"
      ]
     },
     "execution_count": 1,
     "metadata": {},
     "output_type": "execute_result"
    }
   ],
   "source": [
    "total = df.loc[idx[:], idx[:,'unique_views']].sum().sum()\n",
    "mean = df.loc[idx[:], idx[:,'unique_views']].sum().mean()\n",
    "Markdown(f\"Living with Machines public repositories have generated {round(total)} unique views to date with an average of {round(mean)} daily views per repository\")"
   ]
  },
  {
   "cell_type": "markdown",
   "metadata": {},
   "source": [
    "### A breakdown of total unique views for each public Living with Machines repository:"
   ]
  },
  {
   "cell_type": "code",
   "execution_count": 26,
   "metadata": {
    "execution": {
     "iopub.execute_input": "2020-12-03T17:37:50.906966Z",
     "iopub.status.busy": "2020-12-03T17:37:50.895185Z",
     "iopub.status.idle": "2020-12-03T17:37:50.913692Z",
     "shell.execute_reply": "2020-12-03T17:37:50.914341Z"
    }
   },
   "outputs": [
    {
     "data": {
      "text/html": [
       "<div>\n",
       "<style scoped>\n",
       "    .dataframe tbody tr th:only-of-type {\n",
       "        vertical-align: middle;\n",
       "    }\n",
       "\n",
       "    .dataframe tbody tr th {\n",
       "        vertical-align: top;\n",
       "    }\n",
       "\n",
       "    .dataframe thead th {\n",
       "        text-align: right;\n",
       "    }\n",
       "</style>\n",
       "<table border=\"1\" class=\"dataframe\">\n",
       "  <thead>\n",
       "    <tr style=\"text-align: right;\">\n",
       "      <th></th>\n",
       "      <th>unique_views</th>\n",
       "    </tr>\n",
       "  </thead>\n",
       "  <tbody>\n",
       "    <tr>\n",
       "      <th>AtypicalAnimacy</th>\n",
       "      <td>9.0</td>\n",
       "    </tr>\n",
       "    <tr>\n",
       "      <th>AzureAudit</th>\n",
       "      <td>3.0</td>\n",
       "    </tr>\n",
       "    <tr>\n",
       "      <th>D3_JS_viz_in_a_Python_Jupyter_notebook</th>\n",
       "      <td>20.0</td>\n",
       "    </tr>\n",
       "    <tr>\n",
       "      <th>DeezyMatch</th>\n",
       "      <td>146.0</td>\n",
       "    </tr>\n",
       "    <tr>\n",
       "      <th>GazFuse</th>\n",
       "      <td>4.0</td>\n",
       "    </tr>\n",
       "    <tr>\n",
       "      <th>LwM_SIGSPATIAL2020_ToponymMatching</th>\n",
       "      <td>13.0</td>\n",
       "    </tr>\n",
       "    <tr>\n",
       "      <th>computer-vision-DHNordic-2020-workshop</th>\n",
       "      <td>3.0</td>\n",
       "    </tr>\n",
       "    <tr>\n",
       "      <th>deduplify</th>\n",
       "      <td>3.0</td>\n",
       "    </tr>\n",
       "    <tr>\n",
       "      <th>gh_orgstats</th>\n",
       "      <td>81.0</td>\n",
       "    </tr>\n",
       "    <tr>\n",
       "      <th>lwm_ARTIDIGH_2020_OCR_impact_downstream_NLP_tasks</th>\n",
       "      <td>5.0</td>\n",
       "    </tr>\n",
       "    <tr>\n",
       "      <th>lwm_GIR19_resolving_places</th>\n",
       "      <td>9.0</td>\n",
       "    </tr>\n",
       "    <tr>\n",
       "      <th>maps-at-scale-hack-day-notebooks</th>\n",
       "      <td>1.0</td>\n",
       "    </tr>\n",
       "    <tr>\n",
       "      <th>maps-at-scale-using-computer-vision-and-jupyter-notebooks</th>\n",
       "      <td>70.0</td>\n",
       "    </tr>\n",
       "  </tbody>\n",
       "</table>\n",
       "</div>"
      ],
      "text/plain": [
       "                                                    unique_views\n",
       "AtypicalAnimacy                                              9.0\n",
       "AzureAudit                                                   3.0\n",
       "D3_JS_viz_in_a_Python_Jupyter_notebook                      20.0\n",
       "DeezyMatch                                                 146.0\n",
       "GazFuse                                                      4.0\n",
       "LwM_SIGSPATIAL2020_ToponymMatching                          13.0\n",
       "computer-vision-DHNordic-2020-workshop                       3.0\n",
       "deduplify                                                    3.0\n",
       "gh_orgstats                                                 81.0\n",
       "lwm_ARTIDIGH_2020_OCR_impact_downstream_NLP_tasks            5.0\n",
       "lwm_GIR19_resolving_places                                   9.0\n",
       "maps-at-scale-hack-day-notebooks                             1.0\n",
       "maps-at-scale-using-computer-vision-and-jupyter...          70.0"
      ]
     },
     "execution_count": 1,
     "metadata": {},
     "output_type": "execute_result"
    }
   ],
   "source": [
    "df = df.loc[idx[:], idx[:,'unique_views']].stack()\n",
    "df.index = df.index.droplevel(1)\n",
    "pd.DataFrame(df.sum(),columns=['unique_views'])"
   ]
  },
  {
   "cell_type": "markdown",
   "metadata": {},
   "source": [
    "### Mean views by day of week "
   ]
  },
  {
   "cell_type": "code",
   "execution_count": 27,
   "metadata": {
    "execution": {
     "iopub.execute_input": "2020-12-03T17:37:50.934767Z",
     "iopub.status.busy": "2020-12-03T17:37:50.922888Z",
     "iopub.status.idle": "2020-12-03T17:37:50.958257Z",
     "shell.execute_reply": "2020-12-03T17:37:50.958839Z"
    }
   },
   "outputs": [
    {
     "data": {
      "text/html": [
       "\n",
       "<div id=\"altair-viz-803c8a6cbd3d48a8940a5557eda72403\"></div>\n",
       "<script type=\"text/javascript\">\n",
       "  (function(spec, embedOpt){\n",
       "    let outputDiv = document.currentScript.previousElementSibling;\n",
       "    if (outputDiv.id !== \"altair-viz-803c8a6cbd3d48a8940a5557eda72403\") {\n",
       "      outputDiv = document.getElementById(\"altair-viz-803c8a6cbd3d48a8940a5557eda72403\");\n",
       "    }\n",
       "    const paths = {\n",
       "      \"vega\": \"https://cdn.jsdelivr.net/npm//vega@5?noext\",\n",
       "      \"vega-lib\": \"https://cdn.jsdelivr.net/npm//vega-lib?noext\",\n",
       "      \"vega-lite\": \"https://cdn.jsdelivr.net/npm//vega-lite@4.8.1?noext\",\n",
       "      \"vega-embed\": \"https://cdn.jsdelivr.net/npm//vega-embed@6?noext\",\n",
       "    };\n",
       "\n",
       "    function loadScript(lib) {\n",
       "      return new Promise(function(resolve, reject) {\n",
       "        var s = document.createElement('script');\n",
       "        s.src = paths[lib];\n",
       "        s.async = true;\n",
       "        s.onload = () => resolve(paths[lib]);\n",
       "        s.onerror = () => reject(`Error loading script: ${paths[lib]}`);\n",
       "        document.getElementsByTagName(\"head\")[0].appendChild(s);\n",
       "      });\n",
       "    }\n",
       "\n",
       "    function showError(err) {\n",
       "      outputDiv.innerHTML = `<div class=\"error\" style=\"color:red;\">${err}</div>`;\n",
       "      throw err;\n",
       "    }\n",
       "\n",
       "    function displayChart(vegaEmbed) {\n",
       "      vegaEmbed(outputDiv, spec, embedOpt)\n",
       "        .catch(err => showError(`Javascript Error: ${err.message}<br>This usually means there's a typo in your chart specification. See the javascript console for the full traceback.`));\n",
       "    }\n",
       "\n",
       "    if(typeof define === \"function\" && define.amd) {\n",
       "      requirejs.config({paths});\n",
       "      require([\"vega-embed\"], displayChart, err => showError(`Error loading script: ${err.message}`));\n",
       "    } else if (typeof vegaEmbed === \"function\") {\n",
       "      displayChart(vegaEmbed);\n",
       "    } else {\n",
       "      loadScript(\"vega\")\n",
       "        .then(() => loadScript(\"vega-lite\"))\n",
       "        .then(() => loadScript(\"vega-embed\"))\n",
       "        .catch(showError)\n",
       "        .then(() => displayChart(vegaEmbed));\n",
       "    }\n",
       "  })({\"config\": {\"view\": {\"continuousWidth\": 400, \"continuousHeight\": 300}}, \"data\": {\"name\": \"data-04e6a5038dd9b7690a7d768583f68aa5\"}, \"mark\": \"bar\", \"encoding\": {\"color\": {\"type\": \"nominal\", \"field\": \"variable_1\", \"title\": \"View type\"}, \"x\": {\"type\": \"quantitative\", \"aggregate\": \"mean\", \"field\": \"count\"}, \"y\": {\"type\": \"ordinal\", \"field\": \"index\", \"timeUnit\": \"day\", \"title\": \"Day\"}}, \"title\": \"Mean views by Day\", \"width\": 650, \"$schema\": \"https://vega.github.io/schema/vega-lite/v4.8.1.json\", \"datasets\": {\"data-04e6a5038dd9b7690a7d768583f68aa5\": [{\"index\": \"2020-11-19T00:00:00\", \"variable_0\": \"lwm_ARTIDIGH_2020_OCR_impact_downstream_NLP_tasks\", \"variable_1\": \"total_views\", \"count\": 4.0}, {\"index\": \"2020-11-23T00:00:00\", \"variable_0\": \"lwm_ARTIDIGH_2020_OCR_impact_downstream_NLP_tasks\", \"variable_1\": \"total_views\", \"count\": 1.0}, {\"index\": \"2020-12-01T00:00:00\", \"variable_0\": \"lwm_ARTIDIGH_2020_OCR_impact_downstream_NLP_tasks\", \"variable_1\": \"total_views\", \"count\": 1.0}, {\"index\": \"2020-12-03T00:00:00\", \"variable_0\": \"lwm_ARTIDIGH_2020_OCR_impact_downstream_NLP_tasks\", \"variable_1\": \"total_views\", \"count\": 3.0}, {\"index\": \"2020-11-13T00:00:00\", \"variable_0\": \"lwm_ARTIDIGH_2020_OCR_impact_downstream_NLP_tasks\", \"variable_1\": \"total_views\", \"count\": null}, {\"index\": \"2020-11-14T00:00:00\", \"variable_0\": \"lwm_ARTIDIGH_2020_OCR_impact_downstream_NLP_tasks\", \"variable_1\": \"total_views\", \"count\": null}, {\"index\": \"2020-11-16T00:00:00\", \"variable_0\": \"lwm_ARTIDIGH_2020_OCR_impact_downstream_NLP_tasks\", \"variable_1\": \"total_views\", \"count\": null}, {\"index\": \"2020-11-17T00:00:00\", \"variable_0\": \"lwm_ARTIDIGH_2020_OCR_impact_downstream_NLP_tasks\", \"variable_1\": \"total_views\", \"count\": null}, {\"index\": \"2020-11-26T00:00:00\", \"variable_0\": \"lwm_ARTIDIGH_2020_OCR_impact_downstream_NLP_tasks\", \"variable_1\": \"total_views\", \"count\": null}, {\"index\": \"2020-11-30T00:00:00\", \"variable_0\": \"lwm_ARTIDIGH_2020_OCR_impact_downstream_NLP_tasks\", \"variable_1\": \"total_views\", \"count\": null}, {\"index\": \"2020-11-15T00:00:00\", \"variable_0\": \"lwm_ARTIDIGH_2020_OCR_impact_downstream_NLP_tasks\", \"variable_1\": \"total_views\", \"count\": null}, {\"index\": \"2020-11-18T00:00:00\", \"variable_0\": \"lwm_ARTIDIGH_2020_OCR_impact_downstream_NLP_tasks\", \"variable_1\": \"total_views\", \"count\": null}, {\"index\": \"2020-11-22T00:00:00\", \"variable_0\": \"lwm_ARTIDIGH_2020_OCR_impact_downstream_NLP_tasks\", \"variable_1\": \"total_views\", \"count\": null}, {\"index\": \"2020-11-24T00:00:00\", \"variable_0\": \"lwm_ARTIDIGH_2020_OCR_impact_downstream_NLP_tasks\", \"variable_1\": \"total_views\", \"count\": null}, {\"index\": \"2020-11-25T00:00:00\", \"variable_0\": \"lwm_ARTIDIGH_2020_OCR_impact_downstream_NLP_tasks\", \"variable_1\": \"total_views\", \"count\": null}, {\"index\": \"2020-11-27T00:00:00\", \"variable_0\": \"lwm_ARTIDIGH_2020_OCR_impact_downstream_NLP_tasks\", \"variable_1\": \"total_views\", \"count\": null}, {\"index\": \"2020-11-28T00:00:00\", \"variable_0\": \"lwm_ARTIDIGH_2020_OCR_impact_downstream_NLP_tasks\", \"variable_1\": \"total_views\", \"count\": null}, {\"index\": \"2020-11-29T00:00:00\", \"variable_0\": \"lwm_ARTIDIGH_2020_OCR_impact_downstream_NLP_tasks\", \"variable_1\": \"total_views\", \"count\": null}, {\"index\": \"2020-12-02T00:00:00\", \"variable_0\": \"lwm_ARTIDIGH_2020_OCR_impact_downstream_NLP_tasks\", \"variable_1\": \"total_views\", \"count\": null}, {\"index\": \"2020-11-12T00:00:00\", \"variable_0\": \"lwm_ARTIDIGH_2020_OCR_impact_downstream_NLP_tasks\", \"variable_1\": \"total_views\", \"count\": null}, {\"index\": \"2020-11-20T00:00:00\", \"variable_0\": \"lwm_ARTIDIGH_2020_OCR_impact_downstream_NLP_tasks\", \"variable_1\": \"total_views\", \"count\": null}, {\"index\": \"2020-11-21T00:00:00\", \"variable_0\": \"lwm_ARTIDIGH_2020_OCR_impact_downstream_NLP_tasks\", \"variable_1\": \"total_views\", \"count\": null}, {\"index\": \"2020-11-19T00:00:00\", \"variable_0\": \"lwm_ARTIDIGH_2020_OCR_impact_downstream_NLP_tasks\", \"variable_1\": \"unique_views\", \"count\": 2.0}, {\"index\": \"2020-11-23T00:00:00\", \"variable_0\": \"lwm_ARTIDIGH_2020_OCR_impact_downstream_NLP_tasks\", \"variable_1\": \"unique_views\", \"count\": 1.0}, {\"index\": \"2020-12-01T00:00:00\", \"variable_0\": \"lwm_ARTIDIGH_2020_OCR_impact_downstream_NLP_tasks\", \"variable_1\": \"unique_views\", \"count\": 1.0}, {\"index\": \"2020-12-03T00:00:00\", \"variable_0\": \"lwm_ARTIDIGH_2020_OCR_impact_downstream_NLP_tasks\", \"variable_1\": \"unique_views\", \"count\": 1.0}, {\"index\": \"2020-11-13T00:00:00\", \"variable_0\": \"lwm_ARTIDIGH_2020_OCR_impact_downstream_NLP_tasks\", \"variable_1\": \"unique_views\", \"count\": null}, {\"index\": \"2020-11-14T00:00:00\", \"variable_0\": \"lwm_ARTIDIGH_2020_OCR_impact_downstream_NLP_tasks\", \"variable_1\": \"unique_views\", \"count\": null}, {\"index\": \"2020-11-16T00:00:00\", \"variable_0\": \"lwm_ARTIDIGH_2020_OCR_impact_downstream_NLP_tasks\", \"variable_1\": \"unique_views\", \"count\": null}, {\"index\": \"2020-11-17T00:00:00\", \"variable_0\": \"lwm_ARTIDIGH_2020_OCR_impact_downstream_NLP_tasks\", \"variable_1\": \"unique_views\", \"count\": null}, {\"index\": \"2020-11-26T00:00:00\", \"variable_0\": \"lwm_ARTIDIGH_2020_OCR_impact_downstream_NLP_tasks\", \"variable_1\": \"unique_views\", \"count\": null}, {\"index\": \"2020-11-30T00:00:00\", \"variable_0\": \"lwm_ARTIDIGH_2020_OCR_impact_downstream_NLP_tasks\", \"variable_1\": \"unique_views\", \"count\": null}, {\"index\": \"2020-11-15T00:00:00\", \"variable_0\": \"lwm_ARTIDIGH_2020_OCR_impact_downstream_NLP_tasks\", \"variable_1\": \"unique_views\", \"count\": null}, {\"index\": \"2020-11-18T00:00:00\", \"variable_0\": \"lwm_ARTIDIGH_2020_OCR_impact_downstream_NLP_tasks\", \"variable_1\": \"unique_views\", \"count\": null}, {\"index\": \"2020-11-22T00:00:00\", \"variable_0\": \"lwm_ARTIDIGH_2020_OCR_impact_downstream_NLP_tasks\", \"variable_1\": \"unique_views\", \"count\": null}, {\"index\": \"2020-11-24T00:00:00\", \"variable_0\": \"lwm_ARTIDIGH_2020_OCR_impact_downstream_NLP_tasks\", \"variable_1\": \"unique_views\", \"count\": null}, {\"index\": \"2020-11-25T00:00:00\", \"variable_0\": \"lwm_ARTIDIGH_2020_OCR_impact_downstream_NLP_tasks\", \"variable_1\": \"unique_views\", \"count\": null}, {\"index\": \"2020-11-27T00:00:00\", \"variable_0\": \"lwm_ARTIDIGH_2020_OCR_impact_downstream_NLP_tasks\", \"variable_1\": \"unique_views\", \"count\": null}, {\"index\": \"2020-11-28T00:00:00\", \"variable_0\": \"lwm_ARTIDIGH_2020_OCR_impact_downstream_NLP_tasks\", \"variable_1\": \"unique_views\", \"count\": null}, {\"index\": \"2020-11-29T00:00:00\", \"variable_0\": \"lwm_ARTIDIGH_2020_OCR_impact_downstream_NLP_tasks\", \"variable_1\": \"unique_views\", \"count\": null}, {\"index\": \"2020-12-02T00:00:00\", \"variable_0\": \"lwm_ARTIDIGH_2020_OCR_impact_downstream_NLP_tasks\", \"variable_1\": \"unique_views\", \"count\": null}, {\"index\": \"2020-11-12T00:00:00\", \"variable_0\": \"lwm_ARTIDIGH_2020_OCR_impact_downstream_NLP_tasks\", \"variable_1\": \"unique_views\", \"count\": null}, {\"index\": \"2020-11-20T00:00:00\", \"variable_0\": \"lwm_ARTIDIGH_2020_OCR_impact_downstream_NLP_tasks\", \"variable_1\": \"unique_views\", \"count\": null}, {\"index\": \"2020-11-21T00:00:00\", \"variable_0\": \"lwm_ARTIDIGH_2020_OCR_impact_downstream_NLP_tasks\", \"variable_1\": \"unique_views\", \"count\": null}, {\"index\": \"2020-11-19T00:00:00\", \"variable_0\": \"lwm_GIR19_resolving_places\", \"variable_1\": \"total_views\", \"count\": null}, {\"index\": \"2020-11-23T00:00:00\", \"variable_0\": \"lwm_GIR19_resolving_places\", \"variable_1\": \"total_views\", \"count\": null}, {\"index\": \"2020-12-01T00:00:00\", \"variable_0\": \"lwm_GIR19_resolving_places\", \"variable_1\": \"total_views\", \"count\": 6.0}, {\"index\": \"2020-12-03T00:00:00\", \"variable_0\": \"lwm_GIR19_resolving_places\", \"variable_1\": \"total_views\", \"count\": 3.0}, {\"index\": \"2020-11-13T00:00:00\", \"variable_0\": \"lwm_GIR19_resolving_places\", \"variable_1\": \"total_views\", \"count\": 2.0}, {\"index\": \"2020-11-14T00:00:00\", \"variable_0\": \"lwm_GIR19_resolving_places\", \"variable_1\": \"total_views\", \"count\": 1.0}, {\"index\": \"2020-11-16T00:00:00\", \"variable_0\": \"lwm_GIR19_resolving_places\", \"variable_1\": \"total_views\", \"count\": 3.0}, {\"index\": \"2020-11-17T00:00:00\", \"variable_0\": \"lwm_GIR19_resolving_places\", \"variable_1\": \"total_views\", \"count\": 1.0}, {\"index\": \"2020-11-26T00:00:00\", \"variable_0\": \"lwm_GIR19_resolving_places\", \"variable_1\": \"total_views\", \"count\": 1.0}, {\"index\": \"2020-11-30T00:00:00\", \"variable_0\": \"lwm_GIR19_resolving_places\", \"variable_1\": \"total_views\", \"count\": 2.0}, {\"index\": \"2020-11-15T00:00:00\", \"variable_0\": \"lwm_GIR19_resolving_places\", \"variable_1\": \"total_views\", \"count\": null}, {\"index\": \"2020-11-18T00:00:00\", \"variable_0\": \"lwm_GIR19_resolving_places\", \"variable_1\": \"total_views\", \"count\": null}, {\"index\": \"2020-11-22T00:00:00\", \"variable_0\": \"lwm_GIR19_resolving_places\", \"variable_1\": \"total_views\", \"count\": null}, {\"index\": \"2020-11-24T00:00:00\", \"variable_0\": \"lwm_GIR19_resolving_places\", \"variable_1\": \"total_views\", \"count\": null}, {\"index\": \"2020-11-25T00:00:00\", \"variable_0\": \"lwm_GIR19_resolving_places\", \"variable_1\": \"total_views\", \"count\": null}, {\"index\": \"2020-11-27T00:00:00\", \"variable_0\": \"lwm_GIR19_resolving_places\", \"variable_1\": \"total_views\", \"count\": null}, {\"index\": \"2020-11-28T00:00:00\", \"variable_0\": \"lwm_GIR19_resolving_places\", \"variable_1\": \"total_views\", \"count\": null}, {\"index\": \"2020-11-29T00:00:00\", \"variable_0\": \"lwm_GIR19_resolving_places\", \"variable_1\": \"total_views\", \"count\": null}, {\"index\": \"2020-12-02T00:00:00\", \"variable_0\": \"lwm_GIR19_resolving_places\", \"variable_1\": \"total_views\", \"count\": null}, {\"index\": \"2020-11-12T00:00:00\", \"variable_0\": \"lwm_GIR19_resolving_places\", \"variable_1\": \"total_views\", \"count\": null}, {\"index\": \"2020-11-20T00:00:00\", \"variable_0\": \"lwm_GIR19_resolving_places\", \"variable_1\": \"total_views\", \"count\": null}, {\"index\": \"2020-11-21T00:00:00\", \"variable_0\": \"lwm_GIR19_resolving_places\", \"variable_1\": \"total_views\", \"count\": null}, {\"index\": \"2020-11-19T00:00:00\", \"variable_0\": \"lwm_GIR19_resolving_places\", \"variable_1\": \"unique_views\", \"count\": null}, {\"index\": \"2020-11-23T00:00:00\", \"variable_0\": \"lwm_GIR19_resolving_places\", \"variable_1\": \"unique_views\", \"count\": null}, {\"index\": \"2020-12-01T00:00:00\", \"variable_0\": \"lwm_GIR19_resolving_places\", \"variable_1\": \"unique_views\", \"count\": 2.0}, {\"index\": \"2020-12-03T00:00:00\", \"variable_0\": \"lwm_GIR19_resolving_places\", \"variable_1\": \"unique_views\", \"count\": 1.0}, {\"index\": \"2020-11-13T00:00:00\", \"variable_0\": \"lwm_GIR19_resolving_places\", \"variable_1\": \"unique_views\", \"count\": 1.0}, {\"index\": \"2020-11-14T00:00:00\", \"variable_0\": \"lwm_GIR19_resolving_places\", \"variable_1\": \"unique_views\", \"count\": 1.0}, {\"index\": \"2020-11-16T00:00:00\", \"variable_0\": \"lwm_GIR19_resolving_places\", \"variable_1\": \"unique_views\", \"count\": 1.0}, {\"index\": \"2020-11-17T00:00:00\", \"variable_0\": \"lwm_GIR19_resolving_places\", \"variable_1\": \"unique_views\", \"count\": 1.0}, {\"index\": \"2020-11-26T00:00:00\", \"variable_0\": \"lwm_GIR19_resolving_places\", \"variable_1\": \"unique_views\", \"count\": 1.0}, {\"index\": \"2020-11-30T00:00:00\", \"variable_0\": \"lwm_GIR19_resolving_places\", \"variable_1\": \"unique_views\", \"count\": 1.0}, {\"index\": \"2020-11-15T00:00:00\", \"variable_0\": \"lwm_GIR19_resolving_places\", \"variable_1\": \"unique_views\", \"count\": null}, {\"index\": \"2020-11-18T00:00:00\", \"variable_0\": \"lwm_GIR19_resolving_places\", \"variable_1\": \"unique_views\", \"count\": null}, {\"index\": \"2020-11-22T00:00:00\", \"variable_0\": \"lwm_GIR19_resolving_places\", \"variable_1\": \"unique_views\", \"count\": null}, {\"index\": \"2020-11-24T00:00:00\", \"variable_0\": \"lwm_GIR19_resolving_places\", \"variable_1\": \"unique_views\", \"count\": null}, {\"index\": \"2020-11-25T00:00:00\", \"variable_0\": \"lwm_GIR19_resolving_places\", \"variable_1\": \"unique_views\", \"count\": null}, {\"index\": \"2020-11-27T00:00:00\", \"variable_0\": \"lwm_GIR19_resolving_places\", \"variable_1\": \"unique_views\", \"count\": null}, {\"index\": \"2020-11-28T00:00:00\", \"variable_0\": \"lwm_GIR19_resolving_places\", \"variable_1\": \"unique_views\", \"count\": null}, {\"index\": \"2020-11-29T00:00:00\", \"variable_0\": \"lwm_GIR19_resolving_places\", \"variable_1\": \"unique_views\", \"count\": null}, {\"index\": \"2020-12-02T00:00:00\", \"variable_0\": \"lwm_GIR19_resolving_places\", \"variable_1\": \"unique_views\", \"count\": null}, {\"index\": \"2020-11-12T00:00:00\", \"variable_0\": \"lwm_GIR19_resolving_places\", \"variable_1\": \"unique_views\", \"count\": null}, {\"index\": \"2020-11-20T00:00:00\", \"variable_0\": \"lwm_GIR19_resolving_places\", \"variable_1\": \"unique_views\", \"count\": null}, {\"index\": \"2020-11-21T00:00:00\", \"variable_0\": \"lwm_GIR19_resolving_places\", \"variable_1\": \"unique_views\", \"count\": null}, {\"index\": \"2020-11-19T00:00:00\", \"variable_0\": \"D3_JS_viz_in_a_Python_Jupyter_notebook\", \"variable_1\": \"total_views\", \"count\": null}, {\"index\": \"2020-11-23T00:00:00\", \"variable_0\": \"D3_JS_viz_in_a_Python_Jupyter_notebook\", \"variable_1\": \"total_views\", \"count\": null}, {\"index\": \"2020-12-01T00:00:00\", \"variable_0\": \"D3_JS_viz_in_a_Python_Jupyter_notebook\", \"variable_1\": \"total_views\", \"count\": null}, {\"index\": \"2020-12-03T00:00:00\", \"variable_0\": \"D3_JS_viz_in_a_Python_Jupyter_notebook\", \"variable_1\": \"total_views\", \"count\": 3.0}, {\"index\": \"2020-11-13T00:00:00\", \"variable_0\": \"D3_JS_viz_in_a_Python_Jupyter_notebook\", \"variable_1\": \"total_views\", \"count\": null}, {\"index\": \"2020-11-14T00:00:00\", \"variable_0\": \"D3_JS_viz_in_a_Python_Jupyter_notebook\", \"variable_1\": \"total_views\", \"count\": null}, {\"index\": \"2020-11-16T00:00:00\", \"variable_0\": \"D3_JS_viz_in_a_Python_Jupyter_notebook\", \"variable_1\": \"total_views\", \"count\": 2.0}, {\"index\": \"2020-11-17T00:00:00\", \"variable_0\": \"D3_JS_viz_in_a_Python_Jupyter_notebook\", \"variable_1\": \"total_views\", \"count\": 1.0}, {\"index\": \"2020-11-26T00:00:00\", \"variable_0\": \"D3_JS_viz_in_a_Python_Jupyter_notebook\", \"variable_1\": \"total_views\", \"count\": null}, {\"index\": \"2020-11-30T00:00:00\", \"variable_0\": \"D3_JS_viz_in_a_Python_Jupyter_notebook\", \"variable_1\": \"total_views\", \"count\": 2.0}, {\"index\": \"2020-11-15T00:00:00\", \"variable_0\": \"D3_JS_viz_in_a_Python_Jupyter_notebook\", \"variable_1\": \"total_views\", \"count\": 2.0}, {\"index\": \"2020-11-18T00:00:00\", \"variable_0\": \"D3_JS_viz_in_a_Python_Jupyter_notebook\", \"variable_1\": \"total_views\", \"count\": 2.0}, {\"index\": \"2020-11-22T00:00:00\", \"variable_0\": \"D3_JS_viz_in_a_Python_Jupyter_notebook\", \"variable_1\": \"total_views\", \"count\": 1.0}, {\"index\": \"2020-11-24T00:00:00\", \"variable_0\": \"D3_JS_viz_in_a_Python_Jupyter_notebook\", \"variable_1\": \"total_views\", \"count\": 16.0}, {\"index\": \"2020-11-25T00:00:00\", \"variable_0\": \"D3_JS_viz_in_a_Python_Jupyter_notebook\", \"variable_1\": \"total_views\", \"count\": 2.0}, {\"index\": \"2020-11-27T00:00:00\", \"variable_0\": \"D3_JS_viz_in_a_Python_Jupyter_notebook\", \"variable_1\": \"total_views\", \"count\": 2.0}, {\"index\": \"2020-11-28T00:00:00\", \"variable_0\": \"D3_JS_viz_in_a_Python_Jupyter_notebook\", \"variable_1\": \"total_views\", \"count\": 3.0}, {\"index\": \"2020-11-29T00:00:00\", \"variable_0\": \"D3_JS_viz_in_a_Python_Jupyter_notebook\", \"variable_1\": \"total_views\", \"count\": 4.0}, {\"index\": \"2020-12-02T00:00:00\", \"variable_0\": \"D3_JS_viz_in_a_Python_Jupyter_notebook\", \"variable_1\": \"total_views\", \"count\": 2.0}, {\"index\": \"2020-11-12T00:00:00\", \"variable_0\": \"D3_JS_viz_in_a_Python_Jupyter_notebook\", \"variable_1\": \"total_views\", \"count\": null}, {\"index\": \"2020-11-20T00:00:00\", \"variable_0\": \"D3_JS_viz_in_a_Python_Jupyter_notebook\", \"variable_1\": \"total_views\", \"count\": null}, {\"index\": \"2020-11-21T00:00:00\", \"variable_0\": \"D3_JS_viz_in_a_Python_Jupyter_notebook\", \"variable_1\": \"total_views\", \"count\": null}, {\"index\": \"2020-11-19T00:00:00\", \"variable_0\": \"D3_JS_viz_in_a_Python_Jupyter_notebook\", \"variable_1\": \"unique_views\", \"count\": null}, {\"index\": \"2020-11-23T00:00:00\", \"variable_0\": \"D3_JS_viz_in_a_Python_Jupyter_notebook\", \"variable_1\": \"unique_views\", \"count\": null}, {\"index\": \"2020-12-01T00:00:00\", \"variable_0\": \"D3_JS_viz_in_a_Python_Jupyter_notebook\", \"variable_1\": \"unique_views\", \"count\": null}, {\"index\": \"2020-12-03T00:00:00\", \"variable_0\": \"D3_JS_viz_in_a_Python_Jupyter_notebook\", \"variable_1\": \"unique_views\", \"count\": 2.0}, {\"index\": \"2020-11-13T00:00:00\", \"variable_0\": \"D3_JS_viz_in_a_Python_Jupyter_notebook\", \"variable_1\": \"unique_views\", \"count\": null}, {\"index\": \"2020-11-14T00:00:00\", \"variable_0\": \"D3_JS_viz_in_a_Python_Jupyter_notebook\", \"variable_1\": \"unique_views\", \"count\": null}, {\"index\": \"2020-11-16T00:00:00\", \"variable_0\": \"D3_JS_viz_in_a_Python_Jupyter_notebook\", \"variable_1\": \"unique_views\", \"count\": 1.0}, {\"index\": \"2020-11-17T00:00:00\", \"variable_0\": \"D3_JS_viz_in_a_Python_Jupyter_notebook\", \"variable_1\": \"unique_views\", \"count\": 1.0}, {\"index\": \"2020-11-26T00:00:00\", \"variable_0\": \"D3_JS_viz_in_a_Python_Jupyter_notebook\", \"variable_1\": \"unique_views\", \"count\": null}, {\"index\": \"2020-11-30T00:00:00\", \"variable_0\": \"D3_JS_viz_in_a_Python_Jupyter_notebook\", \"variable_1\": \"unique_views\", \"count\": 1.0}, {\"index\": \"2020-11-15T00:00:00\", \"variable_0\": \"D3_JS_viz_in_a_Python_Jupyter_notebook\", \"variable_1\": \"unique_views\", \"count\": 1.0}, {\"index\": \"2020-11-18T00:00:00\", \"variable_0\": \"D3_JS_viz_in_a_Python_Jupyter_notebook\", \"variable_1\": \"unique_views\", \"count\": 1.0}, {\"index\": \"2020-11-22T00:00:00\", \"variable_0\": \"D3_JS_viz_in_a_Python_Jupyter_notebook\", \"variable_1\": \"unique_views\", \"count\": 1.0}, {\"index\": \"2020-11-24T00:00:00\", \"variable_0\": \"D3_JS_viz_in_a_Python_Jupyter_notebook\", \"variable_1\": \"unique_views\", \"count\": 5.0}, {\"index\": \"2020-11-25T00:00:00\", \"variable_0\": \"D3_JS_viz_in_a_Python_Jupyter_notebook\", \"variable_1\": \"unique_views\", \"count\": 1.0}, {\"index\": \"2020-11-27T00:00:00\", \"variable_0\": \"D3_JS_viz_in_a_Python_Jupyter_notebook\", \"variable_1\": \"unique_views\", \"count\": 1.0}, {\"index\": \"2020-11-28T00:00:00\", \"variable_0\": \"D3_JS_viz_in_a_Python_Jupyter_notebook\", \"variable_1\": \"unique_views\", \"count\": 1.0}, {\"index\": \"2020-11-29T00:00:00\", \"variable_0\": \"D3_JS_viz_in_a_Python_Jupyter_notebook\", \"variable_1\": \"unique_views\", \"count\": 2.0}, {\"index\": \"2020-12-02T00:00:00\", \"variable_0\": \"D3_JS_viz_in_a_Python_Jupyter_notebook\", \"variable_1\": \"unique_views\", \"count\": 2.0}, {\"index\": \"2020-11-12T00:00:00\", \"variable_0\": \"D3_JS_viz_in_a_Python_Jupyter_notebook\", \"variable_1\": \"unique_views\", \"count\": null}, {\"index\": \"2020-11-20T00:00:00\", \"variable_0\": \"D3_JS_viz_in_a_Python_Jupyter_notebook\", \"variable_1\": \"unique_views\", \"count\": null}, {\"index\": \"2020-11-21T00:00:00\", \"variable_0\": \"D3_JS_viz_in_a_Python_Jupyter_notebook\", \"variable_1\": \"unique_views\", \"count\": null}, {\"index\": \"2020-11-19T00:00:00\", \"variable_0\": \"DeezyMatch\", \"variable_1\": \"total_views\", \"count\": 7.0}, {\"index\": \"2020-11-23T00:00:00\", \"variable_0\": \"DeezyMatch\", \"variable_1\": \"total_views\", \"count\": 26.0}, {\"index\": \"2020-12-01T00:00:00\", \"variable_0\": \"DeezyMatch\", \"variable_1\": \"total_views\", \"count\": 19.0}, {\"index\": \"2020-12-03T00:00:00\", \"variable_0\": \"DeezyMatch\", \"variable_1\": \"total_views\", \"count\": 109.0}, {\"index\": \"2020-11-13T00:00:00\", \"variable_0\": \"DeezyMatch\", \"variable_1\": \"total_views\", \"count\": 3.0}, {\"index\": \"2020-11-14T00:00:00\", \"variable_0\": \"DeezyMatch\", \"variable_1\": \"total_views\", \"count\": 6.0}, {\"index\": \"2020-11-16T00:00:00\", \"variable_0\": \"DeezyMatch\", \"variable_1\": \"total_views\", \"count\": 39.0}, {\"index\": \"2020-11-17T00:00:00\", \"variable_0\": \"DeezyMatch\", \"variable_1\": \"total_views\", \"count\": 1.0}, {\"index\": \"2020-11-26T00:00:00\", \"variable_0\": \"DeezyMatch\", \"variable_1\": \"total_views\", \"count\": 52.0}, {\"index\": \"2020-11-30T00:00:00\", \"variable_0\": \"DeezyMatch\", \"variable_1\": \"total_views\", \"count\": 15.0}, {\"index\": \"2020-11-15T00:00:00\", \"variable_0\": \"DeezyMatch\", \"variable_1\": \"total_views\", \"count\": 14.0}, {\"index\": \"2020-11-18T00:00:00\", \"variable_0\": \"DeezyMatch\", \"variable_1\": \"total_views\", \"count\": 1.0}, {\"index\": \"2020-11-22T00:00:00\", \"variable_0\": \"DeezyMatch\", \"variable_1\": \"total_views\", \"count\": 2.0}, {\"index\": \"2020-11-24T00:00:00\", \"variable_0\": \"DeezyMatch\", \"variable_1\": \"total_views\", \"count\": 8.0}, {\"index\": \"2020-11-25T00:00:00\", \"variable_0\": \"DeezyMatch\", \"variable_1\": \"total_views\", \"count\": 51.0}, {\"index\": \"2020-11-27T00:00:00\", \"variable_0\": \"DeezyMatch\", \"variable_1\": \"total_views\", \"count\": 8.0}, {\"index\": \"2020-11-28T00:00:00\", \"variable_0\": \"DeezyMatch\", \"variable_1\": \"total_views\", \"count\": 8.0}, {\"index\": \"2020-11-29T00:00:00\", \"variable_0\": \"DeezyMatch\", \"variable_1\": \"total_views\", \"count\": 4.0}, {\"index\": \"2020-12-02T00:00:00\", \"variable_0\": \"DeezyMatch\", \"variable_1\": \"total_views\", \"count\": 21.0}, {\"index\": \"2020-11-12T00:00:00\", \"variable_0\": \"DeezyMatch\", \"variable_1\": \"total_views\", \"count\": 1.0}, {\"index\": \"2020-11-20T00:00:00\", \"variable_0\": \"DeezyMatch\", \"variable_1\": \"total_views\", \"count\": 24.0}, {\"index\": \"2020-11-21T00:00:00\", \"variable_0\": \"DeezyMatch\", \"variable_1\": \"total_views\", \"count\": 10.0}, {\"index\": \"2020-11-19T00:00:00\", \"variable_0\": \"DeezyMatch\", \"variable_1\": \"unique_views\", \"count\": 2.0}, {\"index\": \"2020-11-23T00:00:00\", \"variable_0\": \"DeezyMatch\", \"variable_1\": \"unique_views\", \"count\": 9.0}, {\"index\": \"2020-12-01T00:00:00\", \"variable_0\": \"DeezyMatch\", \"variable_1\": \"unique_views\", \"count\": 6.0}, {\"index\": \"2020-12-03T00:00:00\", \"variable_0\": \"DeezyMatch\", \"variable_1\": \"unique_views\", \"count\": 41.0}, {\"index\": \"2020-11-13T00:00:00\", \"variable_0\": \"DeezyMatch\", \"variable_1\": \"unique_views\", \"count\": 2.0}, {\"index\": \"2020-11-14T00:00:00\", \"variable_0\": \"DeezyMatch\", \"variable_1\": \"unique_views\", \"count\": 3.0}, {\"index\": \"2020-11-16T00:00:00\", \"variable_0\": \"DeezyMatch\", \"variable_1\": \"unique_views\", \"count\": 6.0}, {\"index\": \"2020-11-17T00:00:00\", \"variable_0\": \"DeezyMatch\", \"variable_1\": \"unique_views\", \"count\": 1.0}, {\"index\": \"2020-11-26T00:00:00\", \"variable_0\": \"DeezyMatch\", \"variable_1\": \"unique_views\", \"count\": 6.0}, {\"index\": \"2020-11-30T00:00:00\", \"variable_0\": \"DeezyMatch\", \"variable_1\": \"unique_views\", \"count\": 6.0}, {\"index\": \"2020-11-15T00:00:00\", \"variable_0\": \"DeezyMatch\", \"variable_1\": \"unique_views\", \"count\": 6.0}, {\"index\": \"2020-11-18T00:00:00\", \"variable_0\": \"DeezyMatch\", \"variable_1\": \"unique_views\", \"count\": 1.0}, {\"index\": \"2020-11-22T00:00:00\", \"variable_0\": \"DeezyMatch\", \"variable_1\": \"unique_views\", \"count\": 1.0}, {\"index\": \"2020-11-24T00:00:00\", \"variable_0\": \"DeezyMatch\", \"variable_1\": \"unique_views\", \"count\": 4.0}, {\"index\": \"2020-11-25T00:00:00\", \"variable_0\": \"DeezyMatch\", \"variable_1\": \"unique_views\", \"count\": 10.0}, {\"index\": \"2020-11-27T00:00:00\", \"variable_0\": \"DeezyMatch\", \"variable_1\": \"unique_views\", \"count\": 7.0}, {\"index\": \"2020-11-28T00:00:00\", \"variable_0\": \"DeezyMatch\", \"variable_1\": \"unique_views\", \"count\": 3.0}, {\"index\": \"2020-11-29T00:00:00\", \"variable_0\": \"DeezyMatch\", \"variable_1\": \"unique_views\", \"count\": 2.0}, {\"index\": \"2020-12-02T00:00:00\", \"variable_0\": \"DeezyMatch\", \"variable_1\": \"unique_views\", \"count\": 10.0}, {\"index\": \"2020-11-12T00:00:00\", \"variable_0\": \"DeezyMatch\", \"variable_1\": \"unique_views\", \"count\": 1.0}, {\"index\": \"2020-11-20T00:00:00\", \"variable_0\": \"DeezyMatch\", \"variable_1\": \"unique_views\", \"count\": 12.0}, {\"index\": \"2020-11-21T00:00:00\", \"variable_0\": \"DeezyMatch\", \"variable_1\": \"unique_views\", \"count\": 7.0}, {\"index\": \"2020-11-19T00:00:00\", \"variable_0\": \"LwM_SIGSPATIAL2020_ToponymMatching\", \"variable_1\": \"total_views\", \"count\": null}, {\"index\": \"2020-11-23T00:00:00\", \"variable_0\": \"LwM_SIGSPATIAL2020_ToponymMatching\", \"variable_1\": \"total_views\", \"count\": 7.0}, {\"index\": \"2020-12-01T00:00:00\", \"variable_0\": \"LwM_SIGSPATIAL2020_ToponymMatching\", \"variable_1\": \"total_views\", \"count\": 27.0}, {\"index\": \"2020-12-03T00:00:00\", \"variable_0\": \"LwM_SIGSPATIAL2020_ToponymMatching\", \"variable_1\": \"total_views\", \"count\": 3.0}, {\"index\": \"2020-11-13T00:00:00\", \"variable_0\": \"LwM_SIGSPATIAL2020_ToponymMatching\", \"variable_1\": \"total_views\", \"count\": 2.0}, {\"index\": \"2020-11-14T00:00:00\", \"variable_0\": \"LwM_SIGSPATIAL2020_ToponymMatching\", \"variable_1\": \"total_views\", \"count\": null}, {\"index\": \"2020-11-16T00:00:00\", \"variable_0\": \"LwM_SIGSPATIAL2020_ToponymMatching\", \"variable_1\": \"total_views\", \"count\": 3.0}, {\"index\": \"2020-11-17T00:00:00\", \"variable_0\": \"LwM_SIGSPATIAL2020_ToponymMatching\", \"variable_1\": \"total_views\", \"count\": 1.0}, {\"index\": \"2020-11-26T00:00:00\", \"variable_0\": \"LwM_SIGSPATIAL2020_ToponymMatching\", \"variable_1\": \"total_views\", \"count\": null}, {\"index\": \"2020-11-30T00:00:00\", \"variable_0\": \"LwM_SIGSPATIAL2020_ToponymMatching\", \"variable_1\": \"total_views\", \"count\": 7.0}, {\"index\": \"2020-11-15T00:00:00\", \"variable_0\": \"LwM_SIGSPATIAL2020_ToponymMatching\", \"variable_1\": \"total_views\", \"count\": null}, {\"index\": \"2020-11-18T00:00:00\", \"variable_0\": \"LwM_SIGSPATIAL2020_ToponymMatching\", \"variable_1\": \"total_views\", \"count\": null}, {\"index\": \"2020-11-22T00:00:00\", \"variable_0\": \"LwM_SIGSPATIAL2020_ToponymMatching\", \"variable_1\": \"total_views\", \"count\": null}, {\"index\": \"2020-11-24T00:00:00\", \"variable_0\": \"LwM_SIGSPATIAL2020_ToponymMatching\", \"variable_1\": \"total_views\", \"count\": null}, {\"index\": \"2020-11-25T00:00:00\", \"variable_0\": \"LwM_SIGSPATIAL2020_ToponymMatching\", \"variable_1\": \"total_views\", \"count\": 31.0}, {\"index\": \"2020-11-27T00:00:00\", \"variable_0\": \"LwM_SIGSPATIAL2020_ToponymMatching\", \"variable_1\": \"total_views\", \"count\": null}, {\"index\": \"2020-11-28T00:00:00\", \"variable_0\": \"LwM_SIGSPATIAL2020_ToponymMatching\", \"variable_1\": \"total_views\", \"count\": null}, {\"index\": \"2020-11-29T00:00:00\", \"variable_0\": \"LwM_SIGSPATIAL2020_ToponymMatching\", \"variable_1\": \"total_views\", \"count\": null}, {\"index\": \"2020-12-02T00:00:00\", \"variable_0\": \"LwM_SIGSPATIAL2020_ToponymMatching\", \"variable_1\": \"total_views\", \"count\": 1.0}, {\"index\": \"2020-11-12T00:00:00\", \"variable_0\": \"LwM_SIGSPATIAL2020_ToponymMatching\", \"variable_1\": \"total_views\", \"count\": null}, {\"index\": \"2020-11-20T00:00:00\", \"variable_0\": \"LwM_SIGSPATIAL2020_ToponymMatching\", \"variable_1\": \"total_views\", \"count\": 2.0}, {\"index\": \"2020-11-21T00:00:00\", \"variable_0\": \"LwM_SIGSPATIAL2020_ToponymMatching\", \"variable_1\": \"total_views\", \"count\": null}, {\"index\": \"2020-11-19T00:00:00\", \"variable_0\": \"LwM_SIGSPATIAL2020_ToponymMatching\", \"variable_1\": \"unique_views\", \"count\": null}, {\"index\": \"2020-11-23T00:00:00\", \"variable_0\": \"LwM_SIGSPATIAL2020_ToponymMatching\", \"variable_1\": \"unique_views\", \"count\": 2.0}, {\"index\": \"2020-12-01T00:00:00\", \"variable_0\": \"LwM_SIGSPATIAL2020_ToponymMatching\", \"variable_1\": \"unique_views\", \"count\": 2.0}, {\"index\": \"2020-12-03T00:00:00\", \"variable_0\": \"LwM_SIGSPATIAL2020_ToponymMatching\", \"variable_1\": \"unique_views\", \"count\": 1.0}, {\"index\": \"2020-11-13T00:00:00\", \"variable_0\": \"LwM_SIGSPATIAL2020_ToponymMatching\", \"variable_1\": \"unique_views\", \"count\": 1.0}, {\"index\": \"2020-11-14T00:00:00\", \"variable_0\": \"LwM_SIGSPATIAL2020_ToponymMatching\", \"variable_1\": \"unique_views\", \"count\": null}, {\"index\": \"2020-11-16T00:00:00\", \"variable_0\": \"LwM_SIGSPATIAL2020_ToponymMatching\", \"variable_1\": \"unique_views\", \"count\": 1.0}, {\"index\": \"2020-11-17T00:00:00\", \"variable_0\": \"LwM_SIGSPATIAL2020_ToponymMatching\", \"variable_1\": \"unique_views\", \"count\": 1.0}, {\"index\": \"2020-11-26T00:00:00\", \"variable_0\": \"LwM_SIGSPATIAL2020_ToponymMatching\", \"variable_1\": \"unique_views\", \"count\": null}, {\"index\": \"2020-11-30T00:00:00\", \"variable_0\": \"LwM_SIGSPATIAL2020_ToponymMatching\", \"variable_1\": \"unique_views\", \"count\": 1.0}, {\"index\": \"2020-11-15T00:00:00\", \"variable_0\": \"LwM_SIGSPATIAL2020_ToponymMatching\", \"variable_1\": \"unique_views\", \"count\": null}, {\"index\": \"2020-11-18T00:00:00\", \"variable_0\": \"LwM_SIGSPATIAL2020_ToponymMatching\", \"variable_1\": \"unique_views\", \"count\": null}, {\"index\": \"2020-11-22T00:00:00\", \"variable_0\": \"LwM_SIGSPATIAL2020_ToponymMatching\", \"variable_1\": \"unique_views\", \"count\": null}, {\"index\": \"2020-11-24T00:00:00\", \"variable_0\": \"LwM_SIGSPATIAL2020_ToponymMatching\", \"variable_1\": \"unique_views\", \"count\": null}, {\"index\": \"2020-11-25T00:00:00\", \"variable_0\": \"LwM_SIGSPATIAL2020_ToponymMatching\", \"variable_1\": \"unique_views\", \"count\": 2.0}, {\"index\": \"2020-11-27T00:00:00\", \"variable_0\": \"LwM_SIGSPATIAL2020_ToponymMatching\", \"variable_1\": \"unique_views\", \"count\": null}, {\"index\": \"2020-11-28T00:00:00\", \"variable_0\": \"LwM_SIGSPATIAL2020_ToponymMatching\", \"variable_1\": \"unique_views\", \"count\": null}, {\"index\": \"2020-11-29T00:00:00\", \"variable_0\": \"LwM_SIGSPATIAL2020_ToponymMatching\", \"variable_1\": \"unique_views\", \"count\": null}, {\"index\": \"2020-12-02T00:00:00\", \"variable_0\": \"LwM_SIGSPATIAL2020_ToponymMatching\", \"variable_1\": \"unique_views\", \"count\": 1.0}, {\"index\": \"2020-11-12T00:00:00\", \"variable_0\": \"LwM_SIGSPATIAL2020_ToponymMatching\", \"variable_1\": \"unique_views\", \"count\": null}, {\"index\": \"2020-11-20T00:00:00\", \"variable_0\": \"LwM_SIGSPATIAL2020_ToponymMatching\", \"variable_1\": \"unique_views\", \"count\": 1.0}, {\"index\": \"2020-11-21T00:00:00\", \"variable_0\": \"LwM_SIGSPATIAL2020_ToponymMatching\", \"variable_1\": \"unique_views\", \"count\": null}, {\"index\": \"2020-11-19T00:00:00\", \"variable_0\": \"AzureAudit\", \"variable_1\": \"total_views\", \"count\": null}, {\"index\": \"2020-11-23T00:00:00\", \"variable_0\": \"AzureAudit\", \"variable_1\": \"total_views\", \"count\": null}, {\"index\": \"2020-12-01T00:00:00\", \"variable_0\": \"AzureAudit\", \"variable_1\": \"total_views\", \"count\": null}, {\"index\": \"2020-12-03T00:00:00\", \"variable_0\": \"AzureAudit\", \"variable_1\": \"total_views\", \"count\": null}, {\"index\": \"2020-11-13T00:00:00\", \"variable_0\": \"AzureAudit\", \"variable_1\": \"total_views\", \"count\": null}, {\"index\": \"2020-11-14T00:00:00\", \"variable_0\": \"AzureAudit\", \"variable_1\": \"total_views\", \"count\": null}, {\"index\": \"2020-11-16T00:00:00\", \"variable_0\": \"AzureAudit\", \"variable_1\": \"total_views\", \"count\": null}, {\"index\": \"2020-11-17T00:00:00\", \"variable_0\": \"AzureAudit\", \"variable_1\": \"total_views\", \"count\": null}, {\"index\": \"2020-11-26T00:00:00\", \"variable_0\": \"AzureAudit\", \"variable_1\": \"total_views\", \"count\": null}, {\"index\": \"2020-11-30T00:00:00\", \"variable_0\": \"AzureAudit\", \"variable_1\": \"total_views\", \"count\": 1.0}, {\"index\": \"2020-11-15T00:00:00\", \"variable_0\": \"AzureAudit\", \"variable_1\": \"total_views\", \"count\": null}, {\"index\": \"2020-11-18T00:00:00\", \"variable_0\": \"AzureAudit\", \"variable_1\": \"total_views\", \"count\": null}, {\"index\": \"2020-11-22T00:00:00\", \"variable_0\": \"AzureAudit\", \"variable_1\": \"total_views\", \"count\": null}, {\"index\": \"2020-11-24T00:00:00\", \"variable_0\": \"AzureAudit\", \"variable_1\": \"total_views\", \"count\": null}, {\"index\": \"2020-11-25T00:00:00\", \"variable_0\": \"AzureAudit\", \"variable_1\": \"total_views\", \"count\": null}, {\"index\": \"2020-11-27T00:00:00\", \"variable_0\": \"AzureAudit\", \"variable_1\": \"total_views\", \"count\": 3.0}, {\"index\": \"2020-11-28T00:00:00\", \"variable_0\": \"AzureAudit\", \"variable_1\": \"total_views\", \"count\": null}, {\"index\": \"2020-11-29T00:00:00\", \"variable_0\": \"AzureAudit\", \"variable_1\": \"total_views\", \"count\": null}, {\"index\": \"2020-12-02T00:00:00\", \"variable_0\": \"AzureAudit\", \"variable_1\": \"total_views\", \"count\": null}, {\"index\": \"2020-11-12T00:00:00\", \"variable_0\": \"AzureAudit\", \"variable_1\": \"total_views\", \"count\": null}, {\"index\": \"2020-11-20T00:00:00\", \"variable_0\": \"AzureAudit\", \"variable_1\": \"total_views\", \"count\": 6.0}, {\"index\": \"2020-11-21T00:00:00\", \"variable_0\": \"AzureAudit\", \"variable_1\": \"total_views\", \"count\": null}, {\"index\": \"2020-11-19T00:00:00\", \"variable_0\": \"AzureAudit\", \"variable_1\": \"unique_views\", \"count\": null}, {\"index\": \"2020-11-23T00:00:00\", \"variable_0\": \"AzureAudit\", \"variable_1\": \"unique_views\", \"count\": null}, {\"index\": \"2020-12-01T00:00:00\", \"variable_0\": \"AzureAudit\", \"variable_1\": \"unique_views\", \"count\": null}, {\"index\": \"2020-12-03T00:00:00\", \"variable_0\": \"AzureAudit\", \"variable_1\": \"unique_views\", \"count\": null}, {\"index\": \"2020-11-13T00:00:00\", \"variable_0\": \"AzureAudit\", \"variable_1\": \"unique_views\", \"count\": null}, {\"index\": \"2020-11-14T00:00:00\", \"variable_0\": \"AzureAudit\", \"variable_1\": \"unique_views\", \"count\": null}, {\"index\": \"2020-11-16T00:00:00\", \"variable_0\": \"AzureAudit\", \"variable_1\": \"unique_views\", \"count\": null}, {\"index\": \"2020-11-17T00:00:00\", \"variable_0\": \"AzureAudit\", \"variable_1\": \"unique_views\", \"count\": null}, {\"index\": \"2020-11-26T00:00:00\", \"variable_0\": \"AzureAudit\", \"variable_1\": \"unique_views\", \"count\": null}, {\"index\": \"2020-11-30T00:00:00\", \"variable_0\": \"AzureAudit\", \"variable_1\": \"unique_views\", \"count\": 1.0}, {\"index\": \"2020-11-15T00:00:00\", \"variable_0\": \"AzureAudit\", \"variable_1\": \"unique_views\", \"count\": null}, {\"index\": \"2020-11-18T00:00:00\", \"variable_0\": \"AzureAudit\", \"variable_1\": \"unique_views\", \"count\": null}, {\"index\": \"2020-11-22T00:00:00\", \"variable_0\": \"AzureAudit\", \"variable_1\": \"unique_views\", \"count\": null}, {\"index\": \"2020-11-24T00:00:00\", \"variable_0\": \"AzureAudit\", \"variable_1\": \"unique_views\", \"count\": null}, {\"index\": \"2020-11-25T00:00:00\", \"variable_0\": \"AzureAudit\", \"variable_1\": \"unique_views\", \"count\": null}, {\"index\": \"2020-11-27T00:00:00\", \"variable_0\": \"AzureAudit\", \"variable_1\": \"unique_views\", \"count\": 1.0}, {\"index\": \"2020-11-28T00:00:00\", \"variable_0\": \"AzureAudit\", \"variable_1\": \"unique_views\", \"count\": null}, {\"index\": \"2020-11-29T00:00:00\", \"variable_0\": \"AzureAudit\", \"variable_1\": \"unique_views\", \"count\": null}, {\"index\": \"2020-12-02T00:00:00\", \"variable_0\": \"AzureAudit\", \"variable_1\": \"unique_views\", \"count\": null}, {\"index\": \"2020-11-12T00:00:00\", \"variable_0\": \"AzureAudit\", \"variable_1\": \"unique_views\", \"count\": null}, {\"index\": \"2020-11-20T00:00:00\", \"variable_0\": \"AzureAudit\", \"variable_1\": \"unique_views\", \"count\": 1.0}, {\"index\": \"2020-11-21T00:00:00\", \"variable_0\": \"AzureAudit\", \"variable_1\": \"unique_views\", \"count\": null}, {\"index\": \"2020-11-19T00:00:00\", \"variable_0\": \"maps-at-scale-hack-day-notebooks\", \"variable_1\": \"total_views\", \"count\": 3.0}, {\"index\": \"2020-11-23T00:00:00\", \"variable_0\": \"maps-at-scale-hack-day-notebooks\", \"variable_1\": \"total_views\", \"count\": null}, {\"index\": \"2020-12-01T00:00:00\", \"variable_0\": \"maps-at-scale-hack-day-notebooks\", \"variable_1\": \"total_views\", \"count\": null}, {\"index\": \"2020-12-03T00:00:00\", \"variable_0\": \"maps-at-scale-hack-day-notebooks\", \"variable_1\": \"total_views\", \"count\": null}, {\"index\": \"2020-11-13T00:00:00\", \"variable_0\": \"maps-at-scale-hack-day-notebooks\", \"variable_1\": \"total_views\", \"count\": null}, {\"index\": \"2020-11-14T00:00:00\", \"variable_0\": \"maps-at-scale-hack-day-notebooks\", \"variable_1\": \"total_views\", \"count\": null}, {\"index\": \"2020-11-16T00:00:00\", \"variable_0\": \"maps-at-scale-hack-day-notebooks\", \"variable_1\": \"total_views\", \"count\": null}, {\"index\": \"2020-11-17T00:00:00\", \"variable_0\": \"maps-at-scale-hack-day-notebooks\", \"variable_1\": \"total_views\", \"count\": null}, {\"index\": \"2020-11-26T00:00:00\", \"variable_0\": \"maps-at-scale-hack-day-notebooks\", \"variable_1\": \"total_views\", \"count\": null}, {\"index\": \"2020-11-30T00:00:00\", \"variable_0\": \"maps-at-scale-hack-day-notebooks\", \"variable_1\": \"total_views\", \"count\": null}, {\"index\": \"2020-11-15T00:00:00\", \"variable_0\": \"maps-at-scale-hack-day-notebooks\", \"variable_1\": \"total_views\", \"count\": null}, {\"index\": \"2020-11-18T00:00:00\", \"variable_0\": \"maps-at-scale-hack-day-notebooks\", \"variable_1\": \"total_views\", \"count\": null}, {\"index\": \"2020-11-22T00:00:00\", \"variable_0\": \"maps-at-scale-hack-day-notebooks\", \"variable_1\": \"total_views\", \"count\": null}, {\"index\": \"2020-11-24T00:00:00\", \"variable_0\": \"maps-at-scale-hack-day-notebooks\", \"variable_1\": \"total_views\", \"count\": null}, {\"index\": \"2020-11-25T00:00:00\", \"variable_0\": \"maps-at-scale-hack-day-notebooks\", \"variable_1\": \"total_views\", \"count\": null}, {\"index\": \"2020-11-27T00:00:00\", \"variable_0\": \"maps-at-scale-hack-day-notebooks\", \"variable_1\": \"total_views\", \"count\": null}, {\"index\": \"2020-11-28T00:00:00\", \"variable_0\": \"maps-at-scale-hack-day-notebooks\", \"variable_1\": \"total_views\", \"count\": null}, {\"index\": \"2020-11-29T00:00:00\", \"variable_0\": \"maps-at-scale-hack-day-notebooks\", \"variable_1\": \"total_views\", \"count\": null}, {\"index\": \"2020-12-02T00:00:00\", \"variable_0\": \"maps-at-scale-hack-day-notebooks\", \"variable_1\": \"total_views\", \"count\": null}, {\"index\": \"2020-11-12T00:00:00\", \"variable_0\": \"maps-at-scale-hack-day-notebooks\", \"variable_1\": \"total_views\", \"count\": null}, {\"index\": \"2020-11-20T00:00:00\", \"variable_0\": \"maps-at-scale-hack-day-notebooks\", \"variable_1\": \"total_views\", \"count\": null}, {\"index\": \"2020-11-21T00:00:00\", \"variable_0\": \"maps-at-scale-hack-day-notebooks\", \"variable_1\": \"total_views\", \"count\": null}, {\"index\": \"2020-11-19T00:00:00\", \"variable_0\": \"maps-at-scale-hack-day-notebooks\", \"variable_1\": \"unique_views\", \"count\": 1.0}, {\"index\": \"2020-11-23T00:00:00\", \"variable_0\": \"maps-at-scale-hack-day-notebooks\", \"variable_1\": \"unique_views\", \"count\": null}, {\"index\": \"2020-12-01T00:00:00\", \"variable_0\": \"maps-at-scale-hack-day-notebooks\", \"variable_1\": \"unique_views\", \"count\": null}, {\"index\": \"2020-12-03T00:00:00\", \"variable_0\": \"maps-at-scale-hack-day-notebooks\", \"variable_1\": \"unique_views\", \"count\": null}, {\"index\": \"2020-11-13T00:00:00\", \"variable_0\": \"maps-at-scale-hack-day-notebooks\", \"variable_1\": \"unique_views\", \"count\": null}, {\"index\": \"2020-11-14T00:00:00\", \"variable_0\": \"maps-at-scale-hack-day-notebooks\", \"variable_1\": \"unique_views\", \"count\": null}, {\"index\": \"2020-11-16T00:00:00\", \"variable_0\": \"maps-at-scale-hack-day-notebooks\", \"variable_1\": \"unique_views\", \"count\": null}, {\"index\": \"2020-11-17T00:00:00\", \"variable_0\": \"maps-at-scale-hack-day-notebooks\", \"variable_1\": \"unique_views\", \"count\": null}, {\"index\": \"2020-11-26T00:00:00\", \"variable_0\": \"maps-at-scale-hack-day-notebooks\", \"variable_1\": \"unique_views\", \"count\": null}, {\"index\": \"2020-11-30T00:00:00\", \"variable_0\": \"maps-at-scale-hack-day-notebooks\", \"variable_1\": \"unique_views\", \"count\": null}, {\"index\": \"2020-11-15T00:00:00\", \"variable_0\": \"maps-at-scale-hack-day-notebooks\", \"variable_1\": \"unique_views\", \"count\": null}, {\"index\": \"2020-11-18T00:00:00\", \"variable_0\": \"maps-at-scale-hack-day-notebooks\", \"variable_1\": \"unique_views\", \"count\": null}, {\"index\": \"2020-11-22T00:00:00\", \"variable_0\": \"maps-at-scale-hack-day-notebooks\", \"variable_1\": \"unique_views\", \"count\": null}, {\"index\": \"2020-11-24T00:00:00\", \"variable_0\": \"maps-at-scale-hack-day-notebooks\", \"variable_1\": \"unique_views\", \"count\": null}, {\"index\": \"2020-11-25T00:00:00\", \"variable_0\": \"maps-at-scale-hack-day-notebooks\", \"variable_1\": \"unique_views\", \"count\": null}, {\"index\": \"2020-11-27T00:00:00\", \"variable_0\": \"maps-at-scale-hack-day-notebooks\", \"variable_1\": \"unique_views\", \"count\": null}, {\"index\": \"2020-11-28T00:00:00\", \"variable_0\": \"maps-at-scale-hack-day-notebooks\", \"variable_1\": \"unique_views\", \"count\": null}, {\"index\": \"2020-11-29T00:00:00\", \"variable_0\": \"maps-at-scale-hack-day-notebooks\", \"variable_1\": \"unique_views\", \"count\": null}, {\"index\": \"2020-12-02T00:00:00\", \"variable_0\": \"maps-at-scale-hack-day-notebooks\", \"variable_1\": \"unique_views\", \"count\": null}, {\"index\": \"2020-11-12T00:00:00\", \"variable_0\": \"maps-at-scale-hack-day-notebooks\", \"variable_1\": \"unique_views\", \"count\": null}, {\"index\": \"2020-11-20T00:00:00\", \"variable_0\": \"maps-at-scale-hack-day-notebooks\", \"variable_1\": \"unique_views\", \"count\": null}, {\"index\": \"2020-11-21T00:00:00\", \"variable_0\": \"maps-at-scale-hack-day-notebooks\", \"variable_1\": \"unique_views\", \"count\": null}, {\"index\": \"2020-11-19T00:00:00\", \"variable_0\": \"deduplify\", \"variable_1\": \"total_views\", \"count\": null}, {\"index\": \"2020-11-23T00:00:00\", \"variable_0\": \"deduplify\", \"variable_1\": \"total_views\", \"count\": null}, {\"index\": \"2020-12-01T00:00:00\", \"variable_0\": \"deduplify\", \"variable_1\": \"total_views\", \"count\": null}, {\"index\": \"2020-12-03T00:00:00\", \"variable_0\": \"deduplify\", \"variable_1\": \"total_views\", \"count\": null}, {\"index\": \"2020-11-13T00:00:00\", \"variable_0\": \"deduplify\", \"variable_1\": \"total_views\", \"count\": null}, {\"index\": \"2020-11-14T00:00:00\", \"variable_0\": \"deduplify\", \"variable_1\": \"total_views\", \"count\": null}, {\"index\": \"2020-11-16T00:00:00\", \"variable_0\": \"deduplify\", \"variable_1\": \"total_views\", \"count\": null}, {\"index\": \"2020-11-17T00:00:00\", \"variable_0\": \"deduplify\", \"variable_1\": \"total_views\", \"count\": null}, {\"index\": \"2020-11-26T00:00:00\", \"variable_0\": \"deduplify\", \"variable_1\": \"total_views\", \"count\": null}, {\"index\": \"2020-11-30T00:00:00\", \"variable_0\": \"deduplify\", \"variable_1\": \"total_views\", \"count\": null}, {\"index\": \"2020-11-15T00:00:00\", \"variable_0\": \"deduplify\", \"variable_1\": \"total_views\", \"count\": null}, {\"index\": \"2020-11-18T00:00:00\", \"variable_0\": \"deduplify\", \"variable_1\": \"total_views\", \"count\": 1.0}, {\"index\": \"2020-11-22T00:00:00\", \"variable_0\": \"deduplify\", \"variable_1\": \"total_views\", \"count\": null}, {\"index\": \"2020-11-24T00:00:00\", \"variable_0\": \"deduplify\", \"variable_1\": \"total_views\", \"count\": null}, {\"index\": \"2020-11-25T00:00:00\", \"variable_0\": \"deduplify\", \"variable_1\": \"total_views\", \"count\": 1.0}, {\"index\": \"2020-11-27T00:00:00\", \"variable_0\": \"deduplify\", \"variable_1\": \"total_views\", \"count\": null}, {\"index\": \"2020-11-28T00:00:00\", \"variable_0\": \"deduplify\", \"variable_1\": \"total_views\", \"count\": null}, {\"index\": \"2020-11-29T00:00:00\", \"variable_0\": \"deduplify\", \"variable_1\": \"total_views\", \"count\": null}, {\"index\": \"2020-12-02T00:00:00\", \"variable_0\": \"deduplify\", \"variable_1\": \"total_views\", \"count\": 1.0}, {\"index\": \"2020-11-12T00:00:00\", \"variable_0\": \"deduplify\", \"variable_1\": \"total_views\", \"count\": null}, {\"index\": \"2020-11-20T00:00:00\", \"variable_0\": \"deduplify\", \"variable_1\": \"total_views\", \"count\": null}, {\"index\": \"2020-11-21T00:00:00\", \"variable_0\": \"deduplify\", \"variable_1\": \"total_views\", \"count\": null}, {\"index\": \"2020-11-19T00:00:00\", \"variable_0\": \"deduplify\", \"variable_1\": \"unique_views\", \"count\": null}, {\"index\": \"2020-11-23T00:00:00\", \"variable_0\": \"deduplify\", \"variable_1\": \"unique_views\", \"count\": null}, {\"index\": \"2020-12-01T00:00:00\", \"variable_0\": \"deduplify\", \"variable_1\": \"unique_views\", \"count\": null}, {\"index\": \"2020-12-03T00:00:00\", \"variable_0\": \"deduplify\", \"variable_1\": \"unique_views\", \"count\": null}, {\"index\": \"2020-11-13T00:00:00\", \"variable_0\": \"deduplify\", \"variable_1\": \"unique_views\", \"count\": null}, {\"index\": \"2020-11-14T00:00:00\", \"variable_0\": \"deduplify\", \"variable_1\": \"unique_views\", \"count\": null}, {\"index\": \"2020-11-16T00:00:00\", \"variable_0\": \"deduplify\", \"variable_1\": \"unique_views\", \"count\": null}, {\"index\": \"2020-11-17T00:00:00\", \"variable_0\": \"deduplify\", \"variable_1\": \"unique_views\", \"count\": null}, {\"index\": \"2020-11-26T00:00:00\", \"variable_0\": \"deduplify\", \"variable_1\": \"unique_views\", \"count\": null}, {\"index\": \"2020-11-30T00:00:00\", \"variable_0\": \"deduplify\", \"variable_1\": \"unique_views\", \"count\": null}, {\"index\": \"2020-11-15T00:00:00\", \"variable_0\": \"deduplify\", \"variable_1\": \"unique_views\", \"count\": null}, {\"index\": \"2020-11-18T00:00:00\", \"variable_0\": \"deduplify\", \"variable_1\": \"unique_views\", \"count\": 1.0}, {\"index\": \"2020-11-22T00:00:00\", \"variable_0\": \"deduplify\", \"variable_1\": \"unique_views\", \"count\": null}, {\"index\": \"2020-11-24T00:00:00\", \"variable_0\": \"deduplify\", \"variable_1\": \"unique_views\", \"count\": null}, {\"index\": \"2020-11-25T00:00:00\", \"variable_0\": \"deduplify\", \"variable_1\": \"unique_views\", \"count\": 1.0}, {\"index\": \"2020-11-27T00:00:00\", \"variable_0\": \"deduplify\", \"variable_1\": \"unique_views\", \"count\": null}, {\"index\": \"2020-11-28T00:00:00\", \"variable_0\": \"deduplify\", \"variable_1\": \"unique_views\", \"count\": null}, {\"index\": \"2020-11-29T00:00:00\", \"variable_0\": \"deduplify\", \"variable_1\": \"unique_views\", \"count\": null}, {\"index\": \"2020-12-02T00:00:00\", \"variable_0\": \"deduplify\", \"variable_1\": \"unique_views\", \"count\": 1.0}, {\"index\": \"2020-11-12T00:00:00\", \"variable_0\": \"deduplify\", \"variable_1\": \"unique_views\", \"count\": null}, {\"index\": \"2020-11-20T00:00:00\", \"variable_0\": \"deduplify\", \"variable_1\": \"unique_views\", \"count\": null}, {\"index\": \"2020-11-21T00:00:00\", \"variable_0\": \"deduplify\", \"variable_1\": \"unique_views\", \"count\": null}, {\"index\": \"2020-11-19T00:00:00\", \"variable_0\": \"AtypicalAnimacy\", \"variable_1\": \"total_views\", \"count\": 4.0}, {\"index\": \"2020-11-23T00:00:00\", \"variable_0\": \"AtypicalAnimacy\", \"variable_1\": \"total_views\", \"count\": 1.0}, {\"index\": \"2020-12-01T00:00:00\", \"variable_0\": \"AtypicalAnimacy\", \"variable_1\": \"total_views\", \"count\": 7.0}, {\"index\": \"2020-12-03T00:00:00\", \"variable_0\": \"AtypicalAnimacy\", \"variable_1\": \"total_views\", \"count\": 3.0}, {\"index\": \"2020-11-13T00:00:00\", \"variable_0\": \"AtypicalAnimacy\", \"variable_1\": \"total_views\", \"count\": null}, {\"index\": \"2020-11-14T00:00:00\", \"variable_0\": \"AtypicalAnimacy\", \"variable_1\": \"total_views\", \"count\": null}, {\"index\": \"2020-11-16T00:00:00\", \"variable_0\": \"AtypicalAnimacy\", \"variable_1\": \"total_views\", \"count\": null}, {\"index\": \"2020-11-17T00:00:00\", \"variable_0\": \"AtypicalAnimacy\", \"variable_1\": \"total_views\", \"count\": 3.0}, {\"index\": \"2020-11-26T00:00:00\", \"variable_0\": \"AtypicalAnimacy\", \"variable_1\": \"total_views\", \"count\": 1.0}, {\"index\": \"2020-11-30T00:00:00\", \"variable_0\": \"AtypicalAnimacy\", \"variable_1\": \"total_views\", \"count\": null}, {\"index\": \"2020-11-15T00:00:00\", \"variable_0\": \"AtypicalAnimacy\", \"variable_1\": \"total_views\", \"count\": null}, {\"index\": \"2020-11-18T00:00:00\", \"variable_0\": \"AtypicalAnimacy\", \"variable_1\": \"total_views\", \"count\": 3.0}, {\"index\": \"2020-11-22T00:00:00\", \"variable_0\": \"AtypicalAnimacy\", \"variable_1\": \"total_views\", \"count\": null}, {\"index\": \"2020-11-24T00:00:00\", \"variable_0\": \"AtypicalAnimacy\", \"variable_1\": \"total_views\", \"count\": null}, {\"index\": \"2020-11-25T00:00:00\", \"variable_0\": \"AtypicalAnimacy\", \"variable_1\": \"total_views\", \"count\": null}, {\"index\": \"2020-11-27T00:00:00\", \"variable_0\": \"AtypicalAnimacy\", \"variable_1\": \"total_views\", \"count\": null}, {\"index\": \"2020-11-28T00:00:00\", \"variable_0\": \"AtypicalAnimacy\", \"variable_1\": \"total_views\", \"count\": null}, {\"index\": \"2020-11-29T00:00:00\", \"variable_0\": \"AtypicalAnimacy\", \"variable_1\": \"total_views\", \"count\": null}, {\"index\": \"2020-12-02T00:00:00\", \"variable_0\": \"AtypicalAnimacy\", \"variable_1\": \"total_views\", \"count\": 1.0}, {\"index\": \"2020-11-12T00:00:00\", \"variable_0\": \"AtypicalAnimacy\", \"variable_1\": \"total_views\", \"count\": null}, {\"index\": \"2020-11-20T00:00:00\", \"variable_0\": \"AtypicalAnimacy\", \"variable_1\": \"total_views\", \"count\": null}, {\"index\": \"2020-11-21T00:00:00\", \"variable_0\": \"AtypicalAnimacy\", \"variable_1\": \"total_views\", \"count\": null}, {\"index\": \"2020-11-19T00:00:00\", \"variable_0\": \"AtypicalAnimacy\", \"variable_1\": \"unique_views\", \"count\": 1.0}, {\"index\": \"2020-11-23T00:00:00\", \"variable_0\": \"AtypicalAnimacy\", \"variable_1\": \"unique_views\", \"count\": 1.0}, {\"index\": \"2020-12-01T00:00:00\", \"variable_0\": \"AtypicalAnimacy\", \"variable_1\": \"unique_views\", \"count\": 2.0}, {\"index\": \"2020-12-03T00:00:00\", \"variable_0\": \"AtypicalAnimacy\", \"variable_1\": \"unique_views\", \"count\": 1.0}, {\"index\": \"2020-11-13T00:00:00\", \"variable_0\": \"AtypicalAnimacy\", \"variable_1\": \"unique_views\", \"count\": null}, {\"index\": \"2020-11-14T00:00:00\", \"variable_0\": \"AtypicalAnimacy\", \"variable_1\": \"unique_views\", \"count\": null}, {\"index\": \"2020-11-16T00:00:00\", \"variable_0\": \"AtypicalAnimacy\", \"variable_1\": \"unique_views\", \"count\": null}, {\"index\": \"2020-11-17T00:00:00\", \"variable_0\": \"AtypicalAnimacy\", \"variable_1\": \"unique_views\", \"count\": 1.0}, {\"index\": \"2020-11-26T00:00:00\", \"variable_0\": \"AtypicalAnimacy\", \"variable_1\": \"unique_views\", \"count\": 1.0}, {\"index\": \"2020-11-30T00:00:00\", \"variable_0\": \"AtypicalAnimacy\", \"variable_1\": \"unique_views\", \"count\": null}, {\"index\": \"2020-11-15T00:00:00\", \"variable_0\": \"AtypicalAnimacy\", \"variable_1\": \"unique_views\", \"count\": null}, {\"index\": \"2020-11-18T00:00:00\", \"variable_0\": \"AtypicalAnimacy\", \"variable_1\": \"unique_views\", \"count\": 1.0}, {\"index\": \"2020-11-22T00:00:00\", \"variable_0\": \"AtypicalAnimacy\", \"variable_1\": \"unique_views\", \"count\": null}, {\"index\": \"2020-11-24T00:00:00\", \"variable_0\": \"AtypicalAnimacy\", \"variable_1\": \"unique_views\", \"count\": null}, {\"index\": \"2020-11-25T00:00:00\", \"variable_0\": \"AtypicalAnimacy\", \"variable_1\": \"unique_views\", \"count\": null}, {\"index\": \"2020-11-27T00:00:00\", \"variable_0\": \"AtypicalAnimacy\", \"variable_1\": \"unique_views\", \"count\": null}, {\"index\": \"2020-11-28T00:00:00\", \"variable_0\": \"AtypicalAnimacy\", \"variable_1\": \"unique_views\", \"count\": null}, {\"index\": \"2020-11-29T00:00:00\", \"variable_0\": \"AtypicalAnimacy\", \"variable_1\": \"unique_views\", \"count\": null}, {\"index\": \"2020-12-02T00:00:00\", \"variable_0\": \"AtypicalAnimacy\", \"variable_1\": \"unique_views\", \"count\": 1.0}, {\"index\": \"2020-11-12T00:00:00\", \"variable_0\": \"AtypicalAnimacy\", \"variable_1\": \"unique_views\", \"count\": null}, {\"index\": \"2020-11-20T00:00:00\", \"variable_0\": \"AtypicalAnimacy\", \"variable_1\": \"unique_views\", \"count\": null}, {\"index\": \"2020-11-21T00:00:00\", \"variable_0\": \"AtypicalAnimacy\", \"variable_1\": \"unique_views\", \"count\": null}, {\"index\": \"2020-11-19T00:00:00\", \"variable_0\": \"computer-vision-DHNordic-2020-workshop\", \"variable_1\": \"total_views\", \"count\": null}, {\"index\": \"2020-11-23T00:00:00\", \"variable_0\": \"computer-vision-DHNordic-2020-workshop\", \"variable_1\": \"total_views\", \"count\": null}, {\"index\": \"2020-12-01T00:00:00\", \"variable_0\": \"computer-vision-DHNordic-2020-workshop\", \"variable_1\": \"total_views\", \"count\": null}, {\"index\": \"2020-12-03T00:00:00\", \"variable_0\": \"computer-vision-DHNordic-2020-workshop\", \"variable_1\": \"total_views\", \"count\": 5.0}, {\"index\": \"2020-11-13T00:00:00\", \"variable_0\": \"computer-vision-DHNordic-2020-workshop\", \"variable_1\": \"total_views\", \"count\": null}, {\"index\": \"2020-11-14T00:00:00\", \"variable_0\": \"computer-vision-DHNordic-2020-workshop\", \"variable_1\": \"total_views\", \"count\": null}, {\"index\": \"2020-11-16T00:00:00\", \"variable_0\": \"computer-vision-DHNordic-2020-workshop\", \"variable_1\": \"total_views\", \"count\": null}, {\"index\": \"2020-11-17T00:00:00\", \"variable_0\": \"computer-vision-DHNordic-2020-workshop\", \"variable_1\": \"total_views\", \"count\": 2.0}, {\"index\": \"2020-11-26T00:00:00\", \"variable_0\": \"computer-vision-DHNordic-2020-workshop\", \"variable_1\": \"total_views\", \"count\": null}, {\"index\": \"2020-11-30T00:00:00\", \"variable_0\": \"computer-vision-DHNordic-2020-workshop\", \"variable_1\": \"total_views\", \"count\": null}, {\"index\": \"2020-11-15T00:00:00\", \"variable_0\": \"computer-vision-DHNordic-2020-workshop\", \"variable_1\": \"total_views\", \"count\": null}, {\"index\": \"2020-11-18T00:00:00\", \"variable_0\": \"computer-vision-DHNordic-2020-workshop\", \"variable_1\": \"total_views\", \"count\": null}, {\"index\": \"2020-11-22T00:00:00\", \"variable_0\": \"computer-vision-DHNordic-2020-workshop\", \"variable_1\": \"total_views\", \"count\": null}, {\"index\": \"2020-11-24T00:00:00\", \"variable_0\": \"computer-vision-DHNordic-2020-workshop\", \"variable_1\": \"total_views\", \"count\": null}, {\"index\": \"2020-11-25T00:00:00\", \"variable_0\": \"computer-vision-DHNordic-2020-workshop\", \"variable_1\": \"total_views\", \"count\": 1.0}, {\"index\": \"2020-11-27T00:00:00\", \"variable_0\": \"computer-vision-DHNordic-2020-workshop\", \"variable_1\": \"total_views\", \"count\": null}, {\"index\": \"2020-11-28T00:00:00\", \"variable_0\": \"computer-vision-DHNordic-2020-workshop\", \"variable_1\": \"total_views\", \"count\": null}, {\"index\": \"2020-11-29T00:00:00\", \"variable_0\": \"computer-vision-DHNordic-2020-workshop\", \"variable_1\": \"total_views\", \"count\": null}, {\"index\": \"2020-12-02T00:00:00\", \"variable_0\": \"computer-vision-DHNordic-2020-workshop\", \"variable_1\": \"total_views\", \"count\": null}, {\"index\": \"2020-11-12T00:00:00\", \"variable_0\": \"computer-vision-DHNordic-2020-workshop\", \"variable_1\": \"total_views\", \"count\": null}, {\"index\": \"2020-11-20T00:00:00\", \"variable_0\": \"computer-vision-DHNordic-2020-workshop\", \"variable_1\": \"total_views\", \"count\": null}, {\"index\": \"2020-11-21T00:00:00\", \"variable_0\": \"computer-vision-DHNordic-2020-workshop\", \"variable_1\": \"total_views\", \"count\": null}, {\"index\": \"2020-11-19T00:00:00\", \"variable_0\": \"computer-vision-DHNordic-2020-workshop\", \"variable_1\": \"unique_views\", \"count\": null}, {\"index\": \"2020-11-23T00:00:00\", \"variable_0\": \"computer-vision-DHNordic-2020-workshop\", \"variable_1\": \"unique_views\", \"count\": null}, {\"index\": \"2020-12-01T00:00:00\", \"variable_0\": \"computer-vision-DHNordic-2020-workshop\", \"variable_1\": \"unique_views\", \"count\": null}, {\"index\": \"2020-12-03T00:00:00\", \"variable_0\": \"computer-vision-DHNordic-2020-workshop\", \"variable_1\": \"unique_views\", \"count\": 1.0}, {\"index\": \"2020-11-13T00:00:00\", \"variable_0\": \"computer-vision-DHNordic-2020-workshop\", \"variable_1\": \"unique_views\", \"count\": null}, {\"index\": \"2020-11-14T00:00:00\", \"variable_0\": \"computer-vision-DHNordic-2020-workshop\", \"variable_1\": \"unique_views\", \"count\": null}, {\"index\": \"2020-11-16T00:00:00\", \"variable_0\": \"computer-vision-DHNordic-2020-workshop\", \"variable_1\": \"unique_views\", \"count\": null}, {\"index\": \"2020-11-17T00:00:00\", \"variable_0\": \"computer-vision-DHNordic-2020-workshop\", \"variable_1\": \"unique_views\", \"count\": 1.0}, {\"index\": \"2020-11-26T00:00:00\", \"variable_0\": \"computer-vision-DHNordic-2020-workshop\", \"variable_1\": \"unique_views\", \"count\": null}, {\"index\": \"2020-11-30T00:00:00\", \"variable_0\": \"computer-vision-DHNordic-2020-workshop\", \"variable_1\": \"unique_views\", \"count\": null}, {\"index\": \"2020-11-15T00:00:00\", \"variable_0\": \"computer-vision-DHNordic-2020-workshop\", \"variable_1\": \"unique_views\", \"count\": null}, {\"index\": \"2020-11-18T00:00:00\", \"variable_0\": \"computer-vision-DHNordic-2020-workshop\", \"variable_1\": \"unique_views\", \"count\": null}, {\"index\": \"2020-11-22T00:00:00\", \"variable_0\": \"computer-vision-DHNordic-2020-workshop\", \"variable_1\": \"unique_views\", \"count\": null}, {\"index\": \"2020-11-24T00:00:00\", \"variable_0\": \"computer-vision-DHNordic-2020-workshop\", \"variable_1\": \"unique_views\", \"count\": null}, {\"index\": \"2020-11-25T00:00:00\", \"variable_0\": \"computer-vision-DHNordic-2020-workshop\", \"variable_1\": \"unique_views\", \"count\": 1.0}, {\"index\": \"2020-11-27T00:00:00\", \"variable_0\": \"computer-vision-DHNordic-2020-workshop\", \"variable_1\": \"unique_views\", \"count\": null}, {\"index\": \"2020-11-28T00:00:00\", \"variable_0\": \"computer-vision-DHNordic-2020-workshop\", \"variable_1\": \"unique_views\", \"count\": null}, {\"index\": \"2020-11-29T00:00:00\", \"variable_0\": \"computer-vision-DHNordic-2020-workshop\", \"variable_1\": \"unique_views\", \"count\": null}, {\"index\": \"2020-12-02T00:00:00\", \"variable_0\": \"computer-vision-DHNordic-2020-workshop\", \"variable_1\": \"unique_views\", \"count\": null}, {\"index\": \"2020-11-12T00:00:00\", \"variable_0\": \"computer-vision-DHNordic-2020-workshop\", \"variable_1\": \"unique_views\", \"count\": null}, {\"index\": \"2020-11-20T00:00:00\", \"variable_0\": \"computer-vision-DHNordic-2020-workshop\", \"variable_1\": \"unique_views\", \"count\": null}, {\"index\": \"2020-11-21T00:00:00\", \"variable_0\": \"computer-vision-DHNordic-2020-workshop\", \"variable_1\": \"unique_views\", \"count\": null}, {\"index\": \"2020-11-19T00:00:00\", \"variable_0\": \"maps-at-scale-using-computer-vision-and-jupyter-notebooks\", \"variable_1\": \"total_views\", \"count\": null}, {\"index\": \"2020-11-23T00:00:00\", \"variable_0\": \"maps-at-scale-using-computer-vision-and-jupyter-notebooks\", \"variable_1\": \"total_views\", \"count\": 2.0}, {\"index\": \"2020-12-01T00:00:00\", \"variable_0\": \"maps-at-scale-using-computer-vision-and-jupyter-notebooks\", \"variable_1\": \"total_views\", \"count\": 12.0}, {\"index\": \"2020-12-03T00:00:00\", \"variable_0\": \"maps-at-scale-using-computer-vision-and-jupyter-notebooks\", \"variable_1\": \"total_views\", \"count\": null}, {\"index\": \"2020-11-13T00:00:00\", \"variable_0\": \"maps-at-scale-using-computer-vision-and-jupyter-notebooks\", \"variable_1\": \"total_views\", \"count\": 4.0}, {\"index\": \"2020-11-14T00:00:00\", \"variable_0\": \"maps-at-scale-using-computer-vision-and-jupyter-notebooks\", \"variable_1\": \"total_views\", \"count\": null}, {\"index\": \"2020-11-16T00:00:00\", \"variable_0\": \"maps-at-scale-using-computer-vision-and-jupyter-notebooks\", \"variable_1\": \"total_views\", \"count\": 41.0}, {\"index\": \"2020-11-17T00:00:00\", \"variable_0\": \"maps-at-scale-using-computer-vision-and-jupyter-notebooks\", \"variable_1\": \"total_views\", \"count\": 3.0}, {\"index\": \"2020-11-26T00:00:00\", \"variable_0\": \"maps-at-scale-using-computer-vision-and-jupyter-notebooks\", \"variable_1\": \"total_views\", \"count\": null}, {\"index\": \"2020-11-30T00:00:00\", \"variable_0\": \"maps-at-scale-using-computer-vision-and-jupyter-notebooks\", \"variable_1\": \"total_views\", \"count\": 5.0}, {\"index\": \"2020-11-15T00:00:00\", \"variable_0\": \"maps-at-scale-using-computer-vision-and-jupyter-notebooks\", \"variable_1\": \"total_views\", \"count\": 8.0}, {\"index\": \"2020-11-18T00:00:00\", \"variable_0\": \"maps-at-scale-using-computer-vision-and-jupyter-notebooks\", \"variable_1\": \"total_views\", \"count\": null}, {\"index\": \"2020-11-22T00:00:00\", \"variable_0\": \"maps-at-scale-using-computer-vision-and-jupyter-notebooks\", \"variable_1\": \"total_views\", \"count\": 1.0}, {\"index\": \"2020-11-24T00:00:00\", \"variable_0\": \"maps-at-scale-using-computer-vision-and-jupyter-notebooks\", \"variable_1\": \"total_views\", \"count\": 1.0}, {\"index\": \"2020-11-25T00:00:00\", \"variable_0\": \"maps-at-scale-using-computer-vision-and-jupyter-notebooks\", \"variable_1\": \"total_views\", \"count\": 14.0}, {\"index\": \"2020-11-27T00:00:00\", \"variable_0\": \"maps-at-scale-using-computer-vision-and-jupyter-notebooks\", \"variable_1\": \"total_views\", \"count\": null}, {\"index\": \"2020-11-28T00:00:00\", \"variable_0\": \"maps-at-scale-using-computer-vision-and-jupyter-notebooks\", \"variable_1\": \"total_views\", \"count\": 2.0}, {\"index\": \"2020-11-29T00:00:00\", \"variable_0\": \"maps-at-scale-using-computer-vision-and-jupyter-notebooks\", \"variable_1\": \"total_views\", \"count\": null}, {\"index\": \"2020-12-02T00:00:00\", \"variable_0\": \"maps-at-scale-using-computer-vision-and-jupyter-notebooks\", \"variable_1\": \"total_views\", \"count\": null}, {\"index\": \"2020-11-12T00:00:00\", \"variable_0\": \"maps-at-scale-using-computer-vision-and-jupyter-notebooks\", \"variable_1\": \"total_views\", \"count\": 36.0}, {\"index\": \"2020-11-20T00:00:00\", \"variable_0\": \"maps-at-scale-using-computer-vision-and-jupyter-notebooks\", \"variable_1\": \"total_views\", \"count\": 1.0}, {\"index\": \"2020-11-21T00:00:00\", \"variable_0\": \"maps-at-scale-using-computer-vision-and-jupyter-notebooks\", \"variable_1\": \"total_views\", \"count\": 3.0}, {\"index\": \"2020-11-19T00:00:00\", \"variable_0\": \"maps-at-scale-using-computer-vision-and-jupyter-notebooks\", \"variable_1\": \"unique_views\", \"count\": null}, {\"index\": \"2020-11-23T00:00:00\", \"variable_0\": \"maps-at-scale-using-computer-vision-and-jupyter-notebooks\", \"variable_1\": \"unique_views\", \"count\": 2.0}, {\"index\": \"2020-12-01T00:00:00\", \"variable_0\": \"maps-at-scale-using-computer-vision-and-jupyter-notebooks\", \"variable_1\": \"unique_views\", \"count\": 2.0}, {\"index\": \"2020-12-03T00:00:00\", \"variable_0\": \"maps-at-scale-using-computer-vision-and-jupyter-notebooks\", \"variable_1\": \"unique_views\", \"count\": null}, {\"index\": \"2020-11-13T00:00:00\", \"variable_0\": \"maps-at-scale-using-computer-vision-and-jupyter-notebooks\", \"variable_1\": \"unique_views\", \"count\": 3.0}, {\"index\": \"2020-11-14T00:00:00\", \"variable_0\": \"maps-at-scale-using-computer-vision-and-jupyter-notebooks\", \"variable_1\": \"unique_views\", \"count\": null}, {\"index\": \"2020-11-16T00:00:00\", \"variable_0\": \"maps-at-scale-using-computer-vision-and-jupyter-notebooks\", \"variable_1\": \"unique_views\", \"count\": 17.0}, {\"index\": \"2020-11-17T00:00:00\", \"variable_0\": \"maps-at-scale-using-computer-vision-and-jupyter-notebooks\", \"variable_1\": \"unique_views\", \"count\": 1.0}, {\"index\": \"2020-11-26T00:00:00\", \"variable_0\": \"maps-at-scale-using-computer-vision-and-jupyter-notebooks\", \"variable_1\": \"unique_views\", \"count\": null}, {\"index\": \"2020-11-30T00:00:00\", \"variable_0\": \"maps-at-scale-using-computer-vision-and-jupyter-notebooks\", \"variable_1\": \"unique_views\", \"count\": 1.0}, {\"index\": \"2020-11-15T00:00:00\", \"variable_0\": \"maps-at-scale-using-computer-vision-and-jupyter-notebooks\", \"variable_1\": \"unique_views\", \"count\": 2.0}, {\"index\": \"2020-11-18T00:00:00\", \"variable_0\": \"maps-at-scale-using-computer-vision-and-jupyter-notebooks\", \"variable_1\": \"unique_views\", \"count\": null}, {\"index\": \"2020-11-22T00:00:00\", \"variable_0\": \"maps-at-scale-using-computer-vision-and-jupyter-notebooks\", \"variable_1\": \"unique_views\", \"count\": 1.0}, {\"index\": \"2020-11-24T00:00:00\", \"variable_0\": \"maps-at-scale-using-computer-vision-and-jupyter-notebooks\", \"variable_1\": \"unique_views\", \"count\": 1.0}, {\"index\": \"2020-11-25T00:00:00\", \"variable_0\": \"maps-at-scale-using-computer-vision-and-jupyter-notebooks\", \"variable_1\": \"unique_views\", \"count\": 2.0}, {\"index\": \"2020-11-27T00:00:00\", \"variable_0\": \"maps-at-scale-using-computer-vision-and-jupyter-notebooks\", \"variable_1\": \"unique_views\", \"count\": null}, {\"index\": \"2020-11-28T00:00:00\", \"variable_0\": \"maps-at-scale-using-computer-vision-and-jupyter-notebooks\", \"variable_1\": \"unique_views\", \"count\": 1.0}, {\"index\": \"2020-11-29T00:00:00\", \"variable_0\": \"maps-at-scale-using-computer-vision-and-jupyter-notebooks\", \"variable_1\": \"unique_views\", \"count\": null}, {\"index\": \"2020-12-02T00:00:00\", \"variable_0\": \"maps-at-scale-using-computer-vision-and-jupyter-notebooks\", \"variable_1\": \"unique_views\", \"count\": null}, {\"index\": \"2020-11-12T00:00:00\", \"variable_0\": \"maps-at-scale-using-computer-vision-and-jupyter-notebooks\", \"variable_1\": \"unique_views\", \"count\": 33.0}, {\"index\": \"2020-11-20T00:00:00\", \"variable_0\": \"maps-at-scale-using-computer-vision-and-jupyter-notebooks\", \"variable_1\": \"unique_views\", \"count\": 1.0}, {\"index\": \"2020-11-21T00:00:00\", \"variable_0\": \"maps-at-scale-using-computer-vision-and-jupyter-notebooks\", \"variable_1\": \"unique_views\", \"count\": 3.0}, {\"index\": \"2020-11-19T00:00:00\", \"variable_0\": \"gh_orgstats\", \"variable_1\": \"total_views\", \"count\": null}, {\"index\": \"2020-11-23T00:00:00\", \"variable_0\": \"gh_orgstats\", \"variable_1\": \"total_views\", \"count\": null}, {\"index\": \"2020-12-01T00:00:00\", \"variable_0\": \"gh_orgstats\", \"variable_1\": \"total_views\", \"count\": 139.0}, {\"index\": \"2020-12-03T00:00:00\", \"variable_0\": \"gh_orgstats\", \"variable_1\": \"total_views\", \"count\": 5.0}, {\"index\": \"2020-11-13T00:00:00\", \"variable_0\": \"gh_orgstats\", \"variable_1\": \"total_views\", \"count\": null}, {\"index\": \"2020-11-14T00:00:00\", \"variable_0\": \"gh_orgstats\", \"variable_1\": \"total_views\", \"count\": null}, {\"index\": \"2020-11-16T00:00:00\", \"variable_0\": \"gh_orgstats\", \"variable_1\": \"total_views\", \"count\": null}, {\"index\": \"2020-11-17T00:00:00\", \"variable_0\": \"gh_orgstats\", \"variable_1\": \"total_views\", \"count\": null}, {\"index\": \"2020-11-26T00:00:00\", \"variable_0\": \"gh_orgstats\", \"variable_1\": \"total_views\", \"count\": null}, {\"index\": \"2020-11-30T00:00:00\", \"variable_0\": \"gh_orgstats\", \"variable_1\": \"total_views\", \"count\": null}, {\"index\": \"2020-11-15T00:00:00\", \"variable_0\": \"gh_orgstats\", \"variable_1\": \"total_views\", \"count\": null}, {\"index\": \"2020-11-18T00:00:00\", \"variable_0\": \"gh_orgstats\", \"variable_1\": \"total_views\", \"count\": null}, {\"index\": \"2020-11-22T00:00:00\", \"variable_0\": \"gh_orgstats\", \"variable_1\": \"total_views\", \"count\": null}, {\"index\": \"2020-11-24T00:00:00\", \"variable_0\": \"gh_orgstats\", \"variable_1\": \"total_views\", \"count\": null}, {\"index\": \"2020-11-25T00:00:00\", \"variable_0\": \"gh_orgstats\", \"variable_1\": \"total_views\", \"count\": null}, {\"index\": \"2020-11-27T00:00:00\", \"variable_0\": \"gh_orgstats\", \"variable_1\": \"total_views\", \"count\": null}, {\"index\": \"2020-11-28T00:00:00\", \"variable_0\": \"gh_orgstats\", \"variable_1\": \"total_views\", \"count\": null}, {\"index\": \"2020-11-29T00:00:00\", \"variable_0\": \"gh_orgstats\", \"variable_1\": \"total_views\", \"count\": null}, {\"index\": \"2020-12-02T00:00:00\", \"variable_0\": \"gh_orgstats\", \"variable_1\": \"total_views\", \"count\": 202.0}, {\"index\": \"2020-11-12T00:00:00\", \"variable_0\": \"gh_orgstats\", \"variable_1\": \"total_views\", \"count\": null}, {\"index\": \"2020-11-20T00:00:00\", \"variable_0\": \"gh_orgstats\", \"variable_1\": \"total_views\", \"count\": null}, {\"index\": \"2020-11-21T00:00:00\", \"variable_0\": \"gh_orgstats\", \"variable_1\": \"total_views\", \"count\": null}, {\"index\": \"2020-11-19T00:00:00\", \"variable_0\": \"gh_orgstats\", \"variable_1\": \"unique_views\", \"count\": null}, {\"index\": \"2020-11-23T00:00:00\", \"variable_0\": \"gh_orgstats\", \"variable_1\": \"unique_views\", \"count\": null}, {\"index\": \"2020-12-01T00:00:00\", \"variable_0\": \"gh_orgstats\", \"variable_1\": \"unique_views\", \"count\": 3.0}, {\"index\": \"2020-12-03T00:00:00\", \"variable_0\": \"gh_orgstats\", \"variable_1\": \"unique_views\", \"count\": 2.0}, {\"index\": \"2020-11-13T00:00:00\", \"variable_0\": \"gh_orgstats\", \"variable_1\": \"unique_views\", \"count\": null}, {\"index\": \"2020-11-14T00:00:00\", \"variable_0\": \"gh_orgstats\", \"variable_1\": \"unique_views\", \"count\": null}, {\"index\": \"2020-11-16T00:00:00\", \"variable_0\": \"gh_orgstats\", \"variable_1\": \"unique_views\", \"count\": null}, {\"index\": \"2020-11-17T00:00:00\", \"variable_0\": \"gh_orgstats\", \"variable_1\": \"unique_views\", \"count\": null}, {\"index\": \"2020-11-26T00:00:00\", \"variable_0\": \"gh_orgstats\", \"variable_1\": \"unique_views\", \"count\": null}, {\"index\": \"2020-11-30T00:00:00\", \"variable_0\": \"gh_orgstats\", \"variable_1\": \"unique_views\", \"count\": null}, {\"index\": \"2020-11-15T00:00:00\", \"variable_0\": \"gh_orgstats\", \"variable_1\": \"unique_views\", \"count\": null}, {\"index\": \"2020-11-18T00:00:00\", \"variable_0\": \"gh_orgstats\", \"variable_1\": \"unique_views\", \"count\": null}, {\"index\": \"2020-11-22T00:00:00\", \"variable_0\": \"gh_orgstats\", \"variable_1\": \"unique_views\", \"count\": null}, {\"index\": \"2020-11-24T00:00:00\", \"variable_0\": \"gh_orgstats\", \"variable_1\": \"unique_views\", \"count\": null}, {\"index\": \"2020-11-25T00:00:00\", \"variable_0\": \"gh_orgstats\", \"variable_1\": \"unique_views\", \"count\": null}, {\"index\": \"2020-11-27T00:00:00\", \"variable_0\": \"gh_orgstats\", \"variable_1\": \"unique_views\", \"count\": null}, {\"index\": \"2020-11-28T00:00:00\", \"variable_0\": \"gh_orgstats\", \"variable_1\": \"unique_views\", \"count\": null}, {\"index\": \"2020-11-29T00:00:00\", \"variable_0\": \"gh_orgstats\", \"variable_1\": \"unique_views\", \"count\": null}, {\"index\": \"2020-12-02T00:00:00\", \"variable_0\": \"gh_orgstats\", \"variable_1\": \"unique_views\", \"count\": 76.0}, {\"index\": \"2020-11-12T00:00:00\", \"variable_0\": \"gh_orgstats\", \"variable_1\": \"unique_views\", \"count\": null}, {\"index\": \"2020-11-20T00:00:00\", \"variable_0\": \"gh_orgstats\", \"variable_1\": \"unique_views\", \"count\": null}, {\"index\": \"2020-11-21T00:00:00\", \"variable_0\": \"gh_orgstats\", \"variable_1\": \"unique_views\", \"count\": null}, {\"index\": \"2020-11-19T00:00:00\", \"variable_0\": \"GazFuse\", \"variable_1\": \"total_views\", \"count\": null}, {\"index\": \"2020-11-23T00:00:00\", \"variable_0\": \"GazFuse\", \"variable_1\": \"total_views\", \"count\": null}, {\"index\": \"2020-12-01T00:00:00\", \"variable_0\": \"GazFuse\", \"variable_1\": \"total_views\", \"count\": null}, {\"index\": \"2020-12-03T00:00:00\", \"variable_0\": \"GazFuse\", \"variable_1\": \"total_views\", \"count\": 4.0}, {\"index\": \"2020-11-13T00:00:00\", \"variable_0\": \"GazFuse\", \"variable_1\": \"total_views\", \"count\": null}, {\"index\": \"2020-11-14T00:00:00\", \"variable_0\": \"GazFuse\", \"variable_1\": \"total_views\", \"count\": null}, {\"index\": \"2020-11-16T00:00:00\", \"variable_0\": \"GazFuse\", \"variable_1\": \"total_views\", \"count\": null}, {\"index\": \"2020-11-17T00:00:00\", \"variable_0\": \"GazFuse\", \"variable_1\": \"total_views\", \"count\": null}, {\"index\": \"2020-11-26T00:00:00\", \"variable_0\": \"GazFuse\", \"variable_1\": \"total_views\", \"count\": null}, {\"index\": \"2020-11-30T00:00:00\", \"variable_0\": \"GazFuse\", \"variable_1\": \"total_views\", \"count\": null}, {\"index\": \"2020-11-15T00:00:00\", \"variable_0\": \"GazFuse\", \"variable_1\": \"total_views\", \"count\": null}, {\"index\": \"2020-11-18T00:00:00\", \"variable_0\": \"GazFuse\", \"variable_1\": \"total_views\", \"count\": null}, {\"index\": \"2020-11-22T00:00:00\", \"variable_0\": \"GazFuse\", \"variable_1\": \"total_views\", \"count\": null}, {\"index\": \"2020-11-24T00:00:00\", \"variable_0\": \"GazFuse\", \"variable_1\": \"total_views\", \"count\": null}, {\"index\": \"2020-11-25T00:00:00\", \"variable_0\": \"GazFuse\", \"variable_1\": \"total_views\", \"count\": null}, {\"index\": \"2020-11-27T00:00:00\", \"variable_0\": \"GazFuse\", \"variable_1\": \"total_views\", \"count\": null}, {\"index\": \"2020-11-28T00:00:00\", \"variable_0\": \"GazFuse\", \"variable_1\": \"total_views\", \"count\": null}, {\"index\": \"2020-11-29T00:00:00\", \"variable_0\": \"GazFuse\", \"variable_1\": \"total_views\", \"count\": null}, {\"index\": \"2020-12-02T00:00:00\", \"variable_0\": \"GazFuse\", \"variable_1\": \"total_views\", \"count\": null}, {\"index\": \"2020-11-12T00:00:00\", \"variable_0\": \"GazFuse\", \"variable_1\": \"total_views\", \"count\": null}, {\"index\": \"2020-11-20T00:00:00\", \"variable_0\": \"GazFuse\", \"variable_1\": \"total_views\", \"count\": null}, {\"index\": \"2020-11-21T00:00:00\", \"variable_0\": \"GazFuse\", \"variable_1\": \"total_views\", \"count\": null}, {\"index\": \"2020-11-19T00:00:00\", \"variable_0\": \"GazFuse\", \"variable_1\": \"unique_views\", \"count\": null}, {\"index\": \"2020-11-23T00:00:00\", \"variable_0\": \"GazFuse\", \"variable_1\": \"unique_views\", \"count\": null}, {\"index\": \"2020-12-01T00:00:00\", \"variable_0\": \"GazFuse\", \"variable_1\": \"unique_views\", \"count\": null}, {\"index\": \"2020-12-03T00:00:00\", \"variable_0\": \"GazFuse\", \"variable_1\": \"unique_views\", \"count\": 4.0}, {\"index\": \"2020-11-13T00:00:00\", \"variable_0\": \"GazFuse\", \"variable_1\": \"unique_views\", \"count\": null}, {\"index\": \"2020-11-14T00:00:00\", \"variable_0\": \"GazFuse\", \"variable_1\": \"unique_views\", \"count\": null}, {\"index\": \"2020-11-16T00:00:00\", \"variable_0\": \"GazFuse\", \"variable_1\": \"unique_views\", \"count\": null}, {\"index\": \"2020-11-17T00:00:00\", \"variable_0\": \"GazFuse\", \"variable_1\": \"unique_views\", \"count\": null}, {\"index\": \"2020-11-26T00:00:00\", \"variable_0\": \"GazFuse\", \"variable_1\": \"unique_views\", \"count\": null}, {\"index\": \"2020-11-30T00:00:00\", \"variable_0\": \"GazFuse\", \"variable_1\": \"unique_views\", \"count\": null}, {\"index\": \"2020-11-15T00:00:00\", \"variable_0\": \"GazFuse\", \"variable_1\": \"unique_views\", \"count\": null}, {\"index\": \"2020-11-18T00:00:00\", \"variable_0\": \"GazFuse\", \"variable_1\": \"unique_views\", \"count\": null}, {\"index\": \"2020-11-22T00:00:00\", \"variable_0\": \"GazFuse\", \"variable_1\": \"unique_views\", \"count\": null}, {\"index\": \"2020-11-24T00:00:00\", \"variable_0\": \"GazFuse\", \"variable_1\": \"unique_views\", \"count\": null}, {\"index\": \"2020-11-25T00:00:00\", \"variable_0\": \"GazFuse\", \"variable_1\": \"unique_views\", \"count\": null}, {\"index\": \"2020-11-27T00:00:00\", \"variable_0\": \"GazFuse\", \"variable_1\": \"unique_views\", \"count\": null}, {\"index\": \"2020-11-28T00:00:00\", \"variable_0\": \"GazFuse\", \"variable_1\": \"unique_views\", \"count\": null}, {\"index\": \"2020-11-29T00:00:00\", \"variable_0\": \"GazFuse\", \"variable_1\": \"unique_views\", \"count\": null}, {\"index\": \"2020-12-02T00:00:00\", \"variable_0\": \"GazFuse\", \"variable_1\": \"unique_views\", \"count\": null}, {\"index\": \"2020-11-12T00:00:00\", \"variable_0\": \"GazFuse\", \"variable_1\": \"unique_views\", \"count\": null}, {\"index\": \"2020-11-20T00:00:00\", \"variable_0\": \"GazFuse\", \"variable_1\": \"unique_views\", \"count\": null}, {\"index\": \"2020-11-21T00:00:00\", \"variable_0\": \"GazFuse\", \"variable_1\": \"unique_views\", \"count\": null}]}}, {\"mode\": \"vega-lite\"});\n",
       "</script>"
      ],
      "text/plain": [
       "alt.Chart(...)"
      ]
     },
     "execution_count": 1,
     "metadata": {},
     "output_type": "execute_result"
    }
   ],
   "source": [
    "alt.Chart(data).mark_bar().encode(\n",
    "    x=\"mean(count)\",\n",
    "    y=alt.Y(\"day(index):O\", title=\"Day\"),\n",
    "    color=alt.Color(\"variable_1\", title=\"View type\"),\n",
    ").properties(width=WIDTH, title=\"Mean views by Day\")\n"
   ]
  },
  {
   "cell_type": "markdown",
   "metadata": {},
   "source": [
    "## Clones <a class=\"anchor\" id=\"repo-clones\"></a>\n",
    "\n",
    "Clones indicate how often a repository is 'downloaded' from GitHub:\n",
    "> [Cloning a repository pulls down a full copy of all the repository data that GitHub has at that point in time, including all versions of every file and folder for the project.](https://docs.github.com/en/free-pro-team@latest/github/creating-cloning-and-archiving-repositories/cloning-a-repository)\n",
    "\n",
    "Clones are on way in which we may also be able to assess whether people are making use of a repository. Like views, clones are also broken down into unique and total values. "
   ]
  },
  {
   "cell_type": "markdown",
   "metadata": {},
   "source": [
    "### Total Clones"
   ]
  },
  {
   "cell_type": "code",
   "execution_count": 28,
   "metadata": {
    "execution": {
     "iopub.execute_input": "2020-12-03T17:37:50.966081Z",
     "iopub.status.busy": "2020-12-03T17:37:50.965332Z",
     "iopub.status.idle": "2020-12-03T17:37:52.331425Z",
     "shell.execute_reply": "2020-12-03T17:37:52.330754Z"
    }
   },
   "outputs": [],
   "source": [
    "df = lwm_stats.get_org_clones_traffic(public_only=True, load=True)"
   ]
  },
  {
   "cell_type": "code",
   "execution_count": 29,
   "metadata": {
    "execution": {
     "iopub.execute_input": "2020-12-03T17:37:52.341626Z",
     "iopub.status.busy": "2020-12-03T17:37:52.340930Z",
     "iopub.status.idle": "2020-12-03T17:37:52.346880Z",
     "shell.execute_reply": "2020-12-03T17:37:52.345987Z"
    }
   },
   "outputs": [
    {
     "data": {
      "text/markdown": [
       "Living with Machines public repositories have generated 143 clones to date with an average of 11 daily clones"
      ],
      "text/plain": [
       "<IPython.core.display.Markdown object>"
      ]
     },
     "execution_count": 1,
     "metadata": {},
     "output_type": "execute_result"
    }
   ],
   "source": [
    "total = df.loc[idx[:], idx[:,'total_clones']].sum().sum()\n",
    "mean = df.loc[idx[:], idx[:,'total_clones']].sum().mean()\n",
    "Markdown(f\"Living with Machines public repositories have generated {round(total)} clones to date with an average of {round(mean)} daily clones\")"
   ]
  },
  {
   "cell_type": "markdown",
   "metadata": {},
   "source": [
    "## Total clones over time across all repositories "
   ]
  },
  {
   "cell_type": "code",
   "execution_count": 30,
   "metadata": {
    "execution": {
     "iopub.execute_input": "2020-12-03T17:37:52.354451Z",
     "iopub.status.busy": "2020-12-03T17:37:52.353462Z",
     "iopub.status.idle": "2020-12-03T17:37:53.813548Z",
     "shell.execute_reply": "2020-12-03T17:37:53.812842Z"
    }
   },
   "outputs": [],
   "source": [
    "df = lwm_stats.get_org_clones_traffic(public_only=True, load=True)\n",
    "data = pd.melt(frame=df.reset_index(), id_vars=['index'],value_name='count')"
   ]
  },
  {
   "cell_type": "code",
   "execution_count": 31,
   "metadata": {
    "execution": {
     "iopub.execute_input": "2020-12-03T17:37:53.837299Z",
     "iopub.status.busy": "2020-12-03T17:37:53.826824Z",
     "iopub.status.idle": "2020-12-03T17:37:53.875116Z",
     "shell.execute_reply": "2020-12-03T17:37:53.875718Z"
    }
   },
   "outputs": [
    {
     "data": {
      "text/html": [
       "\n",
       "<div id=\"altair-viz-440559de36ce40db8790d15c7201dad9\"></div>\n",
       "<script type=\"text/javascript\">\n",
       "  (function(spec, embedOpt){\n",
       "    let outputDiv = document.currentScript.previousElementSibling;\n",
       "    if (outputDiv.id !== \"altair-viz-440559de36ce40db8790d15c7201dad9\") {\n",
       "      outputDiv = document.getElementById(\"altair-viz-440559de36ce40db8790d15c7201dad9\");\n",
       "    }\n",
       "    const paths = {\n",
       "      \"vega\": \"https://cdn.jsdelivr.net/npm//vega@5?noext\",\n",
       "      \"vega-lib\": \"https://cdn.jsdelivr.net/npm//vega-lib?noext\",\n",
       "      \"vega-lite\": \"https://cdn.jsdelivr.net/npm//vega-lite@4.8.1?noext\",\n",
       "      \"vega-embed\": \"https://cdn.jsdelivr.net/npm//vega-embed@6?noext\",\n",
       "    };\n",
       "\n",
       "    function loadScript(lib) {\n",
       "      return new Promise(function(resolve, reject) {\n",
       "        var s = document.createElement('script');\n",
       "        s.src = paths[lib];\n",
       "        s.async = true;\n",
       "        s.onload = () => resolve(paths[lib]);\n",
       "        s.onerror = () => reject(`Error loading script: ${paths[lib]}`);\n",
       "        document.getElementsByTagName(\"head\")[0].appendChild(s);\n",
       "      });\n",
       "    }\n",
       "\n",
       "    function showError(err) {\n",
       "      outputDiv.innerHTML = `<div class=\"error\" style=\"color:red;\">${err}</div>`;\n",
       "      throw err;\n",
       "    }\n",
       "\n",
       "    function displayChart(vegaEmbed) {\n",
       "      vegaEmbed(outputDiv, spec, embedOpt)\n",
       "        .catch(err => showError(`Javascript Error: ${err.message}<br>This usually means there's a typo in your chart specification. See the javascript console for the full traceback.`));\n",
       "    }\n",
       "\n",
       "    if(typeof define === \"function\" && define.amd) {\n",
       "      requirejs.config({paths});\n",
       "      require([\"vega-embed\"], displayChart, err => showError(`Error loading script: ${err.message}`));\n",
       "    } else if (typeof vegaEmbed === \"function\") {\n",
       "      displayChart(vegaEmbed);\n",
       "    } else {\n",
       "      loadScript(\"vega\")\n",
       "        .then(() => loadScript(\"vega-lite\"))\n",
       "        .then(() => loadScript(\"vega-embed\"))\n",
       "        .catch(showError)\n",
       "        .then(() => displayChart(vegaEmbed));\n",
       "    }\n",
       "  })({\"config\": {\"view\": {\"continuousWidth\": 400, \"continuousHeight\": 300}}, \"vconcat\": [{\"mark\": \"area\", \"encoding\": {\"color\": {\"type\": \"nominal\", \"field\": \"variable_0\", \"title\": \"Repository\"}, \"x\": {\"type\": \"temporal\", \"axis\": {\"tickCount\": 24, \"title\": \"Date\"}, \"field\": \"index\"}, \"y\": {\"type\": \"quantitative\", \"aggregate\": \"sum\", \"field\": \"count\"}}, \"selection\": {\"selector002\": {\"type\": \"interval\"}}, \"title\": \"Total clones\", \"transform\": [{\"filter\": {\"equal\": \"total_clones\", \"field\": \"variable_1\"}}], \"width\": 650}, {\"mark\": \"bar\", \"encoding\": {\"color\": {\"type\": \"nominal\", \"field\": \"variable_0\", \"title\": \"Repository\"}, \"tooltip\": {\"type\": \"quantitative\", \"field\": \"count\"}, \"x\": {\"type\": \"quantitative\", \"field\": \"count\"}, \"y\": {\"type\": \"nominal\", \"field\": \"variable_1\", \"title\": null}}, \"title\": \"Clons by type\", \"transform\": [{\"filter\": {\"selection\": \"selector002\"}}]}], \"data\": {\"name\": \"data-b880b9a2677bfc08a225d5b1e9774c7a\"}, \"$schema\": \"https://vega.github.io/schema/vega-lite/v4.8.1.json\", \"datasets\": {\"data-b880b9a2677bfc08a225d5b1e9774c7a\": [{\"index\": \"2020-12-02T00:00:00\", \"variable_0\": \"lwm_ARTIDIGH_2020_OCR_impact_downstream_NLP_tasks\", \"variable_1\": \"total_clones\", \"count\": 1.0}, {\"index\": \"2020-11-22T00:00:00\", \"variable_0\": \"lwm_ARTIDIGH_2020_OCR_impact_downstream_NLP_tasks\", \"variable_1\": \"total_clones\", \"count\": null}, {\"index\": \"2020-11-23T00:00:00\", \"variable_0\": \"lwm_ARTIDIGH_2020_OCR_impact_downstream_NLP_tasks\", \"variable_1\": \"total_clones\", \"count\": null}, {\"index\": \"2020-11-24T00:00:00\", \"variable_0\": \"lwm_ARTIDIGH_2020_OCR_impact_downstream_NLP_tasks\", \"variable_1\": \"total_clones\", \"count\": null}, {\"index\": \"2020-11-25T00:00:00\", \"variable_0\": \"lwm_ARTIDIGH_2020_OCR_impact_downstream_NLP_tasks\", \"variable_1\": \"total_clones\", \"count\": null}, {\"index\": \"2020-11-28T00:00:00\", \"variable_0\": \"lwm_ARTIDIGH_2020_OCR_impact_downstream_NLP_tasks\", \"variable_1\": \"total_clones\", \"count\": null}, {\"index\": \"2020-12-01T00:00:00\", \"variable_0\": \"lwm_ARTIDIGH_2020_OCR_impact_downstream_NLP_tasks\", \"variable_1\": \"total_clones\", \"count\": null}, {\"index\": \"2020-11-20T00:00:00\", \"variable_0\": \"lwm_ARTIDIGH_2020_OCR_impact_downstream_NLP_tasks\", \"variable_1\": \"total_clones\", \"count\": null}, {\"index\": \"2020-11-21T00:00:00\", \"variable_0\": \"lwm_ARTIDIGH_2020_OCR_impact_downstream_NLP_tasks\", \"variable_1\": \"total_clones\", \"count\": null}, {\"index\": \"2020-11-26T00:00:00\", \"variable_0\": \"lwm_ARTIDIGH_2020_OCR_impact_downstream_NLP_tasks\", \"variable_1\": \"total_clones\", \"count\": null}, {\"index\": \"2020-11-30T00:00:00\", \"variable_0\": \"lwm_ARTIDIGH_2020_OCR_impact_downstream_NLP_tasks\", \"variable_1\": \"total_clones\", \"count\": null}, {\"index\": \"2020-12-03T00:00:00\", \"variable_0\": \"lwm_ARTIDIGH_2020_OCR_impact_downstream_NLP_tasks\", \"variable_1\": \"total_clones\", \"count\": null}, {\"index\": \"2020-12-02T00:00:00\", \"variable_0\": \"lwm_ARTIDIGH_2020_OCR_impact_downstream_NLP_tasks\", \"variable_1\": \"unique_clones\", \"count\": 1.0}, {\"index\": \"2020-11-22T00:00:00\", \"variable_0\": \"lwm_ARTIDIGH_2020_OCR_impact_downstream_NLP_tasks\", \"variable_1\": \"unique_clones\", \"count\": null}, {\"index\": \"2020-11-23T00:00:00\", \"variable_0\": \"lwm_ARTIDIGH_2020_OCR_impact_downstream_NLP_tasks\", \"variable_1\": \"unique_clones\", \"count\": null}, {\"index\": \"2020-11-24T00:00:00\", \"variable_0\": \"lwm_ARTIDIGH_2020_OCR_impact_downstream_NLP_tasks\", \"variable_1\": \"unique_clones\", \"count\": null}, {\"index\": \"2020-11-25T00:00:00\", \"variable_0\": \"lwm_ARTIDIGH_2020_OCR_impact_downstream_NLP_tasks\", \"variable_1\": \"unique_clones\", \"count\": null}, {\"index\": \"2020-11-28T00:00:00\", \"variable_0\": \"lwm_ARTIDIGH_2020_OCR_impact_downstream_NLP_tasks\", \"variable_1\": \"unique_clones\", \"count\": null}, {\"index\": \"2020-12-01T00:00:00\", \"variable_0\": \"lwm_ARTIDIGH_2020_OCR_impact_downstream_NLP_tasks\", \"variable_1\": \"unique_clones\", \"count\": null}, {\"index\": \"2020-11-20T00:00:00\", \"variable_0\": \"lwm_ARTIDIGH_2020_OCR_impact_downstream_NLP_tasks\", \"variable_1\": \"unique_clones\", \"count\": null}, {\"index\": \"2020-11-21T00:00:00\", \"variable_0\": \"lwm_ARTIDIGH_2020_OCR_impact_downstream_NLP_tasks\", \"variable_1\": \"unique_clones\", \"count\": null}, {\"index\": \"2020-11-26T00:00:00\", \"variable_0\": \"lwm_ARTIDIGH_2020_OCR_impact_downstream_NLP_tasks\", \"variable_1\": \"unique_clones\", \"count\": null}, {\"index\": \"2020-11-30T00:00:00\", \"variable_0\": \"lwm_ARTIDIGH_2020_OCR_impact_downstream_NLP_tasks\", \"variable_1\": \"unique_clones\", \"count\": null}, {\"index\": \"2020-12-03T00:00:00\", \"variable_0\": \"lwm_ARTIDIGH_2020_OCR_impact_downstream_NLP_tasks\", \"variable_1\": \"unique_clones\", \"count\": null}, {\"index\": \"2020-12-02T00:00:00\", \"variable_0\": \"lwm_GIR19_resolving_places\", \"variable_1\": \"total_clones\", \"count\": null}, {\"index\": \"2020-11-22T00:00:00\", \"variable_0\": \"lwm_GIR19_resolving_places\", \"variable_1\": \"total_clones\", \"count\": null}, {\"index\": \"2020-11-23T00:00:00\", \"variable_0\": \"lwm_GIR19_resolving_places\", \"variable_1\": \"total_clones\", \"count\": null}, {\"index\": \"2020-11-24T00:00:00\", \"variable_0\": \"lwm_GIR19_resolving_places\", \"variable_1\": \"total_clones\", \"count\": null}, {\"index\": \"2020-11-25T00:00:00\", \"variable_0\": \"lwm_GIR19_resolving_places\", \"variable_1\": \"total_clones\", \"count\": null}, {\"index\": \"2020-11-28T00:00:00\", \"variable_0\": \"lwm_GIR19_resolving_places\", \"variable_1\": \"total_clones\", \"count\": null}, {\"index\": \"2020-12-01T00:00:00\", \"variable_0\": \"lwm_GIR19_resolving_places\", \"variable_1\": \"total_clones\", \"count\": null}, {\"index\": \"2020-11-20T00:00:00\", \"variable_0\": \"lwm_GIR19_resolving_places\", \"variable_1\": \"total_clones\", \"count\": null}, {\"index\": \"2020-11-21T00:00:00\", \"variable_0\": \"lwm_GIR19_resolving_places\", \"variable_1\": \"total_clones\", \"count\": null}, {\"index\": \"2020-11-26T00:00:00\", \"variable_0\": \"lwm_GIR19_resolving_places\", \"variable_1\": \"total_clones\", \"count\": null}, {\"index\": \"2020-11-30T00:00:00\", \"variable_0\": \"lwm_GIR19_resolving_places\", \"variable_1\": \"total_clones\", \"count\": null}, {\"index\": \"2020-12-03T00:00:00\", \"variable_0\": \"lwm_GIR19_resolving_places\", \"variable_1\": \"total_clones\", \"count\": null}, {\"index\": \"2020-12-02T00:00:00\", \"variable_0\": \"lwm_GIR19_resolving_places\", \"variable_1\": \"unique_clones\", \"count\": null}, {\"index\": \"2020-11-22T00:00:00\", \"variable_0\": \"lwm_GIR19_resolving_places\", \"variable_1\": \"unique_clones\", \"count\": null}, {\"index\": \"2020-11-23T00:00:00\", \"variable_0\": \"lwm_GIR19_resolving_places\", \"variable_1\": \"unique_clones\", \"count\": null}, {\"index\": \"2020-11-24T00:00:00\", \"variable_0\": \"lwm_GIR19_resolving_places\", \"variable_1\": \"unique_clones\", \"count\": null}, {\"index\": \"2020-11-25T00:00:00\", \"variable_0\": \"lwm_GIR19_resolving_places\", \"variable_1\": \"unique_clones\", \"count\": null}, {\"index\": \"2020-11-28T00:00:00\", \"variable_0\": \"lwm_GIR19_resolving_places\", \"variable_1\": \"unique_clones\", \"count\": null}, {\"index\": \"2020-12-01T00:00:00\", \"variable_0\": \"lwm_GIR19_resolving_places\", \"variable_1\": \"unique_clones\", \"count\": null}, {\"index\": \"2020-11-20T00:00:00\", \"variable_0\": \"lwm_GIR19_resolving_places\", \"variable_1\": \"unique_clones\", \"count\": null}, {\"index\": \"2020-11-21T00:00:00\", \"variable_0\": \"lwm_GIR19_resolving_places\", \"variable_1\": \"unique_clones\", \"count\": null}, {\"index\": \"2020-11-26T00:00:00\", \"variable_0\": \"lwm_GIR19_resolving_places\", \"variable_1\": \"unique_clones\", \"count\": null}, {\"index\": \"2020-11-30T00:00:00\", \"variable_0\": \"lwm_GIR19_resolving_places\", \"variable_1\": \"unique_clones\", \"count\": null}, {\"index\": \"2020-12-03T00:00:00\", \"variable_0\": \"lwm_GIR19_resolving_places\", \"variable_1\": \"unique_clones\", \"count\": null}, {\"index\": \"2020-12-02T00:00:00\", \"variable_0\": \"D3_JS_viz_in_a_Python_Jupyter_notebook\", \"variable_1\": \"total_clones\", \"count\": null}, {\"index\": \"2020-11-22T00:00:00\", \"variable_0\": \"D3_JS_viz_in_a_Python_Jupyter_notebook\", \"variable_1\": \"total_clones\", \"count\": 2.0}, {\"index\": \"2020-11-23T00:00:00\", \"variable_0\": \"D3_JS_viz_in_a_Python_Jupyter_notebook\", \"variable_1\": \"total_clones\", \"count\": 5.0}, {\"index\": \"2020-11-24T00:00:00\", \"variable_0\": \"D3_JS_viz_in_a_Python_Jupyter_notebook\", \"variable_1\": \"total_clones\", \"count\": 1.0}, {\"index\": \"2020-11-25T00:00:00\", \"variable_0\": \"D3_JS_viz_in_a_Python_Jupyter_notebook\", \"variable_1\": \"total_clones\", \"count\": 3.0}, {\"index\": \"2020-11-28T00:00:00\", \"variable_0\": \"D3_JS_viz_in_a_Python_Jupyter_notebook\", \"variable_1\": \"total_clones\", \"count\": 1.0}, {\"index\": \"2020-12-01T00:00:00\", \"variable_0\": \"D3_JS_viz_in_a_Python_Jupyter_notebook\", \"variable_1\": \"total_clones\", \"count\": 1.0}, {\"index\": \"2020-11-20T00:00:00\", \"variable_0\": \"D3_JS_viz_in_a_Python_Jupyter_notebook\", \"variable_1\": \"total_clones\", \"count\": null}, {\"index\": \"2020-11-21T00:00:00\", \"variable_0\": \"D3_JS_viz_in_a_Python_Jupyter_notebook\", \"variable_1\": \"total_clones\", \"count\": null}, {\"index\": \"2020-11-26T00:00:00\", \"variable_0\": \"D3_JS_viz_in_a_Python_Jupyter_notebook\", \"variable_1\": \"total_clones\", \"count\": null}, {\"index\": \"2020-11-30T00:00:00\", \"variable_0\": \"D3_JS_viz_in_a_Python_Jupyter_notebook\", \"variable_1\": \"total_clones\", \"count\": null}, {\"index\": \"2020-12-03T00:00:00\", \"variable_0\": \"D3_JS_viz_in_a_Python_Jupyter_notebook\", \"variable_1\": \"total_clones\", \"count\": null}, {\"index\": \"2020-12-02T00:00:00\", \"variable_0\": \"D3_JS_viz_in_a_Python_Jupyter_notebook\", \"variable_1\": \"unique_clones\", \"count\": null}, {\"index\": \"2020-11-22T00:00:00\", \"variable_0\": \"D3_JS_viz_in_a_Python_Jupyter_notebook\", \"variable_1\": \"unique_clones\", \"count\": 1.0}, {\"index\": \"2020-11-23T00:00:00\", \"variable_0\": \"D3_JS_viz_in_a_Python_Jupyter_notebook\", \"variable_1\": \"unique_clones\", \"count\": 1.0}, {\"index\": \"2020-11-24T00:00:00\", \"variable_0\": \"D3_JS_viz_in_a_Python_Jupyter_notebook\", \"variable_1\": \"unique_clones\", \"count\": 1.0}, {\"index\": \"2020-11-25T00:00:00\", \"variable_0\": \"D3_JS_viz_in_a_Python_Jupyter_notebook\", \"variable_1\": \"unique_clones\", \"count\": 1.0}, {\"index\": \"2020-11-28T00:00:00\", \"variable_0\": \"D3_JS_viz_in_a_Python_Jupyter_notebook\", \"variable_1\": \"unique_clones\", \"count\": 1.0}, {\"index\": \"2020-12-01T00:00:00\", \"variable_0\": \"D3_JS_viz_in_a_Python_Jupyter_notebook\", \"variable_1\": \"unique_clones\", \"count\": 1.0}, {\"index\": \"2020-11-20T00:00:00\", \"variable_0\": \"D3_JS_viz_in_a_Python_Jupyter_notebook\", \"variable_1\": \"unique_clones\", \"count\": null}, {\"index\": \"2020-11-21T00:00:00\", \"variable_0\": \"D3_JS_viz_in_a_Python_Jupyter_notebook\", \"variable_1\": \"unique_clones\", \"count\": null}, {\"index\": \"2020-11-26T00:00:00\", \"variable_0\": \"D3_JS_viz_in_a_Python_Jupyter_notebook\", \"variable_1\": \"unique_clones\", \"count\": null}, {\"index\": \"2020-11-30T00:00:00\", \"variable_0\": \"D3_JS_viz_in_a_Python_Jupyter_notebook\", \"variable_1\": \"unique_clones\", \"count\": null}, {\"index\": \"2020-12-03T00:00:00\", \"variable_0\": \"D3_JS_viz_in_a_Python_Jupyter_notebook\", \"variable_1\": \"unique_clones\", \"count\": null}, {\"index\": \"2020-12-02T00:00:00\", \"variable_0\": \"DeezyMatch\", \"variable_1\": \"total_clones\", \"count\": 1.0}, {\"index\": \"2020-11-22T00:00:00\", \"variable_0\": \"DeezyMatch\", \"variable_1\": \"total_clones\", \"count\": 2.0}, {\"index\": \"2020-11-23T00:00:00\", \"variable_0\": \"DeezyMatch\", \"variable_1\": \"total_clones\", \"count\": 3.0}, {\"index\": \"2020-11-24T00:00:00\", \"variable_0\": \"DeezyMatch\", \"variable_1\": \"total_clones\", \"count\": null}, {\"index\": \"2020-11-25T00:00:00\", \"variable_0\": \"DeezyMatch\", \"variable_1\": \"total_clones\", \"count\": 3.0}, {\"index\": \"2020-11-28T00:00:00\", \"variable_0\": \"DeezyMatch\", \"variable_1\": \"total_clones\", \"count\": null}, {\"index\": \"2020-12-01T00:00:00\", \"variable_0\": \"DeezyMatch\", \"variable_1\": \"total_clones\", \"count\": 1.0}, {\"index\": \"2020-11-20T00:00:00\", \"variable_0\": \"DeezyMatch\", \"variable_1\": \"total_clones\", \"count\": 4.0}, {\"index\": \"2020-11-21T00:00:00\", \"variable_0\": \"DeezyMatch\", \"variable_1\": \"total_clones\", \"count\": 2.0}, {\"index\": \"2020-11-26T00:00:00\", \"variable_0\": \"DeezyMatch\", \"variable_1\": \"total_clones\", \"count\": 3.0}, {\"index\": \"2020-11-30T00:00:00\", \"variable_0\": \"DeezyMatch\", \"variable_1\": \"total_clones\", \"count\": 1.0}, {\"index\": \"2020-12-03T00:00:00\", \"variable_0\": \"DeezyMatch\", \"variable_1\": \"total_clones\", \"count\": 1.0}, {\"index\": \"2020-12-02T00:00:00\", \"variable_0\": \"DeezyMatch\", \"variable_1\": \"unique_clones\", \"count\": 1.0}, {\"index\": \"2020-11-22T00:00:00\", \"variable_0\": \"DeezyMatch\", \"variable_1\": \"unique_clones\", \"count\": 2.0}, {\"index\": \"2020-11-23T00:00:00\", \"variable_0\": \"DeezyMatch\", \"variable_1\": \"unique_clones\", \"count\": 3.0}, {\"index\": \"2020-11-24T00:00:00\", \"variable_0\": \"DeezyMatch\", \"variable_1\": \"unique_clones\", \"count\": null}, {\"index\": \"2020-11-25T00:00:00\", \"variable_0\": \"DeezyMatch\", \"variable_1\": \"unique_clones\", \"count\": 3.0}, {\"index\": \"2020-11-28T00:00:00\", \"variable_0\": \"DeezyMatch\", \"variable_1\": \"unique_clones\", \"count\": null}, {\"index\": \"2020-12-01T00:00:00\", \"variable_0\": \"DeezyMatch\", \"variable_1\": \"unique_clones\", \"count\": 1.0}, {\"index\": \"2020-11-20T00:00:00\", \"variable_0\": \"DeezyMatch\", \"variable_1\": \"unique_clones\", \"count\": 4.0}, {\"index\": \"2020-11-21T00:00:00\", \"variable_0\": \"DeezyMatch\", \"variable_1\": \"unique_clones\", \"count\": 2.0}, {\"index\": \"2020-11-26T00:00:00\", \"variable_0\": \"DeezyMatch\", \"variable_1\": \"unique_clones\", \"count\": 3.0}, {\"index\": \"2020-11-30T00:00:00\", \"variable_0\": \"DeezyMatch\", \"variable_1\": \"unique_clones\", \"count\": 1.0}, {\"index\": \"2020-12-03T00:00:00\", \"variable_0\": \"DeezyMatch\", \"variable_1\": \"unique_clones\", \"count\": 1.0}, {\"index\": \"2020-12-02T00:00:00\", \"variable_0\": \"LwM_SIGSPATIAL2020_ToponymMatching\", \"variable_1\": \"total_clones\", \"count\": null}, {\"index\": \"2020-11-22T00:00:00\", \"variable_0\": \"LwM_SIGSPATIAL2020_ToponymMatching\", \"variable_1\": \"total_clones\", \"count\": null}, {\"index\": \"2020-11-23T00:00:00\", \"variable_0\": \"LwM_SIGSPATIAL2020_ToponymMatching\", \"variable_1\": \"total_clones\", \"count\": null}, {\"index\": \"2020-11-24T00:00:00\", \"variable_0\": \"LwM_SIGSPATIAL2020_ToponymMatching\", \"variable_1\": \"total_clones\", \"count\": null}, {\"index\": \"2020-11-25T00:00:00\", \"variable_0\": \"LwM_SIGSPATIAL2020_ToponymMatching\", \"variable_1\": \"total_clones\", \"count\": null}, {\"index\": \"2020-11-28T00:00:00\", \"variable_0\": \"LwM_SIGSPATIAL2020_ToponymMatching\", \"variable_1\": \"total_clones\", \"count\": null}, {\"index\": \"2020-12-01T00:00:00\", \"variable_0\": \"LwM_SIGSPATIAL2020_ToponymMatching\", \"variable_1\": \"total_clones\", \"count\": null}, {\"index\": \"2020-11-20T00:00:00\", \"variable_0\": \"LwM_SIGSPATIAL2020_ToponymMatching\", \"variable_1\": \"total_clones\", \"count\": null}, {\"index\": \"2020-11-21T00:00:00\", \"variable_0\": \"LwM_SIGSPATIAL2020_ToponymMatching\", \"variable_1\": \"total_clones\", \"count\": null}, {\"index\": \"2020-11-26T00:00:00\", \"variable_0\": \"LwM_SIGSPATIAL2020_ToponymMatching\", \"variable_1\": \"total_clones\", \"count\": null}, {\"index\": \"2020-11-30T00:00:00\", \"variable_0\": \"LwM_SIGSPATIAL2020_ToponymMatching\", \"variable_1\": \"total_clones\", \"count\": null}, {\"index\": \"2020-12-03T00:00:00\", \"variable_0\": \"LwM_SIGSPATIAL2020_ToponymMatching\", \"variable_1\": \"total_clones\", \"count\": null}, {\"index\": \"2020-12-02T00:00:00\", \"variable_0\": \"LwM_SIGSPATIAL2020_ToponymMatching\", \"variable_1\": \"unique_clones\", \"count\": null}, {\"index\": \"2020-11-22T00:00:00\", \"variable_0\": \"LwM_SIGSPATIAL2020_ToponymMatching\", \"variable_1\": \"unique_clones\", \"count\": null}, {\"index\": \"2020-11-23T00:00:00\", \"variable_0\": \"LwM_SIGSPATIAL2020_ToponymMatching\", \"variable_1\": \"unique_clones\", \"count\": null}, {\"index\": \"2020-11-24T00:00:00\", \"variable_0\": \"LwM_SIGSPATIAL2020_ToponymMatching\", \"variable_1\": \"unique_clones\", \"count\": null}, {\"index\": \"2020-11-25T00:00:00\", \"variable_0\": \"LwM_SIGSPATIAL2020_ToponymMatching\", \"variable_1\": \"unique_clones\", \"count\": null}, {\"index\": \"2020-11-28T00:00:00\", \"variable_0\": \"LwM_SIGSPATIAL2020_ToponymMatching\", \"variable_1\": \"unique_clones\", \"count\": null}, {\"index\": \"2020-12-01T00:00:00\", \"variable_0\": \"LwM_SIGSPATIAL2020_ToponymMatching\", \"variable_1\": \"unique_clones\", \"count\": null}, {\"index\": \"2020-11-20T00:00:00\", \"variable_0\": \"LwM_SIGSPATIAL2020_ToponymMatching\", \"variable_1\": \"unique_clones\", \"count\": null}, {\"index\": \"2020-11-21T00:00:00\", \"variable_0\": \"LwM_SIGSPATIAL2020_ToponymMatching\", \"variable_1\": \"unique_clones\", \"count\": null}, {\"index\": \"2020-11-26T00:00:00\", \"variable_0\": \"LwM_SIGSPATIAL2020_ToponymMatching\", \"variable_1\": \"unique_clones\", \"count\": null}, {\"index\": \"2020-11-30T00:00:00\", \"variable_0\": \"LwM_SIGSPATIAL2020_ToponymMatching\", \"variable_1\": \"unique_clones\", \"count\": null}, {\"index\": \"2020-12-03T00:00:00\", \"variable_0\": \"LwM_SIGSPATIAL2020_ToponymMatching\", \"variable_1\": \"unique_clones\", \"count\": null}, {\"index\": \"2020-12-02T00:00:00\", \"variable_0\": \"AzureAudit\", \"variable_1\": \"total_clones\", \"count\": null}, {\"index\": \"2020-11-22T00:00:00\", \"variable_0\": \"AzureAudit\", \"variable_1\": \"total_clones\", \"count\": null}, {\"index\": \"2020-11-23T00:00:00\", \"variable_0\": \"AzureAudit\", \"variable_1\": \"total_clones\", \"count\": null}, {\"index\": \"2020-11-24T00:00:00\", \"variable_0\": \"AzureAudit\", \"variable_1\": \"total_clones\", \"count\": null}, {\"index\": \"2020-11-25T00:00:00\", \"variable_0\": \"AzureAudit\", \"variable_1\": \"total_clones\", \"count\": null}, {\"index\": \"2020-11-28T00:00:00\", \"variable_0\": \"AzureAudit\", \"variable_1\": \"total_clones\", \"count\": null}, {\"index\": \"2020-12-01T00:00:00\", \"variable_0\": \"AzureAudit\", \"variable_1\": \"total_clones\", \"count\": null}, {\"index\": \"2020-11-20T00:00:00\", \"variable_0\": \"AzureAudit\", \"variable_1\": \"total_clones\", \"count\": null}, {\"index\": \"2020-11-21T00:00:00\", \"variable_0\": \"AzureAudit\", \"variable_1\": \"total_clones\", \"count\": null}, {\"index\": \"2020-11-26T00:00:00\", \"variable_0\": \"AzureAudit\", \"variable_1\": \"total_clones\", \"count\": null}, {\"index\": \"2020-11-30T00:00:00\", \"variable_0\": \"AzureAudit\", \"variable_1\": \"total_clones\", \"count\": null}, {\"index\": \"2020-12-03T00:00:00\", \"variable_0\": \"AzureAudit\", \"variable_1\": \"total_clones\", \"count\": null}, {\"index\": \"2020-12-02T00:00:00\", \"variable_0\": \"AzureAudit\", \"variable_1\": \"unique_clones\", \"count\": null}, {\"index\": \"2020-11-22T00:00:00\", \"variable_0\": \"AzureAudit\", \"variable_1\": \"unique_clones\", \"count\": null}, {\"index\": \"2020-11-23T00:00:00\", \"variable_0\": \"AzureAudit\", \"variable_1\": \"unique_clones\", \"count\": null}, {\"index\": \"2020-11-24T00:00:00\", \"variable_0\": \"AzureAudit\", \"variable_1\": \"unique_clones\", \"count\": null}, {\"index\": \"2020-11-25T00:00:00\", \"variable_0\": \"AzureAudit\", \"variable_1\": \"unique_clones\", \"count\": null}, {\"index\": \"2020-11-28T00:00:00\", \"variable_0\": \"AzureAudit\", \"variable_1\": \"unique_clones\", \"count\": null}, {\"index\": \"2020-12-01T00:00:00\", \"variable_0\": \"AzureAudit\", \"variable_1\": \"unique_clones\", \"count\": null}, {\"index\": \"2020-11-20T00:00:00\", \"variable_0\": \"AzureAudit\", \"variable_1\": \"unique_clones\", \"count\": null}, {\"index\": \"2020-11-21T00:00:00\", \"variable_0\": \"AzureAudit\", \"variable_1\": \"unique_clones\", \"count\": null}, {\"index\": \"2020-11-26T00:00:00\", \"variable_0\": \"AzureAudit\", \"variable_1\": \"unique_clones\", \"count\": null}, {\"index\": \"2020-11-30T00:00:00\", \"variable_0\": \"AzureAudit\", \"variable_1\": \"unique_clones\", \"count\": null}, {\"index\": \"2020-12-03T00:00:00\", \"variable_0\": \"AzureAudit\", \"variable_1\": \"unique_clones\", \"count\": null}, {\"index\": \"2020-12-02T00:00:00\", \"variable_0\": \"maps-at-scale-hack-day-notebooks\", \"variable_1\": \"total_clones\", \"count\": null}, {\"index\": \"2020-11-22T00:00:00\", \"variable_0\": \"maps-at-scale-hack-day-notebooks\", \"variable_1\": \"total_clones\", \"count\": null}, {\"index\": \"2020-11-23T00:00:00\", \"variable_0\": \"maps-at-scale-hack-day-notebooks\", \"variable_1\": \"total_clones\", \"count\": 7.0}, {\"index\": \"2020-11-24T00:00:00\", \"variable_0\": \"maps-at-scale-hack-day-notebooks\", \"variable_1\": \"total_clones\", \"count\": 1.0}, {\"index\": \"2020-11-25T00:00:00\", \"variable_0\": \"maps-at-scale-hack-day-notebooks\", \"variable_1\": \"total_clones\", \"count\": 2.0}, {\"index\": \"2020-11-28T00:00:00\", \"variable_0\": \"maps-at-scale-hack-day-notebooks\", \"variable_1\": \"total_clones\", \"count\": null}, {\"index\": \"2020-12-01T00:00:00\", \"variable_0\": \"maps-at-scale-hack-day-notebooks\", \"variable_1\": \"total_clones\", \"count\": null}, {\"index\": \"2020-11-20T00:00:00\", \"variable_0\": \"maps-at-scale-hack-day-notebooks\", \"variable_1\": \"total_clones\", \"count\": null}, {\"index\": \"2020-11-21T00:00:00\", \"variable_0\": \"maps-at-scale-hack-day-notebooks\", \"variable_1\": \"total_clones\", \"count\": null}, {\"index\": \"2020-11-26T00:00:00\", \"variable_0\": \"maps-at-scale-hack-day-notebooks\", \"variable_1\": \"total_clones\", \"count\": 4.0}, {\"index\": \"2020-11-30T00:00:00\", \"variable_0\": \"maps-at-scale-hack-day-notebooks\", \"variable_1\": \"total_clones\", \"count\": null}, {\"index\": \"2020-12-03T00:00:00\", \"variable_0\": \"maps-at-scale-hack-day-notebooks\", \"variable_1\": \"total_clones\", \"count\": null}, {\"index\": \"2020-12-02T00:00:00\", \"variable_0\": \"maps-at-scale-hack-day-notebooks\", \"variable_1\": \"unique_clones\", \"count\": null}, {\"index\": \"2020-11-22T00:00:00\", \"variable_0\": \"maps-at-scale-hack-day-notebooks\", \"variable_1\": \"unique_clones\", \"count\": null}, {\"index\": \"2020-11-23T00:00:00\", \"variable_0\": \"maps-at-scale-hack-day-notebooks\", \"variable_1\": \"unique_clones\", \"count\": 1.0}, {\"index\": \"2020-11-24T00:00:00\", \"variable_0\": \"maps-at-scale-hack-day-notebooks\", \"variable_1\": \"unique_clones\", \"count\": 1.0}, {\"index\": \"2020-11-25T00:00:00\", \"variable_0\": \"maps-at-scale-hack-day-notebooks\", \"variable_1\": \"unique_clones\", \"count\": 1.0}, {\"index\": \"2020-11-28T00:00:00\", \"variable_0\": \"maps-at-scale-hack-day-notebooks\", \"variable_1\": \"unique_clones\", \"count\": null}, {\"index\": \"2020-12-01T00:00:00\", \"variable_0\": \"maps-at-scale-hack-day-notebooks\", \"variable_1\": \"unique_clones\", \"count\": null}, {\"index\": \"2020-11-20T00:00:00\", \"variable_0\": \"maps-at-scale-hack-day-notebooks\", \"variable_1\": \"unique_clones\", \"count\": null}, {\"index\": \"2020-11-21T00:00:00\", \"variable_0\": \"maps-at-scale-hack-day-notebooks\", \"variable_1\": \"unique_clones\", \"count\": null}, {\"index\": \"2020-11-26T00:00:00\", \"variable_0\": \"maps-at-scale-hack-day-notebooks\", \"variable_1\": \"unique_clones\", \"count\": 2.0}, {\"index\": \"2020-11-30T00:00:00\", \"variable_0\": \"maps-at-scale-hack-day-notebooks\", \"variable_1\": \"unique_clones\", \"count\": null}, {\"index\": \"2020-12-03T00:00:00\", \"variable_0\": \"maps-at-scale-hack-day-notebooks\", \"variable_1\": \"unique_clones\", \"count\": null}, {\"index\": \"2020-12-02T00:00:00\", \"variable_0\": \"deduplify\", \"variable_1\": \"total_clones\", \"count\": 2.0}, {\"index\": \"2020-11-22T00:00:00\", \"variable_0\": \"deduplify\", \"variable_1\": \"total_clones\", \"count\": null}, {\"index\": \"2020-11-23T00:00:00\", \"variable_0\": \"deduplify\", \"variable_1\": \"total_clones\", \"count\": 2.0}, {\"index\": \"2020-11-24T00:00:00\", \"variable_0\": \"deduplify\", \"variable_1\": \"total_clones\", \"count\": null}, {\"index\": \"2020-11-25T00:00:00\", \"variable_0\": \"deduplify\", \"variable_1\": \"total_clones\", \"count\": 1.0}, {\"index\": \"2020-11-28T00:00:00\", \"variable_0\": \"deduplify\", \"variable_1\": \"total_clones\", \"count\": null}, {\"index\": \"2020-12-01T00:00:00\", \"variable_0\": \"deduplify\", \"variable_1\": \"total_clones\", \"count\": null}, {\"index\": \"2020-11-20T00:00:00\", \"variable_0\": \"deduplify\", \"variable_1\": \"total_clones\", \"count\": 3.0}, {\"index\": \"2020-11-21T00:00:00\", \"variable_0\": \"deduplify\", \"variable_1\": \"total_clones\", \"count\": 1.0}, {\"index\": \"2020-11-26T00:00:00\", \"variable_0\": \"deduplify\", \"variable_1\": \"total_clones\", \"count\": 1.0}, {\"index\": \"2020-11-30T00:00:00\", \"variable_0\": \"deduplify\", \"variable_1\": \"total_clones\", \"count\": null}, {\"index\": \"2020-12-03T00:00:00\", \"variable_0\": \"deduplify\", \"variable_1\": \"total_clones\", \"count\": null}, {\"index\": \"2020-12-02T00:00:00\", \"variable_0\": \"deduplify\", \"variable_1\": \"unique_clones\", \"count\": 2.0}, {\"index\": \"2020-11-22T00:00:00\", \"variable_0\": \"deduplify\", \"variable_1\": \"unique_clones\", \"count\": null}, {\"index\": \"2020-11-23T00:00:00\", \"variable_0\": \"deduplify\", \"variable_1\": \"unique_clones\", \"count\": 2.0}, {\"index\": \"2020-11-24T00:00:00\", \"variable_0\": \"deduplify\", \"variable_1\": \"unique_clones\", \"count\": null}, {\"index\": \"2020-11-25T00:00:00\", \"variable_0\": \"deduplify\", \"variable_1\": \"unique_clones\", \"count\": 1.0}, {\"index\": \"2020-11-28T00:00:00\", \"variable_0\": \"deduplify\", \"variable_1\": \"unique_clones\", \"count\": null}, {\"index\": \"2020-12-01T00:00:00\", \"variable_0\": \"deduplify\", \"variable_1\": \"unique_clones\", \"count\": null}, {\"index\": \"2020-11-20T00:00:00\", \"variable_0\": \"deduplify\", \"variable_1\": \"unique_clones\", \"count\": 2.0}, {\"index\": \"2020-11-21T00:00:00\", \"variable_0\": \"deduplify\", \"variable_1\": \"unique_clones\", \"count\": 1.0}, {\"index\": \"2020-11-26T00:00:00\", \"variable_0\": \"deduplify\", \"variable_1\": \"unique_clones\", \"count\": 1.0}, {\"index\": \"2020-11-30T00:00:00\", \"variable_0\": \"deduplify\", \"variable_1\": \"unique_clones\", \"count\": null}, {\"index\": \"2020-12-03T00:00:00\", \"variable_0\": \"deduplify\", \"variable_1\": \"unique_clones\", \"count\": null}, {\"index\": \"2020-12-02T00:00:00\", \"variable_0\": \"AtypicalAnimacy\", \"variable_1\": \"total_clones\", \"count\": null}, {\"index\": \"2020-11-22T00:00:00\", \"variable_0\": \"AtypicalAnimacy\", \"variable_1\": \"total_clones\", \"count\": null}, {\"index\": \"2020-11-23T00:00:00\", \"variable_0\": \"AtypicalAnimacy\", \"variable_1\": \"total_clones\", \"count\": null}, {\"index\": \"2020-11-24T00:00:00\", \"variable_0\": \"AtypicalAnimacy\", \"variable_1\": \"total_clones\", \"count\": 1.0}, {\"index\": \"2020-11-25T00:00:00\", \"variable_0\": \"AtypicalAnimacy\", \"variable_1\": \"total_clones\", \"count\": null}, {\"index\": \"2020-11-28T00:00:00\", \"variable_0\": \"AtypicalAnimacy\", \"variable_1\": \"total_clones\", \"count\": null}, {\"index\": \"2020-12-01T00:00:00\", \"variable_0\": \"AtypicalAnimacy\", \"variable_1\": \"total_clones\", \"count\": null}, {\"index\": \"2020-11-20T00:00:00\", \"variable_0\": \"AtypicalAnimacy\", \"variable_1\": \"total_clones\", \"count\": 1.0}, {\"index\": \"2020-11-21T00:00:00\", \"variable_0\": \"AtypicalAnimacy\", \"variable_1\": \"total_clones\", \"count\": null}, {\"index\": \"2020-11-26T00:00:00\", \"variable_0\": \"AtypicalAnimacy\", \"variable_1\": \"total_clones\", \"count\": null}, {\"index\": \"2020-11-30T00:00:00\", \"variable_0\": \"AtypicalAnimacy\", \"variable_1\": \"total_clones\", \"count\": null}, {\"index\": \"2020-12-03T00:00:00\", \"variable_0\": \"AtypicalAnimacy\", \"variable_1\": \"total_clones\", \"count\": null}, {\"index\": \"2020-12-02T00:00:00\", \"variable_0\": \"AtypicalAnimacy\", \"variable_1\": \"unique_clones\", \"count\": null}, {\"index\": \"2020-11-22T00:00:00\", \"variable_0\": \"AtypicalAnimacy\", \"variable_1\": \"unique_clones\", \"count\": null}, {\"index\": \"2020-11-23T00:00:00\", \"variable_0\": \"AtypicalAnimacy\", \"variable_1\": \"unique_clones\", \"count\": null}, {\"index\": \"2020-11-24T00:00:00\", \"variable_0\": \"AtypicalAnimacy\", \"variable_1\": \"unique_clones\", \"count\": 1.0}, {\"index\": \"2020-11-25T00:00:00\", \"variable_0\": \"AtypicalAnimacy\", \"variable_1\": \"unique_clones\", \"count\": null}, {\"index\": \"2020-11-28T00:00:00\", \"variable_0\": \"AtypicalAnimacy\", \"variable_1\": \"unique_clones\", \"count\": null}, {\"index\": \"2020-12-01T00:00:00\", \"variable_0\": \"AtypicalAnimacy\", \"variable_1\": \"unique_clones\", \"count\": null}, {\"index\": \"2020-11-20T00:00:00\", \"variable_0\": \"AtypicalAnimacy\", \"variable_1\": \"unique_clones\", \"count\": 1.0}, {\"index\": \"2020-11-21T00:00:00\", \"variable_0\": \"AtypicalAnimacy\", \"variable_1\": \"unique_clones\", \"count\": null}, {\"index\": \"2020-11-26T00:00:00\", \"variable_0\": \"AtypicalAnimacy\", \"variable_1\": \"unique_clones\", \"count\": null}, {\"index\": \"2020-11-30T00:00:00\", \"variable_0\": \"AtypicalAnimacy\", \"variable_1\": \"unique_clones\", \"count\": null}, {\"index\": \"2020-12-03T00:00:00\", \"variable_0\": \"AtypicalAnimacy\", \"variable_1\": \"unique_clones\", \"count\": null}, {\"index\": \"2020-12-02T00:00:00\", \"variable_0\": \"computer-vision-DHNordic-2020-workshop\", \"variable_1\": \"total_clones\", \"count\": null}, {\"index\": \"2020-11-22T00:00:00\", \"variable_0\": \"computer-vision-DHNordic-2020-workshop\", \"variable_1\": \"total_clones\", \"count\": null}, {\"index\": \"2020-11-23T00:00:00\", \"variable_0\": \"computer-vision-DHNordic-2020-workshop\", \"variable_1\": \"total_clones\", \"count\": null}, {\"index\": \"2020-11-24T00:00:00\", \"variable_0\": \"computer-vision-DHNordic-2020-workshop\", \"variable_1\": \"total_clones\", \"count\": null}, {\"index\": \"2020-11-25T00:00:00\", \"variable_0\": \"computer-vision-DHNordic-2020-workshop\", \"variable_1\": \"total_clones\", \"count\": null}, {\"index\": \"2020-11-28T00:00:00\", \"variable_0\": \"computer-vision-DHNordic-2020-workshop\", \"variable_1\": \"total_clones\", \"count\": null}, {\"index\": \"2020-12-01T00:00:00\", \"variable_0\": \"computer-vision-DHNordic-2020-workshop\", \"variable_1\": \"total_clones\", \"count\": null}, {\"index\": \"2020-11-20T00:00:00\", \"variable_0\": \"computer-vision-DHNordic-2020-workshop\", \"variable_1\": \"total_clones\", \"count\": null}, {\"index\": \"2020-11-21T00:00:00\", \"variable_0\": \"computer-vision-DHNordic-2020-workshop\", \"variable_1\": \"total_clones\", \"count\": null}, {\"index\": \"2020-11-26T00:00:00\", \"variable_0\": \"computer-vision-DHNordic-2020-workshop\", \"variable_1\": \"total_clones\", \"count\": null}, {\"index\": \"2020-11-30T00:00:00\", \"variable_0\": \"computer-vision-DHNordic-2020-workshop\", \"variable_1\": \"total_clones\", \"count\": null}, {\"index\": \"2020-12-03T00:00:00\", \"variable_0\": \"computer-vision-DHNordic-2020-workshop\", \"variable_1\": \"total_clones\", \"count\": null}, {\"index\": \"2020-12-02T00:00:00\", \"variable_0\": \"computer-vision-DHNordic-2020-workshop\", \"variable_1\": \"unique_clones\", \"count\": null}, {\"index\": \"2020-11-22T00:00:00\", \"variable_0\": \"computer-vision-DHNordic-2020-workshop\", \"variable_1\": \"unique_clones\", \"count\": null}, {\"index\": \"2020-11-23T00:00:00\", \"variable_0\": \"computer-vision-DHNordic-2020-workshop\", \"variable_1\": \"unique_clones\", \"count\": null}, {\"index\": \"2020-11-24T00:00:00\", \"variable_0\": \"computer-vision-DHNordic-2020-workshop\", \"variable_1\": \"unique_clones\", \"count\": null}, {\"index\": \"2020-11-25T00:00:00\", \"variable_0\": \"computer-vision-DHNordic-2020-workshop\", \"variable_1\": \"unique_clones\", \"count\": null}, {\"index\": \"2020-11-28T00:00:00\", \"variable_0\": \"computer-vision-DHNordic-2020-workshop\", \"variable_1\": \"unique_clones\", \"count\": null}, {\"index\": \"2020-12-01T00:00:00\", \"variable_0\": \"computer-vision-DHNordic-2020-workshop\", \"variable_1\": \"unique_clones\", \"count\": null}, {\"index\": \"2020-11-20T00:00:00\", \"variable_0\": \"computer-vision-DHNordic-2020-workshop\", \"variable_1\": \"unique_clones\", \"count\": null}, {\"index\": \"2020-11-21T00:00:00\", \"variable_0\": \"computer-vision-DHNordic-2020-workshop\", \"variable_1\": \"unique_clones\", \"count\": null}, {\"index\": \"2020-11-26T00:00:00\", \"variable_0\": \"computer-vision-DHNordic-2020-workshop\", \"variable_1\": \"unique_clones\", \"count\": null}, {\"index\": \"2020-11-30T00:00:00\", \"variable_0\": \"computer-vision-DHNordic-2020-workshop\", \"variable_1\": \"unique_clones\", \"count\": null}, {\"index\": \"2020-12-03T00:00:00\", \"variable_0\": \"computer-vision-DHNordic-2020-workshop\", \"variable_1\": \"unique_clones\", \"count\": null}, {\"index\": \"2020-12-02T00:00:00\", \"variable_0\": \"maps-at-scale-using-computer-vision-and-jupyter-notebooks\", \"variable_1\": \"total_clones\", \"count\": null}, {\"index\": \"2020-11-22T00:00:00\", \"variable_0\": \"maps-at-scale-using-computer-vision-and-jupyter-notebooks\", \"variable_1\": \"total_clones\", \"count\": null}, {\"index\": \"2020-11-23T00:00:00\", \"variable_0\": \"maps-at-scale-using-computer-vision-and-jupyter-notebooks\", \"variable_1\": \"total_clones\", \"count\": 6.0}, {\"index\": \"2020-11-24T00:00:00\", \"variable_0\": \"maps-at-scale-using-computer-vision-and-jupyter-notebooks\", \"variable_1\": \"total_clones\", \"count\": 3.0}, {\"index\": \"2020-11-25T00:00:00\", \"variable_0\": \"maps-at-scale-using-computer-vision-and-jupyter-notebooks\", \"variable_1\": \"total_clones\", \"count\": 6.0}, {\"index\": \"2020-11-28T00:00:00\", \"variable_0\": \"maps-at-scale-using-computer-vision-and-jupyter-notebooks\", \"variable_1\": \"total_clones\", \"count\": null}, {\"index\": \"2020-12-01T00:00:00\", \"variable_0\": \"maps-at-scale-using-computer-vision-and-jupyter-notebooks\", \"variable_1\": \"total_clones\", \"count\": null}, {\"index\": \"2020-11-20T00:00:00\", \"variable_0\": \"maps-at-scale-using-computer-vision-and-jupyter-notebooks\", \"variable_1\": \"total_clones\", \"count\": null}, {\"index\": \"2020-11-21T00:00:00\", \"variable_0\": \"maps-at-scale-using-computer-vision-and-jupyter-notebooks\", \"variable_1\": \"total_clones\", \"count\": null}, {\"index\": \"2020-11-26T00:00:00\", \"variable_0\": \"maps-at-scale-using-computer-vision-and-jupyter-notebooks\", \"variable_1\": \"total_clones\", \"count\": null}, {\"index\": \"2020-11-30T00:00:00\", \"variable_0\": \"maps-at-scale-using-computer-vision-and-jupyter-notebooks\", \"variable_1\": \"total_clones\", \"count\": null}, {\"index\": \"2020-12-03T00:00:00\", \"variable_0\": \"maps-at-scale-using-computer-vision-and-jupyter-notebooks\", \"variable_1\": \"total_clones\", \"count\": 1.0}, {\"index\": \"2020-12-02T00:00:00\", \"variable_0\": \"maps-at-scale-using-computer-vision-and-jupyter-notebooks\", \"variable_1\": \"unique_clones\", \"count\": null}, {\"index\": \"2020-11-22T00:00:00\", \"variable_0\": \"maps-at-scale-using-computer-vision-and-jupyter-notebooks\", \"variable_1\": \"unique_clones\", \"count\": null}, {\"index\": \"2020-11-23T00:00:00\", \"variable_0\": \"maps-at-scale-using-computer-vision-and-jupyter-notebooks\", \"variable_1\": \"unique_clones\", \"count\": 1.0}, {\"index\": \"2020-11-24T00:00:00\", \"variable_0\": \"maps-at-scale-using-computer-vision-and-jupyter-notebooks\", \"variable_1\": \"unique_clones\", \"count\": 1.0}, {\"index\": \"2020-11-25T00:00:00\", \"variable_0\": \"maps-at-scale-using-computer-vision-and-jupyter-notebooks\", \"variable_1\": \"unique_clones\", \"count\": 1.0}, {\"index\": \"2020-11-28T00:00:00\", \"variable_0\": \"maps-at-scale-using-computer-vision-and-jupyter-notebooks\", \"variable_1\": \"unique_clones\", \"count\": null}, {\"index\": \"2020-12-01T00:00:00\", \"variable_0\": \"maps-at-scale-using-computer-vision-and-jupyter-notebooks\", \"variable_1\": \"unique_clones\", \"count\": null}, {\"index\": \"2020-11-20T00:00:00\", \"variable_0\": \"maps-at-scale-using-computer-vision-and-jupyter-notebooks\", \"variable_1\": \"unique_clones\", \"count\": null}, {\"index\": \"2020-11-21T00:00:00\", \"variable_0\": \"maps-at-scale-using-computer-vision-and-jupyter-notebooks\", \"variable_1\": \"unique_clones\", \"count\": null}, {\"index\": \"2020-11-26T00:00:00\", \"variable_0\": \"maps-at-scale-using-computer-vision-and-jupyter-notebooks\", \"variable_1\": \"unique_clones\", \"count\": null}, {\"index\": \"2020-11-30T00:00:00\", \"variable_0\": \"maps-at-scale-using-computer-vision-and-jupyter-notebooks\", \"variable_1\": \"unique_clones\", \"count\": null}, {\"index\": \"2020-12-03T00:00:00\", \"variable_0\": \"maps-at-scale-using-computer-vision-and-jupyter-notebooks\", \"variable_1\": \"unique_clones\", \"count\": 1.0}, {\"index\": \"2020-12-02T00:00:00\", \"variable_0\": \"gh_orgstats\", \"variable_1\": \"total_clones\", \"count\": 41.0}, {\"index\": \"2020-11-22T00:00:00\", \"variable_0\": \"gh_orgstats\", \"variable_1\": \"total_clones\", \"count\": null}, {\"index\": \"2020-11-23T00:00:00\", \"variable_0\": \"gh_orgstats\", \"variable_1\": \"total_clones\", \"count\": null}, {\"index\": \"2020-11-24T00:00:00\", \"variable_0\": \"gh_orgstats\", \"variable_1\": \"total_clones\", \"count\": null}, {\"index\": \"2020-11-25T00:00:00\", \"variable_0\": \"gh_orgstats\", \"variable_1\": \"total_clones\", \"count\": null}, {\"index\": \"2020-11-28T00:00:00\", \"variable_0\": \"gh_orgstats\", \"variable_1\": \"total_clones\", \"count\": null}, {\"index\": \"2020-12-01T00:00:00\", \"variable_0\": \"gh_orgstats\", \"variable_1\": \"total_clones\", \"count\": 18.0}, {\"index\": \"2020-11-20T00:00:00\", \"variable_0\": \"gh_orgstats\", \"variable_1\": \"total_clones\", \"count\": null}, {\"index\": \"2020-11-21T00:00:00\", \"variable_0\": \"gh_orgstats\", \"variable_1\": \"total_clones\", \"count\": null}, {\"index\": \"2020-11-26T00:00:00\", \"variable_0\": \"gh_orgstats\", \"variable_1\": \"total_clones\", \"count\": null}, {\"index\": \"2020-11-30T00:00:00\", \"variable_0\": \"gh_orgstats\", \"variable_1\": \"total_clones\", \"count\": null}, {\"index\": \"2020-12-03T00:00:00\", \"variable_0\": \"gh_orgstats\", \"variable_1\": \"total_clones\", \"count\": 6.0}, {\"index\": \"2020-12-02T00:00:00\", \"variable_0\": \"gh_orgstats\", \"variable_1\": \"unique_clones\", \"count\": 23.0}, {\"index\": \"2020-11-22T00:00:00\", \"variable_0\": \"gh_orgstats\", \"variable_1\": \"unique_clones\", \"count\": null}, {\"index\": \"2020-11-23T00:00:00\", \"variable_0\": \"gh_orgstats\", \"variable_1\": \"unique_clones\", \"count\": null}, {\"index\": \"2020-11-24T00:00:00\", \"variable_0\": \"gh_orgstats\", \"variable_1\": \"unique_clones\", \"count\": null}, {\"index\": \"2020-11-25T00:00:00\", \"variable_0\": \"gh_orgstats\", \"variable_1\": \"unique_clones\", \"count\": null}, {\"index\": \"2020-11-28T00:00:00\", \"variable_0\": \"gh_orgstats\", \"variable_1\": \"unique_clones\", \"count\": null}, {\"index\": \"2020-12-01T00:00:00\", \"variable_0\": \"gh_orgstats\", \"variable_1\": \"unique_clones\", \"count\": 9.0}, {\"index\": \"2020-11-20T00:00:00\", \"variable_0\": \"gh_orgstats\", \"variable_1\": \"unique_clones\", \"count\": null}, {\"index\": \"2020-11-21T00:00:00\", \"variable_0\": \"gh_orgstats\", \"variable_1\": \"unique_clones\", \"count\": null}, {\"index\": \"2020-11-26T00:00:00\", \"variable_0\": \"gh_orgstats\", \"variable_1\": \"unique_clones\", \"count\": null}, {\"index\": \"2020-11-30T00:00:00\", \"variable_0\": \"gh_orgstats\", \"variable_1\": \"unique_clones\", \"count\": null}, {\"index\": \"2020-12-03T00:00:00\", \"variable_0\": \"gh_orgstats\", \"variable_1\": \"unique_clones\", \"count\": 6.0}, {\"index\": \"2020-12-02T00:00:00\", \"variable_0\": \"GazFuse\", \"variable_1\": \"total_clones\", \"count\": null}, {\"index\": \"2020-11-22T00:00:00\", \"variable_0\": \"GazFuse\", \"variable_1\": \"total_clones\", \"count\": null}, {\"index\": \"2020-11-23T00:00:00\", \"variable_0\": \"GazFuse\", \"variable_1\": \"total_clones\", \"count\": null}, {\"index\": \"2020-11-24T00:00:00\", \"variable_0\": \"GazFuse\", \"variable_1\": \"total_clones\", \"count\": null}, {\"index\": \"2020-11-25T00:00:00\", \"variable_0\": \"GazFuse\", \"variable_1\": \"total_clones\", \"count\": null}, {\"index\": \"2020-11-28T00:00:00\", \"variable_0\": \"GazFuse\", \"variable_1\": \"total_clones\", \"count\": null}, {\"index\": \"2020-12-01T00:00:00\", \"variable_0\": \"GazFuse\", \"variable_1\": \"total_clones\", \"count\": null}, {\"index\": \"2020-11-20T00:00:00\", \"variable_0\": \"GazFuse\", \"variable_1\": \"total_clones\", \"count\": null}, {\"index\": \"2020-11-21T00:00:00\", \"variable_0\": \"GazFuse\", \"variable_1\": \"total_clones\", \"count\": null}, {\"index\": \"2020-11-26T00:00:00\", \"variable_0\": \"GazFuse\", \"variable_1\": \"total_clones\", \"count\": null}, {\"index\": \"2020-11-30T00:00:00\", \"variable_0\": \"GazFuse\", \"variable_1\": \"total_clones\", \"count\": null}, {\"index\": \"2020-12-03T00:00:00\", \"variable_0\": \"GazFuse\", \"variable_1\": \"total_clones\", \"count\": 1.0}, {\"index\": \"2020-12-02T00:00:00\", \"variable_0\": \"GazFuse\", \"variable_1\": \"unique_clones\", \"count\": null}, {\"index\": \"2020-11-22T00:00:00\", \"variable_0\": \"GazFuse\", \"variable_1\": \"unique_clones\", \"count\": null}, {\"index\": \"2020-11-23T00:00:00\", \"variable_0\": \"GazFuse\", \"variable_1\": \"unique_clones\", \"count\": null}, {\"index\": \"2020-11-24T00:00:00\", \"variable_0\": \"GazFuse\", \"variable_1\": \"unique_clones\", \"count\": null}, {\"index\": \"2020-11-25T00:00:00\", \"variable_0\": \"GazFuse\", \"variable_1\": \"unique_clones\", \"count\": null}, {\"index\": \"2020-11-28T00:00:00\", \"variable_0\": \"GazFuse\", \"variable_1\": \"unique_clones\", \"count\": null}, {\"index\": \"2020-12-01T00:00:00\", \"variable_0\": \"GazFuse\", \"variable_1\": \"unique_clones\", \"count\": null}, {\"index\": \"2020-11-20T00:00:00\", \"variable_0\": \"GazFuse\", \"variable_1\": \"unique_clones\", \"count\": null}, {\"index\": \"2020-11-21T00:00:00\", \"variable_0\": \"GazFuse\", \"variable_1\": \"unique_clones\", \"count\": null}, {\"index\": \"2020-11-26T00:00:00\", \"variable_0\": \"GazFuse\", \"variable_1\": \"unique_clones\", \"count\": null}, {\"index\": \"2020-11-30T00:00:00\", \"variable_0\": \"GazFuse\", \"variable_1\": \"unique_clones\", \"count\": null}, {\"index\": \"2020-12-03T00:00:00\", \"variable_0\": \"GazFuse\", \"variable_1\": \"unique_clones\", \"count\": 1.0}]}}, {\"mode\": \"vega-lite\"});\n",
       "</script>"
      ],
      "text/plain": [
       "alt.VConcatChart(...)"
      ]
     },
     "execution_count": 1,
     "metadata": {},
     "output_type": "execute_result"
    }
   ],
   "source": [
    "brush = alt.selection(type=\"interval\")\n",
    "chart = (\n",
    "    alt.Chart(data)\n",
    "    .mark_area()\n",
    "    .encode(\n",
    "        x=alt.X(\"index:T\", axis=alt.Axis(tickCount=24, title=\"Date\")),\n",
    "        y=\"sum(count):Q\",\n",
    "        color=alt.Color(\"variable_0:N\", title=\"Repository\"),\n",
    "     \n",
    "    )\n",
    "    .transform_filter(alt.FieldEqualPredicate(field=\"variable_1\", equal=\"total_clones\"))\n",
    "    .properties(width=WIDTH, title=\"Total clones\")\n",
    "    .add_selection(brush)\n",
    ")\n",
    "\n",
    "bar = (\n",
    "    alt.Chart(data)\n",
    "    .mark_bar()\n",
    "    .encode(\n",
    "        y=alt.Y(\"variable_1:N\", title=None),\n",
    "        x=\"count:Q\",\n",
    "        color=alt.Color(\"variable_0:N\", title=\"Repository\"),tooltip=\"count:Q\"\n",
    "    )\n",
    "    .properties(title=\"Clons by type\")\n",
    "    .transform_filter(brush)\n",
    ")\n",
    "\n",
    "chart & bar"
   ]
  },
  {
   "cell_type": "markdown",
   "metadata": {},
   "source": [
    "### Total clones counts by repository "
   ]
  },
  {
   "cell_type": "code",
   "execution_count": 32,
   "metadata": {
    "execution": {
     "iopub.execute_input": "2020-12-03T17:37:53.883052Z",
     "iopub.status.busy": "2020-12-03T17:37:53.882274Z",
     "iopub.status.idle": "2020-12-03T17:37:55.399564Z",
     "shell.execute_reply": "2020-12-03T17:37:55.400224Z"
    }
   },
   "outputs": [
    {
     "data": {
      "text/html": [
       "<div>\n",
       "<style scoped>\n",
       "    .dataframe tbody tr th:only-of-type {\n",
       "        vertical-align: middle;\n",
       "    }\n",
       "\n",
       "    .dataframe tbody tr th {\n",
       "        vertical-align: top;\n",
       "    }\n",
       "\n",
       "    .dataframe thead th {\n",
       "        text-align: right;\n",
       "    }\n",
       "</style>\n",
       "<table border=\"1\" class=\"dataframe\">\n",
       "  <thead>\n",
       "    <tr style=\"text-align: right;\">\n",
       "      <th></th>\n",
       "      <th></th>\n",
       "      <th>Clone counts</th>\n",
       "    </tr>\n",
       "  </thead>\n",
       "  <tbody>\n",
       "    <tr>\n",
       "      <th rowspan=\"2\" valign=\"top\">lwm_ARTIDIGH_2020_OCR_impact_downstream_NLP_tasks</th>\n",
       "      <th>total_clones</th>\n",
       "      <td>1.0</td>\n",
       "    </tr>\n",
       "    <tr>\n",
       "      <th>unique_clones</th>\n",
       "      <td>1.0</td>\n",
       "    </tr>\n",
       "    <tr>\n",
       "      <th rowspan=\"2\" valign=\"top\">lwm_GIR19_resolving_places</th>\n",
       "      <th>total_clones</th>\n",
       "      <td>0.0</td>\n",
       "    </tr>\n",
       "    <tr>\n",
       "      <th>unique_clones</th>\n",
       "      <td>0.0</td>\n",
       "    </tr>\n",
       "    <tr>\n",
       "      <th rowspan=\"2\" valign=\"top\">D3_JS_viz_in_a_Python_Jupyter_notebook</th>\n",
       "      <th>total_clones</th>\n",
       "      <td>13.0</td>\n",
       "    </tr>\n",
       "    <tr>\n",
       "      <th>unique_clones</th>\n",
       "      <td>6.0</td>\n",
       "    </tr>\n",
       "    <tr>\n",
       "      <th rowspan=\"2\" valign=\"top\">DeezyMatch</th>\n",
       "      <th>total_clones</th>\n",
       "      <td>21.0</td>\n",
       "    </tr>\n",
       "    <tr>\n",
       "      <th>unique_clones</th>\n",
       "      <td>21.0</td>\n",
       "    </tr>\n",
       "    <tr>\n",
       "      <th rowspan=\"2\" valign=\"top\">LwM_SIGSPATIAL2020_ToponymMatching</th>\n",
       "      <th>total_clones</th>\n",
       "      <td>0.0</td>\n",
       "    </tr>\n",
       "    <tr>\n",
       "      <th>unique_clones</th>\n",
       "      <td>0.0</td>\n",
       "    </tr>\n",
       "    <tr>\n",
       "      <th rowspan=\"2\" valign=\"top\">AzureAudit</th>\n",
       "      <th>total_clones</th>\n",
       "      <td>0.0</td>\n",
       "    </tr>\n",
       "    <tr>\n",
       "      <th>unique_clones</th>\n",
       "      <td>0.0</td>\n",
       "    </tr>\n",
       "    <tr>\n",
       "      <th rowspan=\"2\" valign=\"top\">maps-at-scale-hack-day-notebooks</th>\n",
       "      <th>total_clones</th>\n",
       "      <td>14.0</td>\n",
       "    </tr>\n",
       "    <tr>\n",
       "      <th>unique_clones</th>\n",
       "      <td>5.0</td>\n",
       "    </tr>\n",
       "    <tr>\n",
       "      <th rowspan=\"2\" valign=\"top\">deduplify</th>\n",
       "      <th>total_clones</th>\n",
       "      <td>10.0</td>\n",
       "    </tr>\n",
       "    <tr>\n",
       "      <th>unique_clones</th>\n",
       "      <td>9.0</td>\n",
       "    </tr>\n",
       "    <tr>\n",
       "      <th rowspan=\"2\" valign=\"top\">AtypicalAnimacy</th>\n",
       "      <th>total_clones</th>\n",
       "      <td>2.0</td>\n",
       "    </tr>\n",
       "    <tr>\n",
       "      <th>unique_clones</th>\n",
       "      <td>2.0</td>\n",
       "    </tr>\n",
       "    <tr>\n",
       "      <th rowspan=\"2\" valign=\"top\">computer-vision-DHNordic-2020-workshop</th>\n",
       "      <th>total_clones</th>\n",
       "      <td>0.0</td>\n",
       "    </tr>\n",
       "    <tr>\n",
       "      <th>unique_clones</th>\n",
       "      <td>0.0</td>\n",
       "    </tr>\n",
       "    <tr>\n",
       "      <th rowspan=\"2\" valign=\"top\">maps-at-scale-using-computer-vision-and-jupyter-notebooks</th>\n",
       "      <th>total_clones</th>\n",
       "      <td>16.0</td>\n",
       "    </tr>\n",
       "    <tr>\n",
       "      <th>unique_clones</th>\n",
       "      <td>4.0</td>\n",
       "    </tr>\n",
       "    <tr>\n",
       "      <th rowspan=\"2\" valign=\"top\">gh_orgstats</th>\n",
       "      <th>total_clones</th>\n",
       "      <td>65.0</td>\n",
       "    </tr>\n",
       "    <tr>\n",
       "      <th>unique_clones</th>\n",
       "      <td>38.0</td>\n",
       "    </tr>\n",
       "    <tr>\n",
       "      <th rowspan=\"2\" valign=\"top\">GazFuse</th>\n",
       "      <th>total_clones</th>\n",
       "      <td>1.0</td>\n",
       "    </tr>\n",
       "    <tr>\n",
       "      <th>unique_clones</th>\n",
       "      <td>1.0</td>\n",
       "    </tr>\n",
       "  </tbody>\n",
       "</table>\n",
       "</div>"
      ],
      "text/plain": [
       "                                                                  Clone counts\n",
       "lwm_ARTIDIGH_2020_OCR_impact_downstream_NLP_tasks  total_clones            1.0\n",
       "                                                   unique_clones           1.0\n",
       "lwm_GIR19_resolving_places                         total_clones            0.0\n",
       "                                                   unique_clones           0.0\n",
       "D3_JS_viz_in_a_Python_Jupyter_notebook             total_clones           13.0\n",
       "                                                   unique_clones           6.0\n",
       "DeezyMatch                                         total_clones           21.0\n",
       "                                                   unique_clones          21.0\n",
       "LwM_SIGSPATIAL2020_ToponymMatching                 total_clones            0.0\n",
       "                                                   unique_clones           0.0\n",
       "AzureAudit                                         total_clones            0.0\n",
       "                                                   unique_clones           0.0\n",
       "maps-at-scale-hack-day-notebooks                   total_clones           14.0\n",
       "                                                   unique_clones           5.0\n",
       "deduplify                                          total_clones           10.0\n",
       "                                                   unique_clones           9.0\n",
       "AtypicalAnimacy                                    total_clones            2.0\n",
       "                                                   unique_clones           2.0\n",
       "computer-vision-DHNordic-2020-workshop             total_clones            0.0\n",
       "                                                   unique_clones           0.0\n",
       "maps-at-scale-using-computer-vision-and-jupyter... total_clones           16.0\n",
       "                                                   unique_clones           4.0\n",
       "gh_orgstats                                        total_clones           65.0\n",
       "                                                   unique_clones          38.0\n",
       "GazFuse                                            total_clones            1.0\n",
       "                                                   unique_clones           1.0"
      ]
     },
     "execution_count": 1,
     "metadata": {},
     "output_type": "execute_result"
    }
   ],
   "source": [
    "df = lwm_stats.get_org_clones_traffic(public_only=True, load=True)\n",
    "pd.DataFrame(df.sum(),columns=['Clone counts'])"
   ]
  },
  {
   "cell_type": "markdown",
   "metadata": {},
   "source": [
    "### Mean clones by day of week"
   ]
  },
  {
   "cell_type": "code",
   "execution_count": 33,
   "metadata": {
    "execution": {
     "iopub.execute_input": "2020-12-03T17:37:55.434642Z",
     "iopub.status.busy": "2020-12-03T17:37:55.419571Z",
     "iopub.status.idle": "2020-12-03T17:37:55.444083Z",
     "shell.execute_reply": "2020-12-03T17:37:55.444633Z"
    }
   },
   "outputs": [
    {
     "data": {
      "text/html": [
       "\n",
       "<div id=\"altair-viz-f2ed2d3f564943349cee92310c2d0923\"></div>\n",
       "<script type=\"text/javascript\">\n",
       "  (function(spec, embedOpt){\n",
       "    let outputDiv = document.currentScript.previousElementSibling;\n",
       "    if (outputDiv.id !== \"altair-viz-f2ed2d3f564943349cee92310c2d0923\") {\n",
       "      outputDiv = document.getElementById(\"altair-viz-f2ed2d3f564943349cee92310c2d0923\");\n",
       "    }\n",
       "    const paths = {\n",
       "      \"vega\": \"https://cdn.jsdelivr.net/npm//vega@5?noext\",\n",
       "      \"vega-lib\": \"https://cdn.jsdelivr.net/npm//vega-lib?noext\",\n",
       "      \"vega-lite\": \"https://cdn.jsdelivr.net/npm//vega-lite@4.8.1?noext\",\n",
       "      \"vega-embed\": \"https://cdn.jsdelivr.net/npm//vega-embed@6?noext\",\n",
       "    };\n",
       "\n",
       "    function loadScript(lib) {\n",
       "      return new Promise(function(resolve, reject) {\n",
       "        var s = document.createElement('script');\n",
       "        s.src = paths[lib];\n",
       "        s.async = true;\n",
       "        s.onload = () => resolve(paths[lib]);\n",
       "        s.onerror = () => reject(`Error loading script: ${paths[lib]}`);\n",
       "        document.getElementsByTagName(\"head\")[0].appendChild(s);\n",
       "      });\n",
       "    }\n",
       "\n",
       "    function showError(err) {\n",
       "      outputDiv.innerHTML = `<div class=\"error\" style=\"color:red;\">${err}</div>`;\n",
       "      throw err;\n",
       "    }\n",
       "\n",
       "    function displayChart(vegaEmbed) {\n",
       "      vegaEmbed(outputDiv, spec, embedOpt)\n",
       "        .catch(err => showError(`Javascript Error: ${err.message}<br>This usually means there's a typo in your chart specification. See the javascript console for the full traceback.`));\n",
       "    }\n",
       "\n",
       "    if(typeof define === \"function\" && define.amd) {\n",
       "      requirejs.config({paths});\n",
       "      require([\"vega-embed\"], displayChart, err => showError(`Error loading script: ${err.message}`));\n",
       "    } else if (typeof vegaEmbed === \"function\") {\n",
       "      displayChart(vegaEmbed);\n",
       "    } else {\n",
       "      loadScript(\"vega\")\n",
       "        .then(() => loadScript(\"vega-lite\"))\n",
       "        .then(() => loadScript(\"vega-embed\"))\n",
       "        .catch(showError)\n",
       "        .then(() => displayChart(vegaEmbed));\n",
       "    }\n",
       "  })({\"config\": {\"view\": {\"continuousWidth\": 400, \"continuousHeight\": 300}}, \"data\": {\"name\": \"data-b880b9a2677bfc08a225d5b1e9774c7a\"}, \"mark\": \"bar\", \"encoding\": {\"color\": {\"type\": \"nominal\", \"field\": \"variable_1\", \"title\": \"Clone type\"}, \"x\": {\"type\": \"quantitative\", \"aggregate\": \"mean\", \"field\": \"count\"}, \"y\": {\"type\": \"ordinal\", \"field\": \"index\", \"timeUnit\": \"day\", \"title\": \"Day\"}}, \"title\": \"Mean clones by Day\", \"width\": 650, \"$schema\": \"https://vega.github.io/schema/vega-lite/v4.8.1.json\", \"datasets\": {\"data-b880b9a2677bfc08a225d5b1e9774c7a\": [{\"index\": \"2020-12-02T00:00:00\", \"variable_0\": \"lwm_ARTIDIGH_2020_OCR_impact_downstream_NLP_tasks\", \"variable_1\": \"total_clones\", \"count\": 1.0}, {\"index\": \"2020-11-22T00:00:00\", \"variable_0\": \"lwm_ARTIDIGH_2020_OCR_impact_downstream_NLP_tasks\", \"variable_1\": \"total_clones\", \"count\": null}, {\"index\": \"2020-11-23T00:00:00\", \"variable_0\": \"lwm_ARTIDIGH_2020_OCR_impact_downstream_NLP_tasks\", \"variable_1\": \"total_clones\", \"count\": null}, {\"index\": \"2020-11-24T00:00:00\", \"variable_0\": \"lwm_ARTIDIGH_2020_OCR_impact_downstream_NLP_tasks\", \"variable_1\": \"total_clones\", \"count\": null}, {\"index\": \"2020-11-25T00:00:00\", \"variable_0\": \"lwm_ARTIDIGH_2020_OCR_impact_downstream_NLP_tasks\", \"variable_1\": \"total_clones\", \"count\": null}, {\"index\": \"2020-11-28T00:00:00\", \"variable_0\": \"lwm_ARTIDIGH_2020_OCR_impact_downstream_NLP_tasks\", \"variable_1\": \"total_clones\", \"count\": null}, {\"index\": \"2020-12-01T00:00:00\", \"variable_0\": \"lwm_ARTIDIGH_2020_OCR_impact_downstream_NLP_tasks\", \"variable_1\": \"total_clones\", \"count\": null}, {\"index\": \"2020-11-20T00:00:00\", \"variable_0\": \"lwm_ARTIDIGH_2020_OCR_impact_downstream_NLP_tasks\", \"variable_1\": \"total_clones\", \"count\": null}, {\"index\": \"2020-11-21T00:00:00\", \"variable_0\": \"lwm_ARTIDIGH_2020_OCR_impact_downstream_NLP_tasks\", \"variable_1\": \"total_clones\", \"count\": null}, {\"index\": \"2020-11-26T00:00:00\", \"variable_0\": \"lwm_ARTIDIGH_2020_OCR_impact_downstream_NLP_tasks\", \"variable_1\": \"total_clones\", \"count\": null}, {\"index\": \"2020-11-30T00:00:00\", \"variable_0\": \"lwm_ARTIDIGH_2020_OCR_impact_downstream_NLP_tasks\", \"variable_1\": \"total_clones\", \"count\": null}, {\"index\": \"2020-12-03T00:00:00\", \"variable_0\": \"lwm_ARTIDIGH_2020_OCR_impact_downstream_NLP_tasks\", \"variable_1\": \"total_clones\", \"count\": null}, {\"index\": \"2020-12-02T00:00:00\", \"variable_0\": \"lwm_ARTIDIGH_2020_OCR_impact_downstream_NLP_tasks\", \"variable_1\": \"unique_clones\", \"count\": 1.0}, {\"index\": \"2020-11-22T00:00:00\", \"variable_0\": \"lwm_ARTIDIGH_2020_OCR_impact_downstream_NLP_tasks\", \"variable_1\": \"unique_clones\", \"count\": null}, {\"index\": \"2020-11-23T00:00:00\", \"variable_0\": \"lwm_ARTIDIGH_2020_OCR_impact_downstream_NLP_tasks\", \"variable_1\": \"unique_clones\", \"count\": null}, {\"index\": \"2020-11-24T00:00:00\", \"variable_0\": \"lwm_ARTIDIGH_2020_OCR_impact_downstream_NLP_tasks\", \"variable_1\": \"unique_clones\", \"count\": null}, {\"index\": \"2020-11-25T00:00:00\", \"variable_0\": \"lwm_ARTIDIGH_2020_OCR_impact_downstream_NLP_tasks\", \"variable_1\": \"unique_clones\", \"count\": null}, {\"index\": \"2020-11-28T00:00:00\", \"variable_0\": \"lwm_ARTIDIGH_2020_OCR_impact_downstream_NLP_tasks\", \"variable_1\": \"unique_clones\", \"count\": null}, {\"index\": \"2020-12-01T00:00:00\", \"variable_0\": \"lwm_ARTIDIGH_2020_OCR_impact_downstream_NLP_tasks\", \"variable_1\": \"unique_clones\", \"count\": null}, {\"index\": \"2020-11-20T00:00:00\", \"variable_0\": \"lwm_ARTIDIGH_2020_OCR_impact_downstream_NLP_tasks\", \"variable_1\": \"unique_clones\", \"count\": null}, {\"index\": \"2020-11-21T00:00:00\", \"variable_0\": \"lwm_ARTIDIGH_2020_OCR_impact_downstream_NLP_tasks\", \"variable_1\": \"unique_clones\", \"count\": null}, {\"index\": \"2020-11-26T00:00:00\", \"variable_0\": \"lwm_ARTIDIGH_2020_OCR_impact_downstream_NLP_tasks\", \"variable_1\": \"unique_clones\", \"count\": null}, {\"index\": \"2020-11-30T00:00:00\", \"variable_0\": \"lwm_ARTIDIGH_2020_OCR_impact_downstream_NLP_tasks\", \"variable_1\": \"unique_clones\", \"count\": null}, {\"index\": \"2020-12-03T00:00:00\", \"variable_0\": \"lwm_ARTIDIGH_2020_OCR_impact_downstream_NLP_tasks\", \"variable_1\": \"unique_clones\", \"count\": null}, {\"index\": \"2020-12-02T00:00:00\", \"variable_0\": \"lwm_GIR19_resolving_places\", \"variable_1\": \"total_clones\", \"count\": null}, {\"index\": \"2020-11-22T00:00:00\", \"variable_0\": \"lwm_GIR19_resolving_places\", \"variable_1\": \"total_clones\", \"count\": null}, {\"index\": \"2020-11-23T00:00:00\", \"variable_0\": \"lwm_GIR19_resolving_places\", \"variable_1\": \"total_clones\", \"count\": null}, {\"index\": \"2020-11-24T00:00:00\", \"variable_0\": \"lwm_GIR19_resolving_places\", \"variable_1\": \"total_clones\", \"count\": null}, {\"index\": \"2020-11-25T00:00:00\", \"variable_0\": \"lwm_GIR19_resolving_places\", \"variable_1\": \"total_clones\", \"count\": null}, {\"index\": \"2020-11-28T00:00:00\", \"variable_0\": \"lwm_GIR19_resolving_places\", \"variable_1\": \"total_clones\", \"count\": null}, {\"index\": \"2020-12-01T00:00:00\", \"variable_0\": \"lwm_GIR19_resolving_places\", \"variable_1\": \"total_clones\", \"count\": null}, {\"index\": \"2020-11-20T00:00:00\", \"variable_0\": \"lwm_GIR19_resolving_places\", \"variable_1\": \"total_clones\", \"count\": null}, {\"index\": \"2020-11-21T00:00:00\", \"variable_0\": \"lwm_GIR19_resolving_places\", \"variable_1\": \"total_clones\", \"count\": null}, {\"index\": \"2020-11-26T00:00:00\", \"variable_0\": \"lwm_GIR19_resolving_places\", \"variable_1\": \"total_clones\", \"count\": null}, {\"index\": \"2020-11-30T00:00:00\", \"variable_0\": \"lwm_GIR19_resolving_places\", \"variable_1\": \"total_clones\", \"count\": null}, {\"index\": \"2020-12-03T00:00:00\", \"variable_0\": \"lwm_GIR19_resolving_places\", \"variable_1\": \"total_clones\", \"count\": null}, {\"index\": \"2020-12-02T00:00:00\", \"variable_0\": \"lwm_GIR19_resolving_places\", \"variable_1\": \"unique_clones\", \"count\": null}, {\"index\": \"2020-11-22T00:00:00\", \"variable_0\": \"lwm_GIR19_resolving_places\", \"variable_1\": \"unique_clones\", \"count\": null}, {\"index\": \"2020-11-23T00:00:00\", \"variable_0\": \"lwm_GIR19_resolving_places\", \"variable_1\": \"unique_clones\", \"count\": null}, {\"index\": \"2020-11-24T00:00:00\", \"variable_0\": \"lwm_GIR19_resolving_places\", \"variable_1\": \"unique_clones\", \"count\": null}, {\"index\": \"2020-11-25T00:00:00\", \"variable_0\": \"lwm_GIR19_resolving_places\", \"variable_1\": \"unique_clones\", \"count\": null}, {\"index\": \"2020-11-28T00:00:00\", \"variable_0\": \"lwm_GIR19_resolving_places\", \"variable_1\": \"unique_clones\", \"count\": null}, {\"index\": \"2020-12-01T00:00:00\", \"variable_0\": \"lwm_GIR19_resolving_places\", \"variable_1\": \"unique_clones\", \"count\": null}, {\"index\": \"2020-11-20T00:00:00\", \"variable_0\": \"lwm_GIR19_resolving_places\", \"variable_1\": \"unique_clones\", \"count\": null}, {\"index\": \"2020-11-21T00:00:00\", \"variable_0\": \"lwm_GIR19_resolving_places\", \"variable_1\": \"unique_clones\", \"count\": null}, {\"index\": \"2020-11-26T00:00:00\", \"variable_0\": \"lwm_GIR19_resolving_places\", \"variable_1\": \"unique_clones\", \"count\": null}, {\"index\": \"2020-11-30T00:00:00\", \"variable_0\": \"lwm_GIR19_resolving_places\", \"variable_1\": \"unique_clones\", \"count\": null}, {\"index\": \"2020-12-03T00:00:00\", \"variable_0\": \"lwm_GIR19_resolving_places\", \"variable_1\": \"unique_clones\", \"count\": null}, {\"index\": \"2020-12-02T00:00:00\", \"variable_0\": \"D3_JS_viz_in_a_Python_Jupyter_notebook\", \"variable_1\": \"total_clones\", \"count\": null}, {\"index\": \"2020-11-22T00:00:00\", \"variable_0\": \"D3_JS_viz_in_a_Python_Jupyter_notebook\", \"variable_1\": \"total_clones\", \"count\": 2.0}, {\"index\": \"2020-11-23T00:00:00\", \"variable_0\": \"D3_JS_viz_in_a_Python_Jupyter_notebook\", \"variable_1\": \"total_clones\", \"count\": 5.0}, {\"index\": \"2020-11-24T00:00:00\", \"variable_0\": \"D3_JS_viz_in_a_Python_Jupyter_notebook\", \"variable_1\": \"total_clones\", \"count\": 1.0}, {\"index\": \"2020-11-25T00:00:00\", \"variable_0\": \"D3_JS_viz_in_a_Python_Jupyter_notebook\", \"variable_1\": \"total_clones\", \"count\": 3.0}, {\"index\": \"2020-11-28T00:00:00\", \"variable_0\": \"D3_JS_viz_in_a_Python_Jupyter_notebook\", \"variable_1\": \"total_clones\", \"count\": 1.0}, {\"index\": \"2020-12-01T00:00:00\", \"variable_0\": \"D3_JS_viz_in_a_Python_Jupyter_notebook\", \"variable_1\": \"total_clones\", \"count\": 1.0}, {\"index\": \"2020-11-20T00:00:00\", \"variable_0\": \"D3_JS_viz_in_a_Python_Jupyter_notebook\", \"variable_1\": \"total_clones\", \"count\": null}, {\"index\": \"2020-11-21T00:00:00\", \"variable_0\": \"D3_JS_viz_in_a_Python_Jupyter_notebook\", \"variable_1\": \"total_clones\", \"count\": null}, {\"index\": \"2020-11-26T00:00:00\", \"variable_0\": \"D3_JS_viz_in_a_Python_Jupyter_notebook\", \"variable_1\": \"total_clones\", \"count\": null}, {\"index\": \"2020-11-30T00:00:00\", \"variable_0\": \"D3_JS_viz_in_a_Python_Jupyter_notebook\", \"variable_1\": \"total_clones\", \"count\": null}, {\"index\": \"2020-12-03T00:00:00\", \"variable_0\": \"D3_JS_viz_in_a_Python_Jupyter_notebook\", \"variable_1\": \"total_clones\", \"count\": null}, {\"index\": \"2020-12-02T00:00:00\", \"variable_0\": \"D3_JS_viz_in_a_Python_Jupyter_notebook\", \"variable_1\": \"unique_clones\", \"count\": null}, {\"index\": \"2020-11-22T00:00:00\", \"variable_0\": \"D3_JS_viz_in_a_Python_Jupyter_notebook\", \"variable_1\": \"unique_clones\", \"count\": 1.0}, {\"index\": \"2020-11-23T00:00:00\", \"variable_0\": \"D3_JS_viz_in_a_Python_Jupyter_notebook\", \"variable_1\": \"unique_clones\", \"count\": 1.0}, {\"index\": \"2020-11-24T00:00:00\", \"variable_0\": \"D3_JS_viz_in_a_Python_Jupyter_notebook\", \"variable_1\": \"unique_clones\", \"count\": 1.0}, {\"index\": \"2020-11-25T00:00:00\", \"variable_0\": \"D3_JS_viz_in_a_Python_Jupyter_notebook\", \"variable_1\": \"unique_clones\", \"count\": 1.0}, {\"index\": \"2020-11-28T00:00:00\", \"variable_0\": \"D3_JS_viz_in_a_Python_Jupyter_notebook\", \"variable_1\": \"unique_clones\", \"count\": 1.0}, {\"index\": \"2020-12-01T00:00:00\", \"variable_0\": \"D3_JS_viz_in_a_Python_Jupyter_notebook\", \"variable_1\": \"unique_clones\", \"count\": 1.0}, {\"index\": \"2020-11-20T00:00:00\", \"variable_0\": \"D3_JS_viz_in_a_Python_Jupyter_notebook\", \"variable_1\": \"unique_clones\", \"count\": null}, {\"index\": \"2020-11-21T00:00:00\", \"variable_0\": \"D3_JS_viz_in_a_Python_Jupyter_notebook\", \"variable_1\": \"unique_clones\", \"count\": null}, {\"index\": \"2020-11-26T00:00:00\", \"variable_0\": \"D3_JS_viz_in_a_Python_Jupyter_notebook\", \"variable_1\": \"unique_clones\", \"count\": null}, {\"index\": \"2020-11-30T00:00:00\", \"variable_0\": \"D3_JS_viz_in_a_Python_Jupyter_notebook\", \"variable_1\": \"unique_clones\", \"count\": null}, {\"index\": \"2020-12-03T00:00:00\", \"variable_0\": \"D3_JS_viz_in_a_Python_Jupyter_notebook\", \"variable_1\": \"unique_clones\", \"count\": null}, {\"index\": \"2020-12-02T00:00:00\", \"variable_0\": \"DeezyMatch\", \"variable_1\": \"total_clones\", \"count\": 1.0}, {\"index\": \"2020-11-22T00:00:00\", \"variable_0\": \"DeezyMatch\", \"variable_1\": \"total_clones\", \"count\": 2.0}, {\"index\": \"2020-11-23T00:00:00\", \"variable_0\": \"DeezyMatch\", \"variable_1\": \"total_clones\", \"count\": 3.0}, {\"index\": \"2020-11-24T00:00:00\", \"variable_0\": \"DeezyMatch\", \"variable_1\": \"total_clones\", \"count\": null}, {\"index\": \"2020-11-25T00:00:00\", \"variable_0\": \"DeezyMatch\", \"variable_1\": \"total_clones\", \"count\": 3.0}, {\"index\": \"2020-11-28T00:00:00\", \"variable_0\": \"DeezyMatch\", \"variable_1\": \"total_clones\", \"count\": null}, {\"index\": \"2020-12-01T00:00:00\", \"variable_0\": \"DeezyMatch\", \"variable_1\": \"total_clones\", \"count\": 1.0}, {\"index\": \"2020-11-20T00:00:00\", \"variable_0\": \"DeezyMatch\", \"variable_1\": \"total_clones\", \"count\": 4.0}, {\"index\": \"2020-11-21T00:00:00\", \"variable_0\": \"DeezyMatch\", \"variable_1\": \"total_clones\", \"count\": 2.0}, {\"index\": \"2020-11-26T00:00:00\", \"variable_0\": \"DeezyMatch\", \"variable_1\": \"total_clones\", \"count\": 3.0}, {\"index\": \"2020-11-30T00:00:00\", \"variable_0\": \"DeezyMatch\", \"variable_1\": \"total_clones\", \"count\": 1.0}, {\"index\": \"2020-12-03T00:00:00\", \"variable_0\": \"DeezyMatch\", \"variable_1\": \"total_clones\", \"count\": 1.0}, {\"index\": \"2020-12-02T00:00:00\", \"variable_0\": \"DeezyMatch\", \"variable_1\": \"unique_clones\", \"count\": 1.0}, {\"index\": \"2020-11-22T00:00:00\", \"variable_0\": \"DeezyMatch\", \"variable_1\": \"unique_clones\", \"count\": 2.0}, {\"index\": \"2020-11-23T00:00:00\", \"variable_0\": \"DeezyMatch\", \"variable_1\": \"unique_clones\", \"count\": 3.0}, {\"index\": \"2020-11-24T00:00:00\", \"variable_0\": \"DeezyMatch\", \"variable_1\": \"unique_clones\", \"count\": null}, {\"index\": \"2020-11-25T00:00:00\", \"variable_0\": \"DeezyMatch\", \"variable_1\": \"unique_clones\", \"count\": 3.0}, {\"index\": \"2020-11-28T00:00:00\", \"variable_0\": \"DeezyMatch\", \"variable_1\": \"unique_clones\", \"count\": null}, {\"index\": \"2020-12-01T00:00:00\", \"variable_0\": \"DeezyMatch\", \"variable_1\": \"unique_clones\", \"count\": 1.0}, {\"index\": \"2020-11-20T00:00:00\", \"variable_0\": \"DeezyMatch\", \"variable_1\": \"unique_clones\", \"count\": 4.0}, {\"index\": \"2020-11-21T00:00:00\", \"variable_0\": \"DeezyMatch\", \"variable_1\": \"unique_clones\", \"count\": 2.0}, {\"index\": \"2020-11-26T00:00:00\", \"variable_0\": \"DeezyMatch\", \"variable_1\": \"unique_clones\", \"count\": 3.0}, {\"index\": \"2020-11-30T00:00:00\", \"variable_0\": \"DeezyMatch\", \"variable_1\": \"unique_clones\", \"count\": 1.0}, {\"index\": \"2020-12-03T00:00:00\", \"variable_0\": \"DeezyMatch\", \"variable_1\": \"unique_clones\", \"count\": 1.0}, {\"index\": \"2020-12-02T00:00:00\", \"variable_0\": \"LwM_SIGSPATIAL2020_ToponymMatching\", \"variable_1\": \"total_clones\", \"count\": null}, {\"index\": \"2020-11-22T00:00:00\", \"variable_0\": \"LwM_SIGSPATIAL2020_ToponymMatching\", \"variable_1\": \"total_clones\", \"count\": null}, {\"index\": \"2020-11-23T00:00:00\", \"variable_0\": \"LwM_SIGSPATIAL2020_ToponymMatching\", \"variable_1\": \"total_clones\", \"count\": null}, {\"index\": \"2020-11-24T00:00:00\", \"variable_0\": \"LwM_SIGSPATIAL2020_ToponymMatching\", \"variable_1\": \"total_clones\", \"count\": null}, {\"index\": \"2020-11-25T00:00:00\", \"variable_0\": \"LwM_SIGSPATIAL2020_ToponymMatching\", \"variable_1\": \"total_clones\", \"count\": null}, {\"index\": \"2020-11-28T00:00:00\", \"variable_0\": \"LwM_SIGSPATIAL2020_ToponymMatching\", \"variable_1\": \"total_clones\", \"count\": null}, {\"index\": \"2020-12-01T00:00:00\", \"variable_0\": \"LwM_SIGSPATIAL2020_ToponymMatching\", \"variable_1\": \"total_clones\", \"count\": null}, {\"index\": \"2020-11-20T00:00:00\", \"variable_0\": \"LwM_SIGSPATIAL2020_ToponymMatching\", \"variable_1\": \"total_clones\", \"count\": null}, {\"index\": \"2020-11-21T00:00:00\", \"variable_0\": \"LwM_SIGSPATIAL2020_ToponymMatching\", \"variable_1\": \"total_clones\", \"count\": null}, {\"index\": \"2020-11-26T00:00:00\", \"variable_0\": \"LwM_SIGSPATIAL2020_ToponymMatching\", \"variable_1\": \"total_clones\", \"count\": null}, {\"index\": \"2020-11-30T00:00:00\", \"variable_0\": \"LwM_SIGSPATIAL2020_ToponymMatching\", \"variable_1\": \"total_clones\", \"count\": null}, {\"index\": \"2020-12-03T00:00:00\", \"variable_0\": \"LwM_SIGSPATIAL2020_ToponymMatching\", \"variable_1\": \"total_clones\", \"count\": null}, {\"index\": \"2020-12-02T00:00:00\", \"variable_0\": \"LwM_SIGSPATIAL2020_ToponymMatching\", \"variable_1\": \"unique_clones\", \"count\": null}, {\"index\": \"2020-11-22T00:00:00\", \"variable_0\": \"LwM_SIGSPATIAL2020_ToponymMatching\", \"variable_1\": \"unique_clones\", \"count\": null}, {\"index\": \"2020-11-23T00:00:00\", \"variable_0\": \"LwM_SIGSPATIAL2020_ToponymMatching\", \"variable_1\": \"unique_clones\", \"count\": null}, {\"index\": \"2020-11-24T00:00:00\", \"variable_0\": \"LwM_SIGSPATIAL2020_ToponymMatching\", \"variable_1\": \"unique_clones\", \"count\": null}, {\"index\": \"2020-11-25T00:00:00\", \"variable_0\": \"LwM_SIGSPATIAL2020_ToponymMatching\", \"variable_1\": \"unique_clones\", \"count\": null}, {\"index\": \"2020-11-28T00:00:00\", \"variable_0\": \"LwM_SIGSPATIAL2020_ToponymMatching\", \"variable_1\": \"unique_clones\", \"count\": null}, {\"index\": \"2020-12-01T00:00:00\", \"variable_0\": \"LwM_SIGSPATIAL2020_ToponymMatching\", \"variable_1\": \"unique_clones\", \"count\": null}, {\"index\": \"2020-11-20T00:00:00\", \"variable_0\": \"LwM_SIGSPATIAL2020_ToponymMatching\", \"variable_1\": \"unique_clones\", \"count\": null}, {\"index\": \"2020-11-21T00:00:00\", \"variable_0\": \"LwM_SIGSPATIAL2020_ToponymMatching\", \"variable_1\": \"unique_clones\", \"count\": null}, {\"index\": \"2020-11-26T00:00:00\", \"variable_0\": \"LwM_SIGSPATIAL2020_ToponymMatching\", \"variable_1\": \"unique_clones\", \"count\": null}, {\"index\": \"2020-11-30T00:00:00\", \"variable_0\": \"LwM_SIGSPATIAL2020_ToponymMatching\", \"variable_1\": \"unique_clones\", \"count\": null}, {\"index\": \"2020-12-03T00:00:00\", \"variable_0\": \"LwM_SIGSPATIAL2020_ToponymMatching\", \"variable_1\": \"unique_clones\", \"count\": null}, {\"index\": \"2020-12-02T00:00:00\", \"variable_0\": \"AzureAudit\", \"variable_1\": \"total_clones\", \"count\": null}, {\"index\": \"2020-11-22T00:00:00\", \"variable_0\": \"AzureAudit\", \"variable_1\": \"total_clones\", \"count\": null}, {\"index\": \"2020-11-23T00:00:00\", \"variable_0\": \"AzureAudit\", \"variable_1\": \"total_clones\", \"count\": null}, {\"index\": \"2020-11-24T00:00:00\", \"variable_0\": \"AzureAudit\", \"variable_1\": \"total_clones\", \"count\": null}, {\"index\": \"2020-11-25T00:00:00\", \"variable_0\": \"AzureAudit\", \"variable_1\": \"total_clones\", \"count\": null}, {\"index\": \"2020-11-28T00:00:00\", \"variable_0\": \"AzureAudit\", \"variable_1\": \"total_clones\", \"count\": null}, {\"index\": \"2020-12-01T00:00:00\", \"variable_0\": \"AzureAudit\", \"variable_1\": \"total_clones\", \"count\": null}, {\"index\": \"2020-11-20T00:00:00\", \"variable_0\": \"AzureAudit\", \"variable_1\": \"total_clones\", \"count\": null}, {\"index\": \"2020-11-21T00:00:00\", \"variable_0\": \"AzureAudit\", \"variable_1\": \"total_clones\", \"count\": null}, {\"index\": \"2020-11-26T00:00:00\", \"variable_0\": \"AzureAudit\", \"variable_1\": \"total_clones\", \"count\": null}, {\"index\": \"2020-11-30T00:00:00\", \"variable_0\": \"AzureAudit\", \"variable_1\": \"total_clones\", \"count\": null}, {\"index\": \"2020-12-03T00:00:00\", \"variable_0\": \"AzureAudit\", \"variable_1\": \"total_clones\", \"count\": null}, {\"index\": \"2020-12-02T00:00:00\", \"variable_0\": \"AzureAudit\", \"variable_1\": \"unique_clones\", \"count\": null}, {\"index\": \"2020-11-22T00:00:00\", \"variable_0\": \"AzureAudit\", \"variable_1\": \"unique_clones\", \"count\": null}, {\"index\": \"2020-11-23T00:00:00\", \"variable_0\": \"AzureAudit\", \"variable_1\": \"unique_clones\", \"count\": null}, {\"index\": \"2020-11-24T00:00:00\", \"variable_0\": \"AzureAudit\", \"variable_1\": \"unique_clones\", \"count\": null}, {\"index\": \"2020-11-25T00:00:00\", \"variable_0\": \"AzureAudit\", \"variable_1\": \"unique_clones\", \"count\": null}, {\"index\": \"2020-11-28T00:00:00\", \"variable_0\": \"AzureAudit\", \"variable_1\": \"unique_clones\", \"count\": null}, {\"index\": \"2020-12-01T00:00:00\", \"variable_0\": \"AzureAudit\", \"variable_1\": \"unique_clones\", \"count\": null}, {\"index\": \"2020-11-20T00:00:00\", \"variable_0\": \"AzureAudit\", \"variable_1\": \"unique_clones\", \"count\": null}, {\"index\": \"2020-11-21T00:00:00\", \"variable_0\": \"AzureAudit\", \"variable_1\": \"unique_clones\", \"count\": null}, {\"index\": \"2020-11-26T00:00:00\", \"variable_0\": \"AzureAudit\", \"variable_1\": \"unique_clones\", \"count\": null}, {\"index\": \"2020-11-30T00:00:00\", \"variable_0\": \"AzureAudit\", \"variable_1\": \"unique_clones\", \"count\": null}, {\"index\": \"2020-12-03T00:00:00\", \"variable_0\": \"AzureAudit\", \"variable_1\": \"unique_clones\", \"count\": null}, {\"index\": \"2020-12-02T00:00:00\", \"variable_0\": \"maps-at-scale-hack-day-notebooks\", \"variable_1\": \"total_clones\", \"count\": null}, {\"index\": \"2020-11-22T00:00:00\", \"variable_0\": \"maps-at-scale-hack-day-notebooks\", \"variable_1\": \"total_clones\", \"count\": null}, {\"index\": \"2020-11-23T00:00:00\", \"variable_0\": \"maps-at-scale-hack-day-notebooks\", \"variable_1\": \"total_clones\", \"count\": 7.0}, {\"index\": \"2020-11-24T00:00:00\", \"variable_0\": \"maps-at-scale-hack-day-notebooks\", \"variable_1\": \"total_clones\", \"count\": 1.0}, {\"index\": \"2020-11-25T00:00:00\", \"variable_0\": \"maps-at-scale-hack-day-notebooks\", \"variable_1\": \"total_clones\", \"count\": 2.0}, {\"index\": \"2020-11-28T00:00:00\", \"variable_0\": \"maps-at-scale-hack-day-notebooks\", \"variable_1\": \"total_clones\", \"count\": null}, {\"index\": \"2020-12-01T00:00:00\", \"variable_0\": \"maps-at-scale-hack-day-notebooks\", \"variable_1\": \"total_clones\", \"count\": null}, {\"index\": \"2020-11-20T00:00:00\", \"variable_0\": \"maps-at-scale-hack-day-notebooks\", \"variable_1\": \"total_clones\", \"count\": null}, {\"index\": \"2020-11-21T00:00:00\", \"variable_0\": \"maps-at-scale-hack-day-notebooks\", \"variable_1\": \"total_clones\", \"count\": null}, {\"index\": \"2020-11-26T00:00:00\", \"variable_0\": \"maps-at-scale-hack-day-notebooks\", \"variable_1\": \"total_clones\", \"count\": 4.0}, {\"index\": \"2020-11-30T00:00:00\", \"variable_0\": \"maps-at-scale-hack-day-notebooks\", \"variable_1\": \"total_clones\", \"count\": null}, {\"index\": \"2020-12-03T00:00:00\", \"variable_0\": \"maps-at-scale-hack-day-notebooks\", \"variable_1\": \"total_clones\", \"count\": null}, {\"index\": \"2020-12-02T00:00:00\", \"variable_0\": \"maps-at-scale-hack-day-notebooks\", \"variable_1\": \"unique_clones\", \"count\": null}, {\"index\": \"2020-11-22T00:00:00\", \"variable_0\": \"maps-at-scale-hack-day-notebooks\", \"variable_1\": \"unique_clones\", \"count\": null}, {\"index\": \"2020-11-23T00:00:00\", \"variable_0\": \"maps-at-scale-hack-day-notebooks\", \"variable_1\": \"unique_clones\", \"count\": 1.0}, {\"index\": \"2020-11-24T00:00:00\", \"variable_0\": \"maps-at-scale-hack-day-notebooks\", \"variable_1\": \"unique_clones\", \"count\": 1.0}, {\"index\": \"2020-11-25T00:00:00\", \"variable_0\": \"maps-at-scale-hack-day-notebooks\", \"variable_1\": \"unique_clones\", \"count\": 1.0}, {\"index\": \"2020-11-28T00:00:00\", \"variable_0\": \"maps-at-scale-hack-day-notebooks\", \"variable_1\": \"unique_clones\", \"count\": null}, {\"index\": \"2020-12-01T00:00:00\", \"variable_0\": \"maps-at-scale-hack-day-notebooks\", \"variable_1\": \"unique_clones\", \"count\": null}, {\"index\": \"2020-11-20T00:00:00\", \"variable_0\": \"maps-at-scale-hack-day-notebooks\", \"variable_1\": \"unique_clones\", \"count\": null}, {\"index\": \"2020-11-21T00:00:00\", \"variable_0\": \"maps-at-scale-hack-day-notebooks\", \"variable_1\": \"unique_clones\", \"count\": null}, {\"index\": \"2020-11-26T00:00:00\", \"variable_0\": \"maps-at-scale-hack-day-notebooks\", \"variable_1\": \"unique_clones\", \"count\": 2.0}, {\"index\": \"2020-11-30T00:00:00\", \"variable_0\": \"maps-at-scale-hack-day-notebooks\", \"variable_1\": \"unique_clones\", \"count\": null}, {\"index\": \"2020-12-03T00:00:00\", \"variable_0\": \"maps-at-scale-hack-day-notebooks\", \"variable_1\": \"unique_clones\", \"count\": null}, {\"index\": \"2020-12-02T00:00:00\", \"variable_0\": \"deduplify\", \"variable_1\": \"total_clones\", \"count\": 2.0}, {\"index\": \"2020-11-22T00:00:00\", \"variable_0\": \"deduplify\", \"variable_1\": \"total_clones\", \"count\": null}, {\"index\": \"2020-11-23T00:00:00\", \"variable_0\": \"deduplify\", \"variable_1\": \"total_clones\", \"count\": 2.0}, {\"index\": \"2020-11-24T00:00:00\", \"variable_0\": \"deduplify\", \"variable_1\": \"total_clones\", \"count\": null}, {\"index\": \"2020-11-25T00:00:00\", \"variable_0\": \"deduplify\", \"variable_1\": \"total_clones\", \"count\": 1.0}, {\"index\": \"2020-11-28T00:00:00\", \"variable_0\": \"deduplify\", \"variable_1\": \"total_clones\", \"count\": null}, {\"index\": \"2020-12-01T00:00:00\", \"variable_0\": \"deduplify\", \"variable_1\": \"total_clones\", \"count\": null}, {\"index\": \"2020-11-20T00:00:00\", \"variable_0\": \"deduplify\", \"variable_1\": \"total_clones\", \"count\": 3.0}, {\"index\": \"2020-11-21T00:00:00\", \"variable_0\": \"deduplify\", \"variable_1\": \"total_clones\", \"count\": 1.0}, {\"index\": \"2020-11-26T00:00:00\", \"variable_0\": \"deduplify\", \"variable_1\": \"total_clones\", \"count\": 1.0}, {\"index\": \"2020-11-30T00:00:00\", \"variable_0\": \"deduplify\", \"variable_1\": \"total_clones\", \"count\": null}, {\"index\": \"2020-12-03T00:00:00\", \"variable_0\": \"deduplify\", \"variable_1\": \"total_clones\", \"count\": null}, {\"index\": \"2020-12-02T00:00:00\", \"variable_0\": \"deduplify\", \"variable_1\": \"unique_clones\", \"count\": 2.0}, {\"index\": \"2020-11-22T00:00:00\", \"variable_0\": \"deduplify\", \"variable_1\": \"unique_clones\", \"count\": null}, {\"index\": \"2020-11-23T00:00:00\", \"variable_0\": \"deduplify\", \"variable_1\": \"unique_clones\", \"count\": 2.0}, {\"index\": \"2020-11-24T00:00:00\", \"variable_0\": \"deduplify\", \"variable_1\": \"unique_clones\", \"count\": null}, {\"index\": \"2020-11-25T00:00:00\", \"variable_0\": \"deduplify\", \"variable_1\": \"unique_clones\", \"count\": 1.0}, {\"index\": \"2020-11-28T00:00:00\", \"variable_0\": \"deduplify\", \"variable_1\": \"unique_clones\", \"count\": null}, {\"index\": \"2020-12-01T00:00:00\", \"variable_0\": \"deduplify\", \"variable_1\": \"unique_clones\", \"count\": null}, {\"index\": \"2020-11-20T00:00:00\", \"variable_0\": \"deduplify\", \"variable_1\": \"unique_clones\", \"count\": 2.0}, {\"index\": \"2020-11-21T00:00:00\", \"variable_0\": \"deduplify\", \"variable_1\": \"unique_clones\", \"count\": 1.0}, {\"index\": \"2020-11-26T00:00:00\", \"variable_0\": \"deduplify\", \"variable_1\": \"unique_clones\", \"count\": 1.0}, {\"index\": \"2020-11-30T00:00:00\", \"variable_0\": \"deduplify\", \"variable_1\": \"unique_clones\", \"count\": null}, {\"index\": \"2020-12-03T00:00:00\", \"variable_0\": \"deduplify\", \"variable_1\": \"unique_clones\", \"count\": null}, {\"index\": \"2020-12-02T00:00:00\", \"variable_0\": \"AtypicalAnimacy\", \"variable_1\": \"total_clones\", \"count\": null}, {\"index\": \"2020-11-22T00:00:00\", \"variable_0\": \"AtypicalAnimacy\", \"variable_1\": \"total_clones\", \"count\": null}, {\"index\": \"2020-11-23T00:00:00\", \"variable_0\": \"AtypicalAnimacy\", \"variable_1\": \"total_clones\", \"count\": null}, {\"index\": \"2020-11-24T00:00:00\", \"variable_0\": \"AtypicalAnimacy\", \"variable_1\": \"total_clones\", \"count\": 1.0}, {\"index\": \"2020-11-25T00:00:00\", \"variable_0\": \"AtypicalAnimacy\", \"variable_1\": \"total_clones\", \"count\": null}, {\"index\": \"2020-11-28T00:00:00\", \"variable_0\": \"AtypicalAnimacy\", \"variable_1\": \"total_clones\", \"count\": null}, {\"index\": \"2020-12-01T00:00:00\", \"variable_0\": \"AtypicalAnimacy\", \"variable_1\": \"total_clones\", \"count\": null}, {\"index\": \"2020-11-20T00:00:00\", \"variable_0\": \"AtypicalAnimacy\", \"variable_1\": \"total_clones\", \"count\": 1.0}, {\"index\": \"2020-11-21T00:00:00\", \"variable_0\": \"AtypicalAnimacy\", \"variable_1\": \"total_clones\", \"count\": null}, {\"index\": \"2020-11-26T00:00:00\", \"variable_0\": \"AtypicalAnimacy\", \"variable_1\": \"total_clones\", \"count\": null}, {\"index\": \"2020-11-30T00:00:00\", \"variable_0\": \"AtypicalAnimacy\", \"variable_1\": \"total_clones\", \"count\": null}, {\"index\": \"2020-12-03T00:00:00\", \"variable_0\": \"AtypicalAnimacy\", \"variable_1\": \"total_clones\", \"count\": null}, {\"index\": \"2020-12-02T00:00:00\", \"variable_0\": \"AtypicalAnimacy\", \"variable_1\": \"unique_clones\", \"count\": null}, {\"index\": \"2020-11-22T00:00:00\", \"variable_0\": \"AtypicalAnimacy\", \"variable_1\": \"unique_clones\", \"count\": null}, {\"index\": \"2020-11-23T00:00:00\", \"variable_0\": \"AtypicalAnimacy\", \"variable_1\": \"unique_clones\", \"count\": null}, {\"index\": \"2020-11-24T00:00:00\", \"variable_0\": \"AtypicalAnimacy\", \"variable_1\": \"unique_clones\", \"count\": 1.0}, {\"index\": \"2020-11-25T00:00:00\", \"variable_0\": \"AtypicalAnimacy\", \"variable_1\": \"unique_clones\", \"count\": null}, {\"index\": \"2020-11-28T00:00:00\", \"variable_0\": \"AtypicalAnimacy\", \"variable_1\": \"unique_clones\", \"count\": null}, {\"index\": \"2020-12-01T00:00:00\", \"variable_0\": \"AtypicalAnimacy\", \"variable_1\": \"unique_clones\", \"count\": null}, {\"index\": \"2020-11-20T00:00:00\", \"variable_0\": \"AtypicalAnimacy\", \"variable_1\": \"unique_clones\", \"count\": 1.0}, {\"index\": \"2020-11-21T00:00:00\", \"variable_0\": \"AtypicalAnimacy\", \"variable_1\": \"unique_clones\", \"count\": null}, {\"index\": \"2020-11-26T00:00:00\", \"variable_0\": \"AtypicalAnimacy\", \"variable_1\": \"unique_clones\", \"count\": null}, {\"index\": \"2020-11-30T00:00:00\", \"variable_0\": \"AtypicalAnimacy\", \"variable_1\": \"unique_clones\", \"count\": null}, {\"index\": \"2020-12-03T00:00:00\", \"variable_0\": \"AtypicalAnimacy\", \"variable_1\": \"unique_clones\", \"count\": null}, {\"index\": \"2020-12-02T00:00:00\", \"variable_0\": \"computer-vision-DHNordic-2020-workshop\", \"variable_1\": \"total_clones\", \"count\": null}, {\"index\": \"2020-11-22T00:00:00\", \"variable_0\": \"computer-vision-DHNordic-2020-workshop\", \"variable_1\": \"total_clones\", \"count\": null}, {\"index\": \"2020-11-23T00:00:00\", \"variable_0\": \"computer-vision-DHNordic-2020-workshop\", \"variable_1\": \"total_clones\", \"count\": null}, {\"index\": \"2020-11-24T00:00:00\", \"variable_0\": \"computer-vision-DHNordic-2020-workshop\", \"variable_1\": \"total_clones\", \"count\": null}, {\"index\": \"2020-11-25T00:00:00\", \"variable_0\": \"computer-vision-DHNordic-2020-workshop\", \"variable_1\": \"total_clones\", \"count\": null}, {\"index\": \"2020-11-28T00:00:00\", \"variable_0\": \"computer-vision-DHNordic-2020-workshop\", \"variable_1\": \"total_clones\", \"count\": null}, {\"index\": \"2020-12-01T00:00:00\", \"variable_0\": \"computer-vision-DHNordic-2020-workshop\", \"variable_1\": \"total_clones\", \"count\": null}, {\"index\": \"2020-11-20T00:00:00\", \"variable_0\": \"computer-vision-DHNordic-2020-workshop\", \"variable_1\": \"total_clones\", \"count\": null}, {\"index\": \"2020-11-21T00:00:00\", \"variable_0\": \"computer-vision-DHNordic-2020-workshop\", \"variable_1\": \"total_clones\", \"count\": null}, {\"index\": \"2020-11-26T00:00:00\", \"variable_0\": \"computer-vision-DHNordic-2020-workshop\", \"variable_1\": \"total_clones\", \"count\": null}, {\"index\": \"2020-11-30T00:00:00\", \"variable_0\": \"computer-vision-DHNordic-2020-workshop\", \"variable_1\": \"total_clones\", \"count\": null}, {\"index\": \"2020-12-03T00:00:00\", \"variable_0\": \"computer-vision-DHNordic-2020-workshop\", \"variable_1\": \"total_clones\", \"count\": null}, {\"index\": \"2020-12-02T00:00:00\", \"variable_0\": \"computer-vision-DHNordic-2020-workshop\", \"variable_1\": \"unique_clones\", \"count\": null}, {\"index\": \"2020-11-22T00:00:00\", \"variable_0\": \"computer-vision-DHNordic-2020-workshop\", \"variable_1\": \"unique_clones\", \"count\": null}, {\"index\": \"2020-11-23T00:00:00\", \"variable_0\": \"computer-vision-DHNordic-2020-workshop\", \"variable_1\": \"unique_clones\", \"count\": null}, {\"index\": \"2020-11-24T00:00:00\", \"variable_0\": \"computer-vision-DHNordic-2020-workshop\", \"variable_1\": \"unique_clones\", \"count\": null}, {\"index\": \"2020-11-25T00:00:00\", \"variable_0\": \"computer-vision-DHNordic-2020-workshop\", \"variable_1\": \"unique_clones\", \"count\": null}, {\"index\": \"2020-11-28T00:00:00\", \"variable_0\": \"computer-vision-DHNordic-2020-workshop\", \"variable_1\": \"unique_clones\", \"count\": null}, {\"index\": \"2020-12-01T00:00:00\", \"variable_0\": \"computer-vision-DHNordic-2020-workshop\", \"variable_1\": \"unique_clones\", \"count\": null}, {\"index\": \"2020-11-20T00:00:00\", \"variable_0\": \"computer-vision-DHNordic-2020-workshop\", \"variable_1\": \"unique_clones\", \"count\": null}, {\"index\": \"2020-11-21T00:00:00\", \"variable_0\": \"computer-vision-DHNordic-2020-workshop\", \"variable_1\": \"unique_clones\", \"count\": null}, {\"index\": \"2020-11-26T00:00:00\", \"variable_0\": \"computer-vision-DHNordic-2020-workshop\", \"variable_1\": \"unique_clones\", \"count\": null}, {\"index\": \"2020-11-30T00:00:00\", \"variable_0\": \"computer-vision-DHNordic-2020-workshop\", \"variable_1\": \"unique_clones\", \"count\": null}, {\"index\": \"2020-12-03T00:00:00\", \"variable_0\": \"computer-vision-DHNordic-2020-workshop\", \"variable_1\": \"unique_clones\", \"count\": null}, {\"index\": \"2020-12-02T00:00:00\", \"variable_0\": \"maps-at-scale-using-computer-vision-and-jupyter-notebooks\", \"variable_1\": \"total_clones\", \"count\": null}, {\"index\": \"2020-11-22T00:00:00\", \"variable_0\": \"maps-at-scale-using-computer-vision-and-jupyter-notebooks\", \"variable_1\": \"total_clones\", \"count\": null}, {\"index\": \"2020-11-23T00:00:00\", \"variable_0\": \"maps-at-scale-using-computer-vision-and-jupyter-notebooks\", \"variable_1\": \"total_clones\", \"count\": 6.0}, {\"index\": \"2020-11-24T00:00:00\", \"variable_0\": \"maps-at-scale-using-computer-vision-and-jupyter-notebooks\", \"variable_1\": \"total_clones\", \"count\": 3.0}, {\"index\": \"2020-11-25T00:00:00\", \"variable_0\": \"maps-at-scale-using-computer-vision-and-jupyter-notebooks\", \"variable_1\": \"total_clones\", \"count\": 6.0}, {\"index\": \"2020-11-28T00:00:00\", \"variable_0\": \"maps-at-scale-using-computer-vision-and-jupyter-notebooks\", \"variable_1\": \"total_clones\", \"count\": null}, {\"index\": \"2020-12-01T00:00:00\", \"variable_0\": \"maps-at-scale-using-computer-vision-and-jupyter-notebooks\", \"variable_1\": \"total_clones\", \"count\": null}, {\"index\": \"2020-11-20T00:00:00\", \"variable_0\": \"maps-at-scale-using-computer-vision-and-jupyter-notebooks\", \"variable_1\": \"total_clones\", \"count\": null}, {\"index\": \"2020-11-21T00:00:00\", \"variable_0\": \"maps-at-scale-using-computer-vision-and-jupyter-notebooks\", \"variable_1\": \"total_clones\", \"count\": null}, {\"index\": \"2020-11-26T00:00:00\", \"variable_0\": \"maps-at-scale-using-computer-vision-and-jupyter-notebooks\", \"variable_1\": \"total_clones\", \"count\": null}, {\"index\": \"2020-11-30T00:00:00\", \"variable_0\": \"maps-at-scale-using-computer-vision-and-jupyter-notebooks\", \"variable_1\": \"total_clones\", \"count\": null}, {\"index\": \"2020-12-03T00:00:00\", \"variable_0\": \"maps-at-scale-using-computer-vision-and-jupyter-notebooks\", \"variable_1\": \"total_clones\", \"count\": 1.0}, {\"index\": \"2020-12-02T00:00:00\", \"variable_0\": \"maps-at-scale-using-computer-vision-and-jupyter-notebooks\", \"variable_1\": \"unique_clones\", \"count\": null}, {\"index\": \"2020-11-22T00:00:00\", \"variable_0\": \"maps-at-scale-using-computer-vision-and-jupyter-notebooks\", \"variable_1\": \"unique_clones\", \"count\": null}, {\"index\": \"2020-11-23T00:00:00\", \"variable_0\": \"maps-at-scale-using-computer-vision-and-jupyter-notebooks\", \"variable_1\": \"unique_clones\", \"count\": 1.0}, {\"index\": \"2020-11-24T00:00:00\", \"variable_0\": \"maps-at-scale-using-computer-vision-and-jupyter-notebooks\", \"variable_1\": \"unique_clones\", \"count\": 1.0}, {\"index\": \"2020-11-25T00:00:00\", \"variable_0\": \"maps-at-scale-using-computer-vision-and-jupyter-notebooks\", \"variable_1\": \"unique_clones\", \"count\": 1.0}, {\"index\": \"2020-11-28T00:00:00\", \"variable_0\": \"maps-at-scale-using-computer-vision-and-jupyter-notebooks\", \"variable_1\": \"unique_clones\", \"count\": null}, {\"index\": \"2020-12-01T00:00:00\", \"variable_0\": \"maps-at-scale-using-computer-vision-and-jupyter-notebooks\", \"variable_1\": \"unique_clones\", \"count\": null}, {\"index\": \"2020-11-20T00:00:00\", \"variable_0\": \"maps-at-scale-using-computer-vision-and-jupyter-notebooks\", \"variable_1\": \"unique_clones\", \"count\": null}, {\"index\": \"2020-11-21T00:00:00\", \"variable_0\": \"maps-at-scale-using-computer-vision-and-jupyter-notebooks\", \"variable_1\": \"unique_clones\", \"count\": null}, {\"index\": \"2020-11-26T00:00:00\", \"variable_0\": \"maps-at-scale-using-computer-vision-and-jupyter-notebooks\", \"variable_1\": \"unique_clones\", \"count\": null}, {\"index\": \"2020-11-30T00:00:00\", \"variable_0\": \"maps-at-scale-using-computer-vision-and-jupyter-notebooks\", \"variable_1\": \"unique_clones\", \"count\": null}, {\"index\": \"2020-12-03T00:00:00\", \"variable_0\": \"maps-at-scale-using-computer-vision-and-jupyter-notebooks\", \"variable_1\": \"unique_clones\", \"count\": 1.0}, {\"index\": \"2020-12-02T00:00:00\", \"variable_0\": \"gh_orgstats\", \"variable_1\": \"total_clones\", \"count\": 41.0}, {\"index\": \"2020-11-22T00:00:00\", \"variable_0\": \"gh_orgstats\", \"variable_1\": \"total_clones\", \"count\": null}, {\"index\": \"2020-11-23T00:00:00\", \"variable_0\": \"gh_orgstats\", \"variable_1\": \"total_clones\", \"count\": null}, {\"index\": \"2020-11-24T00:00:00\", \"variable_0\": \"gh_orgstats\", \"variable_1\": \"total_clones\", \"count\": null}, {\"index\": \"2020-11-25T00:00:00\", \"variable_0\": \"gh_orgstats\", \"variable_1\": \"total_clones\", \"count\": null}, {\"index\": \"2020-11-28T00:00:00\", \"variable_0\": \"gh_orgstats\", \"variable_1\": \"total_clones\", \"count\": null}, {\"index\": \"2020-12-01T00:00:00\", \"variable_0\": \"gh_orgstats\", \"variable_1\": \"total_clones\", \"count\": 18.0}, {\"index\": \"2020-11-20T00:00:00\", \"variable_0\": \"gh_orgstats\", \"variable_1\": \"total_clones\", \"count\": null}, {\"index\": \"2020-11-21T00:00:00\", \"variable_0\": \"gh_orgstats\", \"variable_1\": \"total_clones\", \"count\": null}, {\"index\": \"2020-11-26T00:00:00\", \"variable_0\": \"gh_orgstats\", \"variable_1\": \"total_clones\", \"count\": null}, {\"index\": \"2020-11-30T00:00:00\", \"variable_0\": \"gh_orgstats\", \"variable_1\": \"total_clones\", \"count\": null}, {\"index\": \"2020-12-03T00:00:00\", \"variable_0\": \"gh_orgstats\", \"variable_1\": \"total_clones\", \"count\": 6.0}, {\"index\": \"2020-12-02T00:00:00\", \"variable_0\": \"gh_orgstats\", \"variable_1\": \"unique_clones\", \"count\": 23.0}, {\"index\": \"2020-11-22T00:00:00\", \"variable_0\": \"gh_orgstats\", \"variable_1\": \"unique_clones\", \"count\": null}, {\"index\": \"2020-11-23T00:00:00\", \"variable_0\": \"gh_orgstats\", \"variable_1\": \"unique_clones\", \"count\": null}, {\"index\": \"2020-11-24T00:00:00\", \"variable_0\": \"gh_orgstats\", \"variable_1\": \"unique_clones\", \"count\": null}, {\"index\": \"2020-11-25T00:00:00\", \"variable_0\": \"gh_orgstats\", \"variable_1\": \"unique_clones\", \"count\": null}, {\"index\": \"2020-11-28T00:00:00\", \"variable_0\": \"gh_orgstats\", \"variable_1\": \"unique_clones\", \"count\": null}, {\"index\": \"2020-12-01T00:00:00\", \"variable_0\": \"gh_orgstats\", \"variable_1\": \"unique_clones\", \"count\": 9.0}, {\"index\": \"2020-11-20T00:00:00\", \"variable_0\": \"gh_orgstats\", \"variable_1\": \"unique_clones\", \"count\": null}, {\"index\": \"2020-11-21T00:00:00\", \"variable_0\": \"gh_orgstats\", \"variable_1\": \"unique_clones\", \"count\": null}, {\"index\": \"2020-11-26T00:00:00\", \"variable_0\": \"gh_orgstats\", \"variable_1\": \"unique_clones\", \"count\": null}, {\"index\": \"2020-11-30T00:00:00\", \"variable_0\": \"gh_orgstats\", \"variable_1\": \"unique_clones\", \"count\": null}, {\"index\": \"2020-12-03T00:00:00\", \"variable_0\": \"gh_orgstats\", \"variable_1\": \"unique_clones\", \"count\": 6.0}, {\"index\": \"2020-12-02T00:00:00\", \"variable_0\": \"GazFuse\", \"variable_1\": \"total_clones\", \"count\": null}, {\"index\": \"2020-11-22T00:00:00\", \"variable_0\": \"GazFuse\", \"variable_1\": \"total_clones\", \"count\": null}, {\"index\": \"2020-11-23T00:00:00\", \"variable_0\": \"GazFuse\", \"variable_1\": \"total_clones\", \"count\": null}, {\"index\": \"2020-11-24T00:00:00\", \"variable_0\": \"GazFuse\", \"variable_1\": \"total_clones\", \"count\": null}, {\"index\": \"2020-11-25T00:00:00\", \"variable_0\": \"GazFuse\", \"variable_1\": \"total_clones\", \"count\": null}, {\"index\": \"2020-11-28T00:00:00\", \"variable_0\": \"GazFuse\", \"variable_1\": \"total_clones\", \"count\": null}, {\"index\": \"2020-12-01T00:00:00\", \"variable_0\": \"GazFuse\", \"variable_1\": \"total_clones\", \"count\": null}, {\"index\": \"2020-11-20T00:00:00\", \"variable_0\": \"GazFuse\", \"variable_1\": \"total_clones\", \"count\": null}, {\"index\": \"2020-11-21T00:00:00\", \"variable_0\": \"GazFuse\", \"variable_1\": \"total_clones\", \"count\": null}, {\"index\": \"2020-11-26T00:00:00\", \"variable_0\": \"GazFuse\", \"variable_1\": \"total_clones\", \"count\": null}, {\"index\": \"2020-11-30T00:00:00\", \"variable_0\": \"GazFuse\", \"variable_1\": \"total_clones\", \"count\": null}, {\"index\": \"2020-12-03T00:00:00\", \"variable_0\": \"GazFuse\", \"variable_1\": \"total_clones\", \"count\": 1.0}, {\"index\": \"2020-12-02T00:00:00\", \"variable_0\": \"GazFuse\", \"variable_1\": \"unique_clones\", \"count\": null}, {\"index\": \"2020-11-22T00:00:00\", \"variable_0\": \"GazFuse\", \"variable_1\": \"unique_clones\", \"count\": null}, {\"index\": \"2020-11-23T00:00:00\", \"variable_0\": \"GazFuse\", \"variable_1\": \"unique_clones\", \"count\": null}, {\"index\": \"2020-11-24T00:00:00\", \"variable_0\": \"GazFuse\", \"variable_1\": \"unique_clones\", \"count\": null}, {\"index\": \"2020-11-25T00:00:00\", \"variable_0\": \"GazFuse\", \"variable_1\": \"unique_clones\", \"count\": null}, {\"index\": \"2020-11-28T00:00:00\", \"variable_0\": \"GazFuse\", \"variable_1\": \"unique_clones\", \"count\": null}, {\"index\": \"2020-12-01T00:00:00\", \"variable_0\": \"GazFuse\", \"variable_1\": \"unique_clones\", \"count\": null}, {\"index\": \"2020-11-20T00:00:00\", \"variable_0\": \"GazFuse\", \"variable_1\": \"unique_clones\", \"count\": null}, {\"index\": \"2020-11-21T00:00:00\", \"variable_0\": \"GazFuse\", \"variable_1\": \"unique_clones\", \"count\": null}, {\"index\": \"2020-11-26T00:00:00\", \"variable_0\": \"GazFuse\", \"variable_1\": \"unique_clones\", \"count\": null}, {\"index\": \"2020-11-30T00:00:00\", \"variable_0\": \"GazFuse\", \"variable_1\": \"unique_clones\", \"count\": null}, {\"index\": \"2020-12-03T00:00:00\", \"variable_0\": \"GazFuse\", \"variable_1\": \"unique_clones\", \"count\": 1.0}]}}, {\"mode\": \"vega-lite\"});\n",
       "</script>"
      ],
      "text/plain": [
       "alt.Chart(...)"
      ]
     },
     "execution_count": 1,
     "metadata": {},
     "output_type": "execute_result"
    }
   ],
   "source": [
    "data = pd.melt(frame=df.reset_index(), id_vars=['index'],value_name='count')\n",
    "alt.Chart(data).mark_bar().encode(\n",
    "    x=\"mean(count)\",\n",
    "    y=alt.Y(\"day(index):O\", title=\"Day\"),\n",
    "    color=alt.Color(\"variable_1\", title=\"Clone type\"),\n",
    ").properties(width=WIDTH, title=\"Mean clones by Day\")"
   ]
  }
 ],
 "metadata": {
  "kernelspec": {
   "display_name": "Python 3",
   "language": "python",
   "name": "python3"
  },
  "language_info": {
   "codemirror_mode": {
    "name": "ipython",
    "version": 3
   },
   "file_extension": ".py",
   "mimetype": "text/x-python",
   "name": "python",
   "nbconvert_exporter": "python",
   "pygments_lexer": "ipython3",
   "version": "3.6.12"
  }
 },
 "nbformat": 4,
 "nbformat_minor": 4
}
