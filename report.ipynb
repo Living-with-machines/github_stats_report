{
 "cells": [
  {
   "cell_type": "code",
   "execution_count": null,
   "metadata": {},
   "outputs": [],
   "source": [
    "import os\n",
    "import datetime\n",
    "from dotenv import load_dotenv\n",
    "import pandas as pd\n",
    "import altair as alt"
   ]
  },
  {
   "cell_type": "code",
   "execution_count": null,
   "metadata": {},
   "outputs": [],
   "source": [
    "pd.options.display.max_rows = 50"
   ]
  },
  {
   "cell_type": "code",
   "execution_count": null,
   "metadata": {},
   "outputs": [],
   "source": [
    "WIDTH = 650"
   ]
  },
  {
   "cell_type": "code",
   "execution_count": null,
   "metadata": {},
   "outputs": [],
   "source": [
    "from IPython.display import Markdown\n",
    "from IPython.core.magic import register_cell_magic\n",
    "\n",
    "@register_cell_magic\n",
    "def markdown(line, cell):\n",
    "    return Markdown(cell.format(**globals()))"
   ]
  },
  {
   "cell_type": "code",
   "execution_count": null,
   "metadata": {},
   "outputs": [],
   "source": [
    "load_dotenv()\n",
    "GH_TOKEN = os.getenv(\"GH_TOKEN\")"
   ]
  },
  {
   "cell_type": "markdown",
   "metadata": {},
   "source": [
    "# Living with Machines GitHub Statistics report\n",
    "This report provides some high level statistics about GitHub repositories contained under the [Living with Machines Organization](https://github.com/Living-with-machines). The report is mainly intended to provide some stats to aid in reporting to our funder."
   ]
  },
  {
   "cell_type": "markdown",
   "metadata": {},
   "source": [
    "### Contents\n",
    "* [Report details](#report-details)\n",
    "* [Report statistics](#repo-stats)\n",
    "    * [Overview of repositories](#repo-overview)\n",
    "    * [Repository file content](#repo-content)\n",
    "    * [Stars and Forks](#repo-stars)\n",
    "    * [Views](#repo-views)\n",
    "    * [Clones](#repo-clones)"
   ]
  },
  {
   "cell_type": "markdown",
   "metadata": {},
   "source": [
    "## Report details <a class=\"anchor\" id=\"report-details\"></a>"
   ]
  },
  {
   "cell_type": "code",
   "execution_count": null,
   "metadata": {},
   "outputs": [],
   "source": [
    "Markdown(f\"This report is updated automatically every week, last generated on: **{datetime.date.today()}**\")"
   ]
  },
  {
   "cell_type": "code",
   "execution_count": null,
   "metadata": {},
   "outputs": [],
   "source": [
    "from gh_orgstats.stats import *"
   ]
  },
  {
   "cell_type": "code",
   "execution_count": null,
   "metadata": {},
   "outputs": [],
   "source": [
    "lwm_stats = OrgStats(GH_TOKEN, \"Living-with-machines\")"
   ]
  },
  {
   "cell_type": "code",
   "execution_count": null,
   "metadata": {},
   "outputs": [],
   "source": [
    "public_names = [repo.name for repo in lwm_stats.public_repos]"
   ]
  },
  {
   "cell_type": "markdown",
   "metadata": {},
   "source": [
    "# Repository Statistics <a class=\"anchor\" id=\"repo-stats\"></a>\n",
    "\n",
    "The rest of this document outlines some high level stats for GitHub repositories under the Living with Machines [GitHub Organization](github.com/living-with-machines)."
   ]
  },
  {
   "cell_type": "markdown",
   "metadata": {},
   "source": [
    "## Overview of repositories <a class=\"anchor\" id=\"repo-overview\"></a>\n",
    "\n",
    "Currently Living with Machines has the following public repositories: "
   ]
  },
  {
   "cell_type": "code",
   "execution_count": null,
   "metadata": {},
   "outputs": [],
   "source": [
    "df = pd.DataFrame(public_names,columns=['Repositories']); df.index +=1 \n",
    "df"
   ]
  },
  {
   "cell_type": "code",
   "execution_count": null,
   "metadata": {},
   "outputs": [],
   "source": [
    "%%markdown\n",
    "Additionaly Living with Machines has {lwm_stats.private_repo_count} private repositories which have not yet been published"
   ]
  },
  {
   "cell_type": "markdown",
   "metadata": {},
   "source": [
    "## Repository file content <a class=\"anchor\" id=\"repo-content\"></a>\n",
    "This section provides an overview of what type of content is in Living with Machines repositories by looking at the file extension counts **note that these counts are based only on default branches so will under count for private repositories**"
   ]
  },
  {
   "cell_type": "code",
   "execution_count": null,
   "metadata": {},
   "outputs": [],
   "source": [
    "df = pd.DataFrame.from_dict(lwm_stats.get_org_file_ext_frequency(\"public\"))\n",
    "df_private = pd.DataFrame.from_dict(lwm_stats.get_org_file_ext_frequency(\"private\"))"
   ]
  },
  {
   "cell_type": "code",
   "execution_count": null,
   "metadata": {},
   "outputs": [],
   "source": [
    "public_notebook_count = round(df.loc['.ipynb'].sum())\n",
    "private_notebook_count = round(df_private.loc['.ipynb'].sum())"
   ]
  },
  {
   "cell_type": "markdown",
   "metadata": {},
   "source": [
    "### Number of Jupyter notebooks\n",
    "Living with Machines has promised a particular focus on making methods available to other researchers, one way in which the project is aiming to this is through the production of Jupyter notebooks. "
   ]
  },
  {
   "cell_type": "code",
   "execution_count": null,
   "metadata": {},
   "outputs": [],
   "source": [
    "%%markdown\n",
    "Living with Machines currently has {public_notebook_count} Jupyter notebooks in public repositories and {private_notebook_count} in private repositories."
   ]
  },
  {
   "cell_type": "markdown",
   "metadata": {},
   "source": [
    "### File extensions counts by repository"
   ]
  },
  {
   "cell_type": "code",
   "execution_count": null,
   "metadata": {},
   "outputs": [],
   "source": [
    "df = pd.DataFrame.from_dict(lwm_stats.get_org_file_ext_frequency(\"public\"))\n",
    "df = df.drop(labels=['.jpg','.json'])\n",
    "df.reset_index(inplace=True)\n",
    "data = pd.melt(frame=df, id_vars=[\"index\"], value_name=\"count\")\n",
    "chart = (\n",
    "    alt.Chart(data)\n",
    "    .mark_bar()\n",
    "    .encode(\n",
    "        y=alt.Y(\n",
    "            \"index:N\",\n",
    "            title=None,\n",
    "            sort=alt.EncodingSortField(field=\"count\", order=\"descending\", op=\"sum\"),\n",
    "        ),\n",
    "        x=alt.X(\"count:Q\"),\n",
    "        color=alt.Color(\"variable:N\", title=\"Repository\"),\n",
    "        tooltip=[alt.Tooltip(\"variable:N\", title=\"Repository\"), \"count:Q\"],\n",
    "    )\n",
    "    .properties(width=WIDTH, title='File Extension Counts')\n",
    ")\n",
    "chart"
   ]
  },
  {
   "cell_type": "markdown",
   "metadata": {},
   "source": [
    "### File extensions by repository\n",
    "\n",
    "This chart shows the number and type of files for each public Living with Machines repository **note** that this only considers files on the default branch of the repository. We also don't include `.jpg` files or `.json` files since these are often used as for storing data. "
   ]
  },
  {
   "cell_type": "code",
   "execution_count": null,
   "metadata": {},
   "outputs": [],
   "source": [
    "df = pd.DataFrame.from_dict(lwm_stats.get_org_file_ext_frequency(\"public\"))\n",
    "df = df.drop(labels=['.jpg','.json'])\n",
    "df.reset_index(inplace=True)\n",
    "data = pd.melt(frame=df, id_vars=[\"index\"], value_name=\"count\")\n",
    "chart = (\n",
    "    alt.Chart(data)\n",
    "    .mark_bar()\n",
    "    .encode(\n",
    "        y=alt.Y(\n",
    "            \"variable:N\",\n",
    "            title=None,\n",
    "            sort=alt.EncodingSortField(field=\"count\", order=\"descending\", op=\"sum\"),\n",
    "        ),\n",
    "        x=alt.X(\"count:Q\", title=\"File counts\", axis=alt.Axis(tickRound=False)),\n",
    "        color=alt.Color(\"index:N\", title=\"File extension\"),\n",
    "        tooltip=[alt.Tooltip(\"index:N\", title=\"file extension\"), \"count:Q\"],\n",
    "    )\n",
    "    .properties(width=WIDTH, title='File extensions by Repository')\n",
    ")\n",
    "chart"
   ]
  },
  {
   "cell_type": "markdown",
   "metadata": {},
   "source": [
    "## Stars and Forks <a class=\"anchor\" id=\"repo-stars\"></a>\n",
    "\n",
    "[Stars](https://docs.github.com/en/free-pro-team@latest/github/getting-started-with-github/saving-repositories-with-stars) are a GitHub feature which allows registered GitHub users to 'bookmark' a repository. A GitHub [fork](https://docs.github.com/en/free-pro-team@latest/github/getting-started-with-github/fork-a-repo) indicates that someone has made a copy of the repository into their own account. Since stars and forks are only relevant for public repos we only report these below"
   ]
  },
  {
   "cell_type": "code",
   "execution_count": null,
   "metadata": {},
   "outputs": [],
   "source": [
    "df = pd.DataFrame.from_dict(lwm_stats.get_org_snapshot_stats(lwm_stats.public_repos), orient='index')\n",
    "df.loc['Total']= df.sum(numeric_only=True, axis=0)\n",
    "df"
   ]
  },
  {
   "cell_type": "markdown",
   "metadata": {},
   "source": [
    "## Views <a class=\"anchor\" id=\"repo-views\"></a>\n",
    "\n",
    "GitHub provides owners of a repository with some traffic statistics, including view stats. These are broken into 'unique' and 'total' views."
   ]
  },
  {
   "cell_type": "markdown",
   "metadata": {},
   "source": [
    "### Total Views"
   ]
  },
  {
   "cell_type": "code",
   "execution_count": null,
   "metadata": {},
   "outputs": [],
   "source": [
    "df = lwm_stats.get_org_views_traffic(public_only=True, load=True)"
   ]
  },
  {
   "cell_type": "code",
   "execution_count": null,
   "metadata": {},
   "outputs": [],
   "source": [
    "idx = pd.IndexSlice\n",
    "df = df.resample(\"W\").mean()\n",
    "total = df.loc[idx[:], idx[:,'total_views']].sum().sum()\n",
    "mean = df.loc[idx[:], idx[:,'total_views']].sum().mean()\n",
    "Markdown(f\"Living with Machines public repositories have generated {round(total)} total views to date with an average of {round(mean)} daily views\")"
   ]
  },
  {
   "cell_type": "code",
   "execution_count": null,
   "metadata": {},
   "outputs": [],
   "source": [
    "data = pd.melt(frame=df.reset_index(), id_vars=['index'],value_name='count')"
   ]
  },
  {
   "cell_type": "code",
   "execution_count": null,
   "metadata": {},
   "outputs": [],
   "source": [
    "brush = alt.selection(type=\"interval\")\n",
    "chart = (\n",
    "    alt.Chart(data)\n",
    "    .mark_area()\n",
    "    .encode(\n",
    "        x=alt.X(\"index:T\", axis=alt.Axis(tickCount=24, title=\"Date\")),\n",
    "        y=\"sum(count):Q\",\n",
    "        color=alt.Color(\"variable_0:N\", title=\"Repository\"),\n",
    "        tooltip=\"sum(count)\",\n",
    "    )\n",
    "    .transform_filter(alt.FieldEqualPredicate(field=\"variable_1\", equal=\"total_views\"))\n",
    "    .properties(width=WIDTH, title=\"Total views\")\n",
    "    .add_selection(brush)\n",
    ")\n",
    "\n",
    "bar = (\n",
    "    alt.Chart(data)\n",
    "    .mark_bar()\n",
    "    .encode(\n",
    "        y=alt.Y(\"variable_1:N\", title=None),\n",
    "        x=\"count:Q\",\n",
    "        color=alt.Color(\"variable_0:N\", title=\"Repository\"),\n",
    "    )\n",
    "    .properties(title=\"View by type\")\n",
    "    .transform_filter(brush)\n",
    ")"
   ]
  },
  {
   "cell_type": "markdown",
   "metadata": {},
   "source": [
    "## Views over time\n",
    "\n",
    "The top chart shows us the total views over time by repository, the bottom histogram breaks this down by view type"
   ]
  },
  {
   "cell_type": "code",
   "execution_count": null,
   "metadata": {},
   "outputs": [],
   "source": [
    "chart & bar"
   ]
  },
  {
   "cell_type": "markdown",
   "metadata": {},
   "source": [
    "## A breakdown of total views for each public Living with Machines repository:"
   ]
  },
  {
   "cell_type": "code",
   "execution_count": null,
   "metadata": {},
   "outputs": [],
   "source": [
    "df_total = df.loc[idx[:], idx[:,'total_views']].stack()\n",
    "df_total.index = df_total.index.droplevel(1)\n",
    "pd.DataFrame(df_total.sum().round(0).astype(int),columns=['total_views'])"
   ]
  },
  {
   "cell_type": "markdown",
   "metadata": {},
   "source": [
    "### Unique views\n",
    "Unique views aim to not count the same person visiting a repository multiple times"
   ]
  },
  {
   "cell_type": "code",
   "execution_count": null,
   "metadata": {},
   "outputs": [],
   "source": [
    "idx = pd.IndexSlice"
   ]
  },
  {
   "cell_type": "code",
   "execution_count": null,
   "metadata": {},
   "outputs": [],
   "source": [
    "total = df.loc[idx[:], idx[:,'unique_views']].sum().sum()\n",
    "mean = df.loc[idx[:], idx[:,'unique_views']].sum().mean()\n",
    "Markdown(f\"Living with Machines public repositories have generated {round(total)} unique views to date with an average of {round(mean)} daily views per repository\")"
   ]
  },
  {
   "cell_type": "markdown",
   "metadata": {},
   "source": [
    "### A breakdown of total unique views for each public Living with Machines repository:"
   ]
  },
  {
   "cell_type": "code",
   "execution_count": null,
   "metadata": {},
   "outputs": [],
   "source": [
    "df = df.loc[idx[:], idx[:,'unique_views']].stack()\n",
    "df.index = df.index.droplevel(1)\n",
    "pd.DataFrame(df.sum().round(0).astype(int),columns=['unique_views'])"
   ]
  },
  {
   "cell_type": "markdown",
   "metadata": {},
   "source": [
    "### Mean views by day of week "
   ]
  },
  {
   "cell_type": "code",
   "execution_count": null,
   "metadata": {},
   "outputs": [],
   "source": [
    "df = lwm_stats.get_org_views_traffic(public_only=True, load=True)\n",
    "df = df.resample(\"2D\").mean()\n",
    "data = pd.melt(frame=df.reset_index(), id_vars=['index'],value_name='count')\n",
    "alt.Chart(data).mark_bar().encode(\n",
    "    x=\"mean(count)\",\n",
    "    y=alt.Y(\"day(index):O\", title=\"Day\"),\n",
    "    color=alt.Color(\"variable_1\", title=\"View type\"),\n",
    ").properties(width=WIDTH, title=\"Mean views by Day\")\n"
   ]
  },
  {
   "cell_type": "markdown",
   "metadata": {},
   "source": [
    "## Clones <a class=\"anchor\" id=\"repo-clones\"></a>\n",
    "\n",
    "Clones indicate how often a repository is 'downloaded' from GitHub:\n",
    "> [Cloning a repository pulls down a full copy of all the repository data that GitHub has at that point in time, including all versions of every file and folder for the project.](https://docs.github.com/en/free-pro-team@latest/github/creating-cloning-and-archiving-repositories/cloning-a-repository)\n",
    "\n",
    "Clones are on way in which we may also be able to assess whether people are making use of a repository. Like views, clones are also broken down into unique and total values. "
   ]
  },
  {
   "cell_type": "markdown",
   "metadata": {},
   "source": [
    "### Total Clones"
   ]
  },
  {
   "cell_type": "code",
   "execution_count": null,
   "metadata": {},
   "outputs": [],
   "source": [
    "df = lwm_stats.get_org_clones_traffic(public_only=True, load=True)"
   ]
  },
  {
   "cell_type": "code",
   "execution_count": null,
   "metadata": {},
   "outputs": [],
   "source": [
    "total = df.loc[idx[:], idx[:,'total_clones']].sum().sum()\n",
    "mean = df.loc[idx[:], idx[:,'total_clones']].sum().mean()\n",
    "Markdown(f\"Living with Machines public repositories have generated {round(total)} clones to date with an average of {round(mean)} daily clones\")"
   ]
  },
  {
   "cell_type": "markdown",
   "metadata": {},
   "source": [
    "## Total clones over time across all repositories "
   ]
  },
  {
   "cell_type": "code",
   "execution_count": null,
   "metadata": {},
   "outputs": [],
   "source": [
    "df = lwm_stats.get_org_clones_traffic(public_only=True, load=True)\n",
    "df = df.resample(\"2D\").mean()\n",
    "data = pd.melt(frame=df.reset_index(), id_vars=['index'],value_name='count')"
   ]
  },
  {
   "cell_type": "code",
   "execution_count": null,
   "metadata": {},
   "outputs": [],
   "source": [
    "brush = alt.selection(type=\"interval\")\n",
    "chart = (\n",
    "    alt.Chart(data)\n",
    "    .mark_area()\n",
    "    .encode(\n",
    "        x=alt.X(\"index:T\", axis=alt.Axis(tickCount=24, title=\"Date\")),\n",
    "        y=\"sum(count):Q\",\n",
    "        color=alt.Color(\"variable_0:N\", title=\"Repository\"),\n",
    "     \n",
    "    )\n",
    "    .transform_filter(alt.FieldEqualPredicate(field=\"variable_1\", equal=\"total_clones\"))\n",
    "    .properties(width=WIDTH, title=\"Total clones\")\n",
    "    .add_selection(brush)\n",
    ")\n",
    "\n",
    "bar = (\n",
    "    alt.Chart(data)\n",
    "    .mark_bar()\n",
    "    .encode(\n",
    "        y=alt.Y(\"variable_1:N\", title=None),\n",
    "        x=\"count:Q\",\n",
    "        color=alt.Color(\"variable_0:N\", title=\"Repository\"),tooltip=\"count:Q\"\n",
    "    )\n",
    "    .properties(title=\"Clons by type\")\n",
    "    .transform_filter(brush)\n",
    ")\n",
    "\n",
    "chart & bar"
   ]
  },
  {
   "cell_type": "markdown",
   "metadata": {},
   "source": [
    "### Total clones counts by repository "
   ]
  },
  {
   "cell_type": "code",
   "execution_count": null,
   "metadata": {},
   "outputs": [],
   "source": [
    "df = lwm_stats.get_org_clones_traffic(public_only=True, load=True)\n",
    "pd.DataFrame(df.sum().round(0).astype(int),columns=['Clone counts'])"
   ]
  },
  {
   "cell_type": "code",
   "execution_count": null,
   "metadata": {},
   "outputs": [],
   "source": [
    "df = df.resample(\"2D\").mean()"
   ]
  },
  {
   "cell_type": "markdown",
   "metadata": {},
   "source": [
    "### Mean clones by day of week"
   ]
  },
  {
   "cell_type": "code",
   "execution_count": null,
   "metadata": {
    "tags": []
   },
   "outputs": [],
   "source": [
    "data = pd.melt(frame=df.reset_index(), id_vars=['index'],value_name='count')\n",
    "alt.Chart(data).mark_bar().encode(\n",
    "    x=\"mean(count)\",\n",
    "    y=alt.Y(\"day(index):O\", title=\"Day\"),\n",
    "    color=alt.Color(\"variable_1\", title=\"Clone type\"),\n",
    ").properties(width=WIDTH, title=\"Mean clones by Day\")"
   ]
  }
 ],
 "metadata": {
  "kernelspec": {
   "display_name": "Python 3",
   "language": "python",
   "name": "python3"
  },
  "language_info": {
   "codemirror_mode": {
    "name": "ipython",
    "version": 3
   },
   "file_extension": ".py",
   "mimetype": "text/x-python",
   "name": "python",
   "nbconvert_exporter": "python",
   "pygments_lexer": "ipython3",
   "version": "3.8.5"
  }
 },
 "nbformat": 4,
 "nbformat_minor": 4
}
